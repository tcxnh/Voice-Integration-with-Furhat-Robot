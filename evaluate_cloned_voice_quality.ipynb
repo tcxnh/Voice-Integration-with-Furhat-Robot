{
 "cells": [
  {
   "cell_type": "markdown",
   "metadata": {},
   "source": [
    "### Evaluate the Quality of Cloned Voice, will longer audio length produce better result?\n"
   ]
  },
  {
   "cell_type": "code",
   "execution_count": 19,
   "metadata": {},
   "outputs": [],
   "source": [
    "import librosa\n",
    "import numpy as np\n",
    "from sklearn.metrics import mean_squared_error\n",
    "from scipy.spatial.distance import cdist"
   ]
  },
  {
   "cell_type": "code",
   "execution_count": 20,
   "metadata": {},
   "outputs": [],
   "source": [
    "# 1. Naturalness\n",
    "# Load the sample speech and generated speech\n",
    "\n",
    "def score(sample_speech, generated_speech):\n",
    "    sample_speech, sr = librosa.load(sample_speech)\n",
    "    generated_speech, sr = librosa.load(generated_speech)\n",
    "    min_length = min(len(sample_speech), len(generated_speech))\n",
    "    sample_speech = sample_speech[:min_length]\n",
    "    generated_speech = generated_speech[:min_length]\n",
    "\n",
    "    mel_sample = librosa.feature.melspectrogram(y=sample_speech, sr=sr)\n",
    "    mel_generated = librosa.feature.melspectrogram(y=generated_speech, sr=sr)\n",
    "    mel_distortion = mean_squared_error(mel_sample, mel_generated)\n",
    "    print(f\"Mel-cepstral distortion (lower is better): {mel_distortion:.4f}\")\n",
    "    return mel_distortion"
   ]
  },
  {
   "cell_type": "code",
   "execution_count": 21,
   "metadata": {},
   "outputs": [
    {
     "name": "stdout",
     "output_type": "stream",
     "text": [
      "Mel-cepstral distortion (lower is better): 294.5884\n"
     ]
    },
    {
     "data": {
      "text/plain": [
       "294.58838"
      ]
     },
     "execution_count": 21,
     "metadata": {},
     "output_type": "execute_result"
    }
   ],
   "source": [
    "score(\"voice_samples/steven/10.wav\",\"voice_samples/zoe/10.wav\")"
   ]
  },
  {
   "cell_type": "code",
   "execution_count": 22,
   "metadata": {},
   "outputs": [],
   "source": [
    "from generate_cloned_voice import generate_cloned_voice"
   ]
  },
  {
   "cell_type": "code",
   "execution_count": 23,
   "metadata": {},
   "outputs": [
    {
     "name": "stdout",
     "output_type": "stream",
     "text": [
      "Mel-cepstral distortion (lower is better): 154.0769\n"
     ]
    }
   ],
   "source": [
    "text = \"True leadership means empowering others. It's about inspiring people to achieve their full potential and creating an environment where everyone can succeed.\"\n",
    "naturalness_various_input_audio_length_steven = []\n",
    "naturalness_various_input_audio_length_zoe = []\n",
    "naturalness_various_input_audio_length_jeff = []\n",
    "naturalness_various_input_audio_length_yingqi = []\n",
    "\n",
    "audiolist_steven = [\"voice_samples/steven/10.wav\", \"voice_samples/steven/16.wav\", \"voice_samples/steven/18.wav\", \"voice_samples/steven/19.wav\",\n",
    "                    \"voice_samples/steven/35.wav\", \"voice_samples/steven/106.wav\"] \n",
    "audiolist_zoe = [\"voice_samples/zoe/10.wav\", \"voice_samples/zoe/13.wav\", \"voice_samples/zoe/18.wav\", \"voice_samples/zoe/21.wav\",\n",
    "                 \"voice_samples/zoe/33.wav\", \"voice_samples/zoe/117.wav\"]\n",
    "audiolist_jeff = [\"voice_samples/jeff/10.wav\", \"voice_samples/jeff/15.wav\", \"voice_samples/jeff/19.wav\", \"voice_samples/jeff/22.wav\",\n",
    "                  \"voice_samples/jeff/34.wav\",\"voice_samples/jeff/104.wav\"]\n",
    "audiolist_yingqi = [\"voice_samples/yingqi/10.wav\",\"voice_samples/yingqi/14.wav\", \"voice_samples/yingqi/16.wav\", \"voice_samples/yingqi/21.wav\",\n",
    "                    \"voice_samples/yingqi/33.wav\", \"voice_samples/yingqi/121.wav\"]\n",
    "\n",
    "audio_lengths_steven = [10,16,18,19,35,106]\n",
    "audio_lengths_zoe = [10,13,18,21,33,117]\n",
    "audio_lengths_jeff = [10,15,19,22,34,104]\n",
    "audio_lengths_yingqi = [10,14,16,21,33,121]\n",
    "\n",
    "score(audiolist_steven[0], \"outputs/output_en_default.wav\")\n",
    "\n",
    "def naturalness_for_audiolst(text,scorelst, audiolst):\n",
    "    sample_speech= audiolst[0]\n",
    "    for audio in audiolst:\n",
    "        generate_cloned_voice(audio,text)\n",
    "        naturalness = score(sample_speech, \"outputs/output_en_default.wav\")\n",
    "        scorelst.append(naturalness)\n",
    "    print(scorelst)    \n",
    "    return scorelst"
   ]
  },
  {
   "cell_type": "code",
   "execution_count": 24,
   "metadata": {},
   "outputs": [
    {
     "name": "stderr",
     "output_type": "stream",
     "text": [
      "/opt/anaconda3/envs/openvoice/lib/python3.9/site-packages/torch/nn/utils/weight_norm.py:28: UserWarning: torch.nn.utils.weight_norm is deprecated in favor of torch.nn.utils.parametrizations.weight_norm.\n",
      "  warnings.warn(\"torch.nn.utils.weight_norm is deprecated in favor of torch.nn.utils.parametrizations.weight_norm.\")\n"
     ]
    },
    {
     "name": "stdout",
     "output_type": "stream",
     "text": [
      "Loaded checkpoint 'checkpoints/base_speakers/EN/checkpoint.pth'\n",
      "missing/unexpected keys: [] []\n",
      "Loaded checkpoint 'checkpoints/converter/checkpoint.pth'\n",
      "missing/unexpected keys: [] []\n",
      "OpenVoice version: v1\n",
      "[(0.0, 10.112)]\n",
      "after vad: dur = 10.112\n",
      " > Text splitted to sentences.\n",
      "True leadership means empowering others. It's about inspiring people to achieve their full potential and creating an environment where everyone can succeed.\n",
      " > ===========================\n",
      "tɹu ˈlidəɹˌʃɪp minz ɪmˈpaʊəɹɪŋ ˈəðəɹz. ɪts əˈbaʊt ˌɪnˈspaɪəɹɪŋ ˈpipəɫ tɪ əˈtʃiv ðɛɹ fʊɫ pəˈtɛnʃəɫ ənd kɹiˈeɪtɪŋ ən ɪnˈvaɪɹənmənt wɛɹ ˈɛvɹiˌwən kən səkˈsid.\n",
      " length:155\n",
      " length:155\n",
      "Cloned Voice Generated!\n",
      "Mel-cepstral distortion (lower is better): 123.8079\n"
     ]
    },
    {
     "name": "stderr",
     "output_type": "stream",
     "text": [
      "/opt/anaconda3/envs/openvoice/lib/python3.9/site-packages/torch/nn/utils/weight_norm.py:28: UserWarning: torch.nn.utils.weight_norm is deprecated in favor of torch.nn.utils.parametrizations.weight_norm.\n",
      "  warnings.warn(\"torch.nn.utils.weight_norm is deprecated in favor of torch.nn.utils.parametrizations.weight_norm.\")\n"
     ]
    },
    {
     "name": "stdout",
     "output_type": "stream",
     "text": [
      "Loaded checkpoint 'checkpoints/base_speakers/EN/checkpoint.pth'\n",
      "missing/unexpected keys: [] []\n",
      "Loaded checkpoint 'checkpoints/converter/checkpoint.pth'\n",
      "missing/unexpected keys: [] []\n",
      "OpenVoice version: v1\n",
      "[(0.0, 16.4266875)]\n",
      "after vad: dur = 16.426\n",
      " > Text splitted to sentences.\n",
      "True leadership means empowering others. It's about inspiring people to achieve their full potential and creating an environment where everyone can succeed.\n",
      " > ===========================\n",
      "tɹu ˈlidəɹˌʃɪp minz ɪmˈpaʊəɹɪŋ ˈəðəɹz. ɪts əˈbaʊt ˌɪnˈspaɪəɹɪŋ ˈpipəɫ tɪ əˈtʃiv ðɛɹ fʊɫ pəˈtɛnʃəɫ ənd kɹiˈeɪtɪŋ ən ɪnˈvaɪɹənmənt wɛɹ ˈɛvɹiˌwən kən səkˈsid.\n",
      " length:155\n",
      " length:155\n",
      "Cloned Voice Generated!\n",
      "Mel-cepstral distortion (lower is better): 129.6228\n"
     ]
    },
    {
     "name": "stderr",
     "output_type": "stream",
     "text": [
      "/opt/anaconda3/envs/openvoice/lib/python3.9/site-packages/torch/nn/utils/weight_norm.py:28: UserWarning: torch.nn.utils.weight_norm is deprecated in favor of torch.nn.utils.parametrizations.weight_norm.\n",
      "  warnings.warn(\"torch.nn.utils.weight_norm is deprecated in favor of torch.nn.utils.parametrizations.weight_norm.\")\n"
     ]
    },
    {
     "name": "stdout",
     "output_type": "stream",
     "text": [
      "Loaded checkpoint 'checkpoints/base_speakers/EN/checkpoint.pth'\n",
      "missing/unexpected keys: [] []\n",
      "Loaded checkpoint 'checkpoints/converter/checkpoint.pth'\n",
      "missing/unexpected keys: [] []\n",
      "OpenVoice version: v1\n",
      "[(0.0, 18.944)]\n",
      "after vad: dur = 18.944\n",
      " > Text splitted to sentences.\n",
      "True leadership means empowering others. It's about inspiring people to achieve their full potential and creating an environment where everyone can succeed.\n",
      " > ===========================\n",
      "tɹu ˈlidəɹˌʃɪp minz ɪmˈpaʊəɹɪŋ ˈəðəɹz. ɪts əˈbaʊt ˌɪnˈspaɪəɹɪŋ ˈpipəɫ tɪ əˈtʃiv ðɛɹ fʊɫ pəˈtɛnʃəɫ ənd kɹiˈeɪtɪŋ ən ɪnˈvaɪɹənmənt wɛɹ ˈɛvɹiˌwən kən səkˈsid.\n",
      " length:155\n",
      " length:155\n",
      "Cloned Voice Generated!\n",
      "Mel-cepstral distortion (lower is better): 115.2747\n"
     ]
    },
    {
     "name": "stderr",
     "output_type": "stream",
     "text": [
      "/opt/anaconda3/envs/openvoice/lib/python3.9/site-packages/torch/nn/utils/weight_norm.py:28: UserWarning: torch.nn.utils.weight_norm is deprecated in favor of torch.nn.utils.parametrizations.weight_norm.\n",
      "  warnings.warn(\"torch.nn.utils.weight_norm is deprecated in favor of torch.nn.utils.parametrizations.weight_norm.\")\n"
     ]
    },
    {
     "name": "stdout",
     "output_type": "stream",
     "text": [
      "Loaded checkpoint 'checkpoints/base_speakers/EN/checkpoint.pth'\n",
      "missing/unexpected keys: [] []\n",
      "Loaded checkpoint 'checkpoints/converter/checkpoint.pth'\n",
      "missing/unexpected keys: [] []\n",
      "OpenVoice version: v1\n",
      "[(0.0, 19.584)]\n",
      "after vad: dur = 19.584\n",
      " > Text splitted to sentences.\n",
      "True leadership means empowering others. It's about inspiring people to achieve their full potential and creating an environment where everyone can succeed.\n",
      " > ===========================\n",
      "tɹu ˈlidəɹˌʃɪp minz ɪmˈpaʊəɹɪŋ ˈəðəɹz. ɪts əˈbaʊt ˌɪnˈspaɪəɹɪŋ ˈpipəɫ tɪ əˈtʃiv ðɛɹ fʊɫ pəˈtɛnʃəɫ ənd kɹiˈeɪtɪŋ ən ɪnˈvaɪɹənmənt wɛɹ ˈɛvɹiˌwən kən səkˈsid.\n",
      " length:155\n",
      " length:155\n",
      "Cloned Voice Generated!\n",
      "Mel-cepstral distortion (lower is better): 112.0884\n"
     ]
    },
    {
     "name": "stderr",
     "output_type": "stream",
     "text": [
      "/opt/anaconda3/envs/openvoice/lib/python3.9/site-packages/torch/nn/utils/weight_norm.py:28: UserWarning: torch.nn.utils.weight_norm is deprecated in favor of torch.nn.utils.parametrizations.weight_norm.\n",
      "  warnings.warn(\"torch.nn.utils.weight_norm is deprecated in favor of torch.nn.utils.parametrizations.weight_norm.\")\n"
     ]
    },
    {
     "name": "stdout",
     "output_type": "stream",
     "text": [
      "Loaded checkpoint 'checkpoints/base_speakers/EN/checkpoint.pth'\n",
      "missing/unexpected keys: [] []\n",
      "Loaded checkpoint 'checkpoints/converter/checkpoint.pth'\n",
      "missing/unexpected keys: [] []\n",
      "OpenVoice version: v1\n",
      "[(0.0, 35.3066875)]\n",
      "after vad: dur = 35.306\n",
      " > Text splitted to sentences.\n",
      "True leadership means empowering others. It's about inspiring people to achieve their full potential and creating an environment where everyone can succeed.\n",
      " > ===========================\n",
      "tɹu ˈlidəɹˌʃɪp minz ɪmˈpaʊəɹɪŋ ˈəðəɹz. ɪts əˈbaʊt ˌɪnˈspaɪəɹɪŋ ˈpipəɫ tɪ əˈtʃiv ðɛɹ fʊɫ pəˈtɛnʃəɫ ənd kɹiˈeɪtɪŋ ən ɪnˈvaɪɹənmənt wɛɹ ˈɛvɹiˌwən kən səkˈsid.\n",
      " length:155\n",
      " length:155\n",
      "Cloned Voice Generated!\n",
      "Mel-cepstral distortion (lower is better): 124.7269\n"
     ]
    },
    {
     "name": "stderr",
     "output_type": "stream",
     "text": [
      "/opt/anaconda3/envs/openvoice/lib/python3.9/site-packages/torch/nn/utils/weight_norm.py:28: UserWarning: torch.nn.utils.weight_norm is deprecated in favor of torch.nn.utils.parametrizations.weight_norm.\n",
      "  warnings.warn(\"torch.nn.utils.weight_norm is deprecated in favor of torch.nn.utils.parametrizations.weight_norm.\")\n"
     ]
    },
    {
     "name": "stdout",
     "output_type": "stream",
     "text": [
      "Loaded checkpoint 'checkpoints/base_speakers/EN/checkpoint.pth'\n",
      "missing/unexpected keys: [] []\n",
      "Loaded checkpoint 'checkpoints/converter/checkpoint.pth'\n",
      "missing/unexpected keys: [] []\n",
      "OpenVoice version: v1\n",
      "[(0.0, 106.1546875)]\n",
      "after vad: dur = 106.154\n",
      " > Text splitted to sentences.\n",
      "True leadership means empowering others. It's about inspiring people to achieve their full potential and creating an environment where everyone can succeed.\n",
      " > ===========================\n",
      "tɹu ˈlidəɹˌʃɪp minz ɪmˈpaʊəɹɪŋ ˈəðəɹz. ɪts əˈbaʊt ˌɪnˈspaɪəɹɪŋ ˈpipəɫ tɪ əˈtʃiv ðɛɹ fʊɫ pəˈtɛnʃəɫ ənd kɹiˈeɪtɪŋ ən ɪnˈvaɪɹənmənt wɛɹ ˈɛvɹiˌwən kən səkˈsid.\n",
      " length:155\n",
      " length:155\n",
      "Cloned Voice Generated!\n",
      "Mel-cepstral distortion (lower is better): 109.8062\n",
      "[123.80794, 129.62279, 115.27475, 112.08842, 124.72689, 109.80621]\n"
     ]
    },
    {
     "name": "stderr",
     "output_type": "stream",
     "text": [
      "/opt/anaconda3/envs/openvoice/lib/python3.9/site-packages/torch/nn/utils/weight_norm.py:28: UserWarning: torch.nn.utils.weight_norm is deprecated in favor of torch.nn.utils.parametrizations.weight_norm.\n",
      "  warnings.warn(\"torch.nn.utils.weight_norm is deprecated in favor of torch.nn.utils.parametrizations.weight_norm.\")\n"
     ]
    },
    {
     "name": "stdout",
     "output_type": "stream",
     "text": [
      "Loaded checkpoint 'checkpoints/base_speakers/EN/checkpoint.pth'\n",
      "missing/unexpected keys: [] []\n",
      "Loaded checkpoint 'checkpoints/converter/checkpoint.pth'\n",
      "missing/unexpected keys: [] []\n",
      "OpenVoice version: v1\n",
      "[(0.0, 9.152)]\n",
      "after vad: dur = 9.152\n",
      " > Text splitted to sentences.\n",
      "True leadership means empowering others. It's about inspiring people to achieve their full potential and creating an environment where everyone can succeed.\n",
      " > ===========================\n",
      "tɹu ˈlidəɹˌʃɪp minz ɪmˈpaʊəɹɪŋ ˈəðəɹz. ɪts əˈbaʊt ˌɪnˈspaɪəɹɪŋ ˈpipəɫ tɪ əˈtʃiv ðɛɹ fʊɫ pəˈtɛnʃəɫ ənd kɹiˈeɪtɪŋ ən ɪnˈvaɪɹənmənt wɛɹ ˈɛvɹiˌwən kən səkˈsid.\n",
      " length:155\n",
      " length:155\n",
      "Cloned Voice Generated!\n",
      "Mel-cepstral distortion (lower is better): 13.0912\n"
     ]
    },
    {
     "name": "stderr",
     "output_type": "stream",
     "text": [
      "/opt/anaconda3/envs/openvoice/lib/python3.9/site-packages/torch/nn/utils/weight_norm.py:28: UserWarning: torch.nn.utils.weight_norm is deprecated in favor of torch.nn.utils.parametrizations.weight_norm.\n",
      "  warnings.warn(\"torch.nn.utils.weight_norm is deprecated in favor of torch.nn.utils.parametrizations.weight_norm.\")\n"
     ]
    },
    {
     "name": "stdout",
     "output_type": "stream",
     "text": [
      "Loaded checkpoint 'checkpoints/base_speakers/EN/checkpoint.pth'\n",
      "missing/unexpected keys: [] []\n",
      "Loaded checkpoint 'checkpoints/converter/checkpoint.pth'\n",
      "missing/unexpected keys: [] []\n",
      "OpenVoice version: v1\n",
      "[(0.206, 15.0613125)]\n",
      "after vad: dur = 14.855\n",
      " > Text splitted to sentences.\n",
      "True leadership means empowering others. It's about inspiring people to achieve their full potential and creating an environment where everyone can succeed.\n",
      " > ===========================\n",
      "tɹu ˈlidəɹˌʃɪp minz ɪmˈpaʊəɹɪŋ ˈəðəɹz. ɪts əˈbaʊt ˌɪnˈspaɪəɹɪŋ ˈpipəɫ tɪ əˈtʃiv ðɛɹ fʊɫ pəˈtɛnʃəɫ ənd kɹiˈeɪtɪŋ ən ɪnˈvaɪɹənmənt wɛɹ ˈɛvɹiˌwən kən səkˈsid.\n",
      " length:155\n",
      " length:155\n",
      "Cloned Voice Generated!\n",
      "Mel-cepstral distortion (lower is better): 13.8155\n"
     ]
    },
    {
     "name": "stderr",
     "output_type": "stream",
     "text": [
      "/opt/anaconda3/envs/openvoice/lib/python3.9/site-packages/torch/nn/utils/weight_norm.py:28: UserWarning: torch.nn.utils.weight_norm is deprecated in favor of torch.nn.utils.parametrizations.weight_norm.\n",
      "  warnings.warn(\"torch.nn.utils.weight_norm is deprecated in favor of torch.nn.utils.parametrizations.weight_norm.\")\n"
     ]
    },
    {
     "name": "stdout",
     "output_type": "stream",
     "text": [
      "Loaded checkpoint 'checkpoints/base_speakers/EN/checkpoint.pth'\n",
      "missing/unexpected keys: [] []\n",
      "Loaded checkpoint 'checkpoints/converter/checkpoint.pth'\n",
      "missing/unexpected keys: [] []\n",
      "OpenVoice version: v1\n",
      "[(0.0, 19.8613125)]\n",
      "after vad: dur = 19.861\n",
      " > Text splitted to sentences.\n",
      "True leadership means empowering others. It's about inspiring people to achieve their full potential and creating an environment where everyone can succeed.\n",
      " > ===========================\n",
      "tɹu ˈlidəɹˌʃɪp minz ɪmˈpaʊəɹɪŋ ˈəðəɹz. ɪts əˈbaʊt ˌɪnˈspaɪəɹɪŋ ˈpipəɫ tɪ əˈtʃiv ðɛɹ fʊɫ pəˈtɛnʃəɫ ənd kɹiˈeɪtɪŋ ən ɪnˈvaɪɹənmənt wɛɹ ˈɛvɹiˌwən kən səkˈsid.\n",
      " length:155\n",
      " length:155\n",
      "Cloned Voice Generated!\n",
      "Mel-cepstral distortion (lower is better): 23.2169\n"
     ]
    },
    {
     "name": "stderr",
     "output_type": "stream",
     "text": [
      "/opt/anaconda3/envs/openvoice/lib/python3.9/site-packages/torch/nn/utils/weight_norm.py:28: UserWarning: torch.nn.utils.weight_norm is deprecated in favor of torch.nn.utils.parametrizations.weight_norm.\n",
      "  warnings.warn(\"torch.nn.utils.weight_norm is deprecated in favor of torch.nn.utils.parametrizations.weight_norm.\")\n"
     ]
    },
    {
     "name": "stdout",
     "output_type": "stream",
     "text": [
      "Loaded checkpoint 'checkpoints/base_speakers/EN/checkpoint.pth'\n",
      "missing/unexpected keys: [] []\n",
      "Loaded checkpoint 'checkpoints/converter/checkpoint.pth'\n",
      "missing/unexpected keys: [] []\n",
      "OpenVoice version: v1\n",
      "[(0.238, 22.9546875)]\n",
      "after vad: dur = 22.716\n",
      " > Text splitted to sentences.\n",
      "True leadership means empowering others. It's about inspiring people to achieve their full potential and creating an environment where everyone can succeed.\n",
      " > ===========================\n",
      "tɹu ˈlidəɹˌʃɪp minz ɪmˈpaʊəɹɪŋ ˈəðəɹz. ɪts əˈbaʊt ˌɪnˈspaɪəɹɪŋ ˈpipəɫ tɪ əˈtʃiv ðɛɹ fʊɫ pəˈtɛnʃəɫ ənd kɹiˈeɪtɪŋ ən ɪnˈvaɪɹənmənt wɛɹ ˈɛvɹiˌwən kən səkˈsid.\n",
      " length:155\n",
      " length:155\n",
      "Cloned Voice Generated!\n",
      "Mel-cepstral distortion (lower is better): 22.3659\n"
     ]
    },
    {
     "name": "stderr",
     "output_type": "stream",
     "text": [
      "/opt/anaconda3/envs/openvoice/lib/python3.9/site-packages/torch/nn/utils/weight_norm.py:28: UserWarning: torch.nn.utils.weight_norm is deprecated in favor of torch.nn.utils.parametrizations.weight_norm.\n",
      "  warnings.warn(\"torch.nn.utils.weight_norm is deprecated in favor of torch.nn.utils.parametrizations.weight_norm.\")\n"
     ]
    },
    {
     "name": "stdout",
     "output_type": "stream",
     "text": [
      "Loaded checkpoint 'checkpoints/base_speakers/EN/checkpoint.pth'\n",
      "missing/unexpected keys: [] []\n",
      "Loaded checkpoint 'checkpoints/converter/checkpoint.pth'\n",
      "missing/unexpected keys: [] []\n",
      "OpenVoice version: v1\n",
      "[(0.078, 34.304)]\n",
      "after vad: dur = 34.226\n",
      " > Text splitted to sentences.\n",
      "True leadership means empowering others. It's about inspiring people to achieve their full potential and creating an environment where everyone can succeed.\n",
      " > ===========================\n",
      "tɹu ˈlidəɹˌʃɪp minz ɪmˈpaʊəɹɪŋ ˈəðəɹz. ɪts əˈbaʊt ˌɪnˈspaɪəɹɪŋ ˈpipəɫ tɪ əˈtʃiv ðɛɹ fʊɫ pəˈtɛnʃəɫ ənd kɹiˈeɪtɪŋ ən ɪnˈvaɪɹənmənt wɛɹ ˈɛvɹiˌwən kən səkˈsid.\n",
      " length:155\n",
      " length:155\n",
      "Cloned Voice Generated!\n",
      "Mel-cepstral distortion (lower is better): 11.7393\n"
     ]
    },
    {
     "name": "stderr",
     "output_type": "stream",
     "text": [
      "/opt/anaconda3/envs/openvoice/lib/python3.9/site-packages/torch/nn/utils/weight_norm.py:28: UserWarning: torch.nn.utils.weight_norm is deprecated in favor of torch.nn.utils.parametrizations.weight_norm.\n",
      "  warnings.warn(\"torch.nn.utils.weight_norm is deprecated in favor of torch.nn.utils.parametrizations.weight_norm.\")\n"
     ]
    },
    {
     "name": "stdout",
     "output_type": "stream",
     "text": [
      "Loaded checkpoint 'checkpoints/base_speakers/EN/checkpoint.pth'\n",
      "missing/unexpected keys: [] []\n",
      "Loaded checkpoint 'checkpoints/converter/checkpoint.pth'\n",
      "missing/unexpected keys: [] []\n",
      "OpenVoice version: v1\n",
      "[(0.0, 62.674), (62.798, 104.384)]\n",
      "after vad: dur = 104.26\n",
      " > Text splitted to sentences.\n",
      "True leadership means empowering others. It's about inspiring people to achieve their full potential and creating an environment where everyone can succeed.\n",
      " > ===========================\n",
      "tɹu ˈlidəɹˌʃɪp minz ɪmˈpaʊəɹɪŋ ˈəðəɹz. ɪts əˈbaʊt ˌɪnˈspaɪəɹɪŋ ˈpipəɫ tɪ əˈtʃiv ðɛɹ fʊɫ pəˈtɛnʃəɫ ənd kɹiˈeɪtɪŋ ən ɪnˈvaɪɹənmənt wɛɹ ˈɛvɹiˌwən kən səkˈsid.\n",
      " length:155\n",
      " length:155\n",
      "Cloned Voice Generated!\n",
      "Mel-cepstral distortion (lower is better): 22.7371\n",
      "[13.091171, 13.815471, 23.216948, 22.365873, 11.739342, 22.737095]\n"
     ]
    },
    {
     "name": "stderr",
     "output_type": "stream",
     "text": [
      "/opt/anaconda3/envs/openvoice/lib/python3.9/site-packages/torch/nn/utils/weight_norm.py:28: UserWarning: torch.nn.utils.weight_norm is deprecated in favor of torch.nn.utils.parametrizations.weight_norm.\n",
      "  warnings.warn(\"torch.nn.utils.weight_norm is deprecated in favor of torch.nn.utils.parametrizations.weight_norm.\")\n"
     ]
    },
    {
     "name": "stdout",
     "output_type": "stream",
     "text": [
      "Loaded checkpoint 'checkpoints/base_speakers/EN/checkpoint.pth'\n",
      "missing/unexpected keys: [] []\n",
      "Loaded checkpoint 'checkpoints/converter/checkpoint.pth'\n",
      "missing/unexpected keys: [] []\n",
      "OpenVoice version: v1\n",
      "[(0.0, 10.0906875)]\n",
      "after vad: dur = 10.09\n",
      " > Text splitted to sentences.\n",
      "True leadership means empowering others. It's about inspiring people to achieve their full potential and creating an environment where everyone can succeed.\n",
      " > ===========================\n",
      "tɹu ˈlidəɹˌʃɪp minz ɪmˈpaʊəɹɪŋ ˈəðəɹz. ɪts əˈbaʊt ˌɪnˈspaɪəɹɪŋ ˈpipəɫ tɪ əˈtʃiv ðɛɹ fʊɫ pəˈtɛnʃəɫ ənd kɹiˈeɪtɪŋ ən ɪnˈvaɪɹənmənt wɛɹ ˈɛvɹiˌwən kən səkˈsid.\n",
      " length:155\n",
      " length:155\n",
      "Cloned Voice Generated!\n",
      "Mel-cepstral distortion (lower is better): 101.2665\n"
     ]
    },
    {
     "name": "stderr",
     "output_type": "stream",
     "text": [
      "/opt/anaconda3/envs/openvoice/lib/python3.9/site-packages/torch/nn/utils/weight_norm.py:28: UserWarning: torch.nn.utils.weight_norm is deprecated in favor of torch.nn.utils.parametrizations.weight_norm.\n",
      "  warnings.warn(\"torch.nn.utils.weight_norm is deprecated in favor of torch.nn.utils.parametrizations.weight_norm.\")\n"
     ]
    },
    {
     "name": "stdout",
     "output_type": "stream",
     "text": [
      "Loaded checkpoint 'checkpoints/base_speakers/EN/checkpoint.pth'\n",
      "missing/unexpected keys: [] []\n",
      "Loaded checkpoint 'checkpoints/converter/checkpoint.pth'\n",
      "missing/unexpected keys: [] []\n",
      "OpenVoice version: v1\n",
      "[(0.0, 13.298)]\n",
      "after vad: dur = 13.298\n",
      " > Text splitted to sentences.\n",
      "True leadership means empowering others. It's about inspiring people to achieve their full potential and creating an environment where everyone can succeed.\n",
      " > ===========================\n",
      "tɹu ˈlidəɹˌʃɪp minz ɪmˈpaʊəɹɪŋ ˈəðəɹz. ɪts əˈbaʊt ˌɪnˈspaɪəɹɪŋ ˈpipəɫ tɪ əˈtʃiv ðɛɹ fʊɫ pəˈtɛnʃəɫ ənd kɹiˈeɪtɪŋ ən ɪnˈvaɪɹənmənt wɛɹ ˈɛvɹiˌwən kən səkˈsid.\n",
      " length:155\n",
      " length:155\n",
      "Cloned Voice Generated!\n",
      "Mel-cepstral distortion (lower is better): 83.0111\n"
     ]
    },
    {
     "name": "stderr",
     "output_type": "stream",
     "text": [
      "/opt/anaconda3/envs/openvoice/lib/python3.9/site-packages/torch/nn/utils/weight_norm.py:28: UserWarning: torch.nn.utils.weight_norm is deprecated in favor of torch.nn.utils.parametrizations.weight_norm.\n",
      "  warnings.warn(\"torch.nn.utils.weight_norm is deprecated in favor of torch.nn.utils.parametrizations.weight_norm.\")\n"
     ]
    },
    {
     "name": "stdout",
     "output_type": "stream",
     "text": [
      "Loaded checkpoint 'checkpoints/base_speakers/EN/checkpoint.pth'\n",
      "missing/unexpected keys: [] []\n",
      "Loaded checkpoint 'checkpoints/converter/checkpoint.pth'\n",
      "missing/unexpected keys: [] []\n",
      "OpenVoice version: v1\n",
      "[(0.0, 15.9146875)]\n",
      "after vad: dur = 15.914\n",
      " > Text splitted to sentences.\n",
      "True leadership means empowering others. It's about inspiring people to achieve their full potential and creating an environment where everyone can succeed.\n",
      " > ===========================\n",
      "tɹu ˈlidəɹˌʃɪp minz ɪmˈpaʊəɹɪŋ ˈəðəɹz. ɪts əˈbaʊt ˌɪnˈspaɪəɹɪŋ ˈpipəɫ tɪ əˈtʃiv ðɛɹ fʊɫ pəˈtɛnʃəɫ ənd kɹiˈeɪtɪŋ ən ɪnˈvaɪɹənmənt wɛɹ ˈɛvɹiˌwən kən səkˈsid.\n",
      " length:155\n",
      " length:155\n",
      "Cloned Voice Generated!\n",
      "Mel-cepstral distortion (lower is better): 85.2053\n"
     ]
    },
    {
     "name": "stderr",
     "output_type": "stream",
     "text": [
      "/opt/anaconda3/envs/openvoice/lib/python3.9/site-packages/torch/nn/utils/weight_norm.py:28: UserWarning: torch.nn.utils.weight_norm is deprecated in favor of torch.nn.utils.parametrizations.weight_norm.\n",
      "  warnings.warn(\"torch.nn.utils.weight_norm is deprecated in favor of torch.nn.utils.parametrizations.weight_norm.\")\n"
     ]
    },
    {
     "name": "stdout",
     "output_type": "stream",
     "text": [
      "Loaded checkpoint 'checkpoints/base_speakers/EN/checkpoint.pth'\n",
      "missing/unexpected keys: [] []\n",
      "Loaded checkpoint 'checkpoints/converter/checkpoint.pth'\n",
      "missing/unexpected keys: [] []\n",
      "OpenVoice version: v1\n",
      "[(0.0, 20.21)]\n",
      "after vad: dur = 20.21\n",
      " > Text splitted to sentences.\n",
      "True leadership means empowering others. It's about inspiring people to achieve their full potential and creating an environment where everyone can succeed.\n",
      " > ===========================\n",
      "tɹu ˈlidəɹˌʃɪp minz ɪmˈpaʊəɹɪŋ ˈəðəɹz. ɪts əˈbaʊt ˌɪnˈspaɪəɹɪŋ ˈpipəɫ tɪ əˈtʃiv ðɛɹ fʊɫ pəˈtɛnʃəɫ ənd kɹiˈeɪtɪŋ ən ɪnˈvaɪɹənmənt wɛɹ ˈɛvɹiˌwən kən səkˈsid.\n",
      " length:155\n",
      " length:155\n",
      "Cloned Voice Generated!\n",
      "Mel-cepstral distortion (lower is better): 89.0241\n"
     ]
    },
    {
     "name": "stderr",
     "output_type": "stream",
     "text": [
      "/opt/anaconda3/envs/openvoice/lib/python3.9/site-packages/torch/nn/utils/weight_norm.py:28: UserWarning: torch.nn.utils.weight_norm is deprecated in favor of torch.nn.utils.parametrizations.weight_norm.\n",
      "  warnings.warn(\"torch.nn.utils.weight_norm is deprecated in favor of torch.nn.utils.parametrizations.weight_norm.\")\n"
     ]
    },
    {
     "name": "stdout",
     "output_type": "stream",
     "text": [
      "Loaded checkpoint 'checkpoints/base_speakers/EN/checkpoint.pth'\n",
      "missing/unexpected keys: [] []\n",
      "Loaded checkpoint 'checkpoints/converter/checkpoint.pth'\n",
      "missing/unexpected keys: [] []\n",
      "OpenVoice version: v1\n",
      "[(0.0, 32.658), (32.75, 33.5146875)]\n",
      "after vad: dur = 33.422\n",
      " > Text splitted to sentences.\n",
      "True leadership means empowering others. It's about inspiring people to achieve their full potential and creating an environment where everyone can succeed.\n",
      " > ===========================\n",
      "tɹu ˈlidəɹˌʃɪp minz ɪmˈpaʊəɹɪŋ ˈəðəɹz. ɪts əˈbaʊt ˌɪnˈspaɪəɹɪŋ ˈpipəɫ tɪ əˈtʃiv ðɛɹ fʊɫ pəˈtɛnʃəɫ ənd kɹiˈeɪtɪŋ ən ɪnˈvaɪɹənmənt wɛɹ ˈɛvɹiˌwən kən səkˈsid.\n",
      " length:155\n",
      " length:155\n",
      "Cloned Voice Generated!\n",
      "Mel-cepstral distortion (lower is better): 92.3661\n"
     ]
    },
    {
     "name": "stderr",
     "output_type": "stream",
     "text": [
      "/opt/anaconda3/envs/openvoice/lib/python3.9/site-packages/torch/nn/utils/weight_norm.py:28: UserWarning: torch.nn.utils.weight_norm is deprecated in favor of torch.nn.utils.parametrizations.weight_norm.\n",
      "  warnings.warn(\"torch.nn.utils.weight_norm is deprecated in favor of torch.nn.utils.parametrizations.weight_norm.\")\n"
     ]
    },
    {
     "name": "stdout",
     "output_type": "stream",
     "text": [
      "Loaded checkpoint 'checkpoints/base_speakers/EN/checkpoint.pth'\n",
      "missing/unexpected keys: [] []\n",
      "Loaded checkpoint 'checkpoints/converter/checkpoint.pth'\n",
      "missing/unexpected keys: [] []\n",
      "OpenVoice version: v1\n",
      "[(0.0, 30.162), (30.19, 58.418), (58.734, 102.098), (102.254, 106.29), (106.638, 120.6186875)]\n",
      "after vad: dur = 119.77\n",
      " > Text splitted to sentences.\n",
      "True leadership means empowering others. It's about inspiring people to achieve their full potential and creating an environment where everyone can succeed.\n",
      " > ===========================\n",
      "tɹu ˈlidəɹˌʃɪp minz ɪmˈpaʊəɹɪŋ ˈəðəɹz. ɪts əˈbaʊt ˌɪnˈspaɪəɹɪŋ ˈpipəɫ tɪ əˈtʃiv ðɛɹ fʊɫ pəˈtɛnʃəɫ ənd kɹiˈeɪtɪŋ ən ɪnˈvaɪɹənmənt wɛɹ ˈɛvɹiˌwən kən səkˈsid.\n",
      " length:155\n",
      " length:155\n",
      "Cloned Voice Generated!\n",
      "Mel-cepstral distortion (lower is better): 80.2072\n",
      "[101.26655, 83.01107, 85.20529, 89.024086, 92.36605, 80.20718]\n"
     ]
    },
    {
     "name": "stderr",
     "output_type": "stream",
     "text": [
      "/opt/anaconda3/envs/openvoice/lib/python3.9/site-packages/torch/nn/utils/weight_norm.py:28: UserWarning: torch.nn.utils.weight_norm is deprecated in favor of torch.nn.utils.parametrizations.weight_norm.\n",
      "  warnings.warn(\"torch.nn.utils.weight_norm is deprecated in favor of torch.nn.utils.parametrizations.weight_norm.\")\n"
     ]
    },
    {
     "name": "stdout",
     "output_type": "stream",
     "text": [
      "Loaded checkpoint 'checkpoints/base_speakers/EN/checkpoint.pth'\n",
      "missing/unexpected keys: [] []\n",
      "Loaded checkpoint 'checkpoints/converter/checkpoint.pth'\n",
      "missing/unexpected keys: [] []\n",
      "OpenVoice version: v1\n",
      "[(0.174, 10.6453125)]\n",
      "after vad: dur = 10.471\n",
      " > Text splitted to sentences.\n",
      "True leadership means empowering others. It's about inspiring people to achieve their full potential and creating an environment where everyone can succeed.\n",
      " > ===========================\n",
      "tɹu ˈlidəɹˌʃɪp minz ɪmˈpaʊəɹɪŋ ˈəðəɹz. ɪts əˈbaʊt ˌɪnˈspaɪəɹɪŋ ˈpipəɫ tɪ əˈtʃiv ðɛɹ fʊɫ pəˈtɛnʃəɫ ənd kɹiˈeɪtɪŋ ən ɪnˈvaɪɹənmənt wɛɹ ˈɛvɹiˌwən kən səkˈsid.\n",
      " length:155\n",
      " length:155\n",
      "Cloned Voice Generated!\n",
      "Mel-cepstral distortion (lower is better): 251.7688\n"
     ]
    },
    {
     "name": "stderr",
     "output_type": "stream",
     "text": [
      "/opt/anaconda3/envs/openvoice/lib/python3.9/site-packages/torch/nn/utils/weight_norm.py:28: UserWarning: torch.nn.utils.weight_norm is deprecated in favor of torch.nn.utils.parametrizations.weight_norm.\n",
      "  warnings.warn(\"torch.nn.utils.weight_norm is deprecated in favor of torch.nn.utils.parametrizations.weight_norm.\")\n"
     ]
    },
    {
     "name": "stdout",
     "output_type": "stream",
     "text": [
      "Loaded checkpoint 'checkpoints/base_speakers/EN/checkpoint.pth'\n",
      "missing/unexpected keys: [] []\n",
      "Loaded checkpoint 'checkpoints/converter/checkpoint.pth'\n",
      "missing/unexpected keys: [] []\n",
      "OpenVoice version: v1\n",
      "[(0.0, 13.696)]\n",
      "after vad: dur = 13.696\n",
      " > Text splitted to sentences.\n",
      "True leadership means empowering others. It's about inspiring people to achieve their full potential and creating an environment where everyone can succeed.\n",
      " > ===========================\n",
      "tɹu ˈlidəɹˌʃɪp minz ɪmˈpaʊəɹɪŋ ˈəðəɹz. ɪts əˈbaʊt ˌɪnˈspaɪəɹɪŋ ˈpipəɫ tɪ əˈtʃiv ðɛɹ fʊɫ pəˈtɛnʃəɫ ənd kɹiˈeɪtɪŋ ən ɪnˈvaɪɹənmənt wɛɹ ˈɛvɹiˌwən kən səkˈsid.\n",
      " length:155\n",
      " length:155\n",
      "Cloned Voice Generated!\n",
      "Mel-cepstral distortion (lower is better): 245.8550\n"
     ]
    },
    {
     "name": "stderr",
     "output_type": "stream",
     "text": [
      "/opt/anaconda3/envs/openvoice/lib/python3.9/site-packages/torch/nn/utils/weight_norm.py:28: UserWarning: torch.nn.utils.weight_norm is deprecated in favor of torch.nn.utils.parametrizations.weight_norm.\n",
      "  warnings.warn(\"torch.nn.utils.weight_norm is deprecated in favor of torch.nn.utils.parametrizations.weight_norm.\")\n"
     ]
    },
    {
     "name": "stdout",
     "output_type": "stream",
     "text": [
      "Loaded checkpoint 'checkpoints/base_speakers/EN/checkpoint.pth'\n",
      "missing/unexpected keys: [] []\n",
      "Loaded checkpoint 'checkpoints/converter/checkpoint.pth'\n",
      "missing/unexpected keys: [] []\n",
      "OpenVoice version: v1\n",
      "[(0.0, 18.5173125)]\n",
      "after vad: dur = 18.517\n",
      " > Text splitted to sentences.\n",
      "True leadership means empowering others. It's about inspiring people to achieve their full potential and creating an environment where everyone can succeed.\n",
      " > ===========================\n",
      "tɹu ˈlidəɹˌʃɪp minz ɪmˈpaʊəɹɪŋ ˈəðəɹz. ɪts əˈbaʊt ˌɪnˈspaɪəɹɪŋ ˈpipəɫ tɪ əˈtʃiv ðɛɹ fʊɫ pəˈtɛnʃəɫ ənd kɹiˈeɪtɪŋ ən ɪnˈvaɪɹənmənt wɛɹ ˈɛvɹiˌwən kən səkˈsid.\n",
      " length:155\n",
      " length:155\n",
      "Cloned Voice Generated!\n",
      "Mel-cepstral distortion (lower is better): 249.9093\n"
     ]
    },
    {
     "name": "stderr",
     "output_type": "stream",
     "text": [
      "/opt/anaconda3/envs/openvoice/lib/python3.9/site-packages/torch/nn/utils/weight_norm.py:28: UserWarning: torch.nn.utils.weight_norm is deprecated in favor of torch.nn.utils.parametrizations.weight_norm.\n",
      "  warnings.warn(\"torch.nn.utils.weight_norm is deprecated in favor of torch.nn.utils.parametrizations.weight_norm.\")\n"
     ]
    },
    {
     "name": "stdout",
     "output_type": "stream",
     "text": [
      "Loaded checkpoint 'checkpoints/base_speakers/EN/checkpoint.pth'\n",
      "missing/unexpected keys: [] []\n",
      "Loaded checkpoint 'checkpoints/converter/checkpoint.pth'\n",
      "missing/unexpected keys: [] []\n",
      "OpenVoice version: v1\n",
      "[(0.0, 21.1626875)]\n",
      "after vad: dur = 21.162\n",
      " > Text splitted to sentences.\n",
      "True leadership means empowering others. It's about inspiring people to achieve their full potential and creating an environment where everyone can succeed.\n",
      " > ===========================\n",
      "tɹu ˈlidəɹˌʃɪp minz ɪmˈpaʊəɹɪŋ ˈəðəɹz. ɪts əˈbaʊt ˌɪnˈspaɪəɹɪŋ ˈpipəɫ tɪ əˈtʃiv ðɛɹ fʊɫ pəˈtɛnʃəɫ ənd kɹiˈeɪtɪŋ ən ɪnˈvaɪɹənmənt wɛɹ ˈɛvɹiˌwən kən səkˈsid.\n",
      " length:155\n",
      " length:155\n",
      "Cloned Voice Generated!\n",
      "Mel-cepstral distortion (lower is better): 262.5681\n"
     ]
    },
    {
     "name": "stderr",
     "output_type": "stream",
     "text": [
      "/opt/anaconda3/envs/openvoice/lib/python3.9/site-packages/torch/nn/utils/weight_norm.py:28: UserWarning: torch.nn.utils.weight_norm is deprecated in favor of torch.nn.utils.parametrizations.weight_norm.\n",
      "  warnings.warn(\"torch.nn.utils.weight_norm is deprecated in favor of torch.nn.utils.parametrizations.weight_norm.\")\n"
     ]
    },
    {
     "name": "stdout",
     "output_type": "stream",
     "text": [
      "Loaded checkpoint 'checkpoints/base_speakers/EN/checkpoint.pth'\n",
      "missing/unexpected keys: [] []\n",
      "Loaded checkpoint 'checkpoints/converter/checkpoint.pth'\n",
      "missing/unexpected keys: [] []\n",
      "OpenVoice version: v1\n",
      "[(0.0, 33.6213125)]\n",
      "after vad: dur = 33.621\n",
      " > Text splitted to sentences.\n",
      "True leadership means empowering others. It's about inspiring people to achieve their full potential and creating an environment where everyone can succeed.\n",
      " > ===========================\n",
      "tɹu ˈlidəɹˌʃɪp minz ɪmˈpaʊəɹɪŋ ˈəðəɹz. ɪts əˈbaʊt ˌɪnˈspaɪəɹɪŋ ˈpipəɫ tɪ əˈtʃiv ðɛɹ fʊɫ pəˈtɛnʃəɫ ənd kɹiˈeɪtɪŋ ən ɪnˈvaɪɹənmənt wɛɹ ˈɛvɹiˌwən kən səkˈsid.\n",
      " length:155\n",
      " length:155\n",
      "Cloned Voice Generated!\n",
      "Mel-cepstral distortion (lower is better): 251.4819\n"
     ]
    },
    {
     "name": "stderr",
     "output_type": "stream",
     "text": [
      "/opt/anaconda3/envs/openvoice/lib/python3.9/site-packages/torch/nn/utils/weight_norm.py:28: UserWarning: torch.nn.utils.weight_norm is deprecated in favor of torch.nn.utils.parametrizations.weight_norm.\n",
      "  warnings.warn(\"torch.nn.utils.weight_norm is deprecated in favor of torch.nn.utils.parametrizations.weight_norm.\")\n"
     ]
    },
    {
     "name": "stdout",
     "output_type": "stream",
     "text": [
      "Loaded checkpoint 'checkpoints/base_speakers/EN/checkpoint.pth'\n",
      "missing/unexpected keys: [] []\n",
      "Loaded checkpoint 'checkpoints/converter/checkpoint.pth'\n",
      "missing/unexpected keys: [] []\n",
      "OpenVoice version: v1\n",
      "[(0.0, 117.8666875)]\n",
      "after vad: dur = 117.866\n",
      " > Text splitted to sentences.\n",
      "True leadership means empowering others. It's about inspiring people to achieve their full potential and creating an environment where everyone can succeed.\n",
      " > ===========================\n",
      "tɹu ˈlidəɹˌʃɪp minz ɪmˈpaʊəɹɪŋ ˈəðəɹz. ɪts əˈbaʊt ˌɪnˈspaɪəɹɪŋ ˈpipəɫ tɪ əˈtʃiv ðɛɹ fʊɫ pəˈtɛnʃəɫ ənd kɹiˈeɪtɪŋ ən ɪnˈvaɪɹənmənt wɛɹ ˈɛvɹiˌwən kən səkˈsid.\n",
      " length:155\n",
      " length:155\n",
      "Cloned Voice Generated!\n",
      "Mel-cepstral distortion (lower is better): 253.5357\n",
      "[251.76881, 245.85497, 249.9093, 262.5681, 251.48193, 253.53566]\n"
     ]
    },
    {
     "data": {
      "text/plain": [
       "[251.76881, 245.85497, 249.9093, 262.5681, 251.48193, 253.53566]"
      ]
     },
     "execution_count": 24,
     "metadata": {},
     "output_type": "execute_result"
    }
   ],
   "source": [
    "naturalness_for_audiolst(text,naturalness_various_input_audio_length_steven,audiolist_steven)\n",
    "naturalness_for_audiolst(text,naturalness_various_input_audio_length_jeff,audiolist_jeff)\n",
    "naturalness_for_audiolst(text,naturalness_various_input_audio_length_yingqi,audiolist_yingqi)\n",
    "naturalness_for_audiolst(text,naturalness_various_input_audio_length_zoe,audiolist_zoe)"
   ]
  },
  {
   "cell_type": "code",
   "execution_count": 27,
   "metadata": {},
   "outputs": [
    {
     "data": {
      "image/png": "[encoded data removed]",
      "text/plain": [
       "<Figure size 1000x600 with 1 Axes>"
      ]
     },
     "metadata": {},
     "output_type": "display_data"
    }
   ],
   "source": [
    "import matplotlib.pyplot as plt\n",
    "\n",
    "plt.figure(figsize=(10, 6))\n",
    "\n",
    "plt.plot(audio_lengths_steven, naturalness_various_input_audio_length_steven, marker='o', label='Male Volunteer1', color='r')\n",
    "plt.plot(audio_lengths_zoe, naturalness_various_input_audio_length_zoe, marker='s', label='Female Volunteer1 ', color='g')\n",
    "plt.plot(audio_lengths_jeff, naturalness_various_input_audio_length_jeff, marker='o', label='Male Volunteer2', color='b')\n",
    "plt.plot(audio_lengths_yingqi, naturalness_various_input_audio_length_yingqi, marker='s', label='Female Volunteer2 ', color='m')\n",
    "\n",
    "plt.xlabel('Audio Length (seconds)')\n",
    "plt.ylabel('Mel-cepstral distortion')\n",
    "plt.title('Mel-cepstral distortion vs Input Audio Length')\n",
    "plt.legend()\n",
    "plt.grid(True)\n",
    "plt.show()"
   ]
  }
 ],
 "metadata": {
  "kernelspec": {
   "display_name": "openvoice",
   "language": "python",
   "name": "python3"
  },
  "language_info": {
   "codemirror_mode": {
    "name": "ipython",
    "version": 3
   },
   "file_extension": ".py",
   "mimetype": "text/x-python",
   "name": "python",
   "nbconvert_exporter": "python",
   "pygments_lexer": "ipython3",
   "version": "3.9.18"
  }
 },
 "nbformat": 4,
 "nbformat_minor": 2
}
