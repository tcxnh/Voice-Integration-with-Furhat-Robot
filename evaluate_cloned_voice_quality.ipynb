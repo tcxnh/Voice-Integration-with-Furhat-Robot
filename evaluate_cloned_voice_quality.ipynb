{
 "cells": [
  {
   "cell_type": "markdown",
   "metadata": {},
   "source": [
    "### Evaluate the Quality of Cloned Voice, will longer audio length produce better result?\n"
   ]
  },
  {
   "cell_type": "code",
   "execution_count": 39,
   "metadata": {},
   "outputs": [],
   "source": [
    "import librosa\n",
    "import numpy as np\n",
    "from sklearn.metrics import mean_squared_error\n",
    "from scipy.spatial.distance import cdist"
   ]
  },
  {
   "cell_type": "code",
   "execution_count": 40,
   "metadata": {},
   "outputs": [],
   "source": [
    "# 1. Naturalness\n",
    "# Load the sample speech and generated speech\n",
    "\n",
    "def score(sample_speech, generated_speech):\n",
    "    sample_speech, sr = librosa.load(sample_speech)\n",
    "    generated_speech, sr = librosa.load(generated_speech)\n",
    "    min_length = min(len(sample_speech), len(generated_speech))\n",
    "    sample_speech = sample_speech[:min_length]\n",
    "    generated_speech = generated_speech[:min_length]\n",
    "\n",
    "    mel_sample = librosa.feature.melspectrogram(y=sample_speech, sr=sr)\n",
    "    mel_generated = librosa.feature.melspectrogram(y=generated_speech, sr=sr)\n",
    "    mel_distortion = mean_squared_error(mel_sample, mel_generated)\n",
    "    print(f\"Mel-cepstral distortion (lower is better): {mel_distortion:.4f}\")\n",
    "    return mel_distortion"
   ]
  },
  {
   "cell_type": "code",
   "execution_count": 41,
   "metadata": {},
   "outputs": [
    {
     "name": "stdout",
     "output_type": "stream",
     "text": [
      "Mel-cepstral distortion (lower is better): 294.5884\n"
     ]
    },
    {
     "data": {
      "text/plain": [
       "294.58838"
      ]
     },
     "execution_count": 41,
     "metadata": {},
     "output_type": "execute_result"
    }
   ],
   "source": [
    "score(\"voice_samples/steven/10.wav\",\"voice_samples/zoe/10.wav\")"
   ]
  },
  {
   "cell_type": "code",
   "execution_count": 42,
   "metadata": {},
   "outputs": [],
   "source": [
    "from generate_cloned_voice import generate_cloned_voice"
   ]
  },
  {
   "cell_type": "code",
   "execution_count": 43,
   "metadata": {},
   "outputs": [
    {
     "name": "stdout",
     "output_type": "stream",
     "text": [
      "Mel-cepstral distortion (lower is better): 150.6426\n"
     ]
    }
   ],
   "source": [
    "text = \"True leadership means empowering others. It's about inspiring people to achieve their full potential and creating an environment where everyone can succeed.\"\n",
    "naturalness_various_input_audio_length_steven = []\n",
    "naturalness_various_input_audio_length_zoe = []\n",
    "naturalness_various_input_audio_length_jeff = []\n",
    "naturalness_various_input_audio_length_yingqi = []\n",
    "\n",
    "audiolist_steven = [\"voice_samples/steven/10.wav\", \"voice_samples/steven/16.wav\", \"voice_samples/steven/18.wav\", \"voice_samples/steven/19.wav\",\n",
    "                    \"voice_samples/steven/35.wav\", \"voice_samples/steven/106.wav\"] \n",
    "audiolist_zoe = [\"voice_samples/zoe/10.wav\", \"voice_samples/zoe/13.wav\", \"voice_samples/zoe/18.wav\", \"voice_samples/zoe/21.wav\",\n",
    "                 \"voice_samples/zoe/33.wav\", \"voice_samples/zoe/117.wav\"]\n",
    "audiolist_jeff = [\"voice_samples/jeff/10.wav\", \"voice_samples/jeff/15.wav\", \"voice_samples/jeff/19.wav\", \"voice_samples/jeff/22.wav\",\n",
    "                  \"voice_samples/jeff/34.wav\",\"voice_samples/jeff/104.wav\"]\n",
    "audiolist_yingqi = [\"voice_samples/yingqi/10.wav\",\"voice_samples/yingqi/14.wav\", \"voice_samples/yingqi/16.wav\", \"voice_samples/yingqi/21.wav\",\n",
    "                    \"voice_samples/yingqi/33.wav\", \"voice_samples/yingqi/121.wav\"]\n",
    "\n",
    "audio_lengths_steven = [10,16,18,19,35,106]\n",
    "audio_lengths_zoe = [10,13,18,21,33,117]\n",
    "audio_lengths_jeff = [10,15,19,22,34,104]\n",
    "audio_lengths_yingqi = [10,14,16,21,33,121]\n",
    "\n",
    "score(audiolist_steven[0], \"outputs/output_en_default.wav\")\n",
    "\n",
    "def naturalness_for_audiolst(text,scorelst, audiolst):\n",
    "    sample_speech= audiolst[0]\n",
    "    for audio in audiolst:\n",
    "        generate_cloned_voice(audio,text)\n",
    "        naturalness = score(sample_speech, \"outputs/output_en_default.wav\")\n",
    "        scorelst.append(naturalness)\n",
    "    print(scorelst)    \n",
    "    return scorelst"
   ]
  },
  {
   "cell_type": "code",
   "execution_count": 44,
   "metadata": {},
   "outputs": [
    {
     "data": {
      "text/plain": [
       "156"
      ]
     },
     "execution_count": 44,
     "metadata": {},
     "output_type": "execute_result"
    }
   ],
   "source": [
    "len(text)"
   ]
  },
  {
   "cell_type": "code",
   "execution_count": 45,
   "metadata": {},
   "outputs": [
    {
     "name": "stderr",
     "output_type": "stream",
     "text": [
      "/opt/anaconda3/envs/openvoice/lib/python3.9/site-packages/torch/nn/utils/weight_norm.py:28: UserWarning: torch.nn.utils.weight_norm is deprecated in favor of torch.nn.utils.parametrizations.weight_norm.\n",
      "  warnings.warn(\"torch.nn.utils.weight_norm is deprecated in favor of torch.nn.utils.parametrizations.weight_norm.\")\n"
     ]
    },
    {
     "name": "stdout",
     "output_type": "stream",
     "text": [
      "Loaded checkpoint 'checkpoints/base_speakers/EN/checkpoint.pth'\n",
      "missing/unexpected keys: [] []\n",
      "Loaded checkpoint 'checkpoints/converter/checkpoint.pth'\n",
      "missing/unexpected keys: [] []\n",
      "OpenVoice version: v1\n",
      "[(0.0, 10.112)]\n",
      "after vad: dur = 10.112\n",
      " > Text splitted to sentences.\n",
      "True leadership means empowering others. It's about inspiring people to achieve their full potential and creating an environment where everyone can succeed.\n",
      " > ===========================\n",
      "tɹu ˈlidəɹˌʃɪp minz ɪmˈpaʊəɹɪŋ ˈəðəɹz. ɪts əˈbaʊt ˌɪnˈspaɪəɹɪŋ ˈpipəɫ tɪ əˈtʃiv ðɛɹ fʊɫ pəˈtɛnʃəɫ ənd kɹiˈeɪtɪŋ ən ɪnˈvaɪɹənmənt wɛɹ ˈɛvɹiˌwən kən səkˈsid.\n",
      " length:155\n",
      " length:155\n",
      "Cloned Voice Generated!\n",
      "Mel-cepstral distortion (lower is better): 117.2577\n"
     ]
    },
    {
     "name": "stderr",
     "output_type": "stream",
     "text": [
      "/opt/anaconda3/envs/openvoice/lib/python3.9/site-packages/torch/nn/utils/weight_norm.py:28: UserWarning: torch.nn.utils.weight_norm is deprecated in favor of torch.nn.utils.parametrizations.weight_norm.\n",
      "  warnings.warn(\"torch.nn.utils.weight_norm is deprecated in favor of torch.nn.utils.parametrizations.weight_norm.\")\n"
     ]
    },
    {
     "name": "stdout",
     "output_type": "stream",
     "text": [
      "Loaded checkpoint 'checkpoints/base_speakers/EN/checkpoint.pth'\n",
      "missing/unexpected keys: [] []\n",
      "Loaded checkpoint 'checkpoints/converter/checkpoint.pth'\n",
      "missing/unexpected keys: [] []\n",
      "OpenVoice version: v1\n",
      "[(0.0, 16.4266875)]\n",
      "after vad: dur = 16.426\n",
      " > Text splitted to sentences.\n",
      "True leadership means empowering others. It's about inspiring people to achieve their full potential and creating an environment where everyone can succeed.\n",
      " > ===========================\n",
      "tɹu ˈlidəɹˌʃɪp minz ɪmˈpaʊəɹɪŋ ˈəðəɹz. ɪts əˈbaʊt ˌɪnˈspaɪəɹɪŋ ˈpipəɫ tɪ əˈtʃiv ðɛɹ fʊɫ pəˈtɛnʃəɫ ənd kɹiˈeɪtɪŋ ən ɪnˈvaɪɹənmənt wɛɹ ˈɛvɹiˌwən kən səkˈsid.\n",
      " length:155\n",
      " length:155\n",
      "Cloned Voice Generated!\n",
      "Mel-cepstral distortion (lower is better): 126.9440\n"
     ]
    },
    {
     "name": "stderr",
     "output_type": "stream",
     "text": [
      "/opt/anaconda3/envs/openvoice/lib/python3.9/site-packages/torch/nn/utils/weight_norm.py:28: UserWarning: torch.nn.utils.weight_norm is deprecated in favor of torch.nn.utils.parametrizations.weight_norm.\n",
      "  warnings.warn(\"torch.nn.utils.weight_norm is deprecated in favor of torch.nn.utils.parametrizations.weight_norm.\")\n"
     ]
    },
    {
     "name": "stdout",
     "output_type": "stream",
     "text": [
      "Loaded checkpoint 'checkpoints/base_speakers/EN/checkpoint.pth'\n",
      "missing/unexpected keys: [] []\n",
      "Loaded checkpoint 'checkpoints/converter/checkpoint.pth'\n",
      "missing/unexpected keys: [] []\n",
      "OpenVoice version: v1\n",
      "[(0.0, 18.944)]\n",
      "after vad: dur = 18.944\n",
      " > Text splitted to sentences.\n",
      "True leadership means empowering others. It's about inspiring people to achieve their full potential and creating an environment where everyone can succeed.\n",
      " > ===========================\n",
      "tɹu ˈlidəɹˌʃɪp minz ɪmˈpaʊəɹɪŋ ˈəðəɹz. ɪts əˈbaʊt ˌɪnˈspaɪəɹɪŋ ˈpipəɫ tɪ əˈtʃiv ðɛɹ fʊɫ pəˈtɛnʃəɫ ənd kɹiˈeɪtɪŋ ən ɪnˈvaɪɹənmənt wɛɹ ˈɛvɹiˌwən kən səkˈsid.\n",
      " length:155\n",
      " length:155\n",
      "Cloned Voice Generated!\n",
      "Mel-cepstral distortion (lower is better): 113.9915\n"
     ]
    },
    {
     "name": "stderr",
     "output_type": "stream",
     "text": [
      "/opt/anaconda3/envs/openvoice/lib/python3.9/site-packages/torch/nn/utils/weight_norm.py:28: UserWarning: torch.nn.utils.weight_norm is deprecated in favor of torch.nn.utils.parametrizations.weight_norm.\n",
      "  warnings.warn(\"torch.nn.utils.weight_norm is deprecated in favor of torch.nn.utils.parametrizations.weight_norm.\")\n"
     ]
    },
    {
     "name": "stdout",
     "output_type": "stream",
     "text": [
      "Loaded checkpoint 'checkpoints/base_speakers/EN/checkpoint.pth'\n",
      "missing/unexpected keys: [] []\n",
      "Loaded checkpoint 'checkpoints/converter/checkpoint.pth'\n",
      "missing/unexpected keys: [] []\n",
      "OpenVoice version: v1\n",
      "[(0.0, 19.584)]\n",
      "after vad: dur = 19.584\n",
      " > Text splitted to sentences.\n",
      "True leadership means empowering others. It's about inspiring people to achieve their full potential and creating an environment where everyone can succeed.\n",
      " > ===========================\n",
      "tɹu ˈlidəɹˌʃɪp minz ɪmˈpaʊəɹɪŋ ˈəðəɹz. ɪts əˈbaʊt ˌɪnˈspaɪəɹɪŋ ˈpipəɫ tɪ əˈtʃiv ðɛɹ fʊɫ pəˈtɛnʃəɫ ənd kɹiˈeɪtɪŋ ən ɪnˈvaɪɹənmənt wɛɹ ˈɛvɹiˌwən kən səkˈsid.\n",
      " length:155\n",
      " length:155\n",
      "Cloned Voice Generated!\n",
      "Mel-cepstral distortion (lower is better): 104.5349\n"
     ]
    },
    {
     "name": "stderr",
     "output_type": "stream",
     "text": [
      "/opt/anaconda3/envs/openvoice/lib/python3.9/site-packages/torch/nn/utils/weight_norm.py:28: UserWarning: torch.nn.utils.weight_norm is deprecated in favor of torch.nn.utils.parametrizations.weight_norm.\n",
      "  warnings.warn(\"torch.nn.utils.weight_norm is deprecated in favor of torch.nn.utils.parametrizations.weight_norm.\")\n"
     ]
    },
    {
     "name": "stdout",
     "output_type": "stream",
     "text": [
      "Loaded checkpoint 'checkpoints/base_speakers/EN/checkpoint.pth'\n",
      "missing/unexpected keys: [] []\n",
      "Loaded checkpoint 'checkpoints/converter/checkpoint.pth'\n",
      "missing/unexpected keys: [] []\n",
      "OpenVoice version: v1\n",
      "[(0.0, 35.3066875)]\n",
      "after vad: dur = 35.306\n",
      " > Text splitted to sentences.\n",
      "True leadership means empowering others. It's about inspiring people to achieve their full potential and creating an environment where everyone can succeed.\n",
      " > ===========================\n",
      "tɹu ˈlidəɹˌʃɪp minz ɪmˈpaʊəɹɪŋ ˈəðəɹz. ɪts əˈbaʊt ˌɪnˈspaɪəɹɪŋ ˈpipəɫ tɪ əˈtʃiv ðɛɹ fʊɫ pəˈtɛnʃəɫ ənd kɹiˈeɪtɪŋ ən ɪnˈvaɪɹənmənt wɛɹ ˈɛvɹiˌwən kən səkˈsid.\n",
      " length:155\n",
      " length:155\n",
      "Cloned Voice Generated!\n",
      "Mel-cepstral distortion (lower is better): 118.0252\n"
     ]
    },
    {
     "name": "stderr",
     "output_type": "stream",
     "text": [
      "/opt/anaconda3/envs/openvoice/lib/python3.9/site-packages/torch/nn/utils/weight_norm.py:28: UserWarning: torch.nn.utils.weight_norm is deprecated in favor of torch.nn.utils.parametrizations.weight_norm.\n",
      "  warnings.warn(\"torch.nn.utils.weight_norm is deprecated in favor of torch.nn.utils.parametrizations.weight_norm.\")\n"
     ]
    },
    {
     "name": "stdout",
     "output_type": "stream",
     "text": [
      "Loaded checkpoint 'checkpoints/base_speakers/EN/checkpoint.pth'\n",
      "missing/unexpected keys: [] []\n",
      "Loaded checkpoint 'checkpoints/converter/checkpoint.pth'\n",
      "missing/unexpected keys: [] []\n",
      "OpenVoice version: v1\n",
      "[(0.0, 106.1546875)]\n",
      "after vad: dur = 106.154\n",
      " > Text splitted to sentences.\n",
      "True leadership means empowering others. It's about inspiring people to achieve their full potential and creating an environment where everyone can succeed.\n",
      " > ===========================\n",
      "tɹu ˈlidəɹˌʃɪp minz ɪmˈpaʊəɹɪŋ ˈəðəɹz. ɪts əˈbaʊt ˌɪnˈspaɪəɹɪŋ ˈpipəɫ tɪ əˈtʃiv ðɛɹ fʊɫ pəˈtɛnʃəɫ ənd kɹiˈeɪtɪŋ ən ɪnˈvaɪɹənmənt wɛɹ ˈɛvɹiˌwən kən səkˈsid.\n",
      " length:155\n",
      " length:155\n",
      "Cloned Voice Generated!\n",
      "Mel-cepstral distortion (lower is better): 115.7803\n",
      "[117.25772, 126.94397, 113.99155, 104.53492, 118.0252, 115.78033]\n"
     ]
    },
    {
     "name": "stderr",
     "output_type": "stream",
     "text": [
      "/opt/anaconda3/envs/openvoice/lib/python3.9/site-packages/torch/nn/utils/weight_norm.py:28: UserWarning: torch.nn.utils.weight_norm is deprecated in favor of torch.nn.utils.parametrizations.weight_norm.\n",
      "  warnings.warn(\"torch.nn.utils.weight_norm is deprecated in favor of torch.nn.utils.parametrizations.weight_norm.\")\n"
     ]
    },
    {
     "name": "stdout",
     "output_type": "stream",
     "text": [
      "Loaded checkpoint 'checkpoints/base_speakers/EN/checkpoint.pth'\n",
      "missing/unexpected keys: [] []\n",
      "Loaded checkpoint 'checkpoints/converter/checkpoint.pth'\n",
      "missing/unexpected keys: [] []\n",
      "OpenVoice version: v1\n",
      "[(0.0, 9.152)]\n",
      "after vad: dur = 9.152\n",
      " > Text splitted to sentences.\n",
      "True leadership means empowering others. It's about inspiring people to achieve their full potential and creating an environment where everyone can succeed.\n",
      " > ===========================\n",
      "tɹu ˈlidəɹˌʃɪp minz ɪmˈpaʊəɹɪŋ ˈəðəɹz. ɪts əˈbaʊt ˌɪnˈspaɪəɹɪŋ ˈpipəɫ tɪ əˈtʃiv ðɛɹ fʊɫ pəˈtɛnʃəɫ ənd kɹiˈeɪtɪŋ ən ɪnˈvaɪɹənmənt wɛɹ ˈɛvɹiˌwən kən səkˈsid.\n",
      " length:155\n",
      " length:155\n",
      "Cloned Voice Generated!\n",
      "Mel-cepstral distortion (lower is better): 12.6263\n"
     ]
    },
    {
     "name": "stderr",
     "output_type": "stream",
     "text": [
      "/opt/anaconda3/envs/openvoice/lib/python3.9/site-packages/torch/nn/utils/weight_norm.py:28: UserWarning: torch.nn.utils.weight_norm is deprecated in favor of torch.nn.utils.parametrizations.weight_norm.\n",
      "  warnings.warn(\"torch.nn.utils.weight_norm is deprecated in favor of torch.nn.utils.parametrizations.weight_norm.\")\n"
     ]
    },
    {
     "name": "stdout",
     "output_type": "stream",
     "text": [
      "Loaded checkpoint 'checkpoints/base_speakers/EN/checkpoint.pth'\n",
      "missing/unexpected keys: [] []\n",
      "Loaded checkpoint 'checkpoints/converter/checkpoint.pth'\n",
      "missing/unexpected keys: [] []\n",
      "OpenVoice version: v1\n",
      "[(0.206, 15.0613125)]\n",
      "after vad: dur = 14.855\n",
      " > Text splitted to sentences.\n",
      "True leadership means empowering others. It's about inspiring people to achieve their full potential and creating an environment where everyone can succeed.\n",
      " > ===========================\n",
      "tɹu ˈlidəɹˌʃɪp minz ɪmˈpaʊəɹɪŋ ˈəðəɹz. ɪts əˈbaʊt ˌɪnˈspaɪəɹɪŋ ˈpipəɫ tɪ əˈtʃiv ðɛɹ fʊɫ pəˈtɛnʃəɫ ənd kɹiˈeɪtɪŋ ən ɪnˈvaɪɹənmənt wɛɹ ˈɛvɹiˌwən kən səkˈsid.\n",
      " length:155\n",
      " length:155\n",
      "Cloned Voice Generated!\n",
      "Mel-cepstral distortion (lower is better): 14.4209\n"
     ]
    },
    {
     "name": "stderr",
     "output_type": "stream",
     "text": [
      "/opt/anaconda3/envs/openvoice/lib/python3.9/site-packages/torch/nn/utils/weight_norm.py:28: UserWarning: torch.nn.utils.weight_norm is deprecated in favor of torch.nn.utils.parametrizations.weight_norm.\n",
      "  warnings.warn(\"torch.nn.utils.weight_norm is deprecated in favor of torch.nn.utils.parametrizations.weight_norm.\")\n"
     ]
    },
    {
     "name": "stdout",
     "output_type": "stream",
     "text": [
      "Loaded checkpoint 'checkpoints/base_speakers/EN/checkpoint.pth'\n",
      "missing/unexpected keys: [] []\n",
      "Loaded checkpoint 'checkpoints/converter/checkpoint.pth'\n",
      "missing/unexpected keys: [] []\n",
      "OpenVoice version: v1\n",
      "[(0.0, 19.8613125)]\n",
      "after vad: dur = 19.861\n",
      " > Text splitted to sentences.\n",
      "True leadership means empowering others. It's about inspiring people to achieve their full potential and creating an environment where everyone can succeed.\n",
      " > ===========================\n",
      "tɹu ˈlidəɹˌʃɪp minz ɪmˈpaʊəɹɪŋ ˈəðəɹz. ɪts əˈbaʊt ˌɪnˈspaɪəɹɪŋ ˈpipəɫ tɪ əˈtʃiv ðɛɹ fʊɫ pəˈtɛnʃəɫ ənd kɹiˈeɪtɪŋ ən ɪnˈvaɪɹənmənt wɛɹ ˈɛvɹiˌwən kən səkˈsid.\n",
      " length:155\n",
      " length:155\n",
      "Cloned Voice Generated!\n",
      "Mel-cepstral distortion (lower is better): 18.0617\n"
     ]
    },
    {
     "name": "stderr",
     "output_type": "stream",
     "text": [
      "/opt/anaconda3/envs/openvoice/lib/python3.9/site-packages/torch/nn/utils/weight_norm.py:28: UserWarning: torch.nn.utils.weight_norm is deprecated in favor of torch.nn.utils.parametrizations.weight_norm.\n",
      "  warnings.warn(\"torch.nn.utils.weight_norm is deprecated in favor of torch.nn.utils.parametrizations.weight_norm.\")\n"
     ]
    },
    {
     "name": "stdout",
     "output_type": "stream",
     "text": [
      "Loaded checkpoint 'checkpoints/base_speakers/EN/checkpoint.pth'\n",
      "missing/unexpected keys: [] []\n",
      "Loaded checkpoint 'checkpoints/converter/checkpoint.pth'\n",
      "missing/unexpected keys: [] []\n",
      "OpenVoice version: v1\n",
      "[(0.238, 22.9546875)]\n",
      "after vad: dur = 22.716\n",
      " > Text splitted to sentences.\n",
      "True leadership means empowering others. It's about inspiring people to achieve their full potential and creating an environment where everyone can succeed.\n",
      " > ===========================\n",
      "tɹu ˈlidəɹˌʃɪp minz ɪmˈpaʊəɹɪŋ ˈəðəɹz. ɪts əˈbaʊt ˌɪnˈspaɪəɹɪŋ ˈpipəɫ tɪ əˈtʃiv ðɛɹ fʊɫ pəˈtɛnʃəɫ ənd kɹiˈeɪtɪŋ ən ɪnˈvaɪɹənmənt wɛɹ ˈɛvɹiˌwən kən səkˈsid.\n",
      " length:155\n",
      " length:155\n",
      "Cloned Voice Generated!\n",
      "Mel-cepstral distortion (lower is better): 22.1433\n"
     ]
    },
    {
     "name": "stderr",
     "output_type": "stream",
     "text": [
      "/opt/anaconda3/envs/openvoice/lib/python3.9/site-packages/torch/nn/utils/weight_norm.py:28: UserWarning: torch.nn.utils.weight_norm is deprecated in favor of torch.nn.utils.parametrizations.weight_norm.\n",
      "  warnings.warn(\"torch.nn.utils.weight_norm is deprecated in favor of torch.nn.utils.parametrizations.weight_norm.\")\n"
     ]
    },
    {
     "name": "stdout",
     "output_type": "stream",
     "text": [
      "Loaded checkpoint 'checkpoints/base_speakers/EN/checkpoint.pth'\n",
      "missing/unexpected keys: [] []\n",
      "Loaded checkpoint 'checkpoints/converter/checkpoint.pth'\n",
      "missing/unexpected keys: [] []\n",
      "OpenVoice version: v1\n",
      "[(0.078, 34.304)]\n",
      "after vad: dur = 34.226\n",
      " > Text splitted to sentences.\n",
      "True leadership means empowering others. It's about inspiring people to achieve their full potential and creating an environment where everyone can succeed.\n",
      " > ===========================\n",
      "tɹu ˈlidəɹˌʃɪp minz ɪmˈpaʊəɹɪŋ ˈəðəɹz. ɪts əˈbaʊt ˌɪnˈspaɪəɹɪŋ ˈpipəɫ tɪ əˈtʃiv ðɛɹ fʊɫ pəˈtɛnʃəɫ ənd kɹiˈeɪtɪŋ ən ɪnˈvaɪɹənmənt wɛɹ ˈɛvɹiˌwən kən səkˈsid.\n",
      " length:155\n",
      " length:155\n",
      "Cloned Voice Generated!\n",
      "Mel-cepstral distortion (lower is better): 14.0049\n"
     ]
    },
    {
     "name": "stderr",
     "output_type": "stream",
     "text": [
      "/opt/anaconda3/envs/openvoice/lib/python3.9/site-packages/torch/nn/utils/weight_norm.py:28: UserWarning: torch.nn.utils.weight_norm is deprecated in favor of torch.nn.utils.parametrizations.weight_norm.\n",
      "  warnings.warn(\"torch.nn.utils.weight_norm is deprecated in favor of torch.nn.utils.parametrizations.weight_norm.\")\n"
     ]
    },
    {
     "name": "stdout",
     "output_type": "stream",
     "text": [
      "Loaded checkpoint 'checkpoints/base_speakers/EN/checkpoint.pth'\n",
      "missing/unexpected keys: [] []\n",
      "Loaded checkpoint 'checkpoints/converter/checkpoint.pth'\n",
      "missing/unexpected keys: [] []\n",
      "OpenVoice version: v1\n",
      "[(0.0, 62.674), (62.798, 104.384)]\n",
      "after vad: dur = 104.26\n",
      " > Text splitted to sentences.\n",
      "True leadership means empowering others. It's about inspiring people to achieve their full potential and creating an environment where everyone can succeed.\n",
      " > ===========================\n",
      "tɹu ˈlidəɹˌʃɪp minz ɪmˈpaʊəɹɪŋ ˈəðəɹz. ɪts əˈbaʊt ˌɪnˈspaɪəɹɪŋ ˈpipəɫ tɪ əˈtʃiv ðɛɹ fʊɫ pəˈtɛnʃəɫ ənd kɹiˈeɪtɪŋ ən ɪnˈvaɪɹənmənt wɛɹ ˈɛvɹiˌwən kən səkˈsid.\n",
      " length:155\n",
      " length:155\n",
      "Cloned Voice Generated!\n",
      "Mel-cepstral distortion (lower is better): 20.2310\n",
      "[12.626347, 14.420941, 18.06169, 22.143261, 14.004939, 20.230968]\n"
     ]
    },
    {
     "name": "stderr",
     "output_type": "stream",
     "text": [
      "/opt/anaconda3/envs/openvoice/lib/python3.9/site-packages/torch/nn/utils/weight_norm.py:28: UserWarning: torch.nn.utils.weight_norm is deprecated in favor of torch.nn.utils.parametrizations.weight_norm.\n",
      "  warnings.warn(\"torch.nn.utils.weight_norm is deprecated in favor of torch.nn.utils.parametrizations.weight_norm.\")\n"
     ]
    },
    {
     "name": "stdout",
     "output_type": "stream",
     "text": [
      "Loaded checkpoint 'checkpoints/base_speakers/EN/checkpoint.pth'\n",
      "missing/unexpected keys: [] []\n",
      "Loaded checkpoint 'checkpoints/converter/checkpoint.pth'\n",
      "missing/unexpected keys: [] []\n",
      "OpenVoice version: v1\n",
      "[(0.0, 10.0906875)]\n",
      "after vad: dur = 10.09\n",
      " > Text splitted to sentences.\n",
      "True leadership means empowering others. It's about inspiring people to achieve their full potential and creating an environment where everyone can succeed.\n",
      " > ===========================\n",
      "tɹu ˈlidəɹˌʃɪp minz ɪmˈpaʊəɹɪŋ ˈəðəɹz. ɪts əˈbaʊt ˌɪnˈspaɪəɹɪŋ ˈpipəɫ tɪ əˈtʃiv ðɛɹ fʊɫ pəˈtɛnʃəɫ ənd kɹiˈeɪtɪŋ ən ɪnˈvaɪɹənmənt wɛɹ ˈɛvɹiˌwən kən səkˈsid.\n",
      " length:155\n",
      " length:155\n",
      "Cloned Voice Generated!\n",
      "Mel-cepstral distortion (lower is better): 90.9001\n"
     ]
    },
    {
     "name": "stderr",
     "output_type": "stream",
     "text": [
      "/opt/anaconda3/envs/openvoice/lib/python3.9/site-packages/torch/nn/utils/weight_norm.py:28: UserWarning: torch.nn.utils.weight_norm is deprecated in favor of torch.nn.utils.parametrizations.weight_norm.\n",
      "  warnings.warn(\"torch.nn.utils.weight_norm is deprecated in favor of torch.nn.utils.parametrizations.weight_norm.\")\n"
     ]
    },
    {
     "name": "stdout",
     "output_type": "stream",
     "text": [
      "Loaded checkpoint 'checkpoints/base_speakers/EN/checkpoint.pth'\n",
      "missing/unexpected keys: [] []\n",
      "Loaded checkpoint 'checkpoints/converter/checkpoint.pth'\n",
      "missing/unexpected keys: [] []\n",
      "OpenVoice version: v1\n",
      "[(0.0, 13.298)]\n",
      "after vad: dur = 13.298\n",
      " > Text splitted to sentences.\n",
      "True leadership means empowering others. It's about inspiring people to achieve their full potential and creating an environment where everyone can succeed.\n",
      " > ===========================\n",
      "tɹu ˈlidəɹˌʃɪp minz ɪmˈpaʊəɹɪŋ ˈəðəɹz. ɪts əˈbaʊt ˌɪnˈspaɪəɹɪŋ ˈpipəɫ tɪ əˈtʃiv ðɛɹ fʊɫ pəˈtɛnʃəɫ ənd kɹiˈeɪtɪŋ ən ɪnˈvaɪɹənmənt wɛɹ ˈɛvɹiˌwən kən səkˈsid.\n",
      " length:155\n",
      " length:155\n",
      "Cloned Voice Generated!\n",
      "Mel-cepstral distortion (lower is better): 81.2532\n"
     ]
    },
    {
     "name": "stderr",
     "output_type": "stream",
     "text": [
      "/opt/anaconda3/envs/openvoice/lib/python3.9/site-packages/torch/nn/utils/weight_norm.py:28: UserWarning: torch.nn.utils.weight_norm is deprecated in favor of torch.nn.utils.parametrizations.weight_norm.\n",
      "  warnings.warn(\"torch.nn.utils.weight_norm is deprecated in favor of torch.nn.utils.parametrizations.weight_norm.\")\n"
     ]
    },
    {
     "name": "stdout",
     "output_type": "stream",
     "text": [
      "Loaded checkpoint 'checkpoints/base_speakers/EN/checkpoint.pth'\n",
      "missing/unexpected keys: [] []\n",
      "Loaded checkpoint 'checkpoints/converter/checkpoint.pth'\n",
      "missing/unexpected keys: [] []\n",
      "OpenVoice version: v1\n",
      "[(0.0, 15.9146875)]\n",
      "after vad: dur = 15.914\n",
      " > Text splitted to sentences.\n",
      "True leadership means empowering others. It's about inspiring people to achieve their full potential and creating an environment where everyone can succeed.\n",
      " > ===========================\n",
      "tɹu ˈlidəɹˌʃɪp minz ɪmˈpaʊəɹɪŋ ˈəðəɹz. ɪts əˈbaʊt ˌɪnˈspaɪəɹɪŋ ˈpipəɫ tɪ əˈtʃiv ðɛɹ fʊɫ pəˈtɛnʃəɫ ənd kɹiˈeɪtɪŋ ən ɪnˈvaɪɹənmənt wɛɹ ˈɛvɹiˌwən kən səkˈsid.\n",
      " length:155\n",
      " length:155\n",
      "Cloned Voice Generated!\n",
      "Mel-cepstral distortion (lower is better): 88.6253\n"
     ]
    },
    {
     "name": "stderr",
     "output_type": "stream",
     "text": [
      "/opt/anaconda3/envs/openvoice/lib/python3.9/site-packages/torch/nn/utils/weight_norm.py:28: UserWarning: torch.nn.utils.weight_norm is deprecated in favor of torch.nn.utils.parametrizations.weight_norm.\n",
      "  warnings.warn(\"torch.nn.utils.weight_norm is deprecated in favor of torch.nn.utils.parametrizations.weight_norm.\")\n"
     ]
    },
    {
     "name": "stdout",
     "output_type": "stream",
     "text": [
      "Loaded checkpoint 'checkpoints/base_speakers/EN/checkpoint.pth'\n",
      "missing/unexpected keys: [] []\n",
      "Loaded checkpoint 'checkpoints/converter/checkpoint.pth'\n",
      "missing/unexpected keys: [] []\n",
      "OpenVoice version: v1\n",
      "[(0.0, 20.21)]\n",
      "after vad: dur = 20.21\n",
      " > Text splitted to sentences.\n",
      "True leadership means empowering others. It's about inspiring people to achieve their full potential and creating an environment where everyone can succeed.\n",
      " > ===========================\n",
      "tɹu ˈlidəɹˌʃɪp minz ɪmˈpaʊəɹɪŋ ˈəðəɹz. ɪts əˈbaʊt ˌɪnˈspaɪəɹɪŋ ˈpipəɫ tɪ əˈtʃiv ðɛɹ fʊɫ pəˈtɛnʃəɫ ənd kɹiˈeɪtɪŋ ən ɪnˈvaɪɹənmənt wɛɹ ˈɛvɹiˌwən kən səkˈsid.\n",
      " length:155\n",
      " length:155\n",
      "Cloned Voice Generated!\n",
      "Mel-cepstral distortion (lower is better): 83.6052\n"
     ]
    },
    {
     "name": "stderr",
     "output_type": "stream",
     "text": [
      "/opt/anaconda3/envs/openvoice/lib/python3.9/site-packages/torch/nn/utils/weight_norm.py:28: UserWarning: torch.nn.utils.weight_norm is deprecated in favor of torch.nn.utils.parametrizations.weight_norm.\n",
      "  warnings.warn(\"torch.nn.utils.weight_norm is deprecated in favor of torch.nn.utils.parametrizations.weight_norm.\")\n"
     ]
    },
    {
     "name": "stdout",
     "output_type": "stream",
     "text": [
      "Loaded checkpoint 'checkpoints/base_speakers/EN/checkpoint.pth'\n",
      "missing/unexpected keys: [] []\n",
      "Loaded checkpoint 'checkpoints/converter/checkpoint.pth'\n",
      "missing/unexpected keys: [] []\n",
      "OpenVoice version: v1\n",
      "[(0.0, 32.658), (32.75, 33.5146875)]\n",
      "after vad: dur = 33.422\n",
      " > Text splitted to sentences.\n",
      "True leadership means empowering others. It's about inspiring people to achieve their full potential and creating an environment where everyone can succeed.\n",
      " > ===========================\n",
      "tɹu ˈlidəɹˌʃɪp minz ɪmˈpaʊəɹɪŋ ˈəðəɹz. ɪts əˈbaʊt ˌɪnˈspaɪəɹɪŋ ˈpipəɫ tɪ əˈtʃiv ðɛɹ fʊɫ pəˈtɛnʃəɫ ənd kɹiˈeɪtɪŋ ən ɪnˈvaɪɹənmənt wɛɹ ˈɛvɹiˌwən kən səkˈsid.\n",
      " length:155\n",
      " length:155\n",
      "Cloned Voice Generated!\n",
      "Mel-cepstral distortion (lower is better): 81.8500\n"
     ]
    },
    {
     "name": "stderr",
     "output_type": "stream",
     "text": [
      "/opt/anaconda3/envs/openvoice/lib/python3.9/site-packages/torch/nn/utils/weight_norm.py:28: UserWarning: torch.nn.utils.weight_norm is deprecated in favor of torch.nn.utils.parametrizations.weight_norm.\n",
      "  warnings.warn(\"torch.nn.utils.weight_norm is deprecated in favor of torch.nn.utils.parametrizations.weight_norm.\")\n"
     ]
    },
    {
     "name": "stdout",
     "output_type": "stream",
     "text": [
      "Loaded checkpoint 'checkpoints/base_speakers/EN/checkpoint.pth'\n",
      "missing/unexpected keys: [] []\n",
      "Loaded checkpoint 'checkpoints/converter/checkpoint.pth'\n",
      "missing/unexpected keys: [] []\n",
      "OpenVoice version: v1\n",
      "[(0.0, 30.162), (30.19, 58.418), (58.734, 102.098), (102.254, 106.29), (106.638, 120.6186875)]\n",
      "after vad: dur = 119.77\n",
      " > Text splitted to sentences.\n",
      "True leadership means empowering others. It's about inspiring people to achieve their full potential and creating an environment where everyone can succeed.\n",
      " > ===========================\n",
      "tɹu ˈlidəɹˌʃɪp minz ɪmˈpaʊəɹɪŋ ˈəðəɹz. ɪts əˈbaʊt ˌɪnˈspaɪəɹɪŋ ˈpipəɫ tɪ əˈtʃiv ðɛɹ fʊɫ pəˈtɛnʃəɫ ənd kɹiˈeɪtɪŋ ən ɪnˈvaɪɹənmənt wɛɹ ˈɛvɹiˌwən kən səkˈsid.\n",
      " length:155\n",
      " length:155\n",
      "Cloned Voice Generated!\n",
      "Mel-cepstral distortion (lower is better): 72.1729\n",
      "[90.900085, 81.25322, 88.625305, 83.60519, 81.84996, 72.17289]\n"
     ]
    },
    {
     "name": "stderr",
     "output_type": "stream",
     "text": [
      "/opt/anaconda3/envs/openvoice/lib/python3.9/site-packages/torch/nn/utils/weight_norm.py:28: UserWarning: torch.nn.utils.weight_norm is deprecated in favor of torch.nn.utils.parametrizations.weight_norm.\n",
      "  warnings.warn(\"torch.nn.utils.weight_norm is deprecated in favor of torch.nn.utils.parametrizations.weight_norm.\")\n"
     ]
    },
    {
     "name": "stdout",
     "output_type": "stream",
     "text": [
      "Loaded checkpoint 'checkpoints/base_speakers/EN/checkpoint.pth'\n",
      "missing/unexpected keys: [] []\n",
      "Loaded checkpoint 'checkpoints/converter/checkpoint.pth'\n",
      "missing/unexpected keys: [] []\n",
      "OpenVoice version: v1\n",
      "[(0.174, 10.6453125)]\n",
      "after vad: dur = 10.471\n",
      " > Text splitted to sentences.\n",
      "True leadership means empowering others. It's about inspiring people to achieve their full potential and creating an environment where everyone can succeed.\n",
      " > ===========================\n",
      "tɹu ˈlidəɹˌʃɪp minz ɪmˈpaʊəɹɪŋ ˈəðəɹz. ɪts əˈbaʊt ˌɪnˈspaɪəɹɪŋ ˈpipəɫ tɪ əˈtʃiv ðɛɹ fʊɫ pəˈtɛnʃəɫ ənd kɹiˈeɪtɪŋ ən ɪnˈvaɪɹənmənt wɛɹ ˈɛvɹiˌwən kən səkˈsid.\n",
      " length:155\n",
      " length:155\n",
      "Cloned Voice Generated!\n",
      "Mel-cepstral distortion (lower is better): 247.1641\n"
     ]
    },
    {
     "name": "stderr",
     "output_type": "stream",
     "text": [
      "/opt/anaconda3/envs/openvoice/lib/python3.9/site-packages/torch/nn/utils/weight_norm.py:28: UserWarning: torch.nn.utils.weight_norm is deprecated in favor of torch.nn.utils.parametrizations.weight_norm.\n",
      "  warnings.warn(\"torch.nn.utils.weight_norm is deprecated in favor of torch.nn.utils.parametrizations.weight_norm.\")\n"
     ]
    },
    {
     "name": "stdout",
     "output_type": "stream",
     "text": [
      "Loaded checkpoint 'checkpoints/base_speakers/EN/checkpoint.pth'\n",
      "missing/unexpected keys: [] []\n",
      "Loaded checkpoint 'checkpoints/converter/checkpoint.pth'\n",
      "missing/unexpected keys: [] []\n",
      "OpenVoice version: v1\n",
      "[(0.0, 13.696)]\n",
      "after vad: dur = 13.696\n",
      " > Text splitted to sentences.\n",
      "True leadership means empowering others. It's about inspiring people to achieve their full potential and creating an environment where everyone can succeed.\n",
      " > ===========================\n",
      "tɹu ˈlidəɹˌʃɪp minz ɪmˈpaʊəɹɪŋ ˈəðəɹz. ɪts əˈbaʊt ˌɪnˈspaɪəɹɪŋ ˈpipəɫ tɪ əˈtʃiv ðɛɹ fʊɫ pəˈtɛnʃəɫ ənd kɹiˈeɪtɪŋ ən ɪnˈvaɪɹənmənt wɛɹ ˈɛvɹiˌwən kən səkˈsid.\n",
      " length:155\n",
      " length:155\n",
      "Cloned Voice Generated!\n",
      "Mel-cepstral distortion (lower is better): 245.2806\n"
     ]
    },
    {
     "name": "stderr",
     "output_type": "stream",
     "text": [
      "/opt/anaconda3/envs/openvoice/lib/python3.9/site-packages/torch/nn/utils/weight_norm.py:28: UserWarning: torch.nn.utils.weight_norm is deprecated in favor of torch.nn.utils.parametrizations.weight_norm.\n",
      "  warnings.warn(\"torch.nn.utils.weight_norm is deprecated in favor of torch.nn.utils.parametrizations.weight_norm.\")\n"
     ]
    },
    {
     "name": "stdout",
     "output_type": "stream",
     "text": [
      "Loaded checkpoint 'checkpoints/base_speakers/EN/checkpoint.pth'\n",
      "missing/unexpected keys: [] []\n",
      "Loaded checkpoint 'checkpoints/converter/checkpoint.pth'\n",
      "missing/unexpected keys: [] []\n",
      "OpenVoice version: v1\n",
      "[(0.0, 18.5173125)]\n",
      "after vad: dur = 18.517\n",
      " > Text splitted to sentences.\n",
      "True leadership means empowering others. It's about inspiring people to achieve their full potential and creating an environment where everyone can succeed.\n",
      " > ===========================\n",
      "tɹu ˈlidəɹˌʃɪp minz ɪmˈpaʊəɹɪŋ ˈəðəɹz. ɪts əˈbaʊt ˌɪnˈspaɪəɹɪŋ ˈpipəɫ tɪ əˈtʃiv ðɛɹ fʊɫ pəˈtɛnʃəɫ ənd kɹiˈeɪtɪŋ ən ɪnˈvaɪɹənmənt wɛɹ ˈɛvɹiˌwən kən səkˈsid.\n",
      " length:155\n",
      " length:155\n",
      "Cloned Voice Generated!\n",
      "Mel-cepstral distortion (lower is better): 251.2202\n"
     ]
    },
    {
     "name": "stderr",
     "output_type": "stream",
     "text": [
      "/opt/anaconda3/envs/openvoice/lib/python3.9/site-packages/torch/nn/utils/weight_norm.py:28: UserWarning: torch.nn.utils.weight_norm is deprecated in favor of torch.nn.utils.parametrizations.weight_norm.\n",
      "  warnings.warn(\"torch.nn.utils.weight_norm is deprecated in favor of torch.nn.utils.parametrizations.weight_norm.\")\n"
     ]
    },
    {
     "name": "stdout",
     "output_type": "stream",
     "text": [
      "Loaded checkpoint 'checkpoints/base_speakers/EN/checkpoint.pth'\n",
      "missing/unexpected keys: [] []\n",
      "Loaded checkpoint 'checkpoints/converter/checkpoint.pth'\n",
      "missing/unexpected keys: [] []\n",
      "OpenVoice version: v1\n",
      "[(0.0, 21.1626875)]\n",
      "after vad: dur = 21.162\n",
      " > Text splitted to sentences.\n",
      "True leadership means empowering others. It's about inspiring people to achieve their full potential and creating an environment where everyone can succeed.\n",
      " > ===========================\n",
      "tɹu ˈlidəɹˌʃɪp minz ɪmˈpaʊəɹɪŋ ˈəðəɹz. ɪts əˈbaʊt ˌɪnˈspaɪəɹɪŋ ˈpipəɫ tɪ əˈtʃiv ðɛɹ fʊɫ pəˈtɛnʃəɫ ənd kɹiˈeɪtɪŋ ən ɪnˈvaɪɹənmənt wɛɹ ˈɛvɹiˌwən kən səkˈsid.\n",
      " length:155\n",
      " length:155\n",
      "Cloned Voice Generated!\n",
      "Mel-cepstral distortion (lower is better): 245.9912\n"
     ]
    },
    {
     "name": "stderr",
     "output_type": "stream",
     "text": [
      "/opt/anaconda3/envs/openvoice/lib/python3.9/site-packages/torch/nn/utils/weight_norm.py:28: UserWarning: torch.nn.utils.weight_norm is deprecated in favor of torch.nn.utils.parametrizations.weight_norm.\n",
      "  warnings.warn(\"torch.nn.utils.weight_norm is deprecated in favor of torch.nn.utils.parametrizations.weight_norm.\")\n"
     ]
    },
    {
     "name": "stdout",
     "output_type": "stream",
     "text": [
      "Loaded checkpoint 'checkpoints/base_speakers/EN/checkpoint.pth'\n",
      "missing/unexpected keys: [] []\n",
      "Loaded checkpoint 'checkpoints/converter/checkpoint.pth'\n",
      "missing/unexpected keys: [] []\n",
      "OpenVoice version: v1\n",
      "[(0.0, 33.6213125)]\n",
      "after vad: dur = 33.621\n",
      " > Text splitted to sentences.\n",
      "True leadership means empowering others. It's about inspiring people to achieve their full potential and creating an environment where everyone can succeed.\n",
      " > ===========================\n",
      "tɹu ˈlidəɹˌʃɪp minz ɪmˈpaʊəɹɪŋ ˈəðəɹz. ɪts əˈbaʊt ˌɪnˈspaɪəɹɪŋ ˈpipəɫ tɪ əˈtʃiv ðɛɹ fʊɫ pəˈtɛnʃəɫ ənd kɹiˈeɪtɪŋ ən ɪnˈvaɪɹənmənt wɛɹ ˈɛvɹiˌwən kən səkˈsid.\n",
      " length:155\n",
      " length:155\n",
      "Cloned Voice Generated!\n",
      "Mel-cepstral distortion (lower is better): 253.1254\n"
     ]
    },
    {
     "name": "stderr",
     "output_type": "stream",
     "text": [
      "/opt/anaconda3/envs/openvoice/lib/python3.9/site-packages/torch/nn/utils/weight_norm.py:28: UserWarning: torch.nn.utils.weight_norm is deprecated in favor of torch.nn.utils.parametrizations.weight_norm.\n",
      "  warnings.warn(\"torch.nn.utils.weight_norm is deprecated in favor of torch.nn.utils.parametrizations.weight_norm.\")\n"
     ]
    },
    {
     "name": "stdout",
     "output_type": "stream",
     "text": [
      "Loaded checkpoint 'checkpoints/base_speakers/EN/checkpoint.pth'\n",
      "missing/unexpected keys: [] []\n",
      "Loaded checkpoint 'checkpoints/converter/checkpoint.pth'\n",
      "missing/unexpected keys: [] []\n",
      "OpenVoice version: v1\n",
      "[(0.0, 117.8666875)]\n",
      "after vad: dur = 117.866\n",
      " > Text splitted to sentences.\n",
      "True leadership means empowering others. It's about inspiring people to achieve their full potential and creating an environment where everyone can succeed.\n",
      " > ===========================\n",
      "tɹu ˈlidəɹˌʃɪp minz ɪmˈpaʊəɹɪŋ ˈəðəɹz. ɪts əˈbaʊt ˌɪnˈspaɪəɹɪŋ ˈpipəɫ tɪ əˈtʃiv ðɛɹ fʊɫ pəˈtɛnʃəɫ ənd kɹiˈeɪtɪŋ ən ɪnˈvaɪɹənmənt wɛɹ ˈɛvɹiˌwən kən səkˈsid.\n",
      " length:155\n",
      " length:155\n",
      "Cloned Voice Generated!\n",
      "Mel-cepstral distortion (lower is better): 258.2674\n",
      "[247.16412, 245.2806, 251.22023, 245.99124, 253.12543, 258.26743]\n"
     ]
    },
    {
     "data": {
      "text/plain": [
       "[247.16412, 245.2806, 251.22023, 245.99124, 253.12543, 258.26743]"
      ]
     },
     "execution_count": 45,
     "metadata": {},
     "output_type": "execute_result"
    }
   ],
   "source": [
    "naturalness_for_audiolst(text,naturalness_various_input_audio_length_steven,audiolist_steven)\n",
    "naturalness_for_audiolst(text,naturalness_various_input_audio_length_jeff,audiolist_jeff)\n",
    "naturalness_for_audiolst(text,naturalness_various_input_audio_length_yingqi,audiolist_yingqi)\n",
    "naturalness_for_audiolst(text,naturalness_various_input_audio_length_zoe,audiolist_zoe)"
   ]
  },
  {
   "cell_type": "code",
   "execution_count": 46,
   "metadata": {},
   "outputs": [
    {
     "data": {
      "image/png": "[encoded data removed]",
      "text/plain": [
       "<Figure size 1000x600 with 1 Axes>"
      ]
     },
     "metadata": {},
     "output_type": "display_data"
    }
   ],
   "source": [
    "import matplotlib.pyplot as plt\n",
    "\n",
    "plt.figure(figsize=(10, 6))\n",
    "\n",
    "plt.plot(audio_lengths_steven, naturalness_various_input_audio_length_steven, marker='o', label='Male Volunteer1', color='r')\n",
    "plt.plot(audio_lengths_zoe, naturalness_various_input_audio_length_zoe, marker='s', label='Female Volunteer1 ', color='g')\n",
    "plt.plot(audio_lengths_jeff, naturalness_various_input_audio_length_jeff, marker='o', label='Male Volunteer2', color='b')\n",
    "plt.plot(audio_lengths_yingqi, naturalness_various_input_audio_length_yingqi, marker='s', label='Female Volunteer2 ', color='m')\n",
    "\n",
    "plt.xlabel('Audio Length (seconds)')\n",
    "plt.ylabel('Mel-cepstral distortion')\n",
    "plt.title('Mel-cepstral distortion vs Input Audio Length (156 characters generated audio)')\n",
    "plt.legend()\n",
    "plt.grid(True)\n",
    "plt.show()"
   ]
  },
  {
   "cell_type": "code",
   "execution_count": 47,
   "metadata": {},
   "outputs": [],
   "source": [
    "text2 = \"Innovation is the lifeblood of progress. It's about challenging the status quo, thinking outside the box, and daring to explore uncharted territories. When we embrace innovation, we open the door to new ideas, new solutions, and new opportunities that can reshape industries and improve lives.\""
   ]
  },
  {
   "cell_type": "code",
   "execution_count": 48,
   "metadata": {},
   "outputs": [
    {
     "data": {
      "text/plain": [
       "293"
      ]
     },
     "execution_count": 48,
     "metadata": {},
     "output_type": "execute_result"
    }
   ],
   "source": [
    "len(text2)"
   ]
  },
  {
   "cell_type": "code",
   "execution_count": 52,
   "metadata": {},
   "outputs": [],
   "source": [
    "\n",
    "naturalness_various_input_audio_length_steven = []\n",
    "naturalness_various_input_audio_length_zoe = []\n",
    "naturalness_various_input_audio_length_jeff = []\n",
    "naturalness_various_input_audio_length_yingqi = []\n",
    "\n",
    "audiolist_steven = [\"voice_samples/steven/10.wav\", \"voice_samples/steven/16.wav\", \"voice_samples/steven/18.wav\", \"voice_samples/steven/19.wav\",\n",
    "                    \"voice_samples/steven/35.wav\", \"voice_samples/steven/106.wav\"] \n",
    "audiolist_zoe = [\"voice_samples/zoe/10.wav\", \"voice_samples/zoe/13.wav\", \"voice_samples/zoe/18.wav\", \"voice_samples/zoe/21.wav\",\n",
    "                 \"voice_samples/zoe/33.wav\", \"voice_samples/zoe/117.wav\"]\n",
    "audiolist_jeff = [\"voice_samples/jeff/10.wav\", \"voice_samples/jeff/15.wav\", \"voice_samples/jeff/19.wav\", \"voice_samples/jeff/22.wav\",\n",
    "                  \"voice_samples/jeff/34.wav\",\"voice_samples/jeff/104.wav\"]\n",
    "audiolist_yingqi = [\"voice_samples/yingqi/10.wav\",\"voice_samples/yingqi/14.wav\", \"voice_samples/yingqi/16.wav\", \"voice_samples/yingqi/21.wav\",\n",
    "                    \"voice_samples/yingqi/33.wav\", \"voice_samples/yingqi/121.wav\"]\n",
    "\n",
    "audio_lengths_steven = [10,16,18,19,35,106]\n",
    "audio_lengths_zoe = [10,13,18,21,33,117]\n",
    "audio_lengths_jeff = [10,15,19,22,34,104]\n",
    "audio_lengths_yingqi = [10,14,16,21,33,121]\n",
    "\n",
    "\n",
    "def naturalness_for_audiolst(text2,scorelst, audiolst):\n",
    "    sample_speech= audiolst[3]\n",
    "    for audio in audiolst:\n",
    "        generate_cloned_voice(audio,text2)\n",
    "        naturalness = score(sample_speech, \"outputs/output_en_default.wav\")\n",
    "        scorelst.append(naturalness)\n",
    "    print(scorelst)    \n",
    "    return scorelst"
   ]
  },
  {
   "cell_type": "code",
   "execution_count": 53,
   "metadata": {},
   "outputs": [
    {
     "name": "stderr",
     "output_type": "stream",
     "text": [
      "/opt/anaconda3/envs/openvoice/lib/python3.9/site-packages/torch/nn/utils/weight_norm.py:28: UserWarning: torch.nn.utils.weight_norm is deprecated in favor of torch.nn.utils.parametrizations.weight_norm.\n",
      "  warnings.warn(\"torch.nn.utils.weight_norm is deprecated in favor of torch.nn.utils.parametrizations.weight_norm.\")\n"
     ]
    },
    {
     "name": "stdout",
     "output_type": "stream",
     "text": [
      "Loaded checkpoint 'checkpoints/base_speakers/EN/checkpoint.pth'\n",
      "missing/unexpected keys: [] []\n",
      "Loaded checkpoint 'checkpoints/converter/checkpoint.pth'\n",
      "missing/unexpected keys: [] []\n",
      "OpenVoice version: v1\n",
      "[(0.0, 10.112)]\n",
      "after vad: dur = 10.112\n",
      " > Text splitted to sentences.\n",
      "Innovation is the lifeblood of progress. It's about challenging the status quo,\n",
      "thinking outside the box, and daring to explore uncharted territories. When we embrace innovation,\n",
      "we open the door to new ideas, new solutions, and new opportunities that can reshape industries and improve lives.\n",
      " > ===========================\n",
      "ˌɪnəˈveɪʃən ɪz ðə ˈlaɪfˌbləd əv ˈpɹɑˌgɹɛs. ɪts əˈbaʊt ˈtʃæləndʒɪŋ ðə ˈstætəs kwoʊ,\n",
      " length:82\n",
      " length:82\n",
      "ˈθɪŋkɪŋ ˈaʊtˈsaɪd ðə bɑks, ənd ˈdɛɹɪŋ tɪ ɪkˈsplɔɹ ənˈtʃɑɹtɪd ˈtɛɹəˌtɔɹiz. wɪn wi ɪmˈbɹeɪs ˌɪnəˈveɪʃən,\n",
      " length:102\n",
      " length:102\n",
      "wi ˈoʊpən ðə dɔɹ tɪ nu aɪˈdiəz, nu səˈluʃənz, ənd nu ˌɑpəɹˈtunətiz ðət kən ɹiˈʃeɪp ˈɪndəstɹiz ənd ˌɪmˈpɹuv lɪvz.\n",
      " length:112\n",
      " length:112\n",
      "Cloned Voice Generated!\n",
      "Mel-cepstral distortion (lower is better): 130.2721\n"
     ]
    },
    {
     "name": "stderr",
     "output_type": "stream",
     "text": [
      "/opt/anaconda3/envs/openvoice/lib/python3.9/site-packages/torch/nn/utils/weight_norm.py:28: UserWarning: torch.nn.utils.weight_norm is deprecated in favor of torch.nn.utils.parametrizations.weight_norm.\n",
      "  warnings.warn(\"torch.nn.utils.weight_norm is deprecated in favor of torch.nn.utils.parametrizations.weight_norm.\")\n"
     ]
    },
    {
     "name": "stdout",
     "output_type": "stream",
     "text": [
      "Loaded checkpoint 'checkpoints/base_speakers/EN/checkpoint.pth'\n",
      "missing/unexpected keys: [] []\n",
      "Loaded checkpoint 'checkpoints/converter/checkpoint.pth'\n",
      "missing/unexpected keys: [] []\n",
      "OpenVoice version: v1\n",
      "[(0.0, 16.4266875)]\n",
      "after vad: dur = 16.426\n",
      " > Text splitted to sentences.\n",
      "Innovation is the lifeblood of progress. It's about challenging the status quo,\n",
      "thinking outside the box, and daring to explore uncharted territories. When we embrace innovation,\n",
      "we open the door to new ideas, new solutions, and new opportunities that can reshape industries and improve lives.\n",
      " > ===========================\n",
      "ˌɪnəˈveɪʃən ɪz ðə ˈlaɪfˌbləd əv ˈpɹɑˌgɹɛs. ɪts əˈbaʊt ˈtʃæləndʒɪŋ ðə ˈstætəs kwoʊ,\n",
      " length:82\n",
      " length:82\n",
      "ˈθɪŋkɪŋ ˈaʊtˈsaɪd ðə bɑks, ənd ˈdɛɹɪŋ tɪ ɪkˈsplɔɹ ənˈtʃɑɹtɪd ˈtɛɹəˌtɔɹiz. wɪn wi ɪmˈbɹeɪs ˌɪnəˈveɪʃən,\n",
      " length:102\n",
      " length:102\n",
      "wi ˈoʊpən ðə dɔɹ tɪ nu aɪˈdiəz, nu səˈluʃənz, ənd nu ˌɑpəɹˈtunətiz ðət kən ɹiˈʃeɪp ˈɪndəstɹiz ənd ˌɪmˈpɹuv lɪvz.\n",
      " length:112\n",
      " length:112\n",
      "Cloned Voice Generated!\n",
      "Mel-cepstral distortion (lower is better): 128.4970\n"
     ]
    },
    {
     "name": "stderr",
     "output_type": "stream",
     "text": [
      "/opt/anaconda3/envs/openvoice/lib/python3.9/site-packages/torch/nn/utils/weight_norm.py:28: UserWarning: torch.nn.utils.weight_norm is deprecated in favor of torch.nn.utils.parametrizations.weight_norm.\n",
      "  warnings.warn(\"torch.nn.utils.weight_norm is deprecated in favor of torch.nn.utils.parametrizations.weight_norm.\")\n"
     ]
    },
    {
     "name": "stdout",
     "output_type": "stream",
     "text": [
      "Loaded checkpoint 'checkpoints/base_speakers/EN/checkpoint.pth'\n",
      "missing/unexpected keys: [] []\n",
      "Loaded checkpoint 'checkpoints/converter/checkpoint.pth'\n",
      "missing/unexpected keys: [] []\n",
      "OpenVoice version: v1\n",
      "[(0.0, 18.944)]\n",
      "after vad: dur = 18.944\n",
      " > Text splitted to sentences.\n",
      "Innovation is the lifeblood of progress. It's about challenging the status quo,\n",
      "thinking outside the box, and daring to explore uncharted territories. When we embrace innovation,\n",
      "we open the door to new ideas, new solutions, and new opportunities that can reshape industries and improve lives.\n",
      " > ===========================\n",
      "ˌɪnəˈveɪʃən ɪz ðə ˈlaɪfˌbləd əv ˈpɹɑˌgɹɛs. ɪts əˈbaʊt ˈtʃæləndʒɪŋ ðə ˈstætəs kwoʊ,\n",
      " length:82\n",
      " length:82\n",
      "ˈθɪŋkɪŋ ˈaʊtˈsaɪd ðə bɑks, ənd ˈdɛɹɪŋ tɪ ɪkˈsplɔɹ ənˈtʃɑɹtɪd ˈtɛɹəˌtɔɹiz. wɪn wi ɪmˈbɹeɪs ˌɪnəˈveɪʃən,\n",
      " length:102\n",
      " length:102\n",
      "wi ˈoʊpən ðə dɔɹ tɪ nu aɪˈdiəz, nu səˈluʃənz, ənd nu ˌɑpəɹˈtunətiz ðət kən ɹiˈʃeɪp ˈɪndəstɹiz ənd ˌɪmˈpɹuv lɪvz.\n",
      " length:112\n",
      " length:112\n",
      "Cloned Voice Generated!\n",
      "Mel-cepstral distortion (lower is better): 125.2123\n"
     ]
    },
    {
     "name": "stderr",
     "output_type": "stream",
     "text": [
      "/opt/anaconda3/envs/openvoice/lib/python3.9/site-packages/torch/nn/utils/weight_norm.py:28: UserWarning: torch.nn.utils.weight_norm is deprecated in favor of torch.nn.utils.parametrizations.weight_norm.\n",
      "  warnings.warn(\"torch.nn.utils.weight_norm is deprecated in favor of torch.nn.utils.parametrizations.weight_norm.\")\n"
     ]
    },
    {
     "name": "stdout",
     "output_type": "stream",
     "text": [
      "Loaded checkpoint 'checkpoints/base_speakers/EN/checkpoint.pth'\n",
      "missing/unexpected keys: [] []\n",
      "Loaded checkpoint 'checkpoints/converter/checkpoint.pth'\n",
      "missing/unexpected keys: [] []\n",
      "OpenVoice version: v1\n",
      "[(0.0, 19.584)]\n",
      "after vad: dur = 19.584\n",
      " > Text splitted to sentences.\n",
      "Innovation is the lifeblood of progress. It's about challenging the status quo,\n",
      "thinking outside the box, and daring to explore uncharted territories. When we embrace innovation,\n",
      "we open the door to new ideas, new solutions, and new opportunities that can reshape industries and improve lives.\n",
      " > ===========================\n",
      "ˌɪnəˈveɪʃən ɪz ðə ˈlaɪfˌbləd əv ˈpɹɑˌgɹɛs. ɪts əˈbaʊt ˈtʃæləndʒɪŋ ðə ˈstætəs kwoʊ,\n",
      " length:82\n",
      " length:82\n",
      "ˈθɪŋkɪŋ ˈaʊtˈsaɪd ðə bɑks, ənd ˈdɛɹɪŋ tɪ ɪkˈsplɔɹ ənˈtʃɑɹtɪd ˈtɛɹəˌtɔɹiz. wɪn wi ɪmˈbɹeɪs ˌɪnəˈveɪʃən,\n",
      " length:102\n",
      " length:102\n",
      "wi ˈoʊpən ðə dɔɹ tɪ nu aɪˈdiəz, nu səˈluʃənz, ənd nu ˌɑpəɹˈtunətiz ðət kən ɹiˈʃeɪp ˈɪndəstɹiz ənd ˌɪmˈpɹuv lɪvz.\n",
      " length:112\n",
      " length:112\n",
      "Cloned Voice Generated!\n",
      "Mel-cepstral distortion (lower is better): 125.0818\n"
     ]
    },
    {
     "name": "stderr",
     "output_type": "stream",
     "text": [
      "/opt/anaconda3/envs/openvoice/lib/python3.9/site-packages/torch/nn/utils/weight_norm.py:28: UserWarning: torch.nn.utils.weight_norm is deprecated in favor of torch.nn.utils.parametrizations.weight_norm.\n",
      "  warnings.warn(\"torch.nn.utils.weight_norm is deprecated in favor of torch.nn.utils.parametrizations.weight_norm.\")\n"
     ]
    },
    {
     "name": "stdout",
     "output_type": "stream",
     "text": [
      "Loaded checkpoint 'checkpoints/base_speakers/EN/checkpoint.pth'\n",
      "missing/unexpected keys: [] []\n",
      "Loaded checkpoint 'checkpoints/converter/checkpoint.pth'\n",
      "missing/unexpected keys: [] []\n",
      "OpenVoice version: v1\n",
      "[(0.0, 35.3066875)]\n",
      "after vad: dur = 35.306\n",
      " > Text splitted to sentences.\n",
      "Innovation is the lifeblood of progress. It's about challenging the status quo,\n",
      "thinking outside the box, and daring to explore uncharted territories. When we embrace innovation,\n",
      "we open the door to new ideas, new solutions, and new opportunities that can reshape industries and improve lives.\n",
      " > ===========================\n",
      "ˌɪnəˈveɪʃən ɪz ðə ˈlaɪfˌbləd əv ˈpɹɑˌgɹɛs. ɪts əˈbaʊt ˈtʃæləndʒɪŋ ðə ˈstætəs kwoʊ,\n",
      " length:82\n",
      " length:82\n",
      "ˈθɪŋkɪŋ ˈaʊtˈsaɪd ðə bɑks, ənd ˈdɛɹɪŋ tɪ ɪkˈsplɔɹ ənˈtʃɑɹtɪd ˈtɛɹəˌtɔɹiz. wɪn wi ɪmˈbɹeɪs ˌɪnəˈveɪʃən,\n",
      " length:102\n",
      " length:102\n",
      "wi ˈoʊpən ðə dɔɹ tɪ nu aɪˈdiəz, nu səˈluʃənz, ənd nu ˌɑpəɹˈtunətiz ðət kən ɹiˈʃeɪp ˈɪndəstɹiz ənd ˌɪmˈpɹuv lɪvz.\n",
      " length:112\n",
      " length:112\n",
      "Cloned Voice Generated!\n",
      "Mel-cepstral distortion (lower is better): 135.3976\n"
     ]
    },
    {
     "name": "stderr",
     "output_type": "stream",
     "text": [
      "/opt/anaconda3/envs/openvoice/lib/python3.9/site-packages/torch/nn/utils/weight_norm.py:28: UserWarning: torch.nn.utils.weight_norm is deprecated in favor of torch.nn.utils.parametrizations.weight_norm.\n",
      "  warnings.warn(\"torch.nn.utils.weight_norm is deprecated in favor of torch.nn.utils.parametrizations.weight_norm.\")\n"
     ]
    },
    {
     "name": "stdout",
     "output_type": "stream",
     "text": [
      "Loaded checkpoint 'checkpoints/base_speakers/EN/checkpoint.pth'\n",
      "missing/unexpected keys: [] []\n",
      "Loaded checkpoint 'checkpoints/converter/checkpoint.pth'\n",
      "missing/unexpected keys: [] []\n",
      "OpenVoice version: v1\n",
      "[(0.0, 106.1546875)]\n",
      "after vad: dur = 106.154\n",
      " > Text splitted to sentences.\n",
      "Innovation is the lifeblood of progress. It's about challenging the status quo,\n",
      "thinking outside the box, and daring to explore uncharted territories. When we embrace innovation,\n",
      "we open the door to new ideas, new solutions, and new opportunities that can reshape industries and improve lives.\n",
      " > ===========================\n",
      "ˌɪnəˈveɪʃən ɪz ðə ˈlaɪfˌbləd əv ˈpɹɑˌgɹɛs. ɪts əˈbaʊt ˈtʃæləndʒɪŋ ðə ˈstætəs kwoʊ,\n",
      " length:82\n",
      " length:82\n",
      "ˈθɪŋkɪŋ ˈaʊtˈsaɪd ðə bɑks, ənd ˈdɛɹɪŋ tɪ ɪkˈsplɔɹ ənˈtʃɑɹtɪd ˈtɛɹəˌtɔɹiz. wɪn wi ɪmˈbɹeɪs ˌɪnəˈveɪʃən,\n",
      " length:102\n",
      " length:102\n",
      "wi ˈoʊpən ðə dɔɹ tɪ nu aɪˈdiəz, nu səˈluʃənz, ənd nu ˌɑpəɹˈtunətiz ðət kən ɹiˈʃeɪp ˈɪndəstɹiz ənd ˌɪmˈpɹuv lɪvz.\n",
      " length:112\n",
      " length:112\n",
      "Cloned Voice Generated!\n",
      "Mel-cepstral distortion (lower is better): 125.0112\n",
      "[130.27214, 128.49698, 125.21227, 125.08177, 135.39757, 125.011246]\n"
     ]
    },
    {
     "name": "stderr",
     "output_type": "stream",
     "text": [
      "/opt/anaconda3/envs/openvoice/lib/python3.9/site-packages/torch/nn/utils/weight_norm.py:28: UserWarning: torch.nn.utils.weight_norm is deprecated in favor of torch.nn.utils.parametrizations.weight_norm.\n",
      "  warnings.warn(\"torch.nn.utils.weight_norm is deprecated in favor of torch.nn.utils.parametrizations.weight_norm.\")\n"
     ]
    },
    {
     "name": "stdout",
     "output_type": "stream",
     "text": [
      "Loaded checkpoint 'checkpoints/base_speakers/EN/checkpoint.pth'\n",
      "missing/unexpected keys: [] []\n",
      "Loaded checkpoint 'checkpoints/converter/checkpoint.pth'\n",
      "missing/unexpected keys: [] []\n",
      "OpenVoice version: v1\n",
      "[(0.0, 9.152)]\n",
      "after vad: dur = 9.152\n",
      " > Text splitted to sentences.\n",
      "Innovation is the lifeblood of progress. It's about challenging the status quo,\n",
      "thinking outside the box, and daring to explore uncharted territories. When we embrace innovation,\n",
      "we open the door to new ideas, new solutions, and new opportunities that can reshape industries and improve lives.\n",
      " > ===========================\n",
      "ˌɪnəˈveɪʃən ɪz ðə ˈlaɪfˌbləd əv ˈpɹɑˌgɹɛs. ɪts əˈbaʊt ˈtʃæləndʒɪŋ ðə ˈstætəs kwoʊ,\n",
      " length:82\n",
      " length:82\n",
      "ˈθɪŋkɪŋ ˈaʊtˈsaɪd ðə bɑks, ənd ˈdɛɹɪŋ tɪ ɪkˈsplɔɹ ənˈtʃɑɹtɪd ˈtɛɹəˌtɔɹiz. wɪn wi ɪmˈbɹeɪs ˌɪnəˈveɪʃən,\n",
      " length:102\n",
      " length:102\n",
      "wi ˈoʊpən ðə dɔɹ tɪ nu aɪˈdiəz, nu səˈluʃənz, ənd nu ˌɑpəɹˈtunətiz ðət kən ɹiˈʃeɪp ˈɪndəstɹiz ənd ˌɪmˈpɹuv lɪvz.\n",
      " length:112\n",
      " length:112\n",
      "Cloned Voice Generated!\n",
      "Mel-cepstral distortion (lower is better): 13.3425\n"
     ]
    },
    {
     "name": "stderr",
     "output_type": "stream",
     "text": [
      "/opt/anaconda3/envs/openvoice/lib/python3.9/site-packages/torch/nn/utils/weight_norm.py:28: UserWarning: torch.nn.utils.weight_norm is deprecated in favor of torch.nn.utils.parametrizations.weight_norm.\n",
      "  warnings.warn(\"torch.nn.utils.weight_norm is deprecated in favor of torch.nn.utils.parametrizations.weight_norm.\")\n"
     ]
    },
    {
     "name": "stdout",
     "output_type": "stream",
     "text": [
      "Loaded checkpoint 'checkpoints/base_speakers/EN/checkpoint.pth'\n",
      "missing/unexpected keys: [] []\n",
      "Loaded checkpoint 'checkpoints/converter/checkpoint.pth'\n",
      "missing/unexpected keys: [] []\n",
      "OpenVoice version: v1\n",
      "[(0.206, 15.0613125)]\n",
      "after vad: dur = 14.855\n",
      " > Text splitted to sentences.\n",
      "Innovation is the lifeblood of progress. It's about challenging the status quo,\n",
      "thinking outside the box, and daring to explore uncharted territories. When we embrace innovation,\n",
      "we open the door to new ideas, new solutions, and new opportunities that can reshape industries and improve lives.\n",
      " > ===========================\n",
      "ˌɪnəˈveɪʃən ɪz ðə ˈlaɪfˌbləd əv ˈpɹɑˌgɹɛs. ɪts əˈbaʊt ˈtʃæləndʒɪŋ ðə ˈstætəs kwoʊ,\n",
      " length:82\n",
      " length:82\n",
      "ˈθɪŋkɪŋ ˈaʊtˈsaɪd ðə bɑks, ənd ˈdɛɹɪŋ tɪ ɪkˈsplɔɹ ənˈtʃɑɹtɪd ˈtɛɹəˌtɔɹiz. wɪn wi ɪmˈbɹeɪs ˌɪnəˈveɪʃən,\n",
      " length:102\n",
      " length:102\n",
      "wi ˈoʊpən ðə dɔɹ tɪ nu aɪˈdiəz, nu səˈluʃənz, ənd nu ˌɑpəɹˈtunətiz ðət kən ɹiˈʃeɪp ˈɪndəstɹiz ənd ˌɪmˈpɹuv lɪvz.\n",
      " length:112\n",
      " length:112\n",
      "Cloned Voice Generated!\n",
      "Mel-cepstral distortion (lower is better): 13.3524\n"
     ]
    },
    {
     "name": "stderr",
     "output_type": "stream",
     "text": [
      "/opt/anaconda3/envs/openvoice/lib/python3.9/site-packages/torch/nn/utils/weight_norm.py:28: UserWarning: torch.nn.utils.weight_norm is deprecated in favor of torch.nn.utils.parametrizations.weight_norm.\n",
      "  warnings.warn(\"torch.nn.utils.weight_norm is deprecated in favor of torch.nn.utils.parametrizations.weight_norm.\")\n"
     ]
    },
    {
     "name": "stdout",
     "output_type": "stream",
     "text": [
      "Loaded checkpoint 'checkpoints/base_speakers/EN/checkpoint.pth'\n",
      "missing/unexpected keys: [] []\n",
      "Loaded checkpoint 'checkpoints/converter/checkpoint.pth'\n",
      "missing/unexpected keys: [] []\n",
      "OpenVoice version: v1\n",
      "[(0.0, 19.8613125)]\n",
      "after vad: dur = 19.861\n",
      " > Text splitted to sentences.\n",
      "Innovation is the lifeblood of progress. It's about challenging the status quo,\n",
      "thinking outside the box, and daring to explore uncharted territories. When we embrace innovation,\n",
      "we open the door to new ideas, new solutions, and new opportunities that can reshape industries and improve lives.\n",
      " > ===========================\n",
      "ˌɪnəˈveɪʃən ɪz ðə ˈlaɪfˌbləd əv ˈpɹɑˌgɹɛs. ɪts əˈbaʊt ˈtʃæləndʒɪŋ ðə ˈstætəs kwoʊ,\n",
      " length:82\n",
      " length:82\n",
      "ˈθɪŋkɪŋ ˈaʊtˈsaɪd ðə bɑks, ənd ˈdɛɹɪŋ tɪ ɪkˈsplɔɹ ənˈtʃɑɹtɪd ˈtɛɹəˌtɔɹiz. wɪn wi ɪmˈbɹeɪs ˌɪnəˈveɪʃən,\n",
      " length:102\n",
      " length:102\n",
      "wi ˈoʊpən ðə dɔɹ tɪ nu aɪˈdiəz, nu səˈluʃənz, ənd nu ˌɑpəɹˈtunətiz ðət kən ɹiˈʃeɪp ˈɪndəstɹiz ənd ˌɪmˈpɹuv lɪvz.\n",
      " length:112\n",
      " length:112\n",
      "Cloned Voice Generated!\n",
      "Mel-cepstral distortion (lower is better): 21.3905\n"
     ]
    },
    {
     "name": "stderr",
     "output_type": "stream",
     "text": [
      "/opt/anaconda3/envs/openvoice/lib/python3.9/site-packages/torch/nn/utils/weight_norm.py:28: UserWarning: torch.nn.utils.weight_norm is deprecated in favor of torch.nn.utils.parametrizations.weight_norm.\n",
      "  warnings.warn(\"torch.nn.utils.weight_norm is deprecated in favor of torch.nn.utils.parametrizations.weight_norm.\")\n"
     ]
    },
    {
     "name": "stdout",
     "output_type": "stream",
     "text": [
      "Loaded checkpoint 'checkpoints/base_speakers/EN/checkpoint.pth'\n",
      "missing/unexpected keys: [] []\n",
      "Loaded checkpoint 'checkpoints/converter/checkpoint.pth'\n",
      "missing/unexpected keys: [] []\n",
      "OpenVoice version: v1\n",
      "[(0.238, 22.9546875)]\n",
      "after vad: dur = 22.716\n",
      " > Text splitted to sentences.\n",
      "Innovation is the lifeblood of progress. It's about challenging the status quo,\n",
      "thinking outside the box, and daring to explore uncharted territories. When we embrace innovation,\n",
      "we open the door to new ideas, new solutions, and new opportunities that can reshape industries and improve lives.\n",
      " > ===========================\n",
      "ˌɪnəˈveɪʃən ɪz ðə ˈlaɪfˌbləd əv ˈpɹɑˌgɹɛs. ɪts əˈbaʊt ˈtʃæləndʒɪŋ ðə ˈstætəs kwoʊ,\n",
      " length:82\n",
      " length:82\n",
      "ˈθɪŋkɪŋ ˈaʊtˈsaɪd ðə bɑks, ənd ˈdɛɹɪŋ tɪ ɪkˈsplɔɹ ənˈtʃɑɹtɪd ˈtɛɹəˌtɔɹiz. wɪn wi ɪmˈbɹeɪs ˌɪnəˈveɪʃən,\n",
      " length:102\n",
      " length:102\n",
      "wi ˈoʊpən ðə dɔɹ tɪ nu aɪˈdiəz, nu səˈluʃənz, ənd nu ˌɑpəɹˈtunətiz ðət kən ɹiˈʃeɪp ˈɪndəstɹiz ənd ˌɪmˈpɹuv lɪvz.\n",
      " length:112\n",
      " length:112\n",
      "Cloned Voice Generated!\n",
      "Mel-cepstral distortion (lower is better): 18.5347\n"
     ]
    },
    {
     "name": "stderr",
     "output_type": "stream",
     "text": [
      "/opt/anaconda3/envs/openvoice/lib/python3.9/site-packages/torch/nn/utils/weight_norm.py:28: UserWarning: torch.nn.utils.weight_norm is deprecated in favor of torch.nn.utils.parametrizations.weight_norm.\n",
      "  warnings.warn(\"torch.nn.utils.weight_norm is deprecated in favor of torch.nn.utils.parametrizations.weight_norm.\")\n"
     ]
    },
    {
     "name": "stdout",
     "output_type": "stream",
     "text": [
      "Loaded checkpoint 'checkpoints/base_speakers/EN/checkpoint.pth'\n",
      "missing/unexpected keys: [] []\n",
      "Loaded checkpoint 'checkpoints/converter/checkpoint.pth'\n",
      "missing/unexpected keys: [] []\n",
      "OpenVoice version: v1\n",
      "[(0.078, 34.304)]\n",
      "after vad: dur = 34.226\n",
      " > Text splitted to sentences.\n",
      "Innovation is the lifeblood of progress. It's about challenging the status quo,\n",
      "thinking outside the box, and daring to explore uncharted territories. When we embrace innovation,\n",
      "we open the door to new ideas, new solutions, and new opportunities that can reshape industries and improve lives.\n",
      " > ===========================\n",
      "ˌɪnəˈveɪʃən ɪz ðə ˈlaɪfˌbləd əv ˈpɹɑˌgɹɛs. ɪts əˈbaʊt ˈtʃæləndʒɪŋ ðə ˈstætəs kwoʊ,\n",
      " length:82\n",
      " length:82\n",
      "ˈθɪŋkɪŋ ˈaʊtˈsaɪd ðə bɑks, ənd ˈdɛɹɪŋ tɪ ɪkˈsplɔɹ ənˈtʃɑɹtɪd ˈtɛɹəˌtɔɹiz. wɪn wi ɪmˈbɹeɪs ˌɪnəˈveɪʃən,\n",
      " length:102\n",
      " length:102\n",
      "wi ˈoʊpən ðə dɔɹ tɪ nu aɪˈdiəz, nu səˈluʃənz, ənd nu ˌɑpəɹˈtunətiz ðət kən ɹiˈʃeɪp ˈɪndəstɹiz ənd ˌɪmˈpɹuv lɪvz.\n",
      " length:112\n",
      " length:112\n",
      "Cloned Voice Generated!\n",
      "Mel-cepstral distortion (lower is better): 15.1240\n"
     ]
    },
    {
     "name": "stderr",
     "output_type": "stream",
     "text": [
      "/opt/anaconda3/envs/openvoice/lib/python3.9/site-packages/torch/nn/utils/weight_norm.py:28: UserWarning: torch.nn.utils.weight_norm is deprecated in favor of torch.nn.utils.parametrizations.weight_norm.\n",
      "  warnings.warn(\"torch.nn.utils.weight_norm is deprecated in favor of torch.nn.utils.parametrizations.weight_norm.\")\n"
     ]
    },
    {
     "name": "stdout",
     "output_type": "stream",
     "text": [
      "Loaded checkpoint 'checkpoints/base_speakers/EN/checkpoint.pth'\n",
      "missing/unexpected keys: [] []\n",
      "Loaded checkpoint 'checkpoints/converter/checkpoint.pth'\n",
      "missing/unexpected keys: [] []\n",
      "OpenVoice version: v1\n",
      "[(0.0, 62.674), (62.798, 104.384)]\n",
      "after vad: dur = 104.26\n",
      " > Text splitted to sentences.\n",
      "Innovation is the lifeblood of progress. It's about challenging the status quo,\n",
      "thinking outside the box, and daring to explore uncharted territories. When we embrace innovation,\n",
      "we open the door to new ideas, new solutions, and new opportunities that can reshape industries and improve lives.\n",
      " > ===========================\n",
      "ˌɪnəˈveɪʃən ɪz ðə ˈlaɪfˌbləd əv ˈpɹɑˌgɹɛs. ɪts əˈbaʊt ˈtʃæləndʒɪŋ ðə ˈstætəs kwoʊ,\n",
      " length:82\n",
      " length:82\n",
      "ˈθɪŋkɪŋ ˈaʊtˈsaɪd ðə bɑks, ənd ˈdɛɹɪŋ tɪ ɪkˈsplɔɹ ənˈtʃɑɹtɪd ˈtɛɹəˌtɔɹiz. wɪn wi ɪmˈbɹeɪs ˌɪnəˈveɪʃən,\n",
      " length:102\n",
      " length:102\n",
      "wi ˈoʊpən ðə dɔɹ tɪ nu aɪˈdiəz, nu səˈluʃənz, ənd nu ˌɑpəɹˈtunətiz ðət kən ɹiˈʃeɪp ˈɪndəstɹiz ənd ˌɪmˈpɹuv lɪvz.\n",
      " length:112\n",
      " length:112\n",
      "Cloned Voice Generated!\n",
      "Mel-cepstral distortion (lower is better): 20.7059\n",
      "[13.342511, 13.352358, 21.390486, 18.534712, 15.124045, 20.705885]\n"
     ]
    },
    {
     "name": "stderr",
     "output_type": "stream",
     "text": [
      "/opt/anaconda3/envs/openvoice/lib/python3.9/site-packages/torch/nn/utils/weight_norm.py:28: UserWarning: torch.nn.utils.weight_norm is deprecated in favor of torch.nn.utils.parametrizations.weight_norm.\n",
      "  warnings.warn(\"torch.nn.utils.weight_norm is deprecated in favor of torch.nn.utils.parametrizations.weight_norm.\")\n"
     ]
    },
    {
     "name": "stdout",
     "output_type": "stream",
     "text": [
      "Loaded checkpoint 'checkpoints/base_speakers/EN/checkpoint.pth'\n",
      "missing/unexpected keys: [] []\n",
      "Loaded checkpoint 'checkpoints/converter/checkpoint.pth'\n",
      "missing/unexpected keys: [] []\n",
      "OpenVoice version: v1\n",
      "[(0.0, 10.0906875)]\n",
      "after vad: dur = 10.09\n",
      " > Text splitted to sentences.\n",
      "Innovation is the lifeblood of progress. It's about challenging the status quo,\n",
      "thinking outside the box, and daring to explore uncharted territories. When we embrace innovation,\n",
      "we open the door to new ideas, new solutions, and new opportunities that can reshape industries and improve lives.\n",
      " > ===========================\n",
      "ˌɪnəˈveɪʃən ɪz ðə ˈlaɪfˌbləd əv ˈpɹɑˌgɹɛs. ɪts əˈbaʊt ˈtʃæləndʒɪŋ ðə ˈstætəs kwoʊ,\n",
      " length:82\n",
      " length:82\n",
      "ˈθɪŋkɪŋ ˈaʊtˈsaɪd ðə bɑks, ənd ˈdɛɹɪŋ tɪ ɪkˈsplɔɹ ənˈtʃɑɹtɪd ˈtɛɹəˌtɔɹiz. wɪn wi ɪmˈbɹeɪs ˌɪnəˈveɪʃən,\n",
      " length:102\n",
      " length:102\n",
      "wi ˈoʊpən ðə dɔɹ tɪ nu aɪˈdiəz, nu səˈluʃənz, ənd nu ˌɑpəɹˈtunətiz ðət kən ɹiˈʃeɪp ˈɪndəstɹiz ənd ˌɪmˈpɹuv lɪvz.\n",
      " length:112\n",
      " length:112\n",
      "Cloned Voice Generated!\n",
      "Mel-cepstral distortion (lower is better): 48.7546\n"
     ]
    },
    {
     "name": "stderr",
     "output_type": "stream",
     "text": [
      "/opt/anaconda3/envs/openvoice/lib/python3.9/site-packages/torch/nn/utils/weight_norm.py:28: UserWarning: torch.nn.utils.weight_norm is deprecated in favor of torch.nn.utils.parametrizations.weight_norm.\n",
      "  warnings.warn(\"torch.nn.utils.weight_norm is deprecated in favor of torch.nn.utils.parametrizations.weight_norm.\")\n"
     ]
    },
    {
     "name": "stdout",
     "output_type": "stream",
     "text": [
      "Loaded checkpoint 'checkpoints/base_speakers/EN/checkpoint.pth'\n",
      "missing/unexpected keys: [] []\n",
      "Loaded checkpoint 'checkpoints/converter/checkpoint.pth'\n",
      "missing/unexpected keys: [] []\n",
      "OpenVoice version: v1\n",
      "[(0.0, 13.298)]\n",
      "after vad: dur = 13.298\n",
      " > Text splitted to sentences.\n",
      "Innovation is the lifeblood of progress. It's about challenging the status quo,\n",
      "thinking outside the box, and daring to explore uncharted territories. When we embrace innovation,\n",
      "we open the door to new ideas, new solutions, and new opportunities that can reshape industries and improve lives.\n",
      " > ===========================\n",
      "ˌɪnəˈveɪʃən ɪz ðə ˈlaɪfˌbləd əv ˈpɹɑˌgɹɛs. ɪts əˈbaʊt ˈtʃæləndʒɪŋ ðə ˈstætəs kwoʊ,\n",
      " length:82\n",
      " length:82\n",
      "ˈθɪŋkɪŋ ˈaʊtˈsaɪd ðə bɑks, ənd ˈdɛɹɪŋ tɪ ɪkˈsplɔɹ ənˈtʃɑɹtɪd ˈtɛɹəˌtɔɹiz. wɪn wi ɪmˈbɹeɪs ˌɪnəˈveɪʃən,\n",
      " length:102\n",
      " length:102\n",
      "wi ˈoʊpən ðə dɔɹ tɪ nu aɪˈdiəz, nu səˈluʃənz, ənd nu ˌɑpəɹˈtunətiz ðət kən ɹiˈʃeɪp ˈɪndəstɹiz ənd ˌɪmˈpɹuv lɪvz.\n",
      " length:112\n",
      " length:112\n",
      "Cloned Voice Generated!\n",
      "Mel-cepstral distortion (lower is better): 41.3162\n"
     ]
    },
    {
     "name": "stderr",
     "output_type": "stream",
     "text": [
      "/opt/anaconda3/envs/openvoice/lib/python3.9/site-packages/torch/nn/utils/weight_norm.py:28: UserWarning: torch.nn.utils.weight_norm is deprecated in favor of torch.nn.utils.parametrizations.weight_norm.\n",
      "  warnings.warn(\"torch.nn.utils.weight_norm is deprecated in favor of torch.nn.utils.parametrizations.weight_norm.\")\n"
     ]
    },
    {
     "name": "stdout",
     "output_type": "stream",
     "text": [
      "Loaded checkpoint 'checkpoints/base_speakers/EN/checkpoint.pth'\n",
      "missing/unexpected keys: [] []\n",
      "Loaded checkpoint 'checkpoints/converter/checkpoint.pth'\n",
      "missing/unexpected keys: [] []\n",
      "OpenVoice version: v1\n",
      "[(0.0, 15.9146875)]\n",
      "after vad: dur = 15.914\n",
      " > Text splitted to sentences.\n",
      "Innovation is the lifeblood of progress. It's about challenging the status quo,\n",
      "thinking outside the box, and daring to explore uncharted territories. When we embrace innovation,\n",
      "we open the door to new ideas, new solutions, and new opportunities that can reshape industries and improve lives.\n",
      " > ===========================\n",
      "ˌɪnəˈveɪʃən ɪz ðə ˈlaɪfˌbləd əv ˈpɹɑˌgɹɛs. ɪts əˈbaʊt ˈtʃæləndʒɪŋ ðə ˈstætəs kwoʊ,\n",
      " length:82\n",
      " length:82\n",
      "ˈθɪŋkɪŋ ˈaʊtˈsaɪd ðə bɑks, ənd ˈdɛɹɪŋ tɪ ɪkˈsplɔɹ ənˈtʃɑɹtɪd ˈtɛɹəˌtɔɹiz. wɪn wi ɪmˈbɹeɪs ˌɪnəˈveɪʃən,\n",
      " length:102\n",
      " length:102\n",
      "wi ˈoʊpən ðə dɔɹ tɪ nu aɪˈdiəz, nu səˈluʃənz, ənd nu ˌɑpəɹˈtunətiz ðət kən ɹiˈʃeɪp ˈɪndəstɹiz ənd ˌɪmˈpɹuv lɪvz.\n",
      " length:112\n",
      " length:112\n",
      "Cloned Voice Generated!\n",
      "Mel-cepstral distortion (lower is better): 36.2839\n"
     ]
    },
    {
     "name": "stderr",
     "output_type": "stream",
     "text": [
      "/opt/anaconda3/envs/openvoice/lib/python3.9/site-packages/torch/nn/utils/weight_norm.py:28: UserWarning: torch.nn.utils.weight_norm is deprecated in favor of torch.nn.utils.parametrizations.weight_norm.\n",
      "  warnings.warn(\"torch.nn.utils.weight_norm is deprecated in favor of torch.nn.utils.parametrizations.weight_norm.\")\n"
     ]
    },
    {
     "name": "stdout",
     "output_type": "stream",
     "text": [
      "Loaded checkpoint 'checkpoints/base_speakers/EN/checkpoint.pth'\n",
      "missing/unexpected keys: [] []\n",
      "Loaded checkpoint 'checkpoints/converter/checkpoint.pth'\n",
      "missing/unexpected keys: [] []\n",
      "OpenVoice version: v1\n",
      "[(0.0, 20.21)]\n",
      "after vad: dur = 20.21\n",
      " > Text splitted to sentences.\n",
      "Innovation is the lifeblood of progress. It's about challenging the status quo,\n",
      "thinking outside the box, and daring to explore uncharted territories. When we embrace innovation,\n",
      "we open the door to new ideas, new solutions, and new opportunities that can reshape industries and improve lives.\n",
      " > ===========================\n",
      "ˌɪnəˈveɪʃən ɪz ðə ˈlaɪfˌbləd əv ˈpɹɑˌgɹɛs. ɪts əˈbaʊt ˈtʃæləndʒɪŋ ðə ˈstætəs kwoʊ,\n",
      " length:82\n",
      " length:82\n",
      "ˈθɪŋkɪŋ ˈaʊtˈsaɪd ðə bɑks, ənd ˈdɛɹɪŋ tɪ ɪkˈsplɔɹ ənˈtʃɑɹtɪd ˈtɛɹəˌtɔɹiz. wɪn wi ɪmˈbɹeɪs ˌɪnəˈveɪʃən,\n",
      " length:102\n",
      " length:102\n",
      "wi ˈoʊpən ðə dɔɹ tɪ nu aɪˈdiəz, nu səˈluʃənz, ənd nu ˌɑpəɹˈtunətiz ðət kən ɹiˈʃeɪp ˈɪndəstɹiz ənd ˌɪmˈpɹuv lɪvz.\n",
      " length:112\n",
      " length:112\n",
      "Cloned Voice Generated!\n",
      "Mel-cepstral distortion (lower is better): 34.5762\n"
     ]
    },
    {
     "name": "stderr",
     "output_type": "stream",
     "text": [
      "/opt/anaconda3/envs/openvoice/lib/python3.9/site-packages/torch/nn/utils/weight_norm.py:28: UserWarning: torch.nn.utils.weight_norm is deprecated in favor of torch.nn.utils.parametrizations.weight_norm.\n",
      "  warnings.warn(\"torch.nn.utils.weight_norm is deprecated in favor of torch.nn.utils.parametrizations.weight_norm.\")\n"
     ]
    },
    {
     "name": "stdout",
     "output_type": "stream",
     "text": [
      "Loaded checkpoint 'checkpoints/base_speakers/EN/checkpoint.pth'\n",
      "missing/unexpected keys: [] []\n",
      "Loaded checkpoint 'checkpoints/converter/checkpoint.pth'\n",
      "missing/unexpected keys: [] []\n",
      "OpenVoice version: v1\n",
      "[(0.0, 32.658), (32.75, 33.5146875)]\n",
      "after vad: dur = 33.422\n",
      " > Text splitted to sentences.\n",
      "Innovation is the lifeblood of progress. It's about challenging the status quo,\n",
      "thinking outside the box, and daring to explore uncharted territories. When we embrace innovation,\n",
      "we open the door to new ideas, new solutions, and new opportunities that can reshape industries and improve lives.\n",
      " > ===========================\n",
      "ˌɪnəˈveɪʃən ɪz ðə ˈlaɪfˌbləd əv ˈpɹɑˌgɹɛs. ɪts əˈbaʊt ˈtʃæləndʒɪŋ ðə ˈstætəs kwoʊ,\n",
      " length:82\n",
      " length:82\n",
      "ˈθɪŋkɪŋ ˈaʊtˈsaɪd ðə bɑks, ənd ˈdɛɹɪŋ tɪ ɪkˈsplɔɹ ənˈtʃɑɹtɪd ˈtɛɹəˌtɔɹiz. wɪn wi ɪmˈbɹeɪs ˌɪnəˈveɪʃən,\n",
      " length:102\n",
      " length:102\n",
      "wi ˈoʊpən ðə dɔɹ tɪ nu aɪˈdiəz, nu səˈluʃənz, ənd nu ˌɑpəɹˈtunətiz ðət kən ɹiˈʃeɪp ˈɪndəstɹiz ənd ˌɪmˈpɹuv lɪvz.\n",
      " length:112\n",
      " length:112\n",
      "Cloned Voice Generated!\n",
      "Mel-cepstral distortion (lower is better): 38.3665\n"
     ]
    },
    {
     "name": "stderr",
     "output_type": "stream",
     "text": [
      "/opt/anaconda3/envs/openvoice/lib/python3.9/site-packages/torch/nn/utils/weight_norm.py:28: UserWarning: torch.nn.utils.weight_norm is deprecated in favor of torch.nn.utils.parametrizations.weight_norm.\n",
      "  warnings.warn(\"torch.nn.utils.weight_norm is deprecated in favor of torch.nn.utils.parametrizations.weight_norm.\")\n"
     ]
    },
    {
     "name": "stdout",
     "output_type": "stream",
     "text": [
      "Loaded checkpoint 'checkpoints/base_speakers/EN/checkpoint.pth'\n",
      "missing/unexpected keys: [] []\n",
      "Loaded checkpoint 'checkpoints/converter/checkpoint.pth'\n",
      "missing/unexpected keys: [] []\n",
      "OpenVoice version: v1\n",
      "[(0.0, 30.162), (30.19, 58.418), (58.734, 102.098), (102.254, 106.29), (106.638, 120.6186875)]\n",
      "after vad: dur = 119.77\n",
      " > Text splitted to sentences.\n",
      "Innovation is the lifeblood of progress. It's about challenging the status quo,\n",
      "thinking outside the box, and daring to explore uncharted territories. When we embrace innovation,\n",
      "we open the door to new ideas, new solutions, and new opportunities that can reshape industries and improve lives.\n",
      " > ===========================\n",
      "ˌɪnəˈveɪʃən ɪz ðə ˈlaɪfˌbləd əv ˈpɹɑˌgɹɛs. ɪts əˈbaʊt ˈtʃæləndʒɪŋ ðə ˈstætəs kwoʊ,\n",
      " length:82\n",
      " length:82\n",
      "ˈθɪŋkɪŋ ˈaʊtˈsaɪd ðə bɑks, ənd ˈdɛɹɪŋ tɪ ɪkˈsplɔɹ ənˈtʃɑɹtɪd ˈtɛɹəˌtɔɹiz. wɪn wi ɪmˈbɹeɪs ˌɪnəˈveɪʃən,\n",
      " length:102\n",
      " length:102\n",
      "wi ˈoʊpən ðə dɔɹ tɪ nu aɪˈdiəz, nu səˈluʃənz, ənd nu ˌɑpəɹˈtunətiz ðət kən ɹiˈʃeɪp ˈɪndəstɹiz ənd ˌɪmˈpɹuv lɪvz.\n",
      " length:112\n",
      " length:112\n",
      "Cloned Voice Generated!\n",
      "Mel-cepstral distortion (lower is better): 34.1465\n",
      "[48.754574, 41.316193, 36.283882, 34.57625, 38.36645, 34.146545]\n"
     ]
    },
    {
     "name": "stderr",
     "output_type": "stream",
     "text": [
      "/opt/anaconda3/envs/openvoice/lib/python3.9/site-packages/torch/nn/utils/weight_norm.py:28: UserWarning: torch.nn.utils.weight_norm is deprecated in favor of torch.nn.utils.parametrizations.weight_norm.\n",
      "  warnings.warn(\"torch.nn.utils.weight_norm is deprecated in favor of torch.nn.utils.parametrizations.weight_norm.\")\n"
     ]
    },
    {
     "name": "stdout",
     "output_type": "stream",
     "text": [
      "Loaded checkpoint 'checkpoints/base_speakers/EN/checkpoint.pth'\n",
      "missing/unexpected keys: [] []\n",
      "Loaded checkpoint 'checkpoints/converter/checkpoint.pth'\n",
      "missing/unexpected keys: [] []\n",
      "OpenVoice version: v1\n",
      "[(0.174, 10.6453125)]\n",
      "after vad: dur = 10.471\n",
      " > Text splitted to sentences.\n",
      "Innovation is the lifeblood of progress. It's about challenging the status quo,\n",
      "thinking outside the box, and daring to explore uncharted territories. When we embrace innovation,\n",
      "we open the door to new ideas, new solutions, and new opportunities that can reshape industries and improve lives.\n",
      " > ===========================\n",
      "ˌɪnəˈveɪʃən ɪz ðə ˈlaɪfˌbləd əv ˈpɹɑˌgɹɛs. ɪts əˈbaʊt ˈtʃæləndʒɪŋ ðə ˈstætəs kwoʊ,\n",
      " length:82\n",
      " length:82\n",
      "ˈθɪŋkɪŋ ˈaʊtˈsaɪd ðə bɑks, ənd ˈdɛɹɪŋ tɪ ɪkˈsplɔɹ ənˈtʃɑɹtɪd ˈtɛɹəˌtɔɹiz. wɪn wi ɪmˈbɹeɪs ˌɪnəˈveɪʃən,\n",
      " length:102\n",
      " length:102\n",
      "wi ˈoʊpən ðə dɔɹ tɪ nu aɪˈdiəz, nu səˈluʃənz, ənd nu ˌɑpəɹˈtunətiz ðət kən ɹiˈʃeɪp ˈɪndəstɹiz ənd ˌɪmˈpɹuv lɪvz.\n",
      " length:112\n",
      " length:112\n",
      "Cloned Voice Generated!\n",
      "Mel-cepstral distortion (lower is better): 454.6795\n"
     ]
    },
    {
     "name": "stderr",
     "output_type": "stream",
     "text": [
      "/opt/anaconda3/envs/openvoice/lib/python3.9/site-packages/torch/nn/utils/weight_norm.py:28: UserWarning: torch.nn.utils.weight_norm is deprecated in favor of torch.nn.utils.parametrizations.weight_norm.\n",
      "  warnings.warn(\"torch.nn.utils.weight_norm is deprecated in favor of torch.nn.utils.parametrizations.weight_norm.\")\n"
     ]
    },
    {
     "name": "stdout",
     "output_type": "stream",
     "text": [
      "Loaded checkpoint 'checkpoints/base_speakers/EN/checkpoint.pth'\n",
      "missing/unexpected keys: [] []\n",
      "Loaded checkpoint 'checkpoints/converter/checkpoint.pth'\n",
      "missing/unexpected keys: [] []\n",
      "OpenVoice version: v1\n",
      "[(0.0, 13.696)]\n",
      "after vad: dur = 13.696\n",
      " > Text splitted to sentences.\n",
      "Innovation is the lifeblood of progress. It's about challenging the status quo,\n",
      "thinking outside the box, and daring to explore uncharted territories. When we embrace innovation,\n",
      "we open the door to new ideas, new solutions, and new opportunities that can reshape industries and improve lives.\n",
      " > ===========================\n",
      "ˌɪnəˈveɪʃən ɪz ðə ˈlaɪfˌbləd əv ˈpɹɑˌgɹɛs. ɪts əˈbaʊt ˈtʃæləndʒɪŋ ðə ˈstætəs kwoʊ,\n",
      " length:82\n",
      " length:82\n",
      "ˈθɪŋkɪŋ ˈaʊtˈsaɪd ðə bɑks, ənd ˈdɛɹɪŋ tɪ ɪkˈsplɔɹ ənˈtʃɑɹtɪd ˈtɛɹəˌtɔɹiz. wɪn wi ɪmˈbɹeɪs ˌɪnəˈveɪʃən,\n",
      " length:102\n",
      " length:102\n",
      "wi ˈoʊpən ðə dɔɹ tɪ nu aɪˈdiəz, nu səˈluʃənz, ənd nu ˌɑpəɹˈtunətiz ðət kən ɹiˈʃeɪp ˈɪndəstɹiz ənd ˌɪmˈpɹuv lɪvz.\n",
      " length:112\n",
      " length:112\n",
      "Cloned Voice Generated!\n",
      "Mel-cepstral distortion (lower is better): 394.3662\n"
     ]
    },
    {
     "name": "stderr",
     "output_type": "stream",
     "text": [
      "/opt/anaconda3/envs/openvoice/lib/python3.9/site-packages/torch/nn/utils/weight_norm.py:28: UserWarning: torch.nn.utils.weight_norm is deprecated in favor of torch.nn.utils.parametrizations.weight_norm.\n",
      "  warnings.warn(\"torch.nn.utils.weight_norm is deprecated in favor of torch.nn.utils.parametrizations.weight_norm.\")\n"
     ]
    },
    {
     "name": "stdout",
     "output_type": "stream",
     "text": [
      "Loaded checkpoint 'checkpoints/base_speakers/EN/checkpoint.pth'\n",
      "missing/unexpected keys: [] []\n",
      "Loaded checkpoint 'checkpoints/converter/checkpoint.pth'\n",
      "missing/unexpected keys: [] []\n",
      "OpenVoice version: v1\n",
      "[(0.0, 18.5173125)]\n",
      "after vad: dur = 18.517\n",
      " > Text splitted to sentences.\n",
      "Innovation is the lifeblood of progress. It's about challenging the status quo,\n",
      "thinking outside the box, and daring to explore uncharted territories. When we embrace innovation,\n",
      "we open the door to new ideas, new solutions, and new opportunities that can reshape industries and improve lives.\n",
      " > ===========================\n",
      "ˌɪnəˈveɪʃən ɪz ðə ˈlaɪfˌbləd əv ˈpɹɑˌgɹɛs. ɪts əˈbaʊt ˈtʃæləndʒɪŋ ðə ˈstætəs kwoʊ,\n",
      " length:82\n",
      " length:82\n",
      "ˈθɪŋkɪŋ ˈaʊtˈsaɪd ðə bɑks, ənd ˈdɛɹɪŋ tɪ ɪkˈsplɔɹ ənˈtʃɑɹtɪd ˈtɛɹəˌtɔɹiz. wɪn wi ɪmˈbɹeɪs ˌɪnəˈveɪʃən,\n",
      " length:102\n",
      " length:102\n",
      "wi ˈoʊpən ðə dɔɹ tɪ nu aɪˈdiəz, nu səˈluʃənz, ənd nu ˌɑpəɹˈtunətiz ðət kən ɹiˈʃeɪp ˈɪndəstɹiz ənd ˌɪmˈpɹuv lɪvz.\n",
      " length:112\n",
      " length:112\n",
      "Cloned Voice Generated!\n",
      "Mel-cepstral distortion (lower is better): 427.7478\n"
     ]
    },
    {
     "name": "stderr",
     "output_type": "stream",
     "text": [
      "/opt/anaconda3/envs/openvoice/lib/python3.9/site-packages/torch/nn/utils/weight_norm.py:28: UserWarning: torch.nn.utils.weight_norm is deprecated in favor of torch.nn.utils.parametrizations.weight_norm.\n",
      "  warnings.warn(\"torch.nn.utils.weight_norm is deprecated in favor of torch.nn.utils.parametrizations.weight_norm.\")\n"
     ]
    },
    {
     "name": "stdout",
     "output_type": "stream",
     "text": [
      "Loaded checkpoint 'checkpoints/base_speakers/EN/checkpoint.pth'\n",
      "missing/unexpected keys: [] []\n",
      "Loaded checkpoint 'checkpoints/converter/checkpoint.pth'\n",
      "missing/unexpected keys: [] []\n",
      "OpenVoice version: v1\n",
      "[(0.0, 21.1626875)]\n",
      "after vad: dur = 21.162\n",
      " > Text splitted to sentences.\n",
      "Innovation is the lifeblood of progress. It's about challenging the status quo,\n",
      "thinking outside the box, and daring to explore uncharted territories. When we embrace innovation,\n",
      "we open the door to new ideas, new solutions, and new opportunities that can reshape industries and improve lives.\n",
      " > ===========================\n",
      "ˌɪnəˈveɪʃən ɪz ðə ˈlaɪfˌbləd əv ˈpɹɑˌgɹɛs. ɪts əˈbaʊt ˈtʃæləndʒɪŋ ðə ˈstætəs kwoʊ,\n",
      " length:82\n",
      " length:82\n",
      "ˈθɪŋkɪŋ ˈaʊtˈsaɪd ðə bɑks, ənd ˈdɛɹɪŋ tɪ ɪkˈsplɔɹ ənˈtʃɑɹtɪd ˈtɛɹəˌtɔɹiz. wɪn wi ɪmˈbɹeɪs ˌɪnəˈveɪʃən,\n",
      " length:102\n",
      " length:102\n",
      "wi ˈoʊpən ðə dɔɹ tɪ nu aɪˈdiəz, nu səˈluʃənz, ənd nu ˌɑpəɹˈtunətiz ðət kən ɹiˈʃeɪp ˈɪndəstɹiz ənd ˌɪmˈpɹuv lɪvz.\n",
      " length:112\n",
      " length:112\n",
      "Cloned Voice Generated!\n",
      "Mel-cepstral distortion (lower is better): 409.6052\n"
     ]
    },
    {
     "name": "stderr",
     "output_type": "stream",
     "text": [
      "/opt/anaconda3/envs/openvoice/lib/python3.9/site-packages/torch/nn/utils/weight_norm.py:28: UserWarning: torch.nn.utils.weight_norm is deprecated in favor of torch.nn.utils.parametrizations.weight_norm.\n",
      "  warnings.warn(\"torch.nn.utils.weight_norm is deprecated in favor of torch.nn.utils.parametrizations.weight_norm.\")\n"
     ]
    },
    {
     "name": "stdout",
     "output_type": "stream",
     "text": [
      "Loaded checkpoint 'checkpoints/base_speakers/EN/checkpoint.pth'\n",
      "missing/unexpected keys: [] []\n",
      "Loaded checkpoint 'checkpoints/converter/checkpoint.pth'\n",
      "missing/unexpected keys: [] []\n",
      "OpenVoice version: v1\n",
      "[(0.0, 33.6213125)]\n",
      "after vad: dur = 33.621\n",
      " > Text splitted to sentences.\n",
      "Innovation is the lifeblood of progress. It's about challenging the status quo,\n",
      "thinking outside the box, and daring to explore uncharted territories. When we embrace innovation,\n",
      "we open the door to new ideas, new solutions, and new opportunities that can reshape industries and improve lives.\n",
      " > ===========================\n",
      "ˌɪnəˈveɪʃən ɪz ðə ˈlaɪfˌbləd əv ˈpɹɑˌgɹɛs. ɪts əˈbaʊt ˈtʃæləndʒɪŋ ðə ˈstætəs kwoʊ,\n",
      " length:82\n",
      " length:82\n",
      "ˈθɪŋkɪŋ ˈaʊtˈsaɪd ðə bɑks, ənd ˈdɛɹɪŋ tɪ ɪkˈsplɔɹ ənˈtʃɑɹtɪd ˈtɛɹəˌtɔɹiz. wɪn wi ɪmˈbɹeɪs ˌɪnəˈveɪʃən,\n",
      " length:102\n",
      " length:102\n",
      "wi ˈoʊpən ðə dɔɹ tɪ nu aɪˈdiəz, nu səˈluʃənz, ənd nu ˌɑpəɹˈtunətiz ðət kən ɹiˈʃeɪp ˈɪndəstɹiz ənd ˌɪmˈpɹuv lɪvz.\n",
      " length:112\n",
      " length:112\n",
      "Cloned Voice Generated!\n",
      "Mel-cepstral distortion (lower is better): 400.9226\n"
     ]
    },
    {
     "name": "stderr",
     "output_type": "stream",
     "text": [
      "/opt/anaconda3/envs/openvoice/lib/python3.9/site-packages/torch/nn/utils/weight_norm.py:28: UserWarning: torch.nn.utils.weight_norm is deprecated in favor of torch.nn.utils.parametrizations.weight_norm.\n",
      "  warnings.warn(\"torch.nn.utils.weight_norm is deprecated in favor of torch.nn.utils.parametrizations.weight_norm.\")\n"
     ]
    },
    {
     "name": "stdout",
     "output_type": "stream",
     "text": [
      "Loaded checkpoint 'checkpoints/base_speakers/EN/checkpoint.pth'\n",
      "missing/unexpected keys: [] []\n",
      "Loaded checkpoint 'checkpoints/converter/checkpoint.pth'\n",
      "missing/unexpected keys: [] []\n",
      "OpenVoice version: v1\n",
      "[(0.0, 117.8666875)]\n",
      "after vad: dur = 117.866\n",
      " > Text splitted to sentences.\n",
      "Innovation is the lifeblood of progress. It's about challenging the status quo,\n",
      "thinking outside the box, and daring to explore uncharted territories. When we embrace innovation,\n",
      "we open the door to new ideas, new solutions, and new opportunities that can reshape industries and improve lives.\n",
      " > ===========================\n",
      "ˌɪnəˈveɪʃən ɪz ðə ˈlaɪfˌbləd əv ˈpɹɑˌgɹɛs. ɪts əˈbaʊt ˈtʃæləndʒɪŋ ðə ˈstætəs kwoʊ,\n",
      " length:82\n",
      " length:82\n",
      "ˈθɪŋkɪŋ ˈaʊtˈsaɪd ðə bɑks, ənd ˈdɛɹɪŋ tɪ ɪkˈsplɔɹ ənˈtʃɑɹtɪd ˈtɛɹəˌtɔɹiz. wɪn wi ɪmˈbɹeɪs ˌɪnəˈveɪʃən,\n",
      " length:102\n",
      " length:102\n",
      "wi ˈoʊpən ðə dɔɹ tɪ nu aɪˈdiəz, nu səˈluʃənz, ənd nu ˌɑpəɹˈtunətiz ðət kən ɹiˈʃeɪp ˈɪndəstɹiz ənd ˌɪmˈpɹuv lɪvz.\n",
      " length:112\n",
      " length:112\n",
      "Cloned Voice Generated!\n",
      "Mel-cepstral distortion (lower is better): 413.8369\n",
      "[454.6795, 394.36624, 427.74783, 409.60516, 400.9226, 413.8369]\n"
     ]
    },
    {
     "data": {
      "text/plain": [
       "[454.6795, 394.36624, 427.74783, 409.60516, 400.9226, 413.8369]"
      ]
     },
     "execution_count": 53,
     "metadata": {},
     "output_type": "execute_result"
    }
   ],
   "source": [
    "naturalness_for_audiolst(text2,naturalness_various_input_audio_length_steven,audiolist_steven)\n",
    "naturalness_for_audiolst(text2,naturalness_various_input_audio_length_jeff,audiolist_jeff)\n",
    "naturalness_for_audiolst(text2,naturalness_various_input_audio_length_yingqi,audiolist_yingqi)\n",
    "naturalness_for_audiolst(text2,naturalness_various_input_audio_length_zoe,audiolist_zoe)"
   ]
  },
  {
   "cell_type": "code",
   "execution_count": 54,
   "metadata": {},
   "outputs": [
    {
     "data": {
      "image/png": "[encoded data removed]",
      "text/plain": [
       "<Figure size 1000x600 with 1 Axes>"
      ]
     },
     "metadata": {},
     "output_type": "display_data"
    }
   ],
   "source": [
    "import matplotlib.pyplot as plt\n",
    "\n",
    "plt.figure(figsize=(10, 6))\n",
    "\n",
    "plt.plot(audio_lengths_steven, naturalness_various_input_audio_length_steven, marker='o', label='Male Volunteer1', color='r')\n",
    "plt.plot(audio_lengths_zoe, naturalness_various_input_audio_length_zoe, marker='s', label='Female Volunteer1 ', color='g')\n",
    "plt.plot(audio_lengths_jeff, naturalness_various_input_audio_length_jeff, marker='o', label='Male Volunteer2', color='b')\n",
    "plt.plot(audio_lengths_yingqi, naturalness_various_input_audio_length_yingqi, marker='s', label='Female Volunteer2 ', color='m')\n",
    "\n",
    "plt.xlabel('Audio Length (seconds)')\n",
    "plt.ylabel('Mel-cepstral distortion')\n",
    "plt.title('Mel-cepstral distortion vs Input Audio Length (293 characters generated audio)')\n",
    "plt.legend()\n",
    "plt.grid(True)\n",
    "plt.show()"
   ]
  }
 ],
 "metadata": {
  "kernelspec": {
   "display_name": "openvoice",
   "language": "python",
   "name": "python3"
  },
  "language_info": {
   "codemirror_mode": {
    "name": "ipython",
    "version": 3
   },
   "file_extension": ".py",
   "mimetype": "text/x-python",
   "name": "python",
   "nbconvert_exporter": "python",
   "pygments_lexer": "ipython3",
   "version": "3.9.18"
  }
 },
 "nbformat": 4,
 "nbformat_minor": 2
}
