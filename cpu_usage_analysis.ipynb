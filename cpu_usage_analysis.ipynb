{
 "cells": [
  {
   "cell_type": "markdown",
   "metadata": {},
   "source": [
    "CPU usage refers to the percentage of the central processing unit (CPU) that is being used by a computer program or process. It indicates how much of the CPU's processing capability is being utilized at a given time. \n",
    "\n",
    "For example, if a program is using 50% of the CPU, it means that the program is using half of the CPU's capacity, and the remaining 50% is available for other programs or processes.\n",
    "\n",
    "Monitoring CPU usage is important for understanding the performance of your system and can help you identify processes that are consuming a lot of CPU resources, which may indicate potential performance issues or inefficiencies."
   ]
  },
  {
   "cell_type": "code",
   "execution_count": null,
   "metadata": {},
   "outputs": [],
   "source": [
    "控制变量\n",
    "1. 短input 短output\n",
    "2. 短input 长output\n",
    "3. 长input 短output\n",
    "4. 长input 短output\n"
   ]
  },
  {
   "cell_type": "code",
   "execution_count": null,
   "metadata": {},
   "outputs": [],
   "source": [
    "import psutil\n",
    "from generate_cloned_voice import generate_cloned_voice\n",
    "\n",
    "# Function to measure CPU usage\n",
    "def measure_cpu_usage():\n",
    "    return psutil.cpu_percent(interval=1)\n",
    "\n",
    "# Measure CPU usage before function execution\n",
    "cpu_before = measure_cpu_usage()\n",
    "generate_cloned_voice(\"resources/demo_speaker0.mp3\",\"I love u\")\n",
    "# Measure CPU usage after function execution\n",
    "cpu_after = measure_cpu_usage()\n",
    "cpu_used = cpu_after - cpu_before\n",
    "\n",
    "print(f\"CPU Usage: {cpu_used}%\")\n"
   ]
  },
  {
   "cell_type": "code",
   "execution_count": null,
   "metadata": {},
   "outputs": [],
   "source": [
    "cpu_usages = []\n",
    "\n",
    "for _ in range(10):\n",
    "    cpu_before = measure_cpu_usage()\n",
    "    generate_cloned_voice(\"resources/demo_speaker0.mp3\",\"I love u\")\n",
    "    cpu_after = measure_cpu_usage()\n",
    "    cpu_used = cpu_after - cpu_before\n",
    "    cpu_usages.append(cpu_used)\n",
    "\n",
    "print(\"Execution times:\")\n",
    "for i, usage in enumerate(cpu_usages, 1):\n",
    "    print(f\"Iteration {i}: {usage:.4f} percent\")"
   ]
  }
 ],
 "metadata": {
  "language_info": {
   "name": "python"
  }
 },
 "nbformat": 4,
 "nbformat_minor": 2
}
