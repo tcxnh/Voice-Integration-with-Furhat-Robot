{
 "cells": [
  {
   "cell_type": "markdown",
   "metadata": {},
   "source": [
    "### This note book will evaluate how much time the openvoice needed to genereated cloned voice ###\n",
    "current device mackbook pro, chip m3, 16gb unified memory， all other applications off while running\n"
   ]
  },
  {
   "cell_type": "code",
   "execution_count": 1,
   "metadata": {},
   "outputs": [],
   "source": [
    "import time\n",
    "from generate_cloned_voice import generate_cloned_voice"
   ]
  },
  {
   "cell_type": "markdown",
   "metadata": {},
   "source": [
    "Even if we execute the same audio file, and produce the same output, the execution time is different"
   ]
  },
  {
   "cell_type": "code",
   "execution_count": 2,
   "metadata": {},
   "outputs": [
    {
     "name": "stderr",
     "output_type": "stream",
     "text": [
      "/opt/anaconda3/envs/openvoice/lib/python3.9/site-packages/tqdm/auto.py:21: TqdmWarning: IProgress not found. Please update jupyter and ipywidgets. See https://ipywidgets.readthedocs.io/en/stable/user_install.html\n",
      "  from .autonotebook import tqdm as notebook_tqdm\n"
     ]
    },
    {
     "name": "stdout",
     "output_type": "stream",
     "text": [
      "Importing the dtw module. When using in academic works please cite:\n",
      "  T. Giorgino. Computing and Visualizing Dynamic Time Warping Alignments in R: The dtw Package.\n",
      "  J. Stat. Soft., doi:10.18637/jss.v031.i07.\n",
      "\n"
     ]
    },
    {
     "name": "stderr",
     "output_type": "stream",
     "text": [
      "/opt/anaconda3/envs/openvoice/lib/python3.9/site-packages/torch/nn/utils/weight_norm.py:28: UserWarning: torch.nn.utils.weight_norm is deprecated in favor of torch.nn.utils.parametrizations.weight_norm.\n",
      "  warnings.warn(\"torch.nn.utils.weight_norm is deprecated in favor of torch.nn.utils.parametrizations.weight_norm.\")\n"
     ]
    },
    {
     "name": "stdout",
     "output_type": "stream",
     "text": [
      "Loaded checkpoint 'checkpoints/base_speakers/EN/checkpoint.pth'\n",
      "missing/unexpected keys: [] []\n",
      "Loaded checkpoint 'checkpoints/converter/checkpoint.pth'\n",
      "missing/unexpected keys: [] []\n",
      "OpenVoice version: v1\n"
     ]
    },
    {
     "name": "stderr",
     "output_type": "stream",
     "text": [
      "objc[19634]: Class AVFFrameReceiver is implemented in both /opt/anaconda3/envs/openvoice/lib/python3.9/site-packages/av/.dylibs/libavdevice.59.7.100.dylib (0x153ca8778) and /opt/anaconda3/envs/openvoice/lib/libavdevice.60.3.100.dylib (0x1737f0768). One of the two will be used. Which one is undefined.\n",
      "objc[19634]: Class AVFAudioReceiver is implemented in both /opt/anaconda3/envs/openvoice/lib/python3.9/site-packages/av/.dylibs/libavdevice.59.7.100.dylib (0x153ca87c8) and /opt/anaconda3/envs/openvoice/lib/libavdevice.60.3.100.dylib (0x1737f07b8). One of the two will be used. Which one is undefined.\n"
     ]
    },
    {
     "name": "stdout",
     "output_type": "stream",
     "text": [
      "[(0.0, 19.278375)]\n",
      "after vad: dur = 19.27798185941043\n"
     ]
    },
    {
     "name": "stderr",
     "output_type": "stream",
     "text": [
      "/opt/anaconda3/envs/openvoice/lib/python3.9/site-packages/torch/functional.py:660: UserWarning: stft with return_complex=False is deprecated. In a future pytorch release, stft will return complex tensors for all inputs, and return_complex=False will raise an error.\n",
      "Note: you can still call torch.view_as_real on the complex output to recover the old return format. (Triggered internally at /Users/runner/work/pytorch/pytorch/pytorch/aten/src/ATen/native/SpectralOps.cpp:879.)\n",
      "  return _VF.stft(input, n_fft, hop_length, win_length, window,  # type: ignore[attr-defined]\n"
     ]
    },
    {
     "name": "stdout",
     "output_type": "stream",
     "text": [
      " > Text splitted to sentences.\n",
      "I love u\n",
      " > ===========================\n",
      "aɪ ləv ju.\n",
      " length:10\n",
      " length:10\n",
      "Audio too short, fail to add watermark\n",
      "Cloned Voice Generated!\n"
     ]
    },
    {
     "name": "stderr",
     "output_type": "stream",
     "text": [
      "/opt/anaconda3/envs/openvoice/lib/python3.9/site-packages/torch/nn/utils/weight_norm.py:28: UserWarning: torch.nn.utils.weight_norm is deprecated in favor of torch.nn.utils.parametrizations.weight_norm.\n",
      "  warnings.warn(\"torch.nn.utils.weight_norm is deprecated in favor of torch.nn.utils.parametrizations.weight_norm.\")\n"
     ]
    },
    {
     "name": "stdout",
     "output_type": "stream",
     "text": [
      "Loaded checkpoint 'checkpoints/base_speakers/EN/checkpoint.pth'\n",
      "missing/unexpected keys: [] []\n",
      "Loaded checkpoint 'checkpoints/converter/checkpoint.pth'\n",
      "missing/unexpected keys: [] []\n",
      "OpenVoice version: v1\n",
      "[(0.0, 19.278375)]\n",
      "after vad: dur = 19.27798185941043\n",
      " > Text splitted to sentences.\n",
      "I love u\n",
      " > ===========================\n",
      "aɪ ləv ju.\n",
      " length:10\n",
      " length:10\n",
      "Audio too short, fail to add watermark\n",
      "Cloned Voice Generated!\n"
     ]
    },
    {
     "name": "stderr",
     "output_type": "stream",
     "text": [
      "/opt/anaconda3/envs/openvoice/lib/python3.9/site-packages/torch/nn/utils/weight_norm.py:28: UserWarning: torch.nn.utils.weight_norm is deprecated in favor of torch.nn.utils.parametrizations.weight_norm.\n",
      "  warnings.warn(\"torch.nn.utils.weight_norm is deprecated in favor of torch.nn.utils.parametrizations.weight_norm.\")\n"
     ]
    },
    {
     "name": "stdout",
     "output_type": "stream",
     "text": [
      "Loaded checkpoint 'checkpoints/base_speakers/EN/checkpoint.pth'\n",
      "missing/unexpected keys: [] []\n",
      "Loaded checkpoint 'checkpoints/converter/checkpoint.pth'\n",
      "missing/unexpected keys: [] []\n",
      "OpenVoice version: v1\n",
      "[(0.0, 19.278375)]\n",
      "after vad: dur = 19.27798185941043\n",
      " > Text splitted to sentences.\n",
      "I love u\n",
      " > ===========================\n",
      "aɪ ləv ju.\n",
      " length:10\n",
      " length:10\n",
      "Audio too short, fail to add watermark\n",
      "Cloned Voice Generated!\n"
     ]
    },
    {
     "name": "stderr",
     "output_type": "stream",
     "text": [
      "/opt/anaconda3/envs/openvoice/lib/python3.9/site-packages/torch/nn/utils/weight_norm.py:28: UserWarning: torch.nn.utils.weight_norm is deprecated in favor of torch.nn.utils.parametrizations.weight_norm.\n",
      "  warnings.warn(\"torch.nn.utils.weight_norm is deprecated in favor of torch.nn.utils.parametrizations.weight_norm.\")\n"
     ]
    },
    {
     "name": "stdout",
     "output_type": "stream",
     "text": [
      "Loaded checkpoint 'checkpoints/base_speakers/EN/checkpoint.pth'\n",
      "missing/unexpected keys: [] []\n",
      "Loaded checkpoint 'checkpoints/converter/checkpoint.pth'\n",
      "missing/unexpected keys: [] []\n",
      "OpenVoice version: v1\n",
      "[(0.0, 19.278375)]\n",
      "after vad: dur = 19.27798185941043\n",
      " > Text splitted to sentences.\n",
      "I love u\n",
      " > ===========================\n",
      "aɪ ləv ju.\n",
      " length:10\n",
      " length:10\n",
      "Audio too short, fail to add watermark\n",
      "Cloned Voice Generated!\n"
     ]
    },
    {
     "name": "stderr",
     "output_type": "stream",
     "text": [
      "/opt/anaconda3/envs/openvoice/lib/python3.9/site-packages/torch/nn/utils/weight_norm.py:28: UserWarning: torch.nn.utils.weight_norm is deprecated in favor of torch.nn.utils.parametrizations.weight_norm.\n",
      "  warnings.warn(\"torch.nn.utils.weight_norm is deprecated in favor of torch.nn.utils.parametrizations.weight_norm.\")\n"
     ]
    },
    {
     "name": "stdout",
     "output_type": "stream",
     "text": [
      "Loaded checkpoint 'checkpoints/base_speakers/EN/checkpoint.pth'\n",
      "missing/unexpected keys: [] []\n",
      "Loaded checkpoint 'checkpoints/converter/checkpoint.pth'\n",
      "missing/unexpected keys: [] []\n",
      "OpenVoice version: v1\n",
      "[(0.0, 19.278375)]\n",
      "after vad: dur = 19.27798185941043\n",
      " > Text splitted to sentences.\n",
      "I love u\n",
      " > ===========================\n",
      "aɪ ləv ju.\n",
      " length:10\n",
      " length:10\n",
      "Audio too short, fail to add watermark\n",
      "Cloned Voice Generated!\n",
      "Execution times:\n",
      "Iteration 1: 3.8927 seconds\n",
      "Iteration 2: 2.4190 seconds\n",
      "Iteration 3: 2.4695 seconds\n",
      "Iteration 4: 2.4162 seconds\n",
      "Iteration 5: 2.5245 seconds\n"
     ]
    }
   ],
   "source": [
    "execution_times = []\n",
    "\n",
    "for _ in range(5):\n",
    "    start_time = time.time()\n",
    "    generate_cloned_voice(\"resources/demo_speaker0.mp3\",\"I love u\")\n",
    "    end_time = time.time()\n",
    "    execution_time = end_time - start_time\n",
    "    execution_times.append(execution_time)\n",
    "\n",
    "print(\"Execution times:\")\n",
    "for i, time in enumerate(execution_times, 1):\n",
    "    print(f\"Iteration {i}: {time:.4f} seconds\")"
   ]
  },
  {
   "cell_type": "markdown",
   "metadata": {},
   "source": [
    "Therefore, to to reduce invariance, the same voice cloning process will be execueted 5 times and we will get the avaverge of that"
   ]
  },
  {
   "cell_type": "code",
   "execution_count": 3,
   "metadata": {},
   "outputs": [],
   "source": [
    "import time\n",
    "import statistics\n",
    "def avg_execution_time(reference_speaker_path, inputtext):\n",
    "    execution_times = []\n",
    "\n",
    "    for _ in range(5):\n",
    "        start_time = time.time()\n",
    "        generate_cloned_voice(reference_speaker_path, inputtext)\n",
    "        end_time = time.time()\n",
    "        execution_time = end_time - start_time\n",
    "        execution_times.append(execution_time)\n",
    "    average_time = statistics.mean(execution_times)\n",
    "    return average_time\n"
   ]
  },
  {
   "cell_type": "markdown",
   "metadata": {},
   "source": [
    "### Trial one: Different output length vs execution time ###\n"
   ]
  },
  {
   "cell_type": "code",
   "execution_count": 4,
   "metadata": {},
   "outputs": [
    {
     "name": "stdout",
     "output_type": "stream",
     "text": [
      "[5, 9, 16, 49, 102, 347, 573, 810, 1017]\n"
     ]
    }
   ],
   "source": [
    "text_list = [\"Smile\", \"To change\", \"Seize the moment\", \"Life is a beautiful journey, make each day count.\",\n",
    "            \"In the end, it's not the years in your life that count. It's the life in your years. - Abraham Lincoln\",\n",
    "            \"The quick brown fox jumps over the lazy dog, and the clever red squirrel gathers acorns for the winter. Meanwhile, the majestic eagle soars high above the treetops, surveying the vast landscape below. In the distance, a herd of graceful deer graze peacefully in the lush green meadow, as a babbling brook winds its way through the tranquil forest.\",\n",
    "            \"We all have two lives. The second one starts when we realize we only have one. It's never too late to become the person you've always wanted to be. Embrace change, take chances, and never stop learning. Life is too short to waste time on things that don't matter. Surround yourself with people who lift you up, and cherish the moments you have with them. Remember, happiness is a choice, not a destination. Wake up each day with a grateful heart and a determination to make a difference, no matter how small. Your story is unique, and it's up to you to make it a great one.\",\n",
    "            \"The sun peeked through the curtains, casting a warm glow across the room. She stirred, her eyes fluttering open as she stretched her arms above her head. It was a new day, full of promise and possibility. She smiled, thinking of all the things she wanted to accomplish. First on the list was a visit to her favorite café, where she would sip on a creamy latte and watch the world go by. Then, she would head to the park for a leisurely stroll, taking in the beauty of nature and breathing in the fresh air. In the afternoon, she planned to curl up with a good book, losing herself in the pages of a captivating story. As the day drew to a close, she would meet up with friends for dinner and laughter, sharing stories and making memories. It was a simple plan, but one that filled her with joy and contentment.\",\n",
    "            \"Life is not about waiting for the storm to pass; it's about learning to dance in the rain. We are all faced with challenges and obstacles, but it's how we respond to them that defines our character and shapes our future. Never let fear hold you back from pursuing your dreams. Embrace the unknown, for that is where growth and opportunity lie. Be kind to others, for everyone you meet is fighting a battle you know nothing about. Treat each day as a new beginning, a chance to start fresh and make a positive impact on the world around you. Remember, success is not measured by material possessions, but by the lives you touch and the love you share. Cherish the simple moments, the laughter of a child, the warmth of a hug, the beauty of a sunset. These are the things that make life truly rich. Above all, never lose sight of what matters most - the people you love, the passions that inspire you, and the legacy you leave behind. Life is a precious gift, so live it fully, love deeply, and make every moment count.\"\n",
    "            ]\n",
    "\n",
    "def count_string_lengths(string_list):\n",
    "    length_list = []\n",
    "    for string in string_list:\n",
    "        length = len(string)\n",
    "        length_list.append(length)\n",
    "    return length_list\n",
    "\n",
    "text_length_list = count_string_lengths(text_list)\n",
    "print(text_length_list)"
   ]
  },
  {
   "cell_type": "code",
   "execution_count": 5,
   "metadata": {},
   "outputs": [],
   "source": [
    "def exec_time_vs_text_length(reference_speaker_path):\n",
    "\n",
    "    execution_times = []\n",
    "\n",
    "    for input_text in text_list:\n",
    "        execution_time = avg_execution_time(reference_speaker_path, input_text)\n",
    "        execution_times.append(execution_time)\n",
    "\n",
    "    print(\"Execution times:\")\n",
    "    for i, time in enumerate(execution_times, 1):\n",
    "        print(f\"Text length: {text_length_list[i-1]}, Execution time: {time:.4f} seconds\")\n",
    "    \n",
    "    return execution_times\n",
    "\n"
   ]
  },
  {
   "cell_type": "markdown",
   "metadata": {},
   "source": [
    "Chose to use voice samples from volunteers recorded by phone or laptop to simulate real-life usage scenarios"
   ]
  },
  {
   "cell_type": "code",
   "execution_count": 6,
   "metadata": {},
   "outputs": [
    {
     "name": "stderr",
     "output_type": "stream",
     "text": [
      "/opt/anaconda3/envs/openvoice/lib/python3.9/site-packages/torch/nn/utils/weight_norm.py:28: UserWarning: torch.nn.utils.weight_norm is deprecated in favor of torch.nn.utils.parametrizations.weight_norm.\n",
      "  warnings.warn(\"torch.nn.utils.weight_norm is deprecated in favor of torch.nn.utils.parametrizations.weight_norm.\")\n"
     ]
    },
    {
     "name": "stdout",
     "output_type": "stream",
     "text": [
      "Loaded checkpoint 'checkpoints/base_speakers/EN/checkpoint.pth'\n",
      "missing/unexpected keys: [] []\n",
      "Loaded checkpoint 'checkpoints/converter/checkpoint.pth'\n",
      "missing/unexpected keys: [] []\n",
      "OpenVoice version: v1\n",
      "[(0.0, 10.112)]\n",
      "after vad: dur = 10.112\n",
      " > Text splitted to sentences.\n",
      "Smile\n",
      " > ===========================\n",
      "smaɪɫ.\n",
      " length:6\n",
      " length:6\n",
      "Audio too short, fail to add watermark\n",
      "Cloned Voice Generated!\n"
     ]
    },
    {
     "name": "stderr",
     "output_type": "stream",
     "text": [
      "/opt/anaconda3/envs/openvoice/lib/python3.9/site-packages/torch/nn/utils/weight_norm.py:28: UserWarning: torch.nn.utils.weight_norm is deprecated in favor of torch.nn.utils.parametrizations.weight_norm.\n",
      "  warnings.warn(\"torch.nn.utils.weight_norm is deprecated in favor of torch.nn.utils.parametrizations.weight_norm.\")\n"
     ]
    },
    {
     "name": "stdout",
     "output_type": "stream",
     "text": [
      "Loaded checkpoint 'checkpoints/base_speakers/EN/checkpoint.pth'\n",
      "missing/unexpected keys: [] []\n",
      "Loaded checkpoint 'checkpoints/converter/checkpoint.pth'\n",
      "missing/unexpected keys: [] []\n",
      "OpenVoice version: v1\n",
      "[(0.0, 10.112)]\n",
      "after vad: dur = 10.112\n",
      " > Text splitted to sentences.\n",
      "Smile\n",
      " > ===========================\n",
      "smaɪɫ.\n",
      " length:6\n",
      " length:6\n",
      "Audio too short, fail to add watermark\n",
      "Cloned Voice Generated!\n"
     ]
    },
    {
     "name": "stderr",
     "output_type": "stream",
     "text": [
      "/opt/anaconda3/envs/openvoice/lib/python3.9/site-packages/torch/nn/utils/weight_norm.py:28: UserWarning: torch.nn.utils.weight_norm is deprecated in favor of torch.nn.utils.parametrizations.weight_norm.\n",
      "  warnings.warn(\"torch.nn.utils.weight_norm is deprecated in favor of torch.nn.utils.parametrizations.weight_norm.\")\n"
     ]
    },
    {
     "name": "stdout",
     "output_type": "stream",
     "text": [
      "Loaded checkpoint 'checkpoints/base_speakers/EN/checkpoint.pth'\n",
      "missing/unexpected keys: [] []\n",
      "Loaded checkpoint 'checkpoints/converter/checkpoint.pth'\n",
      "missing/unexpected keys: [] []\n",
      "OpenVoice version: v1\n",
      "[(0.0, 10.112)]\n",
      "after vad: dur = 10.112\n",
      " > Text splitted to sentences.\n",
      "Smile\n",
      " > ===========================\n",
      "smaɪɫ.\n",
      " length:6\n",
      " length:6\n",
      "Audio too short, fail to add watermark\n",
      "Cloned Voice Generated!\n"
     ]
    },
    {
     "name": "stderr",
     "output_type": "stream",
     "text": [
      "/opt/anaconda3/envs/openvoice/lib/python3.9/site-packages/torch/nn/utils/weight_norm.py:28: UserWarning: torch.nn.utils.weight_norm is deprecated in favor of torch.nn.utils.parametrizations.weight_norm.\n",
      "  warnings.warn(\"torch.nn.utils.weight_norm is deprecated in favor of torch.nn.utils.parametrizations.weight_norm.\")\n"
     ]
    },
    {
     "name": "stdout",
     "output_type": "stream",
     "text": [
      "Loaded checkpoint 'checkpoints/base_speakers/EN/checkpoint.pth'\n",
      "missing/unexpected keys: [] []\n",
      "Loaded checkpoint 'checkpoints/converter/checkpoint.pth'\n",
      "missing/unexpected keys: [] []\n",
      "OpenVoice version: v1\n",
      "[(0.0, 10.112)]\n",
      "after vad: dur = 10.112\n",
      " > Text splitted to sentences.\n",
      "Smile\n",
      " > ===========================\n",
      "smaɪɫ.\n",
      " length:6\n",
      " length:6\n",
      "Audio too short, fail to add watermark\n",
      "Cloned Voice Generated!\n"
     ]
    },
    {
     "name": "stderr",
     "output_type": "stream",
     "text": [
      "/opt/anaconda3/envs/openvoice/lib/python3.9/site-packages/torch/nn/utils/weight_norm.py:28: UserWarning: torch.nn.utils.weight_norm is deprecated in favor of torch.nn.utils.parametrizations.weight_norm.\n",
      "  warnings.warn(\"torch.nn.utils.weight_norm is deprecated in favor of torch.nn.utils.parametrizations.weight_norm.\")\n"
     ]
    },
    {
     "name": "stdout",
     "output_type": "stream",
     "text": [
      "Loaded checkpoint 'checkpoints/base_speakers/EN/checkpoint.pth'\n",
      "missing/unexpected keys: [] []\n",
      "Loaded checkpoint 'checkpoints/converter/checkpoint.pth'\n",
      "missing/unexpected keys: [] []\n",
      "OpenVoice version: v1\n",
      "[(0.0, 10.112)]\n",
      "after vad: dur = 10.112\n",
      " > Text splitted to sentences.\n",
      "Smile\n",
      " > ===========================\n",
      "smaɪɫ.\n",
      " length:6\n",
      " length:6\n",
      "Audio too short, fail to add watermark\n",
      "Cloned Voice Generated!\n"
     ]
    },
    {
     "name": "stderr",
     "output_type": "stream",
     "text": [
      "/opt/anaconda3/envs/openvoice/lib/python3.9/site-packages/torch/nn/utils/weight_norm.py:28: UserWarning: torch.nn.utils.weight_norm is deprecated in favor of torch.nn.utils.parametrizations.weight_norm.\n",
      "  warnings.warn(\"torch.nn.utils.weight_norm is deprecated in favor of torch.nn.utils.parametrizations.weight_norm.\")\n"
     ]
    },
    {
     "name": "stdout",
     "output_type": "stream",
     "text": [
      "Loaded checkpoint 'checkpoints/base_speakers/EN/checkpoint.pth'\n",
      "missing/unexpected keys: [] []\n",
      "Loaded checkpoint 'checkpoints/converter/checkpoint.pth'\n",
      "missing/unexpected keys: [] []\n",
      "OpenVoice version: v1\n",
      "[(0.0, 10.112)]\n",
      "after vad: dur = 10.112\n",
      " > Text splitted to sentences.\n",
      "To change\n",
      " > ===========================\n",
      "tɪ tʃeɪndʒ.\n",
      " length:11\n",
      " length:11\n",
      "Audio too short, fail to add watermark\n",
      "Cloned Voice Generated!\n"
     ]
    },
    {
     "name": "stderr",
     "output_type": "stream",
     "text": [
      "/opt/anaconda3/envs/openvoice/lib/python3.9/site-packages/torch/nn/utils/weight_norm.py:28: UserWarning: torch.nn.utils.weight_norm is deprecated in favor of torch.nn.utils.parametrizations.weight_norm.\n",
      "  warnings.warn(\"torch.nn.utils.weight_norm is deprecated in favor of torch.nn.utils.parametrizations.weight_norm.\")\n"
     ]
    },
    {
     "name": "stdout",
     "output_type": "stream",
     "text": [
      "Loaded checkpoint 'checkpoints/base_speakers/EN/checkpoint.pth'\n",
      "missing/unexpected keys: [] []\n",
      "Loaded checkpoint 'checkpoints/converter/checkpoint.pth'\n",
      "missing/unexpected keys: [] []\n",
      "OpenVoice version: v1\n",
      "[(0.0, 10.112)]\n",
      "after vad: dur = 10.112\n",
      " > Text splitted to sentences.\n",
      "To change\n",
      " > ===========================\n",
      "tɪ tʃeɪndʒ.\n",
      " length:11\n",
      " length:11\n",
      "Audio too short, fail to add watermark\n",
      "Cloned Voice Generated!\n"
     ]
    },
    {
     "name": "stderr",
     "output_type": "stream",
     "text": [
      "/opt/anaconda3/envs/openvoice/lib/python3.9/site-packages/torch/nn/utils/weight_norm.py:28: UserWarning: torch.nn.utils.weight_norm is deprecated in favor of torch.nn.utils.parametrizations.weight_norm.\n",
      "  warnings.warn(\"torch.nn.utils.weight_norm is deprecated in favor of torch.nn.utils.parametrizations.weight_norm.\")\n"
     ]
    },
    {
     "name": "stdout",
     "output_type": "stream",
     "text": [
      "Loaded checkpoint 'checkpoints/base_speakers/EN/checkpoint.pth'\n",
      "missing/unexpected keys: [] []\n",
      "Loaded checkpoint 'checkpoints/converter/checkpoint.pth'\n",
      "missing/unexpected keys: [] []\n",
      "OpenVoice version: v1\n",
      "[(0.0, 10.112)]\n",
      "after vad: dur = 10.112\n",
      " > Text splitted to sentences.\n",
      "To change\n",
      " > ===========================\n",
      "tɪ tʃeɪndʒ.\n",
      " length:11\n",
      " length:11\n",
      "Audio too short, fail to add watermark\n",
      "Cloned Voice Generated!\n"
     ]
    },
    {
     "name": "stderr",
     "output_type": "stream",
     "text": [
      "/opt/anaconda3/envs/openvoice/lib/python3.9/site-packages/torch/nn/utils/weight_norm.py:28: UserWarning: torch.nn.utils.weight_norm is deprecated in favor of torch.nn.utils.parametrizations.weight_norm.\n",
      "  warnings.warn(\"torch.nn.utils.weight_norm is deprecated in favor of torch.nn.utils.parametrizations.weight_norm.\")\n"
     ]
    },
    {
     "name": "stdout",
     "output_type": "stream",
     "text": [
      "Loaded checkpoint 'checkpoints/base_speakers/EN/checkpoint.pth'\n",
      "missing/unexpected keys: [] []\n",
      "Loaded checkpoint 'checkpoints/converter/checkpoint.pth'\n",
      "missing/unexpected keys: [] []\n",
      "OpenVoice version: v1\n",
      "[(0.0, 10.112)]\n",
      "after vad: dur = 10.112\n",
      " > Text splitted to sentences.\n",
      "To change\n",
      " > ===========================\n",
      "tɪ tʃeɪndʒ.\n",
      " length:11\n",
      " length:11\n",
      "Audio too short, fail to add watermark\n",
      "Cloned Voice Generated!\n"
     ]
    },
    {
     "name": "stderr",
     "output_type": "stream",
     "text": [
      "/opt/anaconda3/envs/openvoice/lib/python3.9/site-packages/torch/nn/utils/weight_norm.py:28: UserWarning: torch.nn.utils.weight_norm is deprecated in favor of torch.nn.utils.parametrizations.weight_norm.\n",
      "  warnings.warn(\"torch.nn.utils.weight_norm is deprecated in favor of torch.nn.utils.parametrizations.weight_norm.\")\n"
     ]
    },
    {
     "name": "stdout",
     "output_type": "stream",
     "text": [
      "Loaded checkpoint 'checkpoints/base_speakers/EN/checkpoint.pth'\n",
      "missing/unexpected keys: [] []\n",
      "Loaded checkpoint 'checkpoints/converter/checkpoint.pth'\n",
      "missing/unexpected keys: [] []\n",
      "OpenVoice version: v1\n",
      "[(0.0, 10.112)]\n",
      "after vad: dur = 10.112\n",
      " > Text splitted to sentences.\n",
      "To change\n",
      " > ===========================\n",
      "tɪ tʃeɪndʒ.\n",
      " length:11\n",
      " length:11\n",
      "Audio too short, fail to add watermark\n",
      "Cloned Voice Generated!\n"
     ]
    },
    {
     "name": "stderr",
     "output_type": "stream",
     "text": [
      "/opt/anaconda3/envs/openvoice/lib/python3.9/site-packages/torch/nn/utils/weight_norm.py:28: UserWarning: torch.nn.utils.weight_norm is deprecated in favor of torch.nn.utils.parametrizations.weight_norm.\n",
      "  warnings.warn(\"torch.nn.utils.weight_norm is deprecated in favor of torch.nn.utils.parametrizations.weight_norm.\")\n"
     ]
    },
    {
     "name": "stdout",
     "output_type": "stream",
     "text": [
      "Loaded checkpoint 'checkpoints/base_speakers/EN/checkpoint.pth'\n",
      "missing/unexpected keys: [] []\n",
      "Loaded checkpoint 'checkpoints/converter/checkpoint.pth'\n",
      "missing/unexpected keys: [] []\n",
      "OpenVoice version: v1\n",
      "[(0.0, 10.112)]\n",
      "after vad: dur = 10.112\n",
      " > Text splitted to sentences.\n",
      "Seize the moment\n",
      " > ===========================\n",
      "siz ðə ˈmoʊmənt.\n",
      " length:16\n",
      " length:16\n",
      "Audio too short, fail to add watermark\n",
      "Cloned Voice Generated!\n"
     ]
    },
    {
     "name": "stderr",
     "output_type": "stream",
     "text": [
      "/opt/anaconda3/envs/openvoice/lib/python3.9/site-packages/torch/nn/utils/weight_norm.py:28: UserWarning: torch.nn.utils.weight_norm is deprecated in favor of torch.nn.utils.parametrizations.weight_norm.\n",
      "  warnings.warn(\"torch.nn.utils.weight_norm is deprecated in favor of torch.nn.utils.parametrizations.weight_norm.\")\n"
     ]
    },
    {
     "name": "stdout",
     "output_type": "stream",
     "text": [
      "Loaded checkpoint 'checkpoints/base_speakers/EN/checkpoint.pth'\n",
      "missing/unexpected keys: [] []\n",
      "Loaded checkpoint 'checkpoints/converter/checkpoint.pth'\n",
      "missing/unexpected keys: [] []\n",
      "OpenVoice version: v1\n",
      "[(0.0, 10.112)]\n",
      "after vad: dur = 10.112\n",
      " > Text splitted to sentences.\n",
      "Seize the moment\n",
      " > ===========================\n",
      "siz ðə ˈmoʊmənt.\n",
      " length:16\n",
      " length:16\n",
      "Audio too short, fail to add watermark\n",
      "Cloned Voice Generated!\n"
     ]
    },
    {
     "name": "stderr",
     "output_type": "stream",
     "text": [
      "/opt/anaconda3/envs/openvoice/lib/python3.9/site-packages/torch/nn/utils/weight_norm.py:28: UserWarning: torch.nn.utils.weight_norm is deprecated in favor of torch.nn.utils.parametrizations.weight_norm.\n",
      "  warnings.warn(\"torch.nn.utils.weight_norm is deprecated in favor of torch.nn.utils.parametrizations.weight_norm.\")\n"
     ]
    },
    {
     "name": "stdout",
     "output_type": "stream",
     "text": [
      "Loaded checkpoint 'checkpoints/base_speakers/EN/checkpoint.pth'\n",
      "missing/unexpected keys: [] []\n",
      "Loaded checkpoint 'checkpoints/converter/checkpoint.pth'\n",
      "missing/unexpected keys: [] []\n",
      "OpenVoice version: v1\n",
      "[(0.0, 10.112)]\n",
      "after vad: dur = 10.112\n",
      " > Text splitted to sentences.\n",
      "Seize the moment\n",
      " > ===========================\n",
      "siz ðə ˈmoʊmənt.\n",
      " length:16\n",
      " length:16\n",
      "Audio too short, fail to add watermark\n",
      "Cloned Voice Generated!\n"
     ]
    },
    {
     "name": "stderr",
     "output_type": "stream",
     "text": [
      "/opt/anaconda3/envs/openvoice/lib/python3.9/site-packages/torch/nn/utils/weight_norm.py:28: UserWarning: torch.nn.utils.weight_norm is deprecated in favor of torch.nn.utils.parametrizations.weight_norm.\n",
      "  warnings.warn(\"torch.nn.utils.weight_norm is deprecated in favor of torch.nn.utils.parametrizations.weight_norm.\")\n"
     ]
    },
    {
     "name": "stdout",
     "output_type": "stream",
     "text": [
      "Loaded checkpoint 'checkpoints/base_speakers/EN/checkpoint.pth'\n",
      "missing/unexpected keys: [] []\n",
      "Loaded checkpoint 'checkpoints/converter/checkpoint.pth'\n",
      "missing/unexpected keys: [] []\n",
      "OpenVoice version: v1\n",
      "[(0.0, 10.112)]\n",
      "after vad: dur = 10.112\n",
      " > Text splitted to sentences.\n",
      "Seize the moment\n",
      " > ===========================\n",
      "siz ðə ˈmoʊmənt.\n",
      " length:16\n",
      " length:16\n",
      "Audio too short, fail to add watermark\n",
      "Cloned Voice Generated!\n"
     ]
    },
    {
     "name": "stderr",
     "output_type": "stream",
     "text": [
      "/opt/anaconda3/envs/openvoice/lib/python3.9/site-packages/torch/nn/utils/weight_norm.py:28: UserWarning: torch.nn.utils.weight_norm is deprecated in favor of torch.nn.utils.parametrizations.weight_norm.\n",
      "  warnings.warn(\"torch.nn.utils.weight_norm is deprecated in favor of torch.nn.utils.parametrizations.weight_norm.\")\n"
     ]
    },
    {
     "name": "stdout",
     "output_type": "stream",
     "text": [
      "Loaded checkpoint 'checkpoints/base_speakers/EN/checkpoint.pth'\n",
      "missing/unexpected keys: [] []\n",
      "Loaded checkpoint 'checkpoints/converter/checkpoint.pth'\n",
      "missing/unexpected keys: [] []\n",
      "OpenVoice version: v1\n",
      "[(0.0, 10.112)]\n",
      "after vad: dur = 10.112\n",
      " > Text splitted to sentences.\n",
      "Seize the moment\n",
      " > ===========================\n",
      "siz ðə ˈmoʊmənt.\n",
      " length:16\n",
      " length:16\n",
      "Audio too short, fail to add watermark\n",
      "Cloned Voice Generated!\n"
     ]
    },
    {
     "name": "stderr",
     "output_type": "stream",
     "text": [
      "/opt/anaconda3/envs/openvoice/lib/python3.9/site-packages/torch/nn/utils/weight_norm.py:28: UserWarning: torch.nn.utils.weight_norm is deprecated in favor of torch.nn.utils.parametrizations.weight_norm.\n",
      "  warnings.warn(\"torch.nn.utils.weight_norm is deprecated in favor of torch.nn.utils.parametrizations.weight_norm.\")\n"
     ]
    },
    {
     "name": "stdout",
     "output_type": "stream",
     "text": [
      "Loaded checkpoint 'checkpoints/base_speakers/EN/checkpoint.pth'\n",
      "missing/unexpected keys: [] []\n",
      "Loaded checkpoint 'checkpoints/converter/checkpoint.pth'\n",
      "missing/unexpected keys: [] []\n",
      "OpenVoice version: v1\n",
      "[(0.0, 10.112)]\n",
      "after vad: dur = 10.112\n",
      " > Text splitted to sentences.\n",
      "Life is a beautiful journey, make each day count.\n",
      " > ===========================\n",
      "laɪf ɪz ə ˈbjutəfəɫ ˈdʒəɹni, meɪk itʃ deɪ kaʊnt.\n",
      " length:48\n",
      " length:48\n",
      "Cloned Voice Generated!\n"
     ]
    },
    {
     "name": "stderr",
     "output_type": "stream",
     "text": [
      "/opt/anaconda3/envs/openvoice/lib/python3.9/site-packages/torch/nn/utils/weight_norm.py:28: UserWarning: torch.nn.utils.weight_norm is deprecated in favor of torch.nn.utils.parametrizations.weight_norm.\n",
      "  warnings.warn(\"torch.nn.utils.weight_norm is deprecated in favor of torch.nn.utils.parametrizations.weight_norm.\")\n"
     ]
    },
    {
     "name": "stdout",
     "output_type": "stream",
     "text": [
      "Loaded checkpoint 'checkpoints/base_speakers/EN/checkpoint.pth'\n",
      "missing/unexpected keys: [] []\n",
      "Loaded checkpoint 'checkpoints/converter/checkpoint.pth'\n",
      "missing/unexpected keys: [] []\n",
      "OpenVoice version: v1\n",
      "[(0.0, 10.112)]\n",
      "after vad: dur = 10.112\n",
      " > Text splitted to sentences.\n",
      "Life is a beautiful journey, make each day count.\n",
      " > ===========================\n",
      "laɪf ɪz ə ˈbjutəfəɫ ˈdʒəɹni, meɪk itʃ deɪ kaʊnt.\n",
      " length:48\n",
      " length:48\n",
      "Cloned Voice Generated!\n"
     ]
    },
    {
     "name": "stderr",
     "output_type": "stream",
     "text": [
      "/opt/anaconda3/envs/openvoice/lib/python3.9/site-packages/torch/nn/utils/weight_norm.py:28: UserWarning: torch.nn.utils.weight_norm is deprecated in favor of torch.nn.utils.parametrizations.weight_norm.\n",
      "  warnings.warn(\"torch.nn.utils.weight_norm is deprecated in favor of torch.nn.utils.parametrizations.weight_norm.\")\n"
     ]
    },
    {
     "name": "stdout",
     "output_type": "stream",
     "text": [
      "Loaded checkpoint 'checkpoints/base_speakers/EN/checkpoint.pth'\n",
      "missing/unexpected keys: [] []\n",
      "Loaded checkpoint 'checkpoints/converter/checkpoint.pth'\n",
      "missing/unexpected keys: [] []\n",
      "OpenVoice version: v1\n",
      "[(0.0, 10.112)]\n",
      "after vad: dur = 10.112\n",
      " > Text splitted to sentences.\n",
      "Life is a beautiful journey, make each day count.\n",
      " > ===========================\n",
      "laɪf ɪz ə ˈbjutəfəɫ ˈdʒəɹni, meɪk itʃ deɪ kaʊnt.\n",
      " length:48\n",
      " length:48\n",
      "Cloned Voice Generated!\n"
     ]
    },
    {
     "name": "stderr",
     "output_type": "stream",
     "text": [
      "/opt/anaconda3/envs/openvoice/lib/python3.9/site-packages/torch/nn/utils/weight_norm.py:28: UserWarning: torch.nn.utils.weight_norm is deprecated in favor of torch.nn.utils.parametrizations.weight_norm.\n",
      "  warnings.warn(\"torch.nn.utils.weight_norm is deprecated in favor of torch.nn.utils.parametrizations.weight_norm.\")\n"
     ]
    },
    {
     "name": "stdout",
     "output_type": "stream",
     "text": [
      "Loaded checkpoint 'checkpoints/base_speakers/EN/checkpoint.pth'\n",
      "missing/unexpected keys: [] []\n",
      "Loaded checkpoint 'checkpoints/converter/checkpoint.pth'\n",
      "missing/unexpected keys: [] []\n",
      "OpenVoice version: v1\n",
      "[(0.0, 10.112)]\n",
      "after vad: dur = 10.112\n",
      " > Text splitted to sentences.\n",
      "Life is a beautiful journey, make each day count.\n",
      " > ===========================\n",
      "laɪf ɪz ə ˈbjutəfəɫ ˈdʒəɹni, meɪk itʃ deɪ kaʊnt.\n",
      " length:48\n",
      " length:48\n",
      "Cloned Voice Generated!\n"
     ]
    },
    {
     "name": "stderr",
     "output_type": "stream",
     "text": [
      "/opt/anaconda3/envs/openvoice/lib/python3.9/site-packages/torch/nn/utils/weight_norm.py:28: UserWarning: torch.nn.utils.weight_norm is deprecated in favor of torch.nn.utils.parametrizations.weight_norm.\n",
      "  warnings.warn(\"torch.nn.utils.weight_norm is deprecated in favor of torch.nn.utils.parametrizations.weight_norm.\")\n"
     ]
    },
    {
     "name": "stdout",
     "output_type": "stream",
     "text": [
      "Loaded checkpoint 'checkpoints/base_speakers/EN/checkpoint.pth'\n",
      "missing/unexpected keys: [] []\n",
      "Loaded checkpoint 'checkpoints/converter/checkpoint.pth'\n",
      "missing/unexpected keys: [] []\n",
      "OpenVoice version: v1\n",
      "[(0.0, 10.112)]\n",
      "after vad: dur = 10.112\n",
      " > Text splitted to sentences.\n",
      "Life is a beautiful journey, make each day count.\n",
      " > ===========================\n",
      "laɪf ɪz ə ˈbjutəfəɫ ˈdʒəɹni, meɪk itʃ deɪ kaʊnt.\n",
      " length:48\n",
      " length:48\n",
      "Cloned Voice Generated!\n"
     ]
    },
    {
     "name": "stderr",
     "output_type": "stream",
     "text": [
      "/opt/anaconda3/envs/openvoice/lib/python3.9/site-packages/torch/nn/utils/weight_norm.py:28: UserWarning: torch.nn.utils.weight_norm is deprecated in favor of torch.nn.utils.parametrizations.weight_norm.\n",
      "  warnings.warn(\"torch.nn.utils.weight_norm is deprecated in favor of torch.nn.utils.parametrizations.weight_norm.\")\n"
     ]
    },
    {
     "name": "stdout",
     "output_type": "stream",
     "text": [
      "Loaded checkpoint 'checkpoints/base_speakers/EN/checkpoint.pth'\n",
      "missing/unexpected keys: [] []\n",
      "Loaded checkpoint 'checkpoints/converter/checkpoint.pth'\n",
      "missing/unexpected keys: [] []\n",
      "OpenVoice version: v1\n",
      "[(0.0, 10.112)]\n",
      "after vad: dur = 10.112\n",
      " > Text splitted to sentences.\n",
      "In the end, it's not the years in your life that count.\n",
      "It's the life in your years. - Abraham Lincoln\n",
      " > ===========================\n",
      "ɪn ðə ɛnd, ɪts nɑt ðə jɪɹz ɪn jʊɹ laɪf ðət kaʊnt.\n",
      " length:49\n",
      " length:49\n",
      "ɪts ðə laɪf ɪn jʊɹ jɪɹz. ˈeɪbɹəˌhæm ˈlɪŋkən.\n",
      " length:44\n",
      " length:44\n",
      "Cloned Voice Generated!\n"
     ]
    },
    {
     "name": "stderr",
     "output_type": "stream",
     "text": [
      "/opt/anaconda3/envs/openvoice/lib/python3.9/site-packages/torch/nn/utils/weight_norm.py:28: UserWarning: torch.nn.utils.weight_norm is deprecated in favor of torch.nn.utils.parametrizations.weight_norm.\n",
      "  warnings.warn(\"torch.nn.utils.weight_norm is deprecated in favor of torch.nn.utils.parametrizations.weight_norm.\")\n"
     ]
    },
    {
     "name": "stdout",
     "output_type": "stream",
     "text": [
      "Loaded checkpoint 'checkpoints/base_speakers/EN/checkpoint.pth'\n",
      "missing/unexpected keys: [] []\n",
      "Loaded checkpoint 'checkpoints/converter/checkpoint.pth'\n",
      "missing/unexpected keys: [] []\n",
      "OpenVoice version: v1\n",
      "[(0.0, 10.112)]\n",
      "after vad: dur = 10.112\n",
      " > Text splitted to sentences.\n",
      "In the end, it's not the years in your life that count.\n",
      "It's the life in your years. - Abraham Lincoln\n",
      " > ===========================\n",
      "ɪn ðə ɛnd, ɪts nɑt ðə jɪɹz ɪn jʊɹ laɪf ðət kaʊnt.\n",
      " length:49\n",
      " length:49\n",
      "ɪts ðə laɪf ɪn jʊɹ jɪɹz. ˈeɪbɹəˌhæm ˈlɪŋkən.\n",
      " length:44\n",
      " length:44\n",
      "Cloned Voice Generated!\n"
     ]
    },
    {
     "name": "stderr",
     "output_type": "stream",
     "text": [
      "/opt/anaconda3/envs/openvoice/lib/python3.9/site-packages/torch/nn/utils/weight_norm.py:28: UserWarning: torch.nn.utils.weight_norm is deprecated in favor of torch.nn.utils.parametrizations.weight_norm.\n",
      "  warnings.warn(\"torch.nn.utils.weight_norm is deprecated in favor of torch.nn.utils.parametrizations.weight_norm.\")\n"
     ]
    },
    {
     "name": "stdout",
     "output_type": "stream",
     "text": [
      "Loaded checkpoint 'checkpoints/base_speakers/EN/checkpoint.pth'\n",
      "missing/unexpected keys: [] []\n",
      "Loaded checkpoint 'checkpoints/converter/checkpoint.pth'\n",
      "missing/unexpected keys: [] []\n",
      "OpenVoice version: v1\n",
      "[(0.0, 10.112)]\n",
      "after vad: dur = 10.112\n",
      " > Text splitted to sentences.\n",
      "In the end, it's not the years in your life that count.\n",
      "It's the life in your years. - Abraham Lincoln\n",
      " > ===========================\n",
      "ɪn ðə ɛnd, ɪts nɑt ðə jɪɹz ɪn jʊɹ laɪf ðət kaʊnt.\n",
      " length:49\n",
      " length:49\n",
      "ɪts ðə laɪf ɪn jʊɹ jɪɹz. ˈeɪbɹəˌhæm ˈlɪŋkən.\n",
      " length:44\n",
      " length:44\n",
      "Cloned Voice Generated!\n"
     ]
    },
    {
     "name": "stderr",
     "output_type": "stream",
     "text": [
      "/opt/anaconda3/envs/openvoice/lib/python3.9/site-packages/torch/nn/utils/weight_norm.py:28: UserWarning: torch.nn.utils.weight_norm is deprecated in favor of torch.nn.utils.parametrizations.weight_norm.\n",
      "  warnings.warn(\"torch.nn.utils.weight_norm is deprecated in favor of torch.nn.utils.parametrizations.weight_norm.\")\n"
     ]
    },
    {
     "name": "stdout",
     "output_type": "stream",
     "text": [
      "Loaded checkpoint 'checkpoints/base_speakers/EN/checkpoint.pth'\n",
      "missing/unexpected keys: [] []\n",
      "Loaded checkpoint 'checkpoints/converter/checkpoint.pth'\n",
      "missing/unexpected keys: [] []\n",
      "OpenVoice version: v1\n",
      "[(0.0, 10.112)]\n",
      "after vad: dur = 10.112\n",
      " > Text splitted to sentences.\n",
      "In the end, it's not the years in your life that count.\n",
      "It's the life in your years. - Abraham Lincoln\n",
      " > ===========================\n",
      "ɪn ðə ɛnd, ɪts nɑt ðə jɪɹz ɪn jʊɹ laɪf ðət kaʊnt.\n",
      " length:49\n",
      " length:49\n",
      "ɪts ðə laɪf ɪn jʊɹ jɪɹz. ˈeɪbɹəˌhæm ˈlɪŋkən.\n",
      " length:44\n",
      " length:44\n",
      "Cloned Voice Generated!\n"
     ]
    },
    {
     "name": "stderr",
     "output_type": "stream",
     "text": [
      "/opt/anaconda3/envs/openvoice/lib/python3.9/site-packages/torch/nn/utils/weight_norm.py:28: UserWarning: torch.nn.utils.weight_norm is deprecated in favor of torch.nn.utils.parametrizations.weight_norm.\n",
      "  warnings.warn(\"torch.nn.utils.weight_norm is deprecated in favor of torch.nn.utils.parametrizations.weight_norm.\")\n"
     ]
    },
    {
     "name": "stdout",
     "output_type": "stream",
     "text": [
      "Loaded checkpoint 'checkpoints/base_speakers/EN/checkpoint.pth'\n",
      "missing/unexpected keys: [] []\n",
      "Loaded checkpoint 'checkpoints/converter/checkpoint.pth'\n",
      "missing/unexpected keys: [] []\n",
      "OpenVoice version: v1\n",
      "[(0.0, 10.112)]\n",
      "after vad: dur = 10.112\n",
      " > Text splitted to sentences.\n",
      "In the end, it's not the years in your life that count.\n",
      "It's the life in your years. - Abraham Lincoln\n",
      " > ===========================\n",
      "ɪn ðə ɛnd, ɪts nɑt ðə jɪɹz ɪn jʊɹ laɪf ðət kaʊnt.\n",
      " length:49\n",
      " length:49\n",
      "ɪts ðə laɪf ɪn jʊɹ jɪɹz. ˈeɪbɹəˌhæm ˈlɪŋkən.\n",
      " length:44\n",
      " length:44\n",
      "Cloned Voice Generated!\n"
     ]
    },
    {
     "name": "stderr",
     "output_type": "stream",
     "text": [
      "/opt/anaconda3/envs/openvoice/lib/python3.9/site-packages/torch/nn/utils/weight_norm.py:28: UserWarning: torch.nn.utils.weight_norm is deprecated in favor of torch.nn.utils.parametrizations.weight_norm.\n",
      "  warnings.warn(\"torch.nn.utils.weight_norm is deprecated in favor of torch.nn.utils.parametrizations.weight_norm.\")\n"
     ]
    },
    {
     "name": "stdout",
     "output_type": "stream",
     "text": [
      "Loaded checkpoint 'checkpoints/base_speakers/EN/checkpoint.pth'\n",
      "missing/unexpected keys: [] []\n",
      "Loaded checkpoint 'checkpoints/converter/checkpoint.pth'\n",
      "missing/unexpected keys: [] []\n",
      "OpenVoice version: v1\n",
      "[(0.0, 10.112)]\n",
      "after vad: dur = 10.112\n",
      " > Text splitted to sentences.\n",
      "The quick brown fox jumps over the lazy dog, and the clever red squirrel gathers acorns for the winter.\n",
      "Meanwhile, the majestic eagle soars high above the treetops, surveying the vast landscape below.\n",
      "In the distance, a herd of graceful deer graze peacefully in the lush green meadow,\n",
      "as a babbling brook winds its way through the tranquil forest.\n",
      " > ===========================\n",
      "ðə kwɪk bɹaʊn fɑks dʒəmps ˈoʊvəɹ ðə ˈleɪzi dɔg, ənd ðə ˈklɛvəɹ ɹɛd skwəɹəɫ ˈgæðəɹz ˈeɪkɔɹnz fəɹ ðə ˈwɪntəɹ.\n",
      " length:107\n",
      " length:107\n",
      "ˈminˌwaɪɫ, ðə məˈdʒɛstɪk ˈigəɫ sɔɹz haɪ əˈbəv ðə ˈtɹiˌtɔps, ˈsəɹˌveɪɪŋ ðə væst ˈlænˌskeɪp bɪˈloʊ.\n",
      " length:97\n",
      " length:97\n",
      "ɪn ðə ˈdɪstəns, ə həɹd əv ˈgɹeɪsfəɫ dɪɹ gɹeɪz ˈpisfəli ɪn ðə ləʃ gɹin ˈmɛˌdoʊ,\n",
      " length:78\n",
      " length:78\n",
      "ɛz ə ˈbæbəlɪŋ bɹʊk wɪndz ɪts weɪ θɹu ðə ˈtɹæŋkwɪɫ ˈfɔɹɪst.\n",
      " length:58\n",
      " length:58\n",
      "Cloned Voice Generated!\n"
     ]
    },
    {
     "name": "stderr",
     "output_type": "stream",
     "text": [
      "/opt/anaconda3/envs/openvoice/lib/python3.9/site-packages/torch/nn/utils/weight_norm.py:28: UserWarning: torch.nn.utils.weight_norm is deprecated in favor of torch.nn.utils.parametrizations.weight_norm.\n",
      "  warnings.warn(\"torch.nn.utils.weight_norm is deprecated in favor of torch.nn.utils.parametrizations.weight_norm.\")\n"
     ]
    },
    {
     "name": "stdout",
     "output_type": "stream",
     "text": [
      "Loaded checkpoint 'checkpoints/base_speakers/EN/checkpoint.pth'\n",
      "missing/unexpected keys: [] []\n",
      "Loaded checkpoint 'checkpoints/converter/checkpoint.pth'\n",
      "missing/unexpected keys: [] []\n",
      "OpenVoice version: v1\n",
      "[(0.0, 10.112)]\n",
      "after vad: dur = 10.112\n",
      " > Text splitted to sentences.\n",
      "The quick brown fox jumps over the lazy dog, and the clever red squirrel gathers acorns for the winter.\n",
      "Meanwhile, the majestic eagle soars high above the treetops, surveying the vast landscape below.\n",
      "In the distance, a herd of graceful deer graze peacefully in the lush green meadow,\n",
      "as a babbling brook winds its way through the tranquil forest.\n",
      " > ===========================\n",
      "ðə kwɪk bɹaʊn fɑks dʒəmps ˈoʊvəɹ ðə ˈleɪzi dɔg, ənd ðə ˈklɛvəɹ ɹɛd skwəɹəɫ ˈgæðəɹz ˈeɪkɔɹnz fəɹ ðə ˈwɪntəɹ.\n",
      " length:107\n",
      " length:107\n",
      "ˈminˌwaɪɫ, ðə məˈdʒɛstɪk ˈigəɫ sɔɹz haɪ əˈbəv ðə ˈtɹiˌtɔps, ˈsəɹˌveɪɪŋ ðə væst ˈlænˌskeɪp bɪˈloʊ.\n",
      " length:97\n",
      " length:97\n",
      "ɪn ðə ˈdɪstəns, ə həɹd əv ˈgɹeɪsfəɫ dɪɹ gɹeɪz ˈpisfəli ɪn ðə ləʃ gɹin ˈmɛˌdoʊ,\n",
      " length:78\n",
      " length:78\n",
      "ɛz ə ˈbæbəlɪŋ bɹʊk wɪndz ɪts weɪ θɹu ðə ˈtɹæŋkwɪɫ ˈfɔɹɪst.\n",
      " length:58\n",
      " length:58\n",
      "Cloned Voice Generated!\n"
     ]
    },
    {
     "name": "stderr",
     "output_type": "stream",
     "text": [
      "/opt/anaconda3/envs/openvoice/lib/python3.9/site-packages/torch/nn/utils/weight_norm.py:28: UserWarning: torch.nn.utils.weight_norm is deprecated in favor of torch.nn.utils.parametrizations.weight_norm.\n",
      "  warnings.warn(\"torch.nn.utils.weight_norm is deprecated in favor of torch.nn.utils.parametrizations.weight_norm.\")\n"
     ]
    },
    {
     "name": "stdout",
     "output_type": "stream",
     "text": [
      "Loaded checkpoint 'checkpoints/base_speakers/EN/checkpoint.pth'\n",
      "missing/unexpected keys: [] []\n",
      "Loaded checkpoint 'checkpoints/converter/checkpoint.pth'\n",
      "missing/unexpected keys: [] []\n",
      "OpenVoice version: v1\n",
      "[(0.0, 10.112)]\n",
      "after vad: dur = 10.112\n",
      " > Text splitted to sentences.\n",
      "The quick brown fox jumps over the lazy dog, and the clever red squirrel gathers acorns for the winter.\n",
      "Meanwhile, the majestic eagle soars high above the treetops, surveying the vast landscape below.\n",
      "In the distance, a herd of graceful deer graze peacefully in the lush green meadow,\n",
      "as a babbling brook winds its way through the tranquil forest.\n",
      " > ===========================\n",
      "ðə kwɪk bɹaʊn fɑks dʒəmps ˈoʊvəɹ ðə ˈleɪzi dɔg, ənd ðə ˈklɛvəɹ ɹɛd skwəɹəɫ ˈgæðəɹz ˈeɪkɔɹnz fəɹ ðə ˈwɪntəɹ.\n",
      " length:107\n",
      " length:107\n",
      "ˈminˌwaɪɫ, ðə məˈdʒɛstɪk ˈigəɫ sɔɹz haɪ əˈbəv ðə ˈtɹiˌtɔps, ˈsəɹˌveɪɪŋ ðə væst ˈlænˌskeɪp bɪˈloʊ.\n",
      " length:97\n",
      " length:97\n",
      "ɪn ðə ˈdɪstəns, ə həɹd əv ˈgɹeɪsfəɫ dɪɹ gɹeɪz ˈpisfəli ɪn ðə ləʃ gɹin ˈmɛˌdoʊ,\n",
      " length:78\n",
      " length:78\n",
      "ɛz ə ˈbæbəlɪŋ bɹʊk wɪndz ɪts weɪ θɹu ðə ˈtɹæŋkwɪɫ ˈfɔɹɪst.\n",
      " length:58\n",
      " length:58\n",
      "Cloned Voice Generated!\n"
     ]
    },
    {
     "name": "stderr",
     "output_type": "stream",
     "text": [
      "/opt/anaconda3/envs/openvoice/lib/python3.9/site-packages/torch/nn/utils/weight_norm.py:28: UserWarning: torch.nn.utils.weight_norm is deprecated in favor of torch.nn.utils.parametrizations.weight_norm.\n",
      "  warnings.warn(\"torch.nn.utils.weight_norm is deprecated in favor of torch.nn.utils.parametrizations.weight_norm.\")\n"
     ]
    },
    {
     "name": "stdout",
     "output_type": "stream",
     "text": [
      "Loaded checkpoint 'checkpoints/base_speakers/EN/checkpoint.pth'\n",
      "missing/unexpected keys: [] []\n",
      "Loaded checkpoint 'checkpoints/converter/checkpoint.pth'\n",
      "missing/unexpected keys: [] []\n",
      "OpenVoice version: v1\n",
      "[(0.0, 10.112)]\n",
      "after vad: dur = 10.112\n",
      " > Text splitted to sentences.\n",
      "The quick brown fox jumps over the lazy dog, and the clever red squirrel gathers acorns for the winter.\n",
      "Meanwhile, the majestic eagle soars high above the treetops, surveying the vast landscape below.\n",
      "In the distance, a herd of graceful deer graze peacefully in the lush green meadow,\n",
      "as a babbling brook winds its way through the tranquil forest.\n",
      " > ===========================\n",
      "ðə kwɪk bɹaʊn fɑks dʒəmps ˈoʊvəɹ ðə ˈleɪzi dɔg, ənd ðə ˈklɛvəɹ ɹɛd skwəɹəɫ ˈgæðəɹz ˈeɪkɔɹnz fəɹ ðə ˈwɪntəɹ.\n",
      " length:107\n",
      " length:107\n",
      "ˈminˌwaɪɫ, ðə məˈdʒɛstɪk ˈigəɫ sɔɹz haɪ əˈbəv ðə ˈtɹiˌtɔps, ˈsəɹˌveɪɪŋ ðə væst ˈlænˌskeɪp bɪˈloʊ.\n",
      " length:97\n",
      " length:97\n",
      "ɪn ðə ˈdɪstəns, ə həɹd əv ˈgɹeɪsfəɫ dɪɹ gɹeɪz ˈpisfəli ɪn ðə ləʃ gɹin ˈmɛˌdoʊ,\n",
      " length:78\n",
      " length:78\n",
      "ɛz ə ˈbæbəlɪŋ bɹʊk wɪndz ɪts weɪ θɹu ðə ˈtɹæŋkwɪɫ ˈfɔɹɪst.\n",
      " length:58\n",
      " length:58\n",
      "Cloned Voice Generated!\n"
     ]
    },
    {
     "name": "stderr",
     "output_type": "stream",
     "text": [
      "/opt/anaconda3/envs/openvoice/lib/python3.9/site-packages/torch/nn/utils/weight_norm.py:28: UserWarning: torch.nn.utils.weight_norm is deprecated in favor of torch.nn.utils.parametrizations.weight_norm.\n",
      "  warnings.warn(\"torch.nn.utils.weight_norm is deprecated in favor of torch.nn.utils.parametrizations.weight_norm.\")\n"
     ]
    },
    {
     "name": "stdout",
     "output_type": "stream",
     "text": [
      "Loaded checkpoint 'checkpoints/base_speakers/EN/checkpoint.pth'\n",
      "missing/unexpected keys: [] []\n",
      "Loaded checkpoint 'checkpoints/converter/checkpoint.pth'\n",
      "missing/unexpected keys: [] []\n",
      "OpenVoice version: v1\n",
      "[(0.0, 10.112)]\n",
      "after vad: dur = 10.112\n",
      " > Text splitted to sentences.\n",
      "The quick brown fox jumps over the lazy dog, and the clever red squirrel gathers acorns for the winter.\n",
      "Meanwhile, the majestic eagle soars high above the treetops, surveying the vast landscape below.\n",
      "In the distance, a herd of graceful deer graze peacefully in the lush green meadow,\n",
      "as a babbling brook winds its way through the tranquil forest.\n",
      " > ===========================\n",
      "ðə kwɪk bɹaʊn fɑks dʒəmps ˈoʊvəɹ ðə ˈleɪzi dɔg, ənd ðə ˈklɛvəɹ ɹɛd skwəɹəɫ ˈgæðəɹz ˈeɪkɔɹnz fəɹ ðə ˈwɪntəɹ.\n",
      " length:107\n",
      " length:107\n",
      "ˈminˌwaɪɫ, ðə məˈdʒɛstɪk ˈigəɫ sɔɹz haɪ əˈbəv ðə ˈtɹiˌtɔps, ˈsəɹˌveɪɪŋ ðə væst ˈlænˌskeɪp bɪˈloʊ.\n",
      " length:97\n",
      " length:97\n",
      "ɪn ðə ˈdɪstəns, ə həɹd əv ˈgɹeɪsfəɫ dɪɹ gɹeɪz ˈpisfəli ɪn ðə ləʃ gɹin ˈmɛˌdoʊ,\n",
      " length:78\n",
      " length:78\n",
      "ɛz ə ˈbæbəlɪŋ bɹʊk wɪndz ɪts weɪ θɹu ðə ˈtɹæŋkwɪɫ ˈfɔɹɪst.\n",
      " length:58\n",
      " length:58\n",
      "Cloned Voice Generated!\n"
     ]
    },
    {
     "name": "stderr",
     "output_type": "stream",
     "text": [
      "/opt/anaconda3/envs/openvoice/lib/python3.9/site-packages/torch/nn/utils/weight_norm.py:28: UserWarning: torch.nn.utils.weight_norm is deprecated in favor of torch.nn.utils.parametrizations.weight_norm.\n",
      "  warnings.warn(\"torch.nn.utils.weight_norm is deprecated in favor of torch.nn.utils.parametrizations.weight_norm.\")\n"
     ]
    },
    {
     "name": "stdout",
     "output_type": "stream",
     "text": [
      "Loaded checkpoint 'checkpoints/base_speakers/EN/checkpoint.pth'\n",
      "missing/unexpected keys: [] []\n",
      "Loaded checkpoint 'checkpoints/converter/checkpoint.pth'\n",
      "missing/unexpected keys: [] []\n",
      "OpenVoice version: v1\n",
      "[(0.0, 10.112)]\n",
      "after vad: dur = 10.112\n",
      " > Text splitted to sentences.\n",
      "We all have two lives. The second one starts when we realize we only have one.\n",
      "It's never too late to become the person you've always wanted to be.\n",
      "Embrace change, take chances, and never stop learning. Life is too short to waste time on things that don't matter.\n",
      "Surround yourself with people who lift you up, and cherish the moments you have with them.\n",
      "Remember, happiness is a choice, not a destination. Wake up each day with a grateful heart and a determination to make a difference,\n",
      "no matter how small. Your story is unique, and it's up to you to make it a great one.\n",
      " > ===========================\n",
      "wi ɔɫ hæv tu lɪvz. ðə ˈsɛkənd wən stɑɹts wɪn wi ˈɹiəˌlaɪz wi ˈoʊnli hæv wən.\n",
      " length:76\n",
      " length:76\n",
      "ɪts ˈnɛvəɹ tu leɪt tɪ bɪˈkəm ðə ˈpəɹsən juv ˈɔlˌweɪz ˈwɔntɪd tɪ bi.\n",
      " length:67\n",
      " length:67\n",
      "ɪmˈbɹeɪs tʃeɪndʒ, teɪk ˈtʃænsɪz, ənd ˈnɛvəɹ stɑp ˈləɹnɪŋ. laɪf ɪz tu ʃɔɹt tɪ weɪst taɪm ɔn θɪŋz ðət doʊnt ˈmætəɹ.\n",
      " length:113\n",
      " length:113\n",
      "səɹaʊnd ˈjɔɹsɛɫf wɪθ ˈpipəɫ hu lɪft ju əp, ənd ˈtʃɛɹɪʃ ðə ˈmoʊmənts ju hæv wɪθ ðɛm.\n",
      " length:83\n",
      " length:83\n",
      "ɹɪˈmɛmbəɹ, ˈhæpinəs ɪz ə tʃɔɪs, nɑt ə ˌdɛstɪˈneɪʃən. weɪk əp itʃ deɪ wɪθ ə ˈgɹeɪtfəɫ hɑɹt ənd ə dɪˌtəɹməˈneɪʃən tɪ meɪk ə ˈdɪfəɹəns,\n",
      " length:132\n",
      " length:132\n",
      "noʊ ˈmætəɹ haʊ smɔɫ. jʊɹ ˈstɔɹi ɪz juˈnik, ənd ɪts əp tɪ ju tɪ meɪk ɪt ə gɹeɪt wən.\n",
      " length:83\n",
      " length:83\n",
      "Cloned Voice Generated!\n"
     ]
    },
    {
     "name": "stderr",
     "output_type": "stream",
     "text": [
      "/opt/anaconda3/envs/openvoice/lib/python3.9/site-packages/torch/nn/utils/weight_norm.py:28: UserWarning: torch.nn.utils.weight_norm is deprecated in favor of torch.nn.utils.parametrizations.weight_norm.\n",
      "  warnings.warn(\"torch.nn.utils.weight_norm is deprecated in favor of torch.nn.utils.parametrizations.weight_norm.\")\n"
     ]
    },
    {
     "name": "stdout",
     "output_type": "stream",
     "text": [
      "Loaded checkpoint 'checkpoints/base_speakers/EN/checkpoint.pth'\n",
      "missing/unexpected keys: [] []\n",
      "Loaded checkpoint 'checkpoints/converter/checkpoint.pth'\n",
      "missing/unexpected keys: [] []\n",
      "OpenVoice version: v1\n",
      "[(0.0, 10.112)]\n",
      "after vad: dur = 10.112\n",
      " > Text splitted to sentences.\n",
      "We all have two lives. The second one starts when we realize we only have one.\n",
      "It's never too late to become the person you've always wanted to be.\n",
      "Embrace change, take chances, and never stop learning. Life is too short to waste time on things that don't matter.\n",
      "Surround yourself with people who lift you up, and cherish the moments you have with them.\n",
      "Remember, happiness is a choice, not a destination. Wake up each day with a grateful heart and a determination to make a difference,\n",
      "no matter how small. Your story is unique, and it's up to you to make it a great one.\n",
      " > ===========================\n",
      "wi ɔɫ hæv tu lɪvz. ðə ˈsɛkənd wən stɑɹts wɪn wi ˈɹiəˌlaɪz wi ˈoʊnli hæv wən.\n",
      " length:76\n",
      " length:76\n",
      "ɪts ˈnɛvəɹ tu leɪt tɪ bɪˈkəm ðə ˈpəɹsən juv ˈɔlˌweɪz ˈwɔntɪd tɪ bi.\n",
      " length:67\n",
      " length:67\n",
      "ɪmˈbɹeɪs tʃeɪndʒ, teɪk ˈtʃænsɪz, ənd ˈnɛvəɹ stɑp ˈləɹnɪŋ. laɪf ɪz tu ʃɔɹt tɪ weɪst taɪm ɔn θɪŋz ðət doʊnt ˈmætəɹ.\n",
      " length:113\n",
      " length:113\n",
      "səɹaʊnd ˈjɔɹsɛɫf wɪθ ˈpipəɫ hu lɪft ju əp, ənd ˈtʃɛɹɪʃ ðə ˈmoʊmənts ju hæv wɪθ ðɛm.\n",
      " length:83\n",
      " length:83\n",
      "ɹɪˈmɛmbəɹ, ˈhæpinəs ɪz ə tʃɔɪs, nɑt ə ˌdɛstɪˈneɪʃən. weɪk əp itʃ deɪ wɪθ ə ˈgɹeɪtfəɫ hɑɹt ənd ə dɪˌtəɹməˈneɪʃən tɪ meɪk ə ˈdɪfəɹəns,\n",
      " length:132\n",
      " length:132\n",
      "noʊ ˈmætəɹ haʊ smɔɫ. jʊɹ ˈstɔɹi ɪz juˈnik, ənd ɪts əp tɪ ju tɪ meɪk ɪt ə gɹeɪt wən.\n",
      " length:83\n",
      " length:83\n",
      "Cloned Voice Generated!\n"
     ]
    },
    {
     "name": "stderr",
     "output_type": "stream",
     "text": [
      "/opt/anaconda3/envs/openvoice/lib/python3.9/site-packages/torch/nn/utils/weight_norm.py:28: UserWarning: torch.nn.utils.weight_norm is deprecated in favor of torch.nn.utils.parametrizations.weight_norm.\n",
      "  warnings.warn(\"torch.nn.utils.weight_norm is deprecated in favor of torch.nn.utils.parametrizations.weight_norm.\")\n"
     ]
    },
    {
     "name": "stdout",
     "output_type": "stream",
     "text": [
      "Loaded checkpoint 'checkpoints/base_speakers/EN/checkpoint.pth'\n",
      "missing/unexpected keys: [] []\n",
      "Loaded checkpoint 'checkpoints/converter/checkpoint.pth'\n",
      "missing/unexpected keys: [] []\n",
      "OpenVoice version: v1\n",
      "[(0.0, 10.112)]\n",
      "after vad: dur = 10.112\n",
      " > Text splitted to sentences.\n",
      "We all have two lives. The second one starts when we realize we only have one.\n",
      "It's never too late to become the person you've always wanted to be.\n",
      "Embrace change, take chances, and never stop learning. Life is too short to waste time on things that don't matter.\n",
      "Surround yourself with people who lift you up, and cherish the moments you have with them.\n",
      "Remember, happiness is a choice, not a destination. Wake up each day with a grateful heart and a determination to make a difference,\n",
      "no matter how small. Your story is unique, and it's up to you to make it a great one.\n",
      " > ===========================\n",
      "wi ɔɫ hæv tu lɪvz. ðə ˈsɛkənd wən stɑɹts wɪn wi ˈɹiəˌlaɪz wi ˈoʊnli hæv wən.\n",
      " length:76\n",
      " length:76\n",
      "ɪts ˈnɛvəɹ tu leɪt tɪ bɪˈkəm ðə ˈpəɹsən juv ˈɔlˌweɪz ˈwɔntɪd tɪ bi.\n",
      " length:67\n",
      " length:67\n",
      "ɪmˈbɹeɪs tʃeɪndʒ, teɪk ˈtʃænsɪz, ənd ˈnɛvəɹ stɑp ˈləɹnɪŋ. laɪf ɪz tu ʃɔɹt tɪ weɪst taɪm ɔn θɪŋz ðət doʊnt ˈmætəɹ.\n",
      " length:113\n",
      " length:113\n",
      "səɹaʊnd ˈjɔɹsɛɫf wɪθ ˈpipəɫ hu lɪft ju əp, ənd ˈtʃɛɹɪʃ ðə ˈmoʊmənts ju hæv wɪθ ðɛm.\n",
      " length:83\n",
      " length:83\n",
      "ɹɪˈmɛmbəɹ, ˈhæpinəs ɪz ə tʃɔɪs, nɑt ə ˌdɛstɪˈneɪʃən. weɪk əp itʃ deɪ wɪθ ə ˈgɹeɪtfəɫ hɑɹt ənd ə dɪˌtəɹməˈneɪʃən tɪ meɪk ə ˈdɪfəɹəns,\n",
      " length:132\n",
      " length:132\n",
      "noʊ ˈmætəɹ haʊ smɔɫ. jʊɹ ˈstɔɹi ɪz juˈnik, ənd ɪts əp tɪ ju tɪ meɪk ɪt ə gɹeɪt wən.\n",
      " length:83\n",
      " length:83\n",
      "Cloned Voice Generated!\n"
     ]
    },
    {
     "name": "stderr",
     "output_type": "stream",
     "text": [
      "/opt/anaconda3/envs/openvoice/lib/python3.9/site-packages/torch/nn/utils/weight_norm.py:28: UserWarning: torch.nn.utils.weight_norm is deprecated in favor of torch.nn.utils.parametrizations.weight_norm.\n",
      "  warnings.warn(\"torch.nn.utils.weight_norm is deprecated in favor of torch.nn.utils.parametrizations.weight_norm.\")\n"
     ]
    },
    {
     "name": "stdout",
     "output_type": "stream",
     "text": [
      "Loaded checkpoint 'checkpoints/base_speakers/EN/checkpoint.pth'\n",
      "missing/unexpected keys: [] []\n",
      "Loaded checkpoint 'checkpoints/converter/checkpoint.pth'\n",
      "missing/unexpected keys: [] []\n",
      "OpenVoice version: v1\n",
      "[(0.0, 10.112)]\n",
      "after vad: dur = 10.112\n",
      " > Text splitted to sentences.\n",
      "We all have two lives. The second one starts when we realize we only have one.\n",
      "It's never too late to become the person you've always wanted to be.\n",
      "Embrace change, take chances, and never stop learning. Life is too short to waste time on things that don't matter.\n",
      "Surround yourself with people who lift you up, and cherish the moments you have with them.\n",
      "Remember, happiness is a choice, not a destination. Wake up each day with a grateful heart and a determination to make a difference,\n",
      "no matter how small. Your story is unique, and it's up to you to make it a great one.\n",
      " > ===========================\n",
      "wi ɔɫ hæv tu lɪvz. ðə ˈsɛkənd wən stɑɹts wɪn wi ˈɹiəˌlaɪz wi ˈoʊnli hæv wən.\n",
      " length:76\n",
      " length:76\n",
      "ɪts ˈnɛvəɹ tu leɪt tɪ bɪˈkəm ðə ˈpəɹsən juv ˈɔlˌweɪz ˈwɔntɪd tɪ bi.\n",
      " length:67\n",
      " length:67\n",
      "ɪmˈbɹeɪs tʃeɪndʒ, teɪk ˈtʃænsɪz, ənd ˈnɛvəɹ stɑp ˈləɹnɪŋ. laɪf ɪz tu ʃɔɹt tɪ weɪst taɪm ɔn θɪŋz ðət doʊnt ˈmætəɹ.\n",
      " length:113\n",
      " length:113\n",
      "səɹaʊnd ˈjɔɹsɛɫf wɪθ ˈpipəɫ hu lɪft ju əp, ənd ˈtʃɛɹɪʃ ðə ˈmoʊmənts ju hæv wɪθ ðɛm.\n",
      " length:83\n",
      " length:83\n",
      "ɹɪˈmɛmbəɹ, ˈhæpinəs ɪz ə tʃɔɪs, nɑt ə ˌdɛstɪˈneɪʃən. weɪk əp itʃ deɪ wɪθ ə ˈgɹeɪtfəɫ hɑɹt ənd ə dɪˌtəɹməˈneɪʃən tɪ meɪk ə ˈdɪfəɹəns,\n",
      " length:132\n",
      " length:132\n",
      "noʊ ˈmætəɹ haʊ smɔɫ. jʊɹ ˈstɔɹi ɪz juˈnik, ənd ɪts əp tɪ ju tɪ meɪk ɪt ə gɹeɪt wən.\n",
      " length:83\n",
      " length:83\n",
      "Cloned Voice Generated!\n"
     ]
    },
    {
     "name": "stderr",
     "output_type": "stream",
     "text": [
      "/opt/anaconda3/envs/openvoice/lib/python3.9/site-packages/torch/nn/utils/weight_norm.py:28: UserWarning: torch.nn.utils.weight_norm is deprecated in favor of torch.nn.utils.parametrizations.weight_norm.\n",
      "  warnings.warn(\"torch.nn.utils.weight_norm is deprecated in favor of torch.nn.utils.parametrizations.weight_norm.\")\n"
     ]
    },
    {
     "name": "stdout",
     "output_type": "stream",
     "text": [
      "Loaded checkpoint 'checkpoints/base_speakers/EN/checkpoint.pth'\n",
      "missing/unexpected keys: [] []\n",
      "Loaded checkpoint 'checkpoints/converter/checkpoint.pth'\n",
      "missing/unexpected keys: [] []\n",
      "OpenVoice version: v1\n",
      "[(0.0, 10.112)]\n",
      "after vad: dur = 10.112\n",
      " > Text splitted to sentences.\n",
      "We all have two lives. The second one starts when we realize we only have one.\n",
      "It's never too late to become the person you've always wanted to be.\n",
      "Embrace change, take chances, and never stop learning. Life is too short to waste time on things that don't matter.\n",
      "Surround yourself with people who lift you up, and cherish the moments you have with them.\n",
      "Remember, happiness is a choice, not a destination. Wake up each day with a grateful heart and a determination to make a difference,\n",
      "no matter how small. Your story is unique, and it's up to you to make it a great one.\n",
      " > ===========================\n",
      "wi ɔɫ hæv tu lɪvz. ðə ˈsɛkənd wən stɑɹts wɪn wi ˈɹiəˌlaɪz wi ˈoʊnli hæv wən.\n",
      " length:76\n",
      " length:76\n",
      "ɪts ˈnɛvəɹ tu leɪt tɪ bɪˈkəm ðə ˈpəɹsən juv ˈɔlˌweɪz ˈwɔntɪd tɪ bi.\n",
      " length:67\n",
      " length:67\n",
      "ɪmˈbɹeɪs tʃeɪndʒ, teɪk ˈtʃænsɪz, ənd ˈnɛvəɹ stɑp ˈləɹnɪŋ. laɪf ɪz tu ʃɔɹt tɪ weɪst taɪm ɔn θɪŋz ðət doʊnt ˈmætəɹ.\n",
      " length:113\n",
      " length:113\n",
      "səɹaʊnd ˈjɔɹsɛɫf wɪθ ˈpipəɫ hu lɪft ju əp, ənd ˈtʃɛɹɪʃ ðə ˈmoʊmənts ju hæv wɪθ ðɛm.\n",
      " length:83\n",
      " length:83\n",
      "ɹɪˈmɛmbəɹ, ˈhæpinəs ɪz ə tʃɔɪs, nɑt ə ˌdɛstɪˈneɪʃən. weɪk əp itʃ deɪ wɪθ ə ˈgɹeɪtfəɫ hɑɹt ənd ə dɪˌtəɹməˈneɪʃən tɪ meɪk ə ˈdɪfəɹəns,\n",
      " length:132\n",
      " length:132\n",
      "noʊ ˈmætəɹ haʊ smɔɫ. jʊɹ ˈstɔɹi ɪz juˈnik, ənd ɪts əp tɪ ju tɪ meɪk ɪt ə gɹeɪt wən.\n",
      " length:83\n",
      " length:83\n",
      "Cloned Voice Generated!\n"
     ]
    },
    {
     "name": "stderr",
     "output_type": "stream",
     "text": [
      "/opt/anaconda3/envs/openvoice/lib/python3.9/site-packages/torch/nn/utils/weight_norm.py:28: UserWarning: torch.nn.utils.weight_norm is deprecated in favor of torch.nn.utils.parametrizations.weight_norm.\n",
      "  warnings.warn(\"torch.nn.utils.weight_norm is deprecated in favor of torch.nn.utils.parametrizations.weight_norm.\")\n"
     ]
    },
    {
     "name": "stdout",
     "output_type": "stream",
     "text": [
      "Loaded checkpoint 'checkpoints/base_speakers/EN/checkpoint.pth'\n",
      "missing/unexpected keys: [] []\n",
      "Loaded checkpoint 'checkpoints/converter/checkpoint.pth'\n",
      "missing/unexpected keys: [] []\n",
      "OpenVoice version: v1\n",
      "[(0.0, 10.112)]\n",
      "after vad: dur = 10.112\n",
      " > Text splitted to sentences.\n",
      "The sun peeked through the curtains, casting a warm glow across the room.\n",
      "She stirred, her eyes fluttering open as she stretched her arms above her head.\n",
      "It was a new day, full of promise and possibility. She smiled,\n",
      "thinking of all the things she wanted to accomplish. First on the list was a visit to her favorite café,\n",
      "where she would sip on a creamy latte and watch the world go by.\n",
      "Then, she would head to the park for a leisurely stroll,\n",
      "taking in the beauty of nature and breathing in the fresh air.\n",
      "In the afternoon, she planned to curl up with a good book,\n",
      "losing herself in the pages of a captivating story. As the day drew to a close,\n",
      "she would meet up with friends for dinner and laughter, sharing stories and making memories.\n",
      "It was a simple plan, but one that filled her with joy and contentment.\n",
      " > ===========================\n",
      "ðə sən pikt θɹu ðə ˈkəɹtənz, ˈkæstɪŋ ə wɔɹm gloʊ əˈkɹɔs ðə ɹum.\n",
      " length:63\n",
      " length:63\n",
      "ʃi stəɹd, həɹ aɪz ˈflətəɹɪŋ ˈoʊpən ɛz ʃi stɹɛtʃt həɹ ɑɹmz əˈbəv həɹ hɛd.\n",
      " length:72\n",
      " length:72\n",
      "ɪt wɑz ə nu deɪ, fʊɫ əv ˈpɹɑməs ənd ˌpɑsəˈbɪləˌti. ʃi smaɪɫd,\n",
      " length:61\n",
      " length:61\n",
      "ˈθɪŋkɪŋ əv ɔɫ ðə θɪŋz ʃi ˈwɔntɪd tɪ əˈkɑmplɪʃ. fəɹst ɔn ðə lɪst wɑz ə ˈvɪzɪt tɪ həɹ ˈfeɪvəɹɪt kəˈfeɪ,\n",
      " length:101\n",
      " length:101\n",
      "wɛɹ ʃi wʊd sɪp ɔn ə ˈkɹimi ˈlɑˌteɪ ənd wɔtʃ ðə wəɹɫd goʊ baɪ.\n",
      " length:61\n",
      " length:61\n",
      "ðɛn, ʃi wʊd hɛd tɪ ðə pɑɹk fəɹ ə ˈlizəɹli stɹoʊɫ,\n",
      " length:49\n",
      " length:49\n",
      "ˈteɪkɪŋ ɪn ðə ˈbjuti əv ˈneɪtʃəɹ ənd ˈbɹiðɪŋ ɪn ðə fɹɛʃ ɛɹ.\n",
      " length:59\n",
      " length:59\n",
      "ɪn ðə ˌæftəɹˈnun, ʃi plænd tɪ kəɹɫ əp wɪθ ə gʊd bʊk,\n",
      " length:52\n",
      " length:52\n",
      "ˈluzɪŋ həɹˈsɛɫf ɪn ðə ˈpeɪdʒɪz əv ə ˈkæptɪˌveɪtɪŋ ˈstɔɹi. ɛz ðə deɪ dɹu tɪ ə kloʊz,\n",
      " length:83\n",
      " length:83\n",
      "ʃi wʊd mit əp wɪθ fɹɛndz fəɹ ˈdɪnəɹ ənd ˈlæftəɹ, ˈʃɛɹɪŋ ˈstɔɹiz ənd ˈmeɪkɪŋ ˈmɛməɹiz.\n",
      " length:85\n",
      " length:85\n",
      "ɪt wɑz ə ˈsɪmpəɫ plæn, bət wən ðət fɪɫd həɹ wɪθ dʒɔɪ ənd kənˈtɛntmənt.\n",
      " length:70\n",
      " length:70\n",
      "Cloned Voice Generated!\n"
     ]
    },
    {
     "name": "stderr",
     "output_type": "stream",
     "text": [
      "/opt/anaconda3/envs/openvoice/lib/python3.9/site-packages/torch/nn/utils/weight_norm.py:28: UserWarning: torch.nn.utils.weight_norm is deprecated in favor of torch.nn.utils.parametrizations.weight_norm.\n",
      "  warnings.warn(\"torch.nn.utils.weight_norm is deprecated in favor of torch.nn.utils.parametrizations.weight_norm.\")\n"
     ]
    },
    {
     "name": "stdout",
     "output_type": "stream",
     "text": [
      "Loaded checkpoint 'checkpoints/base_speakers/EN/checkpoint.pth'\n",
      "missing/unexpected keys: [] []\n",
      "Loaded checkpoint 'checkpoints/converter/checkpoint.pth'\n",
      "missing/unexpected keys: [] []\n",
      "OpenVoice version: v1\n",
      "[(0.0, 10.112)]\n",
      "after vad: dur = 10.112\n",
      " > Text splitted to sentences.\n",
      "The sun peeked through the curtains, casting a warm glow across the room.\n",
      "She stirred, her eyes fluttering open as she stretched her arms above her head.\n",
      "It was a new day, full of promise and possibility. She smiled,\n",
      "thinking of all the things she wanted to accomplish. First on the list was a visit to her favorite café,\n",
      "where she would sip on a creamy latte and watch the world go by.\n",
      "Then, she would head to the park for a leisurely stroll,\n",
      "taking in the beauty of nature and breathing in the fresh air.\n",
      "In the afternoon, she planned to curl up with a good book,\n",
      "losing herself in the pages of a captivating story. As the day drew to a close,\n",
      "she would meet up with friends for dinner and laughter, sharing stories and making memories.\n",
      "It was a simple plan, but one that filled her with joy and contentment.\n",
      " > ===========================\n",
      "ðə sən pikt θɹu ðə ˈkəɹtənz, ˈkæstɪŋ ə wɔɹm gloʊ əˈkɹɔs ðə ɹum.\n",
      " length:63\n",
      " length:63\n",
      "ʃi stəɹd, həɹ aɪz ˈflətəɹɪŋ ˈoʊpən ɛz ʃi stɹɛtʃt həɹ ɑɹmz əˈbəv həɹ hɛd.\n",
      " length:72\n",
      " length:72\n",
      "ɪt wɑz ə nu deɪ, fʊɫ əv ˈpɹɑməs ənd ˌpɑsəˈbɪləˌti. ʃi smaɪɫd,\n",
      " length:61\n",
      " length:61\n",
      "ˈθɪŋkɪŋ əv ɔɫ ðə θɪŋz ʃi ˈwɔntɪd tɪ əˈkɑmplɪʃ. fəɹst ɔn ðə lɪst wɑz ə ˈvɪzɪt tɪ həɹ ˈfeɪvəɹɪt kəˈfeɪ,\n",
      " length:101\n",
      " length:101\n",
      "wɛɹ ʃi wʊd sɪp ɔn ə ˈkɹimi ˈlɑˌteɪ ənd wɔtʃ ðə wəɹɫd goʊ baɪ.\n",
      " length:61\n",
      " length:61\n",
      "ðɛn, ʃi wʊd hɛd tɪ ðə pɑɹk fəɹ ə ˈlizəɹli stɹoʊɫ,\n",
      " length:49\n",
      " length:49\n",
      "ˈteɪkɪŋ ɪn ðə ˈbjuti əv ˈneɪtʃəɹ ənd ˈbɹiðɪŋ ɪn ðə fɹɛʃ ɛɹ.\n",
      " length:59\n",
      " length:59\n",
      "ɪn ðə ˌæftəɹˈnun, ʃi plænd tɪ kəɹɫ əp wɪθ ə gʊd bʊk,\n",
      " length:52\n",
      " length:52\n",
      "ˈluzɪŋ həɹˈsɛɫf ɪn ðə ˈpeɪdʒɪz əv ə ˈkæptɪˌveɪtɪŋ ˈstɔɹi. ɛz ðə deɪ dɹu tɪ ə kloʊz,\n",
      " length:83\n",
      " length:83\n",
      "ʃi wʊd mit əp wɪθ fɹɛndz fəɹ ˈdɪnəɹ ənd ˈlæftəɹ, ˈʃɛɹɪŋ ˈstɔɹiz ənd ˈmeɪkɪŋ ˈmɛməɹiz.\n",
      " length:85\n",
      " length:85\n",
      "ɪt wɑz ə ˈsɪmpəɫ plæn, bət wən ðət fɪɫd həɹ wɪθ dʒɔɪ ənd kənˈtɛntmənt.\n",
      " length:70\n",
      " length:70\n",
      "Cloned Voice Generated!\n"
     ]
    },
    {
     "name": "stderr",
     "output_type": "stream",
     "text": [
      "/opt/anaconda3/envs/openvoice/lib/python3.9/site-packages/torch/nn/utils/weight_norm.py:28: UserWarning: torch.nn.utils.weight_norm is deprecated in favor of torch.nn.utils.parametrizations.weight_norm.\n",
      "  warnings.warn(\"torch.nn.utils.weight_norm is deprecated in favor of torch.nn.utils.parametrizations.weight_norm.\")\n"
     ]
    },
    {
     "name": "stdout",
     "output_type": "stream",
     "text": [
      "Loaded checkpoint 'checkpoints/base_speakers/EN/checkpoint.pth'\n",
      "missing/unexpected keys: [] []\n",
      "Loaded checkpoint 'checkpoints/converter/checkpoint.pth'\n",
      "missing/unexpected keys: [] []\n",
      "OpenVoice version: v1\n",
      "[(0.0, 10.112)]\n",
      "after vad: dur = 10.112\n",
      " > Text splitted to sentences.\n",
      "The sun peeked through the curtains, casting a warm glow across the room.\n",
      "She stirred, her eyes fluttering open as she stretched her arms above her head.\n",
      "It was a new day, full of promise and possibility. She smiled,\n",
      "thinking of all the things she wanted to accomplish. First on the list was a visit to her favorite café,\n",
      "where she would sip on a creamy latte and watch the world go by.\n",
      "Then, she would head to the park for a leisurely stroll,\n",
      "taking in the beauty of nature and breathing in the fresh air.\n",
      "In the afternoon, she planned to curl up with a good book,\n",
      "losing herself in the pages of a captivating story. As the day drew to a close,\n",
      "she would meet up with friends for dinner and laughter, sharing stories and making memories.\n",
      "It was a simple plan, but one that filled her with joy and contentment.\n",
      " > ===========================\n",
      "ðə sən pikt θɹu ðə ˈkəɹtənz, ˈkæstɪŋ ə wɔɹm gloʊ əˈkɹɔs ðə ɹum.\n",
      " length:63\n",
      " length:63\n",
      "ʃi stəɹd, həɹ aɪz ˈflətəɹɪŋ ˈoʊpən ɛz ʃi stɹɛtʃt həɹ ɑɹmz əˈbəv həɹ hɛd.\n",
      " length:72\n",
      " length:72\n",
      "ɪt wɑz ə nu deɪ, fʊɫ əv ˈpɹɑməs ənd ˌpɑsəˈbɪləˌti. ʃi smaɪɫd,\n",
      " length:61\n",
      " length:61\n",
      "ˈθɪŋkɪŋ əv ɔɫ ðə θɪŋz ʃi ˈwɔntɪd tɪ əˈkɑmplɪʃ. fəɹst ɔn ðə lɪst wɑz ə ˈvɪzɪt tɪ həɹ ˈfeɪvəɹɪt kəˈfeɪ,\n",
      " length:101\n",
      " length:101\n",
      "wɛɹ ʃi wʊd sɪp ɔn ə ˈkɹimi ˈlɑˌteɪ ənd wɔtʃ ðə wəɹɫd goʊ baɪ.\n",
      " length:61\n",
      " length:61\n",
      "ðɛn, ʃi wʊd hɛd tɪ ðə pɑɹk fəɹ ə ˈlizəɹli stɹoʊɫ,\n",
      " length:49\n",
      " length:49\n",
      "ˈteɪkɪŋ ɪn ðə ˈbjuti əv ˈneɪtʃəɹ ənd ˈbɹiðɪŋ ɪn ðə fɹɛʃ ɛɹ.\n",
      " length:59\n",
      " length:59\n",
      "ɪn ðə ˌæftəɹˈnun, ʃi plænd tɪ kəɹɫ əp wɪθ ə gʊd bʊk,\n",
      " length:52\n",
      " length:52\n",
      "ˈluzɪŋ həɹˈsɛɫf ɪn ðə ˈpeɪdʒɪz əv ə ˈkæptɪˌveɪtɪŋ ˈstɔɹi. ɛz ðə deɪ dɹu tɪ ə kloʊz,\n",
      " length:83\n",
      " length:83\n",
      "ʃi wʊd mit əp wɪθ fɹɛndz fəɹ ˈdɪnəɹ ənd ˈlæftəɹ, ˈʃɛɹɪŋ ˈstɔɹiz ənd ˈmeɪkɪŋ ˈmɛməɹiz.\n",
      " length:85\n",
      " length:85\n",
      "ɪt wɑz ə ˈsɪmpəɫ plæn, bət wən ðət fɪɫd həɹ wɪθ dʒɔɪ ənd kənˈtɛntmənt.\n",
      " length:70\n",
      " length:70\n",
      "Cloned Voice Generated!\n"
     ]
    },
    {
     "name": "stderr",
     "output_type": "stream",
     "text": [
      "/opt/anaconda3/envs/openvoice/lib/python3.9/site-packages/torch/nn/utils/weight_norm.py:28: UserWarning: torch.nn.utils.weight_norm is deprecated in favor of torch.nn.utils.parametrizations.weight_norm.\n",
      "  warnings.warn(\"torch.nn.utils.weight_norm is deprecated in favor of torch.nn.utils.parametrizations.weight_norm.\")\n"
     ]
    },
    {
     "name": "stdout",
     "output_type": "stream",
     "text": [
      "Loaded checkpoint 'checkpoints/base_speakers/EN/checkpoint.pth'\n",
      "missing/unexpected keys: [] []\n",
      "Loaded checkpoint 'checkpoints/converter/checkpoint.pth'\n",
      "missing/unexpected keys: [] []\n",
      "OpenVoice version: v1\n",
      "[(0.0, 10.112)]\n",
      "after vad: dur = 10.112\n",
      " > Text splitted to sentences.\n",
      "The sun peeked through the curtains, casting a warm glow across the room.\n",
      "She stirred, her eyes fluttering open as she stretched her arms above her head.\n",
      "It was a new day, full of promise and possibility. She smiled,\n",
      "thinking of all the things she wanted to accomplish. First on the list was a visit to her favorite café,\n",
      "where she would sip on a creamy latte and watch the world go by.\n",
      "Then, she would head to the park for a leisurely stroll,\n",
      "taking in the beauty of nature and breathing in the fresh air.\n",
      "In the afternoon, she planned to curl up with a good book,\n",
      "losing herself in the pages of a captivating story. As the day drew to a close,\n",
      "she would meet up with friends for dinner and laughter, sharing stories and making memories.\n",
      "It was a simple plan, but one that filled her with joy and contentment.\n",
      " > ===========================\n",
      "ðə sən pikt θɹu ðə ˈkəɹtənz, ˈkæstɪŋ ə wɔɹm gloʊ əˈkɹɔs ðə ɹum.\n",
      " length:63\n",
      " length:63\n",
      "ʃi stəɹd, həɹ aɪz ˈflətəɹɪŋ ˈoʊpən ɛz ʃi stɹɛtʃt həɹ ɑɹmz əˈbəv həɹ hɛd.\n",
      " length:72\n",
      " length:72\n",
      "ɪt wɑz ə nu deɪ, fʊɫ əv ˈpɹɑməs ənd ˌpɑsəˈbɪləˌti. ʃi smaɪɫd,\n",
      " length:61\n",
      " length:61\n",
      "ˈθɪŋkɪŋ əv ɔɫ ðə θɪŋz ʃi ˈwɔntɪd tɪ əˈkɑmplɪʃ. fəɹst ɔn ðə lɪst wɑz ə ˈvɪzɪt tɪ həɹ ˈfeɪvəɹɪt kəˈfeɪ,\n",
      " length:101\n",
      " length:101\n",
      "wɛɹ ʃi wʊd sɪp ɔn ə ˈkɹimi ˈlɑˌteɪ ənd wɔtʃ ðə wəɹɫd goʊ baɪ.\n",
      " length:61\n",
      " length:61\n",
      "ðɛn, ʃi wʊd hɛd tɪ ðə pɑɹk fəɹ ə ˈlizəɹli stɹoʊɫ,\n",
      " length:49\n",
      " length:49\n",
      "ˈteɪkɪŋ ɪn ðə ˈbjuti əv ˈneɪtʃəɹ ənd ˈbɹiðɪŋ ɪn ðə fɹɛʃ ɛɹ.\n",
      " length:59\n",
      " length:59\n",
      "ɪn ðə ˌæftəɹˈnun, ʃi plænd tɪ kəɹɫ əp wɪθ ə gʊd bʊk,\n",
      " length:52\n",
      " length:52\n",
      "ˈluzɪŋ həɹˈsɛɫf ɪn ðə ˈpeɪdʒɪz əv ə ˈkæptɪˌveɪtɪŋ ˈstɔɹi. ɛz ðə deɪ dɹu tɪ ə kloʊz,\n",
      " length:83\n",
      " length:83\n",
      "ʃi wʊd mit əp wɪθ fɹɛndz fəɹ ˈdɪnəɹ ənd ˈlæftəɹ, ˈʃɛɹɪŋ ˈstɔɹiz ənd ˈmeɪkɪŋ ˈmɛməɹiz.\n",
      " length:85\n",
      " length:85\n",
      "ɪt wɑz ə ˈsɪmpəɫ plæn, bət wən ðət fɪɫd həɹ wɪθ dʒɔɪ ənd kənˈtɛntmənt.\n",
      " length:70\n",
      " length:70\n",
      "Cloned Voice Generated!\n"
     ]
    },
    {
     "name": "stderr",
     "output_type": "stream",
     "text": [
      "/opt/anaconda3/envs/openvoice/lib/python3.9/site-packages/torch/nn/utils/weight_norm.py:28: UserWarning: torch.nn.utils.weight_norm is deprecated in favor of torch.nn.utils.parametrizations.weight_norm.\n",
      "  warnings.warn(\"torch.nn.utils.weight_norm is deprecated in favor of torch.nn.utils.parametrizations.weight_norm.\")\n"
     ]
    },
    {
     "name": "stdout",
     "output_type": "stream",
     "text": [
      "Loaded checkpoint 'checkpoints/base_speakers/EN/checkpoint.pth'\n",
      "missing/unexpected keys: [] []\n",
      "Loaded checkpoint 'checkpoints/converter/checkpoint.pth'\n",
      "missing/unexpected keys: [] []\n",
      "OpenVoice version: v1\n",
      "[(0.0, 10.112)]\n",
      "after vad: dur = 10.112\n",
      " > Text splitted to sentences.\n",
      "The sun peeked through the curtains, casting a warm glow across the room.\n",
      "She stirred, her eyes fluttering open as she stretched her arms above her head.\n",
      "It was a new day, full of promise and possibility. She smiled,\n",
      "thinking of all the things she wanted to accomplish. First on the list was a visit to her favorite café,\n",
      "where she would sip on a creamy latte and watch the world go by.\n",
      "Then, she would head to the park for a leisurely stroll,\n",
      "taking in the beauty of nature and breathing in the fresh air.\n",
      "In the afternoon, she planned to curl up with a good book,\n",
      "losing herself in the pages of a captivating story. As the day drew to a close,\n",
      "she would meet up with friends for dinner and laughter, sharing stories and making memories.\n",
      "It was a simple plan, but one that filled her with joy and contentment.\n",
      " > ===========================\n",
      "ðə sən pikt θɹu ðə ˈkəɹtənz, ˈkæstɪŋ ə wɔɹm gloʊ əˈkɹɔs ðə ɹum.\n",
      " length:63\n",
      " length:63\n",
      "ʃi stəɹd, həɹ aɪz ˈflətəɹɪŋ ˈoʊpən ɛz ʃi stɹɛtʃt həɹ ɑɹmz əˈbəv həɹ hɛd.\n",
      " length:72\n",
      " length:72\n",
      "ɪt wɑz ə nu deɪ, fʊɫ əv ˈpɹɑməs ənd ˌpɑsəˈbɪləˌti. ʃi smaɪɫd,\n",
      " length:61\n",
      " length:61\n",
      "ˈθɪŋkɪŋ əv ɔɫ ðə θɪŋz ʃi ˈwɔntɪd tɪ əˈkɑmplɪʃ. fəɹst ɔn ðə lɪst wɑz ə ˈvɪzɪt tɪ həɹ ˈfeɪvəɹɪt kəˈfeɪ,\n",
      " length:101\n",
      " length:101\n",
      "wɛɹ ʃi wʊd sɪp ɔn ə ˈkɹimi ˈlɑˌteɪ ənd wɔtʃ ðə wəɹɫd goʊ baɪ.\n",
      " length:61\n",
      " length:61\n",
      "ðɛn, ʃi wʊd hɛd tɪ ðə pɑɹk fəɹ ə ˈlizəɹli stɹoʊɫ,\n",
      " length:49\n",
      " length:49\n",
      "ˈteɪkɪŋ ɪn ðə ˈbjuti əv ˈneɪtʃəɹ ənd ˈbɹiðɪŋ ɪn ðə fɹɛʃ ɛɹ.\n",
      " length:59\n",
      " length:59\n",
      "ɪn ðə ˌæftəɹˈnun, ʃi plænd tɪ kəɹɫ əp wɪθ ə gʊd bʊk,\n",
      " length:52\n",
      " length:52\n",
      "ˈluzɪŋ həɹˈsɛɫf ɪn ðə ˈpeɪdʒɪz əv ə ˈkæptɪˌveɪtɪŋ ˈstɔɹi. ɛz ðə deɪ dɹu tɪ ə kloʊz,\n",
      " length:83\n",
      " length:83\n",
      "ʃi wʊd mit əp wɪθ fɹɛndz fəɹ ˈdɪnəɹ ənd ˈlæftəɹ, ˈʃɛɹɪŋ ˈstɔɹiz ənd ˈmeɪkɪŋ ˈmɛməɹiz.\n",
      " length:85\n",
      " length:85\n",
      "ɪt wɑz ə ˈsɪmpəɫ plæn, bət wən ðət fɪɫd həɹ wɪθ dʒɔɪ ənd kənˈtɛntmənt.\n",
      " length:70\n",
      " length:70\n",
      "Cloned Voice Generated!\n"
     ]
    },
    {
     "name": "stderr",
     "output_type": "stream",
     "text": [
      "/opt/anaconda3/envs/openvoice/lib/python3.9/site-packages/torch/nn/utils/weight_norm.py:28: UserWarning: torch.nn.utils.weight_norm is deprecated in favor of torch.nn.utils.parametrizations.weight_norm.\n",
      "  warnings.warn(\"torch.nn.utils.weight_norm is deprecated in favor of torch.nn.utils.parametrizations.weight_norm.\")\n"
     ]
    },
    {
     "name": "stdout",
     "output_type": "stream",
     "text": [
      "Loaded checkpoint 'checkpoints/base_speakers/EN/checkpoint.pth'\n",
      "missing/unexpected keys: [] []\n",
      "Loaded checkpoint 'checkpoints/converter/checkpoint.pth'\n",
      "missing/unexpected keys: [] []\n",
      "OpenVoice version: v1\n",
      "[(0.0, 10.112)]\n",
      "after vad: dur = 10.112\n",
      " > Text splitted to sentences.\n",
      "Life is not about waiting for the storm to pass; it's about learning to dance in the rain.\n",
      "We are all faced with challenges and obstacles, but it's how we respond to them that defines our character and shapes our future.\n",
      "Never let fear hold you back from pursuing your dreams. Embrace the unknown,\n",
      "for that is where growth and opportunity lie. Be kind to others,\n",
      "for everyone you meet is fighting a battle you know nothing about.\n",
      "Treat each day as a new beginning, a chance to start fresh and make a positive impact on the world around you.\n",
      "Remember, success is not measured by material possessions, but by the lives you touch and the love you share.\n",
      "Cherish the simple moments, the laughter of a child, the warmth of a hug,\n",
      "the beauty of a sunset. These are the things that make life truly rich.\n",
      "Above all, never lose sight of what matters most - the people you love,\n",
      "the passions that inspire you, and the legacy you leave behind.\n",
      "Life is a precious gift, so live it fully, love deeply,\n",
      "and make every moment count.\n",
      " > ===========================\n",
      "laɪf ɪz nɑt əˈbaʊt ˈweɪtɪŋ fəɹ ðə stɔɹm tɪ pæs; ɪts əˈbaʊt ˈləɹnɪŋ tɪ dæns ɪn ðə ɹeɪn.\n",
      " length:86\n",
      " length:85\n",
      "wi əɹ ɔɫ feɪst wɪθ ˈtʃæləndʒɪz ənd ˈɑbstəkəɫz, bət ɪts haʊ wi ɹɪˈspɑnd tɪ ðɛm ðət dɪˈfaɪnz ɑɹ ˈkɛɹɪktəɹ ənd ʃeɪps ɑɹ fˈjutʃəɹ.\n",
      " length:126\n",
      " length:126\n",
      "ˈnɛvəɹ lɛt fɪɹ hoʊɫd ju bæk fɹəm pəɹˈsuɪŋ jʊɹ dɹimz. ɪmˈbɹeɪs ðə ənˈnoʊn,\n",
      " length:73\n",
      " length:73\n",
      "fəɹ ðət ɪz wɛɹ gɹoʊθ ənd ˌɑpəɹˈtunəti laɪ. bi kaɪnd tɪ ˈəðəɹz,\n",
      " length:62\n",
      " length:62\n",
      "fəɹ ˈɛvɹiˌwən ju mit ɪz ˈfaɪtɪŋ ə ˈbætəɫ ju noʊ ˈnəθɪŋ əˈbaʊt.\n",
      " length:62\n",
      " length:62\n",
      "tɹit itʃ deɪ ɛz ə nu bɪˈgɪnɪŋ, ə tʃæns tɪ stɑɹt fɹɛʃ ənd meɪk ə ˈpɑzətɪv ˌɪmˈpækt ɔn ðə wəɹɫd əɹaʊnd ju.\n",
      " length:104\n",
      " length:104\n",
      "ɹɪˈmɛmbəɹ, səkˈsɛs ɪz nɑt ˈmɛʒəɹd baɪ məˈtɪɹiəɫ pəˈzɛʃənz, bət baɪ ðə lɪvz ju tətʃ ənd ðə ləv ju ʃɛɹ.\n",
      " length:101\n",
      " length:101\n",
      "ˈtʃɛɹɪʃ ðə ˈsɪmpəɫ ˈmoʊmənts, ðə ˈlæftəɹ əv ə tʃaɪɫd, ðə wɔɹmθ əv ə həg,\n",
      " length:72\n",
      " length:72\n",
      "ðə ˈbjuti əv ə ˈsənˌsɛt. ðiz əɹ ðə θɪŋz ðət meɪk laɪf ˈtɹuli ɹɪtʃ.\n",
      " length:66\n",
      " length:66\n",
      "əˈbəv ɔɫ, ˈnɛvəɹ luz saɪt əv wət ˈmætəɹz moʊst ðə ˈpipəɫ ju ləv,\n",
      " length:64\n",
      " length:64\n",
      "ðə ˈpæʃənz ðət ˌɪnˈspaɪɹ ju, ənd ðə ˈlɛgəsi ju liv bɪˈhaɪnd.\n",
      " length:60\n",
      " length:60\n",
      "laɪf ɪz ə ˈpɹɛʃəs gɪft, soʊ lɪv ɪt ˈfʊli, ləv ˈdipli,\n",
      " length:53\n",
      " length:53\n",
      "ənd meɪk ˈɛvəɹi ˈmoʊmənt kaʊnt.\n",
      " length:31\n",
      " length:31\n",
      "Cloned Voice Generated!\n"
     ]
    },
    {
     "name": "stderr",
     "output_type": "stream",
     "text": [
      "/opt/anaconda3/envs/openvoice/lib/python3.9/site-packages/torch/nn/utils/weight_norm.py:28: UserWarning: torch.nn.utils.weight_norm is deprecated in favor of torch.nn.utils.parametrizations.weight_norm.\n",
      "  warnings.warn(\"torch.nn.utils.weight_norm is deprecated in favor of torch.nn.utils.parametrizations.weight_norm.\")\n"
     ]
    },
    {
     "name": "stdout",
     "output_type": "stream",
     "text": [
      "Loaded checkpoint 'checkpoints/base_speakers/EN/checkpoint.pth'\n",
      "missing/unexpected keys: [] []\n",
      "Loaded checkpoint 'checkpoints/converter/checkpoint.pth'\n",
      "missing/unexpected keys: [] []\n",
      "OpenVoice version: v1\n",
      "[(0.0, 10.112)]\n",
      "after vad: dur = 10.112\n",
      " > Text splitted to sentences.\n",
      "Life is not about waiting for the storm to pass; it's about learning to dance in the rain.\n",
      "We are all faced with challenges and obstacles, but it's how we respond to them that defines our character and shapes our future.\n",
      "Never let fear hold you back from pursuing your dreams. Embrace the unknown,\n",
      "for that is where growth and opportunity lie. Be kind to others,\n",
      "for everyone you meet is fighting a battle you know nothing about.\n",
      "Treat each day as a new beginning, a chance to start fresh and make a positive impact on the world around you.\n",
      "Remember, success is not measured by material possessions, but by the lives you touch and the love you share.\n",
      "Cherish the simple moments, the laughter of a child, the warmth of a hug,\n",
      "the beauty of a sunset. These are the things that make life truly rich.\n",
      "Above all, never lose sight of what matters most - the people you love,\n",
      "the passions that inspire you, and the legacy you leave behind.\n",
      "Life is a precious gift, so live it fully, love deeply,\n",
      "and make every moment count.\n",
      " > ===========================\n",
      "laɪf ɪz nɑt əˈbaʊt ˈweɪtɪŋ fəɹ ðə stɔɹm tɪ pæs; ɪts əˈbaʊt ˈləɹnɪŋ tɪ dæns ɪn ðə ɹeɪn.\n",
      " length:86\n",
      " length:85\n",
      "wi əɹ ɔɫ feɪst wɪθ ˈtʃæləndʒɪz ənd ˈɑbstəkəɫz, bət ɪts haʊ wi ɹɪˈspɑnd tɪ ðɛm ðət dɪˈfaɪnz ɑɹ ˈkɛɹɪktəɹ ənd ʃeɪps ɑɹ fˈjutʃəɹ.\n",
      " length:126\n",
      " length:126\n",
      "ˈnɛvəɹ lɛt fɪɹ hoʊɫd ju bæk fɹəm pəɹˈsuɪŋ jʊɹ dɹimz. ɪmˈbɹeɪs ðə ənˈnoʊn,\n",
      " length:73\n",
      " length:73\n",
      "fəɹ ðət ɪz wɛɹ gɹoʊθ ənd ˌɑpəɹˈtunəti laɪ. bi kaɪnd tɪ ˈəðəɹz,\n",
      " length:62\n",
      " length:62\n",
      "fəɹ ˈɛvɹiˌwən ju mit ɪz ˈfaɪtɪŋ ə ˈbætəɫ ju noʊ ˈnəθɪŋ əˈbaʊt.\n",
      " length:62\n",
      " length:62\n",
      "tɹit itʃ deɪ ɛz ə nu bɪˈgɪnɪŋ, ə tʃæns tɪ stɑɹt fɹɛʃ ənd meɪk ə ˈpɑzətɪv ˌɪmˈpækt ɔn ðə wəɹɫd əɹaʊnd ju.\n",
      " length:104\n",
      " length:104\n",
      "ɹɪˈmɛmbəɹ, səkˈsɛs ɪz nɑt ˈmɛʒəɹd baɪ məˈtɪɹiəɫ pəˈzɛʃənz, bət baɪ ðə lɪvz ju tətʃ ənd ðə ləv ju ʃɛɹ.\n",
      " length:101\n",
      " length:101\n",
      "ˈtʃɛɹɪʃ ðə ˈsɪmpəɫ ˈmoʊmənts, ðə ˈlæftəɹ əv ə tʃaɪɫd, ðə wɔɹmθ əv ə həg,\n",
      " length:72\n",
      " length:72\n",
      "ðə ˈbjuti əv ə ˈsənˌsɛt. ðiz əɹ ðə θɪŋz ðət meɪk laɪf ˈtɹuli ɹɪtʃ.\n",
      " length:66\n",
      " length:66\n",
      "əˈbəv ɔɫ, ˈnɛvəɹ luz saɪt əv wət ˈmætəɹz moʊst ðə ˈpipəɫ ju ləv,\n",
      " length:64\n",
      " length:64\n",
      "ðə ˈpæʃənz ðət ˌɪnˈspaɪɹ ju, ənd ðə ˈlɛgəsi ju liv bɪˈhaɪnd.\n",
      " length:60\n",
      " length:60\n",
      "laɪf ɪz ə ˈpɹɛʃəs gɪft, soʊ lɪv ɪt ˈfʊli, ləv ˈdipli,\n",
      " length:53\n",
      " length:53\n",
      "ənd meɪk ˈɛvəɹi ˈmoʊmənt kaʊnt.\n",
      " length:31\n",
      " length:31\n",
      "Cloned Voice Generated!\n"
     ]
    },
    {
     "name": "stderr",
     "output_type": "stream",
     "text": [
      "/opt/anaconda3/envs/openvoice/lib/python3.9/site-packages/torch/nn/utils/weight_norm.py:28: UserWarning: torch.nn.utils.weight_norm is deprecated in favor of torch.nn.utils.parametrizations.weight_norm.\n",
      "  warnings.warn(\"torch.nn.utils.weight_norm is deprecated in favor of torch.nn.utils.parametrizations.weight_norm.\")\n"
     ]
    },
    {
     "name": "stdout",
     "output_type": "stream",
     "text": [
      "Loaded checkpoint 'checkpoints/base_speakers/EN/checkpoint.pth'\n",
      "missing/unexpected keys: [] []\n",
      "Loaded checkpoint 'checkpoints/converter/checkpoint.pth'\n",
      "missing/unexpected keys: [] []\n",
      "OpenVoice version: v1\n",
      "[(0.0, 10.112)]\n",
      "after vad: dur = 10.112\n",
      " > Text splitted to sentences.\n",
      "Life is not about waiting for the storm to pass; it's about learning to dance in the rain.\n",
      "We are all faced with challenges and obstacles, but it's how we respond to them that defines our character and shapes our future.\n",
      "Never let fear hold you back from pursuing your dreams. Embrace the unknown,\n",
      "for that is where growth and opportunity lie. Be kind to others,\n",
      "for everyone you meet is fighting a battle you know nothing about.\n",
      "Treat each day as a new beginning, a chance to start fresh and make a positive impact on the world around you.\n",
      "Remember, success is not measured by material possessions, but by the lives you touch and the love you share.\n",
      "Cherish the simple moments, the laughter of a child, the warmth of a hug,\n",
      "the beauty of a sunset. These are the things that make life truly rich.\n",
      "Above all, never lose sight of what matters most - the people you love,\n",
      "the passions that inspire you, and the legacy you leave behind.\n",
      "Life is a precious gift, so live it fully, love deeply,\n",
      "and make every moment count.\n",
      " > ===========================\n",
      "laɪf ɪz nɑt əˈbaʊt ˈweɪtɪŋ fəɹ ðə stɔɹm tɪ pæs; ɪts əˈbaʊt ˈləɹnɪŋ tɪ dæns ɪn ðə ɹeɪn.\n",
      " length:86\n",
      " length:85\n",
      "wi əɹ ɔɫ feɪst wɪθ ˈtʃæləndʒɪz ənd ˈɑbstəkəɫz, bət ɪts haʊ wi ɹɪˈspɑnd tɪ ðɛm ðət dɪˈfaɪnz ɑɹ ˈkɛɹɪktəɹ ənd ʃeɪps ɑɹ fˈjutʃəɹ.\n",
      " length:126\n",
      " length:126\n",
      "ˈnɛvəɹ lɛt fɪɹ hoʊɫd ju bæk fɹəm pəɹˈsuɪŋ jʊɹ dɹimz. ɪmˈbɹeɪs ðə ənˈnoʊn,\n",
      " length:73\n",
      " length:73\n",
      "fəɹ ðət ɪz wɛɹ gɹoʊθ ənd ˌɑpəɹˈtunəti laɪ. bi kaɪnd tɪ ˈəðəɹz,\n",
      " length:62\n",
      " length:62\n",
      "fəɹ ˈɛvɹiˌwən ju mit ɪz ˈfaɪtɪŋ ə ˈbætəɫ ju noʊ ˈnəθɪŋ əˈbaʊt.\n",
      " length:62\n",
      " length:62\n",
      "tɹit itʃ deɪ ɛz ə nu bɪˈgɪnɪŋ, ə tʃæns tɪ stɑɹt fɹɛʃ ənd meɪk ə ˈpɑzətɪv ˌɪmˈpækt ɔn ðə wəɹɫd əɹaʊnd ju.\n",
      " length:104\n",
      " length:104\n",
      "ɹɪˈmɛmbəɹ, səkˈsɛs ɪz nɑt ˈmɛʒəɹd baɪ məˈtɪɹiəɫ pəˈzɛʃənz, bət baɪ ðə lɪvz ju tətʃ ənd ðə ləv ju ʃɛɹ.\n",
      " length:101\n",
      " length:101\n",
      "ˈtʃɛɹɪʃ ðə ˈsɪmpəɫ ˈmoʊmənts, ðə ˈlæftəɹ əv ə tʃaɪɫd, ðə wɔɹmθ əv ə həg,\n",
      " length:72\n",
      " length:72\n",
      "ðə ˈbjuti əv ə ˈsənˌsɛt. ðiz əɹ ðə θɪŋz ðət meɪk laɪf ˈtɹuli ɹɪtʃ.\n",
      " length:66\n",
      " length:66\n",
      "əˈbəv ɔɫ, ˈnɛvəɹ luz saɪt əv wət ˈmætəɹz moʊst ðə ˈpipəɫ ju ləv,\n",
      " length:64\n",
      " length:64\n",
      "ðə ˈpæʃənz ðət ˌɪnˈspaɪɹ ju, ənd ðə ˈlɛgəsi ju liv bɪˈhaɪnd.\n",
      " length:60\n",
      " length:60\n",
      "laɪf ɪz ə ˈpɹɛʃəs gɪft, soʊ lɪv ɪt ˈfʊli, ləv ˈdipli,\n",
      " length:53\n",
      " length:53\n",
      "ənd meɪk ˈɛvəɹi ˈmoʊmənt kaʊnt.\n",
      " length:31\n",
      " length:31\n",
      "Cloned Voice Generated!\n"
     ]
    },
    {
     "name": "stderr",
     "output_type": "stream",
     "text": [
      "/opt/anaconda3/envs/openvoice/lib/python3.9/site-packages/torch/nn/utils/weight_norm.py:28: UserWarning: torch.nn.utils.weight_norm is deprecated in favor of torch.nn.utils.parametrizations.weight_norm.\n",
      "  warnings.warn(\"torch.nn.utils.weight_norm is deprecated in favor of torch.nn.utils.parametrizations.weight_norm.\")\n"
     ]
    },
    {
     "name": "stdout",
     "output_type": "stream",
     "text": [
      "Loaded checkpoint 'checkpoints/base_speakers/EN/checkpoint.pth'\n",
      "missing/unexpected keys: [] []\n",
      "Loaded checkpoint 'checkpoints/converter/checkpoint.pth'\n",
      "missing/unexpected keys: [] []\n",
      "OpenVoice version: v1\n",
      "[(0.0, 10.112)]\n",
      "after vad: dur = 10.112\n",
      " > Text splitted to sentences.\n",
      "Life is not about waiting for the storm to pass; it's about learning to dance in the rain.\n",
      "We are all faced with challenges and obstacles, but it's how we respond to them that defines our character and shapes our future.\n",
      "Never let fear hold you back from pursuing your dreams. Embrace the unknown,\n",
      "for that is where growth and opportunity lie. Be kind to others,\n",
      "for everyone you meet is fighting a battle you know nothing about.\n",
      "Treat each day as a new beginning, a chance to start fresh and make a positive impact on the world around you.\n",
      "Remember, success is not measured by material possessions, but by the lives you touch and the love you share.\n",
      "Cherish the simple moments, the laughter of a child, the warmth of a hug,\n",
      "the beauty of a sunset. These are the things that make life truly rich.\n",
      "Above all, never lose sight of what matters most - the people you love,\n",
      "the passions that inspire you, and the legacy you leave behind.\n",
      "Life is a precious gift, so live it fully, love deeply,\n",
      "and make every moment count.\n",
      " > ===========================\n",
      "laɪf ɪz nɑt əˈbaʊt ˈweɪtɪŋ fəɹ ðə stɔɹm tɪ pæs; ɪts əˈbaʊt ˈləɹnɪŋ tɪ dæns ɪn ðə ɹeɪn.\n",
      " length:86\n",
      " length:85\n",
      "wi əɹ ɔɫ feɪst wɪθ ˈtʃæləndʒɪz ənd ˈɑbstəkəɫz, bət ɪts haʊ wi ɹɪˈspɑnd tɪ ðɛm ðət dɪˈfaɪnz ɑɹ ˈkɛɹɪktəɹ ənd ʃeɪps ɑɹ fˈjutʃəɹ.\n",
      " length:126\n",
      " length:126\n",
      "ˈnɛvəɹ lɛt fɪɹ hoʊɫd ju bæk fɹəm pəɹˈsuɪŋ jʊɹ dɹimz. ɪmˈbɹeɪs ðə ənˈnoʊn,\n",
      " length:73\n",
      " length:73\n",
      "fəɹ ðət ɪz wɛɹ gɹoʊθ ənd ˌɑpəɹˈtunəti laɪ. bi kaɪnd tɪ ˈəðəɹz,\n",
      " length:62\n",
      " length:62\n",
      "fəɹ ˈɛvɹiˌwən ju mit ɪz ˈfaɪtɪŋ ə ˈbætəɫ ju noʊ ˈnəθɪŋ əˈbaʊt.\n",
      " length:62\n",
      " length:62\n",
      "tɹit itʃ deɪ ɛz ə nu bɪˈgɪnɪŋ, ə tʃæns tɪ stɑɹt fɹɛʃ ənd meɪk ə ˈpɑzətɪv ˌɪmˈpækt ɔn ðə wəɹɫd əɹaʊnd ju.\n",
      " length:104\n",
      " length:104\n",
      "ɹɪˈmɛmbəɹ, səkˈsɛs ɪz nɑt ˈmɛʒəɹd baɪ məˈtɪɹiəɫ pəˈzɛʃənz, bət baɪ ðə lɪvz ju tətʃ ənd ðə ləv ju ʃɛɹ.\n",
      " length:101\n",
      " length:101\n",
      "ˈtʃɛɹɪʃ ðə ˈsɪmpəɫ ˈmoʊmənts, ðə ˈlæftəɹ əv ə tʃaɪɫd, ðə wɔɹmθ əv ə həg,\n",
      " length:72\n",
      " length:72\n",
      "ðə ˈbjuti əv ə ˈsənˌsɛt. ðiz əɹ ðə θɪŋz ðət meɪk laɪf ˈtɹuli ɹɪtʃ.\n",
      " length:66\n",
      " length:66\n",
      "əˈbəv ɔɫ, ˈnɛvəɹ luz saɪt əv wət ˈmætəɹz moʊst ðə ˈpipəɫ ju ləv,\n",
      " length:64\n",
      " length:64\n",
      "ðə ˈpæʃənz ðət ˌɪnˈspaɪɹ ju, ənd ðə ˈlɛgəsi ju liv bɪˈhaɪnd.\n",
      " length:60\n",
      " length:60\n",
      "laɪf ɪz ə ˈpɹɛʃəs gɪft, soʊ lɪv ɪt ˈfʊli, ləv ˈdipli,\n",
      " length:53\n",
      " length:53\n",
      "ənd meɪk ˈɛvəɹi ˈmoʊmənt kaʊnt.\n",
      " length:31\n",
      " length:31\n",
      "Cloned Voice Generated!\n"
     ]
    },
    {
     "name": "stderr",
     "output_type": "stream",
     "text": [
      "/opt/anaconda3/envs/openvoice/lib/python3.9/site-packages/torch/nn/utils/weight_norm.py:28: UserWarning: torch.nn.utils.weight_norm is deprecated in favor of torch.nn.utils.parametrizations.weight_norm.\n",
      "  warnings.warn(\"torch.nn.utils.weight_norm is deprecated in favor of torch.nn.utils.parametrizations.weight_norm.\")\n"
     ]
    },
    {
     "name": "stdout",
     "output_type": "stream",
     "text": [
      "Loaded checkpoint 'checkpoints/base_speakers/EN/checkpoint.pth'\n",
      "missing/unexpected keys: [] []\n",
      "Loaded checkpoint 'checkpoints/converter/checkpoint.pth'\n",
      "missing/unexpected keys: [] []\n",
      "OpenVoice version: v1\n",
      "[(0.0, 10.112)]\n",
      "after vad: dur = 10.112\n",
      " > Text splitted to sentences.\n",
      "Life is not about waiting for the storm to pass; it's about learning to dance in the rain.\n",
      "We are all faced with challenges and obstacles, but it's how we respond to them that defines our character and shapes our future.\n",
      "Never let fear hold you back from pursuing your dreams. Embrace the unknown,\n",
      "for that is where growth and opportunity lie. Be kind to others,\n",
      "for everyone you meet is fighting a battle you know nothing about.\n",
      "Treat each day as a new beginning, a chance to start fresh and make a positive impact on the world around you.\n",
      "Remember, success is not measured by material possessions, but by the lives you touch and the love you share.\n",
      "Cherish the simple moments, the laughter of a child, the warmth of a hug,\n",
      "the beauty of a sunset. These are the things that make life truly rich.\n",
      "Above all, never lose sight of what matters most - the people you love,\n",
      "the passions that inspire you, and the legacy you leave behind.\n",
      "Life is a precious gift, so live it fully, love deeply,\n",
      "and make every moment count.\n",
      " > ===========================\n",
      "laɪf ɪz nɑt əˈbaʊt ˈweɪtɪŋ fəɹ ðə stɔɹm tɪ pæs; ɪts əˈbaʊt ˈləɹnɪŋ tɪ dæns ɪn ðə ɹeɪn.\n",
      " length:86\n",
      " length:85\n",
      "wi əɹ ɔɫ feɪst wɪθ ˈtʃæləndʒɪz ənd ˈɑbstəkəɫz, bət ɪts haʊ wi ɹɪˈspɑnd tɪ ðɛm ðət dɪˈfaɪnz ɑɹ ˈkɛɹɪktəɹ ənd ʃeɪps ɑɹ fˈjutʃəɹ.\n",
      " length:126\n",
      " length:126\n",
      "ˈnɛvəɹ lɛt fɪɹ hoʊɫd ju bæk fɹəm pəɹˈsuɪŋ jʊɹ dɹimz. ɪmˈbɹeɪs ðə ənˈnoʊn,\n",
      " length:73\n",
      " length:73\n",
      "fəɹ ðət ɪz wɛɹ gɹoʊθ ənd ˌɑpəɹˈtunəti laɪ. bi kaɪnd tɪ ˈəðəɹz,\n",
      " length:62\n",
      " length:62\n",
      "fəɹ ˈɛvɹiˌwən ju mit ɪz ˈfaɪtɪŋ ə ˈbætəɫ ju noʊ ˈnəθɪŋ əˈbaʊt.\n",
      " length:62\n",
      " length:62\n",
      "tɹit itʃ deɪ ɛz ə nu bɪˈgɪnɪŋ, ə tʃæns tɪ stɑɹt fɹɛʃ ənd meɪk ə ˈpɑzətɪv ˌɪmˈpækt ɔn ðə wəɹɫd əɹaʊnd ju.\n",
      " length:104\n",
      " length:104\n",
      "ɹɪˈmɛmbəɹ, səkˈsɛs ɪz nɑt ˈmɛʒəɹd baɪ məˈtɪɹiəɫ pəˈzɛʃənz, bət baɪ ðə lɪvz ju tətʃ ənd ðə ləv ju ʃɛɹ.\n",
      " length:101\n",
      " length:101\n",
      "ˈtʃɛɹɪʃ ðə ˈsɪmpəɫ ˈmoʊmənts, ðə ˈlæftəɹ əv ə tʃaɪɫd, ðə wɔɹmθ əv ə həg,\n",
      " length:72\n",
      " length:72\n",
      "ðə ˈbjuti əv ə ˈsənˌsɛt. ðiz əɹ ðə θɪŋz ðət meɪk laɪf ˈtɹuli ɹɪtʃ.\n",
      " length:66\n",
      " length:66\n",
      "əˈbəv ɔɫ, ˈnɛvəɹ luz saɪt əv wət ˈmætəɹz moʊst ðə ˈpipəɫ ju ləv,\n",
      " length:64\n",
      " length:64\n",
      "ðə ˈpæʃənz ðət ˌɪnˈspaɪɹ ju, ənd ðə ˈlɛgəsi ju liv bɪˈhaɪnd.\n",
      " length:60\n",
      " length:60\n",
      "laɪf ɪz ə ˈpɹɛʃəs gɪft, soʊ lɪv ɪt ˈfʊli, ləv ˈdipli,\n",
      " length:53\n",
      " length:53\n",
      "ənd meɪk ˈɛvəɹi ˈmoʊmənt kaʊnt.\n",
      " length:31\n",
      " length:31\n",
      "Cloned Voice Generated!\n",
      "Execution times:\n",
      "Text length: 5, Execution time: 2.1542 seconds\n",
      "Text length: 9, Execution time: 2.2601 seconds\n",
      "Text length: 16, Execution time: 2.2883 seconds\n",
      "Text length: 49, Execution time: 3.6278 seconds\n",
      "Text length: 102, Execution time: 4.6489 seconds\n",
      "Text length: 347, Execution time: 9.9644 seconds\n",
      "Text length: 573, Execution time: 14.5927 seconds\n",
      "Text length: 810, Execution time: 18.9322 seconds\n",
      "Text length: 1017, Execution time: 24.3280 seconds\n"
     ]
    },
    {
     "name": "stderr",
     "output_type": "stream",
     "text": [
      "/opt/anaconda3/envs/openvoice/lib/python3.9/site-packages/torch/nn/utils/weight_norm.py:28: UserWarning: torch.nn.utils.weight_norm is deprecated in favor of torch.nn.utils.parametrizations.weight_norm.\n",
      "  warnings.warn(\"torch.nn.utils.weight_norm is deprecated in favor of torch.nn.utils.parametrizations.weight_norm.\")\n"
     ]
    },
    {
     "name": "stdout",
     "output_type": "stream",
     "text": [
      "Loaded checkpoint 'checkpoints/base_speakers/EN/checkpoint.pth'\n",
      "missing/unexpected keys: [] []\n",
      "Loaded checkpoint 'checkpoints/converter/checkpoint.pth'\n",
      "missing/unexpected keys: [] []\n",
      "OpenVoice version: v1\n",
      "[(0.174, 10.6453125)]\n",
      "after vad: dur = 10.471\n",
      " > Text splitted to sentences.\n",
      "Smile\n",
      " > ===========================\n",
      "smaɪɫ.\n",
      " length:6\n",
      " length:6\n",
      "Audio too short, fail to add watermark\n",
      "Cloned Voice Generated!\n"
     ]
    },
    {
     "name": "stderr",
     "output_type": "stream",
     "text": [
      "/opt/anaconda3/envs/openvoice/lib/python3.9/site-packages/torch/nn/utils/weight_norm.py:28: UserWarning: torch.nn.utils.weight_norm is deprecated in favor of torch.nn.utils.parametrizations.weight_norm.\n",
      "  warnings.warn(\"torch.nn.utils.weight_norm is deprecated in favor of torch.nn.utils.parametrizations.weight_norm.\")\n"
     ]
    },
    {
     "name": "stdout",
     "output_type": "stream",
     "text": [
      "Loaded checkpoint 'checkpoints/base_speakers/EN/checkpoint.pth'\n",
      "missing/unexpected keys: [] []\n",
      "Loaded checkpoint 'checkpoints/converter/checkpoint.pth'\n",
      "missing/unexpected keys: [] []\n",
      "OpenVoice version: v1\n",
      "[(0.174, 10.6453125)]\n",
      "after vad: dur = 10.471\n",
      " > Text splitted to sentences.\n",
      "Smile\n",
      " > ===========================\n",
      "smaɪɫ.\n",
      " length:6\n",
      " length:6\n",
      "Audio too short, fail to add watermark\n",
      "Cloned Voice Generated!\n"
     ]
    },
    {
     "name": "stderr",
     "output_type": "stream",
     "text": [
      "/opt/anaconda3/envs/openvoice/lib/python3.9/site-packages/torch/nn/utils/weight_norm.py:28: UserWarning: torch.nn.utils.weight_norm is deprecated in favor of torch.nn.utils.parametrizations.weight_norm.\n",
      "  warnings.warn(\"torch.nn.utils.weight_norm is deprecated in favor of torch.nn.utils.parametrizations.weight_norm.\")\n"
     ]
    },
    {
     "name": "stdout",
     "output_type": "stream",
     "text": [
      "Loaded checkpoint 'checkpoints/base_speakers/EN/checkpoint.pth'\n",
      "missing/unexpected keys: [] []\n",
      "Loaded checkpoint 'checkpoints/converter/checkpoint.pth'\n",
      "missing/unexpected keys: [] []\n",
      "OpenVoice version: v1\n",
      "[(0.174, 10.6453125)]\n",
      "after vad: dur = 10.471\n",
      " > Text splitted to sentences.\n",
      "Smile\n",
      " > ===========================\n",
      "smaɪɫ.\n",
      " length:6\n",
      " length:6\n",
      "Audio too short, fail to add watermark\n",
      "Cloned Voice Generated!\n"
     ]
    },
    {
     "name": "stderr",
     "output_type": "stream",
     "text": [
      "/opt/anaconda3/envs/openvoice/lib/python3.9/site-packages/torch/nn/utils/weight_norm.py:28: UserWarning: torch.nn.utils.weight_norm is deprecated in favor of torch.nn.utils.parametrizations.weight_norm.\n",
      "  warnings.warn(\"torch.nn.utils.weight_norm is deprecated in favor of torch.nn.utils.parametrizations.weight_norm.\")\n"
     ]
    },
    {
     "name": "stdout",
     "output_type": "stream",
     "text": [
      "Loaded checkpoint 'checkpoints/base_speakers/EN/checkpoint.pth'\n",
      "missing/unexpected keys: [] []\n",
      "Loaded checkpoint 'checkpoints/converter/checkpoint.pth'\n",
      "missing/unexpected keys: [] []\n",
      "OpenVoice version: v1\n",
      "[(0.174, 10.6453125)]\n",
      "after vad: dur = 10.471\n",
      " > Text splitted to sentences.\n",
      "Smile\n",
      " > ===========================\n",
      "smaɪɫ.\n",
      " length:6\n",
      " length:6\n",
      "Audio too short, fail to add watermark\n",
      "Cloned Voice Generated!\n"
     ]
    },
    {
     "name": "stderr",
     "output_type": "stream",
     "text": [
      "/opt/anaconda3/envs/openvoice/lib/python3.9/site-packages/torch/nn/utils/weight_norm.py:28: UserWarning: torch.nn.utils.weight_norm is deprecated in favor of torch.nn.utils.parametrizations.weight_norm.\n",
      "  warnings.warn(\"torch.nn.utils.weight_norm is deprecated in favor of torch.nn.utils.parametrizations.weight_norm.\")\n"
     ]
    },
    {
     "name": "stdout",
     "output_type": "stream",
     "text": [
      "Loaded checkpoint 'checkpoints/base_speakers/EN/checkpoint.pth'\n",
      "missing/unexpected keys: [] []\n",
      "Loaded checkpoint 'checkpoints/converter/checkpoint.pth'\n",
      "missing/unexpected keys: [] []\n",
      "OpenVoice version: v1\n",
      "[(0.174, 10.6453125)]\n",
      "after vad: dur = 10.471\n",
      " > Text splitted to sentences.\n",
      "Smile\n",
      " > ===========================\n",
      "smaɪɫ.\n",
      " length:6\n",
      " length:6\n",
      "Audio too short, fail to add watermark\n",
      "Cloned Voice Generated!\n"
     ]
    },
    {
     "name": "stderr",
     "output_type": "stream",
     "text": [
      "/opt/anaconda3/envs/openvoice/lib/python3.9/site-packages/torch/nn/utils/weight_norm.py:28: UserWarning: torch.nn.utils.weight_norm is deprecated in favor of torch.nn.utils.parametrizations.weight_norm.\n",
      "  warnings.warn(\"torch.nn.utils.weight_norm is deprecated in favor of torch.nn.utils.parametrizations.weight_norm.\")\n"
     ]
    },
    {
     "name": "stdout",
     "output_type": "stream",
     "text": [
      "Loaded checkpoint 'checkpoints/base_speakers/EN/checkpoint.pth'\n",
      "missing/unexpected keys: [] []\n",
      "Loaded checkpoint 'checkpoints/converter/checkpoint.pth'\n",
      "missing/unexpected keys: [] []\n",
      "OpenVoice version: v1\n",
      "[(0.174, 10.6453125)]\n",
      "after vad: dur = 10.471\n",
      " > Text splitted to sentences.\n",
      "To change\n",
      " > ===========================\n",
      "tɪ tʃeɪndʒ.\n",
      " length:11\n",
      " length:11\n",
      "Audio too short, fail to add watermark\n",
      "Cloned Voice Generated!\n"
     ]
    },
    {
     "name": "stderr",
     "output_type": "stream",
     "text": [
      "/opt/anaconda3/envs/openvoice/lib/python3.9/site-packages/torch/nn/utils/weight_norm.py:28: UserWarning: torch.nn.utils.weight_norm is deprecated in favor of torch.nn.utils.parametrizations.weight_norm.\n",
      "  warnings.warn(\"torch.nn.utils.weight_norm is deprecated in favor of torch.nn.utils.parametrizations.weight_norm.\")\n"
     ]
    },
    {
     "name": "stdout",
     "output_type": "stream",
     "text": [
      "Loaded checkpoint 'checkpoints/base_speakers/EN/checkpoint.pth'\n",
      "missing/unexpected keys: [] []\n",
      "Loaded checkpoint 'checkpoints/converter/checkpoint.pth'\n",
      "missing/unexpected keys: [] []\n",
      "OpenVoice version: v1\n",
      "[(0.174, 10.6453125)]\n",
      "after vad: dur = 10.471\n",
      " > Text splitted to sentences.\n",
      "To change\n",
      " > ===========================\n",
      "tɪ tʃeɪndʒ.\n",
      " length:11\n",
      " length:11\n",
      "Audio too short, fail to add watermark\n",
      "Cloned Voice Generated!\n"
     ]
    },
    {
     "name": "stderr",
     "output_type": "stream",
     "text": [
      "/opt/anaconda3/envs/openvoice/lib/python3.9/site-packages/torch/nn/utils/weight_norm.py:28: UserWarning: torch.nn.utils.weight_norm is deprecated in favor of torch.nn.utils.parametrizations.weight_norm.\n",
      "  warnings.warn(\"torch.nn.utils.weight_norm is deprecated in favor of torch.nn.utils.parametrizations.weight_norm.\")\n"
     ]
    },
    {
     "name": "stdout",
     "output_type": "stream",
     "text": [
      "Loaded checkpoint 'checkpoints/base_speakers/EN/checkpoint.pth'\n",
      "missing/unexpected keys: [] []\n",
      "Loaded checkpoint 'checkpoints/converter/checkpoint.pth'\n",
      "missing/unexpected keys: [] []\n",
      "OpenVoice version: v1\n",
      "[(0.174, 10.6453125)]\n",
      "after vad: dur = 10.471\n",
      " > Text splitted to sentences.\n",
      "To change\n",
      " > ===========================\n",
      "tɪ tʃeɪndʒ.\n",
      " length:11\n",
      " length:11\n",
      "Audio too short, fail to add watermark\n",
      "Cloned Voice Generated!\n"
     ]
    },
    {
     "name": "stderr",
     "output_type": "stream",
     "text": [
      "/opt/anaconda3/envs/openvoice/lib/python3.9/site-packages/torch/nn/utils/weight_norm.py:28: UserWarning: torch.nn.utils.weight_norm is deprecated in favor of torch.nn.utils.parametrizations.weight_norm.\n",
      "  warnings.warn(\"torch.nn.utils.weight_norm is deprecated in favor of torch.nn.utils.parametrizations.weight_norm.\")\n"
     ]
    },
    {
     "name": "stdout",
     "output_type": "stream",
     "text": [
      "Loaded checkpoint 'checkpoints/base_speakers/EN/checkpoint.pth'\n",
      "missing/unexpected keys: [] []\n",
      "Loaded checkpoint 'checkpoints/converter/checkpoint.pth'\n",
      "missing/unexpected keys: [] []\n",
      "OpenVoice version: v1\n",
      "[(0.174, 10.6453125)]\n",
      "after vad: dur = 10.471\n",
      " > Text splitted to sentences.\n",
      "To change\n",
      " > ===========================\n",
      "tɪ tʃeɪndʒ.\n",
      " length:11\n",
      " length:11\n",
      "Audio too short, fail to add watermark\n",
      "Cloned Voice Generated!\n"
     ]
    },
    {
     "name": "stderr",
     "output_type": "stream",
     "text": [
      "/opt/anaconda3/envs/openvoice/lib/python3.9/site-packages/torch/nn/utils/weight_norm.py:28: UserWarning: torch.nn.utils.weight_norm is deprecated in favor of torch.nn.utils.parametrizations.weight_norm.\n",
      "  warnings.warn(\"torch.nn.utils.weight_norm is deprecated in favor of torch.nn.utils.parametrizations.weight_norm.\")\n"
     ]
    },
    {
     "name": "stdout",
     "output_type": "stream",
     "text": [
      "Loaded checkpoint 'checkpoints/base_speakers/EN/checkpoint.pth'\n",
      "missing/unexpected keys: [] []\n",
      "Loaded checkpoint 'checkpoints/converter/checkpoint.pth'\n",
      "missing/unexpected keys: [] []\n",
      "OpenVoice version: v1\n",
      "[(0.174, 10.6453125)]\n",
      "after vad: dur = 10.471\n",
      " > Text splitted to sentences.\n",
      "To change\n",
      " > ===========================\n",
      "tɪ tʃeɪndʒ.\n",
      " length:11\n",
      " length:11\n",
      "Audio too short, fail to add watermark\n",
      "Cloned Voice Generated!\n"
     ]
    },
    {
     "name": "stderr",
     "output_type": "stream",
     "text": [
      "/opt/anaconda3/envs/openvoice/lib/python3.9/site-packages/torch/nn/utils/weight_norm.py:28: UserWarning: torch.nn.utils.weight_norm is deprecated in favor of torch.nn.utils.parametrizations.weight_norm.\n",
      "  warnings.warn(\"torch.nn.utils.weight_norm is deprecated in favor of torch.nn.utils.parametrizations.weight_norm.\")\n"
     ]
    },
    {
     "name": "stdout",
     "output_type": "stream",
     "text": [
      "Loaded checkpoint 'checkpoints/base_speakers/EN/checkpoint.pth'\n",
      "missing/unexpected keys: [] []\n",
      "Loaded checkpoint 'checkpoints/converter/checkpoint.pth'\n",
      "missing/unexpected keys: [] []\n",
      "OpenVoice version: v1\n",
      "[(0.174, 10.6453125)]\n",
      "after vad: dur = 10.471\n",
      " > Text splitted to sentences.\n",
      "Seize the moment\n",
      " > ===========================\n",
      "siz ðə ˈmoʊmənt.\n",
      " length:16\n",
      " length:16\n",
      "Audio too short, fail to add watermark\n",
      "Cloned Voice Generated!\n"
     ]
    },
    {
     "name": "stderr",
     "output_type": "stream",
     "text": [
      "/opt/anaconda3/envs/openvoice/lib/python3.9/site-packages/torch/nn/utils/weight_norm.py:28: UserWarning: torch.nn.utils.weight_norm is deprecated in favor of torch.nn.utils.parametrizations.weight_norm.\n",
      "  warnings.warn(\"torch.nn.utils.weight_norm is deprecated in favor of torch.nn.utils.parametrizations.weight_norm.\")\n"
     ]
    },
    {
     "name": "stdout",
     "output_type": "stream",
     "text": [
      "Loaded checkpoint 'checkpoints/base_speakers/EN/checkpoint.pth'\n",
      "missing/unexpected keys: [] []\n",
      "Loaded checkpoint 'checkpoints/converter/checkpoint.pth'\n",
      "missing/unexpected keys: [] []\n",
      "OpenVoice version: v1\n",
      "[(0.174, 10.6453125)]\n",
      "after vad: dur = 10.471\n",
      " > Text splitted to sentences.\n",
      "Seize the moment\n",
      " > ===========================\n",
      "siz ðə ˈmoʊmənt.\n",
      " length:16\n",
      " length:16\n",
      "Audio too short, fail to add watermark\n",
      "Cloned Voice Generated!\n"
     ]
    },
    {
     "name": "stderr",
     "output_type": "stream",
     "text": [
      "/opt/anaconda3/envs/openvoice/lib/python3.9/site-packages/torch/nn/utils/weight_norm.py:28: UserWarning: torch.nn.utils.weight_norm is deprecated in favor of torch.nn.utils.parametrizations.weight_norm.\n",
      "  warnings.warn(\"torch.nn.utils.weight_norm is deprecated in favor of torch.nn.utils.parametrizations.weight_norm.\")\n"
     ]
    },
    {
     "name": "stdout",
     "output_type": "stream",
     "text": [
      "Loaded checkpoint 'checkpoints/base_speakers/EN/checkpoint.pth'\n",
      "missing/unexpected keys: [] []\n",
      "Loaded checkpoint 'checkpoints/converter/checkpoint.pth'\n",
      "missing/unexpected keys: [] []\n",
      "OpenVoice version: v1\n",
      "[(0.174, 10.6453125)]\n",
      "after vad: dur = 10.471\n",
      " > Text splitted to sentences.\n",
      "Seize the moment\n",
      " > ===========================\n",
      "siz ðə ˈmoʊmənt.\n",
      " length:16\n",
      " length:16\n",
      "Audio too short, fail to add watermark\n",
      "Cloned Voice Generated!\n"
     ]
    },
    {
     "name": "stderr",
     "output_type": "stream",
     "text": [
      "/opt/anaconda3/envs/openvoice/lib/python3.9/site-packages/torch/nn/utils/weight_norm.py:28: UserWarning: torch.nn.utils.weight_norm is deprecated in favor of torch.nn.utils.parametrizations.weight_norm.\n",
      "  warnings.warn(\"torch.nn.utils.weight_norm is deprecated in favor of torch.nn.utils.parametrizations.weight_norm.\")\n"
     ]
    },
    {
     "name": "stdout",
     "output_type": "stream",
     "text": [
      "Loaded checkpoint 'checkpoints/base_speakers/EN/checkpoint.pth'\n",
      "missing/unexpected keys: [] []\n",
      "Loaded checkpoint 'checkpoints/converter/checkpoint.pth'\n",
      "missing/unexpected keys: [] []\n",
      "OpenVoice version: v1\n",
      "[(0.174, 10.6453125)]\n",
      "after vad: dur = 10.471\n",
      " > Text splitted to sentences.\n",
      "Seize the moment\n",
      " > ===========================\n",
      "siz ðə ˈmoʊmənt.\n",
      " length:16\n",
      " length:16\n",
      "Audio too short, fail to add watermark\n",
      "Cloned Voice Generated!\n"
     ]
    },
    {
     "name": "stderr",
     "output_type": "stream",
     "text": [
      "/opt/anaconda3/envs/openvoice/lib/python3.9/site-packages/torch/nn/utils/weight_norm.py:28: UserWarning: torch.nn.utils.weight_norm is deprecated in favor of torch.nn.utils.parametrizations.weight_norm.\n",
      "  warnings.warn(\"torch.nn.utils.weight_norm is deprecated in favor of torch.nn.utils.parametrizations.weight_norm.\")\n"
     ]
    },
    {
     "name": "stdout",
     "output_type": "stream",
     "text": [
      "Loaded checkpoint 'checkpoints/base_speakers/EN/checkpoint.pth'\n",
      "missing/unexpected keys: [] []\n",
      "Loaded checkpoint 'checkpoints/converter/checkpoint.pth'\n",
      "missing/unexpected keys: [] []\n",
      "OpenVoice version: v1\n",
      "[(0.174, 10.6453125)]\n",
      "after vad: dur = 10.471\n",
      " > Text splitted to sentences.\n",
      "Seize the moment\n",
      " > ===========================\n",
      "siz ðə ˈmoʊmənt.\n",
      " length:16\n",
      " length:16\n",
      "Audio too short, fail to add watermark\n",
      "Cloned Voice Generated!\n"
     ]
    },
    {
     "name": "stderr",
     "output_type": "stream",
     "text": [
      "/opt/anaconda3/envs/openvoice/lib/python3.9/site-packages/torch/nn/utils/weight_norm.py:28: UserWarning: torch.nn.utils.weight_norm is deprecated in favor of torch.nn.utils.parametrizations.weight_norm.\n",
      "  warnings.warn(\"torch.nn.utils.weight_norm is deprecated in favor of torch.nn.utils.parametrizations.weight_norm.\")\n"
     ]
    },
    {
     "name": "stdout",
     "output_type": "stream",
     "text": [
      "Loaded checkpoint 'checkpoints/base_speakers/EN/checkpoint.pth'\n",
      "missing/unexpected keys: [] []\n",
      "Loaded checkpoint 'checkpoints/converter/checkpoint.pth'\n",
      "missing/unexpected keys: [] []\n",
      "OpenVoice version: v1\n",
      "[(0.174, 10.6453125)]\n",
      "after vad: dur = 10.471\n",
      " > Text splitted to sentences.\n",
      "Life is a beautiful journey, make each day count.\n",
      " > ===========================\n",
      "laɪf ɪz ə ˈbjutəfəɫ ˈdʒəɹni, meɪk itʃ deɪ kaʊnt.\n",
      " length:48\n",
      " length:48\n",
      "Cloned Voice Generated!\n"
     ]
    },
    {
     "name": "stderr",
     "output_type": "stream",
     "text": [
      "/opt/anaconda3/envs/openvoice/lib/python3.9/site-packages/torch/nn/utils/weight_norm.py:28: UserWarning: torch.nn.utils.weight_norm is deprecated in favor of torch.nn.utils.parametrizations.weight_norm.\n",
      "  warnings.warn(\"torch.nn.utils.weight_norm is deprecated in favor of torch.nn.utils.parametrizations.weight_norm.\")\n"
     ]
    },
    {
     "name": "stdout",
     "output_type": "stream",
     "text": [
      "Loaded checkpoint 'checkpoints/base_speakers/EN/checkpoint.pth'\n",
      "missing/unexpected keys: [] []\n",
      "Loaded checkpoint 'checkpoints/converter/checkpoint.pth'\n",
      "missing/unexpected keys: [] []\n",
      "OpenVoice version: v1\n",
      "[(0.174, 10.6453125)]\n",
      "after vad: dur = 10.471\n",
      " > Text splitted to sentences.\n",
      "Life is a beautiful journey, make each day count.\n",
      " > ===========================\n",
      "laɪf ɪz ə ˈbjutəfəɫ ˈdʒəɹni, meɪk itʃ deɪ kaʊnt.\n",
      " length:48\n",
      " length:48\n",
      "Cloned Voice Generated!\n"
     ]
    },
    {
     "name": "stderr",
     "output_type": "stream",
     "text": [
      "/opt/anaconda3/envs/openvoice/lib/python3.9/site-packages/torch/nn/utils/weight_norm.py:28: UserWarning: torch.nn.utils.weight_norm is deprecated in favor of torch.nn.utils.parametrizations.weight_norm.\n",
      "  warnings.warn(\"torch.nn.utils.weight_norm is deprecated in favor of torch.nn.utils.parametrizations.weight_norm.\")\n"
     ]
    },
    {
     "name": "stdout",
     "output_type": "stream",
     "text": [
      "Loaded checkpoint 'checkpoints/base_speakers/EN/checkpoint.pth'\n",
      "missing/unexpected keys: [] []\n",
      "Loaded checkpoint 'checkpoints/converter/checkpoint.pth'\n",
      "missing/unexpected keys: [] []\n",
      "OpenVoice version: v1\n",
      "[(0.174, 10.6453125)]\n",
      "after vad: dur = 10.471\n",
      " > Text splitted to sentences.\n",
      "Life is a beautiful journey, make each day count.\n",
      " > ===========================\n",
      "laɪf ɪz ə ˈbjutəfəɫ ˈdʒəɹni, meɪk itʃ deɪ kaʊnt.\n",
      " length:48\n",
      " length:48\n",
      "Cloned Voice Generated!\n"
     ]
    },
    {
     "name": "stderr",
     "output_type": "stream",
     "text": [
      "/opt/anaconda3/envs/openvoice/lib/python3.9/site-packages/torch/nn/utils/weight_norm.py:28: UserWarning: torch.nn.utils.weight_norm is deprecated in favor of torch.nn.utils.parametrizations.weight_norm.\n",
      "  warnings.warn(\"torch.nn.utils.weight_norm is deprecated in favor of torch.nn.utils.parametrizations.weight_norm.\")\n"
     ]
    },
    {
     "name": "stdout",
     "output_type": "stream",
     "text": [
      "Loaded checkpoint 'checkpoints/base_speakers/EN/checkpoint.pth'\n",
      "missing/unexpected keys: [] []\n",
      "Loaded checkpoint 'checkpoints/converter/checkpoint.pth'\n",
      "missing/unexpected keys: [] []\n",
      "OpenVoice version: v1\n",
      "[(0.174, 10.6453125)]\n",
      "after vad: dur = 10.471\n",
      " > Text splitted to sentences.\n",
      "Life is a beautiful journey, make each day count.\n",
      " > ===========================\n",
      "laɪf ɪz ə ˈbjutəfəɫ ˈdʒəɹni, meɪk itʃ deɪ kaʊnt.\n",
      " length:48\n",
      " length:48\n",
      "Cloned Voice Generated!\n"
     ]
    },
    {
     "name": "stderr",
     "output_type": "stream",
     "text": [
      "/opt/anaconda3/envs/openvoice/lib/python3.9/site-packages/torch/nn/utils/weight_norm.py:28: UserWarning: torch.nn.utils.weight_norm is deprecated in favor of torch.nn.utils.parametrizations.weight_norm.\n",
      "  warnings.warn(\"torch.nn.utils.weight_norm is deprecated in favor of torch.nn.utils.parametrizations.weight_norm.\")\n"
     ]
    },
    {
     "name": "stdout",
     "output_type": "stream",
     "text": [
      "Loaded checkpoint 'checkpoints/base_speakers/EN/checkpoint.pth'\n",
      "missing/unexpected keys: [] []\n",
      "Loaded checkpoint 'checkpoints/converter/checkpoint.pth'\n",
      "missing/unexpected keys: [] []\n",
      "OpenVoice version: v1\n",
      "[(0.174, 10.6453125)]\n",
      "after vad: dur = 10.471\n",
      " > Text splitted to sentences.\n",
      "Life is a beautiful journey, make each day count.\n",
      " > ===========================\n",
      "laɪf ɪz ə ˈbjutəfəɫ ˈdʒəɹni, meɪk itʃ deɪ kaʊnt.\n",
      " length:48\n",
      " length:48\n",
      "Cloned Voice Generated!\n"
     ]
    },
    {
     "name": "stderr",
     "output_type": "stream",
     "text": [
      "/opt/anaconda3/envs/openvoice/lib/python3.9/site-packages/torch/nn/utils/weight_norm.py:28: UserWarning: torch.nn.utils.weight_norm is deprecated in favor of torch.nn.utils.parametrizations.weight_norm.\n",
      "  warnings.warn(\"torch.nn.utils.weight_norm is deprecated in favor of torch.nn.utils.parametrizations.weight_norm.\")\n"
     ]
    },
    {
     "name": "stdout",
     "output_type": "stream",
     "text": [
      "Loaded checkpoint 'checkpoints/base_speakers/EN/checkpoint.pth'\n",
      "missing/unexpected keys: [] []\n",
      "Loaded checkpoint 'checkpoints/converter/checkpoint.pth'\n",
      "missing/unexpected keys: [] []\n",
      "OpenVoice version: v1\n",
      "[(0.174, 10.6453125)]\n",
      "after vad: dur = 10.471\n",
      " > Text splitted to sentences.\n",
      "In the end, it's not the years in your life that count.\n",
      "It's the life in your years. - Abraham Lincoln\n",
      " > ===========================\n",
      "ɪn ðə ɛnd, ɪts nɑt ðə jɪɹz ɪn jʊɹ laɪf ðət kaʊnt.\n",
      " length:49\n",
      " length:49\n",
      "ɪts ðə laɪf ɪn jʊɹ jɪɹz. ˈeɪbɹəˌhæm ˈlɪŋkən.\n",
      " length:44\n",
      " length:44\n",
      "Cloned Voice Generated!\n"
     ]
    },
    {
     "name": "stderr",
     "output_type": "stream",
     "text": [
      "/opt/anaconda3/envs/openvoice/lib/python3.9/site-packages/torch/nn/utils/weight_norm.py:28: UserWarning: torch.nn.utils.weight_norm is deprecated in favor of torch.nn.utils.parametrizations.weight_norm.\n",
      "  warnings.warn(\"torch.nn.utils.weight_norm is deprecated in favor of torch.nn.utils.parametrizations.weight_norm.\")\n"
     ]
    },
    {
     "name": "stdout",
     "output_type": "stream",
     "text": [
      "Loaded checkpoint 'checkpoints/base_speakers/EN/checkpoint.pth'\n",
      "missing/unexpected keys: [] []\n",
      "Loaded checkpoint 'checkpoints/converter/checkpoint.pth'\n",
      "missing/unexpected keys: [] []\n",
      "OpenVoice version: v1\n",
      "[(0.174, 10.6453125)]\n",
      "after vad: dur = 10.471\n",
      " > Text splitted to sentences.\n",
      "In the end, it's not the years in your life that count.\n",
      "It's the life in your years. - Abraham Lincoln\n",
      " > ===========================\n",
      "ɪn ðə ɛnd, ɪts nɑt ðə jɪɹz ɪn jʊɹ laɪf ðət kaʊnt.\n",
      " length:49\n",
      " length:49\n",
      "ɪts ðə laɪf ɪn jʊɹ jɪɹz. ˈeɪbɹəˌhæm ˈlɪŋkən.\n",
      " length:44\n",
      " length:44\n",
      "Cloned Voice Generated!\n"
     ]
    },
    {
     "name": "stderr",
     "output_type": "stream",
     "text": [
      "/opt/anaconda3/envs/openvoice/lib/python3.9/site-packages/torch/nn/utils/weight_norm.py:28: UserWarning: torch.nn.utils.weight_norm is deprecated in favor of torch.nn.utils.parametrizations.weight_norm.\n",
      "  warnings.warn(\"torch.nn.utils.weight_norm is deprecated in favor of torch.nn.utils.parametrizations.weight_norm.\")\n"
     ]
    },
    {
     "name": "stdout",
     "output_type": "stream",
     "text": [
      "Loaded checkpoint 'checkpoints/base_speakers/EN/checkpoint.pth'\n",
      "missing/unexpected keys: [] []\n",
      "Loaded checkpoint 'checkpoints/converter/checkpoint.pth'\n",
      "missing/unexpected keys: [] []\n",
      "OpenVoice version: v1\n",
      "[(0.174, 10.6453125)]\n",
      "after vad: dur = 10.471\n",
      " > Text splitted to sentences.\n",
      "In the end, it's not the years in your life that count.\n",
      "It's the life in your years. - Abraham Lincoln\n",
      " > ===========================\n",
      "ɪn ðə ɛnd, ɪts nɑt ðə jɪɹz ɪn jʊɹ laɪf ðət kaʊnt.\n",
      " length:49\n",
      " length:49\n",
      "ɪts ðə laɪf ɪn jʊɹ jɪɹz. ˈeɪbɹəˌhæm ˈlɪŋkən.\n",
      " length:44\n",
      " length:44\n",
      "Cloned Voice Generated!\n"
     ]
    },
    {
     "name": "stderr",
     "output_type": "stream",
     "text": [
      "/opt/anaconda3/envs/openvoice/lib/python3.9/site-packages/torch/nn/utils/weight_norm.py:28: UserWarning: torch.nn.utils.weight_norm is deprecated in favor of torch.nn.utils.parametrizations.weight_norm.\n",
      "  warnings.warn(\"torch.nn.utils.weight_norm is deprecated in favor of torch.nn.utils.parametrizations.weight_norm.\")\n"
     ]
    },
    {
     "name": "stdout",
     "output_type": "stream",
     "text": [
      "Loaded checkpoint 'checkpoints/base_speakers/EN/checkpoint.pth'\n",
      "missing/unexpected keys: [] []\n",
      "Loaded checkpoint 'checkpoints/converter/checkpoint.pth'\n",
      "missing/unexpected keys: [] []\n",
      "OpenVoice version: v1\n",
      "[(0.174, 10.6453125)]\n",
      "after vad: dur = 10.471\n",
      " > Text splitted to sentences.\n",
      "In the end, it's not the years in your life that count.\n",
      "It's the life in your years. - Abraham Lincoln\n",
      " > ===========================\n",
      "ɪn ðə ɛnd, ɪts nɑt ðə jɪɹz ɪn jʊɹ laɪf ðət kaʊnt.\n",
      " length:49\n",
      " length:49\n",
      "ɪts ðə laɪf ɪn jʊɹ jɪɹz. ˈeɪbɹəˌhæm ˈlɪŋkən.\n",
      " length:44\n",
      " length:44\n",
      "Cloned Voice Generated!\n"
     ]
    },
    {
     "name": "stderr",
     "output_type": "stream",
     "text": [
      "/opt/anaconda3/envs/openvoice/lib/python3.9/site-packages/torch/nn/utils/weight_norm.py:28: UserWarning: torch.nn.utils.weight_norm is deprecated in favor of torch.nn.utils.parametrizations.weight_norm.\n",
      "  warnings.warn(\"torch.nn.utils.weight_norm is deprecated in favor of torch.nn.utils.parametrizations.weight_norm.\")\n"
     ]
    },
    {
     "name": "stdout",
     "output_type": "stream",
     "text": [
      "Loaded checkpoint 'checkpoints/base_speakers/EN/checkpoint.pth'\n",
      "missing/unexpected keys: [] []\n",
      "Loaded checkpoint 'checkpoints/converter/checkpoint.pth'\n",
      "missing/unexpected keys: [] []\n",
      "OpenVoice version: v1\n",
      "[(0.174, 10.6453125)]\n",
      "after vad: dur = 10.471\n",
      " > Text splitted to sentences.\n",
      "In the end, it's not the years in your life that count.\n",
      "It's the life in your years. - Abraham Lincoln\n",
      " > ===========================\n",
      "ɪn ðə ɛnd, ɪts nɑt ðə jɪɹz ɪn jʊɹ laɪf ðət kaʊnt.\n",
      " length:49\n",
      " length:49\n",
      "ɪts ðə laɪf ɪn jʊɹ jɪɹz. ˈeɪbɹəˌhæm ˈlɪŋkən.\n",
      " length:44\n",
      " length:44\n",
      "Cloned Voice Generated!\n"
     ]
    },
    {
     "name": "stderr",
     "output_type": "stream",
     "text": [
      "/opt/anaconda3/envs/openvoice/lib/python3.9/site-packages/torch/nn/utils/weight_norm.py:28: UserWarning: torch.nn.utils.weight_norm is deprecated in favor of torch.nn.utils.parametrizations.weight_norm.\n",
      "  warnings.warn(\"torch.nn.utils.weight_norm is deprecated in favor of torch.nn.utils.parametrizations.weight_norm.\")\n"
     ]
    },
    {
     "name": "stdout",
     "output_type": "stream",
     "text": [
      "Loaded checkpoint 'checkpoints/base_speakers/EN/checkpoint.pth'\n",
      "missing/unexpected keys: [] []\n",
      "Loaded checkpoint 'checkpoints/converter/checkpoint.pth'\n",
      "missing/unexpected keys: [] []\n",
      "OpenVoice version: v1\n",
      "[(0.174, 10.6453125)]\n",
      "after vad: dur = 10.471\n",
      " > Text splitted to sentences.\n",
      "The quick brown fox jumps over the lazy dog, and the clever red squirrel gathers acorns for the winter.\n",
      "Meanwhile, the majestic eagle soars high above the treetops, surveying the vast landscape below.\n",
      "In the distance, a herd of graceful deer graze peacefully in the lush green meadow,\n",
      "as a babbling brook winds its way through the tranquil forest.\n",
      " > ===========================\n",
      "ðə kwɪk bɹaʊn fɑks dʒəmps ˈoʊvəɹ ðə ˈleɪzi dɔg, ənd ðə ˈklɛvəɹ ɹɛd skwəɹəɫ ˈgæðəɹz ˈeɪkɔɹnz fəɹ ðə ˈwɪntəɹ.\n",
      " length:107\n",
      " length:107\n",
      "ˈminˌwaɪɫ, ðə məˈdʒɛstɪk ˈigəɫ sɔɹz haɪ əˈbəv ðə ˈtɹiˌtɔps, ˈsəɹˌveɪɪŋ ðə væst ˈlænˌskeɪp bɪˈloʊ.\n",
      " length:97\n",
      " length:97\n",
      "ɪn ðə ˈdɪstəns, ə həɹd əv ˈgɹeɪsfəɫ dɪɹ gɹeɪz ˈpisfəli ɪn ðə ləʃ gɹin ˈmɛˌdoʊ,\n",
      " length:78\n",
      " length:78\n",
      "ɛz ə ˈbæbəlɪŋ bɹʊk wɪndz ɪts weɪ θɹu ðə ˈtɹæŋkwɪɫ ˈfɔɹɪst.\n",
      " length:58\n",
      " length:58\n",
      "Cloned Voice Generated!\n"
     ]
    },
    {
     "name": "stderr",
     "output_type": "stream",
     "text": [
      "/opt/anaconda3/envs/openvoice/lib/python3.9/site-packages/torch/nn/utils/weight_norm.py:28: UserWarning: torch.nn.utils.weight_norm is deprecated in favor of torch.nn.utils.parametrizations.weight_norm.\n",
      "  warnings.warn(\"torch.nn.utils.weight_norm is deprecated in favor of torch.nn.utils.parametrizations.weight_norm.\")\n"
     ]
    },
    {
     "name": "stdout",
     "output_type": "stream",
     "text": [
      "Loaded checkpoint 'checkpoints/base_speakers/EN/checkpoint.pth'\n",
      "missing/unexpected keys: [] []\n",
      "Loaded checkpoint 'checkpoints/converter/checkpoint.pth'\n",
      "missing/unexpected keys: [] []\n",
      "OpenVoice version: v1\n",
      "[(0.174, 10.6453125)]\n",
      "after vad: dur = 10.471\n",
      " > Text splitted to sentences.\n",
      "The quick brown fox jumps over the lazy dog, and the clever red squirrel gathers acorns for the winter.\n",
      "Meanwhile, the majestic eagle soars high above the treetops, surveying the vast landscape below.\n",
      "In the distance, a herd of graceful deer graze peacefully in the lush green meadow,\n",
      "as a babbling brook winds its way through the tranquil forest.\n",
      " > ===========================\n",
      "ðə kwɪk bɹaʊn fɑks dʒəmps ˈoʊvəɹ ðə ˈleɪzi dɔg, ənd ðə ˈklɛvəɹ ɹɛd skwəɹəɫ ˈgæðəɹz ˈeɪkɔɹnz fəɹ ðə ˈwɪntəɹ.\n",
      " length:107\n",
      " length:107\n",
      "ˈminˌwaɪɫ, ðə məˈdʒɛstɪk ˈigəɫ sɔɹz haɪ əˈbəv ðə ˈtɹiˌtɔps, ˈsəɹˌveɪɪŋ ðə væst ˈlænˌskeɪp bɪˈloʊ.\n",
      " length:97\n",
      " length:97\n",
      "ɪn ðə ˈdɪstəns, ə həɹd əv ˈgɹeɪsfəɫ dɪɹ gɹeɪz ˈpisfəli ɪn ðə ləʃ gɹin ˈmɛˌdoʊ,\n",
      " length:78\n",
      " length:78\n",
      "ɛz ə ˈbæbəlɪŋ bɹʊk wɪndz ɪts weɪ θɹu ðə ˈtɹæŋkwɪɫ ˈfɔɹɪst.\n",
      " length:58\n",
      " length:58\n",
      "Cloned Voice Generated!\n"
     ]
    },
    {
     "name": "stderr",
     "output_type": "stream",
     "text": [
      "/opt/anaconda3/envs/openvoice/lib/python3.9/site-packages/torch/nn/utils/weight_norm.py:28: UserWarning: torch.nn.utils.weight_norm is deprecated in favor of torch.nn.utils.parametrizations.weight_norm.\n",
      "  warnings.warn(\"torch.nn.utils.weight_norm is deprecated in favor of torch.nn.utils.parametrizations.weight_norm.\")\n"
     ]
    },
    {
     "name": "stdout",
     "output_type": "stream",
     "text": [
      "Loaded checkpoint 'checkpoints/base_speakers/EN/checkpoint.pth'\n",
      "missing/unexpected keys: [] []\n",
      "Loaded checkpoint 'checkpoints/converter/checkpoint.pth'\n",
      "missing/unexpected keys: [] []\n",
      "OpenVoice version: v1\n",
      "[(0.174, 10.6453125)]\n",
      "after vad: dur = 10.471\n",
      " > Text splitted to sentences.\n",
      "The quick brown fox jumps over the lazy dog, and the clever red squirrel gathers acorns for the winter.\n",
      "Meanwhile, the majestic eagle soars high above the treetops, surveying the vast landscape below.\n",
      "In the distance, a herd of graceful deer graze peacefully in the lush green meadow,\n",
      "as a babbling brook winds its way through the tranquil forest.\n",
      " > ===========================\n",
      "ðə kwɪk bɹaʊn fɑks dʒəmps ˈoʊvəɹ ðə ˈleɪzi dɔg, ənd ðə ˈklɛvəɹ ɹɛd skwəɹəɫ ˈgæðəɹz ˈeɪkɔɹnz fəɹ ðə ˈwɪntəɹ.\n",
      " length:107\n",
      " length:107\n",
      "ˈminˌwaɪɫ, ðə məˈdʒɛstɪk ˈigəɫ sɔɹz haɪ əˈbəv ðə ˈtɹiˌtɔps, ˈsəɹˌveɪɪŋ ðə væst ˈlænˌskeɪp bɪˈloʊ.\n",
      " length:97\n",
      " length:97\n",
      "ɪn ðə ˈdɪstəns, ə həɹd əv ˈgɹeɪsfəɫ dɪɹ gɹeɪz ˈpisfəli ɪn ðə ləʃ gɹin ˈmɛˌdoʊ,\n",
      " length:78\n",
      " length:78\n",
      "ɛz ə ˈbæbəlɪŋ bɹʊk wɪndz ɪts weɪ θɹu ðə ˈtɹæŋkwɪɫ ˈfɔɹɪst.\n",
      " length:58\n",
      " length:58\n",
      "Cloned Voice Generated!\n"
     ]
    },
    {
     "name": "stderr",
     "output_type": "stream",
     "text": [
      "/opt/anaconda3/envs/openvoice/lib/python3.9/site-packages/torch/nn/utils/weight_norm.py:28: UserWarning: torch.nn.utils.weight_norm is deprecated in favor of torch.nn.utils.parametrizations.weight_norm.\n",
      "  warnings.warn(\"torch.nn.utils.weight_norm is deprecated in favor of torch.nn.utils.parametrizations.weight_norm.\")\n"
     ]
    },
    {
     "name": "stdout",
     "output_type": "stream",
     "text": [
      "Loaded checkpoint 'checkpoints/base_speakers/EN/checkpoint.pth'\n",
      "missing/unexpected keys: [] []\n",
      "Loaded checkpoint 'checkpoints/converter/checkpoint.pth'\n",
      "missing/unexpected keys: [] []\n",
      "OpenVoice version: v1\n",
      "[(0.174, 10.6453125)]\n",
      "after vad: dur = 10.471\n",
      " > Text splitted to sentences.\n",
      "The quick brown fox jumps over the lazy dog, and the clever red squirrel gathers acorns for the winter.\n",
      "Meanwhile, the majestic eagle soars high above the treetops, surveying the vast landscape below.\n",
      "In the distance, a herd of graceful deer graze peacefully in the lush green meadow,\n",
      "as a babbling brook winds its way through the tranquil forest.\n",
      " > ===========================\n",
      "ðə kwɪk bɹaʊn fɑks dʒəmps ˈoʊvəɹ ðə ˈleɪzi dɔg, ənd ðə ˈklɛvəɹ ɹɛd skwəɹəɫ ˈgæðəɹz ˈeɪkɔɹnz fəɹ ðə ˈwɪntəɹ.\n",
      " length:107\n",
      " length:107\n",
      "ˈminˌwaɪɫ, ðə məˈdʒɛstɪk ˈigəɫ sɔɹz haɪ əˈbəv ðə ˈtɹiˌtɔps, ˈsəɹˌveɪɪŋ ðə væst ˈlænˌskeɪp bɪˈloʊ.\n",
      " length:97\n",
      " length:97\n",
      "ɪn ðə ˈdɪstəns, ə həɹd əv ˈgɹeɪsfəɫ dɪɹ gɹeɪz ˈpisfəli ɪn ðə ləʃ gɹin ˈmɛˌdoʊ,\n",
      " length:78\n",
      " length:78\n",
      "ɛz ə ˈbæbəlɪŋ bɹʊk wɪndz ɪts weɪ θɹu ðə ˈtɹæŋkwɪɫ ˈfɔɹɪst.\n",
      " length:58\n",
      " length:58\n",
      "Cloned Voice Generated!\n"
     ]
    },
    {
     "name": "stderr",
     "output_type": "stream",
     "text": [
      "/opt/anaconda3/envs/openvoice/lib/python3.9/site-packages/torch/nn/utils/weight_norm.py:28: UserWarning: torch.nn.utils.weight_norm is deprecated in favor of torch.nn.utils.parametrizations.weight_norm.\n",
      "  warnings.warn(\"torch.nn.utils.weight_norm is deprecated in favor of torch.nn.utils.parametrizations.weight_norm.\")\n"
     ]
    },
    {
     "name": "stdout",
     "output_type": "stream",
     "text": [
      "Loaded checkpoint 'checkpoints/base_speakers/EN/checkpoint.pth'\n",
      "missing/unexpected keys: [] []\n",
      "Loaded checkpoint 'checkpoints/converter/checkpoint.pth'\n",
      "missing/unexpected keys: [] []\n",
      "OpenVoice version: v1\n",
      "[(0.174, 10.6453125)]\n",
      "after vad: dur = 10.471\n",
      " > Text splitted to sentences.\n",
      "The quick brown fox jumps over the lazy dog, and the clever red squirrel gathers acorns for the winter.\n",
      "Meanwhile, the majestic eagle soars high above the treetops, surveying the vast landscape below.\n",
      "In the distance, a herd of graceful deer graze peacefully in the lush green meadow,\n",
      "as a babbling brook winds its way through the tranquil forest.\n",
      " > ===========================\n",
      "ðə kwɪk bɹaʊn fɑks dʒəmps ˈoʊvəɹ ðə ˈleɪzi dɔg, ənd ðə ˈklɛvəɹ ɹɛd skwəɹəɫ ˈgæðəɹz ˈeɪkɔɹnz fəɹ ðə ˈwɪntəɹ.\n",
      " length:107\n",
      " length:107\n",
      "ˈminˌwaɪɫ, ðə məˈdʒɛstɪk ˈigəɫ sɔɹz haɪ əˈbəv ðə ˈtɹiˌtɔps, ˈsəɹˌveɪɪŋ ðə væst ˈlænˌskeɪp bɪˈloʊ.\n",
      " length:97\n",
      " length:97\n",
      "ɪn ðə ˈdɪstəns, ə həɹd əv ˈgɹeɪsfəɫ dɪɹ gɹeɪz ˈpisfəli ɪn ðə ləʃ gɹin ˈmɛˌdoʊ,\n",
      " length:78\n",
      " length:78\n",
      "ɛz ə ˈbæbəlɪŋ bɹʊk wɪndz ɪts weɪ θɹu ðə ˈtɹæŋkwɪɫ ˈfɔɹɪst.\n",
      " length:58\n",
      " length:58\n",
      "Cloned Voice Generated!\n"
     ]
    },
    {
     "name": "stderr",
     "output_type": "stream",
     "text": [
      "/opt/anaconda3/envs/openvoice/lib/python3.9/site-packages/torch/nn/utils/weight_norm.py:28: UserWarning: torch.nn.utils.weight_norm is deprecated in favor of torch.nn.utils.parametrizations.weight_norm.\n",
      "  warnings.warn(\"torch.nn.utils.weight_norm is deprecated in favor of torch.nn.utils.parametrizations.weight_norm.\")\n"
     ]
    },
    {
     "name": "stdout",
     "output_type": "stream",
     "text": [
      "Loaded checkpoint 'checkpoints/base_speakers/EN/checkpoint.pth'\n",
      "missing/unexpected keys: [] []\n",
      "Loaded checkpoint 'checkpoints/converter/checkpoint.pth'\n",
      "missing/unexpected keys: [] []\n",
      "OpenVoice version: v1\n",
      "[(0.174, 10.6453125)]\n",
      "after vad: dur = 10.471\n",
      " > Text splitted to sentences.\n",
      "We all have two lives. The second one starts when we realize we only have one.\n",
      "It's never too late to become the person you've always wanted to be.\n",
      "Embrace change, take chances, and never stop learning. Life is too short to waste time on things that don't matter.\n",
      "Surround yourself with people who lift you up, and cherish the moments you have with them.\n",
      "Remember, happiness is a choice, not a destination. Wake up each day with a grateful heart and a determination to make a difference,\n",
      "no matter how small. Your story is unique, and it's up to you to make it a great one.\n",
      " > ===========================\n",
      "wi ɔɫ hæv tu lɪvz. ðə ˈsɛkənd wən stɑɹts wɪn wi ˈɹiəˌlaɪz wi ˈoʊnli hæv wən.\n",
      " length:76\n",
      " length:76\n",
      "ɪts ˈnɛvəɹ tu leɪt tɪ bɪˈkəm ðə ˈpəɹsən juv ˈɔlˌweɪz ˈwɔntɪd tɪ bi.\n",
      " length:67\n",
      " length:67\n",
      "ɪmˈbɹeɪs tʃeɪndʒ, teɪk ˈtʃænsɪz, ənd ˈnɛvəɹ stɑp ˈləɹnɪŋ. laɪf ɪz tu ʃɔɹt tɪ weɪst taɪm ɔn θɪŋz ðət doʊnt ˈmætəɹ.\n",
      " length:113\n",
      " length:113\n",
      "səɹaʊnd ˈjɔɹsɛɫf wɪθ ˈpipəɫ hu lɪft ju əp, ənd ˈtʃɛɹɪʃ ðə ˈmoʊmənts ju hæv wɪθ ðɛm.\n",
      " length:83\n",
      " length:83\n",
      "ɹɪˈmɛmbəɹ, ˈhæpinəs ɪz ə tʃɔɪs, nɑt ə ˌdɛstɪˈneɪʃən. weɪk əp itʃ deɪ wɪθ ə ˈgɹeɪtfəɫ hɑɹt ənd ə dɪˌtəɹməˈneɪʃən tɪ meɪk ə ˈdɪfəɹəns,\n",
      " length:132\n",
      " length:132\n",
      "noʊ ˈmætəɹ haʊ smɔɫ. jʊɹ ˈstɔɹi ɪz juˈnik, ənd ɪts əp tɪ ju tɪ meɪk ɪt ə gɹeɪt wən.\n",
      " length:83\n",
      " length:83\n",
      "Cloned Voice Generated!\n"
     ]
    },
    {
     "name": "stderr",
     "output_type": "stream",
     "text": [
      "/opt/anaconda3/envs/openvoice/lib/python3.9/site-packages/torch/nn/utils/weight_norm.py:28: UserWarning: torch.nn.utils.weight_norm is deprecated in favor of torch.nn.utils.parametrizations.weight_norm.\n",
      "  warnings.warn(\"torch.nn.utils.weight_norm is deprecated in favor of torch.nn.utils.parametrizations.weight_norm.\")\n"
     ]
    },
    {
     "name": "stdout",
     "output_type": "stream",
     "text": [
      "Loaded checkpoint 'checkpoints/base_speakers/EN/checkpoint.pth'\n",
      "missing/unexpected keys: [] []\n",
      "Loaded checkpoint 'checkpoints/converter/checkpoint.pth'\n",
      "missing/unexpected keys: [] []\n",
      "OpenVoice version: v1\n",
      "[(0.174, 10.6453125)]\n",
      "after vad: dur = 10.471\n",
      " > Text splitted to sentences.\n",
      "We all have two lives. The second one starts when we realize we only have one.\n",
      "It's never too late to become the person you've always wanted to be.\n",
      "Embrace change, take chances, and never stop learning. Life is too short to waste time on things that don't matter.\n",
      "Surround yourself with people who lift you up, and cherish the moments you have with them.\n",
      "Remember, happiness is a choice, not a destination. Wake up each day with a grateful heart and a determination to make a difference,\n",
      "no matter how small. Your story is unique, and it's up to you to make it a great one.\n",
      " > ===========================\n",
      "wi ɔɫ hæv tu lɪvz. ðə ˈsɛkənd wən stɑɹts wɪn wi ˈɹiəˌlaɪz wi ˈoʊnli hæv wən.\n",
      " length:76\n",
      " length:76\n",
      "ɪts ˈnɛvəɹ tu leɪt tɪ bɪˈkəm ðə ˈpəɹsən juv ˈɔlˌweɪz ˈwɔntɪd tɪ bi.\n",
      " length:67\n",
      " length:67\n",
      "ɪmˈbɹeɪs tʃeɪndʒ, teɪk ˈtʃænsɪz, ənd ˈnɛvəɹ stɑp ˈləɹnɪŋ. laɪf ɪz tu ʃɔɹt tɪ weɪst taɪm ɔn θɪŋz ðət doʊnt ˈmætəɹ.\n",
      " length:113\n",
      " length:113\n",
      "səɹaʊnd ˈjɔɹsɛɫf wɪθ ˈpipəɫ hu lɪft ju əp, ənd ˈtʃɛɹɪʃ ðə ˈmoʊmənts ju hæv wɪθ ðɛm.\n",
      " length:83\n",
      " length:83\n",
      "ɹɪˈmɛmbəɹ, ˈhæpinəs ɪz ə tʃɔɪs, nɑt ə ˌdɛstɪˈneɪʃən. weɪk əp itʃ deɪ wɪθ ə ˈgɹeɪtfəɫ hɑɹt ənd ə dɪˌtəɹməˈneɪʃən tɪ meɪk ə ˈdɪfəɹəns,\n",
      " length:132\n",
      " length:132\n",
      "noʊ ˈmætəɹ haʊ smɔɫ. jʊɹ ˈstɔɹi ɪz juˈnik, ənd ɪts əp tɪ ju tɪ meɪk ɪt ə gɹeɪt wən.\n",
      " length:83\n",
      " length:83\n",
      "Cloned Voice Generated!\n"
     ]
    },
    {
     "name": "stderr",
     "output_type": "stream",
     "text": [
      "/opt/anaconda3/envs/openvoice/lib/python3.9/site-packages/torch/nn/utils/weight_norm.py:28: UserWarning: torch.nn.utils.weight_norm is deprecated in favor of torch.nn.utils.parametrizations.weight_norm.\n",
      "  warnings.warn(\"torch.nn.utils.weight_norm is deprecated in favor of torch.nn.utils.parametrizations.weight_norm.\")\n"
     ]
    },
    {
     "name": "stdout",
     "output_type": "stream",
     "text": [
      "Loaded checkpoint 'checkpoints/base_speakers/EN/checkpoint.pth'\n",
      "missing/unexpected keys: [] []\n",
      "Loaded checkpoint 'checkpoints/converter/checkpoint.pth'\n",
      "missing/unexpected keys: [] []\n",
      "OpenVoice version: v1\n",
      "[(0.174, 10.6453125)]\n",
      "after vad: dur = 10.471\n",
      " > Text splitted to sentences.\n",
      "We all have two lives. The second one starts when we realize we only have one.\n",
      "It's never too late to become the person you've always wanted to be.\n",
      "Embrace change, take chances, and never stop learning. Life is too short to waste time on things that don't matter.\n",
      "Surround yourself with people who lift you up, and cherish the moments you have with them.\n",
      "Remember, happiness is a choice, not a destination. Wake up each day with a grateful heart and a determination to make a difference,\n",
      "no matter how small. Your story is unique, and it's up to you to make it a great one.\n",
      " > ===========================\n",
      "wi ɔɫ hæv tu lɪvz. ðə ˈsɛkənd wən stɑɹts wɪn wi ˈɹiəˌlaɪz wi ˈoʊnli hæv wən.\n",
      " length:76\n",
      " length:76\n",
      "ɪts ˈnɛvəɹ tu leɪt tɪ bɪˈkəm ðə ˈpəɹsən juv ˈɔlˌweɪz ˈwɔntɪd tɪ bi.\n",
      " length:67\n",
      " length:67\n",
      "ɪmˈbɹeɪs tʃeɪndʒ, teɪk ˈtʃænsɪz, ənd ˈnɛvəɹ stɑp ˈləɹnɪŋ. laɪf ɪz tu ʃɔɹt tɪ weɪst taɪm ɔn θɪŋz ðət doʊnt ˈmætəɹ.\n",
      " length:113\n",
      " length:113\n",
      "səɹaʊnd ˈjɔɹsɛɫf wɪθ ˈpipəɫ hu lɪft ju əp, ənd ˈtʃɛɹɪʃ ðə ˈmoʊmənts ju hæv wɪθ ðɛm.\n",
      " length:83\n",
      " length:83\n",
      "ɹɪˈmɛmbəɹ, ˈhæpinəs ɪz ə tʃɔɪs, nɑt ə ˌdɛstɪˈneɪʃən. weɪk əp itʃ deɪ wɪθ ə ˈgɹeɪtfəɫ hɑɹt ənd ə dɪˌtəɹməˈneɪʃən tɪ meɪk ə ˈdɪfəɹəns,\n",
      " length:132\n",
      " length:132\n",
      "noʊ ˈmætəɹ haʊ smɔɫ. jʊɹ ˈstɔɹi ɪz juˈnik, ənd ɪts əp tɪ ju tɪ meɪk ɪt ə gɹeɪt wən.\n",
      " length:83\n",
      " length:83\n",
      "Cloned Voice Generated!\n"
     ]
    },
    {
     "name": "stderr",
     "output_type": "stream",
     "text": [
      "/opt/anaconda3/envs/openvoice/lib/python3.9/site-packages/torch/nn/utils/weight_norm.py:28: UserWarning: torch.nn.utils.weight_norm is deprecated in favor of torch.nn.utils.parametrizations.weight_norm.\n",
      "  warnings.warn(\"torch.nn.utils.weight_norm is deprecated in favor of torch.nn.utils.parametrizations.weight_norm.\")\n"
     ]
    },
    {
     "name": "stdout",
     "output_type": "stream",
     "text": [
      "Loaded checkpoint 'checkpoints/base_speakers/EN/checkpoint.pth'\n",
      "missing/unexpected keys: [] []\n",
      "Loaded checkpoint 'checkpoints/converter/checkpoint.pth'\n",
      "missing/unexpected keys: [] []\n",
      "OpenVoice version: v1\n",
      "[(0.174, 10.6453125)]\n",
      "after vad: dur = 10.471\n",
      " > Text splitted to sentences.\n",
      "We all have two lives. The second one starts when we realize we only have one.\n",
      "It's never too late to become the person you've always wanted to be.\n",
      "Embrace change, take chances, and never stop learning. Life is too short to waste time on things that don't matter.\n",
      "Surround yourself with people who lift you up, and cherish the moments you have with them.\n",
      "Remember, happiness is a choice, not a destination. Wake up each day with a grateful heart and a determination to make a difference,\n",
      "no matter how small. Your story is unique, and it's up to you to make it a great one.\n",
      " > ===========================\n",
      "wi ɔɫ hæv tu lɪvz. ðə ˈsɛkənd wən stɑɹts wɪn wi ˈɹiəˌlaɪz wi ˈoʊnli hæv wən.\n",
      " length:76\n",
      " length:76\n",
      "ɪts ˈnɛvəɹ tu leɪt tɪ bɪˈkəm ðə ˈpəɹsən juv ˈɔlˌweɪz ˈwɔntɪd tɪ bi.\n",
      " length:67\n",
      " length:67\n",
      "ɪmˈbɹeɪs tʃeɪndʒ, teɪk ˈtʃænsɪz, ənd ˈnɛvəɹ stɑp ˈləɹnɪŋ. laɪf ɪz tu ʃɔɹt tɪ weɪst taɪm ɔn θɪŋz ðət doʊnt ˈmætəɹ.\n",
      " length:113\n",
      " length:113\n",
      "səɹaʊnd ˈjɔɹsɛɫf wɪθ ˈpipəɫ hu lɪft ju əp, ənd ˈtʃɛɹɪʃ ðə ˈmoʊmənts ju hæv wɪθ ðɛm.\n",
      " length:83\n",
      " length:83\n",
      "ɹɪˈmɛmbəɹ, ˈhæpinəs ɪz ə tʃɔɪs, nɑt ə ˌdɛstɪˈneɪʃən. weɪk əp itʃ deɪ wɪθ ə ˈgɹeɪtfəɫ hɑɹt ənd ə dɪˌtəɹməˈneɪʃən tɪ meɪk ə ˈdɪfəɹəns,\n",
      " length:132\n",
      " length:132\n",
      "noʊ ˈmætəɹ haʊ smɔɫ. jʊɹ ˈstɔɹi ɪz juˈnik, ənd ɪts əp tɪ ju tɪ meɪk ɪt ə gɹeɪt wən.\n",
      " length:83\n",
      " length:83\n",
      "Cloned Voice Generated!\n"
     ]
    },
    {
     "name": "stderr",
     "output_type": "stream",
     "text": [
      "/opt/anaconda3/envs/openvoice/lib/python3.9/site-packages/torch/nn/utils/weight_norm.py:28: UserWarning: torch.nn.utils.weight_norm is deprecated in favor of torch.nn.utils.parametrizations.weight_norm.\n",
      "  warnings.warn(\"torch.nn.utils.weight_norm is deprecated in favor of torch.nn.utils.parametrizations.weight_norm.\")\n"
     ]
    },
    {
     "name": "stdout",
     "output_type": "stream",
     "text": [
      "Loaded checkpoint 'checkpoints/base_speakers/EN/checkpoint.pth'\n",
      "missing/unexpected keys: [] []\n",
      "Loaded checkpoint 'checkpoints/converter/checkpoint.pth'\n",
      "missing/unexpected keys: [] []\n",
      "OpenVoice version: v1\n",
      "[(0.174, 10.6453125)]\n",
      "after vad: dur = 10.471\n",
      " > Text splitted to sentences.\n",
      "We all have two lives. The second one starts when we realize we only have one.\n",
      "It's never too late to become the person you've always wanted to be.\n",
      "Embrace change, take chances, and never stop learning. Life is too short to waste time on things that don't matter.\n",
      "Surround yourself with people who lift you up, and cherish the moments you have with them.\n",
      "Remember, happiness is a choice, not a destination. Wake up each day with a grateful heart and a determination to make a difference,\n",
      "no matter how small. Your story is unique, and it's up to you to make it a great one.\n",
      " > ===========================\n",
      "wi ɔɫ hæv tu lɪvz. ðə ˈsɛkənd wən stɑɹts wɪn wi ˈɹiəˌlaɪz wi ˈoʊnli hæv wən.\n",
      " length:76\n",
      " length:76\n",
      "ɪts ˈnɛvəɹ tu leɪt tɪ bɪˈkəm ðə ˈpəɹsən juv ˈɔlˌweɪz ˈwɔntɪd tɪ bi.\n",
      " length:67\n",
      " length:67\n",
      "ɪmˈbɹeɪs tʃeɪndʒ, teɪk ˈtʃænsɪz, ənd ˈnɛvəɹ stɑp ˈləɹnɪŋ. laɪf ɪz tu ʃɔɹt tɪ weɪst taɪm ɔn θɪŋz ðət doʊnt ˈmætəɹ.\n",
      " length:113\n",
      " length:113\n",
      "səɹaʊnd ˈjɔɹsɛɫf wɪθ ˈpipəɫ hu lɪft ju əp, ənd ˈtʃɛɹɪʃ ðə ˈmoʊmənts ju hæv wɪθ ðɛm.\n",
      " length:83\n",
      " length:83\n",
      "ɹɪˈmɛmbəɹ, ˈhæpinəs ɪz ə tʃɔɪs, nɑt ə ˌdɛstɪˈneɪʃən. weɪk əp itʃ deɪ wɪθ ə ˈgɹeɪtfəɫ hɑɹt ənd ə dɪˌtəɹməˈneɪʃən tɪ meɪk ə ˈdɪfəɹəns,\n",
      " length:132\n",
      " length:132\n",
      "noʊ ˈmætəɹ haʊ smɔɫ. jʊɹ ˈstɔɹi ɪz juˈnik, ənd ɪts əp tɪ ju tɪ meɪk ɪt ə gɹeɪt wən.\n",
      " length:83\n",
      " length:83\n",
      "Cloned Voice Generated!\n"
     ]
    },
    {
     "name": "stderr",
     "output_type": "stream",
     "text": [
      "/opt/anaconda3/envs/openvoice/lib/python3.9/site-packages/torch/nn/utils/weight_norm.py:28: UserWarning: torch.nn.utils.weight_norm is deprecated in favor of torch.nn.utils.parametrizations.weight_norm.\n",
      "  warnings.warn(\"torch.nn.utils.weight_norm is deprecated in favor of torch.nn.utils.parametrizations.weight_norm.\")\n"
     ]
    },
    {
     "name": "stdout",
     "output_type": "stream",
     "text": [
      "Loaded checkpoint 'checkpoints/base_speakers/EN/checkpoint.pth'\n",
      "missing/unexpected keys: [] []\n",
      "Loaded checkpoint 'checkpoints/converter/checkpoint.pth'\n",
      "missing/unexpected keys: [] []\n",
      "OpenVoice version: v1\n",
      "[(0.174, 10.6453125)]\n",
      "after vad: dur = 10.471\n",
      " > Text splitted to sentences.\n",
      "The sun peeked through the curtains, casting a warm glow across the room.\n",
      "She stirred, her eyes fluttering open as she stretched her arms above her head.\n",
      "It was a new day, full of promise and possibility. She smiled,\n",
      "thinking of all the things she wanted to accomplish. First on the list was a visit to her favorite café,\n",
      "where she would sip on a creamy latte and watch the world go by.\n",
      "Then, she would head to the park for a leisurely stroll,\n",
      "taking in the beauty of nature and breathing in the fresh air.\n",
      "In the afternoon, she planned to curl up with a good book,\n",
      "losing herself in the pages of a captivating story. As the day drew to a close,\n",
      "she would meet up with friends for dinner and laughter, sharing stories and making memories.\n",
      "It was a simple plan, but one that filled her with joy and contentment.\n",
      " > ===========================\n",
      "ðə sən pikt θɹu ðə ˈkəɹtənz, ˈkæstɪŋ ə wɔɹm gloʊ əˈkɹɔs ðə ɹum.\n",
      " length:63\n",
      " length:63\n",
      "ʃi stəɹd, həɹ aɪz ˈflətəɹɪŋ ˈoʊpən ɛz ʃi stɹɛtʃt həɹ ɑɹmz əˈbəv həɹ hɛd.\n",
      " length:72\n",
      " length:72\n",
      "ɪt wɑz ə nu deɪ, fʊɫ əv ˈpɹɑməs ənd ˌpɑsəˈbɪləˌti. ʃi smaɪɫd,\n",
      " length:61\n",
      " length:61\n",
      "ˈθɪŋkɪŋ əv ɔɫ ðə θɪŋz ʃi ˈwɔntɪd tɪ əˈkɑmplɪʃ. fəɹst ɔn ðə lɪst wɑz ə ˈvɪzɪt tɪ həɹ ˈfeɪvəɹɪt kəˈfeɪ,\n",
      " length:101\n",
      " length:101\n",
      "wɛɹ ʃi wʊd sɪp ɔn ə ˈkɹimi ˈlɑˌteɪ ənd wɔtʃ ðə wəɹɫd goʊ baɪ.\n",
      " length:61\n",
      " length:61\n",
      "ðɛn, ʃi wʊd hɛd tɪ ðə pɑɹk fəɹ ə ˈlizəɹli stɹoʊɫ,\n",
      " length:49\n",
      " length:49\n",
      "ˈteɪkɪŋ ɪn ðə ˈbjuti əv ˈneɪtʃəɹ ənd ˈbɹiðɪŋ ɪn ðə fɹɛʃ ɛɹ.\n",
      " length:59\n",
      " length:59\n",
      "ɪn ðə ˌæftəɹˈnun, ʃi plænd tɪ kəɹɫ əp wɪθ ə gʊd bʊk,\n",
      " length:52\n",
      " length:52\n",
      "ˈluzɪŋ həɹˈsɛɫf ɪn ðə ˈpeɪdʒɪz əv ə ˈkæptɪˌveɪtɪŋ ˈstɔɹi. ɛz ðə deɪ dɹu tɪ ə kloʊz,\n",
      " length:83\n",
      " length:83\n",
      "ʃi wʊd mit əp wɪθ fɹɛndz fəɹ ˈdɪnəɹ ənd ˈlæftəɹ, ˈʃɛɹɪŋ ˈstɔɹiz ənd ˈmeɪkɪŋ ˈmɛməɹiz.\n",
      " length:85\n",
      " length:85\n",
      "ɪt wɑz ə ˈsɪmpəɫ plæn, bət wən ðət fɪɫd həɹ wɪθ dʒɔɪ ənd kənˈtɛntmənt.\n",
      " length:70\n",
      " length:70\n",
      "Cloned Voice Generated!\n"
     ]
    },
    {
     "name": "stderr",
     "output_type": "stream",
     "text": [
      "/opt/anaconda3/envs/openvoice/lib/python3.9/site-packages/torch/nn/utils/weight_norm.py:28: UserWarning: torch.nn.utils.weight_norm is deprecated in favor of torch.nn.utils.parametrizations.weight_norm.\n",
      "  warnings.warn(\"torch.nn.utils.weight_norm is deprecated in favor of torch.nn.utils.parametrizations.weight_norm.\")\n"
     ]
    },
    {
     "name": "stdout",
     "output_type": "stream",
     "text": [
      "Loaded checkpoint 'checkpoints/base_speakers/EN/checkpoint.pth'\n",
      "missing/unexpected keys: [] []\n",
      "Loaded checkpoint 'checkpoints/converter/checkpoint.pth'\n",
      "missing/unexpected keys: [] []\n",
      "OpenVoice version: v1\n",
      "[(0.174, 10.6453125)]\n",
      "after vad: dur = 10.471\n",
      " > Text splitted to sentences.\n",
      "The sun peeked through the curtains, casting a warm glow across the room.\n",
      "She stirred, her eyes fluttering open as she stretched her arms above her head.\n",
      "It was a new day, full of promise and possibility. She smiled,\n",
      "thinking of all the things she wanted to accomplish. First on the list was a visit to her favorite café,\n",
      "where she would sip on a creamy latte and watch the world go by.\n",
      "Then, she would head to the park for a leisurely stroll,\n",
      "taking in the beauty of nature and breathing in the fresh air.\n",
      "In the afternoon, she planned to curl up with a good book,\n",
      "losing herself in the pages of a captivating story. As the day drew to a close,\n",
      "she would meet up with friends for dinner and laughter, sharing stories and making memories.\n",
      "It was a simple plan, but one that filled her with joy and contentment.\n",
      " > ===========================\n",
      "ðə sən pikt θɹu ðə ˈkəɹtənz, ˈkæstɪŋ ə wɔɹm gloʊ əˈkɹɔs ðə ɹum.\n",
      " length:63\n",
      " length:63\n",
      "ʃi stəɹd, həɹ aɪz ˈflətəɹɪŋ ˈoʊpən ɛz ʃi stɹɛtʃt həɹ ɑɹmz əˈbəv həɹ hɛd.\n",
      " length:72\n",
      " length:72\n",
      "ɪt wɑz ə nu deɪ, fʊɫ əv ˈpɹɑməs ənd ˌpɑsəˈbɪləˌti. ʃi smaɪɫd,\n",
      " length:61\n",
      " length:61\n",
      "ˈθɪŋkɪŋ əv ɔɫ ðə θɪŋz ʃi ˈwɔntɪd tɪ əˈkɑmplɪʃ. fəɹst ɔn ðə lɪst wɑz ə ˈvɪzɪt tɪ həɹ ˈfeɪvəɹɪt kəˈfeɪ,\n",
      " length:101\n",
      " length:101\n",
      "wɛɹ ʃi wʊd sɪp ɔn ə ˈkɹimi ˈlɑˌteɪ ənd wɔtʃ ðə wəɹɫd goʊ baɪ.\n",
      " length:61\n",
      " length:61\n",
      "ðɛn, ʃi wʊd hɛd tɪ ðə pɑɹk fəɹ ə ˈlizəɹli stɹoʊɫ,\n",
      " length:49\n",
      " length:49\n",
      "ˈteɪkɪŋ ɪn ðə ˈbjuti əv ˈneɪtʃəɹ ənd ˈbɹiðɪŋ ɪn ðə fɹɛʃ ɛɹ.\n",
      " length:59\n",
      " length:59\n",
      "ɪn ðə ˌæftəɹˈnun, ʃi plænd tɪ kəɹɫ əp wɪθ ə gʊd bʊk,\n",
      " length:52\n",
      " length:52\n",
      "ˈluzɪŋ həɹˈsɛɫf ɪn ðə ˈpeɪdʒɪz əv ə ˈkæptɪˌveɪtɪŋ ˈstɔɹi. ɛz ðə deɪ dɹu tɪ ə kloʊz,\n",
      " length:83\n",
      " length:83\n",
      "ʃi wʊd mit əp wɪθ fɹɛndz fəɹ ˈdɪnəɹ ənd ˈlæftəɹ, ˈʃɛɹɪŋ ˈstɔɹiz ənd ˈmeɪkɪŋ ˈmɛməɹiz.\n",
      " length:85\n",
      " length:85\n",
      "ɪt wɑz ə ˈsɪmpəɫ plæn, bət wən ðət fɪɫd həɹ wɪθ dʒɔɪ ənd kənˈtɛntmənt.\n",
      " length:70\n",
      " length:70\n",
      "Cloned Voice Generated!\n"
     ]
    },
    {
     "name": "stderr",
     "output_type": "stream",
     "text": [
      "/opt/anaconda3/envs/openvoice/lib/python3.9/site-packages/torch/nn/utils/weight_norm.py:28: UserWarning: torch.nn.utils.weight_norm is deprecated in favor of torch.nn.utils.parametrizations.weight_norm.\n",
      "  warnings.warn(\"torch.nn.utils.weight_norm is deprecated in favor of torch.nn.utils.parametrizations.weight_norm.\")\n"
     ]
    },
    {
     "name": "stdout",
     "output_type": "stream",
     "text": [
      "Loaded checkpoint 'checkpoints/base_speakers/EN/checkpoint.pth'\n",
      "missing/unexpected keys: [] []\n",
      "Loaded checkpoint 'checkpoints/converter/checkpoint.pth'\n",
      "missing/unexpected keys: [] []\n",
      "OpenVoice version: v1\n",
      "[(0.174, 10.6453125)]\n",
      "after vad: dur = 10.471\n",
      " > Text splitted to sentences.\n",
      "The sun peeked through the curtains, casting a warm glow across the room.\n",
      "She stirred, her eyes fluttering open as she stretched her arms above her head.\n",
      "It was a new day, full of promise and possibility. She smiled,\n",
      "thinking of all the things she wanted to accomplish. First on the list was a visit to her favorite café,\n",
      "where she would sip on a creamy latte and watch the world go by.\n",
      "Then, she would head to the park for a leisurely stroll,\n",
      "taking in the beauty of nature and breathing in the fresh air.\n",
      "In the afternoon, she planned to curl up with a good book,\n",
      "losing herself in the pages of a captivating story. As the day drew to a close,\n",
      "she would meet up with friends for dinner and laughter, sharing stories and making memories.\n",
      "It was a simple plan, but one that filled her with joy and contentment.\n",
      " > ===========================\n",
      "ðə sən pikt θɹu ðə ˈkəɹtənz, ˈkæstɪŋ ə wɔɹm gloʊ əˈkɹɔs ðə ɹum.\n",
      " length:63\n",
      " length:63\n",
      "ʃi stəɹd, həɹ aɪz ˈflətəɹɪŋ ˈoʊpən ɛz ʃi stɹɛtʃt həɹ ɑɹmz əˈbəv həɹ hɛd.\n",
      " length:72\n",
      " length:72\n",
      "ɪt wɑz ə nu deɪ, fʊɫ əv ˈpɹɑməs ənd ˌpɑsəˈbɪləˌti. ʃi smaɪɫd,\n",
      " length:61\n",
      " length:61\n",
      "ˈθɪŋkɪŋ əv ɔɫ ðə θɪŋz ʃi ˈwɔntɪd tɪ əˈkɑmplɪʃ. fəɹst ɔn ðə lɪst wɑz ə ˈvɪzɪt tɪ həɹ ˈfeɪvəɹɪt kəˈfeɪ,\n",
      " length:101\n",
      " length:101\n",
      "wɛɹ ʃi wʊd sɪp ɔn ə ˈkɹimi ˈlɑˌteɪ ənd wɔtʃ ðə wəɹɫd goʊ baɪ.\n",
      " length:61\n",
      " length:61\n",
      "ðɛn, ʃi wʊd hɛd tɪ ðə pɑɹk fəɹ ə ˈlizəɹli stɹoʊɫ,\n",
      " length:49\n",
      " length:49\n",
      "ˈteɪkɪŋ ɪn ðə ˈbjuti əv ˈneɪtʃəɹ ənd ˈbɹiðɪŋ ɪn ðə fɹɛʃ ɛɹ.\n",
      " length:59\n",
      " length:59\n",
      "ɪn ðə ˌæftəɹˈnun, ʃi plænd tɪ kəɹɫ əp wɪθ ə gʊd bʊk,\n",
      " length:52\n",
      " length:52\n",
      "ˈluzɪŋ həɹˈsɛɫf ɪn ðə ˈpeɪdʒɪz əv ə ˈkæptɪˌveɪtɪŋ ˈstɔɹi. ɛz ðə deɪ dɹu tɪ ə kloʊz,\n",
      " length:83\n",
      " length:83\n",
      "ʃi wʊd mit əp wɪθ fɹɛndz fəɹ ˈdɪnəɹ ənd ˈlæftəɹ, ˈʃɛɹɪŋ ˈstɔɹiz ənd ˈmeɪkɪŋ ˈmɛməɹiz.\n",
      " length:85\n",
      " length:85\n",
      "ɪt wɑz ə ˈsɪmpəɫ plæn, bət wən ðət fɪɫd həɹ wɪθ dʒɔɪ ənd kənˈtɛntmənt.\n",
      " length:70\n",
      " length:70\n",
      "Cloned Voice Generated!\n"
     ]
    },
    {
     "name": "stderr",
     "output_type": "stream",
     "text": [
      "/opt/anaconda3/envs/openvoice/lib/python3.9/site-packages/torch/nn/utils/weight_norm.py:28: UserWarning: torch.nn.utils.weight_norm is deprecated in favor of torch.nn.utils.parametrizations.weight_norm.\n",
      "  warnings.warn(\"torch.nn.utils.weight_norm is deprecated in favor of torch.nn.utils.parametrizations.weight_norm.\")\n"
     ]
    },
    {
     "name": "stdout",
     "output_type": "stream",
     "text": [
      "Loaded checkpoint 'checkpoints/base_speakers/EN/checkpoint.pth'\n",
      "missing/unexpected keys: [] []\n",
      "Loaded checkpoint 'checkpoints/converter/checkpoint.pth'\n",
      "missing/unexpected keys: [] []\n",
      "OpenVoice version: v1\n",
      "[(0.174, 10.6453125)]\n",
      "after vad: dur = 10.471\n",
      " > Text splitted to sentences.\n",
      "The sun peeked through the curtains, casting a warm glow across the room.\n",
      "She stirred, her eyes fluttering open as she stretched her arms above her head.\n",
      "It was a new day, full of promise and possibility. She smiled,\n",
      "thinking of all the things she wanted to accomplish. First on the list was a visit to her favorite café,\n",
      "where she would sip on a creamy latte and watch the world go by.\n",
      "Then, she would head to the park for a leisurely stroll,\n",
      "taking in the beauty of nature and breathing in the fresh air.\n",
      "In the afternoon, she planned to curl up with a good book,\n",
      "losing herself in the pages of a captivating story. As the day drew to a close,\n",
      "she would meet up with friends for dinner and laughter, sharing stories and making memories.\n",
      "It was a simple plan, but one that filled her with joy and contentment.\n",
      " > ===========================\n",
      "ðə sən pikt θɹu ðə ˈkəɹtənz, ˈkæstɪŋ ə wɔɹm gloʊ əˈkɹɔs ðə ɹum.\n",
      " length:63\n",
      " length:63\n",
      "ʃi stəɹd, həɹ aɪz ˈflətəɹɪŋ ˈoʊpən ɛz ʃi stɹɛtʃt həɹ ɑɹmz əˈbəv həɹ hɛd.\n",
      " length:72\n",
      " length:72\n",
      "ɪt wɑz ə nu deɪ, fʊɫ əv ˈpɹɑməs ənd ˌpɑsəˈbɪləˌti. ʃi smaɪɫd,\n",
      " length:61\n",
      " length:61\n",
      "ˈθɪŋkɪŋ əv ɔɫ ðə θɪŋz ʃi ˈwɔntɪd tɪ əˈkɑmplɪʃ. fəɹst ɔn ðə lɪst wɑz ə ˈvɪzɪt tɪ həɹ ˈfeɪvəɹɪt kəˈfeɪ,\n",
      " length:101\n",
      " length:101\n",
      "wɛɹ ʃi wʊd sɪp ɔn ə ˈkɹimi ˈlɑˌteɪ ənd wɔtʃ ðə wəɹɫd goʊ baɪ.\n",
      " length:61\n",
      " length:61\n",
      "ðɛn, ʃi wʊd hɛd tɪ ðə pɑɹk fəɹ ə ˈlizəɹli stɹoʊɫ,\n",
      " length:49\n",
      " length:49\n",
      "ˈteɪkɪŋ ɪn ðə ˈbjuti əv ˈneɪtʃəɹ ənd ˈbɹiðɪŋ ɪn ðə fɹɛʃ ɛɹ.\n",
      " length:59\n",
      " length:59\n",
      "ɪn ðə ˌæftəɹˈnun, ʃi plænd tɪ kəɹɫ əp wɪθ ə gʊd bʊk,\n",
      " length:52\n",
      " length:52\n",
      "ˈluzɪŋ həɹˈsɛɫf ɪn ðə ˈpeɪdʒɪz əv ə ˈkæptɪˌveɪtɪŋ ˈstɔɹi. ɛz ðə deɪ dɹu tɪ ə kloʊz,\n",
      " length:83\n",
      " length:83\n",
      "ʃi wʊd mit əp wɪθ fɹɛndz fəɹ ˈdɪnəɹ ənd ˈlæftəɹ, ˈʃɛɹɪŋ ˈstɔɹiz ənd ˈmeɪkɪŋ ˈmɛməɹiz.\n",
      " length:85\n",
      " length:85\n",
      "ɪt wɑz ə ˈsɪmpəɫ plæn, bət wən ðət fɪɫd həɹ wɪθ dʒɔɪ ənd kənˈtɛntmənt.\n",
      " length:70\n",
      " length:70\n",
      "Cloned Voice Generated!\n"
     ]
    },
    {
     "name": "stderr",
     "output_type": "stream",
     "text": [
      "/opt/anaconda3/envs/openvoice/lib/python3.9/site-packages/torch/nn/utils/weight_norm.py:28: UserWarning: torch.nn.utils.weight_norm is deprecated in favor of torch.nn.utils.parametrizations.weight_norm.\n",
      "  warnings.warn(\"torch.nn.utils.weight_norm is deprecated in favor of torch.nn.utils.parametrizations.weight_norm.\")\n"
     ]
    },
    {
     "name": "stdout",
     "output_type": "stream",
     "text": [
      "Loaded checkpoint 'checkpoints/base_speakers/EN/checkpoint.pth'\n",
      "missing/unexpected keys: [] []\n",
      "Loaded checkpoint 'checkpoints/converter/checkpoint.pth'\n",
      "missing/unexpected keys: [] []\n",
      "OpenVoice version: v1\n",
      "[(0.174, 10.6453125)]\n",
      "after vad: dur = 10.471\n",
      " > Text splitted to sentences.\n",
      "The sun peeked through the curtains, casting a warm glow across the room.\n",
      "She stirred, her eyes fluttering open as she stretched her arms above her head.\n",
      "It was a new day, full of promise and possibility. She smiled,\n",
      "thinking of all the things she wanted to accomplish. First on the list was a visit to her favorite café,\n",
      "where she would sip on a creamy latte and watch the world go by.\n",
      "Then, she would head to the park for a leisurely stroll,\n",
      "taking in the beauty of nature and breathing in the fresh air.\n",
      "In the afternoon, she planned to curl up with a good book,\n",
      "losing herself in the pages of a captivating story. As the day drew to a close,\n",
      "she would meet up with friends for dinner and laughter, sharing stories and making memories.\n",
      "It was a simple plan, but one that filled her with joy and contentment.\n",
      " > ===========================\n",
      "ðə sən pikt θɹu ðə ˈkəɹtənz, ˈkæstɪŋ ə wɔɹm gloʊ əˈkɹɔs ðə ɹum.\n",
      " length:63\n",
      " length:63\n",
      "ʃi stəɹd, həɹ aɪz ˈflətəɹɪŋ ˈoʊpən ɛz ʃi stɹɛtʃt həɹ ɑɹmz əˈbəv həɹ hɛd.\n",
      " length:72\n",
      " length:72\n",
      "ɪt wɑz ə nu deɪ, fʊɫ əv ˈpɹɑməs ənd ˌpɑsəˈbɪləˌti. ʃi smaɪɫd,\n",
      " length:61\n",
      " length:61\n",
      "ˈθɪŋkɪŋ əv ɔɫ ðə θɪŋz ʃi ˈwɔntɪd tɪ əˈkɑmplɪʃ. fəɹst ɔn ðə lɪst wɑz ə ˈvɪzɪt tɪ həɹ ˈfeɪvəɹɪt kəˈfeɪ,\n",
      " length:101\n",
      " length:101\n",
      "wɛɹ ʃi wʊd sɪp ɔn ə ˈkɹimi ˈlɑˌteɪ ənd wɔtʃ ðə wəɹɫd goʊ baɪ.\n",
      " length:61\n",
      " length:61\n",
      "ðɛn, ʃi wʊd hɛd tɪ ðə pɑɹk fəɹ ə ˈlizəɹli stɹoʊɫ,\n",
      " length:49\n",
      " length:49\n",
      "ˈteɪkɪŋ ɪn ðə ˈbjuti əv ˈneɪtʃəɹ ənd ˈbɹiðɪŋ ɪn ðə fɹɛʃ ɛɹ.\n",
      " length:59\n",
      " length:59\n",
      "ɪn ðə ˌæftəɹˈnun, ʃi plænd tɪ kəɹɫ əp wɪθ ə gʊd bʊk,\n",
      " length:52\n",
      " length:52\n",
      "ˈluzɪŋ həɹˈsɛɫf ɪn ðə ˈpeɪdʒɪz əv ə ˈkæptɪˌveɪtɪŋ ˈstɔɹi. ɛz ðə deɪ dɹu tɪ ə kloʊz,\n",
      " length:83\n",
      " length:83\n",
      "ʃi wʊd mit əp wɪθ fɹɛndz fəɹ ˈdɪnəɹ ənd ˈlæftəɹ, ˈʃɛɹɪŋ ˈstɔɹiz ənd ˈmeɪkɪŋ ˈmɛməɹiz.\n",
      " length:85\n",
      " length:85\n",
      "ɪt wɑz ə ˈsɪmpəɫ plæn, bət wən ðət fɪɫd həɹ wɪθ dʒɔɪ ənd kənˈtɛntmənt.\n",
      " length:70\n",
      " length:70\n",
      "Cloned Voice Generated!\n"
     ]
    },
    {
     "name": "stderr",
     "output_type": "stream",
     "text": [
      "/opt/anaconda3/envs/openvoice/lib/python3.9/site-packages/torch/nn/utils/weight_norm.py:28: UserWarning: torch.nn.utils.weight_norm is deprecated in favor of torch.nn.utils.parametrizations.weight_norm.\n",
      "  warnings.warn(\"torch.nn.utils.weight_norm is deprecated in favor of torch.nn.utils.parametrizations.weight_norm.\")\n"
     ]
    },
    {
     "name": "stdout",
     "output_type": "stream",
     "text": [
      "Loaded checkpoint 'checkpoints/base_speakers/EN/checkpoint.pth'\n",
      "missing/unexpected keys: [] []\n",
      "Loaded checkpoint 'checkpoints/converter/checkpoint.pth'\n",
      "missing/unexpected keys: [] []\n",
      "OpenVoice version: v1\n",
      "[(0.174, 10.6453125)]\n",
      "after vad: dur = 10.471\n",
      " > Text splitted to sentences.\n",
      "Life is not about waiting for the storm to pass; it's about learning to dance in the rain.\n",
      "We are all faced with challenges and obstacles, but it's how we respond to them that defines our character and shapes our future.\n",
      "Never let fear hold you back from pursuing your dreams. Embrace the unknown,\n",
      "for that is where growth and opportunity lie. Be kind to others,\n",
      "for everyone you meet is fighting a battle you know nothing about.\n",
      "Treat each day as a new beginning, a chance to start fresh and make a positive impact on the world around you.\n",
      "Remember, success is not measured by material possessions, but by the lives you touch and the love you share.\n",
      "Cherish the simple moments, the laughter of a child, the warmth of a hug,\n",
      "the beauty of a sunset. These are the things that make life truly rich.\n",
      "Above all, never lose sight of what matters most - the people you love,\n",
      "the passions that inspire you, and the legacy you leave behind.\n",
      "Life is a precious gift, so live it fully, love deeply,\n",
      "and make every moment count.\n",
      " > ===========================\n",
      "laɪf ɪz nɑt əˈbaʊt ˈweɪtɪŋ fəɹ ðə stɔɹm tɪ pæs; ɪts əˈbaʊt ˈləɹnɪŋ tɪ dæns ɪn ðə ɹeɪn.\n",
      " length:86\n",
      " length:85\n",
      "wi əɹ ɔɫ feɪst wɪθ ˈtʃæləndʒɪz ənd ˈɑbstəkəɫz, bət ɪts haʊ wi ɹɪˈspɑnd tɪ ðɛm ðət dɪˈfaɪnz ɑɹ ˈkɛɹɪktəɹ ənd ʃeɪps ɑɹ fˈjutʃəɹ.\n",
      " length:126\n",
      " length:126\n",
      "ˈnɛvəɹ lɛt fɪɹ hoʊɫd ju bæk fɹəm pəɹˈsuɪŋ jʊɹ dɹimz. ɪmˈbɹeɪs ðə ənˈnoʊn,\n",
      " length:73\n",
      " length:73\n",
      "fəɹ ðət ɪz wɛɹ gɹoʊθ ənd ˌɑpəɹˈtunəti laɪ. bi kaɪnd tɪ ˈəðəɹz,\n",
      " length:62\n",
      " length:62\n",
      "fəɹ ˈɛvɹiˌwən ju mit ɪz ˈfaɪtɪŋ ə ˈbætəɫ ju noʊ ˈnəθɪŋ əˈbaʊt.\n",
      " length:62\n",
      " length:62\n",
      "tɹit itʃ deɪ ɛz ə nu bɪˈgɪnɪŋ, ə tʃæns tɪ stɑɹt fɹɛʃ ənd meɪk ə ˈpɑzətɪv ˌɪmˈpækt ɔn ðə wəɹɫd əɹaʊnd ju.\n",
      " length:104\n",
      " length:104\n",
      "ɹɪˈmɛmbəɹ, səkˈsɛs ɪz nɑt ˈmɛʒəɹd baɪ məˈtɪɹiəɫ pəˈzɛʃənz, bət baɪ ðə lɪvz ju tətʃ ənd ðə ləv ju ʃɛɹ.\n",
      " length:101\n",
      " length:101\n",
      "ˈtʃɛɹɪʃ ðə ˈsɪmpəɫ ˈmoʊmənts, ðə ˈlæftəɹ əv ə tʃaɪɫd, ðə wɔɹmθ əv ə həg,\n",
      " length:72\n",
      " length:72\n",
      "ðə ˈbjuti əv ə ˈsənˌsɛt. ðiz əɹ ðə θɪŋz ðət meɪk laɪf ˈtɹuli ɹɪtʃ.\n",
      " length:66\n",
      " length:66\n",
      "əˈbəv ɔɫ, ˈnɛvəɹ luz saɪt əv wət ˈmætəɹz moʊst ðə ˈpipəɫ ju ləv,\n",
      " length:64\n",
      " length:64\n",
      "ðə ˈpæʃənz ðət ˌɪnˈspaɪɹ ju, ənd ðə ˈlɛgəsi ju liv bɪˈhaɪnd.\n",
      " length:60\n",
      " length:60\n",
      "laɪf ɪz ə ˈpɹɛʃəs gɪft, soʊ lɪv ɪt ˈfʊli, ləv ˈdipli,\n",
      " length:53\n",
      " length:53\n",
      "ənd meɪk ˈɛvəɹi ˈmoʊmənt kaʊnt.\n",
      " length:31\n",
      " length:31\n",
      "Cloned Voice Generated!\n"
     ]
    },
    {
     "name": "stderr",
     "output_type": "stream",
     "text": [
      "/opt/anaconda3/envs/openvoice/lib/python3.9/site-packages/torch/nn/utils/weight_norm.py:28: UserWarning: torch.nn.utils.weight_norm is deprecated in favor of torch.nn.utils.parametrizations.weight_norm.\n",
      "  warnings.warn(\"torch.nn.utils.weight_norm is deprecated in favor of torch.nn.utils.parametrizations.weight_norm.\")\n"
     ]
    },
    {
     "name": "stdout",
     "output_type": "stream",
     "text": [
      "Loaded checkpoint 'checkpoints/base_speakers/EN/checkpoint.pth'\n",
      "missing/unexpected keys: [] []\n",
      "Loaded checkpoint 'checkpoints/converter/checkpoint.pth'\n",
      "missing/unexpected keys: [] []\n",
      "OpenVoice version: v1\n",
      "[(0.174, 10.6453125)]\n",
      "after vad: dur = 10.471\n",
      " > Text splitted to sentences.\n",
      "Life is not about waiting for the storm to pass; it's about learning to dance in the rain.\n",
      "We are all faced with challenges and obstacles, but it's how we respond to them that defines our character and shapes our future.\n",
      "Never let fear hold you back from pursuing your dreams. Embrace the unknown,\n",
      "for that is where growth and opportunity lie. Be kind to others,\n",
      "for everyone you meet is fighting a battle you know nothing about.\n",
      "Treat each day as a new beginning, a chance to start fresh and make a positive impact on the world around you.\n",
      "Remember, success is not measured by material possessions, but by the lives you touch and the love you share.\n",
      "Cherish the simple moments, the laughter of a child, the warmth of a hug,\n",
      "the beauty of a sunset. These are the things that make life truly rich.\n",
      "Above all, never lose sight of what matters most - the people you love,\n",
      "the passions that inspire you, and the legacy you leave behind.\n",
      "Life is a precious gift, so live it fully, love deeply,\n",
      "and make every moment count.\n",
      " > ===========================\n",
      "laɪf ɪz nɑt əˈbaʊt ˈweɪtɪŋ fəɹ ðə stɔɹm tɪ pæs; ɪts əˈbaʊt ˈləɹnɪŋ tɪ dæns ɪn ðə ɹeɪn.\n",
      " length:86\n",
      " length:85\n",
      "wi əɹ ɔɫ feɪst wɪθ ˈtʃæləndʒɪz ənd ˈɑbstəkəɫz, bət ɪts haʊ wi ɹɪˈspɑnd tɪ ðɛm ðət dɪˈfaɪnz ɑɹ ˈkɛɹɪktəɹ ənd ʃeɪps ɑɹ fˈjutʃəɹ.\n",
      " length:126\n",
      " length:126\n",
      "ˈnɛvəɹ lɛt fɪɹ hoʊɫd ju bæk fɹəm pəɹˈsuɪŋ jʊɹ dɹimz. ɪmˈbɹeɪs ðə ənˈnoʊn,\n",
      " length:73\n",
      " length:73\n",
      "fəɹ ðət ɪz wɛɹ gɹoʊθ ənd ˌɑpəɹˈtunəti laɪ. bi kaɪnd tɪ ˈəðəɹz,\n",
      " length:62\n",
      " length:62\n",
      "fəɹ ˈɛvɹiˌwən ju mit ɪz ˈfaɪtɪŋ ə ˈbætəɫ ju noʊ ˈnəθɪŋ əˈbaʊt.\n",
      " length:62\n",
      " length:62\n",
      "tɹit itʃ deɪ ɛz ə nu bɪˈgɪnɪŋ, ə tʃæns tɪ stɑɹt fɹɛʃ ənd meɪk ə ˈpɑzətɪv ˌɪmˈpækt ɔn ðə wəɹɫd əɹaʊnd ju.\n",
      " length:104\n",
      " length:104\n",
      "ɹɪˈmɛmbəɹ, səkˈsɛs ɪz nɑt ˈmɛʒəɹd baɪ məˈtɪɹiəɫ pəˈzɛʃənz, bət baɪ ðə lɪvz ju tətʃ ənd ðə ləv ju ʃɛɹ.\n",
      " length:101\n",
      " length:101\n",
      "ˈtʃɛɹɪʃ ðə ˈsɪmpəɫ ˈmoʊmənts, ðə ˈlæftəɹ əv ə tʃaɪɫd, ðə wɔɹmθ əv ə həg,\n",
      " length:72\n",
      " length:72\n",
      "ðə ˈbjuti əv ə ˈsənˌsɛt. ðiz əɹ ðə θɪŋz ðət meɪk laɪf ˈtɹuli ɹɪtʃ.\n",
      " length:66\n",
      " length:66\n",
      "əˈbəv ɔɫ, ˈnɛvəɹ luz saɪt əv wət ˈmætəɹz moʊst ðə ˈpipəɫ ju ləv,\n",
      " length:64\n",
      " length:64\n",
      "ðə ˈpæʃənz ðət ˌɪnˈspaɪɹ ju, ənd ðə ˈlɛgəsi ju liv bɪˈhaɪnd.\n",
      " length:60\n",
      " length:60\n",
      "laɪf ɪz ə ˈpɹɛʃəs gɪft, soʊ lɪv ɪt ˈfʊli, ləv ˈdipli,\n",
      " length:53\n",
      " length:53\n",
      "ənd meɪk ˈɛvəɹi ˈmoʊmənt kaʊnt.\n",
      " length:31\n",
      " length:31\n",
      "Cloned Voice Generated!\n"
     ]
    },
    {
     "name": "stderr",
     "output_type": "stream",
     "text": [
      "/opt/anaconda3/envs/openvoice/lib/python3.9/site-packages/torch/nn/utils/weight_norm.py:28: UserWarning: torch.nn.utils.weight_norm is deprecated in favor of torch.nn.utils.parametrizations.weight_norm.\n",
      "  warnings.warn(\"torch.nn.utils.weight_norm is deprecated in favor of torch.nn.utils.parametrizations.weight_norm.\")\n"
     ]
    },
    {
     "name": "stdout",
     "output_type": "stream",
     "text": [
      "Loaded checkpoint 'checkpoints/base_speakers/EN/checkpoint.pth'\n",
      "missing/unexpected keys: [] []\n",
      "Loaded checkpoint 'checkpoints/converter/checkpoint.pth'\n",
      "missing/unexpected keys: [] []\n",
      "OpenVoice version: v1\n",
      "[(0.174, 10.6453125)]\n",
      "after vad: dur = 10.471\n",
      " > Text splitted to sentences.\n",
      "Life is not about waiting for the storm to pass; it's about learning to dance in the rain.\n",
      "We are all faced with challenges and obstacles, but it's how we respond to them that defines our character and shapes our future.\n",
      "Never let fear hold you back from pursuing your dreams. Embrace the unknown,\n",
      "for that is where growth and opportunity lie. Be kind to others,\n",
      "for everyone you meet is fighting a battle you know nothing about.\n",
      "Treat each day as a new beginning, a chance to start fresh and make a positive impact on the world around you.\n",
      "Remember, success is not measured by material possessions, but by the lives you touch and the love you share.\n",
      "Cherish the simple moments, the laughter of a child, the warmth of a hug,\n",
      "the beauty of a sunset. These are the things that make life truly rich.\n",
      "Above all, never lose sight of what matters most - the people you love,\n",
      "the passions that inspire you, and the legacy you leave behind.\n",
      "Life is a precious gift, so live it fully, love deeply,\n",
      "and make every moment count.\n",
      " > ===========================\n",
      "laɪf ɪz nɑt əˈbaʊt ˈweɪtɪŋ fəɹ ðə stɔɹm tɪ pæs; ɪts əˈbaʊt ˈləɹnɪŋ tɪ dæns ɪn ðə ɹeɪn.\n",
      " length:86\n",
      " length:85\n",
      "wi əɹ ɔɫ feɪst wɪθ ˈtʃæləndʒɪz ənd ˈɑbstəkəɫz, bət ɪts haʊ wi ɹɪˈspɑnd tɪ ðɛm ðət dɪˈfaɪnz ɑɹ ˈkɛɹɪktəɹ ənd ʃeɪps ɑɹ fˈjutʃəɹ.\n",
      " length:126\n",
      " length:126\n",
      "ˈnɛvəɹ lɛt fɪɹ hoʊɫd ju bæk fɹəm pəɹˈsuɪŋ jʊɹ dɹimz. ɪmˈbɹeɪs ðə ənˈnoʊn,\n",
      " length:73\n",
      " length:73\n",
      "fəɹ ðət ɪz wɛɹ gɹoʊθ ənd ˌɑpəɹˈtunəti laɪ. bi kaɪnd tɪ ˈəðəɹz,\n",
      " length:62\n",
      " length:62\n",
      "fəɹ ˈɛvɹiˌwən ju mit ɪz ˈfaɪtɪŋ ə ˈbætəɫ ju noʊ ˈnəθɪŋ əˈbaʊt.\n",
      " length:62\n",
      " length:62\n",
      "tɹit itʃ deɪ ɛz ə nu bɪˈgɪnɪŋ, ə tʃæns tɪ stɑɹt fɹɛʃ ənd meɪk ə ˈpɑzətɪv ˌɪmˈpækt ɔn ðə wəɹɫd əɹaʊnd ju.\n",
      " length:104\n",
      " length:104\n",
      "ɹɪˈmɛmbəɹ, səkˈsɛs ɪz nɑt ˈmɛʒəɹd baɪ məˈtɪɹiəɫ pəˈzɛʃənz, bət baɪ ðə lɪvz ju tətʃ ənd ðə ləv ju ʃɛɹ.\n",
      " length:101\n",
      " length:101\n",
      "ˈtʃɛɹɪʃ ðə ˈsɪmpəɫ ˈmoʊmənts, ðə ˈlæftəɹ əv ə tʃaɪɫd, ðə wɔɹmθ əv ə həg,\n",
      " length:72\n",
      " length:72\n",
      "ðə ˈbjuti əv ə ˈsənˌsɛt. ðiz əɹ ðə θɪŋz ðət meɪk laɪf ˈtɹuli ɹɪtʃ.\n",
      " length:66\n",
      " length:66\n",
      "əˈbəv ɔɫ, ˈnɛvəɹ luz saɪt əv wət ˈmætəɹz moʊst ðə ˈpipəɫ ju ləv,\n",
      " length:64\n",
      " length:64\n",
      "ðə ˈpæʃənz ðət ˌɪnˈspaɪɹ ju, ənd ðə ˈlɛgəsi ju liv bɪˈhaɪnd.\n",
      " length:60\n",
      " length:60\n",
      "laɪf ɪz ə ˈpɹɛʃəs gɪft, soʊ lɪv ɪt ˈfʊli, ləv ˈdipli,\n",
      " length:53\n",
      " length:53\n",
      "ənd meɪk ˈɛvəɹi ˈmoʊmənt kaʊnt.\n",
      " length:31\n",
      " length:31\n",
      "Cloned Voice Generated!\n"
     ]
    },
    {
     "name": "stderr",
     "output_type": "stream",
     "text": [
      "/opt/anaconda3/envs/openvoice/lib/python3.9/site-packages/torch/nn/utils/weight_norm.py:28: UserWarning: torch.nn.utils.weight_norm is deprecated in favor of torch.nn.utils.parametrizations.weight_norm.\n",
      "  warnings.warn(\"torch.nn.utils.weight_norm is deprecated in favor of torch.nn.utils.parametrizations.weight_norm.\")\n"
     ]
    },
    {
     "name": "stdout",
     "output_type": "stream",
     "text": [
      "Loaded checkpoint 'checkpoints/base_speakers/EN/checkpoint.pth'\n",
      "missing/unexpected keys: [] []\n",
      "Loaded checkpoint 'checkpoints/converter/checkpoint.pth'\n",
      "missing/unexpected keys: [] []\n",
      "OpenVoice version: v1\n",
      "[(0.174, 10.6453125)]\n",
      "after vad: dur = 10.471\n",
      " > Text splitted to sentences.\n",
      "Life is not about waiting for the storm to pass; it's about learning to dance in the rain.\n",
      "We are all faced with challenges and obstacles, but it's how we respond to them that defines our character and shapes our future.\n",
      "Never let fear hold you back from pursuing your dreams. Embrace the unknown,\n",
      "for that is where growth and opportunity lie. Be kind to others,\n",
      "for everyone you meet is fighting a battle you know nothing about.\n",
      "Treat each day as a new beginning, a chance to start fresh and make a positive impact on the world around you.\n",
      "Remember, success is not measured by material possessions, but by the lives you touch and the love you share.\n",
      "Cherish the simple moments, the laughter of a child, the warmth of a hug,\n",
      "the beauty of a sunset. These are the things that make life truly rich.\n",
      "Above all, never lose sight of what matters most - the people you love,\n",
      "the passions that inspire you, and the legacy you leave behind.\n",
      "Life is a precious gift, so live it fully, love deeply,\n",
      "and make every moment count.\n",
      " > ===========================\n",
      "laɪf ɪz nɑt əˈbaʊt ˈweɪtɪŋ fəɹ ðə stɔɹm tɪ pæs; ɪts əˈbaʊt ˈləɹnɪŋ tɪ dæns ɪn ðə ɹeɪn.\n",
      " length:86\n",
      " length:85\n",
      "wi əɹ ɔɫ feɪst wɪθ ˈtʃæləndʒɪz ənd ˈɑbstəkəɫz, bət ɪts haʊ wi ɹɪˈspɑnd tɪ ðɛm ðət dɪˈfaɪnz ɑɹ ˈkɛɹɪktəɹ ənd ʃeɪps ɑɹ fˈjutʃəɹ.\n",
      " length:126\n",
      " length:126\n",
      "ˈnɛvəɹ lɛt fɪɹ hoʊɫd ju bæk fɹəm pəɹˈsuɪŋ jʊɹ dɹimz. ɪmˈbɹeɪs ðə ənˈnoʊn,\n",
      " length:73\n",
      " length:73\n",
      "fəɹ ðət ɪz wɛɹ gɹoʊθ ənd ˌɑpəɹˈtunəti laɪ. bi kaɪnd tɪ ˈəðəɹz,\n",
      " length:62\n",
      " length:62\n",
      "fəɹ ˈɛvɹiˌwən ju mit ɪz ˈfaɪtɪŋ ə ˈbætəɫ ju noʊ ˈnəθɪŋ əˈbaʊt.\n",
      " length:62\n",
      " length:62\n",
      "tɹit itʃ deɪ ɛz ə nu bɪˈgɪnɪŋ, ə tʃæns tɪ stɑɹt fɹɛʃ ənd meɪk ə ˈpɑzətɪv ˌɪmˈpækt ɔn ðə wəɹɫd əɹaʊnd ju.\n",
      " length:104\n",
      " length:104\n",
      "ɹɪˈmɛmbəɹ, səkˈsɛs ɪz nɑt ˈmɛʒəɹd baɪ məˈtɪɹiəɫ pəˈzɛʃənz, bət baɪ ðə lɪvz ju tətʃ ənd ðə ləv ju ʃɛɹ.\n",
      " length:101\n",
      " length:101\n",
      "ˈtʃɛɹɪʃ ðə ˈsɪmpəɫ ˈmoʊmənts, ðə ˈlæftəɹ əv ə tʃaɪɫd, ðə wɔɹmθ əv ə həg,\n",
      " length:72\n",
      " length:72\n",
      "ðə ˈbjuti əv ə ˈsənˌsɛt. ðiz əɹ ðə θɪŋz ðət meɪk laɪf ˈtɹuli ɹɪtʃ.\n",
      " length:66\n",
      " length:66\n",
      "əˈbəv ɔɫ, ˈnɛvəɹ luz saɪt əv wət ˈmætəɹz moʊst ðə ˈpipəɫ ju ləv,\n",
      " length:64\n",
      " length:64\n",
      "ðə ˈpæʃənz ðət ˌɪnˈspaɪɹ ju, ənd ðə ˈlɛgəsi ju liv bɪˈhaɪnd.\n",
      " length:60\n",
      " length:60\n",
      "laɪf ɪz ə ˈpɹɛʃəs gɪft, soʊ lɪv ɪt ˈfʊli, ləv ˈdipli,\n",
      " length:53\n",
      " length:53\n",
      "ənd meɪk ˈɛvəɹi ˈmoʊmənt kaʊnt.\n",
      " length:31\n",
      " length:31\n",
      "Cloned Voice Generated!\n"
     ]
    },
    {
     "name": "stderr",
     "output_type": "stream",
     "text": [
      "/opt/anaconda3/envs/openvoice/lib/python3.9/site-packages/torch/nn/utils/weight_norm.py:28: UserWarning: torch.nn.utils.weight_norm is deprecated in favor of torch.nn.utils.parametrizations.weight_norm.\n",
      "  warnings.warn(\"torch.nn.utils.weight_norm is deprecated in favor of torch.nn.utils.parametrizations.weight_norm.\")\n"
     ]
    },
    {
     "name": "stdout",
     "output_type": "stream",
     "text": [
      "Loaded checkpoint 'checkpoints/base_speakers/EN/checkpoint.pth'\n",
      "missing/unexpected keys: [] []\n",
      "Loaded checkpoint 'checkpoints/converter/checkpoint.pth'\n",
      "missing/unexpected keys: [] []\n",
      "OpenVoice version: v1\n",
      "[(0.174, 10.6453125)]\n",
      "after vad: dur = 10.471\n",
      " > Text splitted to sentences.\n",
      "Life is not about waiting for the storm to pass; it's about learning to dance in the rain.\n",
      "We are all faced with challenges and obstacles, but it's how we respond to them that defines our character and shapes our future.\n",
      "Never let fear hold you back from pursuing your dreams. Embrace the unknown,\n",
      "for that is where growth and opportunity lie. Be kind to others,\n",
      "for everyone you meet is fighting a battle you know nothing about.\n",
      "Treat each day as a new beginning, a chance to start fresh and make a positive impact on the world around you.\n",
      "Remember, success is not measured by material possessions, but by the lives you touch and the love you share.\n",
      "Cherish the simple moments, the laughter of a child, the warmth of a hug,\n",
      "the beauty of a sunset. These are the things that make life truly rich.\n",
      "Above all, never lose sight of what matters most - the people you love,\n",
      "the passions that inspire you, and the legacy you leave behind.\n",
      "Life is a precious gift, so live it fully, love deeply,\n",
      "and make every moment count.\n",
      " > ===========================\n",
      "laɪf ɪz nɑt əˈbaʊt ˈweɪtɪŋ fəɹ ðə stɔɹm tɪ pæs; ɪts əˈbaʊt ˈləɹnɪŋ tɪ dæns ɪn ðə ɹeɪn.\n",
      " length:86\n",
      " length:85\n",
      "wi əɹ ɔɫ feɪst wɪθ ˈtʃæləndʒɪz ənd ˈɑbstəkəɫz, bət ɪts haʊ wi ɹɪˈspɑnd tɪ ðɛm ðət dɪˈfaɪnz ɑɹ ˈkɛɹɪktəɹ ənd ʃeɪps ɑɹ fˈjutʃəɹ.\n",
      " length:126\n",
      " length:126\n",
      "ˈnɛvəɹ lɛt fɪɹ hoʊɫd ju bæk fɹəm pəɹˈsuɪŋ jʊɹ dɹimz. ɪmˈbɹeɪs ðə ənˈnoʊn,\n",
      " length:73\n",
      " length:73\n",
      "fəɹ ðət ɪz wɛɹ gɹoʊθ ənd ˌɑpəɹˈtunəti laɪ. bi kaɪnd tɪ ˈəðəɹz,\n",
      " length:62\n",
      " length:62\n",
      "fəɹ ˈɛvɹiˌwən ju mit ɪz ˈfaɪtɪŋ ə ˈbætəɫ ju noʊ ˈnəθɪŋ əˈbaʊt.\n",
      " length:62\n",
      " length:62\n",
      "tɹit itʃ deɪ ɛz ə nu bɪˈgɪnɪŋ, ə tʃæns tɪ stɑɹt fɹɛʃ ənd meɪk ə ˈpɑzətɪv ˌɪmˈpækt ɔn ðə wəɹɫd əɹaʊnd ju.\n",
      " length:104\n",
      " length:104\n",
      "ɹɪˈmɛmbəɹ, səkˈsɛs ɪz nɑt ˈmɛʒəɹd baɪ məˈtɪɹiəɫ pəˈzɛʃənz, bət baɪ ðə lɪvz ju tətʃ ənd ðə ləv ju ʃɛɹ.\n",
      " length:101\n",
      " length:101\n",
      "ˈtʃɛɹɪʃ ðə ˈsɪmpəɫ ˈmoʊmənts, ðə ˈlæftəɹ əv ə tʃaɪɫd, ðə wɔɹmθ əv ə həg,\n",
      " length:72\n",
      " length:72\n",
      "ðə ˈbjuti əv ə ˈsənˌsɛt. ðiz əɹ ðə θɪŋz ðət meɪk laɪf ˈtɹuli ɹɪtʃ.\n",
      " length:66\n",
      " length:66\n",
      "əˈbəv ɔɫ, ˈnɛvəɹ luz saɪt əv wət ˈmætəɹz moʊst ðə ˈpipəɫ ju ləv,\n",
      " length:64\n",
      " length:64\n",
      "ðə ˈpæʃənz ðət ˌɪnˈspaɪɹ ju, ənd ðə ˈlɛgəsi ju liv bɪˈhaɪnd.\n",
      " length:60\n",
      " length:60\n",
      "laɪf ɪz ə ˈpɹɛʃəs gɪft, soʊ lɪv ɪt ˈfʊli, ləv ˈdipli,\n",
      " length:53\n",
      " length:53\n",
      "ənd meɪk ˈɛvəɹi ˈmoʊmənt kaʊnt.\n",
      " length:31\n",
      " length:31\n",
      "Cloned Voice Generated!\n",
      "Execution times:\n",
      "Text length: 5, Execution time: 2.4151 seconds\n",
      "Text length: 9, Execution time: 2.2566 seconds\n",
      "Text length: 16, Execution time: 2.3059 seconds\n",
      "Text length: 49, Execution time: 3.5581 seconds\n",
      "Text length: 102, Execution time: 4.7652 seconds\n",
      "Text length: 347, Execution time: 9.6442 seconds\n",
      "Text length: 573, Execution time: 14.2620 seconds\n",
      "Text length: 810, Execution time: 18.6709 seconds\n",
      "Text length: 1017, Execution time: 23.6835 seconds\n"
     ]
    },
    {
     "name": "stderr",
     "output_type": "stream",
     "text": [
      "/opt/anaconda3/envs/openvoice/lib/python3.9/site-packages/torch/nn/utils/weight_norm.py:28: UserWarning: torch.nn.utils.weight_norm is deprecated in favor of torch.nn.utils.parametrizations.weight_norm.\n",
      "  warnings.warn(\"torch.nn.utils.weight_norm is deprecated in favor of torch.nn.utils.parametrizations.weight_norm.\")\n"
     ]
    },
    {
     "name": "stdout",
     "output_type": "stream",
     "text": [
      "Loaded checkpoint 'checkpoints/base_speakers/EN/checkpoint.pth'\n",
      "missing/unexpected keys: [] []\n",
      "Loaded checkpoint 'checkpoints/converter/checkpoint.pth'\n",
      "missing/unexpected keys: [] []\n",
      "OpenVoice version: v1\n",
      "[(0.0, 9.152)]\n",
      "after vad: dur = 9.152\n",
      " > Text splitted to sentences.\n",
      "Smile\n",
      " > ===========================\n",
      "smaɪɫ.\n",
      " length:6\n",
      " length:6\n",
      "Audio too short, fail to add watermark\n",
      "Cloned Voice Generated!\n"
     ]
    },
    {
     "name": "stderr",
     "output_type": "stream",
     "text": [
      "/opt/anaconda3/envs/openvoice/lib/python3.9/site-packages/torch/nn/utils/weight_norm.py:28: UserWarning: torch.nn.utils.weight_norm is deprecated in favor of torch.nn.utils.parametrizations.weight_norm.\n",
      "  warnings.warn(\"torch.nn.utils.weight_norm is deprecated in favor of torch.nn.utils.parametrizations.weight_norm.\")\n"
     ]
    },
    {
     "name": "stdout",
     "output_type": "stream",
     "text": [
      "Loaded checkpoint 'checkpoints/base_speakers/EN/checkpoint.pth'\n",
      "missing/unexpected keys: [] []\n",
      "Loaded checkpoint 'checkpoints/converter/checkpoint.pth'\n",
      "missing/unexpected keys: [] []\n",
      "OpenVoice version: v1\n",
      "[(0.0, 9.152)]\n",
      "after vad: dur = 9.152\n",
      " > Text splitted to sentences.\n",
      "Smile\n",
      " > ===========================\n",
      "smaɪɫ.\n",
      " length:6\n",
      " length:6\n",
      "Audio too short, fail to add watermark\n",
      "Cloned Voice Generated!\n"
     ]
    },
    {
     "name": "stderr",
     "output_type": "stream",
     "text": [
      "/opt/anaconda3/envs/openvoice/lib/python3.9/site-packages/torch/nn/utils/weight_norm.py:28: UserWarning: torch.nn.utils.weight_norm is deprecated in favor of torch.nn.utils.parametrizations.weight_norm.\n",
      "  warnings.warn(\"torch.nn.utils.weight_norm is deprecated in favor of torch.nn.utils.parametrizations.weight_norm.\")\n"
     ]
    },
    {
     "name": "stdout",
     "output_type": "stream",
     "text": [
      "Loaded checkpoint 'checkpoints/base_speakers/EN/checkpoint.pth'\n",
      "missing/unexpected keys: [] []\n",
      "Loaded checkpoint 'checkpoints/converter/checkpoint.pth'\n",
      "missing/unexpected keys: [] []\n",
      "OpenVoice version: v1\n",
      "[(0.0, 9.152)]\n",
      "after vad: dur = 9.152\n",
      " > Text splitted to sentences.\n",
      "Smile\n",
      " > ===========================\n",
      "smaɪɫ.\n",
      " length:6\n",
      " length:6\n",
      "Audio too short, fail to add watermark\n",
      "Cloned Voice Generated!\n"
     ]
    },
    {
     "name": "stderr",
     "output_type": "stream",
     "text": [
      "/opt/anaconda3/envs/openvoice/lib/python3.9/site-packages/torch/nn/utils/weight_norm.py:28: UserWarning: torch.nn.utils.weight_norm is deprecated in favor of torch.nn.utils.parametrizations.weight_norm.\n",
      "  warnings.warn(\"torch.nn.utils.weight_norm is deprecated in favor of torch.nn.utils.parametrizations.weight_norm.\")\n"
     ]
    },
    {
     "name": "stdout",
     "output_type": "stream",
     "text": [
      "Loaded checkpoint 'checkpoints/base_speakers/EN/checkpoint.pth'\n",
      "missing/unexpected keys: [] []\n",
      "Loaded checkpoint 'checkpoints/converter/checkpoint.pth'\n",
      "missing/unexpected keys: [] []\n",
      "OpenVoice version: v1\n",
      "[(0.0, 9.152)]\n",
      "after vad: dur = 9.152\n",
      " > Text splitted to sentences.\n",
      "Smile\n",
      " > ===========================\n",
      "smaɪɫ.\n",
      " length:6\n",
      " length:6\n",
      "Audio too short, fail to add watermark\n",
      "Cloned Voice Generated!\n"
     ]
    },
    {
     "name": "stderr",
     "output_type": "stream",
     "text": [
      "/opt/anaconda3/envs/openvoice/lib/python3.9/site-packages/torch/nn/utils/weight_norm.py:28: UserWarning: torch.nn.utils.weight_norm is deprecated in favor of torch.nn.utils.parametrizations.weight_norm.\n",
      "  warnings.warn(\"torch.nn.utils.weight_norm is deprecated in favor of torch.nn.utils.parametrizations.weight_norm.\")\n"
     ]
    },
    {
     "name": "stdout",
     "output_type": "stream",
     "text": [
      "Loaded checkpoint 'checkpoints/base_speakers/EN/checkpoint.pth'\n",
      "missing/unexpected keys: [] []\n",
      "Loaded checkpoint 'checkpoints/converter/checkpoint.pth'\n",
      "missing/unexpected keys: [] []\n",
      "OpenVoice version: v1\n",
      "[(0.0, 9.152)]\n",
      "after vad: dur = 9.152\n",
      " > Text splitted to sentences.\n",
      "Smile\n",
      " > ===========================\n",
      "smaɪɫ.\n",
      " length:6\n",
      " length:6\n",
      "Audio too short, fail to add watermark\n",
      "Cloned Voice Generated!\n"
     ]
    },
    {
     "name": "stderr",
     "output_type": "stream",
     "text": [
      "/opt/anaconda3/envs/openvoice/lib/python3.9/site-packages/torch/nn/utils/weight_norm.py:28: UserWarning: torch.nn.utils.weight_norm is deprecated in favor of torch.nn.utils.parametrizations.weight_norm.\n",
      "  warnings.warn(\"torch.nn.utils.weight_norm is deprecated in favor of torch.nn.utils.parametrizations.weight_norm.\")\n"
     ]
    },
    {
     "name": "stdout",
     "output_type": "stream",
     "text": [
      "Loaded checkpoint 'checkpoints/base_speakers/EN/checkpoint.pth'\n",
      "missing/unexpected keys: [] []\n",
      "Loaded checkpoint 'checkpoints/converter/checkpoint.pth'\n",
      "missing/unexpected keys: [] []\n",
      "OpenVoice version: v1\n",
      "[(0.0, 9.152)]\n",
      "after vad: dur = 9.152\n",
      " > Text splitted to sentences.\n",
      "To change\n",
      " > ===========================\n",
      "tɪ tʃeɪndʒ.\n",
      " length:11\n",
      " length:11\n",
      "Audio too short, fail to add watermark\n",
      "Cloned Voice Generated!\n"
     ]
    },
    {
     "name": "stderr",
     "output_type": "stream",
     "text": [
      "/opt/anaconda3/envs/openvoice/lib/python3.9/site-packages/torch/nn/utils/weight_norm.py:28: UserWarning: torch.nn.utils.weight_norm is deprecated in favor of torch.nn.utils.parametrizations.weight_norm.\n",
      "  warnings.warn(\"torch.nn.utils.weight_norm is deprecated in favor of torch.nn.utils.parametrizations.weight_norm.\")\n"
     ]
    },
    {
     "name": "stdout",
     "output_type": "stream",
     "text": [
      "Loaded checkpoint 'checkpoints/base_speakers/EN/checkpoint.pth'\n",
      "missing/unexpected keys: [] []\n",
      "Loaded checkpoint 'checkpoints/converter/checkpoint.pth'\n",
      "missing/unexpected keys: [] []\n",
      "OpenVoice version: v1\n",
      "[(0.0, 9.152)]\n",
      "after vad: dur = 9.152\n",
      " > Text splitted to sentences.\n",
      "To change\n",
      " > ===========================\n",
      "tɪ tʃeɪndʒ.\n",
      " length:11\n",
      " length:11\n",
      "Audio too short, fail to add watermark\n",
      "Cloned Voice Generated!\n"
     ]
    },
    {
     "name": "stderr",
     "output_type": "stream",
     "text": [
      "/opt/anaconda3/envs/openvoice/lib/python3.9/site-packages/torch/nn/utils/weight_norm.py:28: UserWarning: torch.nn.utils.weight_norm is deprecated in favor of torch.nn.utils.parametrizations.weight_norm.\n",
      "  warnings.warn(\"torch.nn.utils.weight_norm is deprecated in favor of torch.nn.utils.parametrizations.weight_norm.\")\n"
     ]
    },
    {
     "name": "stdout",
     "output_type": "stream",
     "text": [
      "Loaded checkpoint 'checkpoints/base_speakers/EN/checkpoint.pth'\n",
      "missing/unexpected keys: [] []\n",
      "Loaded checkpoint 'checkpoints/converter/checkpoint.pth'\n",
      "missing/unexpected keys: [] []\n",
      "OpenVoice version: v1\n",
      "[(0.0, 9.152)]\n",
      "after vad: dur = 9.152\n",
      " > Text splitted to sentences.\n",
      "To change\n",
      " > ===========================\n",
      "tɪ tʃeɪndʒ.\n",
      " length:11\n",
      " length:11\n",
      "Audio too short, fail to add watermark\n",
      "Cloned Voice Generated!\n"
     ]
    },
    {
     "name": "stderr",
     "output_type": "stream",
     "text": [
      "/opt/anaconda3/envs/openvoice/lib/python3.9/site-packages/torch/nn/utils/weight_norm.py:28: UserWarning: torch.nn.utils.weight_norm is deprecated in favor of torch.nn.utils.parametrizations.weight_norm.\n",
      "  warnings.warn(\"torch.nn.utils.weight_norm is deprecated in favor of torch.nn.utils.parametrizations.weight_norm.\")\n"
     ]
    },
    {
     "name": "stdout",
     "output_type": "stream",
     "text": [
      "Loaded checkpoint 'checkpoints/base_speakers/EN/checkpoint.pth'\n",
      "missing/unexpected keys: [] []\n",
      "Loaded checkpoint 'checkpoints/converter/checkpoint.pth'\n",
      "missing/unexpected keys: [] []\n",
      "OpenVoice version: v1\n",
      "[(0.0, 9.152)]\n",
      "after vad: dur = 9.152\n",
      " > Text splitted to sentences.\n",
      "To change\n",
      " > ===========================\n",
      "tɪ tʃeɪndʒ.\n",
      " length:11\n",
      " length:11\n",
      "Audio too short, fail to add watermark\n",
      "Cloned Voice Generated!\n"
     ]
    },
    {
     "name": "stderr",
     "output_type": "stream",
     "text": [
      "/opt/anaconda3/envs/openvoice/lib/python3.9/site-packages/torch/nn/utils/weight_norm.py:28: UserWarning: torch.nn.utils.weight_norm is deprecated in favor of torch.nn.utils.parametrizations.weight_norm.\n",
      "  warnings.warn(\"torch.nn.utils.weight_norm is deprecated in favor of torch.nn.utils.parametrizations.weight_norm.\")\n"
     ]
    },
    {
     "name": "stdout",
     "output_type": "stream",
     "text": [
      "Loaded checkpoint 'checkpoints/base_speakers/EN/checkpoint.pth'\n",
      "missing/unexpected keys: [] []\n",
      "Loaded checkpoint 'checkpoints/converter/checkpoint.pth'\n",
      "missing/unexpected keys: [] []\n",
      "OpenVoice version: v1\n",
      "[(0.0, 9.152)]\n",
      "after vad: dur = 9.152\n",
      " > Text splitted to sentences.\n",
      "To change\n",
      " > ===========================\n",
      "tɪ tʃeɪndʒ.\n",
      " length:11\n",
      " length:11\n",
      "Audio too short, fail to add watermark\n",
      "Cloned Voice Generated!\n"
     ]
    },
    {
     "name": "stderr",
     "output_type": "stream",
     "text": [
      "/opt/anaconda3/envs/openvoice/lib/python3.9/site-packages/torch/nn/utils/weight_norm.py:28: UserWarning: torch.nn.utils.weight_norm is deprecated in favor of torch.nn.utils.parametrizations.weight_norm.\n",
      "  warnings.warn(\"torch.nn.utils.weight_norm is deprecated in favor of torch.nn.utils.parametrizations.weight_norm.\")\n"
     ]
    },
    {
     "name": "stdout",
     "output_type": "stream",
     "text": [
      "Loaded checkpoint 'checkpoints/base_speakers/EN/checkpoint.pth'\n",
      "missing/unexpected keys: [] []\n",
      "Loaded checkpoint 'checkpoints/converter/checkpoint.pth'\n",
      "missing/unexpected keys: [] []\n",
      "OpenVoice version: v1\n",
      "[(0.0, 9.152)]\n",
      "after vad: dur = 9.152\n",
      " > Text splitted to sentences.\n",
      "Seize the moment\n",
      " > ===========================\n",
      "siz ðə ˈmoʊmənt.\n",
      " length:16\n",
      " length:16\n",
      "Audio too short, fail to add watermark\n",
      "Cloned Voice Generated!\n"
     ]
    },
    {
     "name": "stderr",
     "output_type": "stream",
     "text": [
      "/opt/anaconda3/envs/openvoice/lib/python3.9/site-packages/torch/nn/utils/weight_norm.py:28: UserWarning: torch.nn.utils.weight_norm is deprecated in favor of torch.nn.utils.parametrizations.weight_norm.\n",
      "  warnings.warn(\"torch.nn.utils.weight_norm is deprecated in favor of torch.nn.utils.parametrizations.weight_norm.\")\n"
     ]
    },
    {
     "name": "stdout",
     "output_type": "stream",
     "text": [
      "Loaded checkpoint 'checkpoints/base_speakers/EN/checkpoint.pth'\n",
      "missing/unexpected keys: [] []\n",
      "Loaded checkpoint 'checkpoints/converter/checkpoint.pth'\n",
      "missing/unexpected keys: [] []\n",
      "OpenVoice version: v1\n",
      "[(0.0, 9.152)]\n",
      "after vad: dur = 9.152\n",
      " > Text splitted to sentences.\n",
      "Seize the moment\n",
      " > ===========================\n",
      "siz ðə ˈmoʊmənt.\n",
      " length:16\n",
      " length:16\n",
      "Audio too short, fail to add watermark\n",
      "Cloned Voice Generated!\n"
     ]
    },
    {
     "name": "stderr",
     "output_type": "stream",
     "text": [
      "/opt/anaconda3/envs/openvoice/lib/python3.9/site-packages/torch/nn/utils/weight_norm.py:28: UserWarning: torch.nn.utils.weight_norm is deprecated in favor of torch.nn.utils.parametrizations.weight_norm.\n",
      "  warnings.warn(\"torch.nn.utils.weight_norm is deprecated in favor of torch.nn.utils.parametrizations.weight_norm.\")\n"
     ]
    },
    {
     "name": "stdout",
     "output_type": "stream",
     "text": [
      "Loaded checkpoint 'checkpoints/base_speakers/EN/checkpoint.pth'\n",
      "missing/unexpected keys: [] []\n",
      "Loaded checkpoint 'checkpoints/converter/checkpoint.pth'\n",
      "missing/unexpected keys: [] []\n",
      "OpenVoice version: v1\n",
      "[(0.0, 9.152)]\n",
      "after vad: dur = 9.152\n",
      " > Text splitted to sentences.\n",
      "Seize the moment\n",
      " > ===========================\n",
      "siz ðə ˈmoʊmənt.\n",
      " length:16\n",
      " length:16\n",
      "Audio too short, fail to add watermark\n",
      "Cloned Voice Generated!\n"
     ]
    },
    {
     "name": "stderr",
     "output_type": "stream",
     "text": [
      "/opt/anaconda3/envs/openvoice/lib/python3.9/site-packages/torch/nn/utils/weight_norm.py:28: UserWarning: torch.nn.utils.weight_norm is deprecated in favor of torch.nn.utils.parametrizations.weight_norm.\n",
      "  warnings.warn(\"torch.nn.utils.weight_norm is deprecated in favor of torch.nn.utils.parametrizations.weight_norm.\")\n"
     ]
    },
    {
     "name": "stdout",
     "output_type": "stream",
     "text": [
      "Loaded checkpoint 'checkpoints/base_speakers/EN/checkpoint.pth'\n",
      "missing/unexpected keys: [] []\n",
      "Loaded checkpoint 'checkpoints/converter/checkpoint.pth'\n",
      "missing/unexpected keys: [] []\n",
      "OpenVoice version: v1\n",
      "[(0.0, 9.152)]\n",
      "after vad: dur = 9.152\n",
      " > Text splitted to sentences.\n",
      "Seize the moment\n",
      " > ===========================\n",
      "siz ðə ˈmoʊmənt.\n",
      " length:16\n",
      " length:16\n",
      "Audio too short, fail to add watermark\n",
      "Cloned Voice Generated!\n"
     ]
    },
    {
     "name": "stderr",
     "output_type": "stream",
     "text": [
      "/opt/anaconda3/envs/openvoice/lib/python3.9/site-packages/torch/nn/utils/weight_norm.py:28: UserWarning: torch.nn.utils.weight_norm is deprecated in favor of torch.nn.utils.parametrizations.weight_norm.\n",
      "  warnings.warn(\"torch.nn.utils.weight_norm is deprecated in favor of torch.nn.utils.parametrizations.weight_norm.\")\n"
     ]
    },
    {
     "name": "stdout",
     "output_type": "stream",
     "text": [
      "Loaded checkpoint 'checkpoints/base_speakers/EN/checkpoint.pth'\n",
      "missing/unexpected keys: [] []\n",
      "Loaded checkpoint 'checkpoints/converter/checkpoint.pth'\n",
      "missing/unexpected keys: [] []\n",
      "OpenVoice version: v1\n",
      "[(0.0, 9.152)]\n",
      "after vad: dur = 9.152\n",
      " > Text splitted to sentences.\n",
      "Seize the moment\n",
      " > ===========================\n",
      "siz ðə ˈmoʊmənt.\n",
      " length:16\n",
      " length:16\n",
      "Audio too short, fail to add watermark\n",
      "Cloned Voice Generated!\n"
     ]
    },
    {
     "name": "stderr",
     "output_type": "stream",
     "text": [
      "/opt/anaconda3/envs/openvoice/lib/python3.9/site-packages/torch/nn/utils/weight_norm.py:28: UserWarning: torch.nn.utils.weight_norm is deprecated in favor of torch.nn.utils.parametrizations.weight_norm.\n",
      "  warnings.warn(\"torch.nn.utils.weight_norm is deprecated in favor of torch.nn.utils.parametrizations.weight_norm.\")\n"
     ]
    },
    {
     "name": "stdout",
     "output_type": "stream",
     "text": [
      "Loaded checkpoint 'checkpoints/base_speakers/EN/checkpoint.pth'\n",
      "missing/unexpected keys: [] []\n",
      "Loaded checkpoint 'checkpoints/converter/checkpoint.pth'\n",
      "missing/unexpected keys: [] []\n",
      "OpenVoice version: v1\n",
      "[(0.0, 9.152)]\n",
      "after vad: dur = 9.152\n",
      " > Text splitted to sentences.\n",
      "Life is a beautiful journey, make each day count.\n",
      " > ===========================\n",
      "laɪf ɪz ə ˈbjutəfəɫ ˈdʒəɹni, meɪk itʃ deɪ kaʊnt.\n",
      " length:48\n",
      " length:48\n",
      "Cloned Voice Generated!\n"
     ]
    },
    {
     "name": "stderr",
     "output_type": "stream",
     "text": [
      "/opt/anaconda3/envs/openvoice/lib/python3.9/site-packages/torch/nn/utils/weight_norm.py:28: UserWarning: torch.nn.utils.weight_norm is deprecated in favor of torch.nn.utils.parametrizations.weight_norm.\n",
      "  warnings.warn(\"torch.nn.utils.weight_norm is deprecated in favor of torch.nn.utils.parametrizations.weight_norm.\")\n"
     ]
    },
    {
     "name": "stdout",
     "output_type": "stream",
     "text": [
      "Loaded checkpoint 'checkpoints/base_speakers/EN/checkpoint.pth'\n",
      "missing/unexpected keys: [] []\n",
      "Loaded checkpoint 'checkpoints/converter/checkpoint.pth'\n",
      "missing/unexpected keys: [] []\n",
      "OpenVoice version: v1\n",
      "[(0.0, 9.152)]\n",
      "after vad: dur = 9.152\n",
      " > Text splitted to sentences.\n",
      "Life is a beautiful journey, make each day count.\n",
      " > ===========================\n",
      "laɪf ɪz ə ˈbjutəfəɫ ˈdʒəɹni, meɪk itʃ deɪ kaʊnt.\n",
      " length:48\n",
      " length:48\n",
      "Cloned Voice Generated!\n"
     ]
    },
    {
     "name": "stderr",
     "output_type": "stream",
     "text": [
      "/opt/anaconda3/envs/openvoice/lib/python3.9/site-packages/torch/nn/utils/weight_norm.py:28: UserWarning: torch.nn.utils.weight_norm is deprecated in favor of torch.nn.utils.parametrizations.weight_norm.\n",
      "  warnings.warn(\"torch.nn.utils.weight_norm is deprecated in favor of torch.nn.utils.parametrizations.weight_norm.\")\n"
     ]
    },
    {
     "name": "stdout",
     "output_type": "stream",
     "text": [
      "Loaded checkpoint 'checkpoints/base_speakers/EN/checkpoint.pth'\n",
      "missing/unexpected keys: [] []\n",
      "Loaded checkpoint 'checkpoints/converter/checkpoint.pth'\n",
      "missing/unexpected keys: [] []\n",
      "OpenVoice version: v1\n",
      "[(0.0, 9.152)]\n",
      "after vad: dur = 9.152\n",
      " > Text splitted to sentences.\n",
      "Life is a beautiful journey, make each day count.\n",
      " > ===========================\n",
      "laɪf ɪz ə ˈbjutəfəɫ ˈdʒəɹni, meɪk itʃ deɪ kaʊnt.\n",
      " length:48\n",
      " length:48\n",
      "Cloned Voice Generated!\n"
     ]
    },
    {
     "name": "stderr",
     "output_type": "stream",
     "text": [
      "/opt/anaconda3/envs/openvoice/lib/python3.9/site-packages/torch/nn/utils/weight_norm.py:28: UserWarning: torch.nn.utils.weight_norm is deprecated in favor of torch.nn.utils.parametrizations.weight_norm.\n",
      "  warnings.warn(\"torch.nn.utils.weight_norm is deprecated in favor of torch.nn.utils.parametrizations.weight_norm.\")\n"
     ]
    },
    {
     "name": "stdout",
     "output_type": "stream",
     "text": [
      "Loaded checkpoint 'checkpoints/base_speakers/EN/checkpoint.pth'\n",
      "missing/unexpected keys: [] []\n",
      "Loaded checkpoint 'checkpoints/converter/checkpoint.pth'\n",
      "missing/unexpected keys: [] []\n",
      "OpenVoice version: v1\n",
      "[(0.0, 9.152)]\n",
      "after vad: dur = 9.152\n",
      " > Text splitted to sentences.\n",
      "Life is a beautiful journey, make each day count.\n",
      " > ===========================\n",
      "laɪf ɪz ə ˈbjutəfəɫ ˈdʒəɹni, meɪk itʃ deɪ kaʊnt.\n",
      " length:48\n",
      " length:48\n",
      "Cloned Voice Generated!\n"
     ]
    },
    {
     "name": "stderr",
     "output_type": "stream",
     "text": [
      "/opt/anaconda3/envs/openvoice/lib/python3.9/site-packages/torch/nn/utils/weight_norm.py:28: UserWarning: torch.nn.utils.weight_norm is deprecated in favor of torch.nn.utils.parametrizations.weight_norm.\n",
      "  warnings.warn(\"torch.nn.utils.weight_norm is deprecated in favor of torch.nn.utils.parametrizations.weight_norm.\")\n"
     ]
    },
    {
     "name": "stdout",
     "output_type": "stream",
     "text": [
      "Loaded checkpoint 'checkpoints/base_speakers/EN/checkpoint.pth'\n",
      "missing/unexpected keys: [] []\n",
      "Loaded checkpoint 'checkpoints/converter/checkpoint.pth'\n",
      "missing/unexpected keys: [] []\n",
      "OpenVoice version: v1\n",
      "[(0.0, 9.152)]\n",
      "after vad: dur = 9.152\n",
      " > Text splitted to sentences.\n",
      "Life is a beautiful journey, make each day count.\n",
      " > ===========================\n",
      "laɪf ɪz ə ˈbjutəfəɫ ˈdʒəɹni, meɪk itʃ deɪ kaʊnt.\n",
      " length:48\n",
      " length:48\n",
      "Cloned Voice Generated!\n"
     ]
    },
    {
     "name": "stderr",
     "output_type": "stream",
     "text": [
      "/opt/anaconda3/envs/openvoice/lib/python3.9/site-packages/torch/nn/utils/weight_norm.py:28: UserWarning: torch.nn.utils.weight_norm is deprecated in favor of torch.nn.utils.parametrizations.weight_norm.\n",
      "  warnings.warn(\"torch.nn.utils.weight_norm is deprecated in favor of torch.nn.utils.parametrizations.weight_norm.\")\n"
     ]
    },
    {
     "name": "stdout",
     "output_type": "stream",
     "text": [
      "Loaded checkpoint 'checkpoints/base_speakers/EN/checkpoint.pth'\n",
      "missing/unexpected keys: [] []\n",
      "Loaded checkpoint 'checkpoints/converter/checkpoint.pth'\n",
      "missing/unexpected keys: [] []\n",
      "OpenVoice version: v1\n",
      "[(0.0, 9.152)]\n",
      "after vad: dur = 9.152\n",
      " > Text splitted to sentences.\n",
      "In the end, it's not the years in your life that count.\n",
      "It's the life in your years. - Abraham Lincoln\n",
      " > ===========================\n",
      "ɪn ðə ɛnd, ɪts nɑt ðə jɪɹz ɪn jʊɹ laɪf ðət kaʊnt.\n",
      " length:49\n",
      " length:49\n",
      "ɪts ðə laɪf ɪn jʊɹ jɪɹz. ˈeɪbɹəˌhæm ˈlɪŋkən.\n",
      " length:44\n",
      " length:44\n",
      "Cloned Voice Generated!\n"
     ]
    },
    {
     "name": "stderr",
     "output_type": "stream",
     "text": [
      "/opt/anaconda3/envs/openvoice/lib/python3.9/site-packages/torch/nn/utils/weight_norm.py:28: UserWarning: torch.nn.utils.weight_norm is deprecated in favor of torch.nn.utils.parametrizations.weight_norm.\n",
      "  warnings.warn(\"torch.nn.utils.weight_norm is deprecated in favor of torch.nn.utils.parametrizations.weight_norm.\")\n"
     ]
    },
    {
     "name": "stdout",
     "output_type": "stream",
     "text": [
      "Loaded checkpoint 'checkpoints/base_speakers/EN/checkpoint.pth'\n",
      "missing/unexpected keys: [] []\n",
      "Loaded checkpoint 'checkpoints/converter/checkpoint.pth'\n",
      "missing/unexpected keys: [] []\n",
      "OpenVoice version: v1\n",
      "[(0.0, 9.152)]\n",
      "after vad: dur = 9.152\n",
      " > Text splitted to sentences.\n",
      "In the end, it's not the years in your life that count.\n",
      "It's the life in your years. - Abraham Lincoln\n",
      " > ===========================\n",
      "ɪn ðə ɛnd, ɪts nɑt ðə jɪɹz ɪn jʊɹ laɪf ðət kaʊnt.\n",
      " length:49\n",
      " length:49\n",
      "ɪts ðə laɪf ɪn jʊɹ jɪɹz. ˈeɪbɹəˌhæm ˈlɪŋkən.\n",
      " length:44\n",
      " length:44\n",
      "Cloned Voice Generated!\n"
     ]
    },
    {
     "name": "stderr",
     "output_type": "stream",
     "text": [
      "/opt/anaconda3/envs/openvoice/lib/python3.9/site-packages/torch/nn/utils/weight_norm.py:28: UserWarning: torch.nn.utils.weight_norm is deprecated in favor of torch.nn.utils.parametrizations.weight_norm.\n",
      "  warnings.warn(\"torch.nn.utils.weight_norm is deprecated in favor of torch.nn.utils.parametrizations.weight_norm.\")\n"
     ]
    },
    {
     "name": "stdout",
     "output_type": "stream",
     "text": [
      "Loaded checkpoint 'checkpoints/base_speakers/EN/checkpoint.pth'\n",
      "missing/unexpected keys: [] []\n",
      "Loaded checkpoint 'checkpoints/converter/checkpoint.pth'\n",
      "missing/unexpected keys: [] []\n",
      "OpenVoice version: v1\n",
      "[(0.0, 9.152)]\n",
      "after vad: dur = 9.152\n",
      " > Text splitted to sentences.\n",
      "In the end, it's not the years in your life that count.\n",
      "It's the life in your years. - Abraham Lincoln\n",
      " > ===========================\n",
      "ɪn ðə ɛnd, ɪts nɑt ðə jɪɹz ɪn jʊɹ laɪf ðət kaʊnt.\n",
      " length:49\n",
      " length:49\n",
      "ɪts ðə laɪf ɪn jʊɹ jɪɹz. ˈeɪbɹəˌhæm ˈlɪŋkən.\n",
      " length:44\n",
      " length:44\n",
      "Cloned Voice Generated!\n"
     ]
    },
    {
     "name": "stderr",
     "output_type": "stream",
     "text": [
      "/opt/anaconda3/envs/openvoice/lib/python3.9/site-packages/torch/nn/utils/weight_norm.py:28: UserWarning: torch.nn.utils.weight_norm is deprecated in favor of torch.nn.utils.parametrizations.weight_norm.\n",
      "  warnings.warn(\"torch.nn.utils.weight_norm is deprecated in favor of torch.nn.utils.parametrizations.weight_norm.\")\n"
     ]
    },
    {
     "name": "stdout",
     "output_type": "stream",
     "text": [
      "Loaded checkpoint 'checkpoints/base_speakers/EN/checkpoint.pth'\n",
      "missing/unexpected keys: [] []\n",
      "Loaded checkpoint 'checkpoints/converter/checkpoint.pth'\n",
      "missing/unexpected keys: [] []\n",
      "OpenVoice version: v1\n",
      "[(0.0, 9.152)]\n",
      "after vad: dur = 9.152\n",
      " > Text splitted to sentences.\n",
      "In the end, it's not the years in your life that count.\n",
      "It's the life in your years. - Abraham Lincoln\n",
      " > ===========================\n",
      "ɪn ðə ɛnd, ɪts nɑt ðə jɪɹz ɪn jʊɹ laɪf ðət kaʊnt.\n",
      " length:49\n",
      " length:49\n",
      "ɪts ðə laɪf ɪn jʊɹ jɪɹz. ˈeɪbɹəˌhæm ˈlɪŋkən.\n",
      " length:44\n",
      " length:44\n",
      "Cloned Voice Generated!\n"
     ]
    },
    {
     "name": "stderr",
     "output_type": "stream",
     "text": [
      "/opt/anaconda3/envs/openvoice/lib/python3.9/site-packages/torch/nn/utils/weight_norm.py:28: UserWarning: torch.nn.utils.weight_norm is deprecated in favor of torch.nn.utils.parametrizations.weight_norm.\n",
      "  warnings.warn(\"torch.nn.utils.weight_norm is deprecated in favor of torch.nn.utils.parametrizations.weight_norm.\")\n"
     ]
    },
    {
     "name": "stdout",
     "output_type": "stream",
     "text": [
      "Loaded checkpoint 'checkpoints/base_speakers/EN/checkpoint.pth'\n",
      "missing/unexpected keys: [] []\n",
      "Loaded checkpoint 'checkpoints/converter/checkpoint.pth'\n",
      "missing/unexpected keys: [] []\n",
      "OpenVoice version: v1\n",
      "[(0.0, 9.152)]\n",
      "after vad: dur = 9.152\n",
      " > Text splitted to sentences.\n",
      "In the end, it's not the years in your life that count.\n",
      "It's the life in your years. - Abraham Lincoln\n",
      " > ===========================\n",
      "ɪn ðə ɛnd, ɪts nɑt ðə jɪɹz ɪn jʊɹ laɪf ðət kaʊnt.\n",
      " length:49\n",
      " length:49\n",
      "ɪts ðə laɪf ɪn jʊɹ jɪɹz. ˈeɪbɹəˌhæm ˈlɪŋkən.\n",
      " length:44\n",
      " length:44\n",
      "Cloned Voice Generated!\n"
     ]
    },
    {
     "name": "stderr",
     "output_type": "stream",
     "text": [
      "/opt/anaconda3/envs/openvoice/lib/python3.9/site-packages/torch/nn/utils/weight_norm.py:28: UserWarning: torch.nn.utils.weight_norm is deprecated in favor of torch.nn.utils.parametrizations.weight_norm.\n",
      "  warnings.warn(\"torch.nn.utils.weight_norm is deprecated in favor of torch.nn.utils.parametrizations.weight_norm.\")\n"
     ]
    },
    {
     "name": "stdout",
     "output_type": "stream",
     "text": [
      "Loaded checkpoint 'checkpoints/base_speakers/EN/checkpoint.pth'\n",
      "missing/unexpected keys: [] []\n",
      "Loaded checkpoint 'checkpoints/converter/checkpoint.pth'\n",
      "missing/unexpected keys: [] []\n",
      "OpenVoice version: v1\n",
      "[(0.0, 9.152)]\n",
      "after vad: dur = 9.152\n",
      " > Text splitted to sentences.\n",
      "The quick brown fox jumps over the lazy dog, and the clever red squirrel gathers acorns for the winter.\n",
      "Meanwhile, the majestic eagle soars high above the treetops, surveying the vast landscape below.\n",
      "In the distance, a herd of graceful deer graze peacefully in the lush green meadow,\n",
      "as a babbling brook winds its way through the tranquil forest.\n",
      " > ===========================\n",
      "ðə kwɪk bɹaʊn fɑks dʒəmps ˈoʊvəɹ ðə ˈleɪzi dɔg, ənd ðə ˈklɛvəɹ ɹɛd skwəɹəɫ ˈgæðəɹz ˈeɪkɔɹnz fəɹ ðə ˈwɪntəɹ.\n",
      " length:107\n",
      " length:107\n",
      "ˈminˌwaɪɫ, ðə məˈdʒɛstɪk ˈigəɫ sɔɹz haɪ əˈbəv ðə ˈtɹiˌtɔps, ˈsəɹˌveɪɪŋ ðə væst ˈlænˌskeɪp bɪˈloʊ.\n",
      " length:97\n",
      " length:97\n",
      "ɪn ðə ˈdɪstəns, ə həɹd əv ˈgɹeɪsfəɫ dɪɹ gɹeɪz ˈpisfəli ɪn ðə ləʃ gɹin ˈmɛˌdoʊ,\n",
      " length:78\n",
      " length:78\n",
      "ɛz ə ˈbæbəlɪŋ bɹʊk wɪndz ɪts weɪ θɹu ðə ˈtɹæŋkwɪɫ ˈfɔɹɪst.\n",
      " length:58\n",
      " length:58\n",
      "Cloned Voice Generated!\n"
     ]
    },
    {
     "name": "stderr",
     "output_type": "stream",
     "text": [
      "/opt/anaconda3/envs/openvoice/lib/python3.9/site-packages/torch/nn/utils/weight_norm.py:28: UserWarning: torch.nn.utils.weight_norm is deprecated in favor of torch.nn.utils.parametrizations.weight_norm.\n",
      "  warnings.warn(\"torch.nn.utils.weight_norm is deprecated in favor of torch.nn.utils.parametrizations.weight_norm.\")\n"
     ]
    },
    {
     "name": "stdout",
     "output_type": "stream",
     "text": [
      "Loaded checkpoint 'checkpoints/base_speakers/EN/checkpoint.pth'\n",
      "missing/unexpected keys: [] []\n",
      "Loaded checkpoint 'checkpoints/converter/checkpoint.pth'\n",
      "missing/unexpected keys: [] []\n",
      "OpenVoice version: v1\n",
      "[(0.0, 9.152)]\n",
      "after vad: dur = 9.152\n",
      " > Text splitted to sentences.\n",
      "The quick brown fox jumps over the lazy dog, and the clever red squirrel gathers acorns for the winter.\n",
      "Meanwhile, the majestic eagle soars high above the treetops, surveying the vast landscape below.\n",
      "In the distance, a herd of graceful deer graze peacefully in the lush green meadow,\n",
      "as a babbling brook winds its way through the tranquil forest.\n",
      " > ===========================\n",
      "ðə kwɪk bɹaʊn fɑks dʒəmps ˈoʊvəɹ ðə ˈleɪzi dɔg, ənd ðə ˈklɛvəɹ ɹɛd skwəɹəɫ ˈgæðəɹz ˈeɪkɔɹnz fəɹ ðə ˈwɪntəɹ.\n",
      " length:107\n",
      " length:107\n",
      "ˈminˌwaɪɫ, ðə məˈdʒɛstɪk ˈigəɫ sɔɹz haɪ əˈbəv ðə ˈtɹiˌtɔps, ˈsəɹˌveɪɪŋ ðə væst ˈlænˌskeɪp bɪˈloʊ.\n",
      " length:97\n",
      " length:97\n",
      "ɪn ðə ˈdɪstəns, ə həɹd əv ˈgɹeɪsfəɫ dɪɹ gɹeɪz ˈpisfəli ɪn ðə ləʃ gɹin ˈmɛˌdoʊ,\n",
      " length:78\n",
      " length:78\n",
      "ɛz ə ˈbæbəlɪŋ bɹʊk wɪndz ɪts weɪ θɹu ðə ˈtɹæŋkwɪɫ ˈfɔɹɪst.\n",
      " length:58\n",
      " length:58\n",
      "Cloned Voice Generated!\n"
     ]
    },
    {
     "name": "stderr",
     "output_type": "stream",
     "text": [
      "/opt/anaconda3/envs/openvoice/lib/python3.9/site-packages/torch/nn/utils/weight_norm.py:28: UserWarning: torch.nn.utils.weight_norm is deprecated in favor of torch.nn.utils.parametrizations.weight_norm.\n",
      "  warnings.warn(\"torch.nn.utils.weight_norm is deprecated in favor of torch.nn.utils.parametrizations.weight_norm.\")\n"
     ]
    },
    {
     "name": "stdout",
     "output_type": "stream",
     "text": [
      "Loaded checkpoint 'checkpoints/base_speakers/EN/checkpoint.pth'\n",
      "missing/unexpected keys: [] []\n",
      "Loaded checkpoint 'checkpoints/converter/checkpoint.pth'\n",
      "missing/unexpected keys: [] []\n",
      "OpenVoice version: v1\n",
      "[(0.0, 9.152)]\n",
      "after vad: dur = 9.152\n",
      " > Text splitted to sentences.\n",
      "The quick brown fox jumps over the lazy dog, and the clever red squirrel gathers acorns for the winter.\n",
      "Meanwhile, the majestic eagle soars high above the treetops, surveying the vast landscape below.\n",
      "In the distance, a herd of graceful deer graze peacefully in the lush green meadow,\n",
      "as a babbling brook winds its way through the tranquil forest.\n",
      " > ===========================\n",
      "ðə kwɪk bɹaʊn fɑks dʒəmps ˈoʊvəɹ ðə ˈleɪzi dɔg, ənd ðə ˈklɛvəɹ ɹɛd skwəɹəɫ ˈgæðəɹz ˈeɪkɔɹnz fəɹ ðə ˈwɪntəɹ.\n",
      " length:107\n",
      " length:107\n",
      "ˈminˌwaɪɫ, ðə məˈdʒɛstɪk ˈigəɫ sɔɹz haɪ əˈbəv ðə ˈtɹiˌtɔps, ˈsəɹˌveɪɪŋ ðə væst ˈlænˌskeɪp bɪˈloʊ.\n",
      " length:97\n",
      " length:97\n",
      "ɪn ðə ˈdɪstəns, ə həɹd əv ˈgɹeɪsfəɫ dɪɹ gɹeɪz ˈpisfəli ɪn ðə ləʃ gɹin ˈmɛˌdoʊ,\n",
      " length:78\n",
      " length:78\n",
      "ɛz ə ˈbæbəlɪŋ bɹʊk wɪndz ɪts weɪ θɹu ðə ˈtɹæŋkwɪɫ ˈfɔɹɪst.\n",
      " length:58\n",
      " length:58\n",
      "Cloned Voice Generated!\n"
     ]
    },
    {
     "name": "stderr",
     "output_type": "stream",
     "text": [
      "/opt/anaconda3/envs/openvoice/lib/python3.9/site-packages/torch/nn/utils/weight_norm.py:28: UserWarning: torch.nn.utils.weight_norm is deprecated in favor of torch.nn.utils.parametrizations.weight_norm.\n",
      "  warnings.warn(\"torch.nn.utils.weight_norm is deprecated in favor of torch.nn.utils.parametrizations.weight_norm.\")\n"
     ]
    },
    {
     "name": "stdout",
     "output_type": "stream",
     "text": [
      "Loaded checkpoint 'checkpoints/base_speakers/EN/checkpoint.pth'\n",
      "missing/unexpected keys: [] []\n",
      "Loaded checkpoint 'checkpoints/converter/checkpoint.pth'\n",
      "missing/unexpected keys: [] []\n",
      "OpenVoice version: v1\n",
      "[(0.0, 9.152)]\n",
      "after vad: dur = 9.152\n",
      " > Text splitted to sentences.\n",
      "The quick brown fox jumps over the lazy dog, and the clever red squirrel gathers acorns for the winter.\n",
      "Meanwhile, the majestic eagle soars high above the treetops, surveying the vast landscape below.\n",
      "In the distance, a herd of graceful deer graze peacefully in the lush green meadow,\n",
      "as a babbling brook winds its way through the tranquil forest.\n",
      " > ===========================\n",
      "ðə kwɪk bɹaʊn fɑks dʒəmps ˈoʊvəɹ ðə ˈleɪzi dɔg, ənd ðə ˈklɛvəɹ ɹɛd skwəɹəɫ ˈgæðəɹz ˈeɪkɔɹnz fəɹ ðə ˈwɪntəɹ.\n",
      " length:107\n",
      " length:107\n",
      "ˈminˌwaɪɫ, ðə məˈdʒɛstɪk ˈigəɫ sɔɹz haɪ əˈbəv ðə ˈtɹiˌtɔps, ˈsəɹˌveɪɪŋ ðə væst ˈlænˌskeɪp bɪˈloʊ.\n",
      " length:97\n",
      " length:97\n",
      "ɪn ðə ˈdɪstəns, ə həɹd əv ˈgɹeɪsfəɫ dɪɹ gɹeɪz ˈpisfəli ɪn ðə ləʃ gɹin ˈmɛˌdoʊ,\n",
      " length:78\n",
      " length:78\n",
      "ɛz ə ˈbæbəlɪŋ bɹʊk wɪndz ɪts weɪ θɹu ðə ˈtɹæŋkwɪɫ ˈfɔɹɪst.\n",
      " length:58\n",
      " length:58\n",
      "Cloned Voice Generated!\n"
     ]
    },
    {
     "name": "stderr",
     "output_type": "stream",
     "text": [
      "/opt/anaconda3/envs/openvoice/lib/python3.9/site-packages/torch/nn/utils/weight_norm.py:28: UserWarning: torch.nn.utils.weight_norm is deprecated in favor of torch.nn.utils.parametrizations.weight_norm.\n",
      "  warnings.warn(\"torch.nn.utils.weight_norm is deprecated in favor of torch.nn.utils.parametrizations.weight_norm.\")\n"
     ]
    },
    {
     "name": "stdout",
     "output_type": "stream",
     "text": [
      "Loaded checkpoint 'checkpoints/base_speakers/EN/checkpoint.pth'\n",
      "missing/unexpected keys: [] []\n",
      "Loaded checkpoint 'checkpoints/converter/checkpoint.pth'\n",
      "missing/unexpected keys: [] []\n",
      "OpenVoice version: v1\n",
      "[(0.0, 9.152)]\n",
      "after vad: dur = 9.152\n",
      " > Text splitted to sentences.\n",
      "The quick brown fox jumps over the lazy dog, and the clever red squirrel gathers acorns for the winter.\n",
      "Meanwhile, the majestic eagle soars high above the treetops, surveying the vast landscape below.\n",
      "In the distance, a herd of graceful deer graze peacefully in the lush green meadow,\n",
      "as a babbling brook winds its way through the tranquil forest.\n",
      " > ===========================\n",
      "ðə kwɪk bɹaʊn fɑks dʒəmps ˈoʊvəɹ ðə ˈleɪzi dɔg, ənd ðə ˈklɛvəɹ ɹɛd skwəɹəɫ ˈgæðəɹz ˈeɪkɔɹnz fəɹ ðə ˈwɪntəɹ.\n",
      " length:107\n",
      " length:107\n",
      "ˈminˌwaɪɫ, ðə məˈdʒɛstɪk ˈigəɫ sɔɹz haɪ əˈbəv ðə ˈtɹiˌtɔps, ˈsəɹˌveɪɪŋ ðə væst ˈlænˌskeɪp bɪˈloʊ.\n",
      " length:97\n",
      " length:97\n",
      "ɪn ðə ˈdɪstəns, ə həɹd əv ˈgɹeɪsfəɫ dɪɹ gɹeɪz ˈpisfəli ɪn ðə ləʃ gɹin ˈmɛˌdoʊ,\n",
      " length:78\n",
      " length:78\n",
      "ɛz ə ˈbæbəlɪŋ bɹʊk wɪndz ɪts weɪ θɹu ðə ˈtɹæŋkwɪɫ ˈfɔɹɪst.\n",
      " length:58\n",
      " length:58\n",
      "Cloned Voice Generated!\n"
     ]
    },
    {
     "name": "stderr",
     "output_type": "stream",
     "text": [
      "/opt/anaconda3/envs/openvoice/lib/python3.9/site-packages/torch/nn/utils/weight_norm.py:28: UserWarning: torch.nn.utils.weight_norm is deprecated in favor of torch.nn.utils.parametrizations.weight_norm.\n",
      "  warnings.warn(\"torch.nn.utils.weight_norm is deprecated in favor of torch.nn.utils.parametrizations.weight_norm.\")\n"
     ]
    },
    {
     "name": "stdout",
     "output_type": "stream",
     "text": [
      "Loaded checkpoint 'checkpoints/base_speakers/EN/checkpoint.pth'\n",
      "missing/unexpected keys: [] []\n",
      "Loaded checkpoint 'checkpoints/converter/checkpoint.pth'\n",
      "missing/unexpected keys: [] []\n",
      "OpenVoice version: v1\n",
      "[(0.0, 9.152)]\n",
      "after vad: dur = 9.152\n",
      " > Text splitted to sentences.\n",
      "We all have two lives. The second one starts when we realize we only have one.\n",
      "It's never too late to become the person you've always wanted to be.\n",
      "Embrace change, take chances, and never stop learning. Life is too short to waste time on things that don't matter.\n",
      "Surround yourself with people who lift you up, and cherish the moments you have with them.\n",
      "Remember, happiness is a choice, not a destination. Wake up each day with a grateful heart and a determination to make a difference,\n",
      "no matter how small. Your story is unique, and it's up to you to make it a great one.\n",
      " > ===========================\n",
      "wi ɔɫ hæv tu lɪvz. ðə ˈsɛkənd wən stɑɹts wɪn wi ˈɹiəˌlaɪz wi ˈoʊnli hæv wən.\n",
      " length:76\n",
      " length:76\n",
      "ɪts ˈnɛvəɹ tu leɪt tɪ bɪˈkəm ðə ˈpəɹsən juv ˈɔlˌweɪz ˈwɔntɪd tɪ bi.\n",
      " length:67\n",
      " length:67\n",
      "ɪmˈbɹeɪs tʃeɪndʒ, teɪk ˈtʃænsɪz, ənd ˈnɛvəɹ stɑp ˈləɹnɪŋ. laɪf ɪz tu ʃɔɹt tɪ weɪst taɪm ɔn θɪŋz ðət doʊnt ˈmætəɹ.\n",
      " length:113\n",
      " length:113\n",
      "səɹaʊnd ˈjɔɹsɛɫf wɪθ ˈpipəɫ hu lɪft ju əp, ənd ˈtʃɛɹɪʃ ðə ˈmoʊmənts ju hæv wɪθ ðɛm.\n",
      " length:83\n",
      " length:83\n",
      "ɹɪˈmɛmbəɹ, ˈhæpinəs ɪz ə tʃɔɪs, nɑt ə ˌdɛstɪˈneɪʃən. weɪk əp itʃ deɪ wɪθ ə ˈgɹeɪtfəɫ hɑɹt ənd ə dɪˌtəɹməˈneɪʃən tɪ meɪk ə ˈdɪfəɹəns,\n",
      " length:132\n",
      " length:132\n",
      "noʊ ˈmætəɹ haʊ smɔɫ. jʊɹ ˈstɔɹi ɪz juˈnik, ənd ɪts əp tɪ ju tɪ meɪk ɪt ə gɹeɪt wən.\n",
      " length:83\n",
      " length:83\n",
      "Cloned Voice Generated!\n"
     ]
    },
    {
     "name": "stderr",
     "output_type": "stream",
     "text": [
      "/opt/anaconda3/envs/openvoice/lib/python3.9/site-packages/torch/nn/utils/weight_norm.py:28: UserWarning: torch.nn.utils.weight_norm is deprecated in favor of torch.nn.utils.parametrizations.weight_norm.\n",
      "  warnings.warn(\"torch.nn.utils.weight_norm is deprecated in favor of torch.nn.utils.parametrizations.weight_norm.\")\n"
     ]
    },
    {
     "name": "stdout",
     "output_type": "stream",
     "text": [
      "Loaded checkpoint 'checkpoints/base_speakers/EN/checkpoint.pth'\n",
      "missing/unexpected keys: [] []\n",
      "Loaded checkpoint 'checkpoints/converter/checkpoint.pth'\n",
      "missing/unexpected keys: [] []\n",
      "OpenVoice version: v1\n",
      "[(0.0, 9.152)]\n",
      "after vad: dur = 9.152\n",
      " > Text splitted to sentences.\n",
      "We all have two lives. The second one starts when we realize we only have one.\n",
      "It's never too late to become the person you've always wanted to be.\n",
      "Embrace change, take chances, and never stop learning. Life is too short to waste time on things that don't matter.\n",
      "Surround yourself with people who lift you up, and cherish the moments you have with them.\n",
      "Remember, happiness is a choice, not a destination. Wake up each day with a grateful heart and a determination to make a difference,\n",
      "no matter how small. Your story is unique, and it's up to you to make it a great one.\n",
      " > ===========================\n",
      "wi ɔɫ hæv tu lɪvz. ðə ˈsɛkənd wən stɑɹts wɪn wi ˈɹiəˌlaɪz wi ˈoʊnli hæv wən.\n",
      " length:76\n",
      " length:76\n",
      "ɪts ˈnɛvəɹ tu leɪt tɪ bɪˈkəm ðə ˈpəɹsən juv ˈɔlˌweɪz ˈwɔntɪd tɪ bi.\n",
      " length:67\n",
      " length:67\n",
      "ɪmˈbɹeɪs tʃeɪndʒ, teɪk ˈtʃænsɪz, ənd ˈnɛvəɹ stɑp ˈləɹnɪŋ. laɪf ɪz tu ʃɔɹt tɪ weɪst taɪm ɔn θɪŋz ðət doʊnt ˈmætəɹ.\n",
      " length:113\n",
      " length:113\n",
      "səɹaʊnd ˈjɔɹsɛɫf wɪθ ˈpipəɫ hu lɪft ju əp, ənd ˈtʃɛɹɪʃ ðə ˈmoʊmənts ju hæv wɪθ ðɛm.\n",
      " length:83\n",
      " length:83\n",
      "ɹɪˈmɛmbəɹ, ˈhæpinəs ɪz ə tʃɔɪs, nɑt ə ˌdɛstɪˈneɪʃən. weɪk əp itʃ deɪ wɪθ ə ˈgɹeɪtfəɫ hɑɹt ənd ə dɪˌtəɹməˈneɪʃən tɪ meɪk ə ˈdɪfəɹəns,\n",
      " length:132\n",
      " length:132\n",
      "noʊ ˈmætəɹ haʊ smɔɫ. jʊɹ ˈstɔɹi ɪz juˈnik, ənd ɪts əp tɪ ju tɪ meɪk ɪt ə gɹeɪt wən.\n",
      " length:83\n",
      " length:83\n",
      "Cloned Voice Generated!\n"
     ]
    },
    {
     "name": "stderr",
     "output_type": "stream",
     "text": [
      "/opt/anaconda3/envs/openvoice/lib/python3.9/site-packages/torch/nn/utils/weight_norm.py:28: UserWarning: torch.nn.utils.weight_norm is deprecated in favor of torch.nn.utils.parametrizations.weight_norm.\n",
      "  warnings.warn(\"torch.nn.utils.weight_norm is deprecated in favor of torch.nn.utils.parametrizations.weight_norm.\")\n"
     ]
    },
    {
     "name": "stdout",
     "output_type": "stream",
     "text": [
      "Loaded checkpoint 'checkpoints/base_speakers/EN/checkpoint.pth'\n",
      "missing/unexpected keys: [] []\n",
      "Loaded checkpoint 'checkpoints/converter/checkpoint.pth'\n",
      "missing/unexpected keys: [] []\n",
      "OpenVoice version: v1\n",
      "[(0.0, 9.152)]\n",
      "after vad: dur = 9.152\n",
      " > Text splitted to sentences.\n",
      "We all have two lives. The second one starts when we realize we only have one.\n",
      "It's never too late to become the person you've always wanted to be.\n",
      "Embrace change, take chances, and never stop learning. Life is too short to waste time on things that don't matter.\n",
      "Surround yourself with people who lift you up, and cherish the moments you have with them.\n",
      "Remember, happiness is a choice, not a destination. Wake up each day with a grateful heart and a determination to make a difference,\n",
      "no matter how small. Your story is unique, and it's up to you to make it a great one.\n",
      " > ===========================\n",
      "wi ɔɫ hæv tu lɪvz. ðə ˈsɛkənd wən stɑɹts wɪn wi ˈɹiəˌlaɪz wi ˈoʊnli hæv wən.\n",
      " length:76\n",
      " length:76\n",
      "ɪts ˈnɛvəɹ tu leɪt tɪ bɪˈkəm ðə ˈpəɹsən juv ˈɔlˌweɪz ˈwɔntɪd tɪ bi.\n",
      " length:67\n",
      " length:67\n",
      "ɪmˈbɹeɪs tʃeɪndʒ, teɪk ˈtʃænsɪz, ənd ˈnɛvəɹ stɑp ˈləɹnɪŋ. laɪf ɪz tu ʃɔɹt tɪ weɪst taɪm ɔn θɪŋz ðət doʊnt ˈmætəɹ.\n",
      " length:113\n",
      " length:113\n",
      "səɹaʊnd ˈjɔɹsɛɫf wɪθ ˈpipəɫ hu lɪft ju əp, ənd ˈtʃɛɹɪʃ ðə ˈmoʊmənts ju hæv wɪθ ðɛm.\n",
      " length:83\n",
      " length:83\n",
      "ɹɪˈmɛmbəɹ, ˈhæpinəs ɪz ə tʃɔɪs, nɑt ə ˌdɛstɪˈneɪʃən. weɪk əp itʃ deɪ wɪθ ə ˈgɹeɪtfəɫ hɑɹt ənd ə dɪˌtəɹməˈneɪʃən tɪ meɪk ə ˈdɪfəɹəns,\n",
      " length:132\n",
      " length:132\n",
      "noʊ ˈmætəɹ haʊ smɔɫ. jʊɹ ˈstɔɹi ɪz juˈnik, ənd ɪts əp tɪ ju tɪ meɪk ɪt ə gɹeɪt wən.\n",
      " length:83\n",
      " length:83\n",
      "Cloned Voice Generated!\n"
     ]
    },
    {
     "name": "stderr",
     "output_type": "stream",
     "text": [
      "/opt/anaconda3/envs/openvoice/lib/python3.9/site-packages/torch/nn/utils/weight_norm.py:28: UserWarning: torch.nn.utils.weight_norm is deprecated in favor of torch.nn.utils.parametrizations.weight_norm.\n",
      "  warnings.warn(\"torch.nn.utils.weight_norm is deprecated in favor of torch.nn.utils.parametrizations.weight_norm.\")\n"
     ]
    },
    {
     "name": "stdout",
     "output_type": "stream",
     "text": [
      "Loaded checkpoint 'checkpoints/base_speakers/EN/checkpoint.pth'\n",
      "missing/unexpected keys: [] []\n",
      "Loaded checkpoint 'checkpoints/converter/checkpoint.pth'\n",
      "missing/unexpected keys: [] []\n",
      "OpenVoice version: v1\n",
      "[(0.0, 9.152)]\n",
      "after vad: dur = 9.152\n",
      " > Text splitted to sentences.\n",
      "We all have two lives. The second one starts when we realize we only have one.\n",
      "It's never too late to become the person you've always wanted to be.\n",
      "Embrace change, take chances, and never stop learning. Life is too short to waste time on things that don't matter.\n",
      "Surround yourself with people who lift you up, and cherish the moments you have with them.\n",
      "Remember, happiness is a choice, not a destination. Wake up each day with a grateful heart and a determination to make a difference,\n",
      "no matter how small. Your story is unique, and it's up to you to make it a great one.\n",
      " > ===========================\n",
      "wi ɔɫ hæv tu lɪvz. ðə ˈsɛkənd wən stɑɹts wɪn wi ˈɹiəˌlaɪz wi ˈoʊnli hæv wən.\n",
      " length:76\n",
      " length:76\n",
      "ɪts ˈnɛvəɹ tu leɪt tɪ bɪˈkəm ðə ˈpəɹsən juv ˈɔlˌweɪz ˈwɔntɪd tɪ bi.\n",
      " length:67\n",
      " length:67\n",
      "ɪmˈbɹeɪs tʃeɪndʒ, teɪk ˈtʃænsɪz, ənd ˈnɛvəɹ stɑp ˈləɹnɪŋ. laɪf ɪz tu ʃɔɹt tɪ weɪst taɪm ɔn θɪŋz ðət doʊnt ˈmætəɹ.\n",
      " length:113\n",
      " length:113\n",
      "səɹaʊnd ˈjɔɹsɛɫf wɪθ ˈpipəɫ hu lɪft ju əp, ənd ˈtʃɛɹɪʃ ðə ˈmoʊmənts ju hæv wɪθ ðɛm.\n",
      " length:83\n",
      " length:83\n",
      "ɹɪˈmɛmbəɹ, ˈhæpinəs ɪz ə tʃɔɪs, nɑt ə ˌdɛstɪˈneɪʃən. weɪk əp itʃ deɪ wɪθ ə ˈgɹeɪtfəɫ hɑɹt ənd ə dɪˌtəɹməˈneɪʃən tɪ meɪk ə ˈdɪfəɹəns,\n",
      " length:132\n",
      " length:132\n",
      "noʊ ˈmætəɹ haʊ smɔɫ. jʊɹ ˈstɔɹi ɪz juˈnik, ənd ɪts əp tɪ ju tɪ meɪk ɪt ə gɹeɪt wən.\n",
      " length:83\n",
      " length:83\n",
      "Cloned Voice Generated!\n"
     ]
    },
    {
     "name": "stderr",
     "output_type": "stream",
     "text": [
      "/opt/anaconda3/envs/openvoice/lib/python3.9/site-packages/torch/nn/utils/weight_norm.py:28: UserWarning: torch.nn.utils.weight_norm is deprecated in favor of torch.nn.utils.parametrizations.weight_norm.\n",
      "  warnings.warn(\"torch.nn.utils.weight_norm is deprecated in favor of torch.nn.utils.parametrizations.weight_norm.\")\n"
     ]
    },
    {
     "name": "stdout",
     "output_type": "stream",
     "text": [
      "Loaded checkpoint 'checkpoints/base_speakers/EN/checkpoint.pth'\n",
      "missing/unexpected keys: [] []\n",
      "Loaded checkpoint 'checkpoints/converter/checkpoint.pth'\n",
      "missing/unexpected keys: [] []\n",
      "OpenVoice version: v1\n",
      "[(0.0, 9.152)]\n",
      "after vad: dur = 9.152\n",
      " > Text splitted to sentences.\n",
      "We all have two lives. The second one starts when we realize we only have one.\n",
      "It's never too late to become the person you've always wanted to be.\n",
      "Embrace change, take chances, and never stop learning. Life is too short to waste time on things that don't matter.\n",
      "Surround yourself with people who lift you up, and cherish the moments you have with them.\n",
      "Remember, happiness is a choice, not a destination. Wake up each day with a grateful heart and a determination to make a difference,\n",
      "no matter how small. Your story is unique, and it's up to you to make it a great one.\n",
      " > ===========================\n",
      "wi ɔɫ hæv tu lɪvz. ðə ˈsɛkənd wən stɑɹts wɪn wi ˈɹiəˌlaɪz wi ˈoʊnli hæv wən.\n",
      " length:76\n",
      " length:76\n",
      "ɪts ˈnɛvəɹ tu leɪt tɪ bɪˈkəm ðə ˈpəɹsən juv ˈɔlˌweɪz ˈwɔntɪd tɪ bi.\n",
      " length:67\n",
      " length:67\n",
      "ɪmˈbɹeɪs tʃeɪndʒ, teɪk ˈtʃænsɪz, ənd ˈnɛvəɹ stɑp ˈləɹnɪŋ. laɪf ɪz tu ʃɔɹt tɪ weɪst taɪm ɔn θɪŋz ðət doʊnt ˈmætəɹ.\n",
      " length:113\n",
      " length:113\n",
      "səɹaʊnd ˈjɔɹsɛɫf wɪθ ˈpipəɫ hu lɪft ju əp, ənd ˈtʃɛɹɪʃ ðə ˈmoʊmənts ju hæv wɪθ ðɛm.\n",
      " length:83\n",
      " length:83\n",
      "ɹɪˈmɛmbəɹ, ˈhæpinəs ɪz ə tʃɔɪs, nɑt ə ˌdɛstɪˈneɪʃən. weɪk əp itʃ deɪ wɪθ ə ˈgɹeɪtfəɫ hɑɹt ənd ə dɪˌtəɹməˈneɪʃən tɪ meɪk ə ˈdɪfəɹəns,\n",
      " length:132\n",
      " length:132\n",
      "noʊ ˈmætəɹ haʊ smɔɫ. jʊɹ ˈstɔɹi ɪz juˈnik, ənd ɪts əp tɪ ju tɪ meɪk ɪt ə gɹeɪt wən.\n",
      " length:83\n",
      " length:83\n",
      "Cloned Voice Generated!\n"
     ]
    },
    {
     "name": "stderr",
     "output_type": "stream",
     "text": [
      "/opt/anaconda3/envs/openvoice/lib/python3.9/site-packages/torch/nn/utils/weight_norm.py:28: UserWarning: torch.nn.utils.weight_norm is deprecated in favor of torch.nn.utils.parametrizations.weight_norm.\n",
      "  warnings.warn(\"torch.nn.utils.weight_norm is deprecated in favor of torch.nn.utils.parametrizations.weight_norm.\")\n"
     ]
    },
    {
     "name": "stdout",
     "output_type": "stream",
     "text": [
      "Loaded checkpoint 'checkpoints/base_speakers/EN/checkpoint.pth'\n",
      "missing/unexpected keys: [] []\n",
      "Loaded checkpoint 'checkpoints/converter/checkpoint.pth'\n",
      "missing/unexpected keys: [] []\n",
      "OpenVoice version: v1\n",
      "[(0.0, 9.152)]\n",
      "after vad: dur = 9.152\n",
      " > Text splitted to sentences.\n",
      "The sun peeked through the curtains, casting a warm glow across the room.\n",
      "She stirred, her eyes fluttering open as she stretched her arms above her head.\n",
      "It was a new day, full of promise and possibility. She smiled,\n",
      "thinking of all the things she wanted to accomplish. First on the list was a visit to her favorite café,\n",
      "where she would sip on a creamy latte and watch the world go by.\n",
      "Then, she would head to the park for a leisurely stroll,\n",
      "taking in the beauty of nature and breathing in the fresh air.\n",
      "In the afternoon, she planned to curl up with a good book,\n",
      "losing herself in the pages of a captivating story. As the day drew to a close,\n",
      "she would meet up with friends for dinner and laughter, sharing stories and making memories.\n",
      "It was a simple plan, but one that filled her with joy and contentment.\n",
      " > ===========================\n",
      "ðə sən pikt θɹu ðə ˈkəɹtənz, ˈkæstɪŋ ə wɔɹm gloʊ əˈkɹɔs ðə ɹum.\n",
      " length:63\n",
      " length:63\n",
      "ʃi stəɹd, həɹ aɪz ˈflətəɹɪŋ ˈoʊpən ɛz ʃi stɹɛtʃt həɹ ɑɹmz əˈbəv həɹ hɛd.\n",
      " length:72\n",
      " length:72\n",
      "ɪt wɑz ə nu deɪ, fʊɫ əv ˈpɹɑməs ənd ˌpɑsəˈbɪləˌti. ʃi smaɪɫd,\n",
      " length:61\n",
      " length:61\n",
      "ˈθɪŋkɪŋ əv ɔɫ ðə θɪŋz ʃi ˈwɔntɪd tɪ əˈkɑmplɪʃ. fəɹst ɔn ðə lɪst wɑz ə ˈvɪzɪt tɪ həɹ ˈfeɪvəɹɪt kəˈfeɪ,\n",
      " length:101\n",
      " length:101\n",
      "wɛɹ ʃi wʊd sɪp ɔn ə ˈkɹimi ˈlɑˌteɪ ənd wɔtʃ ðə wəɹɫd goʊ baɪ.\n",
      " length:61\n",
      " length:61\n",
      "ðɛn, ʃi wʊd hɛd tɪ ðə pɑɹk fəɹ ə ˈlizəɹli stɹoʊɫ,\n",
      " length:49\n",
      " length:49\n",
      "ˈteɪkɪŋ ɪn ðə ˈbjuti əv ˈneɪtʃəɹ ənd ˈbɹiðɪŋ ɪn ðə fɹɛʃ ɛɹ.\n",
      " length:59\n",
      " length:59\n",
      "ɪn ðə ˌæftəɹˈnun, ʃi plænd tɪ kəɹɫ əp wɪθ ə gʊd bʊk,\n",
      " length:52\n",
      " length:52\n",
      "ˈluzɪŋ həɹˈsɛɫf ɪn ðə ˈpeɪdʒɪz əv ə ˈkæptɪˌveɪtɪŋ ˈstɔɹi. ɛz ðə deɪ dɹu tɪ ə kloʊz,\n",
      " length:83\n",
      " length:83\n",
      "ʃi wʊd mit əp wɪθ fɹɛndz fəɹ ˈdɪnəɹ ənd ˈlæftəɹ, ˈʃɛɹɪŋ ˈstɔɹiz ənd ˈmeɪkɪŋ ˈmɛməɹiz.\n",
      " length:85\n",
      " length:85\n",
      "ɪt wɑz ə ˈsɪmpəɫ plæn, bət wən ðət fɪɫd həɹ wɪθ dʒɔɪ ənd kənˈtɛntmənt.\n",
      " length:70\n",
      " length:70\n",
      "Cloned Voice Generated!\n"
     ]
    },
    {
     "name": "stderr",
     "output_type": "stream",
     "text": [
      "/opt/anaconda3/envs/openvoice/lib/python3.9/site-packages/torch/nn/utils/weight_norm.py:28: UserWarning: torch.nn.utils.weight_norm is deprecated in favor of torch.nn.utils.parametrizations.weight_norm.\n",
      "  warnings.warn(\"torch.nn.utils.weight_norm is deprecated in favor of torch.nn.utils.parametrizations.weight_norm.\")\n"
     ]
    },
    {
     "name": "stdout",
     "output_type": "stream",
     "text": [
      "Loaded checkpoint 'checkpoints/base_speakers/EN/checkpoint.pth'\n",
      "missing/unexpected keys: [] []\n",
      "Loaded checkpoint 'checkpoints/converter/checkpoint.pth'\n",
      "missing/unexpected keys: [] []\n",
      "OpenVoice version: v1\n",
      "[(0.0, 9.152)]\n",
      "after vad: dur = 9.152\n",
      " > Text splitted to sentences.\n",
      "The sun peeked through the curtains, casting a warm glow across the room.\n",
      "She stirred, her eyes fluttering open as she stretched her arms above her head.\n",
      "It was a new day, full of promise and possibility. She smiled,\n",
      "thinking of all the things she wanted to accomplish. First on the list was a visit to her favorite café,\n",
      "where she would sip on a creamy latte and watch the world go by.\n",
      "Then, she would head to the park for a leisurely stroll,\n",
      "taking in the beauty of nature and breathing in the fresh air.\n",
      "In the afternoon, she planned to curl up with a good book,\n",
      "losing herself in the pages of a captivating story. As the day drew to a close,\n",
      "she would meet up with friends for dinner and laughter, sharing stories and making memories.\n",
      "It was a simple plan, but one that filled her with joy and contentment.\n",
      " > ===========================\n",
      "ðə sən pikt θɹu ðə ˈkəɹtənz, ˈkæstɪŋ ə wɔɹm gloʊ əˈkɹɔs ðə ɹum.\n",
      " length:63\n",
      " length:63\n",
      "ʃi stəɹd, həɹ aɪz ˈflətəɹɪŋ ˈoʊpən ɛz ʃi stɹɛtʃt həɹ ɑɹmz əˈbəv həɹ hɛd.\n",
      " length:72\n",
      " length:72\n",
      "ɪt wɑz ə nu deɪ, fʊɫ əv ˈpɹɑməs ənd ˌpɑsəˈbɪləˌti. ʃi smaɪɫd,\n",
      " length:61\n",
      " length:61\n",
      "ˈθɪŋkɪŋ əv ɔɫ ðə θɪŋz ʃi ˈwɔntɪd tɪ əˈkɑmplɪʃ. fəɹst ɔn ðə lɪst wɑz ə ˈvɪzɪt tɪ həɹ ˈfeɪvəɹɪt kəˈfeɪ,\n",
      " length:101\n",
      " length:101\n",
      "wɛɹ ʃi wʊd sɪp ɔn ə ˈkɹimi ˈlɑˌteɪ ənd wɔtʃ ðə wəɹɫd goʊ baɪ.\n",
      " length:61\n",
      " length:61\n",
      "ðɛn, ʃi wʊd hɛd tɪ ðə pɑɹk fəɹ ə ˈlizəɹli stɹoʊɫ,\n",
      " length:49\n",
      " length:49\n",
      "ˈteɪkɪŋ ɪn ðə ˈbjuti əv ˈneɪtʃəɹ ənd ˈbɹiðɪŋ ɪn ðə fɹɛʃ ɛɹ.\n",
      " length:59\n",
      " length:59\n",
      "ɪn ðə ˌæftəɹˈnun, ʃi plænd tɪ kəɹɫ əp wɪθ ə gʊd bʊk,\n",
      " length:52\n",
      " length:52\n",
      "ˈluzɪŋ həɹˈsɛɫf ɪn ðə ˈpeɪdʒɪz əv ə ˈkæptɪˌveɪtɪŋ ˈstɔɹi. ɛz ðə deɪ dɹu tɪ ə kloʊz,\n",
      " length:83\n",
      " length:83\n",
      "ʃi wʊd mit əp wɪθ fɹɛndz fəɹ ˈdɪnəɹ ənd ˈlæftəɹ, ˈʃɛɹɪŋ ˈstɔɹiz ənd ˈmeɪkɪŋ ˈmɛməɹiz.\n",
      " length:85\n",
      " length:85\n",
      "ɪt wɑz ə ˈsɪmpəɫ plæn, bət wən ðət fɪɫd həɹ wɪθ dʒɔɪ ənd kənˈtɛntmənt.\n",
      " length:70\n",
      " length:70\n",
      "Cloned Voice Generated!\n"
     ]
    },
    {
     "name": "stderr",
     "output_type": "stream",
     "text": [
      "/opt/anaconda3/envs/openvoice/lib/python3.9/site-packages/torch/nn/utils/weight_norm.py:28: UserWarning: torch.nn.utils.weight_norm is deprecated in favor of torch.nn.utils.parametrizations.weight_norm.\n",
      "  warnings.warn(\"torch.nn.utils.weight_norm is deprecated in favor of torch.nn.utils.parametrizations.weight_norm.\")\n"
     ]
    },
    {
     "name": "stdout",
     "output_type": "stream",
     "text": [
      "Loaded checkpoint 'checkpoints/base_speakers/EN/checkpoint.pth'\n",
      "missing/unexpected keys: [] []\n",
      "Loaded checkpoint 'checkpoints/converter/checkpoint.pth'\n",
      "missing/unexpected keys: [] []\n",
      "OpenVoice version: v1\n",
      "[(0.0, 9.152)]\n",
      "after vad: dur = 9.152\n",
      " > Text splitted to sentences.\n",
      "The sun peeked through the curtains, casting a warm glow across the room.\n",
      "She stirred, her eyes fluttering open as she stretched her arms above her head.\n",
      "It was a new day, full of promise and possibility. She smiled,\n",
      "thinking of all the things she wanted to accomplish. First on the list was a visit to her favorite café,\n",
      "where she would sip on a creamy latte and watch the world go by.\n",
      "Then, she would head to the park for a leisurely stroll,\n",
      "taking in the beauty of nature and breathing in the fresh air.\n",
      "In the afternoon, she planned to curl up with a good book,\n",
      "losing herself in the pages of a captivating story. As the day drew to a close,\n",
      "she would meet up with friends for dinner and laughter, sharing stories and making memories.\n",
      "It was a simple plan, but one that filled her with joy and contentment.\n",
      " > ===========================\n",
      "ðə sən pikt θɹu ðə ˈkəɹtənz, ˈkæstɪŋ ə wɔɹm gloʊ əˈkɹɔs ðə ɹum.\n",
      " length:63\n",
      " length:63\n",
      "ʃi stəɹd, həɹ aɪz ˈflətəɹɪŋ ˈoʊpən ɛz ʃi stɹɛtʃt həɹ ɑɹmz əˈbəv həɹ hɛd.\n",
      " length:72\n",
      " length:72\n",
      "ɪt wɑz ə nu deɪ, fʊɫ əv ˈpɹɑməs ənd ˌpɑsəˈbɪləˌti. ʃi smaɪɫd,\n",
      " length:61\n",
      " length:61\n",
      "ˈθɪŋkɪŋ əv ɔɫ ðə θɪŋz ʃi ˈwɔntɪd tɪ əˈkɑmplɪʃ. fəɹst ɔn ðə lɪst wɑz ə ˈvɪzɪt tɪ həɹ ˈfeɪvəɹɪt kəˈfeɪ,\n",
      " length:101\n",
      " length:101\n",
      "wɛɹ ʃi wʊd sɪp ɔn ə ˈkɹimi ˈlɑˌteɪ ənd wɔtʃ ðə wəɹɫd goʊ baɪ.\n",
      " length:61\n",
      " length:61\n",
      "ðɛn, ʃi wʊd hɛd tɪ ðə pɑɹk fəɹ ə ˈlizəɹli stɹoʊɫ,\n",
      " length:49\n",
      " length:49\n",
      "ˈteɪkɪŋ ɪn ðə ˈbjuti əv ˈneɪtʃəɹ ənd ˈbɹiðɪŋ ɪn ðə fɹɛʃ ɛɹ.\n",
      " length:59\n",
      " length:59\n",
      "ɪn ðə ˌæftəɹˈnun, ʃi plænd tɪ kəɹɫ əp wɪθ ə gʊd bʊk,\n",
      " length:52\n",
      " length:52\n",
      "ˈluzɪŋ həɹˈsɛɫf ɪn ðə ˈpeɪdʒɪz əv ə ˈkæptɪˌveɪtɪŋ ˈstɔɹi. ɛz ðə deɪ dɹu tɪ ə kloʊz,\n",
      " length:83\n",
      " length:83\n",
      "ʃi wʊd mit əp wɪθ fɹɛndz fəɹ ˈdɪnəɹ ənd ˈlæftəɹ, ˈʃɛɹɪŋ ˈstɔɹiz ənd ˈmeɪkɪŋ ˈmɛməɹiz.\n",
      " length:85\n",
      " length:85\n",
      "ɪt wɑz ə ˈsɪmpəɫ plæn, bət wən ðət fɪɫd həɹ wɪθ dʒɔɪ ənd kənˈtɛntmənt.\n",
      " length:70\n",
      " length:70\n",
      "Cloned Voice Generated!\n"
     ]
    },
    {
     "name": "stderr",
     "output_type": "stream",
     "text": [
      "/opt/anaconda3/envs/openvoice/lib/python3.9/site-packages/torch/nn/utils/weight_norm.py:28: UserWarning: torch.nn.utils.weight_norm is deprecated in favor of torch.nn.utils.parametrizations.weight_norm.\n",
      "  warnings.warn(\"torch.nn.utils.weight_norm is deprecated in favor of torch.nn.utils.parametrizations.weight_norm.\")\n"
     ]
    },
    {
     "name": "stdout",
     "output_type": "stream",
     "text": [
      "Loaded checkpoint 'checkpoints/base_speakers/EN/checkpoint.pth'\n",
      "missing/unexpected keys: [] []\n",
      "Loaded checkpoint 'checkpoints/converter/checkpoint.pth'\n",
      "missing/unexpected keys: [] []\n",
      "OpenVoice version: v1\n",
      "[(0.0, 9.152)]\n",
      "after vad: dur = 9.152\n",
      " > Text splitted to sentences.\n",
      "The sun peeked through the curtains, casting a warm glow across the room.\n",
      "She stirred, her eyes fluttering open as she stretched her arms above her head.\n",
      "It was a new day, full of promise and possibility. She smiled,\n",
      "thinking of all the things she wanted to accomplish. First on the list was a visit to her favorite café,\n",
      "where she would sip on a creamy latte and watch the world go by.\n",
      "Then, she would head to the park for a leisurely stroll,\n",
      "taking in the beauty of nature and breathing in the fresh air.\n",
      "In the afternoon, she planned to curl up with a good book,\n",
      "losing herself in the pages of a captivating story. As the day drew to a close,\n",
      "she would meet up with friends for dinner and laughter, sharing stories and making memories.\n",
      "It was a simple plan, but one that filled her with joy and contentment.\n",
      " > ===========================\n",
      "ðə sən pikt θɹu ðə ˈkəɹtənz, ˈkæstɪŋ ə wɔɹm gloʊ əˈkɹɔs ðə ɹum.\n",
      " length:63\n",
      " length:63\n",
      "ʃi stəɹd, həɹ aɪz ˈflətəɹɪŋ ˈoʊpən ɛz ʃi stɹɛtʃt həɹ ɑɹmz əˈbəv həɹ hɛd.\n",
      " length:72\n",
      " length:72\n",
      "ɪt wɑz ə nu deɪ, fʊɫ əv ˈpɹɑməs ənd ˌpɑsəˈbɪləˌti. ʃi smaɪɫd,\n",
      " length:61\n",
      " length:61\n",
      "ˈθɪŋkɪŋ əv ɔɫ ðə θɪŋz ʃi ˈwɔntɪd tɪ əˈkɑmplɪʃ. fəɹst ɔn ðə lɪst wɑz ə ˈvɪzɪt tɪ həɹ ˈfeɪvəɹɪt kəˈfeɪ,\n",
      " length:101\n",
      " length:101\n",
      "wɛɹ ʃi wʊd sɪp ɔn ə ˈkɹimi ˈlɑˌteɪ ənd wɔtʃ ðə wəɹɫd goʊ baɪ.\n",
      " length:61\n",
      " length:61\n",
      "ðɛn, ʃi wʊd hɛd tɪ ðə pɑɹk fəɹ ə ˈlizəɹli stɹoʊɫ,\n",
      " length:49\n",
      " length:49\n",
      "ˈteɪkɪŋ ɪn ðə ˈbjuti əv ˈneɪtʃəɹ ənd ˈbɹiðɪŋ ɪn ðə fɹɛʃ ɛɹ.\n",
      " length:59\n",
      " length:59\n",
      "ɪn ðə ˌæftəɹˈnun, ʃi plænd tɪ kəɹɫ əp wɪθ ə gʊd bʊk,\n",
      " length:52\n",
      " length:52\n",
      "ˈluzɪŋ həɹˈsɛɫf ɪn ðə ˈpeɪdʒɪz əv ə ˈkæptɪˌveɪtɪŋ ˈstɔɹi. ɛz ðə deɪ dɹu tɪ ə kloʊz,\n",
      " length:83\n",
      " length:83\n",
      "ʃi wʊd mit əp wɪθ fɹɛndz fəɹ ˈdɪnəɹ ənd ˈlæftəɹ, ˈʃɛɹɪŋ ˈstɔɹiz ənd ˈmeɪkɪŋ ˈmɛməɹiz.\n",
      " length:85\n",
      " length:85\n",
      "ɪt wɑz ə ˈsɪmpəɫ plæn, bət wən ðət fɪɫd həɹ wɪθ dʒɔɪ ənd kənˈtɛntmənt.\n",
      " length:70\n",
      " length:70\n",
      "Cloned Voice Generated!\n"
     ]
    },
    {
     "name": "stderr",
     "output_type": "stream",
     "text": [
      "/opt/anaconda3/envs/openvoice/lib/python3.9/site-packages/torch/nn/utils/weight_norm.py:28: UserWarning: torch.nn.utils.weight_norm is deprecated in favor of torch.nn.utils.parametrizations.weight_norm.\n",
      "  warnings.warn(\"torch.nn.utils.weight_norm is deprecated in favor of torch.nn.utils.parametrizations.weight_norm.\")\n"
     ]
    },
    {
     "name": "stdout",
     "output_type": "stream",
     "text": [
      "Loaded checkpoint 'checkpoints/base_speakers/EN/checkpoint.pth'\n",
      "missing/unexpected keys: [] []\n",
      "Loaded checkpoint 'checkpoints/converter/checkpoint.pth'\n",
      "missing/unexpected keys: [] []\n",
      "OpenVoice version: v1\n",
      "[(0.0, 9.152)]\n",
      "after vad: dur = 9.152\n",
      " > Text splitted to sentences.\n",
      "The sun peeked through the curtains, casting a warm glow across the room.\n",
      "She stirred, her eyes fluttering open as she stretched her arms above her head.\n",
      "It was a new day, full of promise and possibility. She smiled,\n",
      "thinking of all the things she wanted to accomplish. First on the list was a visit to her favorite café,\n",
      "where she would sip on a creamy latte and watch the world go by.\n",
      "Then, she would head to the park for a leisurely stroll,\n",
      "taking in the beauty of nature and breathing in the fresh air.\n",
      "In the afternoon, she planned to curl up with a good book,\n",
      "losing herself in the pages of a captivating story. As the day drew to a close,\n",
      "she would meet up with friends for dinner and laughter, sharing stories and making memories.\n",
      "It was a simple plan, but one that filled her with joy and contentment.\n",
      " > ===========================\n",
      "ðə sən pikt θɹu ðə ˈkəɹtənz, ˈkæstɪŋ ə wɔɹm gloʊ əˈkɹɔs ðə ɹum.\n",
      " length:63\n",
      " length:63\n",
      "ʃi stəɹd, həɹ aɪz ˈflətəɹɪŋ ˈoʊpən ɛz ʃi stɹɛtʃt həɹ ɑɹmz əˈbəv həɹ hɛd.\n",
      " length:72\n",
      " length:72\n",
      "ɪt wɑz ə nu deɪ, fʊɫ əv ˈpɹɑməs ənd ˌpɑsəˈbɪləˌti. ʃi smaɪɫd,\n",
      " length:61\n",
      " length:61\n",
      "ˈθɪŋkɪŋ əv ɔɫ ðə θɪŋz ʃi ˈwɔntɪd tɪ əˈkɑmplɪʃ. fəɹst ɔn ðə lɪst wɑz ə ˈvɪzɪt tɪ həɹ ˈfeɪvəɹɪt kəˈfeɪ,\n",
      " length:101\n",
      " length:101\n",
      "wɛɹ ʃi wʊd sɪp ɔn ə ˈkɹimi ˈlɑˌteɪ ənd wɔtʃ ðə wəɹɫd goʊ baɪ.\n",
      " length:61\n",
      " length:61\n",
      "ðɛn, ʃi wʊd hɛd tɪ ðə pɑɹk fəɹ ə ˈlizəɹli stɹoʊɫ,\n",
      " length:49\n",
      " length:49\n",
      "ˈteɪkɪŋ ɪn ðə ˈbjuti əv ˈneɪtʃəɹ ənd ˈbɹiðɪŋ ɪn ðə fɹɛʃ ɛɹ.\n",
      " length:59\n",
      " length:59\n",
      "ɪn ðə ˌæftəɹˈnun, ʃi plænd tɪ kəɹɫ əp wɪθ ə gʊd bʊk,\n",
      " length:52\n",
      " length:52\n",
      "ˈluzɪŋ həɹˈsɛɫf ɪn ðə ˈpeɪdʒɪz əv ə ˈkæptɪˌveɪtɪŋ ˈstɔɹi. ɛz ðə deɪ dɹu tɪ ə kloʊz,\n",
      " length:83\n",
      " length:83\n",
      "ʃi wʊd mit əp wɪθ fɹɛndz fəɹ ˈdɪnəɹ ənd ˈlæftəɹ, ˈʃɛɹɪŋ ˈstɔɹiz ənd ˈmeɪkɪŋ ˈmɛməɹiz.\n",
      " length:85\n",
      " length:85\n",
      "ɪt wɑz ə ˈsɪmpəɫ plæn, bət wən ðət fɪɫd həɹ wɪθ dʒɔɪ ənd kənˈtɛntmənt.\n",
      " length:70\n",
      " length:70\n",
      "Cloned Voice Generated!\n"
     ]
    },
    {
     "name": "stderr",
     "output_type": "stream",
     "text": [
      "/opt/anaconda3/envs/openvoice/lib/python3.9/site-packages/torch/nn/utils/weight_norm.py:28: UserWarning: torch.nn.utils.weight_norm is deprecated in favor of torch.nn.utils.parametrizations.weight_norm.\n",
      "  warnings.warn(\"torch.nn.utils.weight_norm is deprecated in favor of torch.nn.utils.parametrizations.weight_norm.\")\n"
     ]
    },
    {
     "name": "stdout",
     "output_type": "stream",
     "text": [
      "Loaded checkpoint 'checkpoints/base_speakers/EN/checkpoint.pth'\n",
      "missing/unexpected keys: [] []\n",
      "Loaded checkpoint 'checkpoints/converter/checkpoint.pth'\n",
      "missing/unexpected keys: [] []\n",
      "OpenVoice version: v1\n",
      "[(0.0, 9.152)]\n",
      "after vad: dur = 9.152\n",
      " > Text splitted to sentences.\n",
      "Life is not about waiting for the storm to pass; it's about learning to dance in the rain.\n",
      "We are all faced with challenges and obstacles, but it's how we respond to them that defines our character and shapes our future.\n",
      "Never let fear hold you back from pursuing your dreams. Embrace the unknown,\n",
      "for that is where growth and opportunity lie. Be kind to others,\n",
      "for everyone you meet is fighting a battle you know nothing about.\n",
      "Treat each day as a new beginning, a chance to start fresh and make a positive impact on the world around you.\n",
      "Remember, success is not measured by material possessions, but by the lives you touch and the love you share.\n",
      "Cherish the simple moments, the laughter of a child, the warmth of a hug,\n",
      "the beauty of a sunset. These are the things that make life truly rich.\n",
      "Above all, never lose sight of what matters most - the people you love,\n",
      "the passions that inspire you, and the legacy you leave behind.\n",
      "Life is a precious gift, so live it fully, love deeply,\n",
      "and make every moment count.\n",
      " > ===========================\n",
      "laɪf ɪz nɑt əˈbaʊt ˈweɪtɪŋ fəɹ ðə stɔɹm tɪ pæs; ɪts əˈbaʊt ˈləɹnɪŋ tɪ dæns ɪn ðə ɹeɪn.\n",
      " length:86\n",
      " length:85\n",
      "wi əɹ ɔɫ feɪst wɪθ ˈtʃæləndʒɪz ənd ˈɑbstəkəɫz, bət ɪts haʊ wi ɹɪˈspɑnd tɪ ðɛm ðət dɪˈfaɪnz ɑɹ ˈkɛɹɪktəɹ ənd ʃeɪps ɑɹ fˈjutʃəɹ.\n",
      " length:126\n",
      " length:126\n",
      "ˈnɛvəɹ lɛt fɪɹ hoʊɫd ju bæk fɹəm pəɹˈsuɪŋ jʊɹ dɹimz. ɪmˈbɹeɪs ðə ənˈnoʊn,\n",
      " length:73\n",
      " length:73\n",
      "fəɹ ðət ɪz wɛɹ gɹoʊθ ənd ˌɑpəɹˈtunəti laɪ. bi kaɪnd tɪ ˈəðəɹz,\n",
      " length:62\n",
      " length:62\n",
      "fəɹ ˈɛvɹiˌwən ju mit ɪz ˈfaɪtɪŋ ə ˈbætəɫ ju noʊ ˈnəθɪŋ əˈbaʊt.\n",
      " length:62\n",
      " length:62\n",
      "tɹit itʃ deɪ ɛz ə nu bɪˈgɪnɪŋ, ə tʃæns tɪ stɑɹt fɹɛʃ ənd meɪk ə ˈpɑzətɪv ˌɪmˈpækt ɔn ðə wəɹɫd əɹaʊnd ju.\n",
      " length:104\n",
      " length:104\n",
      "ɹɪˈmɛmbəɹ, səkˈsɛs ɪz nɑt ˈmɛʒəɹd baɪ məˈtɪɹiəɫ pəˈzɛʃənz, bət baɪ ðə lɪvz ju tətʃ ənd ðə ləv ju ʃɛɹ.\n",
      " length:101\n",
      " length:101\n",
      "ˈtʃɛɹɪʃ ðə ˈsɪmpəɫ ˈmoʊmənts, ðə ˈlæftəɹ əv ə tʃaɪɫd, ðə wɔɹmθ əv ə həg,\n",
      " length:72\n",
      " length:72\n",
      "ðə ˈbjuti əv ə ˈsənˌsɛt. ðiz əɹ ðə θɪŋz ðət meɪk laɪf ˈtɹuli ɹɪtʃ.\n",
      " length:66\n",
      " length:66\n",
      "əˈbəv ɔɫ, ˈnɛvəɹ luz saɪt əv wət ˈmætəɹz moʊst ðə ˈpipəɫ ju ləv,\n",
      " length:64\n",
      " length:64\n",
      "ðə ˈpæʃənz ðət ˌɪnˈspaɪɹ ju, ənd ðə ˈlɛgəsi ju liv bɪˈhaɪnd.\n",
      " length:60\n",
      " length:60\n",
      "laɪf ɪz ə ˈpɹɛʃəs gɪft, soʊ lɪv ɪt ˈfʊli, ləv ˈdipli,\n",
      " length:53\n",
      " length:53\n",
      "ənd meɪk ˈɛvəɹi ˈmoʊmənt kaʊnt.\n",
      " length:31\n",
      " length:31\n",
      "Cloned Voice Generated!\n"
     ]
    },
    {
     "name": "stderr",
     "output_type": "stream",
     "text": [
      "/opt/anaconda3/envs/openvoice/lib/python3.9/site-packages/torch/nn/utils/weight_norm.py:28: UserWarning: torch.nn.utils.weight_norm is deprecated in favor of torch.nn.utils.parametrizations.weight_norm.\n",
      "  warnings.warn(\"torch.nn.utils.weight_norm is deprecated in favor of torch.nn.utils.parametrizations.weight_norm.\")\n"
     ]
    },
    {
     "name": "stdout",
     "output_type": "stream",
     "text": [
      "Loaded checkpoint 'checkpoints/base_speakers/EN/checkpoint.pth'\n",
      "missing/unexpected keys: [] []\n",
      "Loaded checkpoint 'checkpoints/converter/checkpoint.pth'\n",
      "missing/unexpected keys: [] []\n",
      "OpenVoice version: v1\n",
      "[(0.0, 9.152)]\n",
      "after vad: dur = 9.152\n",
      " > Text splitted to sentences.\n",
      "Life is not about waiting for the storm to pass; it's about learning to dance in the rain.\n",
      "We are all faced with challenges and obstacles, but it's how we respond to them that defines our character and shapes our future.\n",
      "Never let fear hold you back from pursuing your dreams. Embrace the unknown,\n",
      "for that is where growth and opportunity lie. Be kind to others,\n",
      "for everyone you meet is fighting a battle you know nothing about.\n",
      "Treat each day as a new beginning, a chance to start fresh and make a positive impact on the world around you.\n",
      "Remember, success is not measured by material possessions, but by the lives you touch and the love you share.\n",
      "Cherish the simple moments, the laughter of a child, the warmth of a hug,\n",
      "the beauty of a sunset. These are the things that make life truly rich.\n",
      "Above all, never lose sight of what matters most - the people you love,\n",
      "the passions that inspire you, and the legacy you leave behind.\n",
      "Life is a precious gift, so live it fully, love deeply,\n",
      "and make every moment count.\n",
      " > ===========================\n",
      "laɪf ɪz nɑt əˈbaʊt ˈweɪtɪŋ fəɹ ðə stɔɹm tɪ pæs; ɪts əˈbaʊt ˈləɹnɪŋ tɪ dæns ɪn ðə ɹeɪn.\n",
      " length:86\n",
      " length:85\n",
      "wi əɹ ɔɫ feɪst wɪθ ˈtʃæləndʒɪz ənd ˈɑbstəkəɫz, bət ɪts haʊ wi ɹɪˈspɑnd tɪ ðɛm ðət dɪˈfaɪnz ɑɹ ˈkɛɹɪktəɹ ənd ʃeɪps ɑɹ fˈjutʃəɹ.\n",
      " length:126\n",
      " length:126\n",
      "ˈnɛvəɹ lɛt fɪɹ hoʊɫd ju bæk fɹəm pəɹˈsuɪŋ jʊɹ dɹimz. ɪmˈbɹeɪs ðə ənˈnoʊn,\n",
      " length:73\n",
      " length:73\n",
      "fəɹ ðət ɪz wɛɹ gɹoʊθ ənd ˌɑpəɹˈtunəti laɪ. bi kaɪnd tɪ ˈəðəɹz,\n",
      " length:62\n",
      " length:62\n",
      "fəɹ ˈɛvɹiˌwən ju mit ɪz ˈfaɪtɪŋ ə ˈbætəɫ ju noʊ ˈnəθɪŋ əˈbaʊt.\n",
      " length:62\n",
      " length:62\n",
      "tɹit itʃ deɪ ɛz ə nu bɪˈgɪnɪŋ, ə tʃæns tɪ stɑɹt fɹɛʃ ənd meɪk ə ˈpɑzətɪv ˌɪmˈpækt ɔn ðə wəɹɫd əɹaʊnd ju.\n",
      " length:104\n",
      " length:104\n",
      "ɹɪˈmɛmbəɹ, səkˈsɛs ɪz nɑt ˈmɛʒəɹd baɪ məˈtɪɹiəɫ pəˈzɛʃənz, bət baɪ ðə lɪvz ju tətʃ ənd ðə ləv ju ʃɛɹ.\n",
      " length:101\n",
      " length:101\n",
      "ˈtʃɛɹɪʃ ðə ˈsɪmpəɫ ˈmoʊmənts, ðə ˈlæftəɹ əv ə tʃaɪɫd, ðə wɔɹmθ əv ə həg,\n",
      " length:72\n",
      " length:72\n",
      "ðə ˈbjuti əv ə ˈsənˌsɛt. ðiz əɹ ðə θɪŋz ðət meɪk laɪf ˈtɹuli ɹɪtʃ.\n",
      " length:66\n",
      " length:66\n",
      "əˈbəv ɔɫ, ˈnɛvəɹ luz saɪt əv wət ˈmætəɹz moʊst ðə ˈpipəɫ ju ləv,\n",
      " length:64\n",
      " length:64\n",
      "ðə ˈpæʃənz ðət ˌɪnˈspaɪɹ ju, ənd ðə ˈlɛgəsi ju liv bɪˈhaɪnd.\n",
      " length:60\n",
      " length:60\n",
      "laɪf ɪz ə ˈpɹɛʃəs gɪft, soʊ lɪv ɪt ˈfʊli, ləv ˈdipli,\n",
      " length:53\n",
      " length:53\n",
      "ənd meɪk ˈɛvəɹi ˈmoʊmənt kaʊnt.\n",
      " length:31\n",
      " length:31\n",
      "Cloned Voice Generated!\n"
     ]
    },
    {
     "name": "stderr",
     "output_type": "stream",
     "text": [
      "/opt/anaconda3/envs/openvoice/lib/python3.9/site-packages/torch/nn/utils/weight_norm.py:28: UserWarning: torch.nn.utils.weight_norm is deprecated in favor of torch.nn.utils.parametrizations.weight_norm.\n",
      "  warnings.warn(\"torch.nn.utils.weight_norm is deprecated in favor of torch.nn.utils.parametrizations.weight_norm.\")\n"
     ]
    },
    {
     "name": "stdout",
     "output_type": "stream",
     "text": [
      "Loaded checkpoint 'checkpoints/base_speakers/EN/checkpoint.pth'\n",
      "missing/unexpected keys: [] []\n",
      "Loaded checkpoint 'checkpoints/converter/checkpoint.pth'\n",
      "missing/unexpected keys: [] []\n",
      "OpenVoice version: v1\n",
      "[(0.0, 9.152)]\n",
      "after vad: dur = 9.152\n",
      " > Text splitted to sentences.\n",
      "Life is not about waiting for the storm to pass; it's about learning to dance in the rain.\n",
      "We are all faced with challenges and obstacles, but it's how we respond to them that defines our character and shapes our future.\n",
      "Never let fear hold you back from pursuing your dreams. Embrace the unknown,\n",
      "for that is where growth and opportunity lie. Be kind to others,\n",
      "for everyone you meet is fighting a battle you know nothing about.\n",
      "Treat each day as a new beginning, a chance to start fresh and make a positive impact on the world around you.\n",
      "Remember, success is not measured by material possessions, but by the lives you touch and the love you share.\n",
      "Cherish the simple moments, the laughter of a child, the warmth of a hug,\n",
      "the beauty of a sunset. These are the things that make life truly rich.\n",
      "Above all, never lose sight of what matters most - the people you love,\n",
      "the passions that inspire you, and the legacy you leave behind.\n",
      "Life is a precious gift, so live it fully, love deeply,\n",
      "and make every moment count.\n",
      " > ===========================\n",
      "laɪf ɪz nɑt əˈbaʊt ˈweɪtɪŋ fəɹ ðə stɔɹm tɪ pæs; ɪts əˈbaʊt ˈləɹnɪŋ tɪ dæns ɪn ðə ɹeɪn.\n",
      " length:86\n",
      " length:85\n",
      "wi əɹ ɔɫ feɪst wɪθ ˈtʃæləndʒɪz ənd ˈɑbstəkəɫz, bət ɪts haʊ wi ɹɪˈspɑnd tɪ ðɛm ðət dɪˈfaɪnz ɑɹ ˈkɛɹɪktəɹ ənd ʃeɪps ɑɹ fˈjutʃəɹ.\n",
      " length:126\n",
      " length:126\n",
      "ˈnɛvəɹ lɛt fɪɹ hoʊɫd ju bæk fɹəm pəɹˈsuɪŋ jʊɹ dɹimz. ɪmˈbɹeɪs ðə ənˈnoʊn,\n",
      " length:73\n",
      " length:73\n",
      "fəɹ ðət ɪz wɛɹ gɹoʊθ ənd ˌɑpəɹˈtunəti laɪ. bi kaɪnd tɪ ˈəðəɹz,\n",
      " length:62\n",
      " length:62\n",
      "fəɹ ˈɛvɹiˌwən ju mit ɪz ˈfaɪtɪŋ ə ˈbætəɫ ju noʊ ˈnəθɪŋ əˈbaʊt.\n",
      " length:62\n",
      " length:62\n",
      "tɹit itʃ deɪ ɛz ə nu bɪˈgɪnɪŋ, ə tʃæns tɪ stɑɹt fɹɛʃ ənd meɪk ə ˈpɑzətɪv ˌɪmˈpækt ɔn ðə wəɹɫd əɹaʊnd ju.\n",
      " length:104\n",
      " length:104\n",
      "ɹɪˈmɛmbəɹ, səkˈsɛs ɪz nɑt ˈmɛʒəɹd baɪ məˈtɪɹiəɫ pəˈzɛʃənz, bət baɪ ðə lɪvz ju tətʃ ənd ðə ləv ju ʃɛɹ.\n",
      " length:101\n",
      " length:101\n",
      "ˈtʃɛɹɪʃ ðə ˈsɪmpəɫ ˈmoʊmənts, ðə ˈlæftəɹ əv ə tʃaɪɫd, ðə wɔɹmθ əv ə həg,\n",
      " length:72\n",
      " length:72\n",
      "ðə ˈbjuti əv ə ˈsənˌsɛt. ðiz əɹ ðə θɪŋz ðət meɪk laɪf ˈtɹuli ɹɪtʃ.\n",
      " length:66\n",
      " length:66\n",
      "əˈbəv ɔɫ, ˈnɛvəɹ luz saɪt əv wət ˈmætəɹz moʊst ðə ˈpipəɫ ju ləv,\n",
      " length:64\n",
      " length:64\n",
      "ðə ˈpæʃənz ðət ˌɪnˈspaɪɹ ju, ənd ðə ˈlɛgəsi ju liv bɪˈhaɪnd.\n",
      " length:60\n",
      " length:60\n",
      "laɪf ɪz ə ˈpɹɛʃəs gɪft, soʊ lɪv ɪt ˈfʊli, ləv ˈdipli,\n",
      " length:53\n",
      " length:53\n",
      "ənd meɪk ˈɛvəɹi ˈmoʊmənt kaʊnt.\n",
      " length:31\n",
      " length:31\n",
      "Cloned Voice Generated!\n"
     ]
    },
    {
     "name": "stderr",
     "output_type": "stream",
     "text": [
      "/opt/anaconda3/envs/openvoice/lib/python3.9/site-packages/torch/nn/utils/weight_norm.py:28: UserWarning: torch.nn.utils.weight_norm is deprecated in favor of torch.nn.utils.parametrizations.weight_norm.\n",
      "  warnings.warn(\"torch.nn.utils.weight_norm is deprecated in favor of torch.nn.utils.parametrizations.weight_norm.\")\n"
     ]
    },
    {
     "name": "stdout",
     "output_type": "stream",
     "text": [
      "Loaded checkpoint 'checkpoints/base_speakers/EN/checkpoint.pth'\n",
      "missing/unexpected keys: [] []\n",
      "Loaded checkpoint 'checkpoints/converter/checkpoint.pth'\n",
      "missing/unexpected keys: [] []\n",
      "OpenVoice version: v1\n",
      "[(0.0, 9.152)]\n",
      "after vad: dur = 9.152\n",
      " > Text splitted to sentences.\n",
      "Life is not about waiting for the storm to pass; it's about learning to dance in the rain.\n",
      "We are all faced with challenges and obstacles, but it's how we respond to them that defines our character and shapes our future.\n",
      "Never let fear hold you back from pursuing your dreams. Embrace the unknown,\n",
      "for that is where growth and opportunity lie. Be kind to others,\n",
      "for everyone you meet is fighting a battle you know nothing about.\n",
      "Treat each day as a new beginning, a chance to start fresh and make a positive impact on the world around you.\n",
      "Remember, success is not measured by material possessions, but by the lives you touch and the love you share.\n",
      "Cherish the simple moments, the laughter of a child, the warmth of a hug,\n",
      "the beauty of a sunset. These are the things that make life truly rich.\n",
      "Above all, never lose sight of what matters most - the people you love,\n",
      "the passions that inspire you, and the legacy you leave behind.\n",
      "Life is a precious gift, so live it fully, love deeply,\n",
      "and make every moment count.\n",
      " > ===========================\n",
      "laɪf ɪz nɑt əˈbaʊt ˈweɪtɪŋ fəɹ ðə stɔɹm tɪ pæs; ɪts əˈbaʊt ˈləɹnɪŋ tɪ dæns ɪn ðə ɹeɪn.\n",
      " length:86\n",
      " length:85\n",
      "wi əɹ ɔɫ feɪst wɪθ ˈtʃæləndʒɪz ənd ˈɑbstəkəɫz, bət ɪts haʊ wi ɹɪˈspɑnd tɪ ðɛm ðət dɪˈfaɪnz ɑɹ ˈkɛɹɪktəɹ ənd ʃeɪps ɑɹ fˈjutʃəɹ.\n",
      " length:126\n",
      " length:126\n",
      "ˈnɛvəɹ lɛt fɪɹ hoʊɫd ju bæk fɹəm pəɹˈsuɪŋ jʊɹ dɹimz. ɪmˈbɹeɪs ðə ənˈnoʊn,\n",
      " length:73\n",
      " length:73\n",
      "fəɹ ðət ɪz wɛɹ gɹoʊθ ənd ˌɑpəɹˈtunəti laɪ. bi kaɪnd tɪ ˈəðəɹz,\n",
      " length:62\n",
      " length:62\n",
      "fəɹ ˈɛvɹiˌwən ju mit ɪz ˈfaɪtɪŋ ə ˈbætəɫ ju noʊ ˈnəθɪŋ əˈbaʊt.\n",
      " length:62\n",
      " length:62\n",
      "tɹit itʃ deɪ ɛz ə nu bɪˈgɪnɪŋ, ə tʃæns tɪ stɑɹt fɹɛʃ ənd meɪk ə ˈpɑzətɪv ˌɪmˈpækt ɔn ðə wəɹɫd əɹaʊnd ju.\n",
      " length:104\n",
      " length:104\n",
      "ɹɪˈmɛmbəɹ, səkˈsɛs ɪz nɑt ˈmɛʒəɹd baɪ məˈtɪɹiəɫ pəˈzɛʃənz, bət baɪ ðə lɪvz ju tətʃ ənd ðə ləv ju ʃɛɹ.\n",
      " length:101\n",
      " length:101\n",
      "ˈtʃɛɹɪʃ ðə ˈsɪmpəɫ ˈmoʊmənts, ðə ˈlæftəɹ əv ə tʃaɪɫd, ðə wɔɹmθ əv ə həg,\n",
      " length:72\n",
      " length:72\n",
      "ðə ˈbjuti əv ə ˈsənˌsɛt. ðiz əɹ ðə θɪŋz ðət meɪk laɪf ˈtɹuli ɹɪtʃ.\n",
      " length:66\n",
      " length:66\n",
      "əˈbəv ɔɫ, ˈnɛvəɹ luz saɪt əv wət ˈmætəɹz moʊst ðə ˈpipəɫ ju ləv,\n",
      " length:64\n",
      " length:64\n",
      "ðə ˈpæʃənz ðət ˌɪnˈspaɪɹ ju, ənd ðə ˈlɛgəsi ju liv bɪˈhaɪnd.\n",
      " length:60\n",
      " length:60\n",
      "laɪf ɪz ə ˈpɹɛʃəs gɪft, soʊ lɪv ɪt ˈfʊli, ləv ˈdipli,\n",
      " length:53\n",
      " length:53\n",
      "ənd meɪk ˈɛvəɹi ˈmoʊmənt kaʊnt.\n",
      " length:31\n",
      " length:31\n",
      "Cloned Voice Generated!\n"
     ]
    },
    {
     "name": "stderr",
     "output_type": "stream",
     "text": [
      "/opt/anaconda3/envs/openvoice/lib/python3.9/site-packages/torch/nn/utils/weight_norm.py:28: UserWarning: torch.nn.utils.weight_norm is deprecated in favor of torch.nn.utils.parametrizations.weight_norm.\n",
      "  warnings.warn(\"torch.nn.utils.weight_norm is deprecated in favor of torch.nn.utils.parametrizations.weight_norm.\")\n"
     ]
    },
    {
     "name": "stdout",
     "output_type": "stream",
     "text": [
      "Loaded checkpoint 'checkpoints/base_speakers/EN/checkpoint.pth'\n",
      "missing/unexpected keys: [] []\n",
      "Loaded checkpoint 'checkpoints/converter/checkpoint.pth'\n",
      "missing/unexpected keys: [] []\n",
      "OpenVoice version: v1\n",
      "[(0.0, 9.152)]\n",
      "after vad: dur = 9.152\n",
      " > Text splitted to sentences.\n",
      "Life is not about waiting for the storm to pass; it's about learning to dance in the rain.\n",
      "We are all faced with challenges and obstacles, but it's how we respond to them that defines our character and shapes our future.\n",
      "Never let fear hold you back from pursuing your dreams. Embrace the unknown,\n",
      "for that is where growth and opportunity lie. Be kind to others,\n",
      "for everyone you meet is fighting a battle you know nothing about.\n",
      "Treat each day as a new beginning, a chance to start fresh and make a positive impact on the world around you.\n",
      "Remember, success is not measured by material possessions, but by the lives you touch and the love you share.\n",
      "Cherish the simple moments, the laughter of a child, the warmth of a hug,\n",
      "the beauty of a sunset. These are the things that make life truly rich.\n",
      "Above all, never lose sight of what matters most - the people you love,\n",
      "the passions that inspire you, and the legacy you leave behind.\n",
      "Life is a precious gift, so live it fully, love deeply,\n",
      "and make every moment count.\n",
      " > ===========================\n",
      "laɪf ɪz nɑt əˈbaʊt ˈweɪtɪŋ fəɹ ðə stɔɹm tɪ pæs; ɪts əˈbaʊt ˈləɹnɪŋ tɪ dæns ɪn ðə ɹeɪn.\n",
      " length:86\n",
      " length:85\n",
      "wi əɹ ɔɫ feɪst wɪθ ˈtʃæləndʒɪz ənd ˈɑbstəkəɫz, bət ɪts haʊ wi ɹɪˈspɑnd tɪ ðɛm ðət dɪˈfaɪnz ɑɹ ˈkɛɹɪktəɹ ənd ʃeɪps ɑɹ fˈjutʃəɹ.\n",
      " length:126\n",
      " length:126\n",
      "ˈnɛvəɹ lɛt fɪɹ hoʊɫd ju bæk fɹəm pəɹˈsuɪŋ jʊɹ dɹimz. ɪmˈbɹeɪs ðə ənˈnoʊn,\n",
      " length:73\n",
      " length:73\n",
      "fəɹ ðət ɪz wɛɹ gɹoʊθ ənd ˌɑpəɹˈtunəti laɪ. bi kaɪnd tɪ ˈəðəɹz,\n",
      " length:62\n",
      " length:62\n",
      "fəɹ ˈɛvɹiˌwən ju mit ɪz ˈfaɪtɪŋ ə ˈbætəɫ ju noʊ ˈnəθɪŋ əˈbaʊt.\n",
      " length:62\n",
      " length:62\n",
      "tɹit itʃ deɪ ɛz ə nu bɪˈgɪnɪŋ, ə tʃæns tɪ stɑɹt fɹɛʃ ənd meɪk ə ˈpɑzətɪv ˌɪmˈpækt ɔn ðə wəɹɫd əɹaʊnd ju.\n",
      " length:104\n",
      " length:104\n",
      "ɹɪˈmɛmbəɹ, səkˈsɛs ɪz nɑt ˈmɛʒəɹd baɪ məˈtɪɹiəɫ pəˈzɛʃənz, bət baɪ ðə lɪvz ju tətʃ ənd ðə ləv ju ʃɛɹ.\n",
      " length:101\n",
      " length:101\n",
      "ˈtʃɛɹɪʃ ðə ˈsɪmpəɫ ˈmoʊmənts, ðə ˈlæftəɹ əv ə tʃaɪɫd, ðə wɔɹmθ əv ə həg,\n",
      " length:72\n",
      " length:72\n",
      "ðə ˈbjuti əv ə ˈsənˌsɛt. ðiz əɹ ðə θɪŋz ðət meɪk laɪf ˈtɹuli ɹɪtʃ.\n",
      " length:66\n",
      " length:66\n",
      "əˈbəv ɔɫ, ˈnɛvəɹ luz saɪt əv wət ˈmætəɹz moʊst ðə ˈpipəɫ ju ləv,\n",
      " length:64\n",
      " length:64\n",
      "ðə ˈpæʃənz ðət ˌɪnˈspaɪɹ ju, ənd ðə ˈlɛgəsi ju liv bɪˈhaɪnd.\n",
      " length:60\n",
      " length:60\n",
      "laɪf ɪz ə ˈpɹɛʃəs gɪft, soʊ lɪv ɪt ˈfʊli, ləv ˈdipli,\n",
      " length:53\n",
      " length:53\n",
      "ənd meɪk ˈɛvəɹi ˈmoʊmənt kaʊnt.\n",
      " length:31\n",
      " length:31\n",
      "Cloned Voice Generated!\n",
      "Execution times:\n",
      "Text length: 5, Execution time: 2.1575 seconds\n",
      "Text length: 9, Execution time: 2.2433 seconds\n",
      "Text length: 16, Execution time: 2.5016 seconds\n",
      "Text length: 49, Execution time: 3.4369 seconds\n",
      "Text length: 102, Execution time: 4.6420 seconds\n",
      "Text length: 347, Execution time: 9.8722 seconds\n",
      "Text length: 573, Execution time: 14.7087 seconds\n",
      "Text length: 810, Execution time: 18.8003 seconds\n",
      "Text length: 1017, Execution time: 23.9851 seconds\n"
     ]
    },
    {
     "name": "stderr",
     "output_type": "stream",
     "text": [
      "/opt/anaconda3/envs/openvoice/lib/python3.9/site-packages/torch/nn/utils/weight_norm.py:28: UserWarning: torch.nn.utils.weight_norm is deprecated in favor of torch.nn.utils.parametrizations.weight_norm.\n",
      "  warnings.warn(\"torch.nn.utils.weight_norm is deprecated in favor of torch.nn.utils.parametrizations.weight_norm.\")\n"
     ]
    },
    {
     "name": "stdout",
     "output_type": "stream",
     "text": [
      "Loaded checkpoint 'checkpoints/base_speakers/EN/checkpoint.pth'\n",
      "missing/unexpected keys: [] []\n",
      "Loaded checkpoint 'checkpoints/converter/checkpoint.pth'\n",
      "missing/unexpected keys: [] []\n",
      "OpenVoice version: v1\n",
      "[(0.0, 10.0906875)]\n",
      "after vad: dur = 10.09\n",
      " > Text splitted to sentences.\n",
      "Smile\n",
      " > ===========================\n",
      "smaɪɫ.\n",
      " length:6\n",
      " length:6\n",
      "Audio too short, fail to add watermark\n",
      "Cloned Voice Generated!\n"
     ]
    },
    {
     "name": "stderr",
     "output_type": "stream",
     "text": [
      "/opt/anaconda3/envs/openvoice/lib/python3.9/site-packages/torch/nn/utils/weight_norm.py:28: UserWarning: torch.nn.utils.weight_norm is deprecated in favor of torch.nn.utils.parametrizations.weight_norm.\n",
      "  warnings.warn(\"torch.nn.utils.weight_norm is deprecated in favor of torch.nn.utils.parametrizations.weight_norm.\")\n"
     ]
    },
    {
     "name": "stdout",
     "output_type": "stream",
     "text": [
      "Loaded checkpoint 'checkpoints/base_speakers/EN/checkpoint.pth'\n",
      "missing/unexpected keys: [] []\n",
      "Loaded checkpoint 'checkpoints/converter/checkpoint.pth'\n",
      "missing/unexpected keys: [] []\n",
      "OpenVoice version: v1\n",
      "[(0.0, 10.0906875)]\n",
      "after vad: dur = 10.09\n",
      " > Text splitted to sentences.\n",
      "Smile\n",
      " > ===========================\n",
      "smaɪɫ.\n",
      " length:6\n",
      " length:6\n",
      "Audio too short, fail to add watermark\n",
      "Cloned Voice Generated!\n"
     ]
    },
    {
     "name": "stderr",
     "output_type": "stream",
     "text": [
      "/opt/anaconda3/envs/openvoice/lib/python3.9/site-packages/torch/nn/utils/weight_norm.py:28: UserWarning: torch.nn.utils.weight_norm is deprecated in favor of torch.nn.utils.parametrizations.weight_norm.\n",
      "  warnings.warn(\"torch.nn.utils.weight_norm is deprecated in favor of torch.nn.utils.parametrizations.weight_norm.\")\n"
     ]
    },
    {
     "name": "stdout",
     "output_type": "stream",
     "text": [
      "Loaded checkpoint 'checkpoints/base_speakers/EN/checkpoint.pth'\n",
      "missing/unexpected keys: [] []\n",
      "Loaded checkpoint 'checkpoints/converter/checkpoint.pth'\n",
      "missing/unexpected keys: [] []\n",
      "OpenVoice version: v1\n",
      "[(0.0, 10.0906875)]\n",
      "after vad: dur = 10.09\n",
      " > Text splitted to sentences.\n",
      "Smile\n",
      " > ===========================\n",
      "smaɪɫ.\n",
      " length:6\n",
      " length:6\n",
      "Audio too short, fail to add watermark\n",
      "Cloned Voice Generated!\n"
     ]
    },
    {
     "name": "stderr",
     "output_type": "stream",
     "text": [
      "/opt/anaconda3/envs/openvoice/lib/python3.9/site-packages/torch/nn/utils/weight_norm.py:28: UserWarning: torch.nn.utils.weight_norm is deprecated in favor of torch.nn.utils.parametrizations.weight_norm.\n",
      "  warnings.warn(\"torch.nn.utils.weight_norm is deprecated in favor of torch.nn.utils.parametrizations.weight_norm.\")\n"
     ]
    },
    {
     "name": "stdout",
     "output_type": "stream",
     "text": [
      "Loaded checkpoint 'checkpoints/base_speakers/EN/checkpoint.pth'\n",
      "missing/unexpected keys: [] []\n",
      "Loaded checkpoint 'checkpoints/converter/checkpoint.pth'\n",
      "missing/unexpected keys: [] []\n",
      "OpenVoice version: v1\n",
      "[(0.0, 10.0906875)]\n",
      "after vad: dur = 10.09\n",
      " > Text splitted to sentences.\n",
      "Smile\n",
      " > ===========================\n",
      "smaɪɫ.\n",
      " length:6\n",
      " length:6\n",
      "Audio too short, fail to add watermark\n",
      "Cloned Voice Generated!\n"
     ]
    },
    {
     "name": "stderr",
     "output_type": "stream",
     "text": [
      "/opt/anaconda3/envs/openvoice/lib/python3.9/site-packages/torch/nn/utils/weight_norm.py:28: UserWarning: torch.nn.utils.weight_norm is deprecated in favor of torch.nn.utils.parametrizations.weight_norm.\n",
      "  warnings.warn(\"torch.nn.utils.weight_norm is deprecated in favor of torch.nn.utils.parametrizations.weight_norm.\")\n"
     ]
    },
    {
     "name": "stdout",
     "output_type": "stream",
     "text": [
      "Loaded checkpoint 'checkpoints/base_speakers/EN/checkpoint.pth'\n",
      "missing/unexpected keys: [] []\n",
      "Loaded checkpoint 'checkpoints/converter/checkpoint.pth'\n",
      "missing/unexpected keys: [] []\n",
      "OpenVoice version: v1\n",
      "[(0.0, 10.0906875)]\n",
      "after vad: dur = 10.09\n",
      " > Text splitted to sentences.\n",
      "Smile\n",
      " > ===========================\n",
      "smaɪɫ.\n",
      " length:6\n",
      " length:6\n",
      "Audio too short, fail to add watermark\n",
      "Cloned Voice Generated!\n"
     ]
    },
    {
     "name": "stderr",
     "output_type": "stream",
     "text": [
      "/opt/anaconda3/envs/openvoice/lib/python3.9/site-packages/torch/nn/utils/weight_norm.py:28: UserWarning: torch.nn.utils.weight_norm is deprecated in favor of torch.nn.utils.parametrizations.weight_norm.\n",
      "  warnings.warn(\"torch.nn.utils.weight_norm is deprecated in favor of torch.nn.utils.parametrizations.weight_norm.\")\n"
     ]
    },
    {
     "name": "stdout",
     "output_type": "stream",
     "text": [
      "Loaded checkpoint 'checkpoints/base_speakers/EN/checkpoint.pth'\n",
      "missing/unexpected keys: [] []\n",
      "Loaded checkpoint 'checkpoints/converter/checkpoint.pth'\n",
      "missing/unexpected keys: [] []\n",
      "OpenVoice version: v1\n",
      "[(0.0, 10.0906875)]\n",
      "after vad: dur = 10.09\n",
      " > Text splitted to sentences.\n",
      "To change\n",
      " > ===========================\n",
      "tɪ tʃeɪndʒ.\n",
      " length:11\n",
      " length:11\n",
      "Audio too short, fail to add watermark\n",
      "Cloned Voice Generated!\n"
     ]
    },
    {
     "name": "stderr",
     "output_type": "stream",
     "text": [
      "/opt/anaconda3/envs/openvoice/lib/python3.9/site-packages/torch/nn/utils/weight_norm.py:28: UserWarning: torch.nn.utils.weight_norm is deprecated in favor of torch.nn.utils.parametrizations.weight_norm.\n",
      "  warnings.warn(\"torch.nn.utils.weight_norm is deprecated in favor of torch.nn.utils.parametrizations.weight_norm.\")\n"
     ]
    },
    {
     "name": "stdout",
     "output_type": "stream",
     "text": [
      "Loaded checkpoint 'checkpoints/base_speakers/EN/checkpoint.pth'\n",
      "missing/unexpected keys: [] []\n",
      "Loaded checkpoint 'checkpoints/converter/checkpoint.pth'\n",
      "missing/unexpected keys: [] []\n",
      "OpenVoice version: v1\n",
      "[(0.0, 10.0906875)]\n",
      "after vad: dur = 10.09\n",
      " > Text splitted to sentences.\n",
      "To change\n",
      " > ===========================\n",
      "tɪ tʃeɪndʒ.\n",
      " length:11\n",
      " length:11\n",
      "Audio too short, fail to add watermark\n",
      "Cloned Voice Generated!\n"
     ]
    },
    {
     "name": "stderr",
     "output_type": "stream",
     "text": [
      "/opt/anaconda3/envs/openvoice/lib/python3.9/site-packages/torch/nn/utils/weight_norm.py:28: UserWarning: torch.nn.utils.weight_norm is deprecated in favor of torch.nn.utils.parametrizations.weight_norm.\n",
      "  warnings.warn(\"torch.nn.utils.weight_norm is deprecated in favor of torch.nn.utils.parametrizations.weight_norm.\")\n"
     ]
    },
    {
     "name": "stdout",
     "output_type": "stream",
     "text": [
      "Loaded checkpoint 'checkpoints/base_speakers/EN/checkpoint.pth'\n",
      "missing/unexpected keys: [] []\n",
      "Loaded checkpoint 'checkpoints/converter/checkpoint.pth'\n",
      "missing/unexpected keys: [] []\n",
      "OpenVoice version: v1\n",
      "[(0.0, 10.0906875)]\n",
      "after vad: dur = 10.09\n",
      " > Text splitted to sentences.\n",
      "To change\n",
      " > ===========================\n",
      "tɪ tʃeɪndʒ.\n",
      " length:11\n",
      " length:11\n",
      "Audio too short, fail to add watermark\n",
      "Cloned Voice Generated!\n"
     ]
    },
    {
     "name": "stderr",
     "output_type": "stream",
     "text": [
      "/opt/anaconda3/envs/openvoice/lib/python3.9/site-packages/torch/nn/utils/weight_norm.py:28: UserWarning: torch.nn.utils.weight_norm is deprecated in favor of torch.nn.utils.parametrizations.weight_norm.\n",
      "  warnings.warn(\"torch.nn.utils.weight_norm is deprecated in favor of torch.nn.utils.parametrizations.weight_norm.\")\n"
     ]
    },
    {
     "name": "stdout",
     "output_type": "stream",
     "text": [
      "Loaded checkpoint 'checkpoints/base_speakers/EN/checkpoint.pth'\n",
      "missing/unexpected keys: [] []\n",
      "Loaded checkpoint 'checkpoints/converter/checkpoint.pth'\n",
      "missing/unexpected keys: [] []\n",
      "OpenVoice version: v1\n",
      "[(0.0, 10.0906875)]\n",
      "after vad: dur = 10.09\n",
      " > Text splitted to sentences.\n",
      "To change\n",
      " > ===========================\n",
      "tɪ tʃeɪndʒ.\n",
      " length:11\n",
      " length:11\n",
      "Audio too short, fail to add watermark\n",
      "Cloned Voice Generated!\n"
     ]
    },
    {
     "name": "stderr",
     "output_type": "stream",
     "text": [
      "/opt/anaconda3/envs/openvoice/lib/python3.9/site-packages/torch/nn/utils/weight_norm.py:28: UserWarning: torch.nn.utils.weight_norm is deprecated in favor of torch.nn.utils.parametrizations.weight_norm.\n",
      "  warnings.warn(\"torch.nn.utils.weight_norm is deprecated in favor of torch.nn.utils.parametrizations.weight_norm.\")\n"
     ]
    },
    {
     "name": "stdout",
     "output_type": "stream",
     "text": [
      "Loaded checkpoint 'checkpoints/base_speakers/EN/checkpoint.pth'\n",
      "missing/unexpected keys: [] []\n",
      "Loaded checkpoint 'checkpoints/converter/checkpoint.pth'\n",
      "missing/unexpected keys: [] []\n",
      "OpenVoice version: v1\n",
      "[(0.0, 10.0906875)]\n",
      "after vad: dur = 10.09\n",
      " > Text splitted to sentences.\n",
      "To change\n",
      " > ===========================\n",
      "tɪ tʃeɪndʒ.\n",
      " length:11\n",
      " length:11\n",
      "Audio too short, fail to add watermark\n",
      "Cloned Voice Generated!\n"
     ]
    },
    {
     "name": "stderr",
     "output_type": "stream",
     "text": [
      "/opt/anaconda3/envs/openvoice/lib/python3.9/site-packages/torch/nn/utils/weight_norm.py:28: UserWarning: torch.nn.utils.weight_norm is deprecated in favor of torch.nn.utils.parametrizations.weight_norm.\n",
      "  warnings.warn(\"torch.nn.utils.weight_norm is deprecated in favor of torch.nn.utils.parametrizations.weight_norm.\")\n"
     ]
    },
    {
     "name": "stdout",
     "output_type": "stream",
     "text": [
      "Loaded checkpoint 'checkpoints/base_speakers/EN/checkpoint.pth'\n",
      "missing/unexpected keys: [] []\n",
      "Loaded checkpoint 'checkpoints/converter/checkpoint.pth'\n",
      "missing/unexpected keys: [] []\n",
      "OpenVoice version: v1\n",
      "[(0.0, 10.0906875)]\n",
      "after vad: dur = 10.09\n",
      " > Text splitted to sentences.\n",
      "Seize the moment\n",
      " > ===========================\n",
      "siz ðə ˈmoʊmənt.\n",
      " length:16\n",
      " length:16\n",
      "Audio too short, fail to add watermark\n",
      "Cloned Voice Generated!\n"
     ]
    },
    {
     "name": "stderr",
     "output_type": "stream",
     "text": [
      "/opt/anaconda3/envs/openvoice/lib/python3.9/site-packages/torch/nn/utils/weight_norm.py:28: UserWarning: torch.nn.utils.weight_norm is deprecated in favor of torch.nn.utils.parametrizations.weight_norm.\n",
      "  warnings.warn(\"torch.nn.utils.weight_norm is deprecated in favor of torch.nn.utils.parametrizations.weight_norm.\")\n"
     ]
    },
    {
     "name": "stdout",
     "output_type": "stream",
     "text": [
      "Loaded checkpoint 'checkpoints/base_speakers/EN/checkpoint.pth'\n",
      "missing/unexpected keys: [] []\n",
      "Loaded checkpoint 'checkpoints/converter/checkpoint.pth'\n",
      "missing/unexpected keys: [] []\n",
      "OpenVoice version: v1\n",
      "[(0.0, 10.0906875)]\n",
      "after vad: dur = 10.09\n",
      " > Text splitted to sentences.\n",
      "Seize the moment\n",
      " > ===========================\n",
      "siz ðə ˈmoʊmənt.\n",
      " length:16\n",
      " length:16\n",
      "Audio too short, fail to add watermark\n",
      "Cloned Voice Generated!\n"
     ]
    },
    {
     "name": "stderr",
     "output_type": "stream",
     "text": [
      "/opt/anaconda3/envs/openvoice/lib/python3.9/site-packages/torch/nn/utils/weight_norm.py:28: UserWarning: torch.nn.utils.weight_norm is deprecated in favor of torch.nn.utils.parametrizations.weight_norm.\n",
      "  warnings.warn(\"torch.nn.utils.weight_norm is deprecated in favor of torch.nn.utils.parametrizations.weight_norm.\")\n"
     ]
    },
    {
     "name": "stdout",
     "output_type": "stream",
     "text": [
      "Loaded checkpoint 'checkpoints/base_speakers/EN/checkpoint.pth'\n",
      "missing/unexpected keys: [] []\n",
      "Loaded checkpoint 'checkpoints/converter/checkpoint.pth'\n",
      "missing/unexpected keys: [] []\n",
      "OpenVoice version: v1\n",
      "[(0.0, 10.0906875)]\n",
      "after vad: dur = 10.09\n",
      " > Text splitted to sentences.\n",
      "Seize the moment\n",
      " > ===========================\n",
      "siz ðə ˈmoʊmənt.\n",
      " length:16\n",
      " length:16\n",
      "Audio too short, fail to add watermark\n",
      "Cloned Voice Generated!\n"
     ]
    },
    {
     "name": "stderr",
     "output_type": "stream",
     "text": [
      "/opt/anaconda3/envs/openvoice/lib/python3.9/site-packages/torch/nn/utils/weight_norm.py:28: UserWarning: torch.nn.utils.weight_norm is deprecated in favor of torch.nn.utils.parametrizations.weight_norm.\n",
      "  warnings.warn(\"torch.nn.utils.weight_norm is deprecated in favor of torch.nn.utils.parametrizations.weight_norm.\")\n"
     ]
    },
    {
     "name": "stdout",
     "output_type": "stream",
     "text": [
      "Loaded checkpoint 'checkpoints/base_speakers/EN/checkpoint.pth'\n",
      "missing/unexpected keys: [] []\n",
      "Loaded checkpoint 'checkpoints/converter/checkpoint.pth'\n",
      "missing/unexpected keys: [] []\n",
      "OpenVoice version: v1\n",
      "[(0.0, 10.0906875)]\n",
      "after vad: dur = 10.09\n",
      " > Text splitted to sentences.\n",
      "Seize the moment\n",
      " > ===========================\n",
      "siz ðə ˈmoʊmənt.\n",
      " length:16\n",
      " length:16\n",
      "Audio too short, fail to add watermark\n",
      "Cloned Voice Generated!\n"
     ]
    },
    {
     "name": "stderr",
     "output_type": "stream",
     "text": [
      "/opt/anaconda3/envs/openvoice/lib/python3.9/site-packages/torch/nn/utils/weight_norm.py:28: UserWarning: torch.nn.utils.weight_norm is deprecated in favor of torch.nn.utils.parametrizations.weight_norm.\n",
      "  warnings.warn(\"torch.nn.utils.weight_norm is deprecated in favor of torch.nn.utils.parametrizations.weight_norm.\")\n"
     ]
    },
    {
     "name": "stdout",
     "output_type": "stream",
     "text": [
      "Loaded checkpoint 'checkpoints/base_speakers/EN/checkpoint.pth'\n",
      "missing/unexpected keys: [] []\n",
      "Loaded checkpoint 'checkpoints/converter/checkpoint.pth'\n",
      "missing/unexpected keys: [] []\n",
      "OpenVoice version: v1\n",
      "[(0.0, 10.0906875)]\n",
      "after vad: dur = 10.09\n",
      " > Text splitted to sentences.\n",
      "Seize the moment\n",
      " > ===========================\n",
      "siz ðə ˈmoʊmənt.\n",
      " length:16\n",
      " length:16\n",
      "Audio too short, fail to add watermark\n",
      "Cloned Voice Generated!\n"
     ]
    },
    {
     "name": "stderr",
     "output_type": "stream",
     "text": [
      "/opt/anaconda3/envs/openvoice/lib/python3.9/site-packages/torch/nn/utils/weight_norm.py:28: UserWarning: torch.nn.utils.weight_norm is deprecated in favor of torch.nn.utils.parametrizations.weight_norm.\n",
      "  warnings.warn(\"torch.nn.utils.weight_norm is deprecated in favor of torch.nn.utils.parametrizations.weight_norm.\")\n"
     ]
    },
    {
     "name": "stdout",
     "output_type": "stream",
     "text": [
      "Loaded checkpoint 'checkpoints/base_speakers/EN/checkpoint.pth'\n",
      "missing/unexpected keys: [] []\n",
      "Loaded checkpoint 'checkpoints/converter/checkpoint.pth'\n",
      "missing/unexpected keys: [] []\n",
      "OpenVoice version: v1\n",
      "[(0.0, 10.0906875)]\n",
      "after vad: dur = 10.09\n",
      " > Text splitted to sentences.\n",
      "Life is a beautiful journey, make each day count.\n",
      " > ===========================\n",
      "laɪf ɪz ə ˈbjutəfəɫ ˈdʒəɹni, meɪk itʃ deɪ kaʊnt.\n",
      " length:48\n",
      " length:48\n",
      "Cloned Voice Generated!\n"
     ]
    },
    {
     "name": "stderr",
     "output_type": "stream",
     "text": [
      "/opt/anaconda3/envs/openvoice/lib/python3.9/site-packages/torch/nn/utils/weight_norm.py:28: UserWarning: torch.nn.utils.weight_norm is deprecated in favor of torch.nn.utils.parametrizations.weight_norm.\n",
      "  warnings.warn(\"torch.nn.utils.weight_norm is deprecated in favor of torch.nn.utils.parametrizations.weight_norm.\")\n"
     ]
    },
    {
     "name": "stdout",
     "output_type": "stream",
     "text": [
      "Loaded checkpoint 'checkpoints/base_speakers/EN/checkpoint.pth'\n",
      "missing/unexpected keys: [] []\n",
      "Loaded checkpoint 'checkpoints/converter/checkpoint.pth'\n",
      "missing/unexpected keys: [] []\n",
      "OpenVoice version: v1\n",
      "[(0.0, 10.0906875)]\n",
      "after vad: dur = 10.09\n",
      " > Text splitted to sentences.\n",
      "Life is a beautiful journey, make each day count.\n",
      " > ===========================\n",
      "laɪf ɪz ə ˈbjutəfəɫ ˈdʒəɹni, meɪk itʃ deɪ kaʊnt.\n",
      " length:48\n",
      " length:48\n",
      "Cloned Voice Generated!\n"
     ]
    },
    {
     "name": "stderr",
     "output_type": "stream",
     "text": [
      "/opt/anaconda3/envs/openvoice/lib/python3.9/site-packages/torch/nn/utils/weight_norm.py:28: UserWarning: torch.nn.utils.weight_norm is deprecated in favor of torch.nn.utils.parametrizations.weight_norm.\n",
      "  warnings.warn(\"torch.nn.utils.weight_norm is deprecated in favor of torch.nn.utils.parametrizations.weight_norm.\")\n"
     ]
    },
    {
     "name": "stdout",
     "output_type": "stream",
     "text": [
      "Loaded checkpoint 'checkpoints/base_speakers/EN/checkpoint.pth'\n",
      "missing/unexpected keys: [] []\n",
      "Loaded checkpoint 'checkpoints/converter/checkpoint.pth'\n",
      "missing/unexpected keys: [] []\n",
      "OpenVoice version: v1\n",
      "[(0.0, 10.0906875)]\n",
      "after vad: dur = 10.09\n",
      " > Text splitted to sentences.\n",
      "Life is a beautiful journey, make each day count.\n",
      " > ===========================\n",
      "laɪf ɪz ə ˈbjutəfəɫ ˈdʒəɹni, meɪk itʃ deɪ kaʊnt.\n",
      " length:48\n",
      " length:48\n",
      "Cloned Voice Generated!\n"
     ]
    },
    {
     "name": "stderr",
     "output_type": "stream",
     "text": [
      "/opt/anaconda3/envs/openvoice/lib/python3.9/site-packages/torch/nn/utils/weight_norm.py:28: UserWarning: torch.nn.utils.weight_norm is deprecated in favor of torch.nn.utils.parametrizations.weight_norm.\n",
      "  warnings.warn(\"torch.nn.utils.weight_norm is deprecated in favor of torch.nn.utils.parametrizations.weight_norm.\")\n"
     ]
    },
    {
     "name": "stdout",
     "output_type": "stream",
     "text": [
      "Loaded checkpoint 'checkpoints/base_speakers/EN/checkpoint.pth'\n",
      "missing/unexpected keys: [] []\n",
      "Loaded checkpoint 'checkpoints/converter/checkpoint.pth'\n",
      "missing/unexpected keys: [] []\n",
      "OpenVoice version: v1\n",
      "[(0.0, 10.0906875)]\n",
      "after vad: dur = 10.09\n",
      " > Text splitted to sentences.\n",
      "Life is a beautiful journey, make each day count.\n",
      " > ===========================\n",
      "laɪf ɪz ə ˈbjutəfəɫ ˈdʒəɹni, meɪk itʃ deɪ kaʊnt.\n",
      " length:48\n",
      " length:48\n",
      "Cloned Voice Generated!\n"
     ]
    },
    {
     "name": "stderr",
     "output_type": "stream",
     "text": [
      "/opt/anaconda3/envs/openvoice/lib/python3.9/site-packages/torch/nn/utils/weight_norm.py:28: UserWarning: torch.nn.utils.weight_norm is deprecated in favor of torch.nn.utils.parametrizations.weight_norm.\n",
      "  warnings.warn(\"torch.nn.utils.weight_norm is deprecated in favor of torch.nn.utils.parametrizations.weight_norm.\")\n"
     ]
    },
    {
     "name": "stdout",
     "output_type": "stream",
     "text": [
      "Loaded checkpoint 'checkpoints/base_speakers/EN/checkpoint.pth'\n",
      "missing/unexpected keys: [] []\n",
      "Loaded checkpoint 'checkpoints/converter/checkpoint.pth'\n",
      "missing/unexpected keys: [] []\n",
      "OpenVoice version: v1\n",
      "[(0.0, 10.0906875)]\n",
      "after vad: dur = 10.09\n",
      " > Text splitted to sentences.\n",
      "Life is a beautiful journey, make each day count.\n",
      " > ===========================\n",
      "laɪf ɪz ə ˈbjutəfəɫ ˈdʒəɹni, meɪk itʃ deɪ kaʊnt.\n",
      " length:48\n",
      " length:48\n",
      "Cloned Voice Generated!\n"
     ]
    },
    {
     "name": "stderr",
     "output_type": "stream",
     "text": [
      "/opt/anaconda3/envs/openvoice/lib/python3.9/site-packages/torch/nn/utils/weight_norm.py:28: UserWarning: torch.nn.utils.weight_norm is deprecated in favor of torch.nn.utils.parametrizations.weight_norm.\n",
      "  warnings.warn(\"torch.nn.utils.weight_norm is deprecated in favor of torch.nn.utils.parametrizations.weight_norm.\")\n"
     ]
    },
    {
     "name": "stdout",
     "output_type": "stream",
     "text": [
      "Loaded checkpoint 'checkpoints/base_speakers/EN/checkpoint.pth'\n",
      "missing/unexpected keys: [] []\n",
      "Loaded checkpoint 'checkpoints/converter/checkpoint.pth'\n",
      "missing/unexpected keys: [] []\n",
      "OpenVoice version: v1\n",
      "[(0.0, 10.0906875)]\n",
      "after vad: dur = 10.09\n",
      " > Text splitted to sentences.\n",
      "In the end, it's not the years in your life that count.\n",
      "It's the life in your years. - Abraham Lincoln\n",
      " > ===========================\n",
      "ɪn ðə ɛnd, ɪts nɑt ðə jɪɹz ɪn jʊɹ laɪf ðət kaʊnt.\n",
      " length:49\n",
      " length:49\n",
      "ɪts ðə laɪf ɪn jʊɹ jɪɹz. ˈeɪbɹəˌhæm ˈlɪŋkən.\n",
      " length:44\n",
      " length:44\n",
      "Cloned Voice Generated!\n"
     ]
    },
    {
     "name": "stderr",
     "output_type": "stream",
     "text": [
      "/opt/anaconda3/envs/openvoice/lib/python3.9/site-packages/torch/nn/utils/weight_norm.py:28: UserWarning: torch.nn.utils.weight_norm is deprecated in favor of torch.nn.utils.parametrizations.weight_norm.\n",
      "  warnings.warn(\"torch.nn.utils.weight_norm is deprecated in favor of torch.nn.utils.parametrizations.weight_norm.\")\n"
     ]
    },
    {
     "name": "stdout",
     "output_type": "stream",
     "text": [
      "Loaded checkpoint 'checkpoints/base_speakers/EN/checkpoint.pth'\n",
      "missing/unexpected keys: [] []\n",
      "Loaded checkpoint 'checkpoints/converter/checkpoint.pth'\n",
      "missing/unexpected keys: [] []\n",
      "OpenVoice version: v1\n",
      "[(0.0, 10.0906875)]\n",
      "after vad: dur = 10.09\n",
      " > Text splitted to sentences.\n",
      "In the end, it's not the years in your life that count.\n",
      "It's the life in your years. - Abraham Lincoln\n",
      " > ===========================\n",
      "ɪn ðə ɛnd, ɪts nɑt ðə jɪɹz ɪn jʊɹ laɪf ðət kaʊnt.\n",
      " length:49\n",
      " length:49\n",
      "ɪts ðə laɪf ɪn jʊɹ jɪɹz. ˈeɪbɹəˌhæm ˈlɪŋkən.\n",
      " length:44\n",
      " length:44\n",
      "Cloned Voice Generated!\n"
     ]
    },
    {
     "name": "stderr",
     "output_type": "stream",
     "text": [
      "/opt/anaconda3/envs/openvoice/lib/python3.9/site-packages/torch/nn/utils/weight_norm.py:28: UserWarning: torch.nn.utils.weight_norm is deprecated in favor of torch.nn.utils.parametrizations.weight_norm.\n",
      "  warnings.warn(\"torch.nn.utils.weight_norm is deprecated in favor of torch.nn.utils.parametrizations.weight_norm.\")\n"
     ]
    },
    {
     "name": "stdout",
     "output_type": "stream",
     "text": [
      "Loaded checkpoint 'checkpoints/base_speakers/EN/checkpoint.pth'\n",
      "missing/unexpected keys: [] []\n",
      "Loaded checkpoint 'checkpoints/converter/checkpoint.pth'\n",
      "missing/unexpected keys: [] []\n",
      "OpenVoice version: v1\n",
      "[(0.0, 10.0906875)]\n",
      "after vad: dur = 10.09\n",
      " > Text splitted to sentences.\n",
      "In the end, it's not the years in your life that count.\n",
      "It's the life in your years. - Abraham Lincoln\n",
      " > ===========================\n",
      "ɪn ðə ɛnd, ɪts nɑt ðə jɪɹz ɪn jʊɹ laɪf ðət kaʊnt.\n",
      " length:49\n",
      " length:49\n",
      "ɪts ðə laɪf ɪn jʊɹ jɪɹz. ˈeɪbɹəˌhæm ˈlɪŋkən.\n",
      " length:44\n",
      " length:44\n",
      "Cloned Voice Generated!\n"
     ]
    },
    {
     "name": "stderr",
     "output_type": "stream",
     "text": [
      "/opt/anaconda3/envs/openvoice/lib/python3.9/site-packages/torch/nn/utils/weight_norm.py:28: UserWarning: torch.nn.utils.weight_norm is deprecated in favor of torch.nn.utils.parametrizations.weight_norm.\n",
      "  warnings.warn(\"torch.nn.utils.weight_norm is deprecated in favor of torch.nn.utils.parametrizations.weight_norm.\")\n"
     ]
    },
    {
     "name": "stdout",
     "output_type": "stream",
     "text": [
      "Loaded checkpoint 'checkpoints/base_speakers/EN/checkpoint.pth'\n",
      "missing/unexpected keys: [] []\n",
      "Loaded checkpoint 'checkpoints/converter/checkpoint.pth'\n",
      "missing/unexpected keys: [] []\n",
      "OpenVoice version: v1\n",
      "[(0.0, 10.0906875)]\n",
      "after vad: dur = 10.09\n",
      " > Text splitted to sentences.\n",
      "In the end, it's not the years in your life that count.\n",
      "It's the life in your years. - Abraham Lincoln\n",
      " > ===========================\n",
      "ɪn ðə ɛnd, ɪts nɑt ðə jɪɹz ɪn jʊɹ laɪf ðət kaʊnt.\n",
      " length:49\n",
      " length:49\n",
      "ɪts ðə laɪf ɪn jʊɹ jɪɹz. ˈeɪbɹəˌhæm ˈlɪŋkən.\n",
      " length:44\n",
      " length:44\n",
      "Cloned Voice Generated!\n"
     ]
    },
    {
     "name": "stderr",
     "output_type": "stream",
     "text": [
      "/opt/anaconda3/envs/openvoice/lib/python3.9/site-packages/torch/nn/utils/weight_norm.py:28: UserWarning: torch.nn.utils.weight_norm is deprecated in favor of torch.nn.utils.parametrizations.weight_norm.\n",
      "  warnings.warn(\"torch.nn.utils.weight_norm is deprecated in favor of torch.nn.utils.parametrizations.weight_norm.\")\n"
     ]
    },
    {
     "name": "stdout",
     "output_type": "stream",
     "text": [
      "Loaded checkpoint 'checkpoints/base_speakers/EN/checkpoint.pth'\n",
      "missing/unexpected keys: [] []\n",
      "Loaded checkpoint 'checkpoints/converter/checkpoint.pth'\n",
      "missing/unexpected keys: [] []\n",
      "OpenVoice version: v1\n",
      "[(0.0, 10.0906875)]\n",
      "after vad: dur = 10.09\n",
      " > Text splitted to sentences.\n",
      "In the end, it's not the years in your life that count.\n",
      "It's the life in your years. - Abraham Lincoln\n",
      " > ===========================\n",
      "ɪn ðə ɛnd, ɪts nɑt ðə jɪɹz ɪn jʊɹ laɪf ðət kaʊnt.\n",
      " length:49\n",
      " length:49\n",
      "ɪts ðə laɪf ɪn jʊɹ jɪɹz. ˈeɪbɹəˌhæm ˈlɪŋkən.\n",
      " length:44\n",
      " length:44\n",
      "Cloned Voice Generated!\n"
     ]
    },
    {
     "name": "stderr",
     "output_type": "stream",
     "text": [
      "/opt/anaconda3/envs/openvoice/lib/python3.9/site-packages/torch/nn/utils/weight_norm.py:28: UserWarning: torch.nn.utils.weight_norm is deprecated in favor of torch.nn.utils.parametrizations.weight_norm.\n",
      "  warnings.warn(\"torch.nn.utils.weight_norm is deprecated in favor of torch.nn.utils.parametrizations.weight_norm.\")\n"
     ]
    },
    {
     "name": "stdout",
     "output_type": "stream",
     "text": [
      "Loaded checkpoint 'checkpoints/base_speakers/EN/checkpoint.pth'\n",
      "missing/unexpected keys: [] []\n",
      "Loaded checkpoint 'checkpoints/converter/checkpoint.pth'\n",
      "missing/unexpected keys: [] []\n",
      "OpenVoice version: v1\n",
      "[(0.0, 10.0906875)]\n",
      "after vad: dur = 10.09\n",
      " > Text splitted to sentences.\n",
      "The quick brown fox jumps over the lazy dog, and the clever red squirrel gathers acorns for the winter.\n",
      "Meanwhile, the majestic eagle soars high above the treetops, surveying the vast landscape below.\n",
      "In the distance, a herd of graceful deer graze peacefully in the lush green meadow,\n",
      "as a babbling brook winds its way through the tranquil forest.\n",
      " > ===========================\n",
      "ðə kwɪk bɹaʊn fɑks dʒəmps ˈoʊvəɹ ðə ˈleɪzi dɔg, ənd ðə ˈklɛvəɹ ɹɛd skwəɹəɫ ˈgæðəɹz ˈeɪkɔɹnz fəɹ ðə ˈwɪntəɹ.\n",
      " length:107\n",
      " length:107\n",
      "ˈminˌwaɪɫ, ðə məˈdʒɛstɪk ˈigəɫ sɔɹz haɪ əˈbəv ðə ˈtɹiˌtɔps, ˈsəɹˌveɪɪŋ ðə væst ˈlænˌskeɪp bɪˈloʊ.\n",
      " length:97\n",
      " length:97\n",
      "ɪn ðə ˈdɪstəns, ə həɹd əv ˈgɹeɪsfəɫ dɪɹ gɹeɪz ˈpisfəli ɪn ðə ləʃ gɹin ˈmɛˌdoʊ,\n",
      " length:78\n",
      " length:78\n",
      "ɛz ə ˈbæbəlɪŋ bɹʊk wɪndz ɪts weɪ θɹu ðə ˈtɹæŋkwɪɫ ˈfɔɹɪst.\n",
      " length:58\n",
      " length:58\n",
      "Cloned Voice Generated!\n"
     ]
    },
    {
     "name": "stderr",
     "output_type": "stream",
     "text": [
      "/opt/anaconda3/envs/openvoice/lib/python3.9/site-packages/torch/nn/utils/weight_norm.py:28: UserWarning: torch.nn.utils.weight_norm is deprecated in favor of torch.nn.utils.parametrizations.weight_norm.\n",
      "  warnings.warn(\"torch.nn.utils.weight_norm is deprecated in favor of torch.nn.utils.parametrizations.weight_norm.\")\n"
     ]
    },
    {
     "name": "stdout",
     "output_type": "stream",
     "text": [
      "Loaded checkpoint 'checkpoints/base_speakers/EN/checkpoint.pth'\n",
      "missing/unexpected keys: [] []\n",
      "Loaded checkpoint 'checkpoints/converter/checkpoint.pth'\n",
      "missing/unexpected keys: [] []\n",
      "OpenVoice version: v1\n",
      "[(0.0, 10.0906875)]\n",
      "after vad: dur = 10.09\n",
      " > Text splitted to sentences.\n",
      "The quick brown fox jumps over the lazy dog, and the clever red squirrel gathers acorns for the winter.\n",
      "Meanwhile, the majestic eagle soars high above the treetops, surveying the vast landscape below.\n",
      "In the distance, a herd of graceful deer graze peacefully in the lush green meadow,\n",
      "as a babbling brook winds its way through the tranquil forest.\n",
      " > ===========================\n",
      "ðə kwɪk bɹaʊn fɑks dʒəmps ˈoʊvəɹ ðə ˈleɪzi dɔg, ənd ðə ˈklɛvəɹ ɹɛd skwəɹəɫ ˈgæðəɹz ˈeɪkɔɹnz fəɹ ðə ˈwɪntəɹ.\n",
      " length:107\n",
      " length:107\n",
      "ˈminˌwaɪɫ, ðə məˈdʒɛstɪk ˈigəɫ sɔɹz haɪ əˈbəv ðə ˈtɹiˌtɔps, ˈsəɹˌveɪɪŋ ðə væst ˈlænˌskeɪp bɪˈloʊ.\n",
      " length:97\n",
      " length:97\n",
      "ɪn ðə ˈdɪstəns, ə həɹd əv ˈgɹeɪsfəɫ dɪɹ gɹeɪz ˈpisfəli ɪn ðə ləʃ gɹin ˈmɛˌdoʊ,\n",
      " length:78\n",
      " length:78\n",
      "ɛz ə ˈbæbəlɪŋ bɹʊk wɪndz ɪts weɪ θɹu ðə ˈtɹæŋkwɪɫ ˈfɔɹɪst.\n",
      " length:58\n",
      " length:58\n",
      "Cloned Voice Generated!\n"
     ]
    },
    {
     "name": "stderr",
     "output_type": "stream",
     "text": [
      "/opt/anaconda3/envs/openvoice/lib/python3.9/site-packages/torch/nn/utils/weight_norm.py:28: UserWarning: torch.nn.utils.weight_norm is deprecated in favor of torch.nn.utils.parametrizations.weight_norm.\n",
      "  warnings.warn(\"torch.nn.utils.weight_norm is deprecated in favor of torch.nn.utils.parametrizations.weight_norm.\")\n"
     ]
    },
    {
     "name": "stdout",
     "output_type": "stream",
     "text": [
      "Loaded checkpoint 'checkpoints/base_speakers/EN/checkpoint.pth'\n",
      "missing/unexpected keys: [] []\n",
      "Loaded checkpoint 'checkpoints/converter/checkpoint.pth'\n",
      "missing/unexpected keys: [] []\n",
      "OpenVoice version: v1\n",
      "[(0.0, 10.0906875)]\n",
      "after vad: dur = 10.09\n",
      " > Text splitted to sentences.\n",
      "The quick brown fox jumps over the lazy dog, and the clever red squirrel gathers acorns for the winter.\n",
      "Meanwhile, the majestic eagle soars high above the treetops, surveying the vast landscape below.\n",
      "In the distance, a herd of graceful deer graze peacefully in the lush green meadow,\n",
      "as a babbling brook winds its way through the tranquil forest.\n",
      " > ===========================\n",
      "ðə kwɪk bɹaʊn fɑks dʒəmps ˈoʊvəɹ ðə ˈleɪzi dɔg, ənd ðə ˈklɛvəɹ ɹɛd skwəɹəɫ ˈgæðəɹz ˈeɪkɔɹnz fəɹ ðə ˈwɪntəɹ.\n",
      " length:107\n",
      " length:107\n",
      "ˈminˌwaɪɫ, ðə məˈdʒɛstɪk ˈigəɫ sɔɹz haɪ əˈbəv ðə ˈtɹiˌtɔps, ˈsəɹˌveɪɪŋ ðə væst ˈlænˌskeɪp bɪˈloʊ.\n",
      " length:97\n",
      " length:97\n",
      "ɪn ðə ˈdɪstəns, ə həɹd əv ˈgɹeɪsfəɫ dɪɹ gɹeɪz ˈpisfəli ɪn ðə ləʃ gɹin ˈmɛˌdoʊ,\n",
      " length:78\n",
      " length:78\n",
      "ɛz ə ˈbæbəlɪŋ bɹʊk wɪndz ɪts weɪ θɹu ðə ˈtɹæŋkwɪɫ ˈfɔɹɪst.\n",
      " length:58\n",
      " length:58\n",
      "Cloned Voice Generated!\n"
     ]
    },
    {
     "name": "stderr",
     "output_type": "stream",
     "text": [
      "/opt/anaconda3/envs/openvoice/lib/python3.9/site-packages/torch/nn/utils/weight_norm.py:28: UserWarning: torch.nn.utils.weight_norm is deprecated in favor of torch.nn.utils.parametrizations.weight_norm.\n",
      "  warnings.warn(\"torch.nn.utils.weight_norm is deprecated in favor of torch.nn.utils.parametrizations.weight_norm.\")\n"
     ]
    },
    {
     "name": "stdout",
     "output_type": "stream",
     "text": [
      "Loaded checkpoint 'checkpoints/base_speakers/EN/checkpoint.pth'\n",
      "missing/unexpected keys: [] []\n",
      "Loaded checkpoint 'checkpoints/converter/checkpoint.pth'\n",
      "missing/unexpected keys: [] []\n",
      "OpenVoice version: v1\n",
      "[(0.0, 10.0906875)]\n",
      "after vad: dur = 10.09\n",
      " > Text splitted to sentences.\n",
      "The quick brown fox jumps over the lazy dog, and the clever red squirrel gathers acorns for the winter.\n",
      "Meanwhile, the majestic eagle soars high above the treetops, surveying the vast landscape below.\n",
      "In the distance, a herd of graceful deer graze peacefully in the lush green meadow,\n",
      "as a babbling brook winds its way through the tranquil forest.\n",
      " > ===========================\n",
      "ðə kwɪk bɹaʊn fɑks dʒəmps ˈoʊvəɹ ðə ˈleɪzi dɔg, ənd ðə ˈklɛvəɹ ɹɛd skwəɹəɫ ˈgæðəɹz ˈeɪkɔɹnz fəɹ ðə ˈwɪntəɹ.\n",
      " length:107\n",
      " length:107\n",
      "ˈminˌwaɪɫ, ðə məˈdʒɛstɪk ˈigəɫ sɔɹz haɪ əˈbəv ðə ˈtɹiˌtɔps, ˈsəɹˌveɪɪŋ ðə væst ˈlænˌskeɪp bɪˈloʊ.\n",
      " length:97\n",
      " length:97\n",
      "ɪn ðə ˈdɪstəns, ə həɹd əv ˈgɹeɪsfəɫ dɪɹ gɹeɪz ˈpisfəli ɪn ðə ləʃ gɹin ˈmɛˌdoʊ,\n",
      " length:78\n",
      " length:78\n",
      "ɛz ə ˈbæbəlɪŋ bɹʊk wɪndz ɪts weɪ θɹu ðə ˈtɹæŋkwɪɫ ˈfɔɹɪst.\n",
      " length:58\n",
      " length:58\n",
      "Cloned Voice Generated!\n"
     ]
    },
    {
     "name": "stderr",
     "output_type": "stream",
     "text": [
      "/opt/anaconda3/envs/openvoice/lib/python3.9/site-packages/torch/nn/utils/weight_norm.py:28: UserWarning: torch.nn.utils.weight_norm is deprecated in favor of torch.nn.utils.parametrizations.weight_norm.\n",
      "  warnings.warn(\"torch.nn.utils.weight_norm is deprecated in favor of torch.nn.utils.parametrizations.weight_norm.\")\n"
     ]
    },
    {
     "name": "stdout",
     "output_type": "stream",
     "text": [
      "Loaded checkpoint 'checkpoints/base_speakers/EN/checkpoint.pth'\n",
      "missing/unexpected keys: [] []\n",
      "Loaded checkpoint 'checkpoints/converter/checkpoint.pth'\n",
      "missing/unexpected keys: [] []\n",
      "OpenVoice version: v1\n",
      "[(0.0, 10.0906875)]\n",
      "after vad: dur = 10.09\n",
      " > Text splitted to sentences.\n",
      "The quick brown fox jumps over the lazy dog, and the clever red squirrel gathers acorns for the winter.\n",
      "Meanwhile, the majestic eagle soars high above the treetops, surveying the vast landscape below.\n",
      "In the distance, a herd of graceful deer graze peacefully in the lush green meadow,\n",
      "as a babbling brook winds its way through the tranquil forest.\n",
      " > ===========================\n",
      "ðə kwɪk bɹaʊn fɑks dʒəmps ˈoʊvəɹ ðə ˈleɪzi dɔg, ənd ðə ˈklɛvəɹ ɹɛd skwəɹəɫ ˈgæðəɹz ˈeɪkɔɹnz fəɹ ðə ˈwɪntəɹ.\n",
      " length:107\n",
      " length:107\n",
      "ˈminˌwaɪɫ, ðə məˈdʒɛstɪk ˈigəɫ sɔɹz haɪ əˈbəv ðə ˈtɹiˌtɔps, ˈsəɹˌveɪɪŋ ðə væst ˈlænˌskeɪp bɪˈloʊ.\n",
      " length:97\n",
      " length:97\n",
      "ɪn ðə ˈdɪstəns, ə həɹd əv ˈgɹeɪsfəɫ dɪɹ gɹeɪz ˈpisfəli ɪn ðə ləʃ gɹin ˈmɛˌdoʊ,\n",
      " length:78\n",
      " length:78\n",
      "ɛz ə ˈbæbəlɪŋ bɹʊk wɪndz ɪts weɪ θɹu ðə ˈtɹæŋkwɪɫ ˈfɔɹɪst.\n",
      " length:58\n",
      " length:58\n",
      "Cloned Voice Generated!\n"
     ]
    },
    {
     "name": "stderr",
     "output_type": "stream",
     "text": [
      "/opt/anaconda3/envs/openvoice/lib/python3.9/site-packages/torch/nn/utils/weight_norm.py:28: UserWarning: torch.nn.utils.weight_norm is deprecated in favor of torch.nn.utils.parametrizations.weight_norm.\n",
      "  warnings.warn(\"torch.nn.utils.weight_norm is deprecated in favor of torch.nn.utils.parametrizations.weight_norm.\")\n"
     ]
    },
    {
     "name": "stdout",
     "output_type": "stream",
     "text": [
      "Loaded checkpoint 'checkpoints/base_speakers/EN/checkpoint.pth'\n",
      "missing/unexpected keys: [] []\n",
      "Loaded checkpoint 'checkpoints/converter/checkpoint.pth'\n",
      "missing/unexpected keys: [] []\n",
      "OpenVoice version: v1\n",
      "[(0.0, 10.0906875)]\n",
      "after vad: dur = 10.09\n",
      " > Text splitted to sentences.\n",
      "We all have two lives. The second one starts when we realize we only have one.\n",
      "It's never too late to become the person you've always wanted to be.\n",
      "Embrace change, take chances, and never stop learning. Life is too short to waste time on things that don't matter.\n",
      "Surround yourself with people who lift you up, and cherish the moments you have with them.\n",
      "Remember, happiness is a choice, not a destination. Wake up each day with a grateful heart and a determination to make a difference,\n",
      "no matter how small. Your story is unique, and it's up to you to make it a great one.\n",
      " > ===========================\n",
      "wi ɔɫ hæv tu lɪvz. ðə ˈsɛkənd wən stɑɹts wɪn wi ˈɹiəˌlaɪz wi ˈoʊnli hæv wən.\n",
      " length:76\n",
      " length:76\n",
      "ɪts ˈnɛvəɹ tu leɪt tɪ bɪˈkəm ðə ˈpəɹsən juv ˈɔlˌweɪz ˈwɔntɪd tɪ bi.\n",
      " length:67\n",
      " length:67\n",
      "ɪmˈbɹeɪs tʃeɪndʒ, teɪk ˈtʃænsɪz, ənd ˈnɛvəɹ stɑp ˈləɹnɪŋ. laɪf ɪz tu ʃɔɹt tɪ weɪst taɪm ɔn θɪŋz ðət doʊnt ˈmætəɹ.\n",
      " length:113\n",
      " length:113\n",
      "səɹaʊnd ˈjɔɹsɛɫf wɪθ ˈpipəɫ hu lɪft ju əp, ənd ˈtʃɛɹɪʃ ðə ˈmoʊmənts ju hæv wɪθ ðɛm.\n",
      " length:83\n",
      " length:83\n",
      "ɹɪˈmɛmbəɹ, ˈhæpinəs ɪz ə tʃɔɪs, nɑt ə ˌdɛstɪˈneɪʃən. weɪk əp itʃ deɪ wɪθ ə ˈgɹeɪtfəɫ hɑɹt ənd ə dɪˌtəɹməˈneɪʃən tɪ meɪk ə ˈdɪfəɹəns,\n",
      " length:132\n",
      " length:132\n",
      "noʊ ˈmætəɹ haʊ smɔɫ. jʊɹ ˈstɔɹi ɪz juˈnik, ənd ɪts əp tɪ ju tɪ meɪk ɪt ə gɹeɪt wən.\n",
      " length:83\n",
      " length:83\n",
      "Cloned Voice Generated!\n"
     ]
    },
    {
     "name": "stderr",
     "output_type": "stream",
     "text": [
      "/opt/anaconda3/envs/openvoice/lib/python3.9/site-packages/torch/nn/utils/weight_norm.py:28: UserWarning: torch.nn.utils.weight_norm is deprecated in favor of torch.nn.utils.parametrizations.weight_norm.\n",
      "  warnings.warn(\"torch.nn.utils.weight_norm is deprecated in favor of torch.nn.utils.parametrizations.weight_norm.\")\n"
     ]
    },
    {
     "name": "stdout",
     "output_type": "stream",
     "text": [
      "Loaded checkpoint 'checkpoints/base_speakers/EN/checkpoint.pth'\n",
      "missing/unexpected keys: [] []\n",
      "Loaded checkpoint 'checkpoints/converter/checkpoint.pth'\n",
      "missing/unexpected keys: [] []\n",
      "OpenVoice version: v1\n",
      "[(0.0, 10.0906875)]\n",
      "after vad: dur = 10.09\n",
      " > Text splitted to sentences.\n",
      "We all have two lives. The second one starts when we realize we only have one.\n",
      "It's never too late to become the person you've always wanted to be.\n",
      "Embrace change, take chances, and never stop learning. Life is too short to waste time on things that don't matter.\n",
      "Surround yourself with people who lift you up, and cherish the moments you have with them.\n",
      "Remember, happiness is a choice, not a destination. Wake up each day with a grateful heart and a determination to make a difference,\n",
      "no matter how small. Your story is unique, and it's up to you to make it a great one.\n",
      " > ===========================\n",
      "wi ɔɫ hæv tu lɪvz. ðə ˈsɛkənd wən stɑɹts wɪn wi ˈɹiəˌlaɪz wi ˈoʊnli hæv wən.\n",
      " length:76\n",
      " length:76\n",
      "ɪts ˈnɛvəɹ tu leɪt tɪ bɪˈkəm ðə ˈpəɹsən juv ˈɔlˌweɪz ˈwɔntɪd tɪ bi.\n",
      " length:67\n",
      " length:67\n",
      "ɪmˈbɹeɪs tʃeɪndʒ, teɪk ˈtʃænsɪz, ənd ˈnɛvəɹ stɑp ˈləɹnɪŋ. laɪf ɪz tu ʃɔɹt tɪ weɪst taɪm ɔn θɪŋz ðət doʊnt ˈmætəɹ.\n",
      " length:113\n",
      " length:113\n",
      "səɹaʊnd ˈjɔɹsɛɫf wɪθ ˈpipəɫ hu lɪft ju əp, ənd ˈtʃɛɹɪʃ ðə ˈmoʊmənts ju hæv wɪθ ðɛm.\n",
      " length:83\n",
      " length:83\n",
      "ɹɪˈmɛmbəɹ, ˈhæpinəs ɪz ə tʃɔɪs, nɑt ə ˌdɛstɪˈneɪʃən. weɪk əp itʃ deɪ wɪθ ə ˈgɹeɪtfəɫ hɑɹt ənd ə dɪˌtəɹməˈneɪʃən tɪ meɪk ə ˈdɪfəɹəns,\n",
      " length:132\n",
      " length:132\n",
      "noʊ ˈmætəɹ haʊ smɔɫ. jʊɹ ˈstɔɹi ɪz juˈnik, ənd ɪts əp tɪ ju tɪ meɪk ɪt ə gɹeɪt wən.\n",
      " length:83\n",
      " length:83\n",
      "Cloned Voice Generated!\n"
     ]
    },
    {
     "name": "stderr",
     "output_type": "stream",
     "text": [
      "/opt/anaconda3/envs/openvoice/lib/python3.9/site-packages/torch/nn/utils/weight_norm.py:28: UserWarning: torch.nn.utils.weight_norm is deprecated in favor of torch.nn.utils.parametrizations.weight_norm.\n",
      "  warnings.warn(\"torch.nn.utils.weight_norm is deprecated in favor of torch.nn.utils.parametrizations.weight_norm.\")\n"
     ]
    },
    {
     "name": "stdout",
     "output_type": "stream",
     "text": [
      "Loaded checkpoint 'checkpoints/base_speakers/EN/checkpoint.pth'\n",
      "missing/unexpected keys: [] []\n",
      "Loaded checkpoint 'checkpoints/converter/checkpoint.pth'\n",
      "missing/unexpected keys: [] []\n",
      "OpenVoice version: v1\n",
      "[(0.0, 10.0906875)]\n",
      "after vad: dur = 10.09\n",
      " > Text splitted to sentences.\n",
      "We all have two lives. The second one starts when we realize we only have one.\n",
      "It's never too late to become the person you've always wanted to be.\n",
      "Embrace change, take chances, and never stop learning. Life is too short to waste time on things that don't matter.\n",
      "Surround yourself with people who lift you up, and cherish the moments you have with them.\n",
      "Remember, happiness is a choice, not a destination. Wake up each day with a grateful heart and a determination to make a difference,\n",
      "no matter how small. Your story is unique, and it's up to you to make it a great one.\n",
      " > ===========================\n",
      "wi ɔɫ hæv tu lɪvz. ðə ˈsɛkənd wən stɑɹts wɪn wi ˈɹiəˌlaɪz wi ˈoʊnli hæv wən.\n",
      " length:76\n",
      " length:76\n",
      "ɪts ˈnɛvəɹ tu leɪt tɪ bɪˈkəm ðə ˈpəɹsən juv ˈɔlˌweɪz ˈwɔntɪd tɪ bi.\n",
      " length:67\n",
      " length:67\n",
      "ɪmˈbɹeɪs tʃeɪndʒ, teɪk ˈtʃænsɪz, ənd ˈnɛvəɹ stɑp ˈləɹnɪŋ. laɪf ɪz tu ʃɔɹt tɪ weɪst taɪm ɔn θɪŋz ðət doʊnt ˈmætəɹ.\n",
      " length:113\n",
      " length:113\n",
      "səɹaʊnd ˈjɔɹsɛɫf wɪθ ˈpipəɫ hu lɪft ju əp, ənd ˈtʃɛɹɪʃ ðə ˈmoʊmənts ju hæv wɪθ ðɛm.\n",
      " length:83\n",
      " length:83\n",
      "ɹɪˈmɛmbəɹ, ˈhæpinəs ɪz ə tʃɔɪs, nɑt ə ˌdɛstɪˈneɪʃən. weɪk əp itʃ deɪ wɪθ ə ˈgɹeɪtfəɫ hɑɹt ənd ə dɪˌtəɹməˈneɪʃən tɪ meɪk ə ˈdɪfəɹəns,\n",
      " length:132\n",
      " length:132\n",
      "noʊ ˈmætəɹ haʊ smɔɫ. jʊɹ ˈstɔɹi ɪz juˈnik, ənd ɪts əp tɪ ju tɪ meɪk ɪt ə gɹeɪt wən.\n",
      " length:83\n",
      " length:83\n",
      "Cloned Voice Generated!\n"
     ]
    },
    {
     "name": "stderr",
     "output_type": "stream",
     "text": [
      "/opt/anaconda3/envs/openvoice/lib/python3.9/site-packages/torch/nn/utils/weight_norm.py:28: UserWarning: torch.nn.utils.weight_norm is deprecated in favor of torch.nn.utils.parametrizations.weight_norm.\n",
      "  warnings.warn(\"torch.nn.utils.weight_norm is deprecated in favor of torch.nn.utils.parametrizations.weight_norm.\")\n"
     ]
    },
    {
     "name": "stdout",
     "output_type": "stream",
     "text": [
      "Loaded checkpoint 'checkpoints/base_speakers/EN/checkpoint.pth'\n",
      "missing/unexpected keys: [] []\n",
      "Loaded checkpoint 'checkpoints/converter/checkpoint.pth'\n",
      "missing/unexpected keys: [] []\n",
      "OpenVoice version: v1\n",
      "[(0.0, 10.0906875)]\n",
      "after vad: dur = 10.09\n",
      " > Text splitted to sentences.\n",
      "We all have two lives. The second one starts when we realize we only have one.\n",
      "It's never too late to become the person you've always wanted to be.\n",
      "Embrace change, take chances, and never stop learning. Life is too short to waste time on things that don't matter.\n",
      "Surround yourself with people who lift you up, and cherish the moments you have with them.\n",
      "Remember, happiness is a choice, not a destination. Wake up each day with a grateful heart and a determination to make a difference,\n",
      "no matter how small. Your story is unique, and it's up to you to make it a great one.\n",
      " > ===========================\n",
      "wi ɔɫ hæv tu lɪvz. ðə ˈsɛkənd wən stɑɹts wɪn wi ˈɹiəˌlaɪz wi ˈoʊnli hæv wən.\n",
      " length:76\n",
      " length:76\n",
      "ɪts ˈnɛvəɹ tu leɪt tɪ bɪˈkəm ðə ˈpəɹsən juv ˈɔlˌweɪz ˈwɔntɪd tɪ bi.\n",
      " length:67\n",
      " length:67\n",
      "ɪmˈbɹeɪs tʃeɪndʒ, teɪk ˈtʃænsɪz, ənd ˈnɛvəɹ stɑp ˈləɹnɪŋ. laɪf ɪz tu ʃɔɹt tɪ weɪst taɪm ɔn θɪŋz ðət doʊnt ˈmætəɹ.\n",
      " length:113\n",
      " length:113\n",
      "səɹaʊnd ˈjɔɹsɛɫf wɪθ ˈpipəɫ hu lɪft ju əp, ənd ˈtʃɛɹɪʃ ðə ˈmoʊmənts ju hæv wɪθ ðɛm.\n",
      " length:83\n",
      " length:83\n",
      "ɹɪˈmɛmbəɹ, ˈhæpinəs ɪz ə tʃɔɪs, nɑt ə ˌdɛstɪˈneɪʃən. weɪk əp itʃ deɪ wɪθ ə ˈgɹeɪtfəɫ hɑɹt ənd ə dɪˌtəɹməˈneɪʃən tɪ meɪk ə ˈdɪfəɹəns,\n",
      " length:132\n",
      " length:132\n",
      "noʊ ˈmætəɹ haʊ smɔɫ. jʊɹ ˈstɔɹi ɪz juˈnik, ənd ɪts əp tɪ ju tɪ meɪk ɪt ə gɹeɪt wən.\n",
      " length:83\n",
      " length:83\n",
      "Cloned Voice Generated!\n"
     ]
    },
    {
     "name": "stderr",
     "output_type": "stream",
     "text": [
      "/opt/anaconda3/envs/openvoice/lib/python3.9/site-packages/torch/nn/utils/weight_norm.py:28: UserWarning: torch.nn.utils.weight_norm is deprecated in favor of torch.nn.utils.parametrizations.weight_norm.\n",
      "  warnings.warn(\"torch.nn.utils.weight_norm is deprecated in favor of torch.nn.utils.parametrizations.weight_norm.\")\n"
     ]
    },
    {
     "name": "stdout",
     "output_type": "stream",
     "text": [
      "Loaded checkpoint 'checkpoints/base_speakers/EN/checkpoint.pth'\n",
      "missing/unexpected keys: [] []\n",
      "Loaded checkpoint 'checkpoints/converter/checkpoint.pth'\n",
      "missing/unexpected keys: [] []\n",
      "OpenVoice version: v1\n",
      "[(0.0, 10.0906875)]\n",
      "after vad: dur = 10.09\n",
      " > Text splitted to sentences.\n",
      "We all have two lives. The second one starts when we realize we only have one.\n",
      "It's never too late to become the person you've always wanted to be.\n",
      "Embrace change, take chances, and never stop learning. Life is too short to waste time on things that don't matter.\n",
      "Surround yourself with people who lift you up, and cherish the moments you have with them.\n",
      "Remember, happiness is a choice, not a destination. Wake up each day with a grateful heart and a determination to make a difference,\n",
      "no matter how small. Your story is unique, and it's up to you to make it a great one.\n",
      " > ===========================\n",
      "wi ɔɫ hæv tu lɪvz. ðə ˈsɛkənd wən stɑɹts wɪn wi ˈɹiəˌlaɪz wi ˈoʊnli hæv wən.\n",
      " length:76\n",
      " length:76\n",
      "ɪts ˈnɛvəɹ tu leɪt tɪ bɪˈkəm ðə ˈpəɹsən juv ˈɔlˌweɪz ˈwɔntɪd tɪ bi.\n",
      " length:67\n",
      " length:67\n",
      "ɪmˈbɹeɪs tʃeɪndʒ, teɪk ˈtʃænsɪz, ənd ˈnɛvəɹ stɑp ˈləɹnɪŋ. laɪf ɪz tu ʃɔɹt tɪ weɪst taɪm ɔn θɪŋz ðət doʊnt ˈmætəɹ.\n",
      " length:113\n",
      " length:113\n",
      "səɹaʊnd ˈjɔɹsɛɫf wɪθ ˈpipəɫ hu lɪft ju əp, ənd ˈtʃɛɹɪʃ ðə ˈmoʊmənts ju hæv wɪθ ðɛm.\n",
      " length:83\n",
      " length:83\n",
      "ɹɪˈmɛmbəɹ, ˈhæpinəs ɪz ə tʃɔɪs, nɑt ə ˌdɛstɪˈneɪʃən. weɪk əp itʃ deɪ wɪθ ə ˈgɹeɪtfəɫ hɑɹt ənd ə dɪˌtəɹməˈneɪʃən tɪ meɪk ə ˈdɪfəɹəns,\n",
      " length:132\n",
      " length:132\n",
      "noʊ ˈmætəɹ haʊ smɔɫ. jʊɹ ˈstɔɹi ɪz juˈnik, ənd ɪts əp tɪ ju tɪ meɪk ɪt ə gɹeɪt wən.\n",
      " length:83\n",
      " length:83\n",
      "Cloned Voice Generated!\n"
     ]
    },
    {
     "name": "stderr",
     "output_type": "stream",
     "text": [
      "/opt/anaconda3/envs/openvoice/lib/python3.9/site-packages/torch/nn/utils/weight_norm.py:28: UserWarning: torch.nn.utils.weight_norm is deprecated in favor of torch.nn.utils.parametrizations.weight_norm.\n",
      "  warnings.warn(\"torch.nn.utils.weight_norm is deprecated in favor of torch.nn.utils.parametrizations.weight_norm.\")\n"
     ]
    },
    {
     "name": "stdout",
     "output_type": "stream",
     "text": [
      "Loaded checkpoint 'checkpoints/base_speakers/EN/checkpoint.pth'\n",
      "missing/unexpected keys: [] []\n",
      "Loaded checkpoint 'checkpoints/converter/checkpoint.pth'\n",
      "missing/unexpected keys: [] []\n",
      "OpenVoice version: v1\n",
      "[(0.0, 10.0906875)]\n",
      "after vad: dur = 10.09\n",
      " > Text splitted to sentences.\n",
      "The sun peeked through the curtains, casting a warm glow across the room.\n",
      "She stirred, her eyes fluttering open as she stretched her arms above her head.\n",
      "It was a new day, full of promise and possibility. She smiled,\n",
      "thinking of all the things she wanted to accomplish. First on the list was a visit to her favorite café,\n",
      "where she would sip on a creamy latte and watch the world go by.\n",
      "Then, she would head to the park for a leisurely stroll,\n",
      "taking in the beauty of nature and breathing in the fresh air.\n",
      "In the afternoon, she planned to curl up with a good book,\n",
      "losing herself in the pages of a captivating story. As the day drew to a close,\n",
      "she would meet up with friends for dinner and laughter, sharing stories and making memories.\n",
      "It was a simple plan, but one that filled her with joy and contentment.\n",
      " > ===========================\n",
      "ðə sən pikt θɹu ðə ˈkəɹtənz, ˈkæstɪŋ ə wɔɹm gloʊ əˈkɹɔs ðə ɹum.\n",
      " length:63\n",
      " length:63\n",
      "ʃi stəɹd, həɹ aɪz ˈflətəɹɪŋ ˈoʊpən ɛz ʃi stɹɛtʃt həɹ ɑɹmz əˈbəv həɹ hɛd.\n",
      " length:72\n",
      " length:72\n",
      "ɪt wɑz ə nu deɪ, fʊɫ əv ˈpɹɑməs ənd ˌpɑsəˈbɪləˌti. ʃi smaɪɫd,\n",
      " length:61\n",
      " length:61\n",
      "ˈθɪŋkɪŋ əv ɔɫ ðə θɪŋz ʃi ˈwɔntɪd tɪ əˈkɑmplɪʃ. fəɹst ɔn ðə lɪst wɑz ə ˈvɪzɪt tɪ həɹ ˈfeɪvəɹɪt kəˈfeɪ,\n",
      " length:101\n",
      " length:101\n",
      "wɛɹ ʃi wʊd sɪp ɔn ə ˈkɹimi ˈlɑˌteɪ ənd wɔtʃ ðə wəɹɫd goʊ baɪ.\n",
      " length:61\n",
      " length:61\n",
      "ðɛn, ʃi wʊd hɛd tɪ ðə pɑɹk fəɹ ə ˈlizəɹli stɹoʊɫ,\n",
      " length:49\n",
      " length:49\n",
      "ˈteɪkɪŋ ɪn ðə ˈbjuti əv ˈneɪtʃəɹ ənd ˈbɹiðɪŋ ɪn ðə fɹɛʃ ɛɹ.\n",
      " length:59\n",
      " length:59\n",
      "ɪn ðə ˌæftəɹˈnun, ʃi plænd tɪ kəɹɫ əp wɪθ ə gʊd bʊk,\n",
      " length:52\n",
      " length:52\n",
      "ˈluzɪŋ həɹˈsɛɫf ɪn ðə ˈpeɪdʒɪz əv ə ˈkæptɪˌveɪtɪŋ ˈstɔɹi. ɛz ðə deɪ dɹu tɪ ə kloʊz,\n",
      " length:83\n",
      " length:83\n",
      "ʃi wʊd mit əp wɪθ fɹɛndz fəɹ ˈdɪnəɹ ənd ˈlæftəɹ, ˈʃɛɹɪŋ ˈstɔɹiz ənd ˈmeɪkɪŋ ˈmɛməɹiz.\n",
      " length:85\n",
      " length:85\n",
      "ɪt wɑz ə ˈsɪmpəɫ plæn, bət wən ðət fɪɫd həɹ wɪθ dʒɔɪ ənd kənˈtɛntmənt.\n",
      " length:70\n",
      " length:70\n",
      "Cloned Voice Generated!\n"
     ]
    },
    {
     "name": "stderr",
     "output_type": "stream",
     "text": [
      "/opt/anaconda3/envs/openvoice/lib/python3.9/site-packages/torch/nn/utils/weight_norm.py:28: UserWarning: torch.nn.utils.weight_norm is deprecated in favor of torch.nn.utils.parametrizations.weight_norm.\n",
      "  warnings.warn(\"torch.nn.utils.weight_norm is deprecated in favor of torch.nn.utils.parametrizations.weight_norm.\")\n"
     ]
    },
    {
     "name": "stdout",
     "output_type": "stream",
     "text": [
      "Loaded checkpoint 'checkpoints/base_speakers/EN/checkpoint.pth'\n",
      "missing/unexpected keys: [] []\n",
      "Loaded checkpoint 'checkpoints/converter/checkpoint.pth'\n",
      "missing/unexpected keys: [] []\n",
      "OpenVoice version: v1\n",
      "[(0.0, 10.0906875)]\n",
      "after vad: dur = 10.09\n",
      " > Text splitted to sentences.\n",
      "The sun peeked through the curtains, casting a warm glow across the room.\n",
      "She stirred, her eyes fluttering open as she stretched her arms above her head.\n",
      "It was a new day, full of promise and possibility. She smiled,\n",
      "thinking of all the things she wanted to accomplish. First on the list was a visit to her favorite café,\n",
      "where she would sip on a creamy latte and watch the world go by.\n",
      "Then, she would head to the park for a leisurely stroll,\n",
      "taking in the beauty of nature and breathing in the fresh air.\n",
      "In the afternoon, she planned to curl up with a good book,\n",
      "losing herself in the pages of a captivating story. As the day drew to a close,\n",
      "she would meet up with friends for dinner and laughter, sharing stories and making memories.\n",
      "It was a simple plan, but one that filled her with joy and contentment.\n",
      " > ===========================\n",
      "ðə sən pikt θɹu ðə ˈkəɹtənz, ˈkæstɪŋ ə wɔɹm gloʊ əˈkɹɔs ðə ɹum.\n",
      " length:63\n",
      " length:63\n",
      "ʃi stəɹd, həɹ aɪz ˈflətəɹɪŋ ˈoʊpən ɛz ʃi stɹɛtʃt həɹ ɑɹmz əˈbəv həɹ hɛd.\n",
      " length:72\n",
      " length:72\n",
      "ɪt wɑz ə nu deɪ, fʊɫ əv ˈpɹɑməs ənd ˌpɑsəˈbɪləˌti. ʃi smaɪɫd,\n",
      " length:61\n",
      " length:61\n",
      "ˈθɪŋkɪŋ əv ɔɫ ðə θɪŋz ʃi ˈwɔntɪd tɪ əˈkɑmplɪʃ. fəɹst ɔn ðə lɪst wɑz ə ˈvɪzɪt tɪ həɹ ˈfeɪvəɹɪt kəˈfeɪ,\n",
      " length:101\n",
      " length:101\n",
      "wɛɹ ʃi wʊd sɪp ɔn ə ˈkɹimi ˈlɑˌteɪ ənd wɔtʃ ðə wəɹɫd goʊ baɪ.\n",
      " length:61\n",
      " length:61\n",
      "ðɛn, ʃi wʊd hɛd tɪ ðə pɑɹk fəɹ ə ˈlizəɹli stɹoʊɫ,\n",
      " length:49\n",
      " length:49\n",
      "ˈteɪkɪŋ ɪn ðə ˈbjuti əv ˈneɪtʃəɹ ənd ˈbɹiðɪŋ ɪn ðə fɹɛʃ ɛɹ.\n",
      " length:59\n",
      " length:59\n",
      "ɪn ðə ˌæftəɹˈnun, ʃi plænd tɪ kəɹɫ əp wɪθ ə gʊd bʊk,\n",
      " length:52\n",
      " length:52\n",
      "ˈluzɪŋ həɹˈsɛɫf ɪn ðə ˈpeɪdʒɪz əv ə ˈkæptɪˌveɪtɪŋ ˈstɔɹi. ɛz ðə deɪ dɹu tɪ ə kloʊz,\n",
      " length:83\n",
      " length:83\n",
      "ʃi wʊd mit əp wɪθ fɹɛndz fəɹ ˈdɪnəɹ ənd ˈlæftəɹ, ˈʃɛɹɪŋ ˈstɔɹiz ənd ˈmeɪkɪŋ ˈmɛməɹiz.\n",
      " length:85\n",
      " length:85\n",
      "ɪt wɑz ə ˈsɪmpəɫ plæn, bət wən ðət fɪɫd həɹ wɪθ dʒɔɪ ənd kənˈtɛntmənt.\n",
      " length:70\n",
      " length:70\n",
      "Cloned Voice Generated!\n"
     ]
    },
    {
     "name": "stderr",
     "output_type": "stream",
     "text": [
      "/opt/anaconda3/envs/openvoice/lib/python3.9/site-packages/torch/nn/utils/weight_norm.py:28: UserWarning: torch.nn.utils.weight_norm is deprecated in favor of torch.nn.utils.parametrizations.weight_norm.\n",
      "  warnings.warn(\"torch.nn.utils.weight_norm is deprecated in favor of torch.nn.utils.parametrizations.weight_norm.\")\n"
     ]
    },
    {
     "name": "stdout",
     "output_type": "stream",
     "text": [
      "Loaded checkpoint 'checkpoints/base_speakers/EN/checkpoint.pth'\n",
      "missing/unexpected keys: [] []\n",
      "Loaded checkpoint 'checkpoints/converter/checkpoint.pth'\n",
      "missing/unexpected keys: [] []\n",
      "OpenVoice version: v1\n",
      "[(0.0, 10.0906875)]\n",
      "after vad: dur = 10.09\n",
      " > Text splitted to sentences.\n",
      "The sun peeked through the curtains, casting a warm glow across the room.\n",
      "She stirred, her eyes fluttering open as she stretched her arms above her head.\n",
      "It was a new day, full of promise and possibility. She smiled,\n",
      "thinking of all the things she wanted to accomplish. First on the list was a visit to her favorite café,\n",
      "where she would sip on a creamy latte and watch the world go by.\n",
      "Then, she would head to the park for a leisurely stroll,\n",
      "taking in the beauty of nature and breathing in the fresh air.\n",
      "In the afternoon, she planned to curl up with a good book,\n",
      "losing herself in the pages of a captivating story. As the day drew to a close,\n",
      "she would meet up with friends for dinner and laughter, sharing stories and making memories.\n",
      "It was a simple plan, but one that filled her with joy and contentment.\n",
      " > ===========================\n",
      "ðə sən pikt θɹu ðə ˈkəɹtənz, ˈkæstɪŋ ə wɔɹm gloʊ əˈkɹɔs ðə ɹum.\n",
      " length:63\n",
      " length:63\n",
      "ʃi stəɹd, həɹ aɪz ˈflətəɹɪŋ ˈoʊpən ɛz ʃi stɹɛtʃt həɹ ɑɹmz əˈbəv həɹ hɛd.\n",
      " length:72\n",
      " length:72\n",
      "ɪt wɑz ə nu deɪ, fʊɫ əv ˈpɹɑməs ənd ˌpɑsəˈbɪləˌti. ʃi smaɪɫd,\n",
      " length:61\n",
      " length:61\n",
      "ˈθɪŋkɪŋ əv ɔɫ ðə θɪŋz ʃi ˈwɔntɪd tɪ əˈkɑmplɪʃ. fəɹst ɔn ðə lɪst wɑz ə ˈvɪzɪt tɪ həɹ ˈfeɪvəɹɪt kəˈfeɪ,\n",
      " length:101\n",
      " length:101\n",
      "wɛɹ ʃi wʊd sɪp ɔn ə ˈkɹimi ˈlɑˌteɪ ənd wɔtʃ ðə wəɹɫd goʊ baɪ.\n",
      " length:61\n",
      " length:61\n",
      "ðɛn, ʃi wʊd hɛd tɪ ðə pɑɹk fəɹ ə ˈlizəɹli stɹoʊɫ,\n",
      " length:49\n",
      " length:49\n",
      "ˈteɪkɪŋ ɪn ðə ˈbjuti əv ˈneɪtʃəɹ ənd ˈbɹiðɪŋ ɪn ðə fɹɛʃ ɛɹ.\n",
      " length:59\n",
      " length:59\n",
      "ɪn ðə ˌæftəɹˈnun, ʃi plænd tɪ kəɹɫ əp wɪθ ə gʊd bʊk,\n",
      " length:52\n",
      " length:52\n",
      "ˈluzɪŋ həɹˈsɛɫf ɪn ðə ˈpeɪdʒɪz əv ə ˈkæptɪˌveɪtɪŋ ˈstɔɹi. ɛz ðə deɪ dɹu tɪ ə kloʊz,\n",
      " length:83\n",
      " length:83\n",
      "ʃi wʊd mit əp wɪθ fɹɛndz fəɹ ˈdɪnəɹ ənd ˈlæftəɹ, ˈʃɛɹɪŋ ˈstɔɹiz ənd ˈmeɪkɪŋ ˈmɛməɹiz.\n",
      " length:85\n",
      " length:85\n",
      "ɪt wɑz ə ˈsɪmpəɫ plæn, bət wən ðət fɪɫd həɹ wɪθ dʒɔɪ ənd kənˈtɛntmənt.\n",
      " length:70\n",
      " length:70\n",
      "Cloned Voice Generated!\n"
     ]
    },
    {
     "name": "stderr",
     "output_type": "stream",
     "text": [
      "/opt/anaconda3/envs/openvoice/lib/python3.9/site-packages/torch/nn/utils/weight_norm.py:28: UserWarning: torch.nn.utils.weight_norm is deprecated in favor of torch.nn.utils.parametrizations.weight_norm.\n",
      "  warnings.warn(\"torch.nn.utils.weight_norm is deprecated in favor of torch.nn.utils.parametrizations.weight_norm.\")\n"
     ]
    },
    {
     "name": "stdout",
     "output_type": "stream",
     "text": [
      "Loaded checkpoint 'checkpoints/base_speakers/EN/checkpoint.pth'\n",
      "missing/unexpected keys: [] []\n",
      "Loaded checkpoint 'checkpoints/converter/checkpoint.pth'\n",
      "missing/unexpected keys: [] []\n",
      "OpenVoice version: v1\n",
      "[(0.0, 10.0906875)]\n",
      "after vad: dur = 10.09\n",
      " > Text splitted to sentences.\n",
      "The sun peeked through the curtains, casting a warm glow across the room.\n",
      "She stirred, her eyes fluttering open as she stretched her arms above her head.\n",
      "It was a new day, full of promise and possibility. She smiled,\n",
      "thinking of all the things she wanted to accomplish. First on the list was a visit to her favorite café,\n",
      "where she would sip on a creamy latte and watch the world go by.\n",
      "Then, she would head to the park for a leisurely stroll,\n",
      "taking in the beauty of nature and breathing in the fresh air.\n",
      "In the afternoon, she planned to curl up with a good book,\n",
      "losing herself in the pages of a captivating story. As the day drew to a close,\n",
      "she would meet up with friends for dinner and laughter, sharing stories and making memories.\n",
      "It was a simple plan, but one that filled her with joy and contentment.\n",
      " > ===========================\n",
      "ðə sən pikt θɹu ðə ˈkəɹtənz, ˈkæstɪŋ ə wɔɹm gloʊ əˈkɹɔs ðə ɹum.\n",
      " length:63\n",
      " length:63\n",
      "ʃi stəɹd, həɹ aɪz ˈflətəɹɪŋ ˈoʊpən ɛz ʃi stɹɛtʃt həɹ ɑɹmz əˈbəv həɹ hɛd.\n",
      " length:72\n",
      " length:72\n",
      "ɪt wɑz ə nu deɪ, fʊɫ əv ˈpɹɑməs ənd ˌpɑsəˈbɪləˌti. ʃi smaɪɫd,\n",
      " length:61\n",
      " length:61\n",
      "ˈθɪŋkɪŋ əv ɔɫ ðə θɪŋz ʃi ˈwɔntɪd tɪ əˈkɑmplɪʃ. fəɹst ɔn ðə lɪst wɑz ə ˈvɪzɪt tɪ həɹ ˈfeɪvəɹɪt kəˈfeɪ,\n",
      " length:101\n",
      " length:101\n",
      "wɛɹ ʃi wʊd sɪp ɔn ə ˈkɹimi ˈlɑˌteɪ ənd wɔtʃ ðə wəɹɫd goʊ baɪ.\n",
      " length:61\n",
      " length:61\n",
      "ðɛn, ʃi wʊd hɛd tɪ ðə pɑɹk fəɹ ə ˈlizəɹli stɹoʊɫ,\n",
      " length:49\n",
      " length:49\n",
      "ˈteɪkɪŋ ɪn ðə ˈbjuti əv ˈneɪtʃəɹ ənd ˈbɹiðɪŋ ɪn ðə fɹɛʃ ɛɹ.\n",
      " length:59\n",
      " length:59\n",
      "ɪn ðə ˌæftəɹˈnun, ʃi plænd tɪ kəɹɫ əp wɪθ ə gʊd bʊk,\n",
      " length:52\n",
      " length:52\n",
      "ˈluzɪŋ həɹˈsɛɫf ɪn ðə ˈpeɪdʒɪz əv ə ˈkæptɪˌveɪtɪŋ ˈstɔɹi. ɛz ðə deɪ dɹu tɪ ə kloʊz,\n",
      " length:83\n",
      " length:83\n",
      "ʃi wʊd mit əp wɪθ fɹɛndz fəɹ ˈdɪnəɹ ənd ˈlæftəɹ, ˈʃɛɹɪŋ ˈstɔɹiz ənd ˈmeɪkɪŋ ˈmɛməɹiz.\n",
      " length:85\n",
      " length:85\n",
      "ɪt wɑz ə ˈsɪmpəɫ plæn, bət wən ðət fɪɫd həɹ wɪθ dʒɔɪ ənd kənˈtɛntmənt.\n",
      " length:70\n",
      " length:70\n",
      "Cloned Voice Generated!\n"
     ]
    },
    {
     "name": "stderr",
     "output_type": "stream",
     "text": [
      "/opt/anaconda3/envs/openvoice/lib/python3.9/site-packages/torch/nn/utils/weight_norm.py:28: UserWarning: torch.nn.utils.weight_norm is deprecated in favor of torch.nn.utils.parametrizations.weight_norm.\n",
      "  warnings.warn(\"torch.nn.utils.weight_norm is deprecated in favor of torch.nn.utils.parametrizations.weight_norm.\")\n"
     ]
    },
    {
     "name": "stdout",
     "output_type": "stream",
     "text": [
      "Loaded checkpoint 'checkpoints/base_speakers/EN/checkpoint.pth'\n",
      "missing/unexpected keys: [] []\n",
      "Loaded checkpoint 'checkpoints/converter/checkpoint.pth'\n",
      "missing/unexpected keys: [] []\n",
      "OpenVoice version: v1\n",
      "[(0.0, 10.0906875)]\n",
      "after vad: dur = 10.09\n",
      " > Text splitted to sentences.\n",
      "The sun peeked through the curtains, casting a warm glow across the room.\n",
      "She stirred, her eyes fluttering open as she stretched her arms above her head.\n",
      "It was a new day, full of promise and possibility. She smiled,\n",
      "thinking of all the things she wanted to accomplish. First on the list was a visit to her favorite café,\n",
      "where she would sip on a creamy latte and watch the world go by.\n",
      "Then, she would head to the park for a leisurely stroll,\n",
      "taking in the beauty of nature and breathing in the fresh air.\n",
      "In the afternoon, she planned to curl up with a good book,\n",
      "losing herself in the pages of a captivating story. As the day drew to a close,\n",
      "she would meet up with friends for dinner and laughter, sharing stories and making memories.\n",
      "It was a simple plan, but one that filled her with joy and contentment.\n",
      " > ===========================\n",
      "ðə sən pikt θɹu ðə ˈkəɹtənz, ˈkæstɪŋ ə wɔɹm gloʊ əˈkɹɔs ðə ɹum.\n",
      " length:63\n",
      " length:63\n",
      "ʃi stəɹd, həɹ aɪz ˈflətəɹɪŋ ˈoʊpən ɛz ʃi stɹɛtʃt həɹ ɑɹmz əˈbəv həɹ hɛd.\n",
      " length:72\n",
      " length:72\n",
      "ɪt wɑz ə nu deɪ, fʊɫ əv ˈpɹɑməs ənd ˌpɑsəˈbɪləˌti. ʃi smaɪɫd,\n",
      " length:61\n",
      " length:61\n",
      "ˈθɪŋkɪŋ əv ɔɫ ðə θɪŋz ʃi ˈwɔntɪd tɪ əˈkɑmplɪʃ. fəɹst ɔn ðə lɪst wɑz ə ˈvɪzɪt tɪ həɹ ˈfeɪvəɹɪt kəˈfeɪ,\n",
      " length:101\n",
      " length:101\n",
      "wɛɹ ʃi wʊd sɪp ɔn ə ˈkɹimi ˈlɑˌteɪ ənd wɔtʃ ðə wəɹɫd goʊ baɪ.\n",
      " length:61\n",
      " length:61\n",
      "ðɛn, ʃi wʊd hɛd tɪ ðə pɑɹk fəɹ ə ˈlizəɹli stɹoʊɫ,\n",
      " length:49\n",
      " length:49\n",
      "ˈteɪkɪŋ ɪn ðə ˈbjuti əv ˈneɪtʃəɹ ənd ˈbɹiðɪŋ ɪn ðə fɹɛʃ ɛɹ.\n",
      " length:59\n",
      " length:59\n",
      "ɪn ðə ˌæftəɹˈnun, ʃi plænd tɪ kəɹɫ əp wɪθ ə gʊd bʊk,\n",
      " length:52\n",
      " length:52\n",
      "ˈluzɪŋ həɹˈsɛɫf ɪn ðə ˈpeɪdʒɪz əv ə ˈkæptɪˌveɪtɪŋ ˈstɔɹi. ɛz ðə deɪ dɹu tɪ ə kloʊz,\n",
      " length:83\n",
      " length:83\n",
      "ʃi wʊd mit əp wɪθ fɹɛndz fəɹ ˈdɪnəɹ ənd ˈlæftəɹ, ˈʃɛɹɪŋ ˈstɔɹiz ənd ˈmeɪkɪŋ ˈmɛməɹiz.\n",
      " length:85\n",
      " length:85\n",
      "ɪt wɑz ə ˈsɪmpəɫ plæn, bət wən ðət fɪɫd həɹ wɪθ dʒɔɪ ənd kənˈtɛntmənt.\n",
      " length:70\n",
      " length:70\n",
      "Cloned Voice Generated!\n"
     ]
    },
    {
     "name": "stderr",
     "output_type": "stream",
     "text": [
      "/opt/anaconda3/envs/openvoice/lib/python3.9/site-packages/torch/nn/utils/weight_norm.py:28: UserWarning: torch.nn.utils.weight_norm is deprecated in favor of torch.nn.utils.parametrizations.weight_norm.\n",
      "  warnings.warn(\"torch.nn.utils.weight_norm is deprecated in favor of torch.nn.utils.parametrizations.weight_norm.\")\n"
     ]
    },
    {
     "name": "stdout",
     "output_type": "stream",
     "text": [
      "Loaded checkpoint 'checkpoints/base_speakers/EN/checkpoint.pth'\n",
      "missing/unexpected keys: [] []\n",
      "Loaded checkpoint 'checkpoints/converter/checkpoint.pth'\n",
      "missing/unexpected keys: [] []\n",
      "OpenVoice version: v1\n",
      "[(0.0, 10.0906875)]\n",
      "after vad: dur = 10.09\n",
      " > Text splitted to sentences.\n",
      "Life is not about waiting for the storm to pass; it's about learning to dance in the rain.\n",
      "We are all faced with challenges and obstacles, but it's how we respond to them that defines our character and shapes our future.\n",
      "Never let fear hold you back from pursuing your dreams. Embrace the unknown,\n",
      "for that is where growth and opportunity lie. Be kind to others,\n",
      "for everyone you meet is fighting a battle you know nothing about.\n",
      "Treat each day as a new beginning, a chance to start fresh and make a positive impact on the world around you.\n",
      "Remember, success is not measured by material possessions, but by the lives you touch and the love you share.\n",
      "Cherish the simple moments, the laughter of a child, the warmth of a hug,\n",
      "the beauty of a sunset. These are the things that make life truly rich.\n",
      "Above all, never lose sight of what matters most - the people you love,\n",
      "the passions that inspire you, and the legacy you leave behind.\n",
      "Life is a precious gift, so live it fully, love deeply,\n",
      "and make every moment count.\n",
      " > ===========================\n",
      "laɪf ɪz nɑt əˈbaʊt ˈweɪtɪŋ fəɹ ðə stɔɹm tɪ pæs; ɪts əˈbaʊt ˈləɹnɪŋ tɪ dæns ɪn ðə ɹeɪn.\n",
      " length:86\n",
      " length:85\n",
      "wi əɹ ɔɫ feɪst wɪθ ˈtʃæləndʒɪz ənd ˈɑbstəkəɫz, bət ɪts haʊ wi ɹɪˈspɑnd tɪ ðɛm ðət dɪˈfaɪnz ɑɹ ˈkɛɹɪktəɹ ənd ʃeɪps ɑɹ fˈjutʃəɹ.\n",
      " length:126\n",
      " length:126\n",
      "ˈnɛvəɹ lɛt fɪɹ hoʊɫd ju bæk fɹəm pəɹˈsuɪŋ jʊɹ dɹimz. ɪmˈbɹeɪs ðə ənˈnoʊn,\n",
      " length:73\n",
      " length:73\n",
      "fəɹ ðət ɪz wɛɹ gɹoʊθ ənd ˌɑpəɹˈtunəti laɪ. bi kaɪnd tɪ ˈəðəɹz,\n",
      " length:62\n",
      " length:62\n",
      "fəɹ ˈɛvɹiˌwən ju mit ɪz ˈfaɪtɪŋ ə ˈbætəɫ ju noʊ ˈnəθɪŋ əˈbaʊt.\n",
      " length:62\n",
      " length:62\n",
      "tɹit itʃ deɪ ɛz ə nu bɪˈgɪnɪŋ, ə tʃæns tɪ stɑɹt fɹɛʃ ənd meɪk ə ˈpɑzətɪv ˌɪmˈpækt ɔn ðə wəɹɫd əɹaʊnd ju.\n",
      " length:104\n",
      " length:104\n",
      "ɹɪˈmɛmbəɹ, səkˈsɛs ɪz nɑt ˈmɛʒəɹd baɪ məˈtɪɹiəɫ pəˈzɛʃənz, bət baɪ ðə lɪvz ju tətʃ ənd ðə ləv ju ʃɛɹ.\n",
      " length:101\n",
      " length:101\n",
      "ˈtʃɛɹɪʃ ðə ˈsɪmpəɫ ˈmoʊmənts, ðə ˈlæftəɹ əv ə tʃaɪɫd, ðə wɔɹmθ əv ə həg,\n",
      " length:72\n",
      " length:72\n",
      "ðə ˈbjuti əv ə ˈsənˌsɛt. ðiz əɹ ðə θɪŋz ðət meɪk laɪf ˈtɹuli ɹɪtʃ.\n",
      " length:66\n",
      " length:66\n",
      "əˈbəv ɔɫ, ˈnɛvəɹ luz saɪt əv wət ˈmætəɹz moʊst ðə ˈpipəɫ ju ləv,\n",
      " length:64\n",
      " length:64\n",
      "ðə ˈpæʃənz ðət ˌɪnˈspaɪɹ ju, ənd ðə ˈlɛgəsi ju liv bɪˈhaɪnd.\n",
      " length:60\n",
      " length:60\n",
      "laɪf ɪz ə ˈpɹɛʃəs gɪft, soʊ lɪv ɪt ˈfʊli, ləv ˈdipli,\n",
      " length:53\n",
      " length:53\n",
      "ənd meɪk ˈɛvəɹi ˈmoʊmənt kaʊnt.\n",
      " length:31\n",
      " length:31\n",
      "Cloned Voice Generated!\n"
     ]
    },
    {
     "name": "stderr",
     "output_type": "stream",
     "text": [
      "/opt/anaconda3/envs/openvoice/lib/python3.9/site-packages/torch/nn/utils/weight_norm.py:28: UserWarning: torch.nn.utils.weight_norm is deprecated in favor of torch.nn.utils.parametrizations.weight_norm.\n",
      "  warnings.warn(\"torch.nn.utils.weight_norm is deprecated in favor of torch.nn.utils.parametrizations.weight_norm.\")\n"
     ]
    },
    {
     "name": "stdout",
     "output_type": "stream",
     "text": [
      "Loaded checkpoint 'checkpoints/base_speakers/EN/checkpoint.pth'\n",
      "missing/unexpected keys: [] []\n",
      "Loaded checkpoint 'checkpoints/converter/checkpoint.pth'\n",
      "missing/unexpected keys: [] []\n",
      "OpenVoice version: v1\n",
      "[(0.0, 10.0906875)]\n",
      "after vad: dur = 10.09\n",
      " > Text splitted to sentences.\n",
      "Life is not about waiting for the storm to pass; it's about learning to dance in the rain.\n",
      "We are all faced with challenges and obstacles, but it's how we respond to them that defines our character and shapes our future.\n",
      "Never let fear hold you back from pursuing your dreams. Embrace the unknown,\n",
      "for that is where growth and opportunity lie. Be kind to others,\n",
      "for everyone you meet is fighting a battle you know nothing about.\n",
      "Treat each day as a new beginning, a chance to start fresh and make a positive impact on the world around you.\n",
      "Remember, success is not measured by material possessions, but by the lives you touch and the love you share.\n",
      "Cherish the simple moments, the laughter of a child, the warmth of a hug,\n",
      "the beauty of a sunset. These are the things that make life truly rich.\n",
      "Above all, never lose sight of what matters most - the people you love,\n",
      "the passions that inspire you, and the legacy you leave behind.\n",
      "Life is a precious gift, so live it fully, love deeply,\n",
      "and make every moment count.\n",
      " > ===========================\n",
      "laɪf ɪz nɑt əˈbaʊt ˈweɪtɪŋ fəɹ ðə stɔɹm tɪ pæs; ɪts əˈbaʊt ˈləɹnɪŋ tɪ dæns ɪn ðə ɹeɪn.\n",
      " length:86\n",
      " length:85\n",
      "wi əɹ ɔɫ feɪst wɪθ ˈtʃæləndʒɪz ənd ˈɑbstəkəɫz, bət ɪts haʊ wi ɹɪˈspɑnd tɪ ðɛm ðət dɪˈfaɪnz ɑɹ ˈkɛɹɪktəɹ ənd ʃeɪps ɑɹ fˈjutʃəɹ.\n",
      " length:126\n",
      " length:126\n",
      "ˈnɛvəɹ lɛt fɪɹ hoʊɫd ju bæk fɹəm pəɹˈsuɪŋ jʊɹ dɹimz. ɪmˈbɹeɪs ðə ənˈnoʊn,\n",
      " length:73\n",
      " length:73\n",
      "fəɹ ðət ɪz wɛɹ gɹoʊθ ənd ˌɑpəɹˈtunəti laɪ. bi kaɪnd tɪ ˈəðəɹz,\n",
      " length:62\n",
      " length:62\n",
      "fəɹ ˈɛvɹiˌwən ju mit ɪz ˈfaɪtɪŋ ə ˈbætəɫ ju noʊ ˈnəθɪŋ əˈbaʊt.\n",
      " length:62\n",
      " length:62\n",
      "tɹit itʃ deɪ ɛz ə nu bɪˈgɪnɪŋ, ə tʃæns tɪ stɑɹt fɹɛʃ ənd meɪk ə ˈpɑzətɪv ˌɪmˈpækt ɔn ðə wəɹɫd əɹaʊnd ju.\n",
      " length:104\n",
      " length:104\n",
      "ɹɪˈmɛmbəɹ, səkˈsɛs ɪz nɑt ˈmɛʒəɹd baɪ məˈtɪɹiəɫ pəˈzɛʃənz, bət baɪ ðə lɪvz ju tətʃ ənd ðə ləv ju ʃɛɹ.\n",
      " length:101\n",
      " length:101\n",
      "ˈtʃɛɹɪʃ ðə ˈsɪmpəɫ ˈmoʊmənts, ðə ˈlæftəɹ əv ə tʃaɪɫd, ðə wɔɹmθ əv ə həg,\n",
      " length:72\n",
      " length:72\n",
      "ðə ˈbjuti əv ə ˈsənˌsɛt. ðiz əɹ ðə θɪŋz ðət meɪk laɪf ˈtɹuli ɹɪtʃ.\n",
      " length:66\n",
      " length:66\n",
      "əˈbəv ɔɫ, ˈnɛvəɹ luz saɪt əv wət ˈmætəɹz moʊst ðə ˈpipəɫ ju ləv,\n",
      " length:64\n",
      " length:64\n",
      "ðə ˈpæʃənz ðət ˌɪnˈspaɪɹ ju, ənd ðə ˈlɛgəsi ju liv bɪˈhaɪnd.\n",
      " length:60\n",
      " length:60\n",
      "laɪf ɪz ə ˈpɹɛʃəs gɪft, soʊ lɪv ɪt ˈfʊli, ləv ˈdipli,\n",
      " length:53\n",
      " length:53\n",
      "ənd meɪk ˈɛvəɹi ˈmoʊmənt kaʊnt.\n",
      " length:31\n",
      " length:31\n",
      "Cloned Voice Generated!\n"
     ]
    },
    {
     "name": "stderr",
     "output_type": "stream",
     "text": [
      "/opt/anaconda3/envs/openvoice/lib/python3.9/site-packages/torch/nn/utils/weight_norm.py:28: UserWarning: torch.nn.utils.weight_norm is deprecated in favor of torch.nn.utils.parametrizations.weight_norm.\n",
      "  warnings.warn(\"torch.nn.utils.weight_norm is deprecated in favor of torch.nn.utils.parametrizations.weight_norm.\")\n"
     ]
    },
    {
     "name": "stdout",
     "output_type": "stream",
     "text": [
      "Loaded checkpoint 'checkpoints/base_speakers/EN/checkpoint.pth'\n",
      "missing/unexpected keys: [] []\n",
      "Loaded checkpoint 'checkpoints/converter/checkpoint.pth'\n",
      "missing/unexpected keys: [] []\n",
      "OpenVoice version: v1\n",
      "[(0.0, 10.0906875)]\n",
      "after vad: dur = 10.09\n",
      " > Text splitted to sentences.\n",
      "Life is not about waiting for the storm to pass; it's about learning to dance in the rain.\n",
      "We are all faced with challenges and obstacles, but it's how we respond to them that defines our character and shapes our future.\n",
      "Never let fear hold you back from pursuing your dreams. Embrace the unknown,\n",
      "for that is where growth and opportunity lie. Be kind to others,\n",
      "for everyone you meet is fighting a battle you know nothing about.\n",
      "Treat each day as a new beginning, a chance to start fresh and make a positive impact on the world around you.\n",
      "Remember, success is not measured by material possessions, but by the lives you touch and the love you share.\n",
      "Cherish the simple moments, the laughter of a child, the warmth of a hug,\n",
      "the beauty of a sunset. These are the things that make life truly rich.\n",
      "Above all, never lose sight of what matters most - the people you love,\n",
      "the passions that inspire you, and the legacy you leave behind.\n",
      "Life is a precious gift, so live it fully, love deeply,\n",
      "and make every moment count.\n",
      " > ===========================\n",
      "laɪf ɪz nɑt əˈbaʊt ˈweɪtɪŋ fəɹ ðə stɔɹm tɪ pæs; ɪts əˈbaʊt ˈləɹnɪŋ tɪ dæns ɪn ðə ɹeɪn.\n",
      " length:86\n",
      " length:85\n",
      "wi əɹ ɔɫ feɪst wɪθ ˈtʃæləndʒɪz ənd ˈɑbstəkəɫz, bət ɪts haʊ wi ɹɪˈspɑnd tɪ ðɛm ðət dɪˈfaɪnz ɑɹ ˈkɛɹɪktəɹ ənd ʃeɪps ɑɹ fˈjutʃəɹ.\n",
      " length:126\n",
      " length:126\n",
      "ˈnɛvəɹ lɛt fɪɹ hoʊɫd ju bæk fɹəm pəɹˈsuɪŋ jʊɹ dɹimz. ɪmˈbɹeɪs ðə ənˈnoʊn,\n",
      " length:73\n",
      " length:73\n",
      "fəɹ ðət ɪz wɛɹ gɹoʊθ ənd ˌɑpəɹˈtunəti laɪ. bi kaɪnd tɪ ˈəðəɹz,\n",
      " length:62\n",
      " length:62\n",
      "fəɹ ˈɛvɹiˌwən ju mit ɪz ˈfaɪtɪŋ ə ˈbætəɫ ju noʊ ˈnəθɪŋ əˈbaʊt.\n",
      " length:62\n",
      " length:62\n",
      "tɹit itʃ deɪ ɛz ə nu bɪˈgɪnɪŋ, ə tʃæns tɪ stɑɹt fɹɛʃ ənd meɪk ə ˈpɑzətɪv ˌɪmˈpækt ɔn ðə wəɹɫd əɹaʊnd ju.\n",
      " length:104\n",
      " length:104\n",
      "ɹɪˈmɛmbəɹ, səkˈsɛs ɪz nɑt ˈmɛʒəɹd baɪ məˈtɪɹiəɫ pəˈzɛʃənz, bət baɪ ðə lɪvz ju tətʃ ənd ðə ləv ju ʃɛɹ.\n",
      " length:101\n",
      " length:101\n",
      "ˈtʃɛɹɪʃ ðə ˈsɪmpəɫ ˈmoʊmənts, ðə ˈlæftəɹ əv ə tʃaɪɫd, ðə wɔɹmθ əv ə həg,\n",
      " length:72\n",
      " length:72\n",
      "ðə ˈbjuti əv ə ˈsənˌsɛt. ðiz əɹ ðə θɪŋz ðət meɪk laɪf ˈtɹuli ɹɪtʃ.\n",
      " length:66\n",
      " length:66\n",
      "əˈbəv ɔɫ, ˈnɛvəɹ luz saɪt əv wət ˈmætəɹz moʊst ðə ˈpipəɫ ju ləv,\n",
      " length:64\n",
      " length:64\n",
      "ðə ˈpæʃənz ðət ˌɪnˈspaɪɹ ju, ənd ðə ˈlɛgəsi ju liv bɪˈhaɪnd.\n",
      " length:60\n",
      " length:60\n",
      "laɪf ɪz ə ˈpɹɛʃəs gɪft, soʊ lɪv ɪt ˈfʊli, ləv ˈdipli,\n",
      " length:53\n",
      " length:53\n",
      "ənd meɪk ˈɛvəɹi ˈmoʊmənt kaʊnt.\n",
      " length:31\n",
      " length:31\n",
      "Cloned Voice Generated!\n"
     ]
    },
    {
     "name": "stderr",
     "output_type": "stream",
     "text": [
      "/opt/anaconda3/envs/openvoice/lib/python3.9/site-packages/torch/nn/utils/weight_norm.py:28: UserWarning: torch.nn.utils.weight_norm is deprecated in favor of torch.nn.utils.parametrizations.weight_norm.\n",
      "  warnings.warn(\"torch.nn.utils.weight_norm is deprecated in favor of torch.nn.utils.parametrizations.weight_norm.\")\n"
     ]
    },
    {
     "name": "stdout",
     "output_type": "stream",
     "text": [
      "Loaded checkpoint 'checkpoints/base_speakers/EN/checkpoint.pth'\n",
      "missing/unexpected keys: [] []\n",
      "Loaded checkpoint 'checkpoints/converter/checkpoint.pth'\n",
      "missing/unexpected keys: [] []\n",
      "OpenVoice version: v1\n",
      "[(0.0, 10.0906875)]\n",
      "after vad: dur = 10.09\n",
      " > Text splitted to sentences.\n",
      "Life is not about waiting for the storm to pass; it's about learning to dance in the rain.\n",
      "We are all faced with challenges and obstacles, but it's how we respond to them that defines our character and shapes our future.\n",
      "Never let fear hold you back from pursuing your dreams. Embrace the unknown,\n",
      "for that is where growth and opportunity lie. Be kind to others,\n",
      "for everyone you meet is fighting a battle you know nothing about.\n",
      "Treat each day as a new beginning, a chance to start fresh and make a positive impact on the world around you.\n",
      "Remember, success is not measured by material possessions, but by the lives you touch and the love you share.\n",
      "Cherish the simple moments, the laughter of a child, the warmth of a hug,\n",
      "the beauty of a sunset. These are the things that make life truly rich.\n",
      "Above all, never lose sight of what matters most - the people you love,\n",
      "the passions that inspire you, and the legacy you leave behind.\n",
      "Life is a precious gift, so live it fully, love deeply,\n",
      "and make every moment count.\n",
      " > ===========================\n",
      "laɪf ɪz nɑt əˈbaʊt ˈweɪtɪŋ fəɹ ðə stɔɹm tɪ pæs; ɪts əˈbaʊt ˈləɹnɪŋ tɪ dæns ɪn ðə ɹeɪn.\n",
      " length:86\n",
      " length:85\n",
      "wi əɹ ɔɫ feɪst wɪθ ˈtʃæləndʒɪz ənd ˈɑbstəkəɫz, bət ɪts haʊ wi ɹɪˈspɑnd tɪ ðɛm ðət dɪˈfaɪnz ɑɹ ˈkɛɹɪktəɹ ənd ʃeɪps ɑɹ fˈjutʃəɹ.\n",
      " length:126\n",
      " length:126\n",
      "ˈnɛvəɹ lɛt fɪɹ hoʊɫd ju bæk fɹəm pəɹˈsuɪŋ jʊɹ dɹimz. ɪmˈbɹeɪs ðə ənˈnoʊn,\n",
      " length:73\n",
      " length:73\n",
      "fəɹ ðət ɪz wɛɹ gɹoʊθ ənd ˌɑpəɹˈtunəti laɪ. bi kaɪnd tɪ ˈəðəɹz,\n",
      " length:62\n",
      " length:62\n",
      "fəɹ ˈɛvɹiˌwən ju mit ɪz ˈfaɪtɪŋ ə ˈbætəɫ ju noʊ ˈnəθɪŋ əˈbaʊt.\n",
      " length:62\n",
      " length:62\n",
      "tɹit itʃ deɪ ɛz ə nu bɪˈgɪnɪŋ, ə tʃæns tɪ stɑɹt fɹɛʃ ənd meɪk ə ˈpɑzətɪv ˌɪmˈpækt ɔn ðə wəɹɫd əɹaʊnd ju.\n",
      " length:104\n",
      " length:104\n",
      "ɹɪˈmɛmbəɹ, səkˈsɛs ɪz nɑt ˈmɛʒəɹd baɪ məˈtɪɹiəɫ pəˈzɛʃənz, bət baɪ ðə lɪvz ju tətʃ ənd ðə ləv ju ʃɛɹ.\n",
      " length:101\n",
      " length:101\n",
      "ˈtʃɛɹɪʃ ðə ˈsɪmpəɫ ˈmoʊmənts, ðə ˈlæftəɹ əv ə tʃaɪɫd, ðə wɔɹmθ əv ə həg,\n",
      " length:72\n",
      " length:72\n",
      "ðə ˈbjuti əv ə ˈsənˌsɛt. ðiz əɹ ðə θɪŋz ðət meɪk laɪf ˈtɹuli ɹɪtʃ.\n",
      " length:66\n",
      " length:66\n",
      "əˈbəv ɔɫ, ˈnɛvəɹ luz saɪt əv wət ˈmætəɹz moʊst ðə ˈpipəɫ ju ləv,\n",
      " length:64\n",
      " length:64\n",
      "ðə ˈpæʃənz ðət ˌɪnˈspaɪɹ ju, ənd ðə ˈlɛgəsi ju liv bɪˈhaɪnd.\n",
      " length:60\n",
      " length:60\n",
      "laɪf ɪz ə ˈpɹɛʃəs gɪft, soʊ lɪv ɪt ˈfʊli, ləv ˈdipli,\n",
      " length:53\n",
      " length:53\n",
      "ənd meɪk ˈɛvəɹi ˈmoʊmənt kaʊnt.\n",
      " length:31\n",
      " length:31\n",
      "Cloned Voice Generated!\n"
     ]
    },
    {
     "name": "stderr",
     "output_type": "stream",
     "text": [
      "/opt/anaconda3/envs/openvoice/lib/python3.9/site-packages/torch/nn/utils/weight_norm.py:28: UserWarning: torch.nn.utils.weight_norm is deprecated in favor of torch.nn.utils.parametrizations.weight_norm.\n",
      "  warnings.warn(\"torch.nn.utils.weight_norm is deprecated in favor of torch.nn.utils.parametrizations.weight_norm.\")\n"
     ]
    },
    {
     "name": "stdout",
     "output_type": "stream",
     "text": [
      "Loaded checkpoint 'checkpoints/base_speakers/EN/checkpoint.pth'\n",
      "missing/unexpected keys: [] []\n",
      "Loaded checkpoint 'checkpoints/converter/checkpoint.pth'\n",
      "missing/unexpected keys: [] []\n",
      "OpenVoice version: v1\n",
      "[(0.0, 10.0906875)]\n",
      "after vad: dur = 10.09\n",
      " > Text splitted to sentences.\n",
      "Life is not about waiting for the storm to pass; it's about learning to dance in the rain.\n",
      "We are all faced with challenges and obstacles, but it's how we respond to them that defines our character and shapes our future.\n",
      "Never let fear hold you back from pursuing your dreams. Embrace the unknown,\n",
      "for that is where growth and opportunity lie. Be kind to others,\n",
      "for everyone you meet is fighting a battle you know nothing about.\n",
      "Treat each day as a new beginning, a chance to start fresh and make a positive impact on the world around you.\n",
      "Remember, success is not measured by material possessions, but by the lives you touch and the love you share.\n",
      "Cherish the simple moments, the laughter of a child, the warmth of a hug,\n",
      "the beauty of a sunset. These are the things that make life truly rich.\n",
      "Above all, never lose sight of what matters most - the people you love,\n",
      "the passions that inspire you, and the legacy you leave behind.\n",
      "Life is a precious gift, so live it fully, love deeply,\n",
      "and make every moment count.\n",
      " > ===========================\n",
      "laɪf ɪz nɑt əˈbaʊt ˈweɪtɪŋ fəɹ ðə stɔɹm tɪ pæs; ɪts əˈbaʊt ˈləɹnɪŋ tɪ dæns ɪn ðə ɹeɪn.\n",
      " length:86\n",
      " length:85\n",
      "wi əɹ ɔɫ feɪst wɪθ ˈtʃæləndʒɪz ənd ˈɑbstəkəɫz, bət ɪts haʊ wi ɹɪˈspɑnd tɪ ðɛm ðət dɪˈfaɪnz ɑɹ ˈkɛɹɪktəɹ ənd ʃeɪps ɑɹ fˈjutʃəɹ.\n",
      " length:126\n",
      " length:126\n",
      "ˈnɛvəɹ lɛt fɪɹ hoʊɫd ju bæk fɹəm pəɹˈsuɪŋ jʊɹ dɹimz. ɪmˈbɹeɪs ðə ənˈnoʊn,\n",
      " length:73\n",
      " length:73\n",
      "fəɹ ðət ɪz wɛɹ gɹoʊθ ənd ˌɑpəɹˈtunəti laɪ. bi kaɪnd tɪ ˈəðəɹz,\n",
      " length:62\n",
      " length:62\n",
      "fəɹ ˈɛvɹiˌwən ju mit ɪz ˈfaɪtɪŋ ə ˈbætəɫ ju noʊ ˈnəθɪŋ əˈbaʊt.\n",
      " length:62\n",
      " length:62\n",
      "tɹit itʃ deɪ ɛz ə nu bɪˈgɪnɪŋ, ə tʃæns tɪ stɑɹt fɹɛʃ ənd meɪk ə ˈpɑzətɪv ˌɪmˈpækt ɔn ðə wəɹɫd əɹaʊnd ju.\n",
      " length:104\n",
      " length:104\n",
      "ɹɪˈmɛmbəɹ, səkˈsɛs ɪz nɑt ˈmɛʒəɹd baɪ məˈtɪɹiəɫ pəˈzɛʃənz, bət baɪ ðə lɪvz ju tətʃ ənd ðə ləv ju ʃɛɹ.\n",
      " length:101\n",
      " length:101\n",
      "ˈtʃɛɹɪʃ ðə ˈsɪmpəɫ ˈmoʊmənts, ðə ˈlæftəɹ əv ə tʃaɪɫd, ðə wɔɹmθ əv ə həg,\n",
      " length:72\n",
      " length:72\n",
      "ðə ˈbjuti əv ə ˈsənˌsɛt. ðiz əɹ ðə θɪŋz ðət meɪk laɪf ˈtɹuli ɹɪtʃ.\n",
      " length:66\n",
      " length:66\n",
      "əˈbəv ɔɫ, ˈnɛvəɹ luz saɪt əv wət ˈmætəɹz moʊst ðə ˈpipəɫ ju ləv,\n",
      " length:64\n",
      " length:64\n",
      "ðə ˈpæʃənz ðət ˌɪnˈspaɪɹ ju, ənd ðə ˈlɛgəsi ju liv bɪˈhaɪnd.\n",
      " length:60\n",
      " length:60\n",
      "laɪf ɪz ə ˈpɹɛʃəs gɪft, soʊ lɪv ɪt ˈfʊli, ləv ˈdipli,\n",
      " length:53\n",
      " length:53\n",
      "ənd meɪk ˈɛvəɹi ˈmoʊmənt kaʊnt.\n",
      " length:31\n",
      " length:31\n",
      "Cloned Voice Generated!\n",
      "Execution times:\n",
      "Text length: 5, Execution time: 2.1915 seconds\n",
      "Text length: 9, Execution time: 2.2254 seconds\n",
      "Text length: 16, Execution time: 2.3194 seconds\n",
      "Text length: 49, Execution time: 3.5257 seconds\n",
      "Text length: 102, Execution time: 4.6586 seconds\n",
      "Text length: 347, Execution time: 9.6669 seconds\n",
      "Text length: 573, Execution time: 14.4296 seconds\n",
      "Text length: 810, Execution time: 18.6733 seconds\n",
      "Text length: 1017, Execution time: 23.8380 seconds\n"
     ]
    }
   ],
   "source": [
    "exec_time_vs_text_length_steven_10 = exec_time_vs_text_length(\"voice_samples/steven/10.wav\")\n",
    "exec_time_vs_text_length_zoe_10 = exec_time_vs_text_length(\"voice_samples/zoe/10.wav\")\n",
    "exec_time_vs_text_length_jeff_10 = exec_time_vs_text_length(\"voice_samples/jeff/9.wav\")\n",
    "exec_time_vs_text_length_yingqi_10 = exec_time_vs_text_length(\"voice_samples/yingqi/10.wav\")"
   ]
  },
  {
   "cell_type": "markdown",
   "metadata": {},
   "source": [
    "画一个折线图， same input audio length ， text length vs execution time"
   ]
  },
  {
   "cell_type": "code",
   "execution_count": 7,
   "metadata": {},
   "outputs": [
    {
     "data": {
      "image/png": "[encoded data removed]",
      "text/plain": [
       "<Figure size 1000x600 with 1 Axes>"
      ]
     },
     "metadata": {},
     "output_type": "display_data"
    }
   ],
   "source": [
    "import matplotlib.pyplot as plt\n",
    "\n",
    "plt.figure(figsize=(10, 6))\n",
    "\n",
    "plt.plot(text_length_list, exec_time_vs_text_length_steven_10, marker='o', label='Male Volunteer1 10 seconds audio sample', color='r') \n",
    "plt.plot(text_length_list, exec_time_vs_text_length_zoe_10, marker='s', label='Famale Volunteer1 10 seconds audio sample', color='g') \n",
    "plt.plot(text_length_list, exec_time_vs_text_length_jeff_10, marker='o', label='Male Volunteer2 10 seconds audio sample', color='b') \n",
    "plt.plot(text_length_list, exec_time_vs_text_length_yingqi_10, marker='s', label='Famale Volunteer2 10 seconds audio sample', color='m') \n",
    "\n",
    "plt.xlabel('The Text Length of Generated Audio (characters)')\n",
    "plt.ylabel('Execution Time (seconds)')\n",
    "plt.title('Execution Time vs The Text Length of Generated Audio')\n",
    "plt.legend()\n",
    "plt.grid(True)\n",
    "plt.show()"
   ]
  },
  {
   "cell_type": "markdown",
   "metadata": {},
   "source": [
    "### Trial two: Different input auido length vs execution time ###"
   ]
  },
  {
   "cell_type": "code",
   "execution_count": 8,
   "metadata": {},
   "outputs": [
    {
     "name": "stderr",
     "output_type": "stream",
     "text": [
      "/opt/anaconda3/envs/openvoice/lib/python3.9/site-packages/torch/nn/utils/weight_norm.py:28: UserWarning: torch.nn.utils.weight_norm is deprecated in favor of torch.nn.utils.parametrizations.weight_norm.\n",
      "  warnings.warn(\"torch.nn.utils.weight_norm is deprecated in favor of torch.nn.utils.parametrizations.weight_norm.\")\n"
     ]
    },
    {
     "name": "stdout",
     "output_type": "stream",
     "text": [
      "Loaded checkpoint 'checkpoints/base_speakers/EN/checkpoint.pth'\n",
      "missing/unexpected keys: [] []\n",
      "Loaded checkpoint 'checkpoints/converter/checkpoint.pth'\n",
      "missing/unexpected keys: [] []\n",
      "OpenVoice version: v1\n",
      "[(0.0, 10.112)]\n",
      "after vad: dur = 10.112\n",
      " > Text splitted to sentences.\n",
      "Hi, how are you.\n",
      " > ===========================\n",
      "haɪ, haʊ əɹ ju.\n",
      " length:15\n",
      " length:15\n",
      "Audio too short, fail to add watermark\n",
      "Cloned Voice Generated!\n"
     ]
    },
    {
     "name": "stderr",
     "output_type": "stream",
     "text": [
      "/opt/anaconda3/envs/openvoice/lib/python3.9/site-packages/torch/nn/utils/weight_norm.py:28: UserWarning: torch.nn.utils.weight_norm is deprecated in favor of torch.nn.utils.parametrizations.weight_norm.\n",
      "  warnings.warn(\"torch.nn.utils.weight_norm is deprecated in favor of torch.nn.utils.parametrizations.weight_norm.\")\n"
     ]
    },
    {
     "name": "stdout",
     "output_type": "stream",
     "text": [
      "Loaded checkpoint 'checkpoints/base_speakers/EN/checkpoint.pth'\n",
      "missing/unexpected keys: [] []\n",
      "Loaded checkpoint 'checkpoints/converter/checkpoint.pth'\n",
      "missing/unexpected keys: [] []\n",
      "OpenVoice version: v1\n",
      "[(0.0, 10.112)]\n",
      "after vad: dur = 10.112\n",
      " > Text splitted to sentences.\n",
      "Hi, how are you.\n",
      " > ===========================\n",
      "haɪ, haʊ əɹ ju.\n",
      " length:15\n",
      " length:15\n",
      "Audio too short, fail to add watermark\n",
      "Cloned Voice Generated!\n"
     ]
    },
    {
     "name": "stderr",
     "output_type": "stream",
     "text": [
      "/opt/anaconda3/envs/openvoice/lib/python3.9/site-packages/torch/nn/utils/weight_norm.py:28: UserWarning: torch.nn.utils.weight_norm is deprecated in favor of torch.nn.utils.parametrizations.weight_norm.\n",
      "  warnings.warn(\"torch.nn.utils.weight_norm is deprecated in favor of torch.nn.utils.parametrizations.weight_norm.\")\n"
     ]
    },
    {
     "name": "stdout",
     "output_type": "stream",
     "text": [
      "Loaded checkpoint 'checkpoints/base_speakers/EN/checkpoint.pth'\n",
      "missing/unexpected keys: [] []\n",
      "Loaded checkpoint 'checkpoints/converter/checkpoint.pth'\n",
      "missing/unexpected keys: [] []\n",
      "OpenVoice version: v1\n",
      "[(0.0, 10.112)]\n",
      "after vad: dur = 10.112\n",
      " > Text splitted to sentences.\n",
      "Hi, how are you.\n",
      " > ===========================\n",
      "haɪ, haʊ əɹ ju.\n",
      " length:15\n",
      " length:15\n",
      "Audio too short, fail to add watermark\n",
      "Cloned Voice Generated!\n"
     ]
    },
    {
     "name": "stderr",
     "output_type": "stream",
     "text": [
      "/opt/anaconda3/envs/openvoice/lib/python3.9/site-packages/torch/nn/utils/weight_norm.py:28: UserWarning: torch.nn.utils.weight_norm is deprecated in favor of torch.nn.utils.parametrizations.weight_norm.\n",
      "  warnings.warn(\"torch.nn.utils.weight_norm is deprecated in favor of torch.nn.utils.parametrizations.weight_norm.\")\n"
     ]
    },
    {
     "name": "stdout",
     "output_type": "stream",
     "text": [
      "Loaded checkpoint 'checkpoints/base_speakers/EN/checkpoint.pth'\n",
      "missing/unexpected keys: [] []\n",
      "Loaded checkpoint 'checkpoints/converter/checkpoint.pth'\n",
      "missing/unexpected keys: [] []\n",
      "OpenVoice version: v1\n",
      "[(0.0, 10.112)]\n",
      "after vad: dur = 10.112\n",
      " > Text splitted to sentences.\n",
      "Hi, how are you.\n",
      " > ===========================\n",
      "haɪ, haʊ əɹ ju.\n",
      " length:15\n",
      " length:15\n",
      "Audio too short, fail to add watermark\n",
      "Cloned Voice Generated!\n"
     ]
    },
    {
     "name": "stderr",
     "output_type": "stream",
     "text": [
      "/opt/anaconda3/envs/openvoice/lib/python3.9/site-packages/torch/nn/utils/weight_norm.py:28: UserWarning: torch.nn.utils.weight_norm is deprecated in favor of torch.nn.utils.parametrizations.weight_norm.\n",
      "  warnings.warn(\"torch.nn.utils.weight_norm is deprecated in favor of torch.nn.utils.parametrizations.weight_norm.\")\n"
     ]
    },
    {
     "name": "stdout",
     "output_type": "stream",
     "text": [
      "Loaded checkpoint 'checkpoints/base_speakers/EN/checkpoint.pth'\n",
      "missing/unexpected keys: [] []\n",
      "Loaded checkpoint 'checkpoints/converter/checkpoint.pth'\n",
      "missing/unexpected keys: [] []\n",
      "OpenVoice version: v1\n",
      "[(0.0, 10.112)]\n",
      "after vad: dur = 10.112\n",
      " > Text splitted to sentences.\n",
      "Hi, how are you.\n",
      " > ===========================\n",
      "haɪ, haʊ əɹ ju.\n",
      " length:15\n",
      " length:15\n",
      "Audio too short, fail to add watermark\n",
      "Cloned Voice Generated!\n"
     ]
    },
    {
     "name": "stderr",
     "output_type": "stream",
     "text": [
      "/opt/anaconda3/envs/openvoice/lib/python3.9/site-packages/torch/nn/utils/weight_norm.py:28: UserWarning: torch.nn.utils.weight_norm is deprecated in favor of torch.nn.utils.parametrizations.weight_norm.\n",
      "  warnings.warn(\"torch.nn.utils.weight_norm is deprecated in favor of torch.nn.utils.parametrizations.weight_norm.\")\n"
     ]
    },
    {
     "name": "stdout",
     "output_type": "stream",
     "text": [
      "Loaded checkpoint 'checkpoints/base_speakers/EN/checkpoint.pth'\n",
      "missing/unexpected keys: [] []\n",
      "Loaded checkpoint 'checkpoints/converter/checkpoint.pth'\n",
      "missing/unexpected keys: [] []\n",
      "OpenVoice version: v1\n",
      "[(0.0, 16.4266875)]\n",
      "after vad: dur = 16.426\n",
      " > Text splitted to sentences.\n",
      "Hi, how are you.\n",
      " > ===========================\n",
      "haɪ, haʊ əɹ ju.\n",
      " length:15\n",
      " length:15\n",
      "Audio too short, fail to add watermark\n",
      "Cloned Voice Generated!\n"
     ]
    },
    {
     "name": "stderr",
     "output_type": "stream",
     "text": [
      "/opt/anaconda3/envs/openvoice/lib/python3.9/site-packages/torch/nn/utils/weight_norm.py:28: UserWarning: torch.nn.utils.weight_norm is deprecated in favor of torch.nn.utils.parametrizations.weight_norm.\n",
      "  warnings.warn(\"torch.nn.utils.weight_norm is deprecated in favor of torch.nn.utils.parametrizations.weight_norm.\")\n"
     ]
    },
    {
     "name": "stdout",
     "output_type": "stream",
     "text": [
      "Loaded checkpoint 'checkpoints/base_speakers/EN/checkpoint.pth'\n",
      "missing/unexpected keys: [] []\n",
      "Loaded checkpoint 'checkpoints/converter/checkpoint.pth'\n",
      "missing/unexpected keys: [] []\n",
      "OpenVoice version: v1\n",
      "[(0.0, 16.4266875)]\n",
      "after vad: dur = 16.426\n",
      " > Text splitted to sentences.\n",
      "Hi, how are you.\n",
      " > ===========================\n",
      "haɪ, haʊ əɹ ju.\n",
      " length:15\n",
      " length:15\n",
      "Audio too short, fail to add watermark\n",
      "Cloned Voice Generated!\n"
     ]
    },
    {
     "name": "stderr",
     "output_type": "stream",
     "text": [
      "/opt/anaconda3/envs/openvoice/lib/python3.9/site-packages/torch/nn/utils/weight_norm.py:28: UserWarning: torch.nn.utils.weight_norm is deprecated in favor of torch.nn.utils.parametrizations.weight_norm.\n",
      "  warnings.warn(\"torch.nn.utils.weight_norm is deprecated in favor of torch.nn.utils.parametrizations.weight_norm.\")\n"
     ]
    },
    {
     "name": "stdout",
     "output_type": "stream",
     "text": [
      "Loaded checkpoint 'checkpoints/base_speakers/EN/checkpoint.pth'\n",
      "missing/unexpected keys: [] []\n",
      "Loaded checkpoint 'checkpoints/converter/checkpoint.pth'\n",
      "missing/unexpected keys: [] []\n",
      "OpenVoice version: v1\n",
      "[(0.0, 16.4266875)]\n",
      "after vad: dur = 16.426\n",
      " > Text splitted to sentences.\n",
      "Hi, how are you.\n",
      " > ===========================\n",
      "haɪ, haʊ əɹ ju.\n",
      " length:15\n",
      " length:15\n",
      "Audio too short, fail to add watermark\n",
      "Cloned Voice Generated!\n"
     ]
    },
    {
     "name": "stderr",
     "output_type": "stream",
     "text": [
      "/opt/anaconda3/envs/openvoice/lib/python3.9/site-packages/torch/nn/utils/weight_norm.py:28: UserWarning: torch.nn.utils.weight_norm is deprecated in favor of torch.nn.utils.parametrizations.weight_norm.\n",
      "  warnings.warn(\"torch.nn.utils.weight_norm is deprecated in favor of torch.nn.utils.parametrizations.weight_norm.\")\n"
     ]
    },
    {
     "name": "stdout",
     "output_type": "stream",
     "text": [
      "Loaded checkpoint 'checkpoints/base_speakers/EN/checkpoint.pth'\n",
      "missing/unexpected keys: [] []\n",
      "Loaded checkpoint 'checkpoints/converter/checkpoint.pth'\n",
      "missing/unexpected keys: [] []\n",
      "OpenVoice version: v1\n",
      "[(0.0, 16.4266875)]\n",
      "after vad: dur = 16.426\n",
      " > Text splitted to sentences.\n",
      "Hi, how are you.\n",
      " > ===========================\n",
      "haɪ, haʊ əɹ ju.\n",
      " length:15\n",
      " length:15\n",
      "Audio too short, fail to add watermark\n",
      "Cloned Voice Generated!\n"
     ]
    },
    {
     "name": "stderr",
     "output_type": "stream",
     "text": [
      "/opt/anaconda3/envs/openvoice/lib/python3.9/site-packages/torch/nn/utils/weight_norm.py:28: UserWarning: torch.nn.utils.weight_norm is deprecated in favor of torch.nn.utils.parametrizations.weight_norm.\n",
      "  warnings.warn(\"torch.nn.utils.weight_norm is deprecated in favor of torch.nn.utils.parametrizations.weight_norm.\")\n"
     ]
    },
    {
     "name": "stdout",
     "output_type": "stream",
     "text": [
      "Loaded checkpoint 'checkpoints/base_speakers/EN/checkpoint.pth'\n",
      "missing/unexpected keys: [] []\n",
      "Loaded checkpoint 'checkpoints/converter/checkpoint.pth'\n",
      "missing/unexpected keys: [] []\n",
      "OpenVoice version: v1\n",
      "[(0.0, 16.4266875)]\n",
      "after vad: dur = 16.426\n",
      " > Text splitted to sentences.\n",
      "Hi, how are you.\n",
      " > ===========================\n",
      "haɪ, haʊ əɹ ju.\n",
      " length:15\n",
      " length:15\n",
      "Audio too short, fail to add watermark\n",
      "Cloned Voice Generated!\n"
     ]
    },
    {
     "name": "stderr",
     "output_type": "stream",
     "text": [
      "/opt/anaconda3/envs/openvoice/lib/python3.9/site-packages/torch/nn/utils/weight_norm.py:28: UserWarning: torch.nn.utils.weight_norm is deprecated in favor of torch.nn.utils.parametrizations.weight_norm.\n",
      "  warnings.warn(\"torch.nn.utils.weight_norm is deprecated in favor of torch.nn.utils.parametrizations.weight_norm.\")\n"
     ]
    },
    {
     "name": "stdout",
     "output_type": "stream",
     "text": [
      "Loaded checkpoint 'checkpoints/base_speakers/EN/checkpoint.pth'\n",
      "missing/unexpected keys: [] []\n",
      "Loaded checkpoint 'checkpoints/converter/checkpoint.pth'\n",
      "missing/unexpected keys: [] []\n",
      "OpenVoice version: v1\n",
      "[(0.0, 18.944)]\n",
      "after vad: dur = 18.944\n",
      " > Text splitted to sentences.\n",
      "Hi, how are you.\n",
      " > ===========================\n",
      "haɪ, haʊ əɹ ju.\n",
      " length:15\n",
      " length:15\n",
      "Audio too short, fail to add watermark\n",
      "Cloned Voice Generated!\n"
     ]
    },
    {
     "name": "stderr",
     "output_type": "stream",
     "text": [
      "/opt/anaconda3/envs/openvoice/lib/python3.9/site-packages/torch/nn/utils/weight_norm.py:28: UserWarning: torch.nn.utils.weight_norm is deprecated in favor of torch.nn.utils.parametrizations.weight_norm.\n",
      "  warnings.warn(\"torch.nn.utils.weight_norm is deprecated in favor of torch.nn.utils.parametrizations.weight_norm.\")\n"
     ]
    },
    {
     "name": "stdout",
     "output_type": "stream",
     "text": [
      "Loaded checkpoint 'checkpoints/base_speakers/EN/checkpoint.pth'\n",
      "missing/unexpected keys: [] []\n",
      "Loaded checkpoint 'checkpoints/converter/checkpoint.pth'\n",
      "missing/unexpected keys: [] []\n",
      "OpenVoice version: v1\n",
      "[(0.0, 18.944)]\n",
      "after vad: dur = 18.944\n",
      " > Text splitted to sentences.\n",
      "Hi, how are you.\n",
      " > ===========================\n",
      "haɪ, haʊ əɹ ju.\n",
      " length:15\n",
      " length:15\n",
      "Audio too short, fail to add watermark\n",
      "Cloned Voice Generated!\n"
     ]
    },
    {
     "name": "stderr",
     "output_type": "stream",
     "text": [
      "/opt/anaconda3/envs/openvoice/lib/python3.9/site-packages/torch/nn/utils/weight_norm.py:28: UserWarning: torch.nn.utils.weight_norm is deprecated in favor of torch.nn.utils.parametrizations.weight_norm.\n",
      "  warnings.warn(\"torch.nn.utils.weight_norm is deprecated in favor of torch.nn.utils.parametrizations.weight_norm.\")\n"
     ]
    },
    {
     "name": "stdout",
     "output_type": "stream",
     "text": [
      "Loaded checkpoint 'checkpoints/base_speakers/EN/checkpoint.pth'\n",
      "missing/unexpected keys: [] []\n",
      "Loaded checkpoint 'checkpoints/converter/checkpoint.pth'\n",
      "missing/unexpected keys: [] []\n",
      "OpenVoice version: v1\n",
      "[(0.0, 18.944)]\n",
      "after vad: dur = 18.944\n",
      " > Text splitted to sentences.\n",
      "Hi, how are you.\n",
      " > ===========================\n",
      "haɪ, haʊ əɹ ju.\n",
      " length:15\n",
      " length:15\n",
      "Audio too short, fail to add watermark\n",
      "Cloned Voice Generated!\n"
     ]
    },
    {
     "name": "stderr",
     "output_type": "stream",
     "text": [
      "/opt/anaconda3/envs/openvoice/lib/python3.9/site-packages/torch/nn/utils/weight_norm.py:28: UserWarning: torch.nn.utils.weight_norm is deprecated in favor of torch.nn.utils.parametrizations.weight_norm.\n",
      "  warnings.warn(\"torch.nn.utils.weight_norm is deprecated in favor of torch.nn.utils.parametrizations.weight_norm.\")\n"
     ]
    },
    {
     "name": "stdout",
     "output_type": "stream",
     "text": [
      "Loaded checkpoint 'checkpoints/base_speakers/EN/checkpoint.pth'\n",
      "missing/unexpected keys: [] []\n",
      "Loaded checkpoint 'checkpoints/converter/checkpoint.pth'\n",
      "missing/unexpected keys: [] []\n",
      "OpenVoice version: v1\n",
      "[(0.0, 18.944)]\n",
      "after vad: dur = 18.944\n",
      " > Text splitted to sentences.\n",
      "Hi, how are you.\n",
      " > ===========================\n",
      "haɪ, haʊ əɹ ju.\n",
      " length:15\n",
      " length:15\n",
      "Audio too short, fail to add watermark\n",
      "Cloned Voice Generated!\n"
     ]
    },
    {
     "name": "stderr",
     "output_type": "stream",
     "text": [
      "/opt/anaconda3/envs/openvoice/lib/python3.9/site-packages/torch/nn/utils/weight_norm.py:28: UserWarning: torch.nn.utils.weight_norm is deprecated in favor of torch.nn.utils.parametrizations.weight_norm.\n",
      "  warnings.warn(\"torch.nn.utils.weight_norm is deprecated in favor of torch.nn.utils.parametrizations.weight_norm.\")\n"
     ]
    },
    {
     "name": "stdout",
     "output_type": "stream",
     "text": [
      "Loaded checkpoint 'checkpoints/base_speakers/EN/checkpoint.pth'\n",
      "missing/unexpected keys: [] []\n",
      "Loaded checkpoint 'checkpoints/converter/checkpoint.pth'\n",
      "missing/unexpected keys: [] []\n",
      "OpenVoice version: v1\n",
      "[(0.0, 18.944)]\n",
      "after vad: dur = 18.944\n",
      " > Text splitted to sentences.\n",
      "Hi, how are you.\n",
      " > ===========================\n",
      "haɪ, haʊ əɹ ju.\n",
      " length:15\n",
      " length:15\n",
      "Audio too short, fail to add watermark\n",
      "Cloned Voice Generated!\n"
     ]
    },
    {
     "name": "stderr",
     "output_type": "stream",
     "text": [
      "/opt/anaconda3/envs/openvoice/lib/python3.9/site-packages/torch/nn/utils/weight_norm.py:28: UserWarning: torch.nn.utils.weight_norm is deprecated in favor of torch.nn.utils.parametrizations.weight_norm.\n",
      "  warnings.warn(\"torch.nn.utils.weight_norm is deprecated in favor of torch.nn.utils.parametrizations.weight_norm.\")\n"
     ]
    },
    {
     "name": "stdout",
     "output_type": "stream",
     "text": [
      "Loaded checkpoint 'checkpoints/base_speakers/EN/checkpoint.pth'\n",
      "missing/unexpected keys: [] []\n",
      "Loaded checkpoint 'checkpoints/converter/checkpoint.pth'\n",
      "missing/unexpected keys: [] []\n",
      "OpenVoice version: v1\n",
      "[(0.0, 19.584)]\n",
      "after vad: dur = 19.584\n",
      " > Text splitted to sentences.\n",
      "Hi, how are you.\n",
      " > ===========================\n",
      "haɪ, haʊ əɹ ju.\n",
      " length:15\n",
      " length:15\n",
      "Audio too short, fail to add watermark\n",
      "Cloned Voice Generated!\n"
     ]
    },
    {
     "name": "stderr",
     "output_type": "stream",
     "text": [
      "/opt/anaconda3/envs/openvoice/lib/python3.9/site-packages/torch/nn/utils/weight_norm.py:28: UserWarning: torch.nn.utils.weight_norm is deprecated in favor of torch.nn.utils.parametrizations.weight_norm.\n",
      "  warnings.warn(\"torch.nn.utils.weight_norm is deprecated in favor of torch.nn.utils.parametrizations.weight_norm.\")\n"
     ]
    },
    {
     "name": "stdout",
     "output_type": "stream",
     "text": [
      "Loaded checkpoint 'checkpoints/base_speakers/EN/checkpoint.pth'\n",
      "missing/unexpected keys: [] []\n",
      "Loaded checkpoint 'checkpoints/converter/checkpoint.pth'\n",
      "missing/unexpected keys: [] []\n",
      "OpenVoice version: v1\n",
      "[(0.0, 19.584)]\n",
      "after vad: dur = 19.584\n",
      " > Text splitted to sentences.\n",
      "Hi, how are you.\n",
      " > ===========================\n",
      "haɪ, haʊ əɹ ju.\n",
      " length:15\n",
      " length:15\n",
      "Audio too short, fail to add watermark\n",
      "Cloned Voice Generated!\n"
     ]
    },
    {
     "name": "stderr",
     "output_type": "stream",
     "text": [
      "/opt/anaconda3/envs/openvoice/lib/python3.9/site-packages/torch/nn/utils/weight_norm.py:28: UserWarning: torch.nn.utils.weight_norm is deprecated in favor of torch.nn.utils.parametrizations.weight_norm.\n",
      "  warnings.warn(\"torch.nn.utils.weight_norm is deprecated in favor of torch.nn.utils.parametrizations.weight_norm.\")\n"
     ]
    },
    {
     "name": "stdout",
     "output_type": "stream",
     "text": [
      "Loaded checkpoint 'checkpoints/base_speakers/EN/checkpoint.pth'\n",
      "missing/unexpected keys: [] []\n",
      "Loaded checkpoint 'checkpoints/converter/checkpoint.pth'\n",
      "missing/unexpected keys: [] []\n",
      "OpenVoice version: v1\n",
      "[(0.0, 19.584)]\n",
      "after vad: dur = 19.584\n",
      " > Text splitted to sentences.\n",
      "Hi, how are you.\n",
      " > ===========================\n",
      "haɪ, haʊ əɹ ju.\n",
      " length:15\n",
      " length:15\n",
      "Audio too short, fail to add watermark\n",
      "Cloned Voice Generated!\n"
     ]
    },
    {
     "name": "stderr",
     "output_type": "stream",
     "text": [
      "/opt/anaconda3/envs/openvoice/lib/python3.9/site-packages/torch/nn/utils/weight_norm.py:28: UserWarning: torch.nn.utils.weight_norm is deprecated in favor of torch.nn.utils.parametrizations.weight_norm.\n",
      "  warnings.warn(\"torch.nn.utils.weight_norm is deprecated in favor of torch.nn.utils.parametrizations.weight_norm.\")\n"
     ]
    },
    {
     "name": "stdout",
     "output_type": "stream",
     "text": [
      "Loaded checkpoint 'checkpoints/base_speakers/EN/checkpoint.pth'\n",
      "missing/unexpected keys: [] []\n",
      "Loaded checkpoint 'checkpoints/converter/checkpoint.pth'\n",
      "missing/unexpected keys: [] []\n",
      "OpenVoice version: v1\n",
      "[(0.0, 19.584)]\n",
      "after vad: dur = 19.584\n",
      " > Text splitted to sentences.\n",
      "Hi, how are you.\n",
      " > ===========================\n",
      "haɪ, haʊ əɹ ju.\n",
      " length:15\n",
      " length:15\n",
      "Audio too short, fail to add watermark\n",
      "Cloned Voice Generated!\n"
     ]
    },
    {
     "name": "stderr",
     "output_type": "stream",
     "text": [
      "/opt/anaconda3/envs/openvoice/lib/python3.9/site-packages/torch/nn/utils/weight_norm.py:28: UserWarning: torch.nn.utils.weight_norm is deprecated in favor of torch.nn.utils.parametrizations.weight_norm.\n",
      "  warnings.warn(\"torch.nn.utils.weight_norm is deprecated in favor of torch.nn.utils.parametrizations.weight_norm.\")\n"
     ]
    },
    {
     "name": "stdout",
     "output_type": "stream",
     "text": [
      "Loaded checkpoint 'checkpoints/base_speakers/EN/checkpoint.pth'\n",
      "missing/unexpected keys: [] []\n",
      "Loaded checkpoint 'checkpoints/converter/checkpoint.pth'\n",
      "missing/unexpected keys: [] []\n",
      "OpenVoice version: v1\n",
      "[(0.0, 19.584)]\n",
      "after vad: dur = 19.584\n",
      " > Text splitted to sentences.\n",
      "Hi, how are you.\n",
      " > ===========================\n",
      "haɪ, haʊ əɹ ju.\n",
      " length:15\n",
      " length:15\n",
      "Audio too short, fail to add watermark\n",
      "Cloned Voice Generated!\n"
     ]
    },
    {
     "name": "stderr",
     "output_type": "stream",
     "text": [
      "/opt/anaconda3/envs/openvoice/lib/python3.9/site-packages/torch/nn/utils/weight_norm.py:28: UserWarning: torch.nn.utils.weight_norm is deprecated in favor of torch.nn.utils.parametrizations.weight_norm.\n",
      "  warnings.warn(\"torch.nn.utils.weight_norm is deprecated in favor of torch.nn.utils.parametrizations.weight_norm.\")\n"
     ]
    },
    {
     "name": "stdout",
     "output_type": "stream",
     "text": [
      "Loaded checkpoint 'checkpoints/base_speakers/EN/checkpoint.pth'\n",
      "missing/unexpected keys: [] []\n",
      "Loaded checkpoint 'checkpoints/converter/checkpoint.pth'\n",
      "missing/unexpected keys: [] []\n",
      "OpenVoice version: v1\n",
      "[(0.0, 35.3066875)]\n",
      "after vad: dur = 35.306\n",
      " > Text splitted to sentences.\n",
      "Hi, how are you.\n",
      " > ===========================\n",
      "haɪ, haʊ əɹ ju.\n",
      " length:15\n",
      " length:15\n",
      "Audio too short, fail to add watermark\n",
      "Cloned Voice Generated!\n"
     ]
    },
    {
     "name": "stderr",
     "output_type": "stream",
     "text": [
      "/opt/anaconda3/envs/openvoice/lib/python3.9/site-packages/torch/nn/utils/weight_norm.py:28: UserWarning: torch.nn.utils.weight_norm is deprecated in favor of torch.nn.utils.parametrizations.weight_norm.\n",
      "  warnings.warn(\"torch.nn.utils.weight_norm is deprecated in favor of torch.nn.utils.parametrizations.weight_norm.\")\n"
     ]
    },
    {
     "name": "stdout",
     "output_type": "stream",
     "text": [
      "Loaded checkpoint 'checkpoints/base_speakers/EN/checkpoint.pth'\n",
      "missing/unexpected keys: [] []\n",
      "Loaded checkpoint 'checkpoints/converter/checkpoint.pth'\n",
      "missing/unexpected keys: [] []\n",
      "OpenVoice version: v1\n",
      "[(0.0, 35.3066875)]\n",
      "after vad: dur = 35.306\n",
      " > Text splitted to sentences.\n",
      "Hi, how are you.\n",
      " > ===========================\n",
      "haɪ, haʊ əɹ ju.\n",
      " length:15\n",
      " length:15\n",
      "Audio too short, fail to add watermark\n",
      "Cloned Voice Generated!\n"
     ]
    },
    {
     "name": "stderr",
     "output_type": "stream",
     "text": [
      "/opt/anaconda3/envs/openvoice/lib/python3.9/site-packages/torch/nn/utils/weight_norm.py:28: UserWarning: torch.nn.utils.weight_norm is deprecated in favor of torch.nn.utils.parametrizations.weight_norm.\n",
      "  warnings.warn(\"torch.nn.utils.weight_norm is deprecated in favor of torch.nn.utils.parametrizations.weight_norm.\")\n"
     ]
    },
    {
     "name": "stdout",
     "output_type": "stream",
     "text": [
      "Loaded checkpoint 'checkpoints/base_speakers/EN/checkpoint.pth'\n",
      "missing/unexpected keys: [] []\n",
      "Loaded checkpoint 'checkpoints/converter/checkpoint.pth'\n",
      "missing/unexpected keys: [] []\n",
      "OpenVoice version: v1\n",
      "[(0.0, 35.3066875)]\n",
      "after vad: dur = 35.306\n",
      " > Text splitted to sentences.\n",
      "Hi, how are you.\n",
      " > ===========================\n",
      "haɪ, haʊ əɹ ju.\n",
      " length:15\n",
      " length:15\n",
      "Audio too short, fail to add watermark\n",
      "Cloned Voice Generated!\n"
     ]
    },
    {
     "name": "stderr",
     "output_type": "stream",
     "text": [
      "/opt/anaconda3/envs/openvoice/lib/python3.9/site-packages/torch/nn/utils/weight_norm.py:28: UserWarning: torch.nn.utils.weight_norm is deprecated in favor of torch.nn.utils.parametrizations.weight_norm.\n",
      "  warnings.warn(\"torch.nn.utils.weight_norm is deprecated in favor of torch.nn.utils.parametrizations.weight_norm.\")\n"
     ]
    },
    {
     "name": "stdout",
     "output_type": "stream",
     "text": [
      "Loaded checkpoint 'checkpoints/base_speakers/EN/checkpoint.pth'\n",
      "missing/unexpected keys: [] []\n",
      "Loaded checkpoint 'checkpoints/converter/checkpoint.pth'\n",
      "missing/unexpected keys: [] []\n",
      "OpenVoice version: v1\n",
      "[(0.0, 35.3066875)]\n",
      "after vad: dur = 35.306\n",
      " > Text splitted to sentences.\n",
      "Hi, how are you.\n",
      " > ===========================\n",
      "haɪ, haʊ əɹ ju.\n",
      " length:15\n",
      " length:15\n",
      "Audio too short, fail to add watermark\n",
      "Cloned Voice Generated!\n"
     ]
    },
    {
     "name": "stderr",
     "output_type": "stream",
     "text": [
      "/opt/anaconda3/envs/openvoice/lib/python3.9/site-packages/torch/nn/utils/weight_norm.py:28: UserWarning: torch.nn.utils.weight_norm is deprecated in favor of torch.nn.utils.parametrizations.weight_norm.\n",
      "  warnings.warn(\"torch.nn.utils.weight_norm is deprecated in favor of torch.nn.utils.parametrizations.weight_norm.\")\n"
     ]
    },
    {
     "name": "stdout",
     "output_type": "stream",
     "text": [
      "Loaded checkpoint 'checkpoints/base_speakers/EN/checkpoint.pth'\n",
      "missing/unexpected keys: [] []\n",
      "Loaded checkpoint 'checkpoints/converter/checkpoint.pth'\n",
      "missing/unexpected keys: [] []\n",
      "OpenVoice version: v1\n",
      "[(0.0, 35.3066875)]\n",
      "after vad: dur = 35.306\n",
      " > Text splitted to sentences.\n",
      "Hi, how are you.\n",
      " > ===========================\n",
      "haɪ, haʊ əɹ ju.\n",
      " length:15\n",
      " length:15\n",
      "Audio too short, fail to add watermark\n",
      "Cloned Voice Generated!\n"
     ]
    },
    {
     "name": "stderr",
     "output_type": "stream",
     "text": [
      "/opt/anaconda3/envs/openvoice/lib/python3.9/site-packages/torch/nn/utils/weight_norm.py:28: UserWarning: torch.nn.utils.weight_norm is deprecated in favor of torch.nn.utils.parametrizations.weight_norm.\n",
      "  warnings.warn(\"torch.nn.utils.weight_norm is deprecated in favor of torch.nn.utils.parametrizations.weight_norm.\")\n"
     ]
    },
    {
     "name": "stdout",
     "output_type": "stream",
     "text": [
      "Loaded checkpoint 'checkpoints/base_speakers/EN/checkpoint.pth'\n",
      "missing/unexpected keys: [] []\n",
      "Loaded checkpoint 'checkpoints/converter/checkpoint.pth'\n",
      "missing/unexpected keys: [] []\n",
      "OpenVoice version: v1\n",
      "[(0.0, 106.1546875)]\n",
      "after vad: dur = 106.154\n",
      " > Text splitted to sentences.\n",
      "Hi, how are you.\n",
      " > ===========================\n",
      "haɪ, haʊ əɹ ju.\n",
      " length:15\n",
      " length:15\n",
      "Audio too short, fail to add watermark\n",
      "Cloned Voice Generated!\n"
     ]
    },
    {
     "name": "stderr",
     "output_type": "stream",
     "text": [
      "/opt/anaconda3/envs/openvoice/lib/python3.9/site-packages/torch/nn/utils/weight_norm.py:28: UserWarning: torch.nn.utils.weight_norm is deprecated in favor of torch.nn.utils.parametrizations.weight_norm.\n",
      "  warnings.warn(\"torch.nn.utils.weight_norm is deprecated in favor of torch.nn.utils.parametrizations.weight_norm.\")\n"
     ]
    },
    {
     "name": "stdout",
     "output_type": "stream",
     "text": [
      "Loaded checkpoint 'checkpoints/base_speakers/EN/checkpoint.pth'\n",
      "missing/unexpected keys: [] []\n",
      "Loaded checkpoint 'checkpoints/converter/checkpoint.pth'\n",
      "missing/unexpected keys: [] []\n",
      "OpenVoice version: v1\n",
      "[(0.0, 106.1546875)]\n",
      "after vad: dur = 106.154\n",
      " > Text splitted to sentences.\n",
      "Hi, how are you.\n",
      " > ===========================\n",
      "haɪ, haʊ əɹ ju.\n",
      " length:15\n",
      " length:15\n",
      "Audio too short, fail to add watermark\n",
      "Cloned Voice Generated!\n"
     ]
    },
    {
     "name": "stderr",
     "output_type": "stream",
     "text": [
      "/opt/anaconda3/envs/openvoice/lib/python3.9/site-packages/torch/nn/utils/weight_norm.py:28: UserWarning: torch.nn.utils.weight_norm is deprecated in favor of torch.nn.utils.parametrizations.weight_norm.\n",
      "  warnings.warn(\"torch.nn.utils.weight_norm is deprecated in favor of torch.nn.utils.parametrizations.weight_norm.\")\n"
     ]
    },
    {
     "name": "stdout",
     "output_type": "stream",
     "text": [
      "Loaded checkpoint 'checkpoints/base_speakers/EN/checkpoint.pth'\n",
      "missing/unexpected keys: [] []\n",
      "Loaded checkpoint 'checkpoints/converter/checkpoint.pth'\n",
      "missing/unexpected keys: [] []\n",
      "OpenVoice version: v1\n",
      "[(0.0, 106.1546875)]\n",
      "after vad: dur = 106.154\n",
      " > Text splitted to sentences.\n",
      "Hi, how are you.\n",
      " > ===========================\n",
      "haɪ, haʊ əɹ ju.\n",
      " length:15\n",
      " length:15\n",
      "Audio too short, fail to add watermark\n",
      "Cloned Voice Generated!\n"
     ]
    },
    {
     "name": "stderr",
     "output_type": "stream",
     "text": [
      "/opt/anaconda3/envs/openvoice/lib/python3.9/site-packages/torch/nn/utils/weight_norm.py:28: UserWarning: torch.nn.utils.weight_norm is deprecated in favor of torch.nn.utils.parametrizations.weight_norm.\n",
      "  warnings.warn(\"torch.nn.utils.weight_norm is deprecated in favor of torch.nn.utils.parametrizations.weight_norm.\")\n"
     ]
    },
    {
     "name": "stdout",
     "output_type": "stream",
     "text": [
      "Loaded checkpoint 'checkpoints/base_speakers/EN/checkpoint.pth'\n",
      "missing/unexpected keys: [] []\n",
      "Loaded checkpoint 'checkpoints/converter/checkpoint.pth'\n",
      "missing/unexpected keys: [] []\n",
      "OpenVoice version: v1\n",
      "[(0.0, 106.1546875)]\n",
      "after vad: dur = 106.154\n",
      " > Text splitted to sentences.\n",
      "Hi, how are you.\n",
      " > ===========================\n",
      "haɪ, haʊ əɹ ju.\n",
      " length:15\n",
      " length:15\n",
      "Audio too short, fail to add watermark\n",
      "Cloned Voice Generated!\n"
     ]
    },
    {
     "name": "stderr",
     "output_type": "stream",
     "text": [
      "/opt/anaconda3/envs/openvoice/lib/python3.9/site-packages/torch/nn/utils/weight_norm.py:28: UserWarning: torch.nn.utils.weight_norm is deprecated in favor of torch.nn.utils.parametrizations.weight_norm.\n",
      "  warnings.warn(\"torch.nn.utils.weight_norm is deprecated in favor of torch.nn.utils.parametrizations.weight_norm.\")\n"
     ]
    },
    {
     "name": "stdout",
     "output_type": "stream",
     "text": [
      "Loaded checkpoint 'checkpoints/base_speakers/EN/checkpoint.pth'\n",
      "missing/unexpected keys: [] []\n",
      "Loaded checkpoint 'checkpoints/converter/checkpoint.pth'\n",
      "missing/unexpected keys: [] []\n",
      "OpenVoice version: v1\n",
      "[(0.0, 106.1546875)]\n",
      "after vad: dur = 106.154\n",
      " > Text splitted to sentences.\n",
      "Hi, how are you.\n",
      " > ===========================\n",
      "haɪ, haʊ əɹ ju.\n",
      " length:15\n",
      " length:15\n",
      "Audio too short, fail to add watermark\n",
      "Cloned Voice Generated!\n",
      "[2.382479429244995, 2.350155830383301, 2.5712146759033203, 2.476594161987305, 2.7238497734069824, 3.9564998149871826]\n"
     ]
    },
    {
     "name": "stderr",
     "output_type": "stream",
     "text": [
      "/opt/anaconda3/envs/openvoice/lib/python3.9/site-packages/torch/nn/utils/weight_norm.py:28: UserWarning: torch.nn.utils.weight_norm is deprecated in favor of torch.nn.utils.parametrizations.weight_norm.\n",
      "  warnings.warn(\"torch.nn.utils.weight_norm is deprecated in favor of torch.nn.utils.parametrizations.weight_norm.\")\n"
     ]
    },
    {
     "name": "stdout",
     "output_type": "stream",
     "text": [
      "Loaded checkpoint 'checkpoints/base_speakers/EN/checkpoint.pth'\n",
      "missing/unexpected keys: [] []\n",
      "Loaded checkpoint 'checkpoints/converter/checkpoint.pth'\n",
      "missing/unexpected keys: [] []\n",
      "OpenVoice version: v1\n",
      "[(0.174, 10.6453125)]\n",
      "after vad: dur = 10.471\n",
      " > Text splitted to sentences.\n",
      "Hi, how are you.\n",
      " > ===========================\n",
      "haɪ, haʊ əɹ ju.\n",
      " length:15\n",
      " length:15\n",
      "Audio too short, fail to add watermark\n",
      "Cloned Voice Generated!\n"
     ]
    },
    {
     "name": "stderr",
     "output_type": "stream",
     "text": [
      "/opt/anaconda3/envs/openvoice/lib/python3.9/site-packages/torch/nn/utils/weight_norm.py:28: UserWarning: torch.nn.utils.weight_norm is deprecated in favor of torch.nn.utils.parametrizations.weight_norm.\n",
      "  warnings.warn(\"torch.nn.utils.weight_norm is deprecated in favor of torch.nn.utils.parametrizations.weight_norm.\")\n"
     ]
    },
    {
     "name": "stdout",
     "output_type": "stream",
     "text": [
      "Loaded checkpoint 'checkpoints/base_speakers/EN/checkpoint.pth'\n",
      "missing/unexpected keys: [] []\n",
      "Loaded checkpoint 'checkpoints/converter/checkpoint.pth'\n",
      "missing/unexpected keys: [] []\n",
      "OpenVoice version: v1\n",
      "[(0.174, 10.6453125)]\n",
      "after vad: dur = 10.471\n",
      " > Text splitted to sentences.\n",
      "Hi, how are you.\n",
      " > ===========================\n",
      "haɪ, haʊ əɹ ju.\n",
      " length:15\n",
      " length:15\n",
      "Audio too short, fail to add watermark\n",
      "Cloned Voice Generated!\n"
     ]
    },
    {
     "name": "stderr",
     "output_type": "stream",
     "text": [
      "/opt/anaconda3/envs/openvoice/lib/python3.9/site-packages/torch/nn/utils/weight_norm.py:28: UserWarning: torch.nn.utils.weight_norm is deprecated in favor of torch.nn.utils.parametrizations.weight_norm.\n",
      "  warnings.warn(\"torch.nn.utils.weight_norm is deprecated in favor of torch.nn.utils.parametrizations.weight_norm.\")\n"
     ]
    },
    {
     "name": "stdout",
     "output_type": "stream",
     "text": [
      "Loaded checkpoint 'checkpoints/base_speakers/EN/checkpoint.pth'\n",
      "missing/unexpected keys: [] []\n",
      "Loaded checkpoint 'checkpoints/converter/checkpoint.pth'\n",
      "missing/unexpected keys: [] []\n",
      "OpenVoice version: v1\n",
      "[(0.174, 10.6453125)]\n",
      "after vad: dur = 10.471\n",
      " > Text splitted to sentences.\n",
      "Hi, how are you.\n",
      " > ===========================\n",
      "haɪ, haʊ əɹ ju.\n",
      " length:15\n",
      " length:15\n",
      "Audio too short, fail to add watermark\n",
      "Cloned Voice Generated!\n"
     ]
    },
    {
     "name": "stderr",
     "output_type": "stream",
     "text": [
      "/opt/anaconda3/envs/openvoice/lib/python3.9/site-packages/torch/nn/utils/weight_norm.py:28: UserWarning: torch.nn.utils.weight_norm is deprecated in favor of torch.nn.utils.parametrizations.weight_norm.\n",
      "  warnings.warn(\"torch.nn.utils.weight_norm is deprecated in favor of torch.nn.utils.parametrizations.weight_norm.\")\n"
     ]
    },
    {
     "name": "stdout",
     "output_type": "stream",
     "text": [
      "Loaded checkpoint 'checkpoints/base_speakers/EN/checkpoint.pth'\n",
      "missing/unexpected keys: [] []\n",
      "Loaded checkpoint 'checkpoints/converter/checkpoint.pth'\n",
      "missing/unexpected keys: [] []\n",
      "OpenVoice version: v1\n",
      "[(0.174, 10.6453125)]\n",
      "after vad: dur = 10.471\n",
      " > Text splitted to sentences.\n",
      "Hi, how are you.\n",
      " > ===========================\n",
      "haɪ, haʊ əɹ ju.\n",
      " length:15\n",
      " length:15\n",
      "Audio too short, fail to add watermark\n",
      "Cloned Voice Generated!\n"
     ]
    },
    {
     "name": "stderr",
     "output_type": "stream",
     "text": [
      "/opt/anaconda3/envs/openvoice/lib/python3.9/site-packages/torch/nn/utils/weight_norm.py:28: UserWarning: torch.nn.utils.weight_norm is deprecated in favor of torch.nn.utils.parametrizations.weight_norm.\n",
      "  warnings.warn(\"torch.nn.utils.weight_norm is deprecated in favor of torch.nn.utils.parametrizations.weight_norm.\")\n"
     ]
    },
    {
     "name": "stdout",
     "output_type": "stream",
     "text": [
      "Loaded checkpoint 'checkpoints/base_speakers/EN/checkpoint.pth'\n",
      "missing/unexpected keys: [] []\n",
      "Loaded checkpoint 'checkpoints/converter/checkpoint.pth'\n",
      "missing/unexpected keys: [] []\n",
      "OpenVoice version: v1\n",
      "[(0.174, 10.6453125)]\n",
      "after vad: dur = 10.471\n",
      " > Text splitted to sentences.\n",
      "Hi, how are you.\n",
      " > ===========================\n",
      "haɪ, haʊ əɹ ju.\n",
      " length:15\n",
      " length:15\n",
      "Audio too short, fail to add watermark\n",
      "Cloned Voice Generated!\n"
     ]
    },
    {
     "name": "stderr",
     "output_type": "stream",
     "text": [
      "/opt/anaconda3/envs/openvoice/lib/python3.9/site-packages/torch/nn/utils/weight_norm.py:28: UserWarning: torch.nn.utils.weight_norm is deprecated in favor of torch.nn.utils.parametrizations.weight_norm.\n",
      "  warnings.warn(\"torch.nn.utils.weight_norm is deprecated in favor of torch.nn.utils.parametrizations.weight_norm.\")\n"
     ]
    },
    {
     "name": "stdout",
     "output_type": "stream",
     "text": [
      "Loaded checkpoint 'checkpoints/base_speakers/EN/checkpoint.pth'\n",
      "missing/unexpected keys: [] []\n",
      "Loaded checkpoint 'checkpoints/converter/checkpoint.pth'\n",
      "missing/unexpected keys: [] []\n",
      "OpenVoice version: v1\n",
      "[(0.0, 13.696)]\n",
      "after vad: dur = 13.696\n",
      " > Text splitted to sentences.\n",
      "Hi, how are you.\n",
      " > ===========================\n",
      "haɪ, haʊ əɹ ju.\n",
      " length:15\n",
      " length:15\n",
      "Audio too short, fail to add watermark\n",
      "Cloned Voice Generated!\n"
     ]
    },
    {
     "name": "stderr",
     "output_type": "stream",
     "text": [
      "/opt/anaconda3/envs/openvoice/lib/python3.9/site-packages/torch/nn/utils/weight_norm.py:28: UserWarning: torch.nn.utils.weight_norm is deprecated in favor of torch.nn.utils.parametrizations.weight_norm.\n",
      "  warnings.warn(\"torch.nn.utils.weight_norm is deprecated in favor of torch.nn.utils.parametrizations.weight_norm.\")\n"
     ]
    },
    {
     "name": "stdout",
     "output_type": "stream",
     "text": [
      "Loaded checkpoint 'checkpoints/base_speakers/EN/checkpoint.pth'\n",
      "missing/unexpected keys: [] []\n",
      "Loaded checkpoint 'checkpoints/converter/checkpoint.pth'\n",
      "missing/unexpected keys: [] []\n",
      "OpenVoice version: v1\n",
      "[(0.0, 13.696)]\n",
      "after vad: dur = 13.696\n",
      " > Text splitted to sentences.\n",
      "Hi, how are you.\n",
      " > ===========================\n",
      "haɪ, haʊ əɹ ju.\n",
      " length:15\n",
      " length:15\n",
      "Audio too short, fail to add watermark\n",
      "Cloned Voice Generated!\n"
     ]
    },
    {
     "name": "stderr",
     "output_type": "stream",
     "text": [
      "/opt/anaconda3/envs/openvoice/lib/python3.9/site-packages/torch/nn/utils/weight_norm.py:28: UserWarning: torch.nn.utils.weight_norm is deprecated in favor of torch.nn.utils.parametrizations.weight_norm.\n",
      "  warnings.warn(\"torch.nn.utils.weight_norm is deprecated in favor of torch.nn.utils.parametrizations.weight_norm.\")\n"
     ]
    },
    {
     "name": "stdout",
     "output_type": "stream",
     "text": [
      "Loaded checkpoint 'checkpoints/base_speakers/EN/checkpoint.pth'\n",
      "missing/unexpected keys: [] []\n",
      "Loaded checkpoint 'checkpoints/converter/checkpoint.pth'\n",
      "missing/unexpected keys: [] []\n",
      "OpenVoice version: v1\n",
      "[(0.0, 13.696)]\n",
      "after vad: dur = 13.696\n",
      " > Text splitted to sentences.\n",
      "Hi, how are you.\n",
      " > ===========================\n",
      "haɪ, haʊ əɹ ju.\n",
      " length:15\n",
      " length:15\n",
      "Audio too short, fail to add watermark\n",
      "Cloned Voice Generated!\n"
     ]
    },
    {
     "name": "stderr",
     "output_type": "stream",
     "text": [
      "/opt/anaconda3/envs/openvoice/lib/python3.9/site-packages/torch/nn/utils/weight_norm.py:28: UserWarning: torch.nn.utils.weight_norm is deprecated in favor of torch.nn.utils.parametrizations.weight_norm.\n",
      "  warnings.warn(\"torch.nn.utils.weight_norm is deprecated in favor of torch.nn.utils.parametrizations.weight_norm.\")\n"
     ]
    },
    {
     "name": "stdout",
     "output_type": "stream",
     "text": [
      "Loaded checkpoint 'checkpoints/base_speakers/EN/checkpoint.pth'\n",
      "missing/unexpected keys: [] []\n",
      "Loaded checkpoint 'checkpoints/converter/checkpoint.pth'\n",
      "missing/unexpected keys: [] []\n",
      "OpenVoice version: v1\n",
      "[(0.0, 13.696)]\n",
      "after vad: dur = 13.696\n",
      " > Text splitted to sentences.\n",
      "Hi, how are you.\n",
      " > ===========================\n",
      "haɪ, haʊ əɹ ju.\n",
      " length:15\n",
      " length:15\n",
      "Audio too short, fail to add watermark\n",
      "Cloned Voice Generated!\n"
     ]
    },
    {
     "name": "stderr",
     "output_type": "stream",
     "text": [
      "/opt/anaconda3/envs/openvoice/lib/python3.9/site-packages/torch/nn/utils/weight_norm.py:28: UserWarning: torch.nn.utils.weight_norm is deprecated in favor of torch.nn.utils.parametrizations.weight_norm.\n",
      "  warnings.warn(\"torch.nn.utils.weight_norm is deprecated in favor of torch.nn.utils.parametrizations.weight_norm.\")\n"
     ]
    },
    {
     "name": "stdout",
     "output_type": "stream",
     "text": [
      "Loaded checkpoint 'checkpoints/base_speakers/EN/checkpoint.pth'\n",
      "missing/unexpected keys: [] []\n",
      "Loaded checkpoint 'checkpoints/converter/checkpoint.pth'\n",
      "missing/unexpected keys: [] []\n",
      "OpenVoice version: v1\n",
      "[(0.0, 13.696)]\n",
      "after vad: dur = 13.696\n",
      " > Text splitted to sentences.\n",
      "Hi, how are you.\n",
      " > ===========================\n",
      "haɪ, haʊ əɹ ju.\n",
      " length:15\n",
      " length:15\n",
      "Audio too short, fail to add watermark\n",
      "Cloned Voice Generated!\n"
     ]
    },
    {
     "name": "stderr",
     "output_type": "stream",
     "text": [
      "/opt/anaconda3/envs/openvoice/lib/python3.9/site-packages/torch/nn/utils/weight_norm.py:28: UserWarning: torch.nn.utils.weight_norm is deprecated in favor of torch.nn.utils.parametrizations.weight_norm.\n",
      "  warnings.warn(\"torch.nn.utils.weight_norm is deprecated in favor of torch.nn.utils.parametrizations.weight_norm.\")\n"
     ]
    },
    {
     "name": "stdout",
     "output_type": "stream",
     "text": [
      "Loaded checkpoint 'checkpoints/base_speakers/EN/checkpoint.pth'\n",
      "missing/unexpected keys: [] []\n",
      "Loaded checkpoint 'checkpoints/converter/checkpoint.pth'\n",
      "missing/unexpected keys: [] []\n",
      "OpenVoice version: v1\n",
      "[(0.0, 18.5173125)]\n",
      "after vad: dur = 18.517\n",
      " > Text splitted to sentences.\n",
      "Hi, how are you.\n",
      " > ===========================\n",
      "haɪ, haʊ əɹ ju.\n",
      " length:15\n",
      " length:15\n",
      "Audio too short, fail to add watermark\n",
      "Cloned Voice Generated!\n"
     ]
    },
    {
     "name": "stderr",
     "output_type": "stream",
     "text": [
      "/opt/anaconda3/envs/openvoice/lib/python3.9/site-packages/torch/nn/utils/weight_norm.py:28: UserWarning: torch.nn.utils.weight_norm is deprecated in favor of torch.nn.utils.parametrizations.weight_norm.\n",
      "  warnings.warn(\"torch.nn.utils.weight_norm is deprecated in favor of torch.nn.utils.parametrizations.weight_norm.\")\n"
     ]
    },
    {
     "name": "stdout",
     "output_type": "stream",
     "text": [
      "Loaded checkpoint 'checkpoints/base_speakers/EN/checkpoint.pth'\n",
      "missing/unexpected keys: [] []\n",
      "Loaded checkpoint 'checkpoints/converter/checkpoint.pth'\n",
      "missing/unexpected keys: [] []\n",
      "OpenVoice version: v1\n",
      "[(0.0, 18.5173125)]\n",
      "after vad: dur = 18.517\n",
      " > Text splitted to sentences.\n",
      "Hi, how are you.\n",
      " > ===========================\n",
      "haɪ, haʊ əɹ ju.\n",
      " length:15\n",
      " length:15\n",
      "Audio too short, fail to add watermark\n",
      "Cloned Voice Generated!\n"
     ]
    },
    {
     "name": "stderr",
     "output_type": "stream",
     "text": [
      "/opt/anaconda3/envs/openvoice/lib/python3.9/site-packages/torch/nn/utils/weight_norm.py:28: UserWarning: torch.nn.utils.weight_norm is deprecated in favor of torch.nn.utils.parametrizations.weight_norm.\n",
      "  warnings.warn(\"torch.nn.utils.weight_norm is deprecated in favor of torch.nn.utils.parametrizations.weight_norm.\")\n"
     ]
    },
    {
     "name": "stdout",
     "output_type": "stream",
     "text": [
      "Loaded checkpoint 'checkpoints/base_speakers/EN/checkpoint.pth'\n",
      "missing/unexpected keys: [] []\n",
      "Loaded checkpoint 'checkpoints/converter/checkpoint.pth'\n",
      "missing/unexpected keys: [] []\n",
      "OpenVoice version: v1\n",
      "[(0.0, 18.5173125)]\n",
      "after vad: dur = 18.517\n",
      " > Text splitted to sentences.\n",
      "Hi, how are you.\n",
      " > ===========================\n",
      "haɪ, haʊ əɹ ju.\n",
      " length:15\n",
      " length:15\n",
      "Audio too short, fail to add watermark\n",
      "Cloned Voice Generated!\n"
     ]
    },
    {
     "name": "stderr",
     "output_type": "stream",
     "text": [
      "/opt/anaconda3/envs/openvoice/lib/python3.9/site-packages/torch/nn/utils/weight_norm.py:28: UserWarning: torch.nn.utils.weight_norm is deprecated in favor of torch.nn.utils.parametrizations.weight_norm.\n",
      "  warnings.warn(\"torch.nn.utils.weight_norm is deprecated in favor of torch.nn.utils.parametrizations.weight_norm.\")\n"
     ]
    },
    {
     "name": "stdout",
     "output_type": "stream",
     "text": [
      "Loaded checkpoint 'checkpoints/base_speakers/EN/checkpoint.pth'\n",
      "missing/unexpected keys: [] []\n",
      "Loaded checkpoint 'checkpoints/converter/checkpoint.pth'\n",
      "missing/unexpected keys: [] []\n",
      "OpenVoice version: v1\n",
      "[(0.0, 18.5173125)]\n",
      "after vad: dur = 18.517\n",
      " > Text splitted to sentences.\n",
      "Hi, how are you.\n",
      " > ===========================\n",
      "haɪ, haʊ əɹ ju.\n",
      " length:15\n",
      " length:15\n",
      "Audio too short, fail to add watermark\n",
      "Cloned Voice Generated!\n"
     ]
    },
    {
     "name": "stderr",
     "output_type": "stream",
     "text": [
      "/opt/anaconda3/envs/openvoice/lib/python3.9/site-packages/torch/nn/utils/weight_norm.py:28: UserWarning: torch.nn.utils.weight_norm is deprecated in favor of torch.nn.utils.parametrizations.weight_norm.\n",
      "  warnings.warn(\"torch.nn.utils.weight_norm is deprecated in favor of torch.nn.utils.parametrizations.weight_norm.\")\n"
     ]
    },
    {
     "name": "stdout",
     "output_type": "stream",
     "text": [
      "Loaded checkpoint 'checkpoints/base_speakers/EN/checkpoint.pth'\n",
      "missing/unexpected keys: [] []\n",
      "Loaded checkpoint 'checkpoints/converter/checkpoint.pth'\n",
      "missing/unexpected keys: [] []\n",
      "OpenVoice version: v1\n",
      "[(0.0, 18.5173125)]\n",
      "after vad: dur = 18.517\n",
      " > Text splitted to sentences.\n",
      "Hi, how are you.\n",
      " > ===========================\n",
      "haɪ, haʊ əɹ ju.\n",
      " length:15\n",
      " length:15\n",
      "Audio too short, fail to add watermark\n",
      "Cloned Voice Generated!\n"
     ]
    },
    {
     "name": "stderr",
     "output_type": "stream",
     "text": [
      "/opt/anaconda3/envs/openvoice/lib/python3.9/site-packages/torch/nn/utils/weight_norm.py:28: UserWarning: torch.nn.utils.weight_norm is deprecated in favor of torch.nn.utils.parametrizations.weight_norm.\n",
      "  warnings.warn(\"torch.nn.utils.weight_norm is deprecated in favor of torch.nn.utils.parametrizations.weight_norm.\")\n"
     ]
    },
    {
     "name": "stdout",
     "output_type": "stream",
     "text": [
      "Loaded checkpoint 'checkpoints/base_speakers/EN/checkpoint.pth'\n",
      "missing/unexpected keys: [] []\n",
      "Loaded checkpoint 'checkpoints/converter/checkpoint.pth'\n",
      "missing/unexpected keys: [] []\n",
      "OpenVoice version: v1\n",
      "[(0.0, 21.1626875)]\n",
      "after vad: dur = 21.162\n",
      " > Text splitted to sentences.\n",
      "Hi, how are you.\n",
      " > ===========================\n",
      "haɪ, haʊ əɹ ju.\n",
      " length:15\n",
      " length:15\n",
      "Audio too short, fail to add watermark\n",
      "Cloned Voice Generated!\n"
     ]
    },
    {
     "name": "stderr",
     "output_type": "stream",
     "text": [
      "/opt/anaconda3/envs/openvoice/lib/python3.9/site-packages/torch/nn/utils/weight_norm.py:28: UserWarning: torch.nn.utils.weight_norm is deprecated in favor of torch.nn.utils.parametrizations.weight_norm.\n",
      "  warnings.warn(\"torch.nn.utils.weight_norm is deprecated in favor of torch.nn.utils.parametrizations.weight_norm.\")\n"
     ]
    },
    {
     "name": "stdout",
     "output_type": "stream",
     "text": [
      "Loaded checkpoint 'checkpoints/base_speakers/EN/checkpoint.pth'\n",
      "missing/unexpected keys: [] []\n",
      "Loaded checkpoint 'checkpoints/converter/checkpoint.pth'\n",
      "missing/unexpected keys: [] []\n",
      "OpenVoice version: v1\n",
      "[(0.0, 21.1626875)]\n",
      "after vad: dur = 21.162\n",
      " > Text splitted to sentences.\n",
      "Hi, how are you.\n",
      " > ===========================\n",
      "haɪ, haʊ əɹ ju.\n",
      " length:15\n",
      " length:15\n",
      "Audio too short, fail to add watermark\n",
      "Cloned Voice Generated!\n"
     ]
    },
    {
     "name": "stderr",
     "output_type": "stream",
     "text": [
      "/opt/anaconda3/envs/openvoice/lib/python3.9/site-packages/torch/nn/utils/weight_norm.py:28: UserWarning: torch.nn.utils.weight_norm is deprecated in favor of torch.nn.utils.parametrizations.weight_norm.\n",
      "  warnings.warn(\"torch.nn.utils.weight_norm is deprecated in favor of torch.nn.utils.parametrizations.weight_norm.\")\n"
     ]
    },
    {
     "name": "stdout",
     "output_type": "stream",
     "text": [
      "Loaded checkpoint 'checkpoints/base_speakers/EN/checkpoint.pth'\n",
      "missing/unexpected keys: [] []\n",
      "Loaded checkpoint 'checkpoints/converter/checkpoint.pth'\n",
      "missing/unexpected keys: [] []\n",
      "OpenVoice version: v1\n",
      "[(0.0, 21.1626875)]\n",
      "after vad: dur = 21.162\n",
      " > Text splitted to sentences.\n",
      "Hi, how are you.\n",
      " > ===========================\n",
      "haɪ, haʊ əɹ ju.\n",
      " length:15\n",
      " length:15\n",
      "Audio too short, fail to add watermark\n",
      "Cloned Voice Generated!\n"
     ]
    },
    {
     "name": "stderr",
     "output_type": "stream",
     "text": [
      "/opt/anaconda3/envs/openvoice/lib/python3.9/site-packages/torch/nn/utils/weight_norm.py:28: UserWarning: torch.nn.utils.weight_norm is deprecated in favor of torch.nn.utils.parametrizations.weight_norm.\n",
      "  warnings.warn(\"torch.nn.utils.weight_norm is deprecated in favor of torch.nn.utils.parametrizations.weight_norm.\")\n"
     ]
    },
    {
     "name": "stdout",
     "output_type": "stream",
     "text": [
      "Loaded checkpoint 'checkpoints/base_speakers/EN/checkpoint.pth'\n",
      "missing/unexpected keys: [] []\n",
      "Loaded checkpoint 'checkpoints/converter/checkpoint.pth'\n",
      "missing/unexpected keys: [] []\n",
      "OpenVoice version: v1\n",
      "[(0.0, 21.1626875)]\n",
      "after vad: dur = 21.162\n",
      " > Text splitted to sentences.\n",
      "Hi, how are you.\n",
      " > ===========================\n",
      "haɪ, haʊ əɹ ju.\n",
      " length:15\n",
      " length:15\n",
      "Audio too short, fail to add watermark\n",
      "Cloned Voice Generated!\n"
     ]
    },
    {
     "name": "stderr",
     "output_type": "stream",
     "text": [
      "/opt/anaconda3/envs/openvoice/lib/python3.9/site-packages/torch/nn/utils/weight_norm.py:28: UserWarning: torch.nn.utils.weight_norm is deprecated in favor of torch.nn.utils.parametrizations.weight_norm.\n",
      "  warnings.warn(\"torch.nn.utils.weight_norm is deprecated in favor of torch.nn.utils.parametrizations.weight_norm.\")\n"
     ]
    },
    {
     "name": "stdout",
     "output_type": "stream",
     "text": [
      "Loaded checkpoint 'checkpoints/base_speakers/EN/checkpoint.pth'\n",
      "missing/unexpected keys: [] []\n",
      "Loaded checkpoint 'checkpoints/converter/checkpoint.pth'\n",
      "missing/unexpected keys: [] []\n",
      "OpenVoice version: v1\n",
      "[(0.0, 21.1626875)]\n",
      "after vad: dur = 21.162\n",
      " > Text splitted to sentences.\n",
      "Hi, how are you.\n",
      " > ===========================\n",
      "haɪ, haʊ əɹ ju.\n",
      " length:15\n",
      " length:15\n",
      "Audio too short, fail to add watermark\n",
      "Cloned Voice Generated!\n"
     ]
    },
    {
     "name": "stderr",
     "output_type": "stream",
     "text": [
      "/opt/anaconda3/envs/openvoice/lib/python3.9/site-packages/torch/nn/utils/weight_norm.py:28: UserWarning: torch.nn.utils.weight_norm is deprecated in favor of torch.nn.utils.parametrizations.weight_norm.\n",
      "  warnings.warn(\"torch.nn.utils.weight_norm is deprecated in favor of torch.nn.utils.parametrizations.weight_norm.\")\n"
     ]
    },
    {
     "name": "stdout",
     "output_type": "stream",
     "text": [
      "Loaded checkpoint 'checkpoints/base_speakers/EN/checkpoint.pth'\n",
      "missing/unexpected keys: [] []\n",
      "Loaded checkpoint 'checkpoints/converter/checkpoint.pth'\n",
      "missing/unexpected keys: [] []\n",
      "OpenVoice version: v1\n",
      "[(0.0, 33.6213125)]\n",
      "after vad: dur = 33.621\n",
      " > Text splitted to sentences.\n",
      "Hi, how are you.\n",
      " > ===========================\n",
      "haɪ, haʊ əɹ ju.\n",
      " length:15\n",
      " length:15\n",
      "Audio too short, fail to add watermark\n",
      "Cloned Voice Generated!\n"
     ]
    },
    {
     "name": "stderr",
     "output_type": "stream",
     "text": [
      "/opt/anaconda3/envs/openvoice/lib/python3.9/site-packages/torch/nn/utils/weight_norm.py:28: UserWarning: torch.nn.utils.weight_norm is deprecated in favor of torch.nn.utils.parametrizations.weight_norm.\n",
      "  warnings.warn(\"torch.nn.utils.weight_norm is deprecated in favor of torch.nn.utils.parametrizations.weight_norm.\")\n"
     ]
    },
    {
     "name": "stdout",
     "output_type": "stream",
     "text": [
      "Loaded checkpoint 'checkpoints/base_speakers/EN/checkpoint.pth'\n",
      "missing/unexpected keys: [] []\n",
      "Loaded checkpoint 'checkpoints/converter/checkpoint.pth'\n",
      "missing/unexpected keys: [] []\n",
      "OpenVoice version: v1\n",
      "[(0.0, 33.6213125)]\n",
      "after vad: dur = 33.621\n",
      " > Text splitted to sentences.\n",
      "Hi, how are you.\n",
      " > ===========================\n",
      "haɪ, haʊ əɹ ju.\n",
      " length:15\n",
      " length:15\n",
      "Audio too short, fail to add watermark\n",
      "Cloned Voice Generated!\n"
     ]
    },
    {
     "name": "stderr",
     "output_type": "stream",
     "text": [
      "/opt/anaconda3/envs/openvoice/lib/python3.9/site-packages/torch/nn/utils/weight_norm.py:28: UserWarning: torch.nn.utils.weight_norm is deprecated in favor of torch.nn.utils.parametrizations.weight_norm.\n",
      "  warnings.warn(\"torch.nn.utils.weight_norm is deprecated in favor of torch.nn.utils.parametrizations.weight_norm.\")\n"
     ]
    },
    {
     "name": "stdout",
     "output_type": "stream",
     "text": [
      "Loaded checkpoint 'checkpoints/base_speakers/EN/checkpoint.pth'\n",
      "missing/unexpected keys: [] []\n",
      "Loaded checkpoint 'checkpoints/converter/checkpoint.pth'\n",
      "missing/unexpected keys: [] []\n",
      "OpenVoice version: v1\n",
      "[(0.0, 33.6213125)]\n",
      "after vad: dur = 33.621\n",
      " > Text splitted to sentences.\n",
      "Hi, how are you.\n",
      " > ===========================\n",
      "haɪ, haʊ əɹ ju.\n",
      " length:15\n",
      " length:15\n",
      "Audio too short, fail to add watermark\n",
      "Cloned Voice Generated!\n"
     ]
    },
    {
     "name": "stderr",
     "output_type": "stream",
     "text": [
      "/opt/anaconda3/envs/openvoice/lib/python3.9/site-packages/torch/nn/utils/weight_norm.py:28: UserWarning: torch.nn.utils.weight_norm is deprecated in favor of torch.nn.utils.parametrizations.weight_norm.\n",
      "  warnings.warn(\"torch.nn.utils.weight_norm is deprecated in favor of torch.nn.utils.parametrizations.weight_norm.\")\n"
     ]
    },
    {
     "name": "stdout",
     "output_type": "stream",
     "text": [
      "Loaded checkpoint 'checkpoints/base_speakers/EN/checkpoint.pth'\n",
      "missing/unexpected keys: [] []\n",
      "Loaded checkpoint 'checkpoints/converter/checkpoint.pth'\n",
      "missing/unexpected keys: [] []\n",
      "OpenVoice version: v1\n",
      "[(0.0, 33.6213125)]\n",
      "after vad: dur = 33.621\n",
      " > Text splitted to sentences.\n",
      "Hi, how are you.\n",
      " > ===========================\n",
      "haɪ, haʊ əɹ ju.\n",
      " length:15\n",
      " length:15\n",
      "Audio too short, fail to add watermark\n",
      "Cloned Voice Generated!\n"
     ]
    },
    {
     "name": "stderr",
     "output_type": "stream",
     "text": [
      "/opt/anaconda3/envs/openvoice/lib/python3.9/site-packages/torch/nn/utils/weight_norm.py:28: UserWarning: torch.nn.utils.weight_norm is deprecated in favor of torch.nn.utils.parametrizations.weight_norm.\n",
      "  warnings.warn(\"torch.nn.utils.weight_norm is deprecated in favor of torch.nn.utils.parametrizations.weight_norm.\")\n"
     ]
    },
    {
     "name": "stdout",
     "output_type": "stream",
     "text": [
      "Loaded checkpoint 'checkpoints/base_speakers/EN/checkpoint.pth'\n",
      "missing/unexpected keys: [] []\n",
      "Loaded checkpoint 'checkpoints/converter/checkpoint.pth'\n",
      "missing/unexpected keys: [] []\n",
      "OpenVoice version: v1\n",
      "[(0.0, 33.6213125)]\n",
      "after vad: dur = 33.621\n",
      " > Text splitted to sentences.\n",
      "Hi, how are you.\n",
      " > ===========================\n",
      "haɪ, haʊ əɹ ju.\n",
      " length:15\n",
      " length:15\n",
      "Audio too short, fail to add watermark\n",
      "Cloned Voice Generated!\n"
     ]
    },
    {
     "name": "stderr",
     "output_type": "stream",
     "text": [
      "/opt/anaconda3/envs/openvoice/lib/python3.9/site-packages/torch/nn/utils/weight_norm.py:28: UserWarning: torch.nn.utils.weight_norm is deprecated in favor of torch.nn.utils.parametrizations.weight_norm.\n",
      "  warnings.warn(\"torch.nn.utils.weight_norm is deprecated in favor of torch.nn.utils.parametrizations.weight_norm.\")\n"
     ]
    },
    {
     "name": "stdout",
     "output_type": "stream",
     "text": [
      "Loaded checkpoint 'checkpoints/base_speakers/EN/checkpoint.pth'\n",
      "missing/unexpected keys: [] []\n",
      "Loaded checkpoint 'checkpoints/converter/checkpoint.pth'\n",
      "missing/unexpected keys: [] []\n",
      "OpenVoice version: v1\n",
      "[(0.0, 117.8666875)]\n",
      "after vad: dur = 117.866\n",
      " > Text splitted to sentences.\n",
      "Hi, how are you.\n",
      " > ===========================\n",
      "haɪ, haʊ əɹ ju.\n",
      " length:15\n",
      " length:15\n",
      "Audio too short, fail to add watermark\n",
      "Cloned Voice Generated!\n"
     ]
    },
    {
     "name": "stderr",
     "output_type": "stream",
     "text": [
      "/opt/anaconda3/envs/openvoice/lib/python3.9/site-packages/torch/nn/utils/weight_norm.py:28: UserWarning: torch.nn.utils.weight_norm is deprecated in favor of torch.nn.utils.parametrizations.weight_norm.\n",
      "  warnings.warn(\"torch.nn.utils.weight_norm is deprecated in favor of torch.nn.utils.parametrizations.weight_norm.\")\n"
     ]
    },
    {
     "name": "stdout",
     "output_type": "stream",
     "text": [
      "Loaded checkpoint 'checkpoints/base_speakers/EN/checkpoint.pth'\n",
      "missing/unexpected keys: [] []\n",
      "Loaded checkpoint 'checkpoints/converter/checkpoint.pth'\n",
      "missing/unexpected keys: [] []\n",
      "OpenVoice version: v1\n",
      "[(0.0, 117.8666875)]\n",
      "after vad: dur = 117.866\n",
      " > Text splitted to sentences.\n",
      "Hi, how are you.\n",
      " > ===========================\n",
      "haɪ, haʊ əɹ ju.\n",
      " length:15\n",
      " length:15\n",
      "Audio too short, fail to add watermark\n",
      "Cloned Voice Generated!\n"
     ]
    },
    {
     "name": "stderr",
     "output_type": "stream",
     "text": [
      "/opt/anaconda3/envs/openvoice/lib/python3.9/site-packages/torch/nn/utils/weight_norm.py:28: UserWarning: torch.nn.utils.weight_norm is deprecated in favor of torch.nn.utils.parametrizations.weight_norm.\n",
      "  warnings.warn(\"torch.nn.utils.weight_norm is deprecated in favor of torch.nn.utils.parametrizations.weight_norm.\")\n"
     ]
    },
    {
     "name": "stdout",
     "output_type": "stream",
     "text": [
      "Loaded checkpoint 'checkpoints/base_speakers/EN/checkpoint.pth'\n",
      "missing/unexpected keys: [] []\n",
      "Loaded checkpoint 'checkpoints/converter/checkpoint.pth'\n",
      "missing/unexpected keys: [] []\n",
      "OpenVoice version: v1\n",
      "[(0.0, 117.8666875)]\n",
      "after vad: dur = 117.866\n",
      " > Text splitted to sentences.\n",
      "Hi, how are you.\n",
      " > ===========================\n",
      "haɪ, haʊ əɹ ju.\n",
      " length:15\n",
      " length:15\n",
      "Audio too short, fail to add watermark\n",
      "Cloned Voice Generated!\n"
     ]
    },
    {
     "name": "stderr",
     "output_type": "stream",
     "text": [
      "/opt/anaconda3/envs/openvoice/lib/python3.9/site-packages/torch/nn/utils/weight_norm.py:28: UserWarning: torch.nn.utils.weight_norm is deprecated in favor of torch.nn.utils.parametrizations.weight_norm.\n",
      "  warnings.warn(\"torch.nn.utils.weight_norm is deprecated in favor of torch.nn.utils.parametrizations.weight_norm.\")\n"
     ]
    },
    {
     "name": "stdout",
     "output_type": "stream",
     "text": [
      "Loaded checkpoint 'checkpoints/base_speakers/EN/checkpoint.pth'\n",
      "missing/unexpected keys: [] []\n",
      "Loaded checkpoint 'checkpoints/converter/checkpoint.pth'\n",
      "missing/unexpected keys: [] []\n",
      "OpenVoice version: v1\n",
      "[(0.0, 117.8666875)]\n",
      "after vad: dur = 117.866\n",
      " > Text splitted to sentences.\n",
      "Hi, how are you.\n",
      " > ===========================\n",
      "haɪ, haʊ əɹ ju.\n",
      " length:15\n",
      " length:15\n",
      "Audio too short, fail to add watermark\n",
      "Cloned Voice Generated!\n"
     ]
    },
    {
     "name": "stderr",
     "output_type": "stream",
     "text": [
      "/opt/anaconda3/envs/openvoice/lib/python3.9/site-packages/torch/nn/utils/weight_norm.py:28: UserWarning: torch.nn.utils.weight_norm is deprecated in favor of torch.nn.utils.parametrizations.weight_norm.\n",
      "  warnings.warn(\"torch.nn.utils.weight_norm is deprecated in favor of torch.nn.utils.parametrizations.weight_norm.\")\n"
     ]
    },
    {
     "name": "stdout",
     "output_type": "stream",
     "text": [
      "Loaded checkpoint 'checkpoints/base_speakers/EN/checkpoint.pth'\n",
      "missing/unexpected keys: [] []\n",
      "Loaded checkpoint 'checkpoints/converter/checkpoint.pth'\n",
      "missing/unexpected keys: [] []\n",
      "OpenVoice version: v1\n",
      "[(0.0, 117.8666875)]\n",
      "after vad: dur = 117.866\n",
      " > Text splitted to sentences.\n",
      "Hi, how are you.\n",
      " > ===========================\n",
      "haɪ, haʊ əɹ ju.\n",
      " length:15\n",
      " length:15\n",
      "Audio too short, fail to add watermark\n",
      "Cloned Voice Generated!\n",
      "[2.290204334259033, 2.388361024856567, 2.5433801651000976, 2.5984148025512694, 2.831219959259033, 4.256496858596802]\n"
     ]
    },
    {
     "name": "stderr",
     "output_type": "stream",
     "text": [
      "/opt/anaconda3/envs/openvoice/lib/python3.9/site-packages/torch/nn/utils/weight_norm.py:28: UserWarning: torch.nn.utils.weight_norm is deprecated in favor of torch.nn.utils.parametrizations.weight_norm.\n",
      "  warnings.warn(\"torch.nn.utils.weight_norm is deprecated in favor of torch.nn.utils.parametrizations.weight_norm.\")\n"
     ]
    },
    {
     "name": "stdout",
     "output_type": "stream",
     "text": [
      "Loaded checkpoint 'checkpoints/base_speakers/EN/checkpoint.pth'\n",
      "missing/unexpected keys: [] []\n",
      "Loaded checkpoint 'checkpoints/converter/checkpoint.pth'\n",
      "missing/unexpected keys: [] []\n",
      "OpenVoice version: v1\n",
      "[(0.0, 9.152)]\n",
      "after vad: dur = 9.152\n",
      " > Text splitted to sentences.\n",
      "Hi, how are you.\n",
      " > ===========================\n",
      "haɪ, haʊ əɹ ju.\n",
      " length:15\n",
      " length:15\n",
      "Audio too short, fail to add watermark\n",
      "Cloned Voice Generated!\n"
     ]
    },
    {
     "name": "stderr",
     "output_type": "stream",
     "text": [
      "/opt/anaconda3/envs/openvoice/lib/python3.9/site-packages/torch/nn/utils/weight_norm.py:28: UserWarning: torch.nn.utils.weight_norm is deprecated in favor of torch.nn.utils.parametrizations.weight_norm.\n",
      "  warnings.warn(\"torch.nn.utils.weight_norm is deprecated in favor of torch.nn.utils.parametrizations.weight_norm.\")\n"
     ]
    },
    {
     "name": "stdout",
     "output_type": "stream",
     "text": [
      "Loaded checkpoint 'checkpoints/base_speakers/EN/checkpoint.pth'\n",
      "missing/unexpected keys: [] []\n",
      "Loaded checkpoint 'checkpoints/converter/checkpoint.pth'\n",
      "missing/unexpected keys: [] []\n",
      "OpenVoice version: v1\n",
      "[(0.0, 9.152)]\n",
      "after vad: dur = 9.152\n",
      " > Text splitted to sentences.\n",
      "Hi, how are you.\n",
      " > ===========================\n",
      "haɪ, haʊ əɹ ju.\n",
      " length:15\n",
      " length:15\n",
      "Audio too short, fail to add watermark\n",
      "Cloned Voice Generated!\n"
     ]
    },
    {
     "name": "stderr",
     "output_type": "stream",
     "text": [
      "/opt/anaconda3/envs/openvoice/lib/python3.9/site-packages/torch/nn/utils/weight_norm.py:28: UserWarning: torch.nn.utils.weight_norm is deprecated in favor of torch.nn.utils.parametrizations.weight_norm.\n",
      "  warnings.warn(\"torch.nn.utils.weight_norm is deprecated in favor of torch.nn.utils.parametrizations.weight_norm.\")\n"
     ]
    },
    {
     "name": "stdout",
     "output_type": "stream",
     "text": [
      "Loaded checkpoint 'checkpoints/base_speakers/EN/checkpoint.pth'\n",
      "missing/unexpected keys: [] []\n",
      "Loaded checkpoint 'checkpoints/converter/checkpoint.pth'\n",
      "missing/unexpected keys: [] []\n",
      "OpenVoice version: v1\n",
      "[(0.0, 9.152)]\n",
      "after vad: dur = 9.152\n",
      " > Text splitted to sentences.\n",
      "Hi, how are you.\n",
      " > ===========================\n",
      "haɪ, haʊ əɹ ju.\n",
      " length:15\n",
      " length:15\n",
      "Audio too short, fail to add watermark\n",
      "Cloned Voice Generated!\n"
     ]
    },
    {
     "name": "stderr",
     "output_type": "stream",
     "text": [
      "/opt/anaconda3/envs/openvoice/lib/python3.9/site-packages/torch/nn/utils/weight_norm.py:28: UserWarning: torch.nn.utils.weight_norm is deprecated in favor of torch.nn.utils.parametrizations.weight_norm.\n",
      "  warnings.warn(\"torch.nn.utils.weight_norm is deprecated in favor of torch.nn.utils.parametrizations.weight_norm.\")\n"
     ]
    },
    {
     "name": "stdout",
     "output_type": "stream",
     "text": [
      "Loaded checkpoint 'checkpoints/base_speakers/EN/checkpoint.pth'\n",
      "missing/unexpected keys: [] []\n",
      "Loaded checkpoint 'checkpoints/converter/checkpoint.pth'\n",
      "missing/unexpected keys: [] []\n",
      "OpenVoice version: v1\n",
      "[(0.0, 9.152)]\n",
      "after vad: dur = 9.152\n",
      " > Text splitted to sentences.\n",
      "Hi, how are you.\n",
      " > ===========================\n",
      "haɪ, haʊ əɹ ju.\n",
      " length:15\n",
      " length:15\n",
      "Audio too short, fail to add watermark\n",
      "Cloned Voice Generated!\n"
     ]
    },
    {
     "name": "stderr",
     "output_type": "stream",
     "text": [
      "/opt/anaconda3/envs/openvoice/lib/python3.9/site-packages/torch/nn/utils/weight_norm.py:28: UserWarning: torch.nn.utils.weight_norm is deprecated in favor of torch.nn.utils.parametrizations.weight_norm.\n",
      "  warnings.warn(\"torch.nn.utils.weight_norm is deprecated in favor of torch.nn.utils.parametrizations.weight_norm.\")\n"
     ]
    },
    {
     "name": "stdout",
     "output_type": "stream",
     "text": [
      "Loaded checkpoint 'checkpoints/base_speakers/EN/checkpoint.pth'\n",
      "missing/unexpected keys: [] []\n",
      "Loaded checkpoint 'checkpoints/converter/checkpoint.pth'\n",
      "missing/unexpected keys: [] []\n",
      "OpenVoice version: v1\n",
      "[(0.0, 9.152)]\n",
      "after vad: dur = 9.152\n",
      " > Text splitted to sentences.\n",
      "Hi, how are you.\n",
      " > ===========================\n",
      "haɪ, haʊ əɹ ju.\n",
      " length:15\n",
      " length:15\n",
      "Audio too short, fail to add watermark\n",
      "Cloned Voice Generated!\n"
     ]
    },
    {
     "name": "stderr",
     "output_type": "stream",
     "text": [
      "/opt/anaconda3/envs/openvoice/lib/python3.9/site-packages/torch/nn/utils/weight_norm.py:28: UserWarning: torch.nn.utils.weight_norm is deprecated in favor of torch.nn.utils.parametrizations.weight_norm.\n",
      "  warnings.warn(\"torch.nn.utils.weight_norm is deprecated in favor of torch.nn.utils.parametrizations.weight_norm.\")\n"
     ]
    },
    {
     "name": "stdout",
     "output_type": "stream",
     "text": [
      "Loaded checkpoint 'checkpoints/base_speakers/EN/checkpoint.pth'\n",
      "missing/unexpected keys: [] []\n",
      "Loaded checkpoint 'checkpoints/converter/checkpoint.pth'\n",
      "missing/unexpected keys: [] []\n",
      "OpenVoice version: v1\n",
      "[(0.206, 15.0613125)]\n",
      "after vad: dur = 14.855\n",
      " > Text splitted to sentences.\n",
      "Hi, how are you.\n",
      " > ===========================\n",
      "haɪ, haʊ əɹ ju.\n",
      " length:15\n",
      " length:15\n",
      "Audio too short, fail to add watermark\n",
      "Cloned Voice Generated!\n"
     ]
    },
    {
     "name": "stderr",
     "output_type": "stream",
     "text": [
      "/opt/anaconda3/envs/openvoice/lib/python3.9/site-packages/torch/nn/utils/weight_norm.py:28: UserWarning: torch.nn.utils.weight_norm is deprecated in favor of torch.nn.utils.parametrizations.weight_norm.\n",
      "  warnings.warn(\"torch.nn.utils.weight_norm is deprecated in favor of torch.nn.utils.parametrizations.weight_norm.\")\n"
     ]
    },
    {
     "name": "stdout",
     "output_type": "stream",
     "text": [
      "Loaded checkpoint 'checkpoints/base_speakers/EN/checkpoint.pth'\n",
      "missing/unexpected keys: [] []\n",
      "Loaded checkpoint 'checkpoints/converter/checkpoint.pth'\n",
      "missing/unexpected keys: [] []\n",
      "OpenVoice version: v1\n",
      "[(0.206, 15.0613125)]\n",
      "after vad: dur = 14.855\n",
      " > Text splitted to sentences.\n",
      "Hi, how are you.\n",
      " > ===========================\n",
      "haɪ, haʊ əɹ ju.\n",
      " length:15\n",
      " length:15\n",
      "Audio too short, fail to add watermark\n",
      "Cloned Voice Generated!\n"
     ]
    },
    {
     "name": "stderr",
     "output_type": "stream",
     "text": [
      "/opt/anaconda3/envs/openvoice/lib/python3.9/site-packages/torch/nn/utils/weight_norm.py:28: UserWarning: torch.nn.utils.weight_norm is deprecated in favor of torch.nn.utils.parametrizations.weight_norm.\n",
      "  warnings.warn(\"torch.nn.utils.weight_norm is deprecated in favor of torch.nn.utils.parametrizations.weight_norm.\")\n"
     ]
    },
    {
     "name": "stdout",
     "output_type": "stream",
     "text": [
      "Loaded checkpoint 'checkpoints/base_speakers/EN/checkpoint.pth'\n",
      "missing/unexpected keys: [] []\n",
      "Loaded checkpoint 'checkpoints/converter/checkpoint.pth'\n",
      "missing/unexpected keys: [] []\n",
      "OpenVoice version: v1\n",
      "[(0.206, 15.0613125)]\n",
      "after vad: dur = 14.855\n",
      " > Text splitted to sentences.\n",
      "Hi, how are you.\n",
      " > ===========================\n",
      "haɪ, haʊ əɹ ju.\n",
      " length:15\n",
      " length:15\n",
      "Audio too short, fail to add watermark\n",
      "Cloned Voice Generated!\n"
     ]
    },
    {
     "name": "stderr",
     "output_type": "stream",
     "text": [
      "/opt/anaconda3/envs/openvoice/lib/python3.9/site-packages/torch/nn/utils/weight_norm.py:28: UserWarning: torch.nn.utils.weight_norm is deprecated in favor of torch.nn.utils.parametrizations.weight_norm.\n",
      "  warnings.warn(\"torch.nn.utils.weight_norm is deprecated in favor of torch.nn.utils.parametrizations.weight_norm.\")\n"
     ]
    },
    {
     "name": "stdout",
     "output_type": "stream",
     "text": [
      "Loaded checkpoint 'checkpoints/base_speakers/EN/checkpoint.pth'\n",
      "missing/unexpected keys: [] []\n",
      "Loaded checkpoint 'checkpoints/converter/checkpoint.pth'\n",
      "missing/unexpected keys: [] []\n",
      "OpenVoice version: v1\n",
      "[(0.206, 15.0613125)]\n",
      "after vad: dur = 14.855\n",
      " > Text splitted to sentences.\n",
      "Hi, how are you.\n",
      " > ===========================\n",
      "haɪ, haʊ əɹ ju.\n",
      " length:15\n",
      " length:15\n",
      "Audio too short, fail to add watermark\n",
      "Cloned Voice Generated!\n"
     ]
    },
    {
     "name": "stderr",
     "output_type": "stream",
     "text": [
      "/opt/anaconda3/envs/openvoice/lib/python3.9/site-packages/torch/nn/utils/weight_norm.py:28: UserWarning: torch.nn.utils.weight_norm is deprecated in favor of torch.nn.utils.parametrizations.weight_norm.\n",
      "  warnings.warn(\"torch.nn.utils.weight_norm is deprecated in favor of torch.nn.utils.parametrizations.weight_norm.\")\n"
     ]
    },
    {
     "name": "stdout",
     "output_type": "stream",
     "text": [
      "Loaded checkpoint 'checkpoints/base_speakers/EN/checkpoint.pth'\n",
      "missing/unexpected keys: [] []\n",
      "Loaded checkpoint 'checkpoints/converter/checkpoint.pth'\n",
      "missing/unexpected keys: [] []\n",
      "OpenVoice version: v1\n",
      "[(0.206, 15.0613125)]\n",
      "after vad: dur = 14.855\n",
      " > Text splitted to sentences.\n",
      "Hi, how are you.\n",
      " > ===========================\n",
      "haɪ, haʊ əɹ ju.\n",
      " length:15\n",
      " length:15\n",
      "Audio too short, fail to add watermark\n",
      "Cloned Voice Generated!\n"
     ]
    },
    {
     "name": "stderr",
     "output_type": "stream",
     "text": [
      "/opt/anaconda3/envs/openvoice/lib/python3.9/site-packages/torch/nn/utils/weight_norm.py:28: UserWarning: torch.nn.utils.weight_norm is deprecated in favor of torch.nn.utils.parametrizations.weight_norm.\n",
      "  warnings.warn(\"torch.nn.utils.weight_norm is deprecated in favor of torch.nn.utils.parametrizations.weight_norm.\")\n"
     ]
    },
    {
     "name": "stdout",
     "output_type": "stream",
     "text": [
      "Loaded checkpoint 'checkpoints/base_speakers/EN/checkpoint.pth'\n",
      "missing/unexpected keys: [] []\n",
      "Loaded checkpoint 'checkpoints/converter/checkpoint.pth'\n",
      "missing/unexpected keys: [] []\n",
      "OpenVoice version: v1\n",
      "[(0.0, 19.8613125)]\n",
      "after vad: dur = 19.861\n",
      " > Text splitted to sentences.\n",
      "Hi, how are you.\n",
      " > ===========================\n",
      "haɪ, haʊ əɹ ju.\n",
      " length:15\n",
      " length:15\n",
      "Audio too short, fail to add watermark\n",
      "Cloned Voice Generated!\n"
     ]
    },
    {
     "name": "stderr",
     "output_type": "stream",
     "text": [
      "/opt/anaconda3/envs/openvoice/lib/python3.9/site-packages/torch/nn/utils/weight_norm.py:28: UserWarning: torch.nn.utils.weight_norm is deprecated in favor of torch.nn.utils.parametrizations.weight_norm.\n",
      "  warnings.warn(\"torch.nn.utils.weight_norm is deprecated in favor of torch.nn.utils.parametrizations.weight_norm.\")\n"
     ]
    },
    {
     "name": "stdout",
     "output_type": "stream",
     "text": [
      "Loaded checkpoint 'checkpoints/base_speakers/EN/checkpoint.pth'\n",
      "missing/unexpected keys: [] []\n",
      "Loaded checkpoint 'checkpoints/converter/checkpoint.pth'\n",
      "missing/unexpected keys: [] []\n",
      "OpenVoice version: v1\n",
      "[(0.0, 19.8613125)]\n",
      "after vad: dur = 19.861\n",
      " > Text splitted to sentences.\n",
      "Hi, how are you.\n",
      " > ===========================\n",
      "haɪ, haʊ əɹ ju.\n",
      " length:15\n",
      " length:15\n",
      "Audio too short, fail to add watermark\n",
      "Cloned Voice Generated!\n"
     ]
    },
    {
     "name": "stderr",
     "output_type": "stream",
     "text": [
      "/opt/anaconda3/envs/openvoice/lib/python3.9/site-packages/torch/nn/utils/weight_norm.py:28: UserWarning: torch.nn.utils.weight_norm is deprecated in favor of torch.nn.utils.parametrizations.weight_norm.\n",
      "  warnings.warn(\"torch.nn.utils.weight_norm is deprecated in favor of torch.nn.utils.parametrizations.weight_norm.\")\n"
     ]
    },
    {
     "name": "stdout",
     "output_type": "stream",
     "text": [
      "Loaded checkpoint 'checkpoints/base_speakers/EN/checkpoint.pth'\n",
      "missing/unexpected keys: [] []\n",
      "Loaded checkpoint 'checkpoints/converter/checkpoint.pth'\n",
      "missing/unexpected keys: [] []\n",
      "OpenVoice version: v1\n",
      "[(0.0, 19.8613125)]\n",
      "after vad: dur = 19.861\n",
      " > Text splitted to sentences.\n",
      "Hi, how are you.\n",
      " > ===========================\n",
      "haɪ, haʊ əɹ ju.\n",
      " length:15\n",
      " length:15\n",
      "Audio too short, fail to add watermark\n",
      "Cloned Voice Generated!\n"
     ]
    },
    {
     "name": "stderr",
     "output_type": "stream",
     "text": [
      "/opt/anaconda3/envs/openvoice/lib/python3.9/site-packages/torch/nn/utils/weight_norm.py:28: UserWarning: torch.nn.utils.weight_norm is deprecated in favor of torch.nn.utils.parametrizations.weight_norm.\n",
      "  warnings.warn(\"torch.nn.utils.weight_norm is deprecated in favor of torch.nn.utils.parametrizations.weight_norm.\")\n"
     ]
    },
    {
     "name": "stdout",
     "output_type": "stream",
     "text": [
      "Loaded checkpoint 'checkpoints/base_speakers/EN/checkpoint.pth'\n",
      "missing/unexpected keys: [] []\n",
      "Loaded checkpoint 'checkpoints/converter/checkpoint.pth'\n",
      "missing/unexpected keys: [] []\n",
      "OpenVoice version: v1\n",
      "[(0.0, 19.8613125)]\n",
      "after vad: dur = 19.861\n",
      " > Text splitted to sentences.\n",
      "Hi, how are you.\n",
      " > ===========================\n",
      "haɪ, haʊ əɹ ju.\n",
      " length:15\n",
      " length:15\n",
      "Audio too short, fail to add watermark\n",
      "Cloned Voice Generated!\n"
     ]
    },
    {
     "name": "stderr",
     "output_type": "stream",
     "text": [
      "/opt/anaconda3/envs/openvoice/lib/python3.9/site-packages/torch/nn/utils/weight_norm.py:28: UserWarning: torch.nn.utils.weight_norm is deprecated in favor of torch.nn.utils.parametrizations.weight_norm.\n",
      "  warnings.warn(\"torch.nn.utils.weight_norm is deprecated in favor of torch.nn.utils.parametrizations.weight_norm.\")\n"
     ]
    },
    {
     "name": "stdout",
     "output_type": "stream",
     "text": [
      "Loaded checkpoint 'checkpoints/base_speakers/EN/checkpoint.pth'\n",
      "missing/unexpected keys: [] []\n",
      "Loaded checkpoint 'checkpoints/converter/checkpoint.pth'\n",
      "missing/unexpected keys: [] []\n",
      "OpenVoice version: v1\n",
      "[(0.0, 19.8613125)]\n",
      "after vad: dur = 19.861\n",
      " > Text splitted to sentences.\n",
      "Hi, how are you.\n",
      " > ===========================\n",
      "haɪ, haʊ əɹ ju.\n",
      " length:15\n",
      " length:15\n",
      "Audio too short, fail to add watermark\n",
      "Cloned Voice Generated!\n"
     ]
    },
    {
     "name": "stderr",
     "output_type": "stream",
     "text": [
      "/opt/anaconda3/envs/openvoice/lib/python3.9/site-packages/torch/nn/utils/weight_norm.py:28: UserWarning: torch.nn.utils.weight_norm is deprecated in favor of torch.nn.utils.parametrizations.weight_norm.\n",
      "  warnings.warn(\"torch.nn.utils.weight_norm is deprecated in favor of torch.nn.utils.parametrizations.weight_norm.\")\n"
     ]
    },
    {
     "name": "stdout",
     "output_type": "stream",
     "text": [
      "Loaded checkpoint 'checkpoints/base_speakers/EN/checkpoint.pth'\n",
      "missing/unexpected keys: [] []\n",
      "Loaded checkpoint 'checkpoints/converter/checkpoint.pth'\n",
      "missing/unexpected keys: [] []\n",
      "OpenVoice version: v1\n",
      "[(0.238, 22.9546875)]\n",
      "after vad: dur = 22.716\n",
      " > Text splitted to sentences.\n",
      "Hi, how are you.\n",
      " > ===========================\n",
      "haɪ, haʊ əɹ ju.\n",
      " length:15\n",
      " length:15\n",
      "Audio too short, fail to add watermark\n",
      "Cloned Voice Generated!\n"
     ]
    },
    {
     "name": "stderr",
     "output_type": "stream",
     "text": [
      "/opt/anaconda3/envs/openvoice/lib/python3.9/site-packages/torch/nn/utils/weight_norm.py:28: UserWarning: torch.nn.utils.weight_norm is deprecated in favor of torch.nn.utils.parametrizations.weight_norm.\n",
      "  warnings.warn(\"torch.nn.utils.weight_norm is deprecated in favor of torch.nn.utils.parametrizations.weight_norm.\")\n"
     ]
    },
    {
     "name": "stdout",
     "output_type": "stream",
     "text": [
      "Loaded checkpoint 'checkpoints/base_speakers/EN/checkpoint.pth'\n",
      "missing/unexpected keys: [] []\n",
      "Loaded checkpoint 'checkpoints/converter/checkpoint.pth'\n",
      "missing/unexpected keys: [] []\n",
      "OpenVoice version: v1\n",
      "[(0.238, 22.9546875)]\n",
      "after vad: dur = 22.716\n",
      " > Text splitted to sentences.\n",
      "Hi, how are you.\n",
      " > ===========================\n",
      "haɪ, haʊ əɹ ju.\n",
      " length:15\n",
      " length:15\n",
      "Audio too short, fail to add watermark\n",
      "Cloned Voice Generated!\n"
     ]
    },
    {
     "name": "stderr",
     "output_type": "stream",
     "text": [
      "/opt/anaconda3/envs/openvoice/lib/python3.9/site-packages/torch/nn/utils/weight_norm.py:28: UserWarning: torch.nn.utils.weight_norm is deprecated in favor of torch.nn.utils.parametrizations.weight_norm.\n",
      "  warnings.warn(\"torch.nn.utils.weight_norm is deprecated in favor of torch.nn.utils.parametrizations.weight_norm.\")\n"
     ]
    },
    {
     "name": "stdout",
     "output_type": "stream",
     "text": [
      "Loaded checkpoint 'checkpoints/base_speakers/EN/checkpoint.pth'\n",
      "missing/unexpected keys: [] []\n",
      "Loaded checkpoint 'checkpoints/converter/checkpoint.pth'\n",
      "missing/unexpected keys: [] []\n",
      "OpenVoice version: v1\n",
      "[(0.238, 22.9546875)]\n",
      "after vad: dur = 22.716\n",
      " > Text splitted to sentences.\n",
      "Hi, how are you.\n",
      " > ===========================\n",
      "haɪ, haʊ əɹ ju.\n",
      " length:15\n",
      " length:15\n",
      "Audio too short, fail to add watermark\n",
      "Cloned Voice Generated!\n"
     ]
    },
    {
     "name": "stderr",
     "output_type": "stream",
     "text": [
      "/opt/anaconda3/envs/openvoice/lib/python3.9/site-packages/torch/nn/utils/weight_norm.py:28: UserWarning: torch.nn.utils.weight_norm is deprecated in favor of torch.nn.utils.parametrizations.weight_norm.\n",
      "  warnings.warn(\"torch.nn.utils.weight_norm is deprecated in favor of torch.nn.utils.parametrizations.weight_norm.\")\n"
     ]
    },
    {
     "name": "stdout",
     "output_type": "stream",
     "text": [
      "Loaded checkpoint 'checkpoints/base_speakers/EN/checkpoint.pth'\n",
      "missing/unexpected keys: [] []\n",
      "Loaded checkpoint 'checkpoints/converter/checkpoint.pth'\n",
      "missing/unexpected keys: [] []\n",
      "OpenVoice version: v1\n",
      "[(0.238, 22.9546875)]\n",
      "after vad: dur = 22.716\n",
      " > Text splitted to sentences.\n",
      "Hi, how are you.\n",
      " > ===========================\n",
      "haɪ, haʊ əɹ ju.\n",
      " length:15\n",
      " length:15\n",
      "Audio too short, fail to add watermark\n",
      "Cloned Voice Generated!\n"
     ]
    },
    {
     "name": "stderr",
     "output_type": "stream",
     "text": [
      "/opt/anaconda3/envs/openvoice/lib/python3.9/site-packages/torch/nn/utils/weight_norm.py:28: UserWarning: torch.nn.utils.weight_norm is deprecated in favor of torch.nn.utils.parametrizations.weight_norm.\n",
      "  warnings.warn(\"torch.nn.utils.weight_norm is deprecated in favor of torch.nn.utils.parametrizations.weight_norm.\")\n"
     ]
    },
    {
     "name": "stdout",
     "output_type": "stream",
     "text": [
      "Loaded checkpoint 'checkpoints/base_speakers/EN/checkpoint.pth'\n",
      "missing/unexpected keys: [] []\n",
      "Loaded checkpoint 'checkpoints/converter/checkpoint.pth'\n",
      "missing/unexpected keys: [] []\n",
      "OpenVoice version: v1\n",
      "[(0.238, 22.9546875)]\n",
      "after vad: dur = 22.716\n",
      " > Text splitted to sentences.\n",
      "Hi, how are you.\n",
      " > ===========================\n",
      "haɪ, haʊ əɹ ju.\n",
      " length:15\n",
      " length:15\n",
      "Audio too short, fail to add watermark\n",
      "Cloned Voice Generated!\n"
     ]
    },
    {
     "name": "stderr",
     "output_type": "stream",
     "text": [
      "/opt/anaconda3/envs/openvoice/lib/python3.9/site-packages/torch/nn/utils/weight_norm.py:28: UserWarning: torch.nn.utils.weight_norm is deprecated in favor of torch.nn.utils.parametrizations.weight_norm.\n",
      "  warnings.warn(\"torch.nn.utils.weight_norm is deprecated in favor of torch.nn.utils.parametrizations.weight_norm.\")\n"
     ]
    },
    {
     "name": "stdout",
     "output_type": "stream",
     "text": [
      "Loaded checkpoint 'checkpoints/base_speakers/EN/checkpoint.pth'\n",
      "missing/unexpected keys: [] []\n",
      "Loaded checkpoint 'checkpoints/converter/checkpoint.pth'\n",
      "missing/unexpected keys: [] []\n",
      "OpenVoice version: v1\n",
      "[(0.078, 34.304)]\n",
      "after vad: dur = 34.226\n",
      " > Text splitted to sentences.\n",
      "Hi, how are you.\n",
      " > ===========================\n",
      "haɪ, haʊ əɹ ju.\n",
      " length:15\n",
      " length:15\n",
      "Audio too short, fail to add watermark\n",
      "Cloned Voice Generated!\n"
     ]
    },
    {
     "name": "stderr",
     "output_type": "stream",
     "text": [
      "/opt/anaconda3/envs/openvoice/lib/python3.9/site-packages/torch/nn/utils/weight_norm.py:28: UserWarning: torch.nn.utils.weight_norm is deprecated in favor of torch.nn.utils.parametrizations.weight_norm.\n",
      "  warnings.warn(\"torch.nn.utils.weight_norm is deprecated in favor of torch.nn.utils.parametrizations.weight_norm.\")\n"
     ]
    },
    {
     "name": "stdout",
     "output_type": "stream",
     "text": [
      "Loaded checkpoint 'checkpoints/base_speakers/EN/checkpoint.pth'\n",
      "missing/unexpected keys: [] []\n",
      "Loaded checkpoint 'checkpoints/converter/checkpoint.pth'\n",
      "missing/unexpected keys: [] []\n",
      "OpenVoice version: v1\n",
      "[(0.078, 34.304)]\n",
      "after vad: dur = 34.226\n",
      " > Text splitted to sentences.\n",
      "Hi, how are you.\n",
      " > ===========================\n",
      "haɪ, haʊ əɹ ju.\n",
      " length:15\n",
      " length:15\n",
      "Audio too short, fail to add watermark\n",
      "Cloned Voice Generated!\n"
     ]
    },
    {
     "name": "stderr",
     "output_type": "stream",
     "text": [
      "/opt/anaconda3/envs/openvoice/lib/python3.9/site-packages/torch/nn/utils/weight_norm.py:28: UserWarning: torch.nn.utils.weight_norm is deprecated in favor of torch.nn.utils.parametrizations.weight_norm.\n",
      "  warnings.warn(\"torch.nn.utils.weight_norm is deprecated in favor of torch.nn.utils.parametrizations.weight_norm.\")\n"
     ]
    },
    {
     "name": "stdout",
     "output_type": "stream",
     "text": [
      "Loaded checkpoint 'checkpoints/base_speakers/EN/checkpoint.pth'\n",
      "missing/unexpected keys: [] []\n",
      "Loaded checkpoint 'checkpoints/converter/checkpoint.pth'\n",
      "missing/unexpected keys: [] []\n",
      "OpenVoice version: v1\n",
      "[(0.078, 34.304)]\n",
      "after vad: dur = 34.226\n",
      " > Text splitted to sentences.\n",
      "Hi, how are you.\n",
      " > ===========================\n",
      "haɪ, haʊ əɹ ju.\n",
      " length:15\n",
      " length:15\n",
      "Audio too short, fail to add watermark\n",
      "Cloned Voice Generated!\n"
     ]
    },
    {
     "name": "stderr",
     "output_type": "stream",
     "text": [
      "/opt/anaconda3/envs/openvoice/lib/python3.9/site-packages/torch/nn/utils/weight_norm.py:28: UserWarning: torch.nn.utils.weight_norm is deprecated in favor of torch.nn.utils.parametrizations.weight_norm.\n",
      "  warnings.warn(\"torch.nn.utils.weight_norm is deprecated in favor of torch.nn.utils.parametrizations.weight_norm.\")\n"
     ]
    },
    {
     "name": "stdout",
     "output_type": "stream",
     "text": [
      "Loaded checkpoint 'checkpoints/base_speakers/EN/checkpoint.pth'\n",
      "missing/unexpected keys: [] []\n",
      "Loaded checkpoint 'checkpoints/converter/checkpoint.pth'\n",
      "missing/unexpected keys: [] []\n",
      "OpenVoice version: v1\n",
      "[(0.078, 34.304)]\n",
      "after vad: dur = 34.226\n",
      " > Text splitted to sentences.\n",
      "Hi, how are you.\n",
      " > ===========================\n",
      "haɪ, haʊ əɹ ju.\n",
      " length:15\n",
      " length:15\n",
      "Audio too short, fail to add watermark\n",
      "Cloned Voice Generated!\n"
     ]
    },
    {
     "name": "stderr",
     "output_type": "stream",
     "text": [
      "/opt/anaconda3/envs/openvoice/lib/python3.9/site-packages/torch/nn/utils/weight_norm.py:28: UserWarning: torch.nn.utils.weight_norm is deprecated in favor of torch.nn.utils.parametrizations.weight_norm.\n",
      "  warnings.warn(\"torch.nn.utils.weight_norm is deprecated in favor of torch.nn.utils.parametrizations.weight_norm.\")\n"
     ]
    },
    {
     "name": "stdout",
     "output_type": "stream",
     "text": [
      "Loaded checkpoint 'checkpoints/base_speakers/EN/checkpoint.pth'\n",
      "missing/unexpected keys: [] []\n",
      "Loaded checkpoint 'checkpoints/converter/checkpoint.pth'\n",
      "missing/unexpected keys: [] []\n",
      "OpenVoice version: v1\n",
      "[(0.078, 34.304)]\n",
      "after vad: dur = 34.226\n",
      " > Text splitted to sentences.\n",
      "Hi, how are you.\n",
      " > ===========================\n",
      "haɪ, haʊ əɹ ju.\n",
      " length:15\n",
      " length:15\n",
      "Audio too short, fail to add watermark\n",
      "Cloned Voice Generated!\n"
     ]
    },
    {
     "name": "stderr",
     "output_type": "stream",
     "text": [
      "/opt/anaconda3/envs/openvoice/lib/python3.9/site-packages/torch/nn/utils/weight_norm.py:28: UserWarning: torch.nn.utils.weight_norm is deprecated in favor of torch.nn.utils.parametrizations.weight_norm.\n",
      "  warnings.warn(\"torch.nn.utils.weight_norm is deprecated in favor of torch.nn.utils.parametrizations.weight_norm.\")\n"
     ]
    },
    {
     "name": "stdout",
     "output_type": "stream",
     "text": [
      "Loaded checkpoint 'checkpoints/base_speakers/EN/checkpoint.pth'\n",
      "missing/unexpected keys: [] []\n",
      "Loaded checkpoint 'checkpoints/converter/checkpoint.pth'\n",
      "missing/unexpected keys: [] []\n",
      "OpenVoice version: v1\n",
      "[(0.0, 62.674), (62.798, 104.384)]\n",
      "after vad: dur = 104.26\n",
      " > Text splitted to sentences.\n",
      "Hi, how are you.\n",
      " > ===========================\n",
      "haɪ, haʊ əɹ ju.\n",
      " length:15\n",
      " length:15\n",
      "Audio too short, fail to add watermark\n",
      "Cloned Voice Generated!\n"
     ]
    },
    {
     "name": "stderr",
     "output_type": "stream",
     "text": [
      "/opt/anaconda3/envs/openvoice/lib/python3.9/site-packages/torch/nn/utils/weight_norm.py:28: UserWarning: torch.nn.utils.weight_norm is deprecated in favor of torch.nn.utils.parametrizations.weight_norm.\n",
      "  warnings.warn(\"torch.nn.utils.weight_norm is deprecated in favor of torch.nn.utils.parametrizations.weight_norm.\")\n"
     ]
    },
    {
     "name": "stdout",
     "output_type": "stream",
     "text": [
      "Loaded checkpoint 'checkpoints/base_speakers/EN/checkpoint.pth'\n",
      "missing/unexpected keys: [] []\n",
      "Loaded checkpoint 'checkpoints/converter/checkpoint.pth'\n",
      "missing/unexpected keys: [] []\n",
      "OpenVoice version: v1\n",
      "[(0.0, 62.674), (62.798, 104.384)]\n",
      "after vad: dur = 104.26\n",
      " > Text splitted to sentences.\n",
      "Hi, how are you.\n",
      " > ===========================\n",
      "haɪ, haʊ əɹ ju.\n",
      " length:15\n",
      " length:15\n",
      "Audio too short, fail to add watermark\n",
      "Cloned Voice Generated!\n"
     ]
    },
    {
     "name": "stderr",
     "output_type": "stream",
     "text": [
      "/opt/anaconda3/envs/openvoice/lib/python3.9/site-packages/torch/nn/utils/weight_norm.py:28: UserWarning: torch.nn.utils.weight_norm is deprecated in favor of torch.nn.utils.parametrizations.weight_norm.\n",
      "  warnings.warn(\"torch.nn.utils.weight_norm is deprecated in favor of torch.nn.utils.parametrizations.weight_norm.\")\n"
     ]
    },
    {
     "name": "stdout",
     "output_type": "stream",
     "text": [
      "Loaded checkpoint 'checkpoints/base_speakers/EN/checkpoint.pth'\n",
      "missing/unexpected keys: [] []\n",
      "Loaded checkpoint 'checkpoints/converter/checkpoint.pth'\n",
      "missing/unexpected keys: [] []\n",
      "OpenVoice version: v1\n",
      "[(0.0, 62.674), (62.798, 104.384)]\n",
      "after vad: dur = 104.26\n",
      " > Text splitted to sentences.\n",
      "Hi, how are you.\n",
      " > ===========================\n",
      "haɪ, haʊ əɹ ju.\n",
      " length:15\n",
      " length:15\n",
      "Audio too short, fail to add watermark\n",
      "Cloned Voice Generated!\n"
     ]
    },
    {
     "name": "stderr",
     "output_type": "stream",
     "text": [
      "/opt/anaconda3/envs/openvoice/lib/python3.9/site-packages/torch/nn/utils/weight_norm.py:28: UserWarning: torch.nn.utils.weight_norm is deprecated in favor of torch.nn.utils.parametrizations.weight_norm.\n",
      "  warnings.warn(\"torch.nn.utils.weight_norm is deprecated in favor of torch.nn.utils.parametrizations.weight_norm.\")\n"
     ]
    },
    {
     "name": "stdout",
     "output_type": "stream",
     "text": [
      "Loaded checkpoint 'checkpoints/base_speakers/EN/checkpoint.pth'\n",
      "missing/unexpected keys: [] []\n",
      "Loaded checkpoint 'checkpoints/converter/checkpoint.pth'\n",
      "missing/unexpected keys: [] []\n",
      "OpenVoice version: v1\n",
      "[(0.0, 62.674), (62.798, 104.384)]\n",
      "after vad: dur = 104.26\n",
      " > Text splitted to sentences.\n",
      "Hi, how are you.\n",
      " > ===========================\n",
      "haɪ, haʊ əɹ ju.\n",
      " length:15\n",
      " length:15\n",
      "Audio too short, fail to add watermark\n",
      "Cloned Voice Generated!\n"
     ]
    },
    {
     "name": "stderr",
     "output_type": "stream",
     "text": [
      "/opt/anaconda3/envs/openvoice/lib/python3.9/site-packages/torch/nn/utils/weight_norm.py:28: UserWarning: torch.nn.utils.weight_norm is deprecated in favor of torch.nn.utils.parametrizations.weight_norm.\n",
      "  warnings.warn(\"torch.nn.utils.weight_norm is deprecated in favor of torch.nn.utils.parametrizations.weight_norm.\")\n"
     ]
    },
    {
     "name": "stdout",
     "output_type": "stream",
     "text": [
      "Loaded checkpoint 'checkpoints/base_speakers/EN/checkpoint.pth'\n",
      "missing/unexpected keys: [] []\n",
      "Loaded checkpoint 'checkpoints/converter/checkpoint.pth'\n",
      "missing/unexpected keys: [] []\n",
      "OpenVoice version: v1\n",
      "[(0.0, 62.674), (62.798, 104.384)]\n",
      "after vad: dur = 104.26\n",
      " > Text splitted to sentences.\n",
      "Hi, how are you.\n",
      " > ===========================\n",
      "haɪ, haʊ əɹ ju.\n",
      " length:15\n",
      " length:15\n",
      "Audio too short, fail to add watermark\n",
      "Cloned Voice Generated!\n",
      "[2.2870463371276855, 2.343854284286499, 2.4808897972106934, 2.601915740966797, 2.7555979251861573, 3.998919057846069]\n"
     ]
    },
    {
     "name": "stderr",
     "output_type": "stream",
     "text": [
      "/opt/anaconda3/envs/openvoice/lib/python3.9/site-packages/torch/nn/utils/weight_norm.py:28: UserWarning: torch.nn.utils.weight_norm is deprecated in favor of torch.nn.utils.parametrizations.weight_norm.\n",
      "  warnings.warn(\"torch.nn.utils.weight_norm is deprecated in favor of torch.nn.utils.parametrizations.weight_norm.\")\n"
     ]
    },
    {
     "name": "stdout",
     "output_type": "stream",
     "text": [
      "Loaded checkpoint 'checkpoints/base_speakers/EN/checkpoint.pth'\n",
      "missing/unexpected keys: [] []\n",
      "Loaded checkpoint 'checkpoints/converter/checkpoint.pth'\n",
      "missing/unexpected keys: [] []\n",
      "OpenVoice version: v1\n",
      "[(0.0, 10.0906875)]\n",
      "after vad: dur = 10.09\n",
      " > Text splitted to sentences.\n",
      "Hi, how are you.\n",
      " > ===========================\n",
      "haɪ, haʊ əɹ ju.\n",
      " length:15\n",
      " length:15\n",
      "Audio too short, fail to add watermark\n",
      "Cloned Voice Generated!\n"
     ]
    },
    {
     "name": "stderr",
     "output_type": "stream",
     "text": [
      "/opt/anaconda3/envs/openvoice/lib/python3.9/site-packages/torch/nn/utils/weight_norm.py:28: UserWarning: torch.nn.utils.weight_norm is deprecated in favor of torch.nn.utils.parametrizations.weight_norm.\n",
      "  warnings.warn(\"torch.nn.utils.weight_norm is deprecated in favor of torch.nn.utils.parametrizations.weight_norm.\")\n"
     ]
    },
    {
     "name": "stdout",
     "output_type": "stream",
     "text": [
      "Loaded checkpoint 'checkpoints/base_speakers/EN/checkpoint.pth'\n",
      "missing/unexpected keys: [] []\n",
      "Loaded checkpoint 'checkpoints/converter/checkpoint.pth'\n",
      "missing/unexpected keys: [] []\n",
      "OpenVoice version: v1\n",
      "[(0.0, 10.0906875)]\n",
      "after vad: dur = 10.09\n",
      " > Text splitted to sentences.\n",
      "Hi, how are you.\n",
      " > ===========================\n",
      "haɪ, haʊ əɹ ju.\n",
      " length:15\n",
      " length:15\n",
      "Audio too short, fail to add watermark\n",
      "Cloned Voice Generated!\n"
     ]
    },
    {
     "name": "stderr",
     "output_type": "stream",
     "text": [
      "/opt/anaconda3/envs/openvoice/lib/python3.9/site-packages/torch/nn/utils/weight_norm.py:28: UserWarning: torch.nn.utils.weight_norm is deprecated in favor of torch.nn.utils.parametrizations.weight_norm.\n",
      "  warnings.warn(\"torch.nn.utils.weight_norm is deprecated in favor of torch.nn.utils.parametrizations.weight_norm.\")\n"
     ]
    },
    {
     "name": "stdout",
     "output_type": "stream",
     "text": [
      "Loaded checkpoint 'checkpoints/base_speakers/EN/checkpoint.pth'\n",
      "missing/unexpected keys: [] []\n",
      "Loaded checkpoint 'checkpoints/converter/checkpoint.pth'\n",
      "missing/unexpected keys: [] []\n",
      "OpenVoice version: v1\n",
      "[(0.0, 10.0906875)]\n",
      "after vad: dur = 10.09\n",
      " > Text splitted to sentences.\n",
      "Hi, how are you.\n",
      " > ===========================\n",
      "haɪ, haʊ əɹ ju.\n",
      " length:15\n",
      " length:15\n",
      "Audio too short, fail to add watermark\n",
      "Cloned Voice Generated!\n"
     ]
    },
    {
     "name": "stderr",
     "output_type": "stream",
     "text": [
      "/opt/anaconda3/envs/openvoice/lib/python3.9/site-packages/torch/nn/utils/weight_norm.py:28: UserWarning: torch.nn.utils.weight_norm is deprecated in favor of torch.nn.utils.parametrizations.weight_norm.\n",
      "  warnings.warn(\"torch.nn.utils.weight_norm is deprecated in favor of torch.nn.utils.parametrizations.weight_norm.\")\n"
     ]
    },
    {
     "name": "stdout",
     "output_type": "stream",
     "text": [
      "Loaded checkpoint 'checkpoints/base_speakers/EN/checkpoint.pth'\n",
      "missing/unexpected keys: [] []\n",
      "Loaded checkpoint 'checkpoints/converter/checkpoint.pth'\n",
      "missing/unexpected keys: [] []\n",
      "OpenVoice version: v1\n",
      "[(0.0, 10.0906875)]\n",
      "after vad: dur = 10.09\n",
      " > Text splitted to sentences.\n",
      "Hi, how are you.\n",
      " > ===========================\n",
      "haɪ, haʊ əɹ ju.\n",
      " length:15\n",
      " length:15\n",
      "Audio too short, fail to add watermark\n",
      "Cloned Voice Generated!\n"
     ]
    },
    {
     "name": "stderr",
     "output_type": "stream",
     "text": [
      "/opt/anaconda3/envs/openvoice/lib/python3.9/site-packages/torch/nn/utils/weight_norm.py:28: UserWarning: torch.nn.utils.weight_norm is deprecated in favor of torch.nn.utils.parametrizations.weight_norm.\n",
      "  warnings.warn(\"torch.nn.utils.weight_norm is deprecated in favor of torch.nn.utils.parametrizations.weight_norm.\")\n"
     ]
    },
    {
     "name": "stdout",
     "output_type": "stream",
     "text": [
      "Loaded checkpoint 'checkpoints/base_speakers/EN/checkpoint.pth'\n",
      "missing/unexpected keys: [] []\n",
      "Loaded checkpoint 'checkpoints/converter/checkpoint.pth'\n",
      "missing/unexpected keys: [] []\n",
      "OpenVoice version: v1\n",
      "[(0.0, 10.0906875)]\n",
      "after vad: dur = 10.09\n",
      " > Text splitted to sentences.\n",
      "Hi, how are you.\n",
      " > ===========================\n",
      "haɪ, haʊ əɹ ju.\n",
      " length:15\n",
      " length:15\n",
      "Audio too short, fail to add watermark\n",
      "Cloned Voice Generated!\n"
     ]
    },
    {
     "name": "stderr",
     "output_type": "stream",
     "text": [
      "/opt/anaconda3/envs/openvoice/lib/python3.9/site-packages/torch/nn/utils/weight_norm.py:28: UserWarning: torch.nn.utils.weight_norm is deprecated in favor of torch.nn.utils.parametrizations.weight_norm.\n",
      "  warnings.warn(\"torch.nn.utils.weight_norm is deprecated in favor of torch.nn.utils.parametrizations.weight_norm.\")\n"
     ]
    },
    {
     "name": "stdout",
     "output_type": "stream",
     "text": [
      "Loaded checkpoint 'checkpoints/base_speakers/EN/checkpoint.pth'\n",
      "missing/unexpected keys: [] []\n",
      "Loaded checkpoint 'checkpoints/converter/checkpoint.pth'\n",
      "missing/unexpected keys: [] []\n",
      "OpenVoice version: v1\n",
      "[(0.0, 13.298)]\n",
      "after vad: dur = 13.298\n",
      " > Text splitted to sentences.\n",
      "Hi, how are you.\n",
      " > ===========================\n",
      "haɪ, haʊ əɹ ju.\n",
      " length:15\n",
      " length:15\n",
      "Audio too short, fail to add watermark\n",
      "Cloned Voice Generated!\n"
     ]
    },
    {
     "name": "stderr",
     "output_type": "stream",
     "text": [
      "/opt/anaconda3/envs/openvoice/lib/python3.9/site-packages/torch/nn/utils/weight_norm.py:28: UserWarning: torch.nn.utils.weight_norm is deprecated in favor of torch.nn.utils.parametrizations.weight_norm.\n",
      "  warnings.warn(\"torch.nn.utils.weight_norm is deprecated in favor of torch.nn.utils.parametrizations.weight_norm.\")\n"
     ]
    },
    {
     "name": "stdout",
     "output_type": "stream",
     "text": [
      "Loaded checkpoint 'checkpoints/base_speakers/EN/checkpoint.pth'\n",
      "missing/unexpected keys: [] []\n",
      "Loaded checkpoint 'checkpoints/converter/checkpoint.pth'\n",
      "missing/unexpected keys: [] []\n",
      "OpenVoice version: v1\n",
      "[(0.0, 13.298)]\n",
      "after vad: dur = 13.298\n",
      " > Text splitted to sentences.\n",
      "Hi, how are you.\n",
      " > ===========================\n",
      "haɪ, haʊ əɹ ju.\n",
      " length:15\n",
      " length:15\n",
      "Audio too short, fail to add watermark\n",
      "Cloned Voice Generated!\n"
     ]
    },
    {
     "name": "stderr",
     "output_type": "stream",
     "text": [
      "/opt/anaconda3/envs/openvoice/lib/python3.9/site-packages/torch/nn/utils/weight_norm.py:28: UserWarning: torch.nn.utils.weight_norm is deprecated in favor of torch.nn.utils.parametrizations.weight_norm.\n",
      "  warnings.warn(\"torch.nn.utils.weight_norm is deprecated in favor of torch.nn.utils.parametrizations.weight_norm.\")\n"
     ]
    },
    {
     "name": "stdout",
     "output_type": "stream",
     "text": [
      "Loaded checkpoint 'checkpoints/base_speakers/EN/checkpoint.pth'\n",
      "missing/unexpected keys: [] []\n",
      "Loaded checkpoint 'checkpoints/converter/checkpoint.pth'\n",
      "missing/unexpected keys: [] []\n",
      "OpenVoice version: v1\n",
      "[(0.0, 13.298)]\n",
      "after vad: dur = 13.298\n",
      " > Text splitted to sentences.\n",
      "Hi, how are you.\n",
      " > ===========================\n",
      "haɪ, haʊ əɹ ju.\n",
      " length:15\n",
      " length:15\n",
      "Audio too short, fail to add watermark\n",
      "Cloned Voice Generated!\n"
     ]
    },
    {
     "name": "stderr",
     "output_type": "stream",
     "text": [
      "/opt/anaconda3/envs/openvoice/lib/python3.9/site-packages/torch/nn/utils/weight_norm.py:28: UserWarning: torch.nn.utils.weight_norm is deprecated in favor of torch.nn.utils.parametrizations.weight_norm.\n",
      "  warnings.warn(\"torch.nn.utils.weight_norm is deprecated in favor of torch.nn.utils.parametrizations.weight_norm.\")\n"
     ]
    },
    {
     "name": "stdout",
     "output_type": "stream",
     "text": [
      "Loaded checkpoint 'checkpoints/base_speakers/EN/checkpoint.pth'\n",
      "missing/unexpected keys: [] []\n",
      "Loaded checkpoint 'checkpoints/converter/checkpoint.pth'\n",
      "missing/unexpected keys: [] []\n",
      "OpenVoice version: v1\n",
      "[(0.0, 13.298)]\n",
      "after vad: dur = 13.298\n",
      " > Text splitted to sentences.\n",
      "Hi, how are you.\n",
      " > ===========================\n",
      "haɪ, haʊ əɹ ju.\n",
      " length:15\n",
      " length:15\n",
      "Audio too short, fail to add watermark\n",
      "Cloned Voice Generated!\n"
     ]
    },
    {
     "name": "stderr",
     "output_type": "stream",
     "text": [
      "/opt/anaconda3/envs/openvoice/lib/python3.9/site-packages/torch/nn/utils/weight_norm.py:28: UserWarning: torch.nn.utils.weight_norm is deprecated in favor of torch.nn.utils.parametrizations.weight_norm.\n",
      "  warnings.warn(\"torch.nn.utils.weight_norm is deprecated in favor of torch.nn.utils.parametrizations.weight_norm.\")\n"
     ]
    },
    {
     "name": "stdout",
     "output_type": "stream",
     "text": [
      "Loaded checkpoint 'checkpoints/base_speakers/EN/checkpoint.pth'\n",
      "missing/unexpected keys: [] []\n",
      "Loaded checkpoint 'checkpoints/converter/checkpoint.pth'\n",
      "missing/unexpected keys: [] []\n",
      "OpenVoice version: v1\n",
      "[(0.0, 13.298)]\n",
      "after vad: dur = 13.298\n",
      " > Text splitted to sentences.\n",
      "Hi, how are you.\n",
      " > ===========================\n",
      "haɪ, haʊ əɹ ju.\n",
      " length:15\n",
      " length:15\n",
      "Audio too short, fail to add watermark\n",
      "Cloned Voice Generated!\n"
     ]
    },
    {
     "name": "stderr",
     "output_type": "stream",
     "text": [
      "/opt/anaconda3/envs/openvoice/lib/python3.9/site-packages/torch/nn/utils/weight_norm.py:28: UserWarning: torch.nn.utils.weight_norm is deprecated in favor of torch.nn.utils.parametrizations.weight_norm.\n",
      "  warnings.warn(\"torch.nn.utils.weight_norm is deprecated in favor of torch.nn.utils.parametrizations.weight_norm.\")\n"
     ]
    },
    {
     "name": "stdout",
     "output_type": "stream",
     "text": [
      "Loaded checkpoint 'checkpoints/base_speakers/EN/checkpoint.pth'\n",
      "missing/unexpected keys: [] []\n",
      "Loaded checkpoint 'checkpoints/converter/checkpoint.pth'\n",
      "missing/unexpected keys: [] []\n",
      "OpenVoice version: v1\n",
      "[(0.0, 15.9146875)]\n",
      "after vad: dur = 15.914\n",
      " > Text splitted to sentences.\n",
      "Hi, how are you.\n",
      " > ===========================\n",
      "haɪ, haʊ əɹ ju.\n",
      " length:15\n",
      " length:15\n",
      "Audio too short, fail to add watermark\n",
      "Cloned Voice Generated!\n"
     ]
    },
    {
     "name": "stderr",
     "output_type": "stream",
     "text": [
      "/opt/anaconda3/envs/openvoice/lib/python3.9/site-packages/torch/nn/utils/weight_norm.py:28: UserWarning: torch.nn.utils.weight_norm is deprecated in favor of torch.nn.utils.parametrizations.weight_norm.\n",
      "  warnings.warn(\"torch.nn.utils.weight_norm is deprecated in favor of torch.nn.utils.parametrizations.weight_norm.\")\n"
     ]
    },
    {
     "name": "stdout",
     "output_type": "stream",
     "text": [
      "Loaded checkpoint 'checkpoints/base_speakers/EN/checkpoint.pth'\n",
      "missing/unexpected keys: [] []\n",
      "Loaded checkpoint 'checkpoints/converter/checkpoint.pth'\n",
      "missing/unexpected keys: [] []\n",
      "OpenVoice version: v1\n",
      "[(0.0, 15.9146875)]\n",
      "after vad: dur = 15.914\n",
      " > Text splitted to sentences.\n",
      "Hi, how are you.\n",
      " > ===========================\n",
      "haɪ, haʊ əɹ ju.\n",
      " length:15\n",
      " length:15\n",
      "Audio too short, fail to add watermark\n",
      "Cloned Voice Generated!\n"
     ]
    },
    {
     "name": "stderr",
     "output_type": "stream",
     "text": [
      "/opt/anaconda3/envs/openvoice/lib/python3.9/site-packages/torch/nn/utils/weight_norm.py:28: UserWarning: torch.nn.utils.weight_norm is deprecated in favor of torch.nn.utils.parametrizations.weight_norm.\n",
      "  warnings.warn(\"torch.nn.utils.weight_norm is deprecated in favor of torch.nn.utils.parametrizations.weight_norm.\")\n"
     ]
    },
    {
     "name": "stdout",
     "output_type": "stream",
     "text": [
      "Loaded checkpoint 'checkpoints/base_speakers/EN/checkpoint.pth'\n",
      "missing/unexpected keys: [] []\n",
      "Loaded checkpoint 'checkpoints/converter/checkpoint.pth'\n",
      "missing/unexpected keys: [] []\n",
      "OpenVoice version: v1\n",
      "[(0.0, 15.9146875)]\n",
      "after vad: dur = 15.914\n",
      " > Text splitted to sentences.\n",
      "Hi, how are you.\n",
      " > ===========================\n",
      "haɪ, haʊ əɹ ju.\n",
      " length:15\n",
      " length:15\n",
      "Audio too short, fail to add watermark\n",
      "Cloned Voice Generated!\n"
     ]
    },
    {
     "name": "stderr",
     "output_type": "stream",
     "text": [
      "/opt/anaconda3/envs/openvoice/lib/python3.9/site-packages/torch/nn/utils/weight_norm.py:28: UserWarning: torch.nn.utils.weight_norm is deprecated in favor of torch.nn.utils.parametrizations.weight_norm.\n",
      "  warnings.warn(\"torch.nn.utils.weight_norm is deprecated in favor of torch.nn.utils.parametrizations.weight_norm.\")\n"
     ]
    },
    {
     "name": "stdout",
     "output_type": "stream",
     "text": [
      "Loaded checkpoint 'checkpoints/base_speakers/EN/checkpoint.pth'\n",
      "missing/unexpected keys: [] []\n",
      "Loaded checkpoint 'checkpoints/converter/checkpoint.pth'\n",
      "missing/unexpected keys: [] []\n",
      "OpenVoice version: v1\n",
      "[(0.0, 15.9146875)]\n",
      "after vad: dur = 15.914\n",
      " > Text splitted to sentences.\n",
      "Hi, how are you.\n",
      " > ===========================\n",
      "haɪ, haʊ əɹ ju.\n",
      " length:15\n",
      " length:15\n",
      "Audio too short, fail to add watermark\n",
      "Cloned Voice Generated!\n"
     ]
    },
    {
     "name": "stderr",
     "output_type": "stream",
     "text": [
      "/opt/anaconda3/envs/openvoice/lib/python3.9/site-packages/torch/nn/utils/weight_norm.py:28: UserWarning: torch.nn.utils.weight_norm is deprecated in favor of torch.nn.utils.parametrizations.weight_norm.\n",
      "  warnings.warn(\"torch.nn.utils.weight_norm is deprecated in favor of torch.nn.utils.parametrizations.weight_norm.\")\n"
     ]
    },
    {
     "name": "stdout",
     "output_type": "stream",
     "text": [
      "Loaded checkpoint 'checkpoints/base_speakers/EN/checkpoint.pth'\n",
      "missing/unexpected keys: [] []\n",
      "Loaded checkpoint 'checkpoints/converter/checkpoint.pth'\n",
      "missing/unexpected keys: [] []\n",
      "OpenVoice version: v1\n",
      "[(0.0, 15.9146875)]\n",
      "after vad: dur = 15.914\n",
      " > Text splitted to sentences.\n",
      "Hi, how are you.\n",
      " > ===========================\n",
      "haɪ, haʊ əɹ ju.\n",
      " length:15\n",
      " length:15\n",
      "Audio too short, fail to add watermark\n",
      "Cloned Voice Generated!\n"
     ]
    },
    {
     "name": "stderr",
     "output_type": "stream",
     "text": [
      "/opt/anaconda3/envs/openvoice/lib/python3.9/site-packages/torch/nn/utils/weight_norm.py:28: UserWarning: torch.nn.utils.weight_norm is deprecated in favor of torch.nn.utils.parametrizations.weight_norm.\n",
      "  warnings.warn(\"torch.nn.utils.weight_norm is deprecated in favor of torch.nn.utils.parametrizations.weight_norm.\")\n"
     ]
    },
    {
     "name": "stdout",
     "output_type": "stream",
     "text": [
      "Loaded checkpoint 'checkpoints/base_speakers/EN/checkpoint.pth'\n",
      "missing/unexpected keys: [] []\n",
      "Loaded checkpoint 'checkpoints/converter/checkpoint.pth'\n",
      "missing/unexpected keys: [] []\n",
      "OpenVoice version: v1\n",
      "[(0.0, 20.21)]\n",
      "after vad: dur = 20.21\n",
      " > Text splitted to sentences.\n",
      "Hi, how are you.\n",
      " > ===========================\n",
      "haɪ, haʊ əɹ ju.\n",
      " length:15\n",
      " length:15\n",
      "Audio too short, fail to add watermark\n",
      "Cloned Voice Generated!\n"
     ]
    },
    {
     "name": "stderr",
     "output_type": "stream",
     "text": [
      "/opt/anaconda3/envs/openvoice/lib/python3.9/site-packages/torch/nn/utils/weight_norm.py:28: UserWarning: torch.nn.utils.weight_norm is deprecated in favor of torch.nn.utils.parametrizations.weight_norm.\n",
      "  warnings.warn(\"torch.nn.utils.weight_norm is deprecated in favor of torch.nn.utils.parametrizations.weight_norm.\")\n"
     ]
    },
    {
     "name": "stdout",
     "output_type": "stream",
     "text": [
      "Loaded checkpoint 'checkpoints/base_speakers/EN/checkpoint.pth'\n",
      "missing/unexpected keys: [] []\n",
      "Loaded checkpoint 'checkpoints/converter/checkpoint.pth'\n",
      "missing/unexpected keys: [] []\n",
      "OpenVoice version: v1\n",
      "[(0.0, 20.21)]\n",
      "after vad: dur = 20.21\n",
      " > Text splitted to sentences.\n",
      "Hi, how are you.\n",
      " > ===========================\n",
      "haɪ, haʊ əɹ ju.\n",
      " length:15\n",
      " length:15\n",
      "Audio too short, fail to add watermark\n",
      "Cloned Voice Generated!\n"
     ]
    },
    {
     "name": "stderr",
     "output_type": "stream",
     "text": [
      "/opt/anaconda3/envs/openvoice/lib/python3.9/site-packages/torch/nn/utils/weight_norm.py:28: UserWarning: torch.nn.utils.weight_norm is deprecated in favor of torch.nn.utils.parametrizations.weight_norm.\n",
      "  warnings.warn(\"torch.nn.utils.weight_norm is deprecated in favor of torch.nn.utils.parametrizations.weight_norm.\")\n"
     ]
    },
    {
     "name": "stdout",
     "output_type": "stream",
     "text": [
      "Loaded checkpoint 'checkpoints/base_speakers/EN/checkpoint.pth'\n",
      "missing/unexpected keys: [] []\n",
      "Loaded checkpoint 'checkpoints/converter/checkpoint.pth'\n",
      "missing/unexpected keys: [] []\n",
      "OpenVoice version: v1\n",
      "[(0.0, 20.21)]\n",
      "after vad: dur = 20.21\n",
      " > Text splitted to sentences.\n",
      "Hi, how are you.\n",
      " > ===========================\n",
      "haɪ, haʊ əɹ ju.\n",
      " length:15\n",
      " length:15\n",
      "Audio too short, fail to add watermark\n",
      "Cloned Voice Generated!\n"
     ]
    },
    {
     "name": "stderr",
     "output_type": "stream",
     "text": [
      "/opt/anaconda3/envs/openvoice/lib/python3.9/site-packages/torch/nn/utils/weight_norm.py:28: UserWarning: torch.nn.utils.weight_norm is deprecated in favor of torch.nn.utils.parametrizations.weight_norm.\n",
      "  warnings.warn(\"torch.nn.utils.weight_norm is deprecated in favor of torch.nn.utils.parametrizations.weight_norm.\")\n"
     ]
    },
    {
     "name": "stdout",
     "output_type": "stream",
     "text": [
      "Loaded checkpoint 'checkpoints/base_speakers/EN/checkpoint.pth'\n",
      "missing/unexpected keys: [] []\n",
      "Loaded checkpoint 'checkpoints/converter/checkpoint.pth'\n",
      "missing/unexpected keys: [] []\n",
      "OpenVoice version: v1\n",
      "[(0.0, 20.21)]\n",
      "after vad: dur = 20.21\n",
      " > Text splitted to sentences.\n",
      "Hi, how are you.\n",
      " > ===========================\n",
      "haɪ, haʊ əɹ ju.\n",
      " length:15\n",
      " length:15\n",
      "Audio too short, fail to add watermark\n",
      "Cloned Voice Generated!\n"
     ]
    },
    {
     "name": "stderr",
     "output_type": "stream",
     "text": [
      "/opt/anaconda3/envs/openvoice/lib/python3.9/site-packages/torch/nn/utils/weight_norm.py:28: UserWarning: torch.nn.utils.weight_norm is deprecated in favor of torch.nn.utils.parametrizations.weight_norm.\n",
      "  warnings.warn(\"torch.nn.utils.weight_norm is deprecated in favor of torch.nn.utils.parametrizations.weight_norm.\")\n"
     ]
    },
    {
     "name": "stdout",
     "output_type": "stream",
     "text": [
      "Loaded checkpoint 'checkpoints/base_speakers/EN/checkpoint.pth'\n",
      "missing/unexpected keys: [] []\n",
      "Loaded checkpoint 'checkpoints/converter/checkpoint.pth'\n",
      "missing/unexpected keys: [] []\n",
      "OpenVoice version: v1\n",
      "[(0.0, 20.21)]\n",
      "after vad: dur = 20.21\n",
      " > Text splitted to sentences.\n",
      "Hi, how are you.\n",
      " > ===========================\n",
      "haɪ, haʊ əɹ ju.\n",
      " length:15\n",
      " length:15\n",
      "Audio too short, fail to add watermark\n",
      "Cloned Voice Generated!\n"
     ]
    },
    {
     "name": "stderr",
     "output_type": "stream",
     "text": [
      "/opt/anaconda3/envs/openvoice/lib/python3.9/site-packages/torch/nn/utils/weight_norm.py:28: UserWarning: torch.nn.utils.weight_norm is deprecated in favor of torch.nn.utils.parametrizations.weight_norm.\n",
      "  warnings.warn(\"torch.nn.utils.weight_norm is deprecated in favor of torch.nn.utils.parametrizations.weight_norm.\")\n"
     ]
    },
    {
     "name": "stdout",
     "output_type": "stream",
     "text": [
      "Loaded checkpoint 'checkpoints/base_speakers/EN/checkpoint.pth'\n",
      "missing/unexpected keys: [] []\n",
      "Loaded checkpoint 'checkpoints/converter/checkpoint.pth'\n",
      "missing/unexpected keys: [] []\n",
      "OpenVoice version: v1\n",
      "[(0.0, 32.658), (32.75, 33.5146875)]\n",
      "after vad: dur = 33.422\n",
      " > Text splitted to sentences.\n",
      "Hi, how are you.\n",
      " > ===========================\n",
      "haɪ, haʊ əɹ ju.\n",
      " length:15\n",
      " length:15\n",
      "Audio too short, fail to add watermark\n",
      "Cloned Voice Generated!\n"
     ]
    },
    {
     "name": "stderr",
     "output_type": "stream",
     "text": [
      "/opt/anaconda3/envs/openvoice/lib/python3.9/site-packages/torch/nn/utils/weight_norm.py:28: UserWarning: torch.nn.utils.weight_norm is deprecated in favor of torch.nn.utils.parametrizations.weight_norm.\n",
      "  warnings.warn(\"torch.nn.utils.weight_norm is deprecated in favor of torch.nn.utils.parametrizations.weight_norm.\")\n"
     ]
    },
    {
     "name": "stdout",
     "output_type": "stream",
     "text": [
      "Loaded checkpoint 'checkpoints/base_speakers/EN/checkpoint.pth'\n",
      "missing/unexpected keys: [] []\n",
      "Loaded checkpoint 'checkpoints/converter/checkpoint.pth'\n",
      "missing/unexpected keys: [] []\n",
      "OpenVoice version: v1\n",
      "[(0.0, 32.658), (32.75, 33.5146875)]\n",
      "after vad: dur = 33.422\n",
      " > Text splitted to sentences.\n",
      "Hi, how are you.\n",
      " > ===========================\n",
      "haɪ, haʊ əɹ ju.\n",
      " length:15\n",
      " length:15\n",
      "Audio too short, fail to add watermark\n",
      "Cloned Voice Generated!\n"
     ]
    },
    {
     "name": "stderr",
     "output_type": "stream",
     "text": [
      "/opt/anaconda3/envs/openvoice/lib/python3.9/site-packages/torch/nn/utils/weight_norm.py:28: UserWarning: torch.nn.utils.weight_norm is deprecated in favor of torch.nn.utils.parametrizations.weight_norm.\n",
      "  warnings.warn(\"torch.nn.utils.weight_norm is deprecated in favor of torch.nn.utils.parametrizations.weight_norm.\")\n"
     ]
    },
    {
     "name": "stdout",
     "output_type": "stream",
     "text": [
      "Loaded checkpoint 'checkpoints/base_speakers/EN/checkpoint.pth'\n",
      "missing/unexpected keys: [] []\n",
      "Loaded checkpoint 'checkpoints/converter/checkpoint.pth'\n",
      "missing/unexpected keys: [] []\n",
      "OpenVoice version: v1\n",
      "[(0.0, 32.658), (32.75, 33.5146875)]\n",
      "after vad: dur = 33.422\n",
      " > Text splitted to sentences.\n",
      "Hi, how are you.\n",
      " > ===========================\n",
      "haɪ, haʊ əɹ ju.\n",
      " length:15\n",
      " length:15\n",
      "Audio too short, fail to add watermark\n",
      "Cloned Voice Generated!\n"
     ]
    },
    {
     "name": "stderr",
     "output_type": "stream",
     "text": [
      "/opt/anaconda3/envs/openvoice/lib/python3.9/site-packages/torch/nn/utils/weight_norm.py:28: UserWarning: torch.nn.utils.weight_norm is deprecated in favor of torch.nn.utils.parametrizations.weight_norm.\n",
      "  warnings.warn(\"torch.nn.utils.weight_norm is deprecated in favor of torch.nn.utils.parametrizations.weight_norm.\")\n"
     ]
    },
    {
     "name": "stdout",
     "output_type": "stream",
     "text": [
      "Loaded checkpoint 'checkpoints/base_speakers/EN/checkpoint.pth'\n",
      "missing/unexpected keys: [] []\n",
      "Loaded checkpoint 'checkpoints/converter/checkpoint.pth'\n",
      "missing/unexpected keys: [] []\n",
      "OpenVoice version: v1\n",
      "[(0.0, 32.658), (32.75, 33.5146875)]\n",
      "after vad: dur = 33.422\n",
      " > Text splitted to sentences.\n",
      "Hi, how are you.\n",
      " > ===========================\n",
      "haɪ, haʊ əɹ ju.\n",
      " length:15\n",
      " length:15\n",
      "Audio too short, fail to add watermark\n",
      "Cloned Voice Generated!\n"
     ]
    },
    {
     "name": "stderr",
     "output_type": "stream",
     "text": [
      "/opt/anaconda3/envs/openvoice/lib/python3.9/site-packages/torch/nn/utils/weight_norm.py:28: UserWarning: torch.nn.utils.weight_norm is deprecated in favor of torch.nn.utils.parametrizations.weight_norm.\n",
      "  warnings.warn(\"torch.nn.utils.weight_norm is deprecated in favor of torch.nn.utils.parametrizations.weight_norm.\")\n"
     ]
    },
    {
     "name": "stdout",
     "output_type": "stream",
     "text": [
      "Loaded checkpoint 'checkpoints/base_speakers/EN/checkpoint.pth'\n",
      "missing/unexpected keys: [] []\n",
      "Loaded checkpoint 'checkpoints/converter/checkpoint.pth'\n",
      "missing/unexpected keys: [] []\n",
      "OpenVoice version: v1\n",
      "[(0.0, 32.658), (32.75, 33.5146875)]\n",
      "after vad: dur = 33.422\n",
      " > Text splitted to sentences.\n",
      "Hi, how are you.\n",
      " > ===========================\n",
      "haɪ, haʊ əɹ ju.\n",
      " length:15\n",
      " length:15\n",
      "Audio too short, fail to add watermark\n",
      "Cloned Voice Generated!\n"
     ]
    },
    {
     "name": "stderr",
     "output_type": "stream",
     "text": [
      "/opt/anaconda3/envs/openvoice/lib/python3.9/site-packages/torch/nn/utils/weight_norm.py:28: UserWarning: torch.nn.utils.weight_norm is deprecated in favor of torch.nn.utils.parametrizations.weight_norm.\n",
      "  warnings.warn(\"torch.nn.utils.weight_norm is deprecated in favor of torch.nn.utils.parametrizations.weight_norm.\")\n"
     ]
    },
    {
     "name": "stdout",
     "output_type": "stream",
     "text": [
      "Loaded checkpoint 'checkpoints/base_speakers/EN/checkpoint.pth'\n",
      "missing/unexpected keys: [] []\n",
      "Loaded checkpoint 'checkpoints/converter/checkpoint.pth'\n",
      "missing/unexpected keys: [] []\n",
      "OpenVoice version: v1\n",
      "[(0.0, 30.162), (30.19, 58.418), (58.734, 102.098), (102.254, 106.29), (106.638, 120.6186875)]\n",
      "after vad: dur = 119.77\n",
      " > Text splitted to sentences.\n",
      "Hi, how are you.\n",
      " > ===========================\n",
      "haɪ, haʊ əɹ ju.\n",
      " length:15\n",
      " length:15\n",
      "Audio too short, fail to add watermark\n",
      "Cloned Voice Generated!\n"
     ]
    },
    {
     "name": "stderr",
     "output_type": "stream",
     "text": [
      "/opt/anaconda3/envs/openvoice/lib/python3.9/site-packages/torch/nn/utils/weight_norm.py:28: UserWarning: torch.nn.utils.weight_norm is deprecated in favor of torch.nn.utils.parametrizations.weight_norm.\n",
      "  warnings.warn(\"torch.nn.utils.weight_norm is deprecated in favor of torch.nn.utils.parametrizations.weight_norm.\")\n"
     ]
    },
    {
     "name": "stdout",
     "output_type": "stream",
     "text": [
      "Loaded checkpoint 'checkpoints/base_speakers/EN/checkpoint.pth'\n",
      "missing/unexpected keys: [] []\n",
      "Loaded checkpoint 'checkpoints/converter/checkpoint.pth'\n",
      "missing/unexpected keys: [] []\n",
      "OpenVoice version: v1\n",
      "[(0.0, 30.162), (30.19, 58.418), (58.734, 102.098), (102.254, 106.29), (106.638, 120.6186875)]\n",
      "after vad: dur = 119.77\n",
      " > Text splitted to sentences.\n",
      "Hi, how are you.\n",
      " > ===========================\n",
      "haɪ, haʊ əɹ ju.\n",
      " length:15\n",
      " length:15\n",
      "Audio too short, fail to add watermark\n",
      "Cloned Voice Generated!\n"
     ]
    },
    {
     "name": "stderr",
     "output_type": "stream",
     "text": [
      "/opt/anaconda3/envs/openvoice/lib/python3.9/site-packages/torch/nn/utils/weight_norm.py:28: UserWarning: torch.nn.utils.weight_norm is deprecated in favor of torch.nn.utils.parametrizations.weight_norm.\n",
      "  warnings.warn(\"torch.nn.utils.weight_norm is deprecated in favor of torch.nn.utils.parametrizations.weight_norm.\")\n"
     ]
    },
    {
     "name": "stdout",
     "output_type": "stream",
     "text": [
      "Loaded checkpoint 'checkpoints/base_speakers/EN/checkpoint.pth'\n",
      "missing/unexpected keys: [] []\n",
      "Loaded checkpoint 'checkpoints/converter/checkpoint.pth'\n",
      "missing/unexpected keys: [] []\n",
      "OpenVoice version: v1\n",
      "[(0.0, 30.162), (30.19, 58.418), (58.734, 102.098), (102.254, 106.29), (106.638, 120.6186875)]\n",
      "after vad: dur = 119.77\n",
      " > Text splitted to sentences.\n",
      "Hi, how are you.\n",
      " > ===========================\n",
      "haɪ, haʊ əɹ ju.\n",
      " length:15\n",
      " length:15\n",
      "Audio too short, fail to add watermark\n",
      "Cloned Voice Generated!\n"
     ]
    },
    {
     "name": "stderr",
     "output_type": "stream",
     "text": [
      "/opt/anaconda3/envs/openvoice/lib/python3.9/site-packages/torch/nn/utils/weight_norm.py:28: UserWarning: torch.nn.utils.weight_norm is deprecated in favor of torch.nn.utils.parametrizations.weight_norm.\n",
      "  warnings.warn(\"torch.nn.utils.weight_norm is deprecated in favor of torch.nn.utils.parametrizations.weight_norm.\")\n"
     ]
    },
    {
     "name": "stdout",
     "output_type": "stream",
     "text": [
      "Loaded checkpoint 'checkpoints/base_speakers/EN/checkpoint.pth'\n",
      "missing/unexpected keys: [] []\n",
      "Loaded checkpoint 'checkpoints/converter/checkpoint.pth'\n",
      "missing/unexpected keys: [] []\n",
      "OpenVoice version: v1\n",
      "[(0.0, 30.162), (30.19, 58.418), (58.734, 102.098), (102.254, 106.29), (106.638, 120.6186875)]\n",
      "after vad: dur = 119.77\n",
      " > Text splitted to sentences.\n",
      "Hi, how are you.\n",
      " > ===========================\n",
      "haɪ, haʊ əɹ ju.\n",
      " length:15\n",
      " length:15\n",
      "Audio too short, fail to add watermark\n",
      "Cloned Voice Generated!\n"
     ]
    },
    {
     "name": "stderr",
     "output_type": "stream",
     "text": [
      "/opt/anaconda3/envs/openvoice/lib/python3.9/site-packages/torch/nn/utils/weight_norm.py:28: UserWarning: torch.nn.utils.weight_norm is deprecated in favor of torch.nn.utils.parametrizations.weight_norm.\n",
      "  warnings.warn(\"torch.nn.utils.weight_norm is deprecated in favor of torch.nn.utils.parametrizations.weight_norm.\")\n"
     ]
    },
    {
     "name": "stdout",
     "output_type": "stream",
     "text": [
      "Loaded checkpoint 'checkpoints/base_speakers/EN/checkpoint.pth'\n",
      "missing/unexpected keys: [] []\n",
      "Loaded checkpoint 'checkpoints/converter/checkpoint.pth'\n",
      "missing/unexpected keys: [] []\n",
      "OpenVoice version: v1\n",
      "[(0.0, 30.162), (30.19, 58.418), (58.734, 102.098), (102.254, 106.29), (106.638, 120.6186875)]\n",
      "after vad: dur = 119.77\n",
      " > Text splitted to sentences.\n",
      "Hi, how are you.\n",
      " > ===========================\n",
      "haɪ, haʊ əɹ ju.\n",
      " length:15\n",
      " length:15\n",
      "Audio too short, fail to add watermark\n",
      "Cloned Voice Generated!\n",
      "[2.3089776039123535, 2.3851076126098634, 2.429437208175659, 2.540254020690918, 2.7902857303619384, 4.338568878173828]\n"
     ]
    }
   ],
   "source": [
    "import time\n",
    "exec_times_various_input_audio_length_steven = []\n",
    "exec_times_various_input_audio_length_zoe = []\n",
    "exec_times_various_input_audio_length_jeff = []\n",
    "exec_times_various_input_audio_length_yingqi = []\n",
    "\n",
    "audiolist_steven = [\"voice_samples/steven/10.wav\", \"voice_samples/steven/16.wav\", \"voice_samples/steven/18.wav\", \"voice_samples/steven/19.wav\",\n",
    "                    \"voice_samples/steven/35.wav\", \"voice_samples/steven/106.wav\"] \n",
    "audiolist_zoe = [\"voice_samples/zoe/10.wav\", \"voice_samples/zoe/13.wav\", \"voice_samples/zoe/18.wav\", \"voice_samples/zoe/21.wav\",\n",
    "                 \"voice_samples/zoe/33.wav\", \"voice_samples/zoe/117.wav\"]\n",
    "audiolist_jeff = [\"voice_samples/jeff/9.wav\", \"voice_samples/jeff/15.wav\", \"voice_samples/jeff/19.wav\", \"voice_samples/jeff/22.wav\",\n",
    "                  \"voice_samples/jeff/34.wav\",\"voice_samples/jeff/104.wav\"]\n",
    "audiolist_yingqi = [\"voice_samples/yingqi/10.wav\",\"voice_samples/yingqi/14.wav\", \"voice_samples/yingqi/16.wav\", \"voice_samples/yingqi/21.wav\",\n",
    "                    \"voice_samples/yingqi/33.wav\", \"voice_samples/yingqi/121.wav\"]\n",
    "\n",
    "audio_lengths_steven = [10,16,18,19,35,106]\n",
    "audio_lengths_zoe = [10,13,18,21,33,117]\n",
    "audio_lengths_jeff = [9,15,19,22,34,104]\n",
    "audio_lengths_yingqi = [10,14,16,21,33,121]\n",
    "\n",
    "for audio in audiolist_steven:\n",
    "    execution_time = avg_execution_time(audio, \"Hi, how are you.\")\n",
    "    exec_times_various_input_audio_length_steven.append(execution_time)\n",
    "print(exec_times_various_input_audio_length_steven)\n",
    "\n",
    "for audio in audiolist_zoe:\n",
    "    execution_time = avg_execution_time(audio, \"Hi, how are you.\")\n",
    "    exec_times_various_input_audio_length_zoe.append(execution_time)\n",
    "print(exec_times_various_input_audio_length_zoe)\n",
    "\n",
    "for audio in audiolist_jeff:\n",
    "    execution_time = avg_execution_time(audio, \"Hi, how are you.\")\n",
    "    exec_times_various_input_audio_length_jeff.append(execution_time)\n",
    "print(exec_times_various_input_audio_length_jeff)\n",
    "\n",
    "for audio in audiolist_yingqi:\n",
    "    execution_time = avg_execution_time(audio, \"Hi, how are you.\")\n",
    "    exec_times_various_input_audio_length_yingqi.append(execution_time)\n",
    "print(exec_times_various_input_audio_length_yingqi)\n",
    "\n"
   ]
  },
  {
   "cell_type": "code",
   "execution_count": 9,
   "metadata": {},
   "outputs": [
    {
     "data": {
      "image/png": "[encoded data removed]",
      "text/plain": [
       "<Figure size 1000x600 with 1 Axes>"
      ]
     },
     "metadata": {},
     "output_type": "display_data"
    }
   ],
   "source": [
    "import matplotlib.pyplot as plt\n",
    "\n",
    "plt.figure(figsize=(10, 6))\n",
    "\n",
    "plt.plot(audio_lengths_steven, exec_times_various_input_audio_length_steven, marker='o', label='Male Volunteer1', color='r')\n",
    "plt.plot(audio_lengths_zoe, exec_times_various_input_audio_length_zoe, marker='s', label='Famale Volunteer1 ', color='g')\n",
    "plt.plot(audio_lengths_jeff, exec_times_various_input_audio_length_jeff, marker='o', label='Male Volunteer2', color='b')\n",
    "plt.plot(audio_lengths_yingqi, exec_times_various_input_audio_length_yingqi, marker='s', label='Famale Volunteer2 ', color='m')\n",
    "\n",
    "plt.xlabel('Audio Length (seconds)')\n",
    "plt.ylabel('Execution Time (seconds)')\n",
    "plt.title('Execution Time vs Input Audio Length')\n",
    "plt.legend()\n",
    "plt.grid(True)\n",
    "plt.show()"
   ]
  }
 ],
 "metadata": {
  "kernelspec": {
   "display_name": "openvoice",
   "language": "python",
   "name": "python3"
  },
  "language_info": {
   "codemirror_mode": {
    "name": "ipython",
    "version": 3
   },
   "file_extension": ".py",
   "mimetype": "text/x-python",
   "name": "python",
   "nbconvert_exporter": "python",
   "pygments_lexer": "ipython3",
   "version": "3.9.18"
  }
 },
 "nbformat": 4,
 "nbformat_minor": 2
}
