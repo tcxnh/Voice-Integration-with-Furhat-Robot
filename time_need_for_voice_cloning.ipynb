{
 "cells": [
  {
   "cell_type": "markdown",
   "metadata": {},
   "source": [
    "### The note book will evaluate how much time the openvoice needed to genereated cloned voice ###\n"
   ]
  },
  {
   "cell_type": "code",
   "execution_count": 3,
   "metadata": {},
   "outputs": [],
   "source": [
    "import time\n",
    "from generate_cloned_voice import generate_cloned_voice"
   ]
  },
  {
   "cell_type": "markdown",
   "metadata": {},
   "source": [
    "Even if we execute the same audio file, and produce the same output, the execution time is different"
   ]
  },
  {
   "cell_type": "code",
   "execution_count": 4,
   "metadata": {},
   "outputs": [
    {
     "name": "stderr",
     "output_type": "stream",
     "text": [
      "/opt/anaconda3/envs/openvoice/lib/python3.9/site-packages/torch/nn/utils/weight_norm.py:28: UserWarning: torch.nn.utils.weight_norm is deprecated in favor of torch.nn.utils.parametrizations.weight_norm.\n",
      "  warnings.warn(\"torch.nn.utils.weight_norm is deprecated in favor of torch.nn.utils.parametrizations.weight_norm.\")\n"
     ]
    },
    {
     "name": "stdout",
     "output_type": "stream",
     "text": [
      "Loaded checkpoint 'checkpoints/base_speakers/EN/checkpoint.pth'\n",
      "missing/unexpected keys: [] []\n",
      "Loaded checkpoint 'checkpoints/converter/checkpoint.pth'\n",
      "missing/unexpected keys: [] []\n",
      "OpenVoice version: v1\n",
      "[(0.0, 19.278375)]\n",
      "after vad: dur = 19.27798185941043\n",
      " > Text splitted to sentences.\n",
      "I love u\n",
      " > ===========================\n",
      "aɪ ləv ju.\n",
      " length:10\n",
      " length:10\n",
      "Audio too short, fail to add watermark\n",
      "Cloned Voice Generated!\n"
     ]
    },
    {
     "name": "stderr",
     "output_type": "stream",
     "text": [
      "/opt/anaconda3/envs/openvoice/lib/python3.9/site-packages/torch/nn/utils/weight_norm.py:28: UserWarning: torch.nn.utils.weight_norm is deprecated in favor of torch.nn.utils.parametrizations.weight_norm.\n",
      "  warnings.warn(\"torch.nn.utils.weight_norm is deprecated in favor of torch.nn.utils.parametrizations.weight_norm.\")\n"
     ]
    },
    {
     "name": "stdout",
     "output_type": "stream",
     "text": [
      "Loaded checkpoint 'checkpoints/base_speakers/EN/checkpoint.pth'\n",
      "missing/unexpected keys: [] []\n",
      "Loaded checkpoint 'checkpoints/converter/checkpoint.pth'\n",
      "missing/unexpected keys: [] []\n",
      "OpenVoice version: v1\n",
      "[(0.0, 19.278375)]\n",
      "after vad: dur = 19.27798185941043\n",
      " > Text splitted to sentences.\n",
      "I love u\n",
      " > ===========================\n",
      "aɪ ləv ju.\n",
      " length:10\n",
      " length:10\n",
      "Audio too short, fail to add watermark\n",
      "Cloned Voice Generated!\n"
     ]
    },
    {
     "name": "stderr",
     "output_type": "stream",
     "text": [
      "/opt/anaconda3/envs/openvoice/lib/python3.9/site-packages/torch/nn/utils/weight_norm.py:28: UserWarning: torch.nn.utils.weight_norm is deprecated in favor of torch.nn.utils.parametrizations.weight_norm.\n",
      "  warnings.warn(\"torch.nn.utils.weight_norm is deprecated in favor of torch.nn.utils.parametrizations.weight_norm.\")\n"
     ]
    },
    {
     "name": "stdout",
     "output_type": "stream",
     "text": [
      "Loaded checkpoint 'checkpoints/base_speakers/EN/checkpoint.pth'\n",
      "missing/unexpected keys: [] []\n",
      "Loaded checkpoint 'checkpoints/converter/checkpoint.pth'\n",
      "missing/unexpected keys: [] []\n",
      "OpenVoice version: v1\n",
      "[(0.0, 19.278375)]\n",
      "after vad: dur = 19.27798185941043\n",
      " > Text splitted to sentences.\n",
      "I love u\n",
      " > ===========================\n",
      "aɪ ləv ju.\n",
      " length:10\n",
      " length:10\n",
      "Audio too short, fail to add watermark\n",
      "Cloned Voice Generated!\n"
     ]
    },
    {
     "name": "stderr",
     "output_type": "stream",
     "text": [
      "/opt/anaconda3/envs/openvoice/lib/python3.9/site-packages/torch/nn/utils/weight_norm.py:28: UserWarning: torch.nn.utils.weight_norm is deprecated in favor of torch.nn.utils.parametrizations.weight_norm.\n",
      "  warnings.warn(\"torch.nn.utils.weight_norm is deprecated in favor of torch.nn.utils.parametrizations.weight_norm.\")\n"
     ]
    },
    {
     "name": "stdout",
     "output_type": "stream",
     "text": [
      "Loaded checkpoint 'checkpoints/base_speakers/EN/checkpoint.pth'\n",
      "missing/unexpected keys: [] []\n",
      "Loaded checkpoint 'checkpoints/converter/checkpoint.pth'\n",
      "missing/unexpected keys: [] []\n",
      "OpenVoice version: v1\n",
      "[(0.0, 19.278375)]\n",
      "after vad: dur = 19.27798185941043\n",
      " > Text splitted to sentences.\n",
      "I love u\n",
      " > ===========================\n",
      "aɪ ləv ju.\n",
      " length:10\n",
      " length:10\n",
      "Audio too short, fail to add watermark\n",
      "Cloned Voice Generated!\n"
     ]
    },
    {
     "name": "stderr",
     "output_type": "stream",
     "text": [
      "/opt/anaconda3/envs/openvoice/lib/python3.9/site-packages/torch/nn/utils/weight_norm.py:28: UserWarning: torch.nn.utils.weight_norm is deprecated in favor of torch.nn.utils.parametrizations.weight_norm.\n",
      "  warnings.warn(\"torch.nn.utils.weight_norm is deprecated in favor of torch.nn.utils.parametrizations.weight_norm.\")\n"
     ]
    },
    {
     "name": "stdout",
     "output_type": "stream",
     "text": [
      "Loaded checkpoint 'checkpoints/base_speakers/EN/checkpoint.pth'\n",
      "missing/unexpected keys: [] []\n",
      "Loaded checkpoint 'checkpoints/converter/checkpoint.pth'\n",
      "missing/unexpected keys: [] []\n",
      "OpenVoice version: v1\n",
      "[(0.0, 19.278375)]\n",
      "after vad: dur = 19.27798185941043\n",
      " > Text splitted to sentences.\n",
      "I love u\n",
      " > ===========================\n",
      "aɪ ləv ju.\n",
      " length:10\n",
      " length:10\n",
      "Audio too short, fail to add watermark\n",
      "Cloned Voice Generated!\n"
     ]
    },
    {
     "name": "stderr",
     "output_type": "stream",
     "text": [
      "/opt/anaconda3/envs/openvoice/lib/python3.9/site-packages/torch/nn/utils/weight_norm.py:28: UserWarning: torch.nn.utils.weight_norm is deprecated in favor of torch.nn.utils.parametrizations.weight_norm.\n",
      "  warnings.warn(\"torch.nn.utils.weight_norm is deprecated in favor of torch.nn.utils.parametrizations.weight_norm.\")\n"
     ]
    },
    {
     "name": "stdout",
     "output_type": "stream",
     "text": [
      "Loaded checkpoint 'checkpoints/base_speakers/EN/checkpoint.pth'\n",
      "missing/unexpected keys: [] []\n",
      "Loaded checkpoint 'checkpoints/converter/checkpoint.pth'\n",
      "missing/unexpected keys: [] []\n",
      "OpenVoice version: v1\n",
      "[(0.0, 19.278375)]\n",
      "after vad: dur = 19.27798185941043\n",
      " > Text splitted to sentences.\n",
      "I love u\n",
      " > ===========================\n",
      "aɪ ləv ju.\n",
      " length:10\n",
      " length:10\n",
      "Audio too short, fail to add watermark\n",
      "Cloned Voice Generated!\n"
     ]
    },
    {
     "name": "stderr",
     "output_type": "stream",
     "text": [
      "/opt/anaconda3/envs/openvoice/lib/python3.9/site-packages/torch/nn/utils/weight_norm.py:28: UserWarning: torch.nn.utils.weight_norm is deprecated in favor of torch.nn.utils.parametrizations.weight_norm.\n",
      "  warnings.warn(\"torch.nn.utils.weight_norm is deprecated in favor of torch.nn.utils.parametrizations.weight_norm.\")\n"
     ]
    },
    {
     "name": "stdout",
     "output_type": "stream",
     "text": [
      "Loaded checkpoint 'checkpoints/base_speakers/EN/checkpoint.pth'\n",
      "missing/unexpected keys: [] []\n",
      "Loaded checkpoint 'checkpoints/converter/checkpoint.pth'\n",
      "missing/unexpected keys: [] []\n",
      "OpenVoice version: v1\n",
      "[(0.0, 19.278375)]\n",
      "after vad: dur = 19.27798185941043\n",
      " > Text splitted to sentences.\n",
      "I love u\n",
      " > ===========================\n",
      "aɪ ləv ju.\n",
      " length:10\n",
      " length:10\n",
      "Audio too short, fail to add watermark\n",
      "Cloned Voice Generated!\n"
     ]
    },
    {
     "name": "stderr",
     "output_type": "stream",
     "text": [
      "/opt/anaconda3/envs/openvoice/lib/python3.9/site-packages/torch/nn/utils/weight_norm.py:28: UserWarning: torch.nn.utils.weight_norm is deprecated in favor of torch.nn.utils.parametrizations.weight_norm.\n",
      "  warnings.warn(\"torch.nn.utils.weight_norm is deprecated in favor of torch.nn.utils.parametrizations.weight_norm.\")\n"
     ]
    },
    {
     "name": "stdout",
     "output_type": "stream",
     "text": [
      "Loaded checkpoint 'checkpoints/base_speakers/EN/checkpoint.pth'\n",
      "missing/unexpected keys: [] []\n",
      "Loaded checkpoint 'checkpoints/converter/checkpoint.pth'\n",
      "missing/unexpected keys: [] []\n",
      "OpenVoice version: v1\n",
      "[(0.0, 19.278375)]\n",
      "after vad: dur = 19.27798185941043\n",
      " > Text splitted to sentences.\n",
      "I love u\n",
      " > ===========================\n",
      "aɪ ləv ju.\n",
      " length:10\n",
      " length:10\n",
      "Audio too short, fail to add watermark\n",
      "Cloned Voice Generated!\n"
     ]
    },
    {
     "name": "stderr",
     "output_type": "stream",
     "text": [
      "/opt/anaconda3/envs/openvoice/lib/python3.9/site-packages/torch/nn/utils/weight_norm.py:28: UserWarning: torch.nn.utils.weight_norm is deprecated in favor of torch.nn.utils.parametrizations.weight_norm.\n",
      "  warnings.warn(\"torch.nn.utils.weight_norm is deprecated in favor of torch.nn.utils.parametrizations.weight_norm.\")\n"
     ]
    },
    {
     "name": "stdout",
     "output_type": "stream",
     "text": [
      "Loaded checkpoint 'checkpoints/base_speakers/EN/checkpoint.pth'\n",
      "missing/unexpected keys: [] []\n",
      "Loaded checkpoint 'checkpoints/converter/checkpoint.pth'\n",
      "missing/unexpected keys: [] []\n",
      "OpenVoice version: v1\n",
      "[(0.0, 19.278375)]\n",
      "after vad: dur = 19.27798185941043\n",
      " > Text splitted to sentences.\n",
      "I love u\n",
      " > ===========================\n",
      "aɪ ləv ju.\n",
      " length:10\n",
      " length:10\n",
      "Audio too short, fail to add watermark\n",
      "Cloned Voice Generated!\n"
     ]
    },
    {
     "name": "stderr",
     "output_type": "stream",
     "text": [
      "/opt/anaconda3/envs/openvoice/lib/python3.9/site-packages/torch/nn/utils/weight_norm.py:28: UserWarning: torch.nn.utils.weight_norm is deprecated in favor of torch.nn.utils.parametrizations.weight_norm.\n",
      "  warnings.warn(\"torch.nn.utils.weight_norm is deprecated in favor of torch.nn.utils.parametrizations.weight_norm.\")\n"
     ]
    },
    {
     "name": "stdout",
     "output_type": "stream",
     "text": [
      "Loaded checkpoint 'checkpoints/base_speakers/EN/checkpoint.pth'\n",
      "missing/unexpected keys: [] []\n",
      "Loaded checkpoint 'checkpoints/converter/checkpoint.pth'\n",
      "missing/unexpected keys: [] []\n",
      "OpenVoice version: v1\n",
      "[(0.0, 19.278375)]\n",
      "after vad: dur = 19.27798185941043\n",
      " > Text splitted to sentences.\n",
      "I love u\n",
      " > ===========================\n",
      "aɪ ləv ju.\n",
      " length:10\n",
      " length:10\n",
      "Audio too short, fail to add watermark\n",
      "Cloned Voice Generated!\n",
      "Execution times:\n",
      "Iteration 1: 2.6441 seconds\n",
      "Iteration 2: 2.3891 seconds\n",
      "Iteration 3: 2.5223 seconds\n",
      "Iteration 4: 2.3600 seconds\n",
      "Iteration 5: 2.4951 seconds\n",
      "Iteration 6: 2.5310 seconds\n",
      "Iteration 7: 2.4067 seconds\n",
      "Iteration 8: 2.8204 seconds\n",
      "Iteration 9: 2.3816 seconds\n",
      "Iteration 10: 2.3885 seconds\n"
     ]
    }
   ],
   "source": [
    "execution_times = []\n",
    "\n",
    "for _ in range(10):\n",
    "    start_time = time.time()\n",
    "    generate_cloned_voice(\"resources/demo_speaker0.mp3\",\"I love u\")\n",
    "    end_time = time.time()\n",
    "    execution_time = end_time - start_time\n",
    "    execution_times.append(execution_time)\n",
    "\n",
    "print(\"Execution times:\")\n",
    "for i, time in enumerate(execution_times, 1):\n",
    "    print(f\"Iteration {i}: {time:.4f} seconds\")"
   ]
  },
  {
   "cell_type": "markdown",
   "metadata": {},
   "source": [
    "Therefore, to to reduce invariance, the same voice cloning process will be execueted 10 times and we will get the avaverge of that"
   ]
  },
  {
   "cell_type": "code",
   "execution_count": 9,
   "metadata": {},
   "outputs": [],
   "source": [
    "import time\n",
    "import statistics\n",
    "def avg_execution_time(reference_speaker_path, inputtext):\n",
    "    execution_times = []\n",
    "\n",
    "    for _ in range(10):\n",
    "        start_time = time.time()\n",
    "        generate_cloned_voice(reference_speaker_path, inputtext)\n",
    "        end_time = time.time()\n",
    "        execution_time = end_time - start_time\n",
    "        execution_times.append(execution_time)\n",
    "    average_time = statistics.mean(execution_times)\n",
    "    return average_time\n"
   ]
  },
  {
   "cell_type": "markdown",
   "metadata": {},
   "source": [
    "### Trial one: Different output length vs execution time ###\n"
   ]
  },
  {
   "cell_type": "code",
   "execution_count": 11,
   "metadata": {},
   "outputs": [
    {
     "name": "stderr",
     "output_type": "stream",
     "text": [
      "/opt/anaconda3/envs/openvoice/lib/python3.9/site-packages/torch/nn/utils/weight_norm.py:28: UserWarning: torch.nn.utils.weight_norm is deprecated in favor of torch.nn.utils.parametrizations.weight_norm.\n",
      "  warnings.warn(\"torch.nn.utils.weight_norm is deprecated in favor of torch.nn.utils.parametrizations.weight_norm.\")\n"
     ]
    },
    {
     "name": "stdout",
     "output_type": "stream",
     "text": [
      "Loaded checkpoint 'checkpoints/base_speakers/EN/checkpoint.pth'\n",
      "missing/unexpected keys: [] []\n",
      "Loaded checkpoint 'checkpoints/converter/checkpoint.pth'\n",
      "missing/unexpected keys: [] []\n",
      "OpenVoice version: v1\n",
      "[(0.0, 19.278375)]\n",
      "after vad: dur = 19.27798185941043\n",
      " > Text splitted to sentences.\n",
      "I love u\n",
      " > ===========================\n",
      "aɪ ləv ju.\n",
      " length:10\n",
      " length:10\n",
      "Audio too short, fail to add watermark\n",
      "Cloned Voice Generated!\n"
     ]
    },
    {
     "name": "stderr",
     "output_type": "stream",
     "text": [
      "/opt/anaconda3/envs/openvoice/lib/python3.9/site-packages/torch/nn/utils/weight_norm.py:28: UserWarning: torch.nn.utils.weight_norm is deprecated in favor of torch.nn.utils.parametrizations.weight_norm.\n",
      "  warnings.warn(\"torch.nn.utils.weight_norm is deprecated in favor of torch.nn.utils.parametrizations.weight_norm.\")\n"
     ]
    },
    {
     "name": "stdout",
     "output_type": "stream",
     "text": [
      "Loaded checkpoint 'checkpoints/base_speakers/EN/checkpoint.pth'\n",
      "missing/unexpected keys: [] []\n",
      "Loaded checkpoint 'checkpoints/converter/checkpoint.pth'\n",
      "missing/unexpected keys: [] []\n",
      "OpenVoice version: v1\n",
      "[(0.0, 19.278375)]\n",
      "after vad: dur = 19.27798185941043\n",
      " > Text splitted to sentences.\n",
      "I love u\n",
      " > ===========================\n",
      "aɪ ləv ju.\n",
      " length:10\n",
      " length:10\n",
      "Audio too short, fail to add watermark\n",
      "Cloned Voice Generated!\n"
     ]
    },
    {
     "name": "stderr",
     "output_type": "stream",
     "text": [
      "/opt/anaconda3/envs/openvoice/lib/python3.9/site-packages/torch/nn/utils/weight_norm.py:28: UserWarning: torch.nn.utils.weight_norm is deprecated in favor of torch.nn.utils.parametrizations.weight_norm.\n",
      "  warnings.warn(\"torch.nn.utils.weight_norm is deprecated in favor of torch.nn.utils.parametrizations.weight_norm.\")\n"
     ]
    },
    {
     "name": "stdout",
     "output_type": "stream",
     "text": [
      "Loaded checkpoint 'checkpoints/base_speakers/EN/checkpoint.pth'\n",
      "missing/unexpected keys: [] []\n",
      "Loaded checkpoint 'checkpoints/converter/checkpoint.pth'\n",
      "missing/unexpected keys: [] []\n",
      "OpenVoice version: v1\n",
      "[(0.0, 19.278375)]\n",
      "after vad: dur = 19.27798185941043\n",
      " > Text splitted to sentences.\n",
      "I love u\n",
      " > ===========================\n",
      "aɪ ləv ju.\n",
      " length:10\n",
      " length:10\n",
      "Audio too short, fail to add watermark\n",
      "Cloned Voice Generated!\n"
     ]
    },
    {
     "name": "stderr",
     "output_type": "stream",
     "text": [
      "/opt/anaconda3/envs/openvoice/lib/python3.9/site-packages/torch/nn/utils/weight_norm.py:28: UserWarning: torch.nn.utils.weight_norm is deprecated in favor of torch.nn.utils.parametrizations.weight_norm.\n",
      "  warnings.warn(\"torch.nn.utils.weight_norm is deprecated in favor of torch.nn.utils.parametrizations.weight_norm.\")\n"
     ]
    },
    {
     "name": "stdout",
     "output_type": "stream",
     "text": [
      "Loaded checkpoint 'checkpoints/base_speakers/EN/checkpoint.pth'\n",
      "missing/unexpected keys: [] []\n",
      "Loaded checkpoint 'checkpoints/converter/checkpoint.pth'\n",
      "missing/unexpected keys: [] []\n",
      "OpenVoice version: v1\n",
      "[(0.0, 19.278375)]\n",
      "after vad: dur = 19.27798185941043\n",
      " > Text splitted to sentences.\n",
      "I love u\n",
      " > ===========================\n",
      "aɪ ləv ju.\n",
      " length:10\n",
      " length:10\n",
      "Audio too short, fail to add watermark\n",
      "Cloned Voice Generated!\n"
     ]
    },
    {
     "name": "stderr",
     "output_type": "stream",
     "text": [
      "/opt/anaconda3/envs/openvoice/lib/python3.9/site-packages/torch/nn/utils/weight_norm.py:28: UserWarning: torch.nn.utils.weight_norm is deprecated in favor of torch.nn.utils.parametrizations.weight_norm.\n",
      "  warnings.warn(\"torch.nn.utils.weight_norm is deprecated in favor of torch.nn.utils.parametrizations.weight_norm.\")\n"
     ]
    },
    {
     "name": "stdout",
     "output_type": "stream",
     "text": [
      "Loaded checkpoint 'checkpoints/base_speakers/EN/checkpoint.pth'\n",
      "missing/unexpected keys: [] []\n",
      "Loaded checkpoint 'checkpoints/converter/checkpoint.pth'\n",
      "missing/unexpected keys: [] []\n",
      "OpenVoice version: v1\n",
      "[(0.0, 19.278375)]\n",
      "after vad: dur = 19.27798185941043\n",
      " > Text splitted to sentences.\n",
      "I love u\n",
      " > ===========================\n",
      "aɪ ləv ju.\n",
      " length:10\n",
      " length:10\n",
      "Audio too short, fail to add watermark\n",
      "Cloned Voice Generated!\n"
     ]
    },
    {
     "name": "stderr",
     "output_type": "stream",
     "text": [
      "/opt/anaconda3/envs/openvoice/lib/python3.9/site-packages/torch/nn/utils/weight_norm.py:28: UserWarning: torch.nn.utils.weight_norm is deprecated in favor of torch.nn.utils.parametrizations.weight_norm.\n",
      "  warnings.warn(\"torch.nn.utils.weight_norm is deprecated in favor of torch.nn.utils.parametrizations.weight_norm.\")\n"
     ]
    },
    {
     "name": "stdout",
     "output_type": "stream",
     "text": [
      "Loaded checkpoint 'checkpoints/base_speakers/EN/checkpoint.pth'\n",
      "missing/unexpected keys: [] []\n",
      "Loaded checkpoint 'checkpoints/converter/checkpoint.pth'\n",
      "missing/unexpected keys: [] []\n",
      "OpenVoice version: v1\n",
      "[(0.0, 19.278375)]\n",
      "after vad: dur = 19.27798185941043\n",
      " > Text splitted to sentences.\n",
      "I love u\n",
      " > ===========================\n",
      "aɪ ləv ju.\n",
      " length:10\n",
      " length:10\n",
      "Audio too short, fail to add watermark\n",
      "Cloned Voice Generated!\n"
     ]
    },
    {
     "name": "stderr",
     "output_type": "stream",
     "text": [
      "/opt/anaconda3/envs/openvoice/lib/python3.9/site-packages/torch/nn/utils/weight_norm.py:28: UserWarning: torch.nn.utils.weight_norm is deprecated in favor of torch.nn.utils.parametrizations.weight_norm.\n",
      "  warnings.warn(\"torch.nn.utils.weight_norm is deprecated in favor of torch.nn.utils.parametrizations.weight_norm.\")\n"
     ]
    },
    {
     "name": "stdout",
     "output_type": "stream",
     "text": [
      "Loaded checkpoint 'checkpoints/base_speakers/EN/checkpoint.pth'\n",
      "missing/unexpected keys: [] []\n",
      "Loaded checkpoint 'checkpoints/converter/checkpoint.pth'\n",
      "missing/unexpected keys: [] []\n",
      "OpenVoice version: v1\n",
      "[(0.0, 19.278375)]\n",
      "after vad: dur = 19.27798185941043\n",
      " > Text splitted to sentences.\n",
      "I love u\n",
      " > ===========================\n",
      "aɪ ləv ju.\n",
      " length:10\n",
      " length:10\n",
      "Audio too short, fail to add watermark\n",
      "Cloned Voice Generated!\n"
     ]
    },
    {
     "name": "stderr",
     "output_type": "stream",
     "text": [
      "/opt/anaconda3/envs/openvoice/lib/python3.9/site-packages/torch/nn/utils/weight_norm.py:28: UserWarning: torch.nn.utils.weight_norm is deprecated in favor of torch.nn.utils.parametrizations.weight_norm.\n",
      "  warnings.warn(\"torch.nn.utils.weight_norm is deprecated in favor of torch.nn.utils.parametrizations.weight_norm.\")\n"
     ]
    },
    {
     "name": "stdout",
     "output_type": "stream",
     "text": [
      "Loaded checkpoint 'checkpoints/base_speakers/EN/checkpoint.pth'\n",
      "missing/unexpected keys: [] []\n",
      "Loaded checkpoint 'checkpoints/converter/checkpoint.pth'\n",
      "missing/unexpected keys: [] []\n",
      "OpenVoice version: v1\n",
      "[(0.0, 19.278375)]\n",
      "after vad: dur = 19.27798185941043\n",
      " > Text splitted to sentences.\n",
      "I love u\n",
      " > ===========================\n",
      "aɪ ləv ju.\n",
      " length:10\n",
      " length:10\n",
      "Audio too short, fail to add watermark\n",
      "Cloned Voice Generated!\n"
     ]
    },
    {
     "name": "stderr",
     "output_type": "stream",
     "text": [
      "/opt/anaconda3/envs/openvoice/lib/python3.9/site-packages/torch/nn/utils/weight_norm.py:28: UserWarning: torch.nn.utils.weight_norm is deprecated in favor of torch.nn.utils.parametrizations.weight_norm.\n",
      "  warnings.warn(\"torch.nn.utils.weight_norm is deprecated in favor of torch.nn.utils.parametrizations.weight_norm.\")\n"
     ]
    },
    {
     "name": "stdout",
     "output_type": "stream",
     "text": [
      "Loaded checkpoint 'checkpoints/base_speakers/EN/checkpoint.pth'\n",
      "missing/unexpected keys: [] []\n",
      "Loaded checkpoint 'checkpoints/converter/checkpoint.pth'\n",
      "missing/unexpected keys: [] []\n",
      "OpenVoice version: v1\n",
      "[(0.0, 19.278375)]\n",
      "after vad: dur = 19.27798185941043\n",
      " > Text splitted to sentences.\n",
      "I love u\n",
      " > ===========================\n",
      "aɪ ləv ju.\n",
      " length:10\n",
      " length:10\n",
      "Audio too short, fail to add watermark\n",
      "Cloned Voice Generated!\n"
     ]
    },
    {
     "name": "stderr",
     "output_type": "stream",
     "text": [
      "/opt/anaconda3/envs/openvoice/lib/python3.9/site-packages/torch/nn/utils/weight_norm.py:28: UserWarning: torch.nn.utils.weight_norm is deprecated in favor of torch.nn.utils.parametrizations.weight_norm.\n",
      "  warnings.warn(\"torch.nn.utils.weight_norm is deprecated in favor of torch.nn.utils.parametrizations.weight_norm.\")\n"
     ]
    },
    {
     "name": "stdout",
     "output_type": "stream",
     "text": [
      "Loaded checkpoint 'checkpoints/base_speakers/EN/checkpoint.pth'\n",
      "missing/unexpected keys: [] []\n",
      "Loaded checkpoint 'checkpoints/converter/checkpoint.pth'\n",
      "missing/unexpected keys: [] []\n",
      "OpenVoice version: v1\n",
      "[(0.0, 19.278375)]\n",
      "after vad: dur = 19.27798185941043\n",
      " > Text splitted to sentences.\n",
      "I love u\n",
      " > ===========================\n",
      "aɪ ləv ju.\n",
      " length:10\n",
      " length:10\n",
      "Audio too short, fail to add watermark\n",
      "Cloned Voice Generated!\n"
     ]
    },
    {
     "name": "stderr",
     "output_type": "stream",
     "text": [
      "/opt/anaconda3/envs/openvoice/lib/python3.9/site-packages/torch/nn/utils/weight_norm.py:28: UserWarning: torch.nn.utils.weight_norm is deprecated in favor of torch.nn.utils.parametrizations.weight_norm.\n",
      "  warnings.warn(\"torch.nn.utils.weight_norm is deprecated in favor of torch.nn.utils.parametrizations.weight_norm.\")\n"
     ]
    },
    {
     "name": "stdout",
     "output_type": "stream",
     "text": [
      "Loaded checkpoint 'checkpoints/base_speakers/EN/checkpoint.pth'\n",
      "missing/unexpected keys: [] []\n",
      "Loaded checkpoint 'checkpoints/converter/checkpoint.pth'\n",
      "missing/unexpected keys: [] []\n",
      "OpenVoice version: v1\n",
      "[(0.0, 19.278375)]\n",
      "after vad: dur = 19.27798185941043\n",
      " > Text splitted to sentences.\n",
      "I love uI love uI love uI love uI love u\n",
      " > ===========================\n",
      "aɪ ləv ju aɪ ləv ju aɪ ləv ju aɪ ləv ju aɪ ləv ju.\n",
      " length:50\n",
      " length:50\n",
      "Cloned Voice Generated!\n"
     ]
    },
    {
     "name": "stderr",
     "output_type": "stream",
     "text": [
      "/opt/anaconda3/envs/openvoice/lib/python3.9/site-packages/torch/nn/utils/weight_norm.py:28: UserWarning: torch.nn.utils.weight_norm is deprecated in favor of torch.nn.utils.parametrizations.weight_norm.\n",
      "  warnings.warn(\"torch.nn.utils.weight_norm is deprecated in favor of torch.nn.utils.parametrizations.weight_norm.\")\n"
     ]
    },
    {
     "name": "stdout",
     "output_type": "stream",
     "text": [
      "Loaded checkpoint 'checkpoints/base_speakers/EN/checkpoint.pth'\n",
      "missing/unexpected keys: [] []\n",
      "Loaded checkpoint 'checkpoints/converter/checkpoint.pth'\n",
      "missing/unexpected keys: [] []\n",
      "OpenVoice version: v1\n",
      "[(0.0, 19.278375)]\n",
      "after vad: dur = 19.27798185941043\n",
      " > Text splitted to sentences.\n",
      "I love uI love uI love uI love uI love u\n",
      " > ===========================\n",
      "aɪ ləv ju aɪ ləv ju aɪ ləv ju aɪ ləv ju aɪ ləv ju.\n",
      " length:50\n",
      " length:50\n",
      "Cloned Voice Generated!\n"
     ]
    },
    {
     "name": "stderr",
     "output_type": "stream",
     "text": [
      "/opt/anaconda3/envs/openvoice/lib/python3.9/site-packages/torch/nn/utils/weight_norm.py:28: UserWarning: torch.nn.utils.weight_norm is deprecated in favor of torch.nn.utils.parametrizations.weight_norm.\n",
      "  warnings.warn(\"torch.nn.utils.weight_norm is deprecated in favor of torch.nn.utils.parametrizations.weight_norm.\")\n"
     ]
    },
    {
     "name": "stdout",
     "output_type": "stream",
     "text": [
      "Loaded checkpoint 'checkpoints/base_speakers/EN/checkpoint.pth'\n",
      "missing/unexpected keys: [] []\n",
      "Loaded checkpoint 'checkpoints/converter/checkpoint.pth'\n",
      "missing/unexpected keys: [] []\n",
      "OpenVoice version: v1\n",
      "[(0.0, 19.278375)]\n",
      "after vad: dur = 19.27798185941043\n",
      " > Text splitted to sentences.\n",
      "I love uI love uI love uI love uI love u\n",
      " > ===========================\n",
      "aɪ ləv ju aɪ ləv ju aɪ ləv ju aɪ ləv ju aɪ ləv ju.\n",
      " length:50\n",
      " length:50\n",
      "Cloned Voice Generated!\n"
     ]
    },
    {
     "name": "stderr",
     "output_type": "stream",
     "text": [
      "/opt/anaconda3/envs/openvoice/lib/python3.9/site-packages/torch/nn/utils/weight_norm.py:28: UserWarning: torch.nn.utils.weight_norm is deprecated in favor of torch.nn.utils.parametrizations.weight_norm.\n",
      "  warnings.warn(\"torch.nn.utils.weight_norm is deprecated in favor of torch.nn.utils.parametrizations.weight_norm.\")\n"
     ]
    },
    {
     "name": "stdout",
     "output_type": "stream",
     "text": [
      "Loaded checkpoint 'checkpoints/base_speakers/EN/checkpoint.pth'\n",
      "missing/unexpected keys: [] []\n",
      "Loaded checkpoint 'checkpoints/converter/checkpoint.pth'\n",
      "missing/unexpected keys: [] []\n",
      "OpenVoice version: v1\n",
      "[(0.0, 19.278375)]\n",
      "after vad: dur = 19.27798185941043\n",
      " > Text splitted to sentences.\n",
      "I love uI love uI love uI love uI love u\n",
      " > ===========================\n",
      "aɪ ləv ju aɪ ləv ju aɪ ləv ju aɪ ləv ju aɪ ləv ju.\n",
      " length:50\n",
      " length:50\n",
      "Cloned Voice Generated!\n"
     ]
    },
    {
     "name": "stderr",
     "output_type": "stream",
     "text": [
      "/opt/anaconda3/envs/openvoice/lib/python3.9/site-packages/torch/nn/utils/weight_norm.py:28: UserWarning: torch.nn.utils.weight_norm is deprecated in favor of torch.nn.utils.parametrizations.weight_norm.\n",
      "  warnings.warn(\"torch.nn.utils.weight_norm is deprecated in favor of torch.nn.utils.parametrizations.weight_norm.\")\n"
     ]
    },
    {
     "name": "stdout",
     "output_type": "stream",
     "text": [
      "Loaded checkpoint 'checkpoints/base_speakers/EN/checkpoint.pth'\n",
      "missing/unexpected keys: [] []\n",
      "Loaded checkpoint 'checkpoints/converter/checkpoint.pth'\n",
      "missing/unexpected keys: [] []\n",
      "OpenVoice version: v1\n",
      "[(0.0, 19.278375)]\n",
      "after vad: dur = 19.27798185941043\n",
      " > Text splitted to sentences.\n",
      "I love uI love uI love uI love uI love u\n",
      " > ===========================\n",
      "aɪ ləv ju aɪ ləv ju aɪ ləv ju aɪ ləv ju aɪ ləv ju.\n",
      " length:50\n",
      " length:50\n",
      "Cloned Voice Generated!\n"
     ]
    },
    {
     "name": "stderr",
     "output_type": "stream",
     "text": [
      "/opt/anaconda3/envs/openvoice/lib/python3.9/site-packages/torch/nn/utils/weight_norm.py:28: UserWarning: torch.nn.utils.weight_norm is deprecated in favor of torch.nn.utils.parametrizations.weight_norm.\n",
      "  warnings.warn(\"torch.nn.utils.weight_norm is deprecated in favor of torch.nn.utils.parametrizations.weight_norm.\")\n"
     ]
    },
    {
     "name": "stdout",
     "output_type": "stream",
     "text": [
      "Loaded checkpoint 'checkpoints/base_speakers/EN/checkpoint.pth'\n",
      "missing/unexpected keys: [] []\n",
      "Loaded checkpoint 'checkpoints/converter/checkpoint.pth'\n",
      "missing/unexpected keys: [] []\n",
      "OpenVoice version: v1\n",
      "[(0.0, 19.278375)]\n",
      "after vad: dur = 19.27798185941043\n",
      " > Text splitted to sentences.\n",
      "I love uI love uI love uI love uI love u\n",
      " > ===========================\n",
      "aɪ ləv ju aɪ ləv ju aɪ ləv ju aɪ ləv ju aɪ ləv ju.\n",
      " length:50\n",
      " length:50\n",
      "Cloned Voice Generated!\n"
     ]
    },
    {
     "name": "stderr",
     "output_type": "stream",
     "text": [
      "/opt/anaconda3/envs/openvoice/lib/python3.9/site-packages/torch/nn/utils/weight_norm.py:28: UserWarning: torch.nn.utils.weight_norm is deprecated in favor of torch.nn.utils.parametrizations.weight_norm.\n",
      "  warnings.warn(\"torch.nn.utils.weight_norm is deprecated in favor of torch.nn.utils.parametrizations.weight_norm.\")\n"
     ]
    },
    {
     "name": "stdout",
     "output_type": "stream",
     "text": [
      "Loaded checkpoint 'checkpoints/base_speakers/EN/checkpoint.pth'\n",
      "missing/unexpected keys: [] []\n",
      "Loaded checkpoint 'checkpoints/converter/checkpoint.pth'\n",
      "missing/unexpected keys: [] []\n",
      "OpenVoice version: v1\n",
      "[(0.0, 19.278375)]\n",
      "after vad: dur = 19.27798185941043\n",
      " > Text splitted to sentences.\n",
      "I love uI love uI love uI love uI love u\n",
      " > ===========================\n",
      "aɪ ləv ju aɪ ləv ju aɪ ləv ju aɪ ləv ju aɪ ləv ju.\n",
      " length:50\n",
      " length:50\n",
      "Cloned Voice Generated!\n"
     ]
    },
    {
     "name": "stderr",
     "output_type": "stream",
     "text": [
      "/opt/anaconda3/envs/openvoice/lib/python3.9/site-packages/torch/nn/utils/weight_norm.py:28: UserWarning: torch.nn.utils.weight_norm is deprecated in favor of torch.nn.utils.parametrizations.weight_norm.\n",
      "  warnings.warn(\"torch.nn.utils.weight_norm is deprecated in favor of torch.nn.utils.parametrizations.weight_norm.\")\n"
     ]
    },
    {
     "name": "stdout",
     "output_type": "stream",
     "text": [
      "Loaded checkpoint 'checkpoints/base_speakers/EN/checkpoint.pth'\n",
      "missing/unexpected keys: [] []\n",
      "Loaded checkpoint 'checkpoints/converter/checkpoint.pth'\n",
      "missing/unexpected keys: [] []\n",
      "OpenVoice version: v1\n",
      "[(0.0, 19.278375)]\n",
      "after vad: dur = 19.27798185941043\n",
      " > Text splitted to sentences.\n",
      "I love uI love uI love uI love uI love u\n",
      " > ===========================\n",
      "aɪ ləv ju aɪ ləv ju aɪ ləv ju aɪ ləv ju aɪ ləv ju.\n",
      " length:50\n",
      " length:50\n",
      "Cloned Voice Generated!\n"
     ]
    },
    {
     "name": "stderr",
     "output_type": "stream",
     "text": [
      "/opt/anaconda3/envs/openvoice/lib/python3.9/site-packages/torch/nn/utils/weight_norm.py:28: UserWarning: torch.nn.utils.weight_norm is deprecated in favor of torch.nn.utils.parametrizations.weight_norm.\n",
      "  warnings.warn(\"torch.nn.utils.weight_norm is deprecated in favor of torch.nn.utils.parametrizations.weight_norm.\")\n"
     ]
    },
    {
     "name": "stdout",
     "output_type": "stream",
     "text": [
      "Loaded checkpoint 'checkpoints/base_speakers/EN/checkpoint.pth'\n",
      "missing/unexpected keys: [] []\n",
      "Loaded checkpoint 'checkpoints/converter/checkpoint.pth'\n",
      "missing/unexpected keys: [] []\n",
      "OpenVoice version: v1\n",
      "[(0.0, 19.278375)]\n",
      "after vad: dur = 19.27798185941043\n",
      " > Text splitted to sentences.\n",
      "I love uI love uI love uI love uI love u\n",
      " > ===========================\n",
      "aɪ ləv ju aɪ ləv ju aɪ ləv ju aɪ ləv ju aɪ ləv ju.\n",
      " length:50\n",
      " length:50\n",
      "Cloned Voice Generated!\n"
     ]
    },
    {
     "name": "stderr",
     "output_type": "stream",
     "text": [
      "/opt/anaconda3/envs/openvoice/lib/python3.9/site-packages/torch/nn/utils/weight_norm.py:28: UserWarning: torch.nn.utils.weight_norm is deprecated in favor of torch.nn.utils.parametrizations.weight_norm.\n",
      "  warnings.warn(\"torch.nn.utils.weight_norm is deprecated in favor of torch.nn.utils.parametrizations.weight_norm.\")\n"
     ]
    },
    {
     "name": "stdout",
     "output_type": "stream",
     "text": [
      "Loaded checkpoint 'checkpoints/base_speakers/EN/checkpoint.pth'\n",
      "missing/unexpected keys: [] []\n",
      "Loaded checkpoint 'checkpoints/converter/checkpoint.pth'\n",
      "missing/unexpected keys: [] []\n",
      "OpenVoice version: v1\n",
      "[(0.0, 19.278375)]\n",
      "after vad: dur = 19.27798185941043\n",
      " > Text splitted to sentences.\n",
      "I love uI love uI love uI love uI love u\n",
      " > ===========================\n",
      "aɪ ləv ju aɪ ləv ju aɪ ləv ju aɪ ləv ju aɪ ləv ju.\n",
      " length:50\n",
      " length:50\n",
      "Cloned Voice Generated!\n"
     ]
    },
    {
     "name": "stderr",
     "output_type": "stream",
     "text": [
      "/opt/anaconda3/envs/openvoice/lib/python3.9/site-packages/torch/nn/utils/weight_norm.py:28: UserWarning: torch.nn.utils.weight_norm is deprecated in favor of torch.nn.utils.parametrizations.weight_norm.\n",
      "  warnings.warn(\"torch.nn.utils.weight_norm is deprecated in favor of torch.nn.utils.parametrizations.weight_norm.\")\n"
     ]
    },
    {
     "name": "stdout",
     "output_type": "stream",
     "text": [
      "Loaded checkpoint 'checkpoints/base_speakers/EN/checkpoint.pth'\n",
      "missing/unexpected keys: [] []\n",
      "Loaded checkpoint 'checkpoints/converter/checkpoint.pth'\n",
      "missing/unexpected keys: [] []\n",
      "OpenVoice version: v1\n",
      "[(0.0, 19.278375)]\n",
      "after vad: dur = 19.27798185941043\n",
      " > Text splitted to sentences.\n",
      "I love uI love uI love uI love uI love uI love uI love uI love uI love uI love u\n",
      " > ===========================\n",
      "aɪ ləv ju aɪ ləv ju aɪ ləv ju aɪ ləv ju aɪ ləv ju aɪ ləv ju aɪ ləv ju aɪ ləv ju aɪ ləv ju aɪ ləv ju.\n",
      " length:100\n",
      " length:100\n",
      "Cloned Voice Generated!\n"
     ]
    },
    {
     "name": "stderr",
     "output_type": "stream",
     "text": [
      "/opt/anaconda3/envs/openvoice/lib/python3.9/site-packages/torch/nn/utils/weight_norm.py:28: UserWarning: torch.nn.utils.weight_norm is deprecated in favor of torch.nn.utils.parametrizations.weight_norm.\n",
      "  warnings.warn(\"torch.nn.utils.weight_norm is deprecated in favor of torch.nn.utils.parametrizations.weight_norm.\")\n"
     ]
    },
    {
     "name": "stdout",
     "output_type": "stream",
     "text": [
      "Loaded checkpoint 'checkpoints/base_speakers/EN/checkpoint.pth'\n",
      "missing/unexpected keys: [] []\n",
      "Loaded checkpoint 'checkpoints/converter/checkpoint.pth'\n",
      "missing/unexpected keys: [] []\n",
      "OpenVoice version: v1\n",
      "[(0.0, 19.278375)]\n",
      "after vad: dur = 19.27798185941043\n",
      " > Text splitted to sentences.\n",
      "I love uI love uI love uI love uI love uI love uI love uI love uI love uI love u\n",
      " > ===========================\n",
      "aɪ ləv ju aɪ ləv ju aɪ ləv ju aɪ ləv ju aɪ ləv ju aɪ ləv ju aɪ ləv ju aɪ ləv ju aɪ ləv ju aɪ ləv ju.\n",
      " length:100\n",
      " length:100\n",
      "Cloned Voice Generated!\n"
     ]
    },
    {
     "name": "stderr",
     "output_type": "stream",
     "text": [
      "/opt/anaconda3/envs/openvoice/lib/python3.9/site-packages/torch/nn/utils/weight_norm.py:28: UserWarning: torch.nn.utils.weight_norm is deprecated in favor of torch.nn.utils.parametrizations.weight_norm.\n",
      "  warnings.warn(\"torch.nn.utils.weight_norm is deprecated in favor of torch.nn.utils.parametrizations.weight_norm.\")\n"
     ]
    },
    {
     "name": "stdout",
     "output_type": "stream",
     "text": [
      "Loaded checkpoint 'checkpoints/base_speakers/EN/checkpoint.pth'\n",
      "missing/unexpected keys: [] []\n",
      "Loaded checkpoint 'checkpoints/converter/checkpoint.pth'\n",
      "missing/unexpected keys: [] []\n",
      "OpenVoice version: v1\n",
      "[(0.0, 19.278375)]\n",
      "after vad: dur = 19.27798185941043\n",
      " > Text splitted to sentences.\n",
      "I love uI love uI love uI love uI love uI love uI love uI love uI love uI love u\n",
      " > ===========================\n",
      "aɪ ləv ju aɪ ləv ju aɪ ləv ju aɪ ləv ju aɪ ləv ju aɪ ləv ju aɪ ləv ju aɪ ləv ju aɪ ləv ju aɪ ləv ju.\n",
      " length:100\n",
      " length:100\n",
      "Cloned Voice Generated!\n"
     ]
    },
    {
     "name": "stderr",
     "output_type": "stream",
     "text": [
      "/opt/anaconda3/envs/openvoice/lib/python3.9/site-packages/torch/nn/utils/weight_norm.py:28: UserWarning: torch.nn.utils.weight_norm is deprecated in favor of torch.nn.utils.parametrizations.weight_norm.\n",
      "  warnings.warn(\"torch.nn.utils.weight_norm is deprecated in favor of torch.nn.utils.parametrizations.weight_norm.\")\n"
     ]
    },
    {
     "name": "stdout",
     "output_type": "stream",
     "text": [
      "Loaded checkpoint 'checkpoints/base_speakers/EN/checkpoint.pth'\n",
      "missing/unexpected keys: [] []\n",
      "Loaded checkpoint 'checkpoints/converter/checkpoint.pth'\n",
      "missing/unexpected keys: [] []\n",
      "OpenVoice version: v1\n",
      "[(0.0, 19.278375)]\n",
      "after vad: dur = 19.27798185941043\n",
      " > Text splitted to sentences.\n",
      "I love uI love uI love uI love uI love uI love uI love uI love uI love uI love u\n",
      " > ===========================\n",
      "aɪ ləv ju aɪ ləv ju aɪ ləv ju aɪ ləv ju aɪ ləv ju aɪ ləv ju aɪ ləv ju aɪ ləv ju aɪ ləv ju aɪ ləv ju.\n",
      " length:100\n",
      " length:100\n",
      "Cloned Voice Generated!\n"
     ]
    },
    {
     "name": "stderr",
     "output_type": "stream",
     "text": [
      "/opt/anaconda3/envs/openvoice/lib/python3.9/site-packages/torch/nn/utils/weight_norm.py:28: UserWarning: torch.nn.utils.weight_norm is deprecated in favor of torch.nn.utils.parametrizations.weight_norm.\n",
      "  warnings.warn(\"torch.nn.utils.weight_norm is deprecated in favor of torch.nn.utils.parametrizations.weight_norm.\")\n"
     ]
    },
    {
     "name": "stdout",
     "output_type": "stream",
     "text": [
      "Loaded checkpoint 'checkpoints/base_speakers/EN/checkpoint.pth'\n",
      "missing/unexpected keys: [] []\n",
      "Loaded checkpoint 'checkpoints/converter/checkpoint.pth'\n",
      "missing/unexpected keys: [] []\n",
      "OpenVoice version: v1\n",
      "[(0.0, 19.278375)]\n",
      "after vad: dur = 19.27798185941043\n",
      " > Text splitted to sentences.\n",
      "I love uI love uI love uI love uI love uI love uI love uI love uI love uI love u\n",
      " > ===========================\n",
      "aɪ ləv ju aɪ ləv ju aɪ ləv ju aɪ ləv ju aɪ ləv ju aɪ ləv ju aɪ ləv ju aɪ ləv ju aɪ ləv ju aɪ ləv ju.\n",
      " length:100\n",
      " length:100\n",
      "Cloned Voice Generated!\n"
     ]
    },
    {
     "name": "stderr",
     "output_type": "stream",
     "text": [
      "/opt/anaconda3/envs/openvoice/lib/python3.9/site-packages/torch/nn/utils/weight_norm.py:28: UserWarning: torch.nn.utils.weight_norm is deprecated in favor of torch.nn.utils.parametrizations.weight_norm.\n",
      "  warnings.warn(\"torch.nn.utils.weight_norm is deprecated in favor of torch.nn.utils.parametrizations.weight_norm.\")\n"
     ]
    },
    {
     "name": "stdout",
     "output_type": "stream",
     "text": [
      "Loaded checkpoint 'checkpoints/base_speakers/EN/checkpoint.pth'\n",
      "missing/unexpected keys: [] []\n",
      "Loaded checkpoint 'checkpoints/converter/checkpoint.pth'\n",
      "missing/unexpected keys: [] []\n",
      "OpenVoice version: v1\n",
      "[(0.0, 19.278375)]\n",
      "after vad: dur = 19.27798185941043\n",
      " > Text splitted to sentences.\n",
      "I love uI love uI love uI love uI love uI love uI love uI love uI love uI love u\n",
      " > ===========================\n",
      "aɪ ləv ju aɪ ləv ju aɪ ləv ju aɪ ləv ju aɪ ləv ju aɪ ləv ju aɪ ləv ju aɪ ləv ju aɪ ləv ju aɪ ləv ju.\n",
      " length:100\n",
      " length:100\n",
      "Cloned Voice Generated!\n"
     ]
    },
    {
     "name": "stderr",
     "output_type": "stream",
     "text": [
      "/opt/anaconda3/envs/openvoice/lib/python3.9/site-packages/torch/nn/utils/weight_norm.py:28: UserWarning: torch.nn.utils.weight_norm is deprecated in favor of torch.nn.utils.parametrizations.weight_norm.\n",
      "  warnings.warn(\"torch.nn.utils.weight_norm is deprecated in favor of torch.nn.utils.parametrizations.weight_norm.\")\n"
     ]
    },
    {
     "name": "stdout",
     "output_type": "stream",
     "text": [
      "Loaded checkpoint 'checkpoints/base_speakers/EN/checkpoint.pth'\n",
      "missing/unexpected keys: [] []\n",
      "Loaded checkpoint 'checkpoints/converter/checkpoint.pth'\n",
      "missing/unexpected keys: [] []\n",
      "OpenVoice version: v1\n",
      "[(0.0, 19.278375)]\n",
      "after vad: dur = 19.27798185941043\n",
      " > Text splitted to sentences.\n",
      "I love uI love uI love uI love uI love uI love uI love uI love uI love uI love u\n",
      " > ===========================\n",
      "aɪ ləv ju aɪ ləv ju aɪ ləv ju aɪ ləv ju aɪ ləv ju aɪ ləv ju aɪ ləv ju aɪ ləv ju aɪ ləv ju aɪ ləv ju.\n",
      " length:100\n",
      " length:100\n",
      "Cloned Voice Generated!\n"
     ]
    },
    {
     "name": "stderr",
     "output_type": "stream",
     "text": [
      "/opt/anaconda3/envs/openvoice/lib/python3.9/site-packages/torch/nn/utils/weight_norm.py:28: UserWarning: torch.nn.utils.weight_norm is deprecated in favor of torch.nn.utils.parametrizations.weight_norm.\n",
      "  warnings.warn(\"torch.nn.utils.weight_norm is deprecated in favor of torch.nn.utils.parametrizations.weight_norm.\")\n"
     ]
    },
    {
     "name": "stdout",
     "output_type": "stream",
     "text": [
      "Loaded checkpoint 'checkpoints/base_speakers/EN/checkpoint.pth'\n",
      "missing/unexpected keys: [] []\n",
      "Loaded checkpoint 'checkpoints/converter/checkpoint.pth'\n",
      "missing/unexpected keys: [] []\n",
      "OpenVoice version: v1\n",
      "[(0.0, 19.278375)]\n",
      "after vad: dur = 19.27798185941043\n",
      " > Text splitted to sentences.\n",
      "I love uI love uI love uI love uI love uI love uI love uI love uI love uI love u\n",
      " > ===========================\n",
      "aɪ ləv ju aɪ ləv ju aɪ ləv ju aɪ ləv ju aɪ ləv ju aɪ ləv ju aɪ ləv ju aɪ ləv ju aɪ ləv ju aɪ ləv ju.\n",
      " length:100\n",
      " length:100\n",
      "Cloned Voice Generated!\n"
     ]
    },
    {
     "name": "stderr",
     "output_type": "stream",
     "text": [
      "/opt/anaconda3/envs/openvoice/lib/python3.9/site-packages/torch/nn/utils/weight_norm.py:28: UserWarning: torch.nn.utils.weight_norm is deprecated in favor of torch.nn.utils.parametrizations.weight_norm.\n",
      "  warnings.warn(\"torch.nn.utils.weight_norm is deprecated in favor of torch.nn.utils.parametrizations.weight_norm.\")\n"
     ]
    },
    {
     "name": "stdout",
     "output_type": "stream",
     "text": [
      "Loaded checkpoint 'checkpoints/base_speakers/EN/checkpoint.pth'\n",
      "missing/unexpected keys: [] []\n",
      "Loaded checkpoint 'checkpoints/converter/checkpoint.pth'\n",
      "missing/unexpected keys: [] []\n",
      "OpenVoice version: v1\n",
      "[(0.0, 19.278375)]\n",
      "after vad: dur = 19.27798185941043\n",
      " > Text splitted to sentences.\n",
      "I love uI love uI love uI love uI love uI love uI love uI love uI love uI love u\n",
      " > ===========================\n",
      "aɪ ləv ju aɪ ləv ju aɪ ləv ju aɪ ləv ju aɪ ləv ju aɪ ləv ju aɪ ləv ju aɪ ləv ju aɪ ləv ju aɪ ləv ju.\n",
      " length:100\n",
      " length:100\n",
      "Cloned Voice Generated!\n"
     ]
    },
    {
     "name": "stderr",
     "output_type": "stream",
     "text": [
      "/opt/anaconda3/envs/openvoice/lib/python3.9/site-packages/torch/nn/utils/weight_norm.py:28: UserWarning: torch.nn.utils.weight_norm is deprecated in favor of torch.nn.utils.parametrizations.weight_norm.\n",
      "  warnings.warn(\"torch.nn.utils.weight_norm is deprecated in favor of torch.nn.utils.parametrizations.weight_norm.\")\n"
     ]
    },
    {
     "name": "stdout",
     "output_type": "stream",
     "text": [
      "Loaded checkpoint 'checkpoints/base_speakers/EN/checkpoint.pth'\n",
      "missing/unexpected keys: [] []\n",
      "Loaded checkpoint 'checkpoints/converter/checkpoint.pth'\n",
      "missing/unexpected keys: [] []\n",
      "OpenVoice version: v1\n",
      "[(0.0, 19.278375)]\n",
      "after vad: dur = 19.27798185941043\n",
      " > Text splitted to sentences.\n",
      "I love uI love uI love uI love uI love uI love uI love uI love uI love uI love u\n",
      " > ===========================\n",
      "aɪ ləv ju aɪ ləv ju aɪ ləv ju aɪ ləv ju aɪ ləv ju aɪ ləv ju aɪ ləv ju aɪ ləv ju aɪ ləv ju aɪ ləv ju.\n",
      " length:100\n",
      " length:100\n",
      "Cloned Voice Generated!\n"
     ]
    },
    {
     "name": "stderr",
     "output_type": "stream",
     "text": [
      "/opt/anaconda3/envs/openvoice/lib/python3.9/site-packages/torch/nn/utils/weight_norm.py:28: UserWarning: torch.nn.utils.weight_norm is deprecated in favor of torch.nn.utils.parametrizations.weight_norm.\n",
      "  warnings.warn(\"torch.nn.utils.weight_norm is deprecated in favor of torch.nn.utils.parametrizations.weight_norm.\")\n"
     ]
    },
    {
     "name": "stdout",
     "output_type": "stream",
     "text": [
      "Loaded checkpoint 'checkpoints/base_speakers/EN/checkpoint.pth'\n",
      "missing/unexpected keys: [] []\n",
      "Loaded checkpoint 'checkpoints/converter/checkpoint.pth'\n",
      "missing/unexpected keys: [] []\n",
      "OpenVoice version: v1\n",
      "[(0.0, 19.278375)]\n",
      "after vad: dur = 19.27798185941043\n",
      " > Text splitted to sentences.\n",
      "I love uI love uI love uI love uI love uI love uI love uI love uI love uI love uI love uI love uI love uI love uI love u\n",
      " > ===========================\n",
      "aɪ ləv ju aɪ ləv ju aɪ ləv ju aɪ ləv ju aɪ ləv ju aɪ ləv ju aɪ ləv ju aɪ ləv ju aɪ ləv ju aɪ ləv ju aɪ ləv ju aɪ ləv ju aɪ ləv ju aɪ ləv ju aɪ ləv ju.\n",
      " length:150\n",
      " length:150\n",
      "Cloned Voice Generated!\n"
     ]
    },
    {
     "name": "stderr",
     "output_type": "stream",
     "text": [
      "/opt/anaconda3/envs/openvoice/lib/python3.9/site-packages/torch/nn/utils/weight_norm.py:28: UserWarning: torch.nn.utils.weight_norm is deprecated in favor of torch.nn.utils.parametrizations.weight_norm.\n",
      "  warnings.warn(\"torch.nn.utils.weight_norm is deprecated in favor of torch.nn.utils.parametrizations.weight_norm.\")\n"
     ]
    },
    {
     "name": "stdout",
     "output_type": "stream",
     "text": [
      "Loaded checkpoint 'checkpoints/base_speakers/EN/checkpoint.pth'\n",
      "missing/unexpected keys: [] []\n",
      "Loaded checkpoint 'checkpoints/converter/checkpoint.pth'\n",
      "missing/unexpected keys: [] []\n",
      "OpenVoice version: v1\n",
      "[(0.0, 19.278375)]\n",
      "after vad: dur = 19.27798185941043\n",
      " > Text splitted to sentences.\n",
      "I love uI love uI love uI love uI love uI love uI love uI love uI love uI love uI love uI love uI love uI love uI love u\n",
      " > ===========================\n",
      "aɪ ləv ju aɪ ləv ju aɪ ləv ju aɪ ləv ju aɪ ləv ju aɪ ləv ju aɪ ləv ju aɪ ləv ju aɪ ləv ju aɪ ləv ju aɪ ləv ju aɪ ləv ju aɪ ləv ju aɪ ləv ju aɪ ləv ju.\n",
      " length:150\n",
      " length:150\n",
      "Cloned Voice Generated!\n"
     ]
    },
    {
     "name": "stderr",
     "output_type": "stream",
     "text": [
      "/opt/anaconda3/envs/openvoice/lib/python3.9/site-packages/torch/nn/utils/weight_norm.py:28: UserWarning: torch.nn.utils.weight_norm is deprecated in favor of torch.nn.utils.parametrizations.weight_norm.\n",
      "  warnings.warn(\"torch.nn.utils.weight_norm is deprecated in favor of torch.nn.utils.parametrizations.weight_norm.\")\n"
     ]
    },
    {
     "name": "stdout",
     "output_type": "stream",
     "text": [
      "Loaded checkpoint 'checkpoints/base_speakers/EN/checkpoint.pth'\n",
      "missing/unexpected keys: [] []\n",
      "Loaded checkpoint 'checkpoints/converter/checkpoint.pth'\n",
      "missing/unexpected keys: [] []\n",
      "OpenVoice version: v1\n",
      "[(0.0, 19.278375)]\n",
      "after vad: dur = 19.27798185941043\n",
      " > Text splitted to sentences.\n",
      "I love uI love uI love uI love uI love uI love uI love uI love uI love uI love uI love uI love uI love uI love uI love u\n",
      " > ===========================\n",
      "aɪ ləv ju aɪ ləv ju aɪ ləv ju aɪ ləv ju aɪ ləv ju aɪ ləv ju aɪ ləv ju aɪ ləv ju aɪ ləv ju aɪ ləv ju aɪ ləv ju aɪ ləv ju aɪ ləv ju aɪ ləv ju aɪ ləv ju.\n",
      " length:150\n",
      " length:150\n",
      "Cloned Voice Generated!\n"
     ]
    },
    {
     "name": "stderr",
     "output_type": "stream",
     "text": [
      "/opt/anaconda3/envs/openvoice/lib/python3.9/site-packages/torch/nn/utils/weight_norm.py:28: UserWarning: torch.nn.utils.weight_norm is deprecated in favor of torch.nn.utils.parametrizations.weight_norm.\n",
      "  warnings.warn(\"torch.nn.utils.weight_norm is deprecated in favor of torch.nn.utils.parametrizations.weight_norm.\")\n"
     ]
    },
    {
     "name": "stdout",
     "output_type": "stream",
     "text": [
      "Loaded checkpoint 'checkpoints/base_speakers/EN/checkpoint.pth'\n",
      "missing/unexpected keys: [] []\n",
      "Loaded checkpoint 'checkpoints/converter/checkpoint.pth'\n",
      "missing/unexpected keys: [] []\n",
      "OpenVoice version: v1\n",
      "[(0.0, 19.278375)]\n",
      "after vad: dur = 19.27798185941043\n",
      " > Text splitted to sentences.\n",
      "I love uI love uI love uI love uI love uI love uI love uI love uI love uI love uI love uI love uI love uI love uI love u\n",
      " > ===========================\n",
      "aɪ ləv ju aɪ ləv ju aɪ ləv ju aɪ ləv ju aɪ ləv ju aɪ ləv ju aɪ ləv ju aɪ ləv ju aɪ ləv ju aɪ ləv ju aɪ ləv ju aɪ ləv ju aɪ ləv ju aɪ ləv ju aɪ ləv ju.\n",
      " length:150\n",
      " length:150\n",
      "Cloned Voice Generated!\n"
     ]
    },
    {
     "name": "stderr",
     "output_type": "stream",
     "text": [
      "/opt/anaconda3/envs/openvoice/lib/python3.9/site-packages/torch/nn/utils/weight_norm.py:28: UserWarning: torch.nn.utils.weight_norm is deprecated in favor of torch.nn.utils.parametrizations.weight_norm.\n",
      "  warnings.warn(\"torch.nn.utils.weight_norm is deprecated in favor of torch.nn.utils.parametrizations.weight_norm.\")\n"
     ]
    },
    {
     "name": "stdout",
     "output_type": "stream",
     "text": [
      "Loaded checkpoint 'checkpoints/base_speakers/EN/checkpoint.pth'\n",
      "missing/unexpected keys: [] []\n",
      "Loaded checkpoint 'checkpoints/converter/checkpoint.pth'\n",
      "missing/unexpected keys: [] []\n",
      "OpenVoice version: v1\n",
      "[(0.0, 19.278375)]\n",
      "after vad: dur = 19.27798185941043\n",
      " > Text splitted to sentences.\n",
      "I love uI love uI love uI love uI love uI love uI love uI love uI love uI love uI love uI love uI love uI love uI love u\n",
      " > ===========================\n",
      "aɪ ləv ju aɪ ləv ju aɪ ləv ju aɪ ləv ju aɪ ləv ju aɪ ləv ju aɪ ləv ju aɪ ləv ju aɪ ləv ju aɪ ləv ju aɪ ləv ju aɪ ləv ju aɪ ləv ju aɪ ləv ju aɪ ləv ju.\n",
      " length:150\n",
      " length:150\n",
      "Cloned Voice Generated!\n"
     ]
    },
    {
     "name": "stderr",
     "output_type": "stream",
     "text": [
      "/opt/anaconda3/envs/openvoice/lib/python3.9/site-packages/torch/nn/utils/weight_norm.py:28: UserWarning: torch.nn.utils.weight_norm is deprecated in favor of torch.nn.utils.parametrizations.weight_norm.\n",
      "  warnings.warn(\"torch.nn.utils.weight_norm is deprecated in favor of torch.nn.utils.parametrizations.weight_norm.\")\n"
     ]
    },
    {
     "name": "stdout",
     "output_type": "stream",
     "text": [
      "Loaded checkpoint 'checkpoints/base_speakers/EN/checkpoint.pth'\n",
      "missing/unexpected keys: [] []\n",
      "Loaded checkpoint 'checkpoints/converter/checkpoint.pth'\n",
      "missing/unexpected keys: [] []\n",
      "OpenVoice version: v1\n",
      "[(0.0, 19.278375)]\n",
      "after vad: dur = 19.27798185941043\n",
      " > Text splitted to sentences.\n",
      "I love uI love uI love uI love uI love uI love uI love uI love uI love uI love uI love uI love uI love uI love uI love u\n",
      " > ===========================\n",
      "aɪ ləv ju aɪ ləv ju aɪ ləv ju aɪ ləv ju aɪ ləv ju aɪ ləv ju aɪ ləv ju aɪ ləv ju aɪ ləv ju aɪ ləv ju aɪ ləv ju aɪ ləv ju aɪ ləv ju aɪ ləv ju aɪ ləv ju.\n",
      " length:150\n",
      " length:150\n",
      "Cloned Voice Generated!\n"
     ]
    },
    {
     "name": "stderr",
     "output_type": "stream",
     "text": [
      "/opt/anaconda3/envs/openvoice/lib/python3.9/site-packages/torch/nn/utils/weight_norm.py:28: UserWarning: torch.nn.utils.weight_norm is deprecated in favor of torch.nn.utils.parametrizations.weight_norm.\n",
      "  warnings.warn(\"torch.nn.utils.weight_norm is deprecated in favor of torch.nn.utils.parametrizations.weight_norm.\")\n"
     ]
    },
    {
     "name": "stdout",
     "output_type": "stream",
     "text": [
      "Loaded checkpoint 'checkpoints/base_speakers/EN/checkpoint.pth'\n",
      "missing/unexpected keys: [] []\n",
      "Loaded checkpoint 'checkpoints/converter/checkpoint.pth'\n",
      "missing/unexpected keys: [] []\n",
      "OpenVoice version: v1\n",
      "[(0.0, 19.278375)]\n",
      "after vad: dur = 19.27798185941043\n",
      " > Text splitted to sentences.\n",
      "I love uI love uI love uI love uI love uI love uI love uI love uI love uI love uI love uI love uI love uI love uI love u\n",
      " > ===========================\n",
      "aɪ ləv ju aɪ ləv ju aɪ ləv ju aɪ ləv ju aɪ ləv ju aɪ ləv ju aɪ ləv ju aɪ ləv ju aɪ ləv ju aɪ ləv ju aɪ ləv ju aɪ ləv ju aɪ ləv ju aɪ ləv ju aɪ ləv ju.\n",
      " length:150\n",
      " length:150\n",
      "Cloned Voice Generated!\n"
     ]
    },
    {
     "name": "stderr",
     "output_type": "stream",
     "text": [
      "/opt/anaconda3/envs/openvoice/lib/python3.9/site-packages/torch/nn/utils/weight_norm.py:28: UserWarning: torch.nn.utils.weight_norm is deprecated in favor of torch.nn.utils.parametrizations.weight_norm.\n",
      "  warnings.warn(\"torch.nn.utils.weight_norm is deprecated in favor of torch.nn.utils.parametrizations.weight_norm.\")\n"
     ]
    },
    {
     "name": "stdout",
     "output_type": "stream",
     "text": [
      "Loaded checkpoint 'checkpoints/base_speakers/EN/checkpoint.pth'\n",
      "missing/unexpected keys: [] []\n",
      "Loaded checkpoint 'checkpoints/converter/checkpoint.pth'\n",
      "missing/unexpected keys: [] []\n",
      "OpenVoice version: v1\n",
      "[(0.0, 19.278375)]\n",
      "after vad: dur = 19.27798185941043\n",
      " > Text splitted to sentences.\n",
      "I love uI love uI love uI love uI love uI love uI love uI love uI love uI love uI love uI love uI love uI love uI love u\n",
      " > ===========================\n",
      "aɪ ləv ju aɪ ləv ju aɪ ləv ju aɪ ləv ju aɪ ləv ju aɪ ləv ju aɪ ləv ju aɪ ləv ju aɪ ləv ju aɪ ləv ju aɪ ləv ju aɪ ləv ju aɪ ləv ju aɪ ləv ju aɪ ləv ju.\n",
      " length:150\n",
      " length:150\n",
      "Cloned Voice Generated!\n"
     ]
    },
    {
     "name": "stderr",
     "output_type": "stream",
     "text": [
      "/opt/anaconda3/envs/openvoice/lib/python3.9/site-packages/torch/nn/utils/weight_norm.py:28: UserWarning: torch.nn.utils.weight_norm is deprecated in favor of torch.nn.utils.parametrizations.weight_norm.\n",
      "  warnings.warn(\"torch.nn.utils.weight_norm is deprecated in favor of torch.nn.utils.parametrizations.weight_norm.\")\n"
     ]
    },
    {
     "name": "stdout",
     "output_type": "stream",
     "text": [
      "Loaded checkpoint 'checkpoints/base_speakers/EN/checkpoint.pth'\n",
      "missing/unexpected keys: [] []\n",
      "Loaded checkpoint 'checkpoints/converter/checkpoint.pth'\n",
      "missing/unexpected keys: [] []\n",
      "OpenVoice version: v1\n",
      "[(0.0, 19.278375)]\n",
      "after vad: dur = 19.27798185941043\n",
      " > Text splitted to sentences.\n",
      "I love uI love uI love uI love uI love uI love uI love uI love uI love uI love uI love uI love uI love uI love uI love u\n",
      " > ===========================\n",
      "aɪ ləv ju aɪ ləv ju aɪ ləv ju aɪ ləv ju aɪ ləv ju aɪ ləv ju aɪ ləv ju aɪ ləv ju aɪ ləv ju aɪ ləv ju aɪ ləv ju aɪ ləv ju aɪ ləv ju aɪ ləv ju aɪ ləv ju.\n",
      " length:150\n",
      " length:150\n",
      "Cloned Voice Generated!\n"
     ]
    },
    {
     "name": "stderr",
     "output_type": "stream",
     "text": [
      "/opt/anaconda3/envs/openvoice/lib/python3.9/site-packages/torch/nn/utils/weight_norm.py:28: UserWarning: torch.nn.utils.weight_norm is deprecated in favor of torch.nn.utils.parametrizations.weight_norm.\n",
      "  warnings.warn(\"torch.nn.utils.weight_norm is deprecated in favor of torch.nn.utils.parametrizations.weight_norm.\")\n"
     ]
    },
    {
     "name": "stdout",
     "output_type": "stream",
     "text": [
      "Loaded checkpoint 'checkpoints/base_speakers/EN/checkpoint.pth'\n",
      "missing/unexpected keys: [] []\n",
      "Loaded checkpoint 'checkpoints/converter/checkpoint.pth'\n",
      "missing/unexpected keys: [] []\n",
      "OpenVoice version: v1\n",
      "[(0.0, 19.278375)]\n",
      "after vad: dur = 19.27798185941043\n",
      " > Text splitted to sentences.\n",
      "I love uI love uI love uI love uI love uI love uI love uI love uI love uI love uI love uI love uI love uI love uI love u\n",
      " > ===========================\n",
      "aɪ ləv ju aɪ ləv ju aɪ ləv ju aɪ ləv ju aɪ ləv ju aɪ ləv ju aɪ ləv ju aɪ ləv ju aɪ ləv ju aɪ ləv ju aɪ ləv ju aɪ ləv ju aɪ ləv ju aɪ ləv ju aɪ ləv ju.\n",
      " length:150\n",
      " length:150\n",
      "Cloned Voice Generated!\n"
     ]
    },
    {
     "name": "stderr",
     "output_type": "stream",
     "text": [
      "/opt/anaconda3/envs/openvoice/lib/python3.9/site-packages/torch/nn/utils/weight_norm.py:28: UserWarning: torch.nn.utils.weight_norm is deprecated in favor of torch.nn.utils.parametrizations.weight_norm.\n",
      "  warnings.warn(\"torch.nn.utils.weight_norm is deprecated in favor of torch.nn.utils.parametrizations.weight_norm.\")\n"
     ]
    },
    {
     "name": "stdout",
     "output_type": "stream",
     "text": [
      "Loaded checkpoint 'checkpoints/base_speakers/EN/checkpoint.pth'\n",
      "missing/unexpected keys: [] []\n",
      "Loaded checkpoint 'checkpoints/converter/checkpoint.pth'\n",
      "missing/unexpected keys: [] []\n",
      "OpenVoice version: v1\n",
      "[(0.0, 19.278375)]\n",
      "after vad: dur = 19.27798185941043\n",
      " > Text splitted to sentences.\n",
      "I love uI love uI love uI love uI love uI love uI love uI love uI love uI love uI love uI love uI love uI love uI love uI love uI love uI love uI love uI love uI love uI love uI love uI love uI love uI love uI love uI love uI love uI love uI love uI love uI love uI love uI love uI love uI love uI love uI love uI love uI love uI love uI love uI love uI love uI love uI love uI love uI love uI love u\n",
      " > ===========================\n",
      "aɪ ləv ju aɪ ləv ju aɪ ləv ju aɪ ləv ju aɪ ləv ju aɪ ləv ju aɪ ləv ju aɪ ləv ju aɪ ləv ju aɪ ləv ju aɪ ləv ju aɪ ləv ju aɪ ləv ju aɪ ləv ju aɪ ləv ju aɪ ləv ju aɪ ləv ju aɪ ləv ju aɪ ləv ju aɪ ləv ju aɪ ləv ju aɪ ləv ju aɪ ləv ju aɪ ləv ju aɪ ləv ju aɪ ləv ju aɪ ləv ju aɪ ləv ju aɪ ləv ju aɪ ləv ju aɪ ləv ju aɪ ləv ju aɪ ləv ju aɪ ləv ju aɪ ləv ju aɪ ləv ju aɪ ləv ju aɪ ləv ju aɪ ləv ju aɪ ləv ju aɪ ləv ju aɪ ləv ju aɪ ləv ju aɪ ləv ju aɪ ləv ju aɪ ləv ju aɪ ləv ju aɪ ləv ju aɪ ləv ju aɪ ləv ju.\n",
      " length:500\n",
      " length:500\n",
      "Cloned Voice Generated!\n"
     ]
    },
    {
     "name": "stderr",
     "output_type": "stream",
     "text": [
      "/opt/anaconda3/envs/openvoice/lib/python3.9/site-packages/torch/nn/utils/weight_norm.py:28: UserWarning: torch.nn.utils.weight_norm is deprecated in favor of torch.nn.utils.parametrizations.weight_norm.\n",
      "  warnings.warn(\"torch.nn.utils.weight_norm is deprecated in favor of torch.nn.utils.parametrizations.weight_norm.\")\n"
     ]
    },
    {
     "name": "stdout",
     "output_type": "stream",
     "text": [
      "Loaded checkpoint 'checkpoints/base_speakers/EN/checkpoint.pth'\n",
      "missing/unexpected keys: [] []\n",
      "Loaded checkpoint 'checkpoints/converter/checkpoint.pth'\n",
      "missing/unexpected keys: [] []\n",
      "OpenVoice version: v1\n",
      "[(0.0, 19.278375)]\n",
      "after vad: dur = 19.27798185941043\n",
      " > Text splitted to sentences.\n",
      "I love uI love uI love uI love uI love uI love uI love uI love uI love uI love uI love uI love uI love uI love uI love uI love uI love uI love uI love uI love uI love uI love uI love uI love uI love uI love uI love uI love uI love uI love uI love uI love uI love uI love uI love uI love uI love uI love uI love uI love uI love uI love uI love uI love uI love uI love uI love uI love uI love uI love u\n",
      " > ===========================\n",
      "aɪ ləv ju aɪ ləv ju aɪ ləv ju aɪ ləv ju aɪ ləv ju aɪ ləv ju aɪ ləv ju aɪ ləv ju aɪ ləv ju aɪ ləv ju aɪ ləv ju aɪ ləv ju aɪ ləv ju aɪ ləv ju aɪ ləv ju aɪ ləv ju aɪ ləv ju aɪ ləv ju aɪ ləv ju aɪ ləv ju aɪ ləv ju aɪ ləv ju aɪ ləv ju aɪ ləv ju aɪ ləv ju aɪ ləv ju aɪ ləv ju aɪ ləv ju aɪ ləv ju aɪ ləv ju aɪ ləv ju aɪ ləv ju aɪ ləv ju aɪ ləv ju aɪ ləv ju aɪ ləv ju aɪ ləv ju aɪ ləv ju aɪ ləv ju aɪ ləv ju aɪ ləv ju aɪ ləv ju aɪ ləv ju aɪ ləv ju aɪ ləv ju aɪ ləv ju aɪ ləv ju aɪ ləv ju aɪ ləv ju aɪ ləv ju.\n",
      " length:500\n",
      " length:500\n",
      "Cloned Voice Generated!\n"
     ]
    },
    {
     "name": "stderr",
     "output_type": "stream",
     "text": [
      "/opt/anaconda3/envs/openvoice/lib/python3.9/site-packages/torch/nn/utils/weight_norm.py:28: UserWarning: torch.nn.utils.weight_norm is deprecated in favor of torch.nn.utils.parametrizations.weight_norm.\n",
      "  warnings.warn(\"torch.nn.utils.weight_norm is deprecated in favor of torch.nn.utils.parametrizations.weight_norm.\")\n"
     ]
    },
    {
     "name": "stdout",
     "output_type": "stream",
     "text": [
      "Loaded checkpoint 'checkpoints/base_speakers/EN/checkpoint.pth'\n",
      "missing/unexpected keys: [] []\n",
      "Loaded checkpoint 'checkpoints/converter/checkpoint.pth'\n",
      "missing/unexpected keys: [] []\n",
      "OpenVoice version: v1\n",
      "[(0.0, 19.278375)]\n",
      "after vad: dur = 19.27798185941043\n",
      " > Text splitted to sentences.\n",
      "I love uI love uI love uI love uI love uI love uI love uI love uI love uI love uI love uI love uI love uI love uI love uI love uI love uI love uI love uI love uI love uI love uI love uI love uI love uI love uI love uI love uI love uI love uI love uI love uI love uI love uI love uI love uI love uI love uI love uI love uI love uI love uI love uI love uI love uI love uI love uI love uI love uI love u\n",
      " > ===========================\n",
      "aɪ ləv ju aɪ ləv ju aɪ ləv ju aɪ ləv ju aɪ ləv ju aɪ ləv ju aɪ ləv ju aɪ ləv ju aɪ ləv ju aɪ ləv ju aɪ ləv ju aɪ ləv ju aɪ ləv ju aɪ ləv ju aɪ ləv ju aɪ ləv ju aɪ ləv ju aɪ ləv ju aɪ ləv ju aɪ ləv ju aɪ ləv ju aɪ ləv ju aɪ ləv ju aɪ ləv ju aɪ ləv ju aɪ ləv ju aɪ ləv ju aɪ ləv ju aɪ ləv ju aɪ ləv ju aɪ ləv ju aɪ ləv ju aɪ ləv ju aɪ ləv ju aɪ ləv ju aɪ ləv ju aɪ ləv ju aɪ ləv ju aɪ ləv ju aɪ ləv ju aɪ ləv ju aɪ ləv ju aɪ ləv ju aɪ ləv ju aɪ ləv ju aɪ ləv ju aɪ ləv ju aɪ ləv ju aɪ ləv ju aɪ ləv ju.\n",
      " length:500\n",
      " length:500\n",
      "Cloned Voice Generated!\n"
     ]
    },
    {
     "name": "stderr",
     "output_type": "stream",
     "text": [
      "/opt/anaconda3/envs/openvoice/lib/python3.9/site-packages/torch/nn/utils/weight_norm.py:28: UserWarning: torch.nn.utils.weight_norm is deprecated in favor of torch.nn.utils.parametrizations.weight_norm.\n",
      "  warnings.warn(\"torch.nn.utils.weight_norm is deprecated in favor of torch.nn.utils.parametrizations.weight_norm.\")\n"
     ]
    },
    {
     "name": "stdout",
     "output_type": "stream",
     "text": [
      "Loaded checkpoint 'checkpoints/base_speakers/EN/checkpoint.pth'\n",
      "missing/unexpected keys: [] []\n",
      "Loaded checkpoint 'checkpoints/converter/checkpoint.pth'\n",
      "missing/unexpected keys: [] []\n",
      "OpenVoice version: v1\n",
      "[(0.0, 19.278375)]\n",
      "after vad: dur = 19.27798185941043\n",
      " > Text splitted to sentences.\n",
      "I love uI love uI love uI love uI love uI love uI love uI love uI love uI love uI love uI love uI love uI love uI love uI love uI love uI love uI love uI love uI love uI love uI love uI love uI love uI love uI love uI love uI love uI love uI love uI love uI love uI love uI love uI love uI love uI love uI love uI love uI love uI love uI love uI love uI love uI love uI love uI love uI love uI love u\n",
      " > ===========================\n",
      "aɪ ləv ju aɪ ləv ju aɪ ləv ju aɪ ləv ju aɪ ləv ju aɪ ləv ju aɪ ləv ju aɪ ləv ju aɪ ləv ju aɪ ləv ju aɪ ləv ju aɪ ləv ju aɪ ləv ju aɪ ləv ju aɪ ləv ju aɪ ləv ju aɪ ləv ju aɪ ləv ju aɪ ləv ju aɪ ləv ju aɪ ləv ju aɪ ləv ju aɪ ləv ju aɪ ləv ju aɪ ləv ju aɪ ləv ju aɪ ləv ju aɪ ləv ju aɪ ləv ju aɪ ləv ju aɪ ləv ju aɪ ləv ju aɪ ləv ju aɪ ləv ju aɪ ləv ju aɪ ləv ju aɪ ləv ju aɪ ləv ju aɪ ləv ju aɪ ləv ju aɪ ləv ju aɪ ləv ju aɪ ləv ju aɪ ləv ju aɪ ləv ju aɪ ləv ju aɪ ləv ju aɪ ləv ju aɪ ləv ju aɪ ləv ju.\n",
      " length:500\n",
      " length:500\n",
      "Cloned Voice Generated!\n"
     ]
    },
    {
     "name": "stderr",
     "output_type": "stream",
     "text": [
      "/opt/anaconda3/envs/openvoice/lib/python3.9/site-packages/torch/nn/utils/weight_norm.py:28: UserWarning: torch.nn.utils.weight_norm is deprecated in favor of torch.nn.utils.parametrizations.weight_norm.\n",
      "  warnings.warn(\"torch.nn.utils.weight_norm is deprecated in favor of torch.nn.utils.parametrizations.weight_norm.\")\n"
     ]
    },
    {
     "name": "stdout",
     "output_type": "stream",
     "text": [
      "Loaded checkpoint 'checkpoints/base_speakers/EN/checkpoint.pth'\n",
      "missing/unexpected keys: [] []\n",
      "Loaded checkpoint 'checkpoints/converter/checkpoint.pth'\n",
      "missing/unexpected keys: [] []\n",
      "OpenVoice version: v1\n",
      "[(0.0, 19.278375)]\n",
      "after vad: dur = 19.27798185941043\n",
      " > Text splitted to sentences.\n",
      "I love uI love uI love uI love uI love uI love uI love uI love uI love uI love uI love uI love uI love uI love uI love uI love uI love uI love uI love uI love uI love uI love uI love uI love uI love uI love uI love uI love uI love uI love uI love uI love uI love uI love uI love uI love uI love uI love uI love uI love uI love uI love uI love uI love uI love uI love uI love uI love uI love uI love u\n",
      " > ===========================\n",
      "aɪ ləv ju aɪ ləv ju aɪ ləv ju aɪ ləv ju aɪ ləv ju aɪ ləv ju aɪ ləv ju aɪ ləv ju aɪ ləv ju aɪ ləv ju aɪ ləv ju aɪ ləv ju aɪ ləv ju aɪ ləv ju aɪ ləv ju aɪ ləv ju aɪ ləv ju aɪ ləv ju aɪ ləv ju aɪ ləv ju aɪ ləv ju aɪ ləv ju aɪ ləv ju aɪ ləv ju aɪ ləv ju aɪ ləv ju aɪ ləv ju aɪ ləv ju aɪ ləv ju aɪ ləv ju aɪ ləv ju aɪ ləv ju aɪ ləv ju aɪ ləv ju aɪ ləv ju aɪ ləv ju aɪ ləv ju aɪ ləv ju aɪ ləv ju aɪ ləv ju aɪ ləv ju aɪ ləv ju aɪ ləv ju aɪ ləv ju aɪ ləv ju aɪ ləv ju aɪ ləv ju aɪ ləv ju aɪ ləv ju aɪ ləv ju.\n",
      " length:500\n",
      " length:500\n",
      "Cloned Voice Generated!\n"
     ]
    },
    {
     "name": "stderr",
     "output_type": "stream",
     "text": [
      "/opt/anaconda3/envs/openvoice/lib/python3.9/site-packages/torch/nn/utils/weight_norm.py:28: UserWarning: torch.nn.utils.weight_norm is deprecated in favor of torch.nn.utils.parametrizations.weight_norm.\n",
      "  warnings.warn(\"torch.nn.utils.weight_norm is deprecated in favor of torch.nn.utils.parametrizations.weight_norm.\")\n"
     ]
    },
    {
     "name": "stdout",
     "output_type": "stream",
     "text": [
      "Loaded checkpoint 'checkpoints/base_speakers/EN/checkpoint.pth'\n",
      "missing/unexpected keys: [] []\n",
      "Loaded checkpoint 'checkpoints/converter/checkpoint.pth'\n",
      "missing/unexpected keys: [] []\n",
      "OpenVoice version: v1\n",
      "[(0.0, 19.278375)]\n",
      "after vad: dur = 19.27798185941043\n",
      " > Text splitted to sentences.\n",
      "I love uI love uI love uI love uI love uI love uI love uI love uI love uI love uI love uI love uI love uI love uI love uI love uI love uI love uI love uI love uI love uI love uI love uI love uI love uI love uI love uI love uI love uI love uI love uI love uI love uI love uI love uI love uI love uI love uI love uI love uI love uI love uI love uI love uI love uI love uI love uI love uI love uI love u\n",
      " > ===========================\n",
      "aɪ ləv ju aɪ ləv ju aɪ ləv ju aɪ ləv ju aɪ ləv ju aɪ ləv ju aɪ ləv ju aɪ ləv ju aɪ ləv ju aɪ ləv ju aɪ ləv ju aɪ ləv ju aɪ ləv ju aɪ ləv ju aɪ ləv ju aɪ ləv ju aɪ ləv ju aɪ ləv ju aɪ ləv ju aɪ ləv ju aɪ ləv ju aɪ ləv ju aɪ ləv ju aɪ ləv ju aɪ ləv ju aɪ ləv ju aɪ ləv ju aɪ ləv ju aɪ ləv ju aɪ ləv ju aɪ ləv ju aɪ ləv ju aɪ ləv ju aɪ ləv ju aɪ ləv ju aɪ ləv ju aɪ ləv ju aɪ ləv ju aɪ ləv ju aɪ ləv ju aɪ ləv ju aɪ ləv ju aɪ ləv ju aɪ ləv ju aɪ ləv ju aɪ ləv ju aɪ ləv ju aɪ ləv ju aɪ ləv ju aɪ ləv ju.\n",
      " length:500\n",
      " length:500\n",
      "Cloned Voice Generated!\n"
     ]
    },
    {
     "name": "stderr",
     "output_type": "stream",
     "text": [
      "/opt/anaconda3/envs/openvoice/lib/python3.9/site-packages/torch/nn/utils/weight_norm.py:28: UserWarning: torch.nn.utils.weight_norm is deprecated in favor of torch.nn.utils.parametrizations.weight_norm.\n",
      "  warnings.warn(\"torch.nn.utils.weight_norm is deprecated in favor of torch.nn.utils.parametrizations.weight_norm.\")\n"
     ]
    },
    {
     "name": "stdout",
     "output_type": "stream",
     "text": [
      "Loaded checkpoint 'checkpoints/base_speakers/EN/checkpoint.pth'\n",
      "missing/unexpected keys: [] []\n",
      "Loaded checkpoint 'checkpoints/converter/checkpoint.pth'\n",
      "missing/unexpected keys: [] []\n",
      "OpenVoice version: v1\n",
      "[(0.0, 19.278375)]\n",
      "after vad: dur = 19.27798185941043\n",
      " > Text splitted to sentences.\n",
      "I love uI love uI love uI love uI love uI love uI love uI love uI love uI love uI love uI love uI love uI love uI love uI love uI love uI love uI love uI love uI love uI love uI love uI love uI love uI love uI love uI love uI love uI love uI love uI love uI love uI love uI love uI love uI love uI love uI love uI love uI love uI love uI love uI love uI love uI love uI love uI love uI love uI love u\n",
      " > ===========================\n",
      "aɪ ləv ju aɪ ləv ju aɪ ləv ju aɪ ləv ju aɪ ləv ju aɪ ləv ju aɪ ləv ju aɪ ləv ju aɪ ləv ju aɪ ləv ju aɪ ləv ju aɪ ləv ju aɪ ləv ju aɪ ləv ju aɪ ləv ju aɪ ləv ju aɪ ləv ju aɪ ləv ju aɪ ləv ju aɪ ləv ju aɪ ləv ju aɪ ləv ju aɪ ləv ju aɪ ləv ju aɪ ləv ju aɪ ləv ju aɪ ləv ju aɪ ləv ju aɪ ləv ju aɪ ləv ju aɪ ləv ju aɪ ləv ju aɪ ləv ju aɪ ləv ju aɪ ləv ju aɪ ləv ju aɪ ləv ju aɪ ləv ju aɪ ləv ju aɪ ləv ju aɪ ləv ju aɪ ləv ju aɪ ləv ju aɪ ləv ju aɪ ləv ju aɪ ləv ju aɪ ləv ju aɪ ləv ju aɪ ləv ju aɪ ləv ju.\n",
      " length:500\n",
      " length:500\n",
      "Cloned Voice Generated!\n"
     ]
    },
    {
     "name": "stderr",
     "output_type": "stream",
     "text": [
      "/opt/anaconda3/envs/openvoice/lib/python3.9/site-packages/torch/nn/utils/weight_norm.py:28: UserWarning: torch.nn.utils.weight_norm is deprecated in favor of torch.nn.utils.parametrizations.weight_norm.\n",
      "  warnings.warn(\"torch.nn.utils.weight_norm is deprecated in favor of torch.nn.utils.parametrizations.weight_norm.\")\n"
     ]
    },
    {
     "name": "stdout",
     "output_type": "stream",
     "text": [
      "Loaded checkpoint 'checkpoints/base_speakers/EN/checkpoint.pth'\n",
      "missing/unexpected keys: [] []\n",
      "Loaded checkpoint 'checkpoints/converter/checkpoint.pth'\n",
      "missing/unexpected keys: [] []\n",
      "OpenVoice version: v1\n",
      "[(0.0, 19.278375)]\n",
      "after vad: dur = 19.27798185941043\n",
      " > Text splitted to sentences.\n",
      "I love uI love uI love uI love uI love uI love uI love uI love uI love uI love uI love uI love uI love uI love uI love uI love uI love uI love uI love uI love uI love uI love uI love uI love uI love uI love uI love uI love uI love uI love uI love uI love uI love uI love uI love uI love uI love uI love uI love uI love uI love uI love uI love uI love uI love uI love uI love uI love uI love uI love u\n",
      " > ===========================\n",
      "aɪ ləv ju aɪ ləv ju aɪ ləv ju aɪ ləv ju aɪ ləv ju aɪ ləv ju aɪ ləv ju aɪ ləv ju aɪ ləv ju aɪ ləv ju aɪ ləv ju aɪ ləv ju aɪ ləv ju aɪ ləv ju aɪ ləv ju aɪ ləv ju aɪ ləv ju aɪ ləv ju aɪ ləv ju aɪ ləv ju aɪ ləv ju aɪ ləv ju aɪ ləv ju aɪ ləv ju aɪ ləv ju aɪ ləv ju aɪ ləv ju aɪ ləv ju aɪ ləv ju aɪ ləv ju aɪ ləv ju aɪ ləv ju aɪ ləv ju aɪ ləv ju aɪ ləv ju aɪ ləv ju aɪ ləv ju aɪ ləv ju aɪ ləv ju aɪ ləv ju aɪ ləv ju aɪ ləv ju aɪ ləv ju aɪ ləv ju aɪ ləv ju aɪ ləv ju aɪ ləv ju aɪ ləv ju aɪ ləv ju aɪ ləv ju.\n",
      " length:500\n",
      " length:500\n",
      "Cloned Voice Generated!\n"
     ]
    },
    {
     "name": "stderr",
     "output_type": "stream",
     "text": [
      "/opt/anaconda3/envs/openvoice/lib/python3.9/site-packages/torch/nn/utils/weight_norm.py:28: UserWarning: torch.nn.utils.weight_norm is deprecated in favor of torch.nn.utils.parametrizations.weight_norm.\n",
      "  warnings.warn(\"torch.nn.utils.weight_norm is deprecated in favor of torch.nn.utils.parametrizations.weight_norm.\")\n"
     ]
    },
    {
     "name": "stdout",
     "output_type": "stream",
     "text": [
      "Loaded checkpoint 'checkpoints/base_speakers/EN/checkpoint.pth'\n",
      "missing/unexpected keys: [] []\n",
      "Loaded checkpoint 'checkpoints/converter/checkpoint.pth'\n",
      "missing/unexpected keys: [] []\n",
      "OpenVoice version: v1\n",
      "[(0.0, 19.278375)]\n",
      "after vad: dur = 19.27798185941043\n",
      " > Text splitted to sentences.\n",
      "I love uI love uI love uI love uI love uI love uI love uI love uI love uI love uI love uI love uI love uI love uI love uI love uI love uI love uI love uI love uI love uI love uI love uI love uI love uI love uI love uI love uI love uI love uI love uI love uI love uI love uI love uI love uI love uI love uI love uI love uI love uI love uI love uI love uI love uI love uI love uI love uI love uI love u\n",
      " > ===========================\n",
      "aɪ ləv ju aɪ ləv ju aɪ ləv ju aɪ ləv ju aɪ ləv ju aɪ ləv ju aɪ ləv ju aɪ ləv ju aɪ ləv ju aɪ ləv ju aɪ ləv ju aɪ ləv ju aɪ ləv ju aɪ ləv ju aɪ ləv ju aɪ ləv ju aɪ ləv ju aɪ ləv ju aɪ ləv ju aɪ ləv ju aɪ ləv ju aɪ ləv ju aɪ ləv ju aɪ ləv ju aɪ ləv ju aɪ ləv ju aɪ ləv ju aɪ ləv ju aɪ ləv ju aɪ ləv ju aɪ ləv ju aɪ ləv ju aɪ ləv ju aɪ ləv ju aɪ ləv ju aɪ ləv ju aɪ ləv ju aɪ ləv ju aɪ ləv ju aɪ ləv ju aɪ ləv ju aɪ ləv ju aɪ ləv ju aɪ ləv ju aɪ ləv ju aɪ ləv ju aɪ ləv ju aɪ ləv ju aɪ ləv ju aɪ ləv ju.\n",
      " length:500\n",
      " length:500\n",
      "Cloned Voice Generated!\n"
     ]
    },
    {
     "name": "stderr",
     "output_type": "stream",
     "text": [
      "/opt/anaconda3/envs/openvoice/lib/python3.9/site-packages/torch/nn/utils/weight_norm.py:28: UserWarning: torch.nn.utils.weight_norm is deprecated in favor of torch.nn.utils.parametrizations.weight_norm.\n",
      "  warnings.warn(\"torch.nn.utils.weight_norm is deprecated in favor of torch.nn.utils.parametrizations.weight_norm.\")\n"
     ]
    },
    {
     "name": "stdout",
     "output_type": "stream",
     "text": [
      "Loaded checkpoint 'checkpoints/base_speakers/EN/checkpoint.pth'\n",
      "missing/unexpected keys: [] []\n",
      "Loaded checkpoint 'checkpoints/converter/checkpoint.pth'\n",
      "missing/unexpected keys: [] []\n",
      "OpenVoice version: v1\n",
      "[(0.0, 19.278375)]\n",
      "after vad: dur = 19.27798185941043\n",
      " > Text splitted to sentences.\n",
      "I love uI love uI love uI love uI love uI love uI love uI love uI love uI love uI love uI love uI love uI love uI love uI love uI love uI love uI love uI love uI love uI love uI love uI love uI love uI love uI love uI love uI love uI love uI love uI love uI love uI love uI love uI love uI love uI love uI love uI love uI love uI love uI love uI love uI love uI love uI love uI love uI love uI love u\n",
      " > ===========================\n",
      "aɪ ləv ju aɪ ləv ju aɪ ləv ju aɪ ləv ju aɪ ləv ju aɪ ləv ju aɪ ləv ju aɪ ləv ju aɪ ləv ju aɪ ləv ju aɪ ləv ju aɪ ləv ju aɪ ləv ju aɪ ləv ju aɪ ləv ju aɪ ləv ju aɪ ləv ju aɪ ləv ju aɪ ləv ju aɪ ləv ju aɪ ləv ju aɪ ləv ju aɪ ləv ju aɪ ləv ju aɪ ləv ju aɪ ləv ju aɪ ləv ju aɪ ləv ju aɪ ləv ju aɪ ləv ju aɪ ləv ju aɪ ləv ju aɪ ləv ju aɪ ləv ju aɪ ləv ju aɪ ləv ju aɪ ləv ju aɪ ləv ju aɪ ləv ju aɪ ləv ju aɪ ləv ju aɪ ləv ju aɪ ləv ju aɪ ləv ju aɪ ləv ju aɪ ləv ju aɪ ləv ju aɪ ləv ju aɪ ləv ju aɪ ləv ju.\n",
      " length:500\n",
      " length:500\n",
      "Cloned Voice Generated!\n"
     ]
    },
    {
     "name": "stderr",
     "output_type": "stream",
     "text": [
      "/opt/anaconda3/envs/openvoice/lib/python3.9/site-packages/torch/nn/utils/weight_norm.py:28: UserWarning: torch.nn.utils.weight_norm is deprecated in favor of torch.nn.utils.parametrizations.weight_norm.\n",
      "  warnings.warn(\"torch.nn.utils.weight_norm is deprecated in favor of torch.nn.utils.parametrizations.weight_norm.\")\n"
     ]
    },
    {
     "name": "stdout",
     "output_type": "stream",
     "text": [
      "Loaded checkpoint 'checkpoints/base_speakers/EN/checkpoint.pth'\n",
      "missing/unexpected keys: [] []\n",
      "Loaded checkpoint 'checkpoints/converter/checkpoint.pth'\n",
      "missing/unexpected keys: [] []\n",
      "OpenVoice version: v1\n",
      "[(0.0, 19.278375)]\n",
      "after vad: dur = 19.27798185941043\n",
      " > Text splitted to sentences.\n",
      "I love uI love uI love uI love uI love uI love uI love uI love uI love uI love uI love uI love uI love uI love uI love uI love uI love uI love uI love uI love uI love uI love uI love uI love uI love uI love uI love uI love uI love uI love uI love uI love uI love uI love uI love uI love uI love uI love uI love uI love uI love uI love uI love uI love uI love uI love uI love uI love uI love uI love uI love uI love uI love uI love uI love uI love uI love uI love uI love uI love uI love uI love uI love uI love uI love uI love uI love uI love uI love uI love uI love uI love uI love uI love uI love uI love uI love uI love uI love uI love uI love uI love uI love uI love uI love uI love uI love uI love uI love uI love uI love uI love uI love uI love uI love uI love uI love uI love uI love uI love u\n",
      " > ===========================\n",
      "aɪ ləv ju aɪ ləv ju aɪ ləv ju aɪ ləv ju aɪ ləv ju aɪ ləv ju aɪ ləv ju aɪ ləv ju aɪ ləv ju aɪ ləv ju aɪ ləv ju aɪ ləv ju aɪ ləv ju aɪ ləv ju aɪ ləv ju aɪ ləv ju aɪ ləv ju aɪ ləv ju aɪ ləv ju aɪ ləv ju aɪ ləv ju aɪ ləv ju aɪ ləv ju aɪ ləv ju aɪ ləv ju aɪ ləv ju aɪ ləv ju aɪ ləv ju aɪ ləv ju aɪ ləv ju aɪ ləv ju aɪ ləv ju aɪ ləv ju aɪ ləv ju aɪ ləv ju aɪ ləv ju aɪ ləv ju aɪ ləv ju aɪ ləv ju aɪ ləv ju aɪ ləv ju aɪ ləv ju aɪ ləv ju aɪ ləv ju aɪ ləv ju aɪ ləv ju aɪ ləv ju aɪ ləv ju aɪ ləv ju aɪ ləv ju aɪ ləv ju aɪ ləv ju aɪ ləv ju aɪ ləv ju aɪ ləv ju aɪ ləv ju aɪ ləv ju aɪ ləv ju aɪ ləv ju aɪ ləv ju aɪ ləv ju aɪ ləv ju aɪ ləv ju aɪ ləv ju aɪ ləv ju aɪ ləv ju aɪ ləv ju aɪ ləv ju aɪ ləv ju aɪ ləv ju aɪ ləv ju aɪ ləv ju aɪ ləv ju aɪ ləv ju aɪ ləv ju aɪ ləv ju aɪ ləv ju aɪ ləv ju aɪ ləv ju aɪ ləv ju aɪ ləv ju aɪ ləv ju aɪ ləv ju aɪ ləv ju aɪ ləv ju aɪ ləv ju aɪ ləv ju aɪ ləv ju aɪ ləv ju aɪ ləv ju aɪ ləv ju aɪ ləv ju aɪ ləv ju aɪ ləv ju aɪ ləv ju aɪ ləv ju aɪ ləv ju aɪ ləv ju aɪ ləv ju aɪ ləv ju.\n",
      " length:1000\n",
      " length:1000\n",
      "Cloned Voice Generated!\n"
     ]
    },
    {
     "name": "stderr",
     "output_type": "stream",
     "text": [
      "/opt/anaconda3/envs/openvoice/lib/python3.9/site-packages/torch/nn/utils/weight_norm.py:28: UserWarning: torch.nn.utils.weight_norm is deprecated in favor of torch.nn.utils.parametrizations.weight_norm.\n",
      "  warnings.warn(\"torch.nn.utils.weight_norm is deprecated in favor of torch.nn.utils.parametrizations.weight_norm.\")\n"
     ]
    },
    {
     "name": "stdout",
     "output_type": "stream",
     "text": [
      "Loaded checkpoint 'checkpoints/base_speakers/EN/checkpoint.pth'\n",
      "missing/unexpected keys: [] []\n",
      "Loaded checkpoint 'checkpoints/converter/checkpoint.pth'\n",
      "missing/unexpected keys: [] []\n",
      "OpenVoice version: v1\n",
      "[(0.0, 19.278375)]\n",
      "after vad: dur = 19.27798185941043\n",
      " > Text splitted to sentences.\n",
      "I love uI love uI love uI love uI love uI love uI love uI love uI love uI love uI love uI love uI love uI love uI love uI love uI love uI love uI love uI love uI love uI love uI love uI love uI love uI love uI love uI love uI love uI love uI love uI love uI love uI love uI love uI love uI love uI love uI love uI love uI love uI love uI love uI love uI love uI love uI love uI love uI love uI love uI love uI love uI love uI love uI love uI love uI love uI love uI love uI love uI love uI love uI love uI love uI love uI love uI love uI love uI love uI love uI love uI love uI love uI love uI love uI love uI love uI love uI love uI love uI love uI love uI love uI love uI love uI love uI love uI love uI love uI love uI love uI love uI love uI love uI love uI love uI love uI love uI love uI love u\n",
      " > ===========================\n",
      "aɪ ləv ju aɪ ləv ju aɪ ləv ju aɪ ləv ju aɪ ləv ju aɪ ləv ju aɪ ləv ju aɪ ləv ju aɪ ləv ju aɪ ləv ju aɪ ləv ju aɪ ləv ju aɪ ləv ju aɪ ləv ju aɪ ləv ju aɪ ləv ju aɪ ləv ju aɪ ləv ju aɪ ləv ju aɪ ləv ju aɪ ləv ju aɪ ləv ju aɪ ləv ju aɪ ləv ju aɪ ləv ju aɪ ləv ju aɪ ləv ju aɪ ləv ju aɪ ləv ju aɪ ləv ju aɪ ləv ju aɪ ləv ju aɪ ləv ju aɪ ləv ju aɪ ləv ju aɪ ləv ju aɪ ləv ju aɪ ləv ju aɪ ləv ju aɪ ləv ju aɪ ləv ju aɪ ləv ju aɪ ləv ju aɪ ləv ju aɪ ləv ju aɪ ləv ju aɪ ləv ju aɪ ləv ju aɪ ləv ju aɪ ləv ju aɪ ləv ju aɪ ləv ju aɪ ləv ju aɪ ləv ju aɪ ləv ju aɪ ləv ju aɪ ləv ju aɪ ləv ju aɪ ləv ju aɪ ləv ju aɪ ləv ju aɪ ləv ju aɪ ləv ju aɪ ləv ju aɪ ləv ju aɪ ləv ju aɪ ləv ju aɪ ləv ju aɪ ləv ju aɪ ləv ju aɪ ləv ju aɪ ləv ju aɪ ləv ju aɪ ləv ju aɪ ləv ju aɪ ləv ju aɪ ləv ju aɪ ləv ju aɪ ləv ju aɪ ləv ju aɪ ləv ju aɪ ləv ju aɪ ləv ju aɪ ləv ju aɪ ləv ju aɪ ləv ju aɪ ləv ju aɪ ləv ju aɪ ləv ju aɪ ləv ju aɪ ləv ju aɪ ləv ju aɪ ləv ju aɪ ləv ju aɪ ləv ju aɪ ləv ju aɪ ləv ju aɪ ləv ju aɪ ləv ju aɪ ləv ju.\n",
      " length:1000\n",
      " length:1000\n",
      "Cloned Voice Generated!\n"
     ]
    },
    {
     "name": "stderr",
     "output_type": "stream",
     "text": [
      "/opt/anaconda3/envs/openvoice/lib/python3.9/site-packages/torch/nn/utils/weight_norm.py:28: UserWarning: torch.nn.utils.weight_norm is deprecated in favor of torch.nn.utils.parametrizations.weight_norm.\n",
      "  warnings.warn(\"torch.nn.utils.weight_norm is deprecated in favor of torch.nn.utils.parametrizations.weight_norm.\")\n"
     ]
    },
    {
     "name": "stdout",
     "output_type": "stream",
     "text": [
      "Loaded checkpoint 'checkpoints/base_speakers/EN/checkpoint.pth'\n",
      "missing/unexpected keys: [] []\n",
      "Loaded checkpoint 'checkpoints/converter/checkpoint.pth'\n",
      "missing/unexpected keys: [] []\n",
      "OpenVoice version: v1\n",
      "[(0.0, 19.278375)]\n",
      "after vad: dur = 19.27798185941043\n",
      " > Text splitted to sentences.\n",
      "I love uI love uI love uI love uI love uI love uI love uI love uI love uI love uI love uI love uI love uI love uI love uI love uI love uI love uI love uI love uI love uI love uI love uI love uI love uI love uI love uI love uI love uI love uI love uI love uI love uI love uI love uI love uI love uI love uI love uI love uI love uI love uI love uI love uI love uI love uI love uI love uI love uI love uI love uI love uI love uI love uI love uI love uI love uI love uI love uI love uI love uI love uI love uI love uI love uI love uI love uI love uI love uI love uI love uI love uI love uI love uI love uI love uI love uI love uI love uI love uI love uI love uI love uI love uI love uI love uI love uI love uI love uI love uI love uI love uI love uI love uI love uI love uI love uI love uI love uI love u\n",
      " > ===========================\n",
      "aɪ ləv ju aɪ ləv ju aɪ ləv ju aɪ ləv ju aɪ ləv ju aɪ ləv ju aɪ ləv ju aɪ ləv ju aɪ ləv ju aɪ ləv ju aɪ ləv ju aɪ ləv ju aɪ ləv ju aɪ ləv ju aɪ ləv ju aɪ ləv ju aɪ ləv ju aɪ ləv ju aɪ ləv ju aɪ ləv ju aɪ ləv ju aɪ ləv ju aɪ ləv ju aɪ ləv ju aɪ ləv ju aɪ ləv ju aɪ ləv ju aɪ ləv ju aɪ ləv ju aɪ ləv ju aɪ ləv ju aɪ ləv ju aɪ ləv ju aɪ ləv ju aɪ ləv ju aɪ ləv ju aɪ ləv ju aɪ ləv ju aɪ ləv ju aɪ ləv ju aɪ ləv ju aɪ ləv ju aɪ ləv ju aɪ ləv ju aɪ ləv ju aɪ ləv ju aɪ ləv ju aɪ ləv ju aɪ ləv ju aɪ ləv ju aɪ ləv ju aɪ ləv ju aɪ ləv ju aɪ ləv ju aɪ ləv ju aɪ ləv ju aɪ ləv ju aɪ ləv ju aɪ ləv ju aɪ ləv ju aɪ ləv ju aɪ ləv ju aɪ ləv ju aɪ ləv ju aɪ ləv ju aɪ ləv ju aɪ ləv ju aɪ ləv ju aɪ ləv ju aɪ ləv ju aɪ ləv ju aɪ ləv ju aɪ ləv ju aɪ ləv ju aɪ ləv ju aɪ ləv ju aɪ ləv ju aɪ ləv ju aɪ ləv ju aɪ ləv ju aɪ ləv ju aɪ ləv ju aɪ ləv ju aɪ ləv ju aɪ ləv ju aɪ ləv ju aɪ ləv ju aɪ ləv ju aɪ ləv ju aɪ ləv ju aɪ ləv ju aɪ ləv ju aɪ ləv ju aɪ ləv ju aɪ ləv ju aɪ ləv ju aɪ ləv ju aɪ ləv ju aɪ ləv ju aɪ ləv ju.\n",
      " length:1000\n",
      " length:1000\n",
      "Cloned Voice Generated!\n"
     ]
    },
    {
     "name": "stderr",
     "output_type": "stream",
     "text": [
      "/opt/anaconda3/envs/openvoice/lib/python3.9/site-packages/torch/nn/utils/weight_norm.py:28: UserWarning: torch.nn.utils.weight_norm is deprecated in favor of torch.nn.utils.parametrizations.weight_norm.\n",
      "  warnings.warn(\"torch.nn.utils.weight_norm is deprecated in favor of torch.nn.utils.parametrizations.weight_norm.\")\n"
     ]
    },
    {
     "name": "stdout",
     "output_type": "stream",
     "text": [
      "Loaded checkpoint 'checkpoints/base_speakers/EN/checkpoint.pth'\n",
      "missing/unexpected keys: [] []\n",
      "Loaded checkpoint 'checkpoints/converter/checkpoint.pth'\n",
      "missing/unexpected keys: [] []\n",
      "OpenVoice version: v1\n",
      "[(0.0, 19.278375)]\n",
      "after vad: dur = 19.27798185941043\n",
      " > Text splitted to sentences.\n",
      "I love uI love uI love uI love uI love uI love uI love uI love uI love uI love uI love uI love uI love uI love uI love uI love uI love uI love uI love uI love uI love uI love uI love uI love uI love uI love uI love uI love uI love uI love uI love uI love uI love uI love uI love uI love uI love uI love uI love uI love uI love uI love uI love uI love uI love uI love uI love uI love uI love uI love uI love uI love uI love uI love uI love uI love uI love uI love uI love uI love uI love uI love uI love uI love uI love uI love uI love uI love uI love uI love uI love uI love uI love uI love uI love uI love uI love uI love uI love uI love uI love uI love uI love uI love uI love uI love uI love uI love uI love uI love uI love uI love uI love uI love uI love uI love uI love uI love uI love uI love u\n",
      " > ===========================\n",
      "aɪ ləv ju aɪ ləv ju aɪ ləv ju aɪ ləv ju aɪ ləv ju aɪ ləv ju aɪ ləv ju aɪ ləv ju aɪ ləv ju aɪ ləv ju aɪ ləv ju aɪ ləv ju aɪ ləv ju aɪ ləv ju aɪ ləv ju aɪ ləv ju aɪ ləv ju aɪ ləv ju aɪ ləv ju aɪ ləv ju aɪ ləv ju aɪ ləv ju aɪ ləv ju aɪ ləv ju aɪ ləv ju aɪ ləv ju aɪ ləv ju aɪ ləv ju aɪ ləv ju aɪ ləv ju aɪ ləv ju aɪ ləv ju aɪ ləv ju aɪ ləv ju aɪ ləv ju aɪ ləv ju aɪ ləv ju aɪ ləv ju aɪ ləv ju aɪ ləv ju aɪ ləv ju aɪ ləv ju aɪ ləv ju aɪ ləv ju aɪ ləv ju aɪ ləv ju aɪ ləv ju aɪ ləv ju aɪ ləv ju aɪ ləv ju aɪ ləv ju aɪ ləv ju aɪ ləv ju aɪ ləv ju aɪ ləv ju aɪ ləv ju aɪ ləv ju aɪ ləv ju aɪ ləv ju aɪ ləv ju aɪ ləv ju aɪ ləv ju aɪ ləv ju aɪ ləv ju aɪ ləv ju aɪ ləv ju aɪ ləv ju aɪ ləv ju aɪ ləv ju aɪ ləv ju aɪ ləv ju aɪ ləv ju aɪ ləv ju aɪ ləv ju aɪ ləv ju aɪ ləv ju aɪ ləv ju aɪ ləv ju aɪ ləv ju aɪ ləv ju aɪ ləv ju aɪ ləv ju aɪ ləv ju aɪ ləv ju aɪ ləv ju aɪ ləv ju aɪ ləv ju aɪ ləv ju aɪ ləv ju aɪ ləv ju aɪ ləv ju aɪ ləv ju aɪ ləv ju aɪ ləv ju aɪ ləv ju aɪ ləv ju aɪ ləv ju aɪ ləv ju aɪ ləv ju aɪ ləv ju.\n",
      " length:1000\n",
      " length:1000\n",
      "Cloned Voice Generated!\n"
     ]
    },
    {
     "name": "stderr",
     "output_type": "stream",
     "text": [
      "/opt/anaconda3/envs/openvoice/lib/python3.9/site-packages/torch/nn/utils/weight_norm.py:28: UserWarning: torch.nn.utils.weight_norm is deprecated in favor of torch.nn.utils.parametrizations.weight_norm.\n",
      "  warnings.warn(\"torch.nn.utils.weight_norm is deprecated in favor of torch.nn.utils.parametrizations.weight_norm.\")\n"
     ]
    },
    {
     "name": "stdout",
     "output_type": "stream",
     "text": [
      "Loaded checkpoint 'checkpoints/base_speakers/EN/checkpoint.pth'\n",
      "missing/unexpected keys: [] []\n",
      "Loaded checkpoint 'checkpoints/converter/checkpoint.pth'\n",
      "missing/unexpected keys: [] []\n",
      "OpenVoice version: v1\n",
      "[(0.0, 19.278375)]\n",
      "after vad: dur = 19.27798185941043\n",
      " > Text splitted to sentences.\n",
      "I love uI love uI love uI love uI love uI love uI love uI love uI love uI love uI love uI love uI love uI love uI love uI love uI love uI love uI love uI love uI love uI love uI love uI love uI love uI love uI love uI love uI love uI love uI love uI love uI love uI love uI love uI love uI love uI love uI love uI love uI love uI love uI love uI love uI love uI love uI love uI love uI love uI love uI love uI love uI love uI love uI love uI love uI love uI love uI love uI love uI love uI love uI love uI love uI love uI love uI love uI love uI love uI love uI love uI love uI love uI love uI love uI love uI love uI love uI love uI love uI love uI love uI love uI love uI love uI love uI love uI love uI love uI love uI love uI love uI love uI love uI love uI love uI love uI love uI love uI love u\n",
      " > ===========================\n",
      "aɪ ləv ju aɪ ləv ju aɪ ləv ju aɪ ləv ju aɪ ləv ju aɪ ləv ju aɪ ləv ju aɪ ləv ju aɪ ləv ju aɪ ləv ju aɪ ləv ju aɪ ləv ju aɪ ləv ju aɪ ləv ju aɪ ləv ju aɪ ləv ju aɪ ləv ju aɪ ləv ju aɪ ləv ju aɪ ləv ju aɪ ləv ju aɪ ləv ju aɪ ləv ju aɪ ləv ju aɪ ləv ju aɪ ləv ju aɪ ləv ju aɪ ləv ju aɪ ləv ju aɪ ləv ju aɪ ləv ju aɪ ləv ju aɪ ləv ju aɪ ləv ju aɪ ləv ju aɪ ləv ju aɪ ləv ju aɪ ləv ju aɪ ləv ju aɪ ləv ju aɪ ləv ju aɪ ləv ju aɪ ləv ju aɪ ləv ju aɪ ləv ju aɪ ləv ju aɪ ləv ju aɪ ləv ju aɪ ləv ju aɪ ləv ju aɪ ləv ju aɪ ləv ju aɪ ləv ju aɪ ləv ju aɪ ləv ju aɪ ləv ju aɪ ləv ju aɪ ləv ju aɪ ləv ju aɪ ləv ju aɪ ləv ju aɪ ləv ju aɪ ləv ju aɪ ləv ju aɪ ləv ju aɪ ləv ju aɪ ləv ju aɪ ləv ju aɪ ləv ju aɪ ləv ju aɪ ləv ju aɪ ləv ju aɪ ləv ju aɪ ləv ju aɪ ləv ju aɪ ləv ju aɪ ləv ju aɪ ləv ju aɪ ləv ju aɪ ləv ju aɪ ləv ju aɪ ləv ju aɪ ləv ju aɪ ləv ju aɪ ləv ju aɪ ləv ju aɪ ləv ju aɪ ləv ju aɪ ləv ju aɪ ləv ju aɪ ləv ju aɪ ləv ju aɪ ləv ju aɪ ləv ju aɪ ləv ju aɪ ləv ju aɪ ləv ju aɪ ləv ju aɪ ləv ju aɪ ləv ju.\n",
      " length:1000\n",
      " length:1000\n",
      "Cloned Voice Generated!\n"
     ]
    },
    {
     "name": "stderr",
     "output_type": "stream",
     "text": [
      "/opt/anaconda3/envs/openvoice/lib/python3.9/site-packages/torch/nn/utils/weight_norm.py:28: UserWarning: torch.nn.utils.weight_norm is deprecated in favor of torch.nn.utils.parametrizations.weight_norm.\n",
      "  warnings.warn(\"torch.nn.utils.weight_norm is deprecated in favor of torch.nn.utils.parametrizations.weight_norm.\")\n"
     ]
    },
    {
     "name": "stdout",
     "output_type": "stream",
     "text": [
      "Loaded checkpoint 'checkpoints/base_speakers/EN/checkpoint.pth'\n",
      "missing/unexpected keys: [] []\n",
      "Loaded checkpoint 'checkpoints/converter/checkpoint.pth'\n",
      "missing/unexpected keys: [] []\n",
      "OpenVoice version: v1\n",
      "[(0.0, 19.278375)]\n",
      "after vad: dur = 19.27798185941043\n",
      " > Text splitted to sentences.\n",
      "I love uI love uI love uI love uI love uI love uI love uI love uI love uI love uI love uI love uI love uI love uI love uI love uI love uI love uI love uI love uI love uI love uI love uI love uI love uI love uI love uI love uI love uI love uI love uI love uI love uI love uI love uI love uI love uI love uI love uI love uI love uI love uI love uI love uI love uI love uI love uI love uI love uI love uI love uI love uI love uI love uI love uI love uI love uI love uI love uI love uI love uI love uI love uI love uI love uI love uI love uI love uI love uI love uI love uI love uI love uI love uI love uI love uI love uI love uI love uI love uI love uI love uI love uI love uI love uI love uI love uI love uI love uI love uI love uI love uI love uI love uI love uI love uI love uI love uI love uI love u\n",
      " > ===========================\n",
      "aɪ ləv ju aɪ ləv ju aɪ ləv ju aɪ ləv ju aɪ ləv ju aɪ ləv ju aɪ ləv ju aɪ ləv ju aɪ ləv ju aɪ ləv ju aɪ ləv ju aɪ ləv ju aɪ ləv ju aɪ ləv ju aɪ ləv ju aɪ ləv ju aɪ ləv ju aɪ ləv ju aɪ ləv ju aɪ ləv ju aɪ ləv ju aɪ ləv ju aɪ ləv ju aɪ ləv ju aɪ ləv ju aɪ ləv ju aɪ ləv ju aɪ ləv ju aɪ ləv ju aɪ ləv ju aɪ ləv ju aɪ ləv ju aɪ ləv ju aɪ ləv ju aɪ ləv ju aɪ ləv ju aɪ ləv ju aɪ ləv ju aɪ ləv ju aɪ ləv ju aɪ ləv ju aɪ ləv ju aɪ ləv ju aɪ ləv ju aɪ ləv ju aɪ ləv ju aɪ ləv ju aɪ ləv ju aɪ ləv ju aɪ ləv ju aɪ ləv ju aɪ ləv ju aɪ ləv ju aɪ ləv ju aɪ ləv ju aɪ ləv ju aɪ ləv ju aɪ ləv ju aɪ ləv ju aɪ ləv ju aɪ ləv ju aɪ ləv ju aɪ ləv ju aɪ ləv ju aɪ ləv ju aɪ ləv ju aɪ ləv ju aɪ ləv ju aɪ ləv ju aɪ ləv ju aɪ ləv ju aɪ ləv ju aɪ ləv ju aɪ ləv ju aɪ ləv ju aɪ ləv ju aɪ ləv ju aɪ ləv ju aɪ ləv ju aɪ ləv ju aɪ ləv ju aɪ ləv ju aɪ ləv ju aɪ ləv ju aɪ ləv ju aɪ ləv ju aɪ ləv ju aɪ ləv ju aɪ ləv ju aɪ ləv ju aɪ ləv ju aɪ ləv ju aɪ ləv ju aɪ ləv ju aɪ ləv ju aɪ ləv ju aɪ ləv ju aɪ ləv ju aɪ ləv ju aɪ ləv ju.\n",
      " length:1000\n",
      " length:1000\n",
      "Cloned Voice Generated!\n"
     ]
    },
    {
     "name": "stderr",
     "output_type": "stream",
     "text": [
      "/opt/anaconda3/envs/openvoice/lib/python3.9/site-packages/torch/nn/utils/weight_norm.py:28: UserWarning: torch.nn.utils.weight_norm is deprecated in favor of torch.nn.utils.parametrizations.weight_norm.\n",
      "  warnings.warn(\"torch.nn.utils.weight_norm is deprecated in favor of torch.nn.utils.parametrizations.weight_norm.\")\n"
     ]
    },
    {
     "name": "stdout",
     "output_type": "stream",
     "text": [
      "Loaded checkpoint 'checkpoints/base_speakers/EN/checkpoint.pth'\n",
      "missing/unexpected keys: [] []\n",
      "Loaded checkpoint 'checkpoints/converter/checkpoint.pth'\n",
      "missing/unexpected keys: [] []\n",
      "OpenVoice version: v1\n",
      "[(0.0, 19.278375)]\n",
      "after vad: dur = 19.27798185941043\n",
      " > Text splitted to sentences.\n",
      "I love uI love uI love uI love uI love uI love uI love uI love uI love uI love uI love uI love uI love uI love uI love uI love uI love uI love uI love uI love uI love uI love uI love uI love uI love uI love uI love uI love uI love uI love uI love uI love uI love uI love uI love uI love uI love uI love uI love uI love uI love uI love uI love uI love uI love uI love uI love uI love uI love uI love uI love uI love uI love uI love uI love uI love uI love uI love uI love uI love uI love uI love uI love uI love uI love uI love uI love uI love uI love uI love uI love uI love uI love uI love uI love uI love uI love uI love uI love uI love uI love uI love uI love uI love uI love uI love uI love uI love uI love uI love uI love uI love uI love uI love uI love uI love uI love uI love uI love uI love u\n",
      " > ===========================\n",
      "aɪ ləv ju aɪ ləv ju aɪ ləv ju aɪ ləv ju aɪ ləv ju aɪ ləv ju aɪ ləv ju aɪ ləv ju aɪ ləv ju aɪ ləv ju aɪ ləv ju aɪ ləv ju aɪ ləv ju aɪ ləv ju aɪ ləv ju aɪ ləv ju aɪ ləv ju aɪ ləv ju aɪ ləv ju aɪ ləv ju aɪ ləv ju aɪ ləv ju aɪ ləv ju aɪ ləv ju aɪ ləv ju aɪ ləv ju aɪ ləv ju aɪ ləv ju aɪ ləv ju aɪ ləv ju aɪ ləv ju aɪ ləv ju aɪ ləv ju aɪ ləv ju aɪ ləv ju aɪ ləv ju aɪ ləv ju aɪ ləv ju aɪ ləv ju aɪ ləv ju aɪ ləv ju aɪ ləv ju aɪ ləv ju aɪ ləv ju aɪ ləv ju aɪ ləv ju aɪ ləv ju aɪ ləv ju aɪ ləv ju aɪ ləv ju aɪ ləv ju aɪ ləv ju aɪ ləv ju aɪ ləv ju aɪ ləv ju aɪ ləv ju aɪ ləv ju aɪ ləv ju aɪ ləv ju aɪ ləv ju aɪ ləv ju aɪ ləv ju aɪ ləv ju aɪ ləv ju aɪ ləv ju aɪ ləv ju aɪ ləv ju aɪ ləv ju aɪ ləv ju aɪ ləv ju aɪ ləv ju aɪ ləv ju aɪ ləv ju aɪ ləv ju aɪ ləv ju aɪ ləv ju aɪ ləv ju aɪ ləv ju aɪ ləv ju aɪ ləv ju aɪ ləv ju aɪ ləv ju aɪ ləv ju aɪ ləv ju aɪ ləv ju aɪ ləv ju aɪ ləv ju aɪ ləv ju aɪ ləv ju aɪ ləv ju aɪ ləv ju aɪ ləv ju aɪ ləv ju aɪ ləv ju aɪ ləv ju aɪ ləv ju aɪ ləv ju aɪ ləv ju aɪ ləv ju aɪ ləv ju.\n",
      " length:1000\n",
      " length:1000\n",
      "Cloned Voice Generated!\n"
     ]
    },
    {
     "name": "stderr",
     "output_type": "stream",
     "text": [
      "/opt/anaconda3/envs/openvoice/lib/python3.9/site-packages/torch/nn/utils/weight_norm.py:28: UserWarning: torch.nn.utils.weight_norm is deprecated in favor of torch.nn.utils.parametrizations.weight_norm.\n",
      "  warnings.warn(\"torch.nn.utils.weight_norm is deprecated in favor of torch.nn.utils.parametrizations.weight_norm.\")\n"
     ]
    },
    {
     "name": "stdout",
     "output_type": "stream",
     "text": [
      "Loaded checkpoint 'checkpoints/base_speakers/EN/checkpoint.pth'\n",
      "missing/unexpected keys: [] []\n",
      "Loaded checkpoint 'checkpoints/converter/checkpoint.pth'\n",
      "missing/unexpected keys: [] []\n",
      "OpenVoice version: v1\n",
      "[(0.0, 19.278375)]\n",
      "after vad: dur = 19.27798185941043\n",
      " > Text splitted to sentences.\n",
      "I love uI love uI love uI love uI love uI love uI love uI love uI love uI love uI love uI love uI love uI love uI love uI love uI love uI love uI love uI love uI love uI love uI love uI love uI love uI love uI love uI love uI love uI love uI love uI love uI love uI love uI love uI love uI love uI love uI love uI love uI love uI love uI love uI love uI love uI love uI love uI love uI love uI love uI love uI love uI love uI love uI love uI love uI love uI love uI love uI love uI love uI love uI love uI love uI love uI love uI love uI love uI love uI love uI love uI love uI love uI love uI love uI love uI love uI love uI love uI love uI love uI love uI love uI love uI love uI love uI love uI love uI love uI love uI love uI love uI love uI love uI love uI love uI love uI love uI love uI love u\n",
      " > ===========================\n",
      "aɪ ləv ju aɪ ləv ju aɪ ləv ju aɪ ləv ju aɪ ləv ju aɪ ləv ju aɪ ləv ju aɪ ləv ju aɪ ləv ju aɪ ləv ju aɪ ləv ju aɪ ləv ju aɪ ləv ju aɪ ləv ju aɪ ləv ju aɪ ləv ju aɪ ləv ju aɪ ləv ju aɪ ləv ju aɪ ləv ju aɪ ləv ju aɪ ləv ju aɪ ləv ju aɪ ləv ju aɪ ləv ju aɪ ləv ju aɪ ləv ju aɪ ləv ju aɪ ləv ju aɪ ləv ju aɪ ləv ju aɪ ləv ju aɪ ləv ju aɪ ləv ju aɪ ləv ju aɪ ləv ju aɪ ləv ju aɪ ləv ju aɪ ləv ju aɪ ləv ju aɪ ləv ju aɪ ləv ju aɪ ləv ju aɪ ləv ju aɪ ləv ju aɪ ləv ju aɪ ləv ju aɪ ləv ju aɪ ləv ju aɪ ləv ju aɪ ləv ju aɪ ləv ju aɪ ləv ju aɪ ləv ju aɪ ləv ju aɪ ləv ju aɪ ləv ju aɪ ləv ju aɪ ləv ju aɪ ləv ju aɪ ləv ju aɪ ləv ju aɪ ləv ju aɪ ləv ju aɪ ləv ju aɪ ləv ju aɪ ləv ju aɪ ləv ju aɪ ləv ju aɪ ləv ju aɪ ləv ju aɪ ləv ju aɪ ləv ju aɪ ləv ju aɪ ləv ju aɪ ləv ju aɪ ləv ju aɪ ləv ju aɪ ləv ju aɪ ləv ju aɪ ləv ju aɪ ləv ju aɪ ləv ju aɪ ləv ju aɪ ləv ju aɪ ləv ju aɪ ləv ju aɪ ləv ju aɪ ləv ju aɪ ləv ju aɪ ləv ju aɪ ləv ju aɪ ləv ju aɪ ləv ju aɪ ləv ju aɪ ləv ju aɪ ləv ju aɪ ləv ju aɪ ləv ju aɪ ləv ju.\n",
      " length:1000\n",
      " length:1000\n",
      "Cloned Voice Generated!\n"
     ]
    },
    {
     "name": "stderr",
     "output_type": "stream",
     "text": [
      "/opt/anaconda3/envs/openvoice/lib/python3.9/site-packages/torch/nn/utils/weight_norm.py:28: UserWarning: torch.nn.utils.weight_norm is deprecated in favor of torch.nn.utils.parametrizations.weight_norm.\n",
      "  warnings.warn(\"torch.nn.utils.weight_norm is deprecated in favor of torch.nn.utils.parametrizations.weight_norm.\")\n"
     ]
    },
    {
     "name": "stdout",
     "output_type": "stream",
     "text": [
      "Loaded checkpoint 'checkpoints/base_speakers/EN/checkpoint.pth'\n",
      "missing/unexpected keys: [] []\n",
      "Loaded checkpoint 'checkpoints/converter/checkpoint.pth'\n",
      "missing/unexpected keys: [] []\n",
      "OpenVoice version: v1\n",
      "[(0.0, 19.278375)]\n",
      "after vad: dur = 19.27798185941043\n",
      " > Text splitted to sentences.\n",
      "I love uI love uI love uI love uI love uI love uI love uI love uI love uI love uI love uI love uI love uI love uI love uI love uI love uI love uI love uI love uI love uI love uI love uI love uI love uI love uI love uI love uI love uI love uI love uI love uI love uI love uI love uI love uI love uI love uI love uI love uI love uI love uI love uI love uI love uI love uI love uI love uI love uI love uI love uI love uI love uI love uI love uI love uI love uI love uI love uI love uI love uI love uI love uI love uI love uI love uI love uI love uI love uI love uI love uI love uI love uI love uI love uI love uI love uI love uI love uI love uI love uI love uI love uI love uI love uI love uI love uI love uI love uI love uI love uI love uI love uI love uI love uI love uI love uI love uI love uI love u\n",
      " > ===========================\n",
      "aɪ ləv ju aɪ ləv ju aɪ ləv ju aɪ ləv ju aɪ ləv ju aɪ ləv ju aɪ ləv ju aɪ ləv ju aɪ ləv ju aɪ ləv ju aɪ ləv ju aɪ ləv ju aɪ ləv ju aɪ ləv ju aɪ ləv ju aɪ ləv ju aɪ ləv ju aɪ ləv ju aɪ ləv ju aɪ ləv ju aɪ ləv ju aɪ ləv ju aɪ ləv ju aɪ ləv ju aɪ ləv ju aɪ ləv ju aɪ ləv ju aɪ ləv ju aɪ ləv ju aɪ ləv ju aɪ ləv ju aɪ ləv ju aɪ ləv ju aɪ ləv ju aɪ ləv ju aɪ ləv ju aɪ ləv ju aɪ ləv ju aɪ ləv ju aɪ ləv ju aɪ ləv ju aɪ ləv ju aɪ ləv ju aɪ ləv ju aɪ ləv ju aɪ ləv ju aɪ ləv ju aɪ ləv ju aɪ ləv ju aɪ ləv ju aɪ ləv ju aɪ ləv ju aɪ ləv ju aɪ ləv ju aɪ ləv ju aɪ ləv ju aɪ ləv ju aɪ ləv ju aɪ ləv ju aɪ ləv ju aɪ ləv ju aɪ ləv ju aɪ ləv ju aɪ ləv ju aɪ ləv ju aɪ ləv ju aɪ ləv ju aɪ ləv ju aɪ ləv ju aɪ ləv ju aɪ ləv ju aɪ ləv ju aɪ ləv ju aɪ ləv ju aɪ ləv ju aɪ ləv ju aɪ ləv ju aɪ ləv ju aɪ ləv ju aɪ ləv ju aɪ ləv ju aɪ ləv ju aɪ ləv ju aɪ ləv ju aɪ ləv ju aɪ ləv ju aɪ ləv ju aɪ ləv ju aɪ ləv ju aɪ ləv ju aɪ ləv ju aɪ ləv ju aɪ ləv ju aɪ ləv ju aɪ ləv ju aɪ ləv ju aɪ ləv ju aɪ ləv ju aɪ ləv ju aɪ ləv ju.\n",
      " length:1000\n",
      " length:1000\n",
      "Cloned Voice Generated!\n"
     ]
    },
    {
     "name": "stderr",
     "output_type": "stream",
     "text": [
      "/opt/anaconda3/envs/openvoice/lib/python3.9/site-packages/torch/nn/utils/weight_norm.py:28: UserWarning: torch.nn.utils.weight_norm is deprecated in favor of torch.nn.utils.parametrizations.weight_norm.\n",
      "  warnings.warn(\"torch.nn.utils.weight_norm is deprecated in favor of torch.nn.utils.parametrizations.weight_norm.\")\n"
     ]
    },
    {
     "name": "stdout",
     "output_type": "stream",
     "text": [
      "Loaded checkpoint 'checkpoints/base_speakers/EN/checkpoint.pth'\n",
      "missing/unexpected keys: [] []\n",
      "Loaded checkpoint 'checkpoints/converter/checkpoint.pth'\n",
      "missing/unexpected keys: [] []\n",
      "OpenVoice version: v1\n",
      "[(0.0, 19.278375)]\n",
      "after vad: dur = 19.27798185941043\n",
      " > Text splitted to sentences.\n",
      "I love uI love uI love uI love uI love uI love uI love uI love uI love uI love uI love uI love uI love uI love uI love uI love uI love uI love uI love uI love uI love uI love uI love uI love uI love uI love uI love uI love uI love uI love uI love uI love uI love uI love uI love uI love uI love uI love uI love uI love uI love uI love uI love uI love uI love uI love uI love uI love uI love uI love uI love uI love uI love uI love uI love uI love uI love uI love uI love uI love uI love uI love uI love uI love uI love uI love uI love uI love uI love uI love uI love uI love uI love uI love uI love uI love uI love uI love uI love uI love uI love uI love uI love uI love uI love uI love uI love uI love uI love uI love uI love uI love uI love uI love uI love uI love uI love uI love uI love uI love u\n",
      " > ===========================\n",
      "aɪ ləv ju aɪ ləv ju aɪ ləv ju aɪ ləv ju aɪ ləv ju aɪ ləv ju aɪ ləv ju aɪ ləv ju aɪ ləv ju aɪ ləv ju aɪ ləv ju aɪ ləv ju aɪ ləv ju aɪ ləv ju aɪ ləv ju aɪ ləv ju aɪ ləv ju aɪ ləv ju aɪ ləv ju aɪ ləv ju aɪ ləv ju aɪ ləv ju aɪ ləv ju aɪ ləv ju aɪ ləv ju aɪ ləv ju aɪ ləv ju aɪ ləv ju aɪ ləv ju aɪ ləv ju aɪ ləv ju aɪ ləv ju aɪ ləv ju aɪ ləv ju aɪ ləv ju aɪ ləv ju aɪ ləv ju aɪ ləv ju aɪ ləv ju aɪ ləv ju aɪ ləv ju aɪ ləv ju aɪ ləv ju aɪ ləv ju aɪ ləv ju aɪ ləv ju aɪ ləv ju aɪ ləv ju aɪ ləv ju aɪ ləv ju aɪ ləv ju aɪ ləv ju aɪ ləv ju aɪ ləv ju aɪ ləv ju aɪ ləv ju aɪ ləv ju aɪ ləv ju aɪ ləv ju aɪ ləv ju aɪ ləv ju aɪ ləv ju aɪ ləv ju aɪ ləv ju aɪ ləv ju aɪ ləv ju aɪ ləv ju aɪ ləv ju aɪ ləv ju aɪ ləv ju aɪ ləv ju aɪ ləv ju aɪ ləv ju aɪ ləv ju aɪ ləv ju aɪ ləv ju aɪ ləv ju aɪ ləv ju aɪ ləv ju aɪ ləv ju aɪ ləv ju aɪ ləv ju aɪ ləv ju aɪ ləv ju aɪ ləv ju aɪ ləv ju aɪ ləv ju aɪ ləv ju aɪ ləv ju aɪ ləv ju aɪ ləv ju aɪ ləv ju aɪ ləv ju aɪ ləv ju aɪ ləv ju aɪ ləv ju aɪ ləv ju aɪ ləv ju aɪ ləv ju aɪ ləv ju.\n",
      " length:1000\n",
      " length:1000\n",
      "Cloned Voice Generated!\n",
      "Execution times:\n",
      "Text length: 1, Execution time: 2.6455 seconds\n",
      "Text length: 5, Execution time: 3.8088 seconds\n",
      "Text length: 10, Execution time: 4.7748 seconds\n",
      "Text length: 15, Execution time: 5.7571 seconds\n",
      "Text length: 50, Execution time: 11.6110 seconds\n",
      "Text length: 100, Execution time: 20.1997 seconds\n"
     ]
    }
   ],
   "source": [
    "text_lengths = [1, 5, 10, 15, 50, 100]  \n",
    "\n",
    "execution_times = []\n",
    "\n",
    "for length in text_lengths:\n",
    "    input_text = \"I love u\" * length\n",
    "    execution_time = avg_execution_time(\"resources/demo_speaker0.mp3\", input_text)\n",
    "    execution_times.append(execution_time)\n",
    "\n",
    "print(\"Execution times:\")\n",
    "for i, time in enumerate(execution_times, 1):\n",
    "    print(f\"Text length: {text_lengths[i-1]}, Execution time: {time:.4f} seconds\")\n",
    "\n"
   ]
  },
  {
   "cell_type": "markdown",
   "metadata": {},
   "source": [
    "画一个折线图， demo1，2，3 ， text length vs execution time"
   ]
  },
  {
   "cell_type": "code",
   "execution_count": 12,
   "metadata": {},
   "outputs": [
    {
     "data": {
      "image/png": "[encoded data removed]",
      "text/plain": [
       "<Figure size 1000x600 with 1 Axes>"
      ]
     },
     "metadata": {},
     "output_type": "display_data"
    }
   ],
   "source": [
    "import matplotlib.pyplot as plt\n",
    "\n",
    "# Assuming you have three arrays of execution times for different conditions\n",
    "execution_times_1 = [2.6455, 3.8088, 4.7748, 5.7571, 11.6110, 20.1997]\n",
    "execution_times_2 = [3.0, 4.0, 5.0, 6.0, 10.0, 18.0]\n",
    "execution_times_3 = [2.5, 3.5, 4.5, 5.5, 11.0, 19.0]\n",
    "\n",
    "text_lengths = [1, 5, 10, 15, 50, 100]\n",
    "\n",
    "plt.figure(figsize=(10, 6))\n",
    "plt.plot(text_lengths, execution_times_1, marker='o', label='Condition 1')\n",
    "plt.plot(text_lengths, execution_times_2, marker='s', label='Condition 2')\n",
    "plt.plot(text_lengths, execution_times_3, marker='^', label='Condition 3')\n",
    "plt.xlabel('Input Text Length')\n",
    "plt.ylabel('Execution Time (seconds)')\n",
    "plt.title('Execution Time vs Input Length')\n",
    "plt.legend()\n",
    "plt.grid(True)\n",
    "plt.show()\n"
   ]
  },
  {
   "cell_type": "markdown",
   "metadata": {},
   "source": [
    "### Trial two: Different input auido length vs execution time ###"
   ]
  },
  {
   "cell_type": "code",
   "execution_count": 15,
   "metadata": {},
   "outputs": [
    {
     "name": "stderr",
     "output_type": "stream",
     "text": [
      "/opt/anaconda3/envs/openvoice/lib/python3.9/site-packages/torch/nn/utils/weight_norm.py:28: UserWarning: torch.nn.utils.weight_norm is deprecated in favor of torch.nn.utils.parametrizations.weight_norm.\n",
      "  warnings.warn(\"torch.nn.utils.weight_norm is deprecated in favor of torch.nn.utils.parametrizations.weight_norm.\")\n"
     ]
    },
    {
     "name": "stdout",
     "output_type": "stream",
     "text": [
      "Loaded checkpoint 'checkpoints/base_speakers/EN/checkpoint.pth'\n",
      "missing/unexpected keys: [] []\n",
      "Loaded checkpoint 'checkpoints/converter/checkpoint.pth'\n",
      "missing/unexpected keys: [] []\n",
      "OpenVoice version: v1\n",
      "[(0.0, 19.278375)]\n",
      "after vad: dur = 19.27798185941043\n",
      " > Text splitted to sentences.\n",
      "Hi, how are you.\n",
      " > ===========================\n",
      "haɪ, haʊ əɹ ju.\n",
      " length:15\n",
      " length:15\n",
      "Audio too short, fail to add watermark\n",
      "Cloned Voice Generated!\n"
     ]
    },
    {
     "name": "stderr",
     "output_type": "stream",
     "text": [
      "/opt/anaconda3/envs/openvoice/lib/python3.9/site-packages/torch/nn/utils/weight_norm.py:28: UserWarning: torch.nn.utils.weight_norm is deprecated in favor of torch.nn.utils.parametrizations.weight_norm.\n",
      "  warnings.warn(\"torch.nn.utils.weight_norm is deprecated in favor of torch.nn.utils.parametrizations.weight_norm.\")\n"
     ]
    },
    {
     "name": "stdout",
     "output_type": "stream",
     "text": [
      "Loaded checkpoint 'checkpoints/base_speakers/EN/checkpoint.pth'\n",
      "missing/unexpected keys: [] []\n",
      "Loaded checkpoint 'checkpoints/converter/checkpoint.pth'\n",
      "missing/unexpected keys: [] []\n",
      "OpenVoice version: v1\n",
      "[(0.0, 19.278375)]\n",
      "after vad: dur = 19.27798185941043\n",
      " > Text splitted to sentences.\n",
      "Hi, how are you.\n",
      " > ===========================\n",
      "haɪ, haʊ əɹ ju.\n",
      " length:15\n",
      " length:15\n",
      "Audio too short, fail to add watermark\n",
      "Cloned Voice Generated!\n"
     ]
    },
    {
     "name": "stderr",
     "output_type": "stream",
     "text": [
      "/opt/anaconda3/envs/openvoice/lib/python3.9/site-packages/torch/nn/utils/weight_norm.py:28: UserWarning: torch.nn.utils.weight_norm is deprecated in favor of torch.nn.utils.parametrizations.weight_norm.\n",
      "  warnings.warn(\"torch.nn.utils.weight_norm is deprecated in favor of torch.nn.utils.parametrizations.weight_norm.\")\n"
     ]
    },
    {
     "name": "stdout",
     "output_type": "stream",
     "text": [
      "Loaded checkpoint 'checkpoints/base_speakers/EN/checkpoint.pth'\n",
      "missing/unexpected keys: [] []\n",
      "Loaded checkpoint 'checkpoints/converter/checkpoint.pth'\n",
      "missing/unexpected keys: [] []\n",
      "OpenVoice version: v1\n",
      "[(0.0, 19.278375)]\n",
      "after vad: dur = 19.27798185941043\n",
      " > Text splitted to sentences.\n",
      "Hi, how are you.\n",
      " > ===========================\n",
      "haɪ, haʊ əɹ ju.\n",
      " length:15\n",
      " length:15\n",
      "Audio too short, fail to add watermark\n",
      "Cloned Voice Generated!\n"
     ]
    },
    {
     "name": "stderr",
     "output_type": "stream",
     "text": [
      "/opt/anaconda3/envs/openvoice/lib/python3.9/site-packages/torch/nn/utils/weight_norm.py:28: UserWarning: torch.nn.utils.weight_norm is deprecated in favor of torch.nn.utils.parametrizations.weight_norm.\n",
      "  warnings.warn(\"torch.nn.utils.weight_norm is deprecated in favor of torch.nn.utils.parametrizations.weight_norm.\")\n"
     ]
    },
    {
     "name": "stdout",
     "output_type": "stream",
     "text": [
      "Loaded checkpoint 'checkpoints/base_speakers/EN/checkpoint.pth'\n",
      "missing/unexpected keys: [] []\n",
      "Loaded checkpoint 'checkpoints/converter/checkpoint.pth'\n",
      "missing/unexpected keys: [] []\n",
      "OpenVoice version: v1\n",
      "[(0.0, 19.278375)]\n",
      "after vad: dur = 19.27798185941043\n",
      " > Text splitted to sentences.\n",
      "Hi, how are you.\n",
      " > ===========================\n",
      "haɪ, haʊ əɹ ju.\n",
      " length:15\n",
      " length:15\n",
      "Audio too short, fail to add watermark\n",
      "Cloned Voice Generated!\n"
     ]
    },
    {
     "name": "stderr",
     "output_type": "stream",
     "text": [
      "/opt/anaconda3/envs/openvoice/lib/python3.9/site-packages/torch/nn/utils/weight_norm.py:28: UserWarning: torch.nn.utils.weight_norm is deprecated in favor of torch.nn.utils.parametrizations.weight_norm.\n",
      "  warnings.warn(\"torch.nn.utils.weight_norm is deprecated in favor of torch.nn.utils.parametrizations.weight_norm.\")\n"
     ]
    },
    {
     "name": "stdout",
     "output_type": "stream",
     "text": [
      "Loaded checkpoint 'checkpoints/base_speakers/EN/checkpoint.pth'\n",
      "missing/unexpected keys: [] []\n",
      "Loaded checkpoint 'checkpoints/converter/checkpoint.pth'\n",
      "missing/unexpected keys: [] []\n",
      "OpenVoice version: v1\n",
      "[(0.0, 19.278375)]\n",
      "after vad: dur = 19.27798185941043\n",
      " > Text splitted to sentences.\n",
      "Hi, how are you.\n",
      " > ===========================\n",
      "haɪ, haʊ əɹ ju.\n",
      " length:15\n",
      " length:15\n",
      "Audio too short, fail to add watermark\n",
      "Cloned Voice Generated!\n"
     ]
    },
    {
     "name": "stderr",
     "output_type": "stream",
     "text": [
      "/opt/anaconda3/envs/openvoice/lib/python3.9/site-packages/torch/nn/utils/weight_norm.py:28: UserWarning: torch.nn.utils.weight_norm is deprecated in favor of torch.nn.utils.parametrizations.weight_norm.\n",
      "  warnings.warn(\"torch.nn.utils.weight_norm is deprecated in favor of torch.nn.utils.parametrizations.weight_norm.\")\n"
     ]
    },
    {
     "name": "stdout",
     "output_type": "stream",
     "text": [
      "Loaded checkpoint 'checkpoints/base_speakers/EN/checkpoint.pth'\n",
      "missing/unexpected keys: [] []\n",
      "Loaded checkpoint 'checkpoints/converter/checkpoint.pth'\n",
      "missing/unexpected keys: [] []\n",
      "OpenVoice version: v1\n",
      "[(0.0, 19.278375)]\n",
      "after vad: dur = 19.27798185941043\n",
      " > Text splitted to sentences.\n",
      "Hi, how are you.\n",
      " > ===========================\n",
      "haɪ, haʊ əɹ ju.\n",
      " length:15\n",
      " length:15\n",
      "Audio too short, fail to add watermark\n",
      "Cloned Voice Generated!\n"
     ]
    },
    {
     "name": "stderr",
     "output_type": "stream",
     "text": [
      "/opt/anaconda3/envs/openvoice/lib/python3.9/site-packages/torch/nn/utils/weight_norm.py:28: UserWarning: torch.nn.utils.weight_norm is deprecated in favor of torch.nn.utils.parametrizations.weight_norm.\n",
      "  warnings.warn(\"torch.nn.utils.weight_norm is deprecated in favor of torch.nn.utils.parametrizations.weight_norm.\")\n"
     ]
    },
    {
     "name": "stdout",
     "output_type": "stream",
     "text": [
      "Loaded checkpoint 'checkpoints/base_speakers/EN/checkpoint.pth'\n",
      "missing/unexpected keys: [] []\n",
      "Loaded checkpoint 'checkpoints/converter/checkpoint.pth'\n",
      "missing/unexpected keys: [] []\n",
      "OpenVoice version: v1\n",
      "[(0.0, 19.278375)]\n",
      "after vad: dur = 19.27798185941043\n",
      " > Text splitted to sentences.\n",
      "Hi, how are you.\n",
      " > ===========================\n",
      "haɪ, haʊ əɹ ju.\n",
      " length:15\n",
      " length:15\n",
      "Audio too short, fail to add watermark\n",
      "Cloned Voice Generated!\n"
     ]
    },
    {
     "name": "stderr",
     "output_type": "stream",
     "text": [
      "/opt/anaconda3/envs/openvoice/lib/python3.9/site-packages/torch/nn/utils/weight_norm.py:28: UserWarning: torch.nn.utils.weight_norm is deprecated in favor of torch.nn.utils.parametrizations.weight_norm.\n",
      "  warnings.warn(\"torch.nn.utils.weight_norm is deprecated in favor of torch.nn.utils.parametrizations.weight_norm.\")\n"
     ]
    },
    {
     "name": "stdout",
     "output_type": "stream",
     "text": [
      "Loaded checkpoint 'checkpoints/base_speakers/EN/checkpoint.pth'\n",
      "missing/unexpected keys: [] []\n",
      "Loaded checkpoint 'checkpoints/converter/checkpoint.pth'\n",
      "missing/unexpected keys: [] []\n",
      "OpenVoice version: v1\n",
      "[(0.0, 19.278375)]\n",
      "after vad: dur = 19.27798185941043\n",
      " > Text splitted to sentences.\n",
      "Hi, how are you.\n",
      " > ===========================\n",
      "haɪ, haʊ əɹ ju.\n",
      " length:15\n",
      " length:15\n",
      "Audio too short, fail to add watermark\n",
      "Cloned Voice Generated!\n"
     ]
    },
    {
     "name": "stderr",
     "output_type": "stream",
     "text": [
      "/opt/anaconda3/envs/openvoice/lib/python3.9/site-packages/torch/nn/utils/weight_norm.py:28: UserWarning: torch.nn.utils.weight_norm is deprecated in favor of torch.nn.utils.parametrizations.weight_norm.\n",
      "  warnings.warn(\"torch.nn.utils.weight_norm is deprecated in favor of torch.nn.utils.parametrizations.weight_norm.\")\n"
     ]
    },
    {
     "name": "stdout",
     "output_type": "stream",
     "text": [
      "Loaded checkpoint 'checkpoints/base_speakers/EN/checkpoint.pth'\n",
      "missing/unexpected keys: [] []\n",
      "Loaded checkpoint 'checkpoints/converter/checkpoint.pth'\n",
      "missing/unexpected keys: [] []\n",
      "OpenVoice version: v1\n",
      "[(0.0, 19.278375)]\n",
      "after vad: dur = 19.27798185941043\n",
      " > Text splitted to sentences.\n",
      "Hi, how are you.\n",
      " > ===========================\n",
      "haɪ, haʊ əɹ ju.\n",
      " length:15\n",
      " length:15\n",
      "Audio too short, fail to add watermark\n",
      "Cloned Voice Generated!\n"
     ]
    },
    {
     "name": "stderr",
     "output_type": "stream",
     "text": [
      "/opt/anaconda3/envs/openvoice/lib/python3.9/site-packages/torch/nn/utils/weight_norm.py:28: UserWarning: torch.nn.utils.weight_norm is deprecated in favor of torch.nn.utils.parametrizations.weight_norm.\n",
      "  warnings.warn(\"torch.nn.utils.weight_norm is deprecated in favor of torch.nn.utils.parametrizations.weight_norm.\")\n"
     ]
    },
    {
     "name": "stdout",
     "output_type": "stream",
     "text": [
      "Loaded checkpoint 'checkpoints/base_speakers/EN/checkpoint.pth'\n",
      "missing/unexpected keys: [] []\n",
      "Loaded checkpoint 'checkpoints/converter/checkpoint.pth'\n",
      "missing/unexpected keys: [] []\n",
      "OpenVoice version: v1\n",
      "[(0.0, 19.278375)]\n",
      "after vad: dur = 19.27798185941043\n",
      " > Text splitted to sentences.\n",
      "Hi, how are you.\n",
      " > ===========================\n",
      "haɪ, haʊ əɹ ju.\n",
      " length:15\n",
      " length:15\n",
      "Audio too short, fail to add watermark\n",
      "Cloned Voice Generated!\n"
     ]
    },
    {
     "name": "stderr",
     "output_type": "stream",
     "text": [
      "/opt/anaconda3/envs/openvoice/lib/python3.9/site-packages/torch/nn/utils/weight_norm.py:28: UserWarning: torch.nn.utils.weight_norm is deprecated in favor of torch.nn.utils.parametrizations.weight_norm.\n",
      "  warnings.warn(\"torch.nn.utils.weight_norm is deprecated in favor of torch.nn.utils.parametrizations.weight_norm.\")\n"
     ]
    },
    {
     "name": "stdout",
     "output_type": "stream",
     "text": [
      "Loaded checkpoint 'checkpoints/base_speakers/EN/checkpoint.pth'\n",
      "missing/unexpected keys: [] []\n",
      "Loaded checkpoint 'checkpoints/converter/checkpoint.pth'\n",
      "missing/unexpected keys: [] []\n",
      "OpenVoice version: v1\n",
      "[(0.0, 8.178), (9.326, 12.914), (13.262, 16.402), (16.654, 29.49225)]\n",
      "after vad: dur = 27.743990929705216\n",
      " > Text splitted to sentences.\n",
      "Hi, how are you.\n",
      " > ===========================\n",
      "haɪ, haʊ əɹ ju.\n",
      " length:15\n",
      " length:15\n",
      "Audio too short, fail to add watermark\n",
      "Cloned Voice Generated!\n"
     ]
    },
    {
     "name": "stderr",
     "output_type": "stream",
     "text": [
      "/opt/anaconda3/envs/openvoice/lib/python3.9/site-packages/torch/nn/utils/weight_norm.py:28: UserWarning: torch.nn.utils.weight_norm is deprecated in favor of torch.nn.utils.parametrizations.weight_norm.\n",
      "  warnings.warn(\"torch.nn.utils.weight_norm is deprecated in favor of torch.nn.utils.parametrizations.weight_norm.\")\n"
     ]
    },
    {
     "name": "stdout",
     "output_type": "stream",
     "text": [
      "Loaded checkpoint 'checkpoints/base_speakers/EN/checkpoint.pth'\n",
      "missing/unexpected keys: [] []\n",
      "Loaded checkpoint 'checkpoints/converter/checkpoint.pth'\n",
      "missing/unexpected keys: [] []\n",
      "OpenVoice version: v1\n",
      "[(0.0, 8.178), (9.326, 12.914), (13.262, 16.402), (16.654, 29.49225)]\n",
      "after vad: dur = 27.743990929705216\n",
      " > Text splitted to sentences.\n",
      "Hi, how are you.\n",
      " > ===========================\n",
      "haɪ, haʊ əɹ ju.\n",
      " length:15\n",
      " length:15\n",
      "Audio too short, fail to add watermark\n",
      "Cloned Voice Generated!\n"
     ]
    },
    {
     "name": "stderr",
     "output_type": "stream",
     "text": [
      "/opt/anaconda3/envs/openvoice/lib/python3.9/site-packages/torch/nn/utils/weight_norm.py:28: UserWarning: torch.nn.utils.weight_norm is deprecated in favor of torch.nn.utils.parametrizations.weight_norm.\n",
      "  warnings.warn(\"torch.nn.utils.weight_norm is deprecated in favor of torch.nn.utils.parametrizations.weight_norm.\")\n"
     ]
    },
    {
     "name": "stdout",
     "output_type": "stream",
     "text": [
      "Loaded checkpoint 'checkpoints/base_speakers/EN/checkpoint.pth'\n",
      "missing/unexpected keys: [] []\n",
      "Loaded checkpoint 'checkpoints/converter/checkpoint.pth'\n",
      "missing/unexpected keys: [] []\n",
      "OpenVoice version: v1\n",
      "[(0.0, 8.178), (9.326, 12.914), (13.262, 16.402), (16.654, 29.49225)]\n",
      "after vad: dur = 27.743990929705216\n",
      " > Text splitted to sentences.\n",
      "Hi, how are you.\n",
      " > ===========================\n",
      "haɪ, haʊ əɹ ju.\n",
      " length:15\n",
      " length:15\n",
      "Audio too short, fail to add watermark\n",
      "Cloned Voice Generated!\n"
     ]
    },
    {
     "name": "stderr",
     "output_type": "stream",
     "text": [
      "/opt/anaconda3/envs/openvoice/lib/python3.9/site-packages/torch/nn/utils/weight_norm.py:28: UserWarning: torch.nn.utils.weight_norm is deprecated in favor of torch.nn.utils.parametrizations.weight_norm.\n",
      "  warnings.warn(\"torch.nn.utils.weight_norm is deprecated in favor of torch.nn.utils.parametrizations.weight_norm.\")\n"
     ]
    },
    {
     "name": "stdout",
     "output_type": "stream",
     "text": [
      "Loaded checkpoint 'checkpoints/base_speakers/EN/checkpoint.pth'\n",
      "missing/unexpected keys: [] []\n",
      "Loaded checkpoint 'checkpoints/converter/checkpoint.pth'\n",
      "missing/unexpected keys: [] []\n",
      "OpenVoice version: v1\n",
      "[(0.0, 8.178), (9.326, 12.914), (13.262, 16.402), (16.654, 29.49225)]\n",
      "after vad: dur = 27.743990929705216\n",
      " > Text splitted to sentences.\n",
      "Hi, how are you.\n",
      " > ===========================\n",
      "haɪ, haʊ əɹ ju.\n",
      " length:15\n",
      " length:15\n",
      "Audio too short, fail to add watermark\n",
      "Cloned Voice Generated!\n"
     ]
    },
    {
     "name": "stderr",
     "output_type": "stream",
     "text": [
      "/opt/anaconda3/envs/openvoice/lib/python3.9/site-packages/torch/nn/utils/weight_norm.py:28: UserWarning: torch.nn.utils.weight_norm is deprecated in favor of torch.nn.utils.parametrizations.weight_norm.\n",
      "  warnings.warn(\"torch.nn.utils.weight_norm is deprecated in favor of torch.nn.utils.parametrizations.weight_norm.\")\n"
     ]
    },
    {
     "name": "stdout",
     "output_type": "stream",
     "text": [
      "Loaded checkpoint 'checkpoints/base_speakers/EN/checkpoint.pth'\n",
      "missing/unexpected keys: [] []\n",
      "Loaded checkpoint 'checkpoints/converter/checkpoint.pth'\n",
      "missing/unexpected keys: [] []\n",
      "OpenVoice version: v1\n",
      "[(0.0, 8.178), (9.326, 12.914), (13.262, 16.402), (16.654, 29.49225)]\n",
      "after vad: dur = 27.743990929705216\n",
      " > Text splitted to sentences.\n",
      "Hi, how are you.\n",
      " > ===========================\n",
      "haɪ, haʊ əɹ ju.\n",
      " length:15\n",
      " length:15\n",
      "Audio too short, fail to add watermark\n",
      "Cloned Voice Generated!\n"
     ]
    },
    {
     "name": "stderr",
     "output_type": "stream",
     "text": [
      "/opt/anaconda3/envs/openvoice/lib/python3.9/site-packages/torch/nn/utils/weight_norm.py:28: UserWarning: torch.nn.utils.weight_norm is deprecated in favor of torch.nn.utils.parametrizations.weight_norm.\n",
      "  warnings.warn(\"torch.nn.utils.weight_norm is deprecated in favor of torch.nn.utils.parametrizations.weight_norm.\")\n"
     ]
    },
    {
     "name": "stdout",
     "output_type": "stream",
     "text": [
      "Loaded checkpoint 'checkpoints/base_speakers/EN/checkpoint.pth'\n",
      "missing/unexpected keys: [] []\n",
      "Loaded checkpoint 'checkpoints/converter/checkpoint.pth'\n",
      "missing/unexpected keys: [] []\n",
      "OpenVoice version: v1\n",
      "[(0.0, 8.178), (9.326, 12.914), (13.262, 16.402), (16.654, 29.49225)]\n",
      "after vad: dur = 27.743990929705216\n",
      " > Text splitted to sentences.\n",
      "Hi, how are you.\n",
      " > ===========================\n",
      "haɪ, haʊ əɹ ju.\n",
      " length:15\n",
      " length:15\n",
      "Audio too short, fail to add watermark\n",
      "Cloned Voice Generated!\n"
     ]
    },
    {
     "name": "stderr",
     "output_type": "stream",
     "text": [
      "/opt/anaconda3/envs/openvoice/lib/python3.9/site-packages/torch/nn/utils/weight_norm.py:28: UserWarning: torch.nn.utils.weight_norm is deprecated in favor of torch.nn.utils.parametrizations.weight_norm.\n",
      "  warnings.warn(\"torch.nn.utils.weight_norm is deprecated in favor of torch.nn.utils.parametrizations.weight_norm.\")\n"
     ]
    },
    {
     "name": "stdout",
     "output_type": "stream",
     "text": [
      "Loaded checkpoint 'checkpoints/base_speakers/EN/checkpoint.pth'\n",
      "missing/unexpected keys: [] []\n",
      "Loaded checkpoint 'checkpoints/converter/checkpoint.pth'\n",
      "missing/unexpected keys: [] []\n",
      "OpenVoice version: v1\n",
      "[(0.0, 8.178), (9.326, 12.914), (13.262, 16.402), (16.654, 29.49225)]\n",
      "after vad: dur = 27.743990929705216\n",
      " > Text splitted to sentences.\n",
      "Hi, how are you.\n",
      " > ===========================\n",
      "haɪ, haʊ əɹ ju.\n",
      " length:15\n",
      " length:15\n",
      "Audio too short, fail to add watermark\n",
      "Cloned Voice Generated!\n"
     ]
    },
    {
     "name": "stderr",
     "output_type": "stream",
     "text": [
      "/opt/anaconda3/envs/openvoice/lib/python3.9/site-packages/torch/nn/utils/weight_norm.py:28: UserWarning: torch.nn.utils.weight_norm is deprecated in favor of torch.nn.utils.parametrizations.weight_norm.\n",
      "  warnings.warn(\"torch.nn.utils.weight_norm is deprecated in favor of torch.nn.utils.parametrizations.weight_norm.\")\n"
     ]
    },
    {
     "name": "stdout",
     "output_type": "stream",
     "text": [
      "Loaded checkpoint 'checkpoints/base_speakers/EN/checkpoint.pth'\n",
      "missing/unexpected keys: [] []\n",
      "Loaded checkpoint 'checkpoints/converter/checkpoint.pth'\n",
      "missing/unexpected keys: [] []\n",
      "OpenVoice version: v1\n",
      "[(0.0, 8.178), (9.326, 12.914), (13.262, 16.402), (16.654, 29.49225)]\n",
      "after vad: dur = 27.743990929705216\n",
      " > Text splitted to sentences.\n",
      "Hi, how are you.\n",
      " > ===========================\n",
      "haɪ, haʊ əɹ ju.\n",
      " length:15\n",
      " length:15\n",
      "Audio too short, fail to add watermark\n",
      "Cloned Voice Generated!\n"
     ]
    },
    {
     "name": "stderr",
     "output_type": "stream",
     "text": [
      "/opt/anaconda3/envs/openvoice/lib/python3.9/site-packages/torch/nn/utils/weight_norm.py:28: UserWarning: torch.nn.utils.weight_norm is deprecated in favor of torch.nn.utils.parametrizations.weight_norm.\n",
      "  warnings.warn(\"torch.nn.utils.weight_norm is deprecated in favor of torch.nn.utils.parametrizations.weight_norm.\")\n"
     ]
    },
    {
     "name": "stdout",
     "output_type": "stream",
     "text": [
      "Loaded checkpoint 'checkpoints/base_speakers/EN/checkpoint.pth'\n",
      "missing/unexpected keys: [] []\n",
      "Loaded checkpoint 'checkpoints/converter/checkpoint.pth'\n",
      "missing/unexpected keys: [] []\n",
      "OpenVoice version: v1\n",
      "[(0.0, 8.178), (9.326, 12.914), (13.262, 16.402), (16.654, 29.49225)]\n",
      "after vad: dur = 27.743990929705216\n",
      " > Text splitted to sentences.\n",
      "Hi, how are you.\n",
      " > ===========================\n",
      "haɪ, haʊ əɹ ju.\n",
      " length:15\n",
      " length:15\n",
      "Audio too short, fail to add watermark\n",
      "Cloned Voice Generated!\n"
     ]
    },
    {
     "name": "stderr",
     "output_type": "stream",
     "text": [
      "/opt/anaconda3/envs/openvoice/lib/python3.9/site-packages/torch/nn/utils/weight_norm.py:28: UserWarning: torch.nn.utils.weight_norm is deprecated in favor of torch.nn.utils.parametrizations.weight_norm.\n",
      "  warnings.warn(\"torch.nn.utils.weight_norm is deprecated in favor of torch.nn.utils.parametrizations.weight_norm.\")\n"
     ]
    },
    {
     "name": "stdout",
     "output_type": "stream",
     "text": [
      "Loaded checkpoint 'checkpoints/base_speakers/EN/checkpoint.pth'\n",
      "missing/unexpected keys: [] []\n",
      "Loaded checkpoint 'checkpoints/converter/checkpoint.pth'\n",
      "missing/unexpected keys: [] []\n",
      "OpenVoice version: v1\n",
      "[(0.0, 8.178), (9.326, 12.914), (13.262, 16.402), (16.654, 29.49225)]\n",
      "after vad: dur = 27.743990929705216\n",
      " > Text splitted to sentences.\n",
      "Hi, how are you.\n",
      " > ===========================\n",
      "haɪ, haʊ əɹ ju.\n",
      " length:15\n",
      " length:15\n",
      "Audio too short, fail to add watermark\n",
      "Cloned Voice Generated!\n"
     ]
    },
    {
     "name": "stderr",
     "output_type": "stream",
     "text": [
      "/opt/anaconda3/envs/openvoice/lib/python3.9/site-packages/torch/nn/utils/weight_norm.py:28: UserWarning: torch.nn.utils.weight_norm is deprecated in favor of torch.nn.utils.parametrizations.weight_norm.\n",
      "  warnings.warn(\"torch.nn.utils.weight_norm is deprecated in favor of torch.nn.utils.parametrizations.weight_norm.\")\n"
     ]
    },
    {
     "name": "stdout",
     "output_type": "stream",
     "text": [
      "Loaded checkpoint 'checkpoints/base_speakers/EN/checkpoint.pth'\n",
      "missing/unexpected keys: [] []\n",
      "Loaded checkpoint 'checkpoints/converter/checkpoint.pth'\n",
      "missing/unexpected keys: [] []\n",
      "OpenVoice version: v1\n",
      "[(0.43, 13.97), (14.51, 29.682), (29.966, 40.722), (41.038, 54.29), (55.086, 59.218), (59.662, 61.266), (62.51, 67.314), (67.438, 69.042), (69.646, 79.442), (80.334, 86.386), (86.414, 91.090875)]\n",
      "after vad: dur = 85.38802721088436\n",
      " > Text splitted to sentences.\n",
      "Hi, how are you.\n",
      " > ===========================\n",
      "haɪ, haʊ əɹ ju.\n",
      " length:15\n",
      " length:15\n",
      "Audio too short, fail to add watermark\n",
      "Cloned Voice Generated!\n"
     ]
    },
    {
     "name": "stderr",
     "output_type": "stream",
     "text": [
      "/opt/anaconda3/envs/openvoice/lib/python3.9/site-packages/torch/nn/utils/weight_norm.py:28: UserWarning: torch.nn.utils.weight_norm is deprecated in favor of torch.nn.utils.parametrizations.weight_norm.\n",
      "  warnings.warn(\"torch.nn.utils.weight_norm is deprecated in favor of torch.nn.utils.parametrizations.weight_norm.\")\n"
     ]
    },
    {
     "name": "stdout",
     "output_type": "stream",
     "text": [
      "Loaded checkpoint 'checkpoints/base_speakers/EN/checkpoint.pth'\n",
      "missing/unexpected keys: [] []\n",
      "Loaded checkpoint 'checkpoints/converter/checkpoint.pth'\n",
      "missing/unexpected keys: [] []\n",
      "OpenVoice version: v1\n",
      "[(0.43, 13.97), (14.51, 29.682), (29.966, 40.722), (41.038, 54.29), (55.086, 59.218), (59.662, 61.266), (62.51, 67.314), (67.438, 69.042), (69.646, 79.442), (80.334, 86.386), (86.414, 91.090875)]\n",
      "after vad: dur = 85.38802721088436\n",
      " > Text splitted to sentences.\n",
      "Hi, how are you.\n",
      " > ===========================\n",
      "haɪ, haʊ əɹ ju.\n",
      " length:15\n",
      " length:15\n",
      "Audio too short, fail to add watermark\n",
      "Cloned Voice Generated!\n"
     ]
    },
    {
     "name": "stderr",
     "output_type": "stream",
     "text": [
      "/opt/anaconda3/envs/openvoice/lib/python3.9/site-packages/torch/nn/utils/weight_norm.py:28: UserWarning: torch.nn.utils.weight_norm is deprecated in favor of torch.nn.utils.parametrizations.weight_norm.\n",
      "  warnings.warn(\"torch.nn.utils.weight_norm is deprecated in favor of torch.nn.utils.parametrizations.weight_norm.\")\n"
     ]
    },
    {
     "name": "stdout",
     "output_type": "stream",
     "text": [
      "Loaded checkpoint 'checkpoints/base_speakers/EN/checkpoint.pth'\n",
      "missing/unexpected keys: [] []\n",
      "Loaded checkpoint 'checkpoints/converter/checkpoint.pth'\n",
      "missing/unexpected keys: [] []\n",
      "OpenVoice version: v1\n",
      "[(0.43, 13.97), (14.51, 29.682), (29.966, 40.722), (41.038, 54.29), (55.086, 59.218), (59.662, 61.266), (62.51, 67.314), (67.438, 69.042), (69.646, 79.442), (80.334, 86.386), (86.414, 91.090875)]\n",
      "after vad: dur = 85.38802721088436\n",
      " > Text splitted to sentences.\n",
      "Hi, how are you.\n",
      " > ===========================\n",
      "haɪ, haʊ əɹ ju.\n",
      " length:15\n",
      " length:15\n",
      "Audio too short, fail to add watermark\n",
      "Cloned Voice Generated!\n"
     ]
    },
    {
     "name": "stderr",
     "output_type": "stream",
     "text": [
      "/opt/anaconda3/envs/openvoice/lib/python3.9/site-packages/torch/nn/utils/weight_norm.py:28: UserWarning: torch.nn.utils.weight_norm is deprecated in favor of torch.nn.utils.parametrizations.weight_norm.\n",
      "  warnings.warn(\"torch.nn.utils.weight_norm is deprecated in favor of torch.nn.utils.parametrizations.weight_norm.\")\n"
     ]
    },
    {
     "name": "stdout",
     "output_type": "stream",
     "text": [
      "Loaded checkpoint 'checkpoints/base_speakers/EN/checkpoint.pth'\n",
      "missing/unexpected keys: [] []\n",
      "Loaded checkpoint 'checkpoints/converter/checkpoint.pth'\n",
      "missing/unexpected keys: [] []\n",
      "OpenVoice version: v1\n",
      "[(0.43, 13.97), (14.51, 29.682), (29.966, 40.722), (41.038, 54.29), (55.086, 59.218), (59.662, 61.266), (62.51, 67.314), (67.438, 69.042), (69.646, 79.442), (80.334, 86.386), (86.414, 91.090875)]\n",
      "after vad: dur = 85.38802721088436\n",
      " > Text splitted to sentences.\n",
      "Hi, how are you.\n",
      " > ===========================\n",
      "haɪ, haʊ əɹ ju.\n",
      " length:15\n",
      " length:15\n",
      "Audio too short, fail to add watermark\n",
      "Cloned Voice Generated!\n"
     ]
    },
    {
     "name": "stderr",
     "output_type": "stream",
     "text": [
      "/opt/anaconda3/envs/openvoice/lib/python3.9/site-packages/torch/nn/utils/weight_norm.py:28: UserWarning: torch.nn.utils.weight_norm is deprecated in favor of torch.nn.utils.parametrizations.weight_norm.\n",
      "  warnings.warn(\"torch.nn.utils.weight_norm is deprecated in favor of torch.nn.utils.parametrizations.weight_norm.\")\n"
     ]
    },
    {
     "name": "stdout",
     "output_type": "stream",
     "text": [
      "Loaded checkpoint 'checkpoints/base_speakers/EN/checkpoint.pth'\n",
      "missing/unexpected keys: [] []\n",
      "Loaded checkpoint 'checkpoints/converter/checkpoint.pth'\n",
      "missing/unexpected keys: [] []\n",
      "OpenVoice version: v1\n",
      "[(0.43, 13.97), (14.51, 29.682), (29.966, 40.722), (41.038, 54.29), (55.086, 59.218), (59.662, 61.266), (62.51, 67.314), (67.438, 69.042), (69.646, 79.442), (80.334, 86.386), (86.414, 91.090875)]\n",
      "after vad: dur = 85.38802721088436\n",
      " > Text splitted to sentences.\n",
      "Hi, how are you.\n",
      " > ===========================\n",
      "haɪ, haʊ əɹ ju.\n",
      " length:15\n",
      " length:15\n",
      "Audio too short, fail to add watermark\n",
      "Cloned Voice Generated!\n"
     ]
    },
    {
     "name": "stderr",
     "output_type": "stream",
     "text": [
      "/opt/anaconda3/envs/openvoice/lib/python3.9/site-packages/torch/nn/utils/weight_norm.py:28: UserWarning: torch.nn.utils.weight_norm is deprecated in favor of torch.nn.utils.parametrizations.weight_norm.\n",
      "  warnings.warn(\"torch.nn.utils.weight_norm is deprecated in favor of torch.nn.utils.parametrizations.weight_norm.\")\n"
     ]
    },
    {
     "name": "stdout",
     "output_type": "stream",
     "text": [
      "Loaded checkpoint 'checkpoints/base_speakers/EN/checkpoint.pth'\n",
      "missing/unexpected keys: [] []\n",
      "Loaded checkpoint 'checkpoints/converter/checkpoint.pth'\n",
      "missing/unexpected keys: [] []\n",
      "OpenVoice version: v1\n",
      "[(0.43, 13.97), (14.51, 29.682), (29.966, 40.722), (41.038, 54.29), (55.086, 59.218), (59.662, 61.266), (62.51, 67.314), (67.438, 69.042), (69.646, 79.442), (80.334, 86.386), (86.414, 91.090875)]\n",
      "after vad: dur = 85.38802721088436\n",
      " > Text splitted to sentences.\n",
      "Hi, how are you.\n",
      " > ===========================\n",
      "haɪ, haʊ əɹ ju.\n",
      " length:15\n",
      " length:15\n",
      "Audio too short, fail to add watermark\n",
      "Cloned Voice Generated!\n"
     ]
    },
    {
     "name": "stderr",
     "output_type": "stream",
     "text": [
      "/opt/anaconda3/envs/openvoice/lib/python3.9/site-packages/torch/nn/utils/weight_norm.py:28: UserWarning: torch.nn.utils.weight_norm is deprecated in favor of torch.nn.utils.parametrizations.weight_norm.\n",
      "  warnings.warn(\"torch.nn.utils.weight_norm is deprecated in favor of torch.nn.utils.parametrizations.weight_norm.\")\n"
     ]
    },
    {
     "name": "stdout",
     "output_type": "stream",
     "text": [
      "Loaded checkpoint 'checkpoints/base_speakers/EN/checkpoint.pth'\n",
      "missing/unexpected keys: [] []\n",
      "Loaded checkpoint 'checkpoints/converter/checkpoint.pth'\n",
      "missing/unexpected keys: [] []\n",
      "OpenVoice version: v1\n",
      "[(0.43, 13.97), (14.51, 29.682), (29.966, 40.722), (41.038, 54.29), (55.086, 59.218), (59.662, 61.266), (62.51, 67.314), (67.438, 69.042), (69.646, 79.442), (80.334, 86.386), (86.414, 91.090875)]\n",
      "after vad: dur = 85.38802721088436\n",
      " > Text splitted to sentences.\n",
      "Hi, how are you.\n",
      " > ===========================\n",
      "haɪ, haʊ əɹ ju.\n",
      " length:15\n",
      " length:15\n",
      "Audio too short, fail to add watermark\n",
      "Cloned Voice Generated!\n"
     ]
    },
    {
     "name": "stderr",
     "output_type": "stream",
     "text": [
      "/opt/anaconda3/envs/openvoice/lib/python3.9/site-packages/torch/nn/utils/weight_norm.py:28: UserWarning: torch.nn.utils.weight_norm is deprecated in favor of torch.nn.utils.parametrizations.weight_norm.\n",
      "  warnings.warn(\"torch.nn.utils.weight_norm is deprecated in favor of torch.nn.utils.parametrizations.weight_norm.\")\n"
     ]
    },
    {
     "name": "stdout",
     "output_type": "stream",
     "text": [
      "Loaded checkpoint 'checkpoints/base_speakers/EN/checkpoint.pth'\n",
      "missing/unexpected keys: [] []\n",
      "Loaded checkpoint 'checkpoints/converter/checkpoint.pth'\n",
      "missing/unexpected keys: [] []\n",
      "OpenVoice version: v1\n",
      "[(0.43, 13.97), (14.51, 29.682), (29.966, 40.722), (41.038, 54.29), (55.086, 59.218), (59.662, 61.266), (62.51, 67.314), (67.438, 69.042), (69.646, 79.442), (80.334, 86.386), (86.414, 91.090875)]\n",
      "after vad: dur = 85.38802721088436\n",
      " > Text splitted to sentences.\n",
      "Hi, how are you.\n",
      " > ===========================\n",
      "haɪ, haʊ əɹ ju.\n",
      " length:15\n",
      " length:15\n",
      "Audio too short, fail to add watermark\n",
      "Cloned Voice Generated!\n"
     ]
    },
    {
     "name": "stderr",
     "output_type": "stream",
     "text": [
      "/opt/anaconda3/envs/openvoice/lib/python3.9/site-packages/torch/nn/utils/weight_norm.py:28: UserWarning: torch.nn.utils.weight_norm is deprecated in favor of torch.nn.utils.parametrizations.weight_norm.\n",
      "  warnings.warn(\"torch.nn.utils.weight_norm is deprecated in favor of torch.nn.utils.parametrizations.weight_norm.\")\n"
     ]
    },
    {
     "name": "stdout",
     "output_type": "stream",
     "text": [
      "Loaded checkpoint 'checkpoints/base_speakers/EN/checkpoint.pth'\n",
      "missing/unexpected keys: [] []\n",
      "Loaded checkpoint 'checkpoints/converter/checkpoint.pth'\n",
      "missing/unexpected keys: [] []\n",
      "OpenVoice version: v1\n",
      "[(0.43, 13.97), (14.51, 29.682), (29.966, 40.722), (41.038, 54.29), (55.086, 59.218), (59.662, 61.266), (62.51, 67.314), (67.438, 69.042), (69.646, 79.442), (80.334, 86.386), (86.414, 91.090875)]\n",
      "after vad: dur = 85.38802721088436\n",
      " > Text splitted to sentences.\n",
      "Hi, how are you.\n",
      " > ===========================\n",
      "haɪ, haʊ əɹ ju.\n",
      " length:15\n",
      " length:15\n",
      "Audio too short, fail to add watermark\n",
      "Cloned Voice Generated!\n"
     ]
    },
    {
     "name": "stderr",
     "output_type": "stream",
     "text": [
      "/opt/anaconda3/envs/openvoice/lib/python3.9/site-packages/torch/nn/utils/weight_norm.py:28: UserWarning: torch.nn.utils.weight_norm is deprecated in favor of torch.nn.utils.parametrizations.weight_norm.\n",
      "  warnings.warn(\"torch.nn.utils.weight_norm is deprecated in favor of torch.nn.utils.parametrizations.weight_norm.\")\n"
     ]
    },
    {
     "name": "stdout",
     "output_type": "stream",
     "text": [
      "Loaded checkpoint 'checkpoints/base_speakers/EN/checkpoint.pth'\n",
      "missing/unexpected keys: [] []\n",
      "Loaded checkpoint 'checkpoints/converter/checkpoint.pth'\n",
      "missing/unexpected keys: [] []\n",
      "OpenVoice version: v1\n",
      "[(0.43, 13.97), (14.51, 29.682), (29.966, 40.722), (41.038, 54.29), (55.086, 59.218), (59.662, 61.266), (62.51, 67.314), (67.438, 69.042), (69.646, 79.442), (80.334, 86.386), (86.414, 91.090875)]\n",
      "after vad: dur = 85.38802721088436\n",
      " > Text splitted to sentences.\n",
      "Hi, how are you.\n",
      " > ===========================\n",
      "haɪ, haʊ əɹ ju.\n",
      " length:15\n",
      " length:15\n",
      "Audio too short, fail to add watermark\n",
      "Cloned Voice Generated!\n",
      "[2.644456648826599, 2.938179302215576, 3.923561453819275]\n"
     ]
    }
   ],
   "source": [
    "import time\n",
    "execution_times = []\n",
    "audiolist = [\"resources/demo_speaker0.mp3\", \"resources/demo_speaker2.mp3\", \"resources/demo_speaker1.mp3\"] \n",
    "audio_lengths = [19,29,91]\n",
    "for audio in audiolist:\n",
    "    execution_time = avg_execution_time(audio, \"Hi, how are you.\")\n",
    "    execution_times.append(execution_time)\n",
    "\n",
    "print(execution_times)"
   ]
  },
  {
   "cell_type": "code",
   "execution_count": 16,
   "metadata": {},
   "outputs": [
    {
     "data": {
      "image/png": "[encoded data removed]",
      "text/plain": [
       "<Figure size 800x600 with 1 Axes>"
      ]
     },
     "metadata": {},
     "output_type": "display_data"
    }
   ],
   "source": [
    "import matplotlib.pyplot as plt\n",
    "\n",
    "audio_lengths = [19, 29, 91]\n",
    "execution_times = [1, 2, 3]\n",
    "\n",
    "plt.figure(figsize=(8, 6))\n",
    "plt.plot(audio_lengths, execution_times, marker='o')\n",
    "plt.xlabel('Audio Length (seconds)')\n",
    "plt.ylabel('Execution Time (seconds)')\n",
    "plt.title('Execution Time vs Audio Length')\n",
    "plt.grid(True)\n",
    "plt.show()\n"
   ]
  }
 ],
 "metadata": {
  "kernelspec": {
   "display_name": "openvoice",
   "language": "python",
   "name": "python3"
  },
  "language_info": {
   "codemirror_mode": {
    "name": "ipython",
    "version": 3
   },
   "file_extension": ".py",
   "mimetype": "text/x-python",
   "name": "python",
   "nbconvert_exporter": "python",
   "pygments_lexer": "ipython3",
   "version": "3.9.18"
  }
 },
 "nbformat": 4,
 "nbformat_minor": 2
}
